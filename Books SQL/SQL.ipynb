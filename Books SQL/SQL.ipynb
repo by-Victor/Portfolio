{
 "cells": [
  {
   "cell_type": "markdown",
   "metadata": {},
   "source": [
    "# Цель исследования\n",
    "\n",
    "Компания стартап решила купить крупный сервис для чтения книг по подписке. Наша задача проанализировать данные которые мы имеем. База данных содержит информацию о книгах, оценках, рейтингах, издательствах и пользовательских обзорах книг.\n",
    "\n",
    "Задания\n",
    "\n",
    "   - Посчитайте, сколько книг вышло после 1 января 2000 года;\n",
    "   - Для каждой книги посчитайте количество обзоров и среднюю оценку;\n",
    "   - Определите издательство, которое выпустило наибольшее число книг толще 50 страниц — так вы исключите из анализа брошюры;\n",
    "   - Определите автора с самой высокой средней оценкой книг — учитывайте только книги с 50 и более оценками;\n",
    "   - Посчитайте среднее количество обзоров от пользователей, которые поставили больше 48 оценок.\n",
    "   \n",
    "Описание данных\n",
    "   \n",
    "    Таблица books\n",
    "    Содержит данные о книгах:\n",
    "      - book_id — идентификатор книги;\n",
    "      - author_id — идентификатор автора;\n",
    "      - title — название книги;\n",
    "      - num_pages — количество страниц;\n",
    "      - publication_date — дата публикации книги;\n",
    "      - publisher_id — идентификатор издателя.\n",
    "    \n",
    "    Таблица authors\n",
    "    Содержит данные об авторах:\n",
    "      - author_id — идентификатор автора;\n",
    "      - author — имя автора.\n",
    "\n",
    "    Таблица publishers\n",
    "    Содержит данные об издательствах:\n",
    "      - publisher_id — идентификатор издательства;\n",
    "      - publisher — название издательства;\n",
    "\n",
    "    Таблица ratings\n",
    "    Содержит данные о пользовательских оценках книг:\n",
    "      - rating_id — идентификатор оценки;\n",
    "      - book_id — идентификатор книги;\n",
    "      - username — имя пользователя, оставившего оценку;\n",
    "      - rating — оценка книги.\n",
    "    \n",
    "    Таблица reviews\n",
    "    Содержит данные о пользовательских обзорах:\n",
    "      - review_id — идентификатор обзора;\n",
    "      - book_id — идентификатор книги;\n",
    "      - username — имя автора обзора;\n",
    "      - text — текст обзора."
   ]
  },
  {
   "cell_type": "code",
   "execution_count": 27,
   "metadata": {},
   "outputs": [],
   "source": [
    "# импортируем библиотеки\n",
    "import pandas as pd\n",
    "from sqlalchemy import text, create_engine"
   ]
  },
  {
   "cell_type": "code",
   "execution_count": 28,
   "metadata": {},
   "outputs": [],
   "source": [
    "# устанавливаем параметры\n",
    "db_config = {'user': 'praktikum_student', # имя пользователя\n",
    "'pwd': 'Sdf4$2;d-d30pp', # пароль\n",
    "'host': 'rc1b-wcoijxj3yxfsf3fs.mdb.yandexcloud.net',\n",
    "'port': 6432, # порт подключения\n",
    "'db': 'data-analyst-final-project-db'} # название базы данных\n",
    "connection_string = 'postgresql://{user}:{pwd}@{host}:{port}/{db}'.format(**db_config)"
   ]
  },
  {
   "cell_type": "code",
   "execution_count": 29,
   "metadata": {},
   "outputs": [],
   "source": [
    "# сохраняем коннектор\n",
    "engine = create_engine(connection_string, connect_args={'sslmode':'require'})"
   ]
  },
  {
   "cell_type": "code",
   "execution_count": 30,
   "metadata": {},
   "outputs": [
    {
     "data": {
      "text/html": [
       "<div>\n",
       "<style scoped>\n",
       "    .dataframe tbody tr th:only-of-type {\n",
       "        vertical-align: middle;\n",
       "    }\n",
       "\n",
       "    .dataframe tbody tr th {\n",
       "        vertical-align: top;\n",
       "    }\n",
       "\n",
       "    .dataframe thead th {\n",
       "        text-align: right;\n",
       "    }\n",
       "</style>\n",
       "<table border=\"1\" class=\"dataframe\">\n",
       "  <thead>\n",
       "    <tr style=\"text-align: right;\">\n",
       "      <th></th>\n",
       "      <th>book_id</th>\n",
       "      <th>author_id</th>\n",
       "      <th>title</th>\n",
       "      <th>num_pages</th>\n",
       "      <th>publication_date</th>\n",
       "      <th>publisher_id</th>\n",
       "    </tr>\n",
       "  </thead>\n",
       "  <tbody>\n",
       "    <tr>\n",
       "      <th>0</th>\n",
       "      <td>1</td>\n",
       "      <td>546</td>\n",
       "      <td>'Salem's Lot</td>\n",
       "      <td>594</td>\n",
       "      <td>2005-11-01</td>\n",
       "      <td>93</td>\n",
       "    </tr>\n",
       "    <tr>\n",
       "      <th>1</th>\n",
       "      <td>2</td>\n",
       "      <td>465</td>\n",
       "      <td>1 000 Places to See Before You Die</td>\n",
       "      <td>992</td>\n",
       "      <td>2003-05-22</td>\n",
       "      <td>336</td>\n",
       "    </tr>\n",
       "    <tr>\n",
       "      <th>2</th>\n",
       "      <td>3</td>\n",
       "      <td>407</td>\n",
       "      <td>13 Little Blue Envelopes (Little Blue Envelope...</td>\n",
       "      <td>322</td>\n",
       "      <td>2010-12-21</td>\n",
       "      <td>135</td>\n",
       "    </tr>\n",
       "    <tr>\n",
       "      <th>3</th>\n",
       "      <td>4</td>\n",
       "      <td>82</td>\n",
       "      <td>1491: New Revelations of the Americas Before C...</td>\n",
       "      <td>541</td>\n",
       "      <td>2006-10-10</td>\n",
       "      <td>309</td>\n",
       "    </tr>\n",
       "    <tr>\n",
       "      <th>4</th>\n",
       "      <td>5</td>\n",
       "      <td>125</td>\n",
       "      <td>1776</td>\n",
       "      <td>386</td>\n",
       "      <td>2006-07-04</td>\n",
       "      <td>268</td>\n",
       "    </tr>\n",
       "  </tbody>\n",
       "</table>\n",
       "</div>"
      ],
      "text/plain": [
       "   book_id  author_id                                              title  \\\n",
       "0        1        546                                       'Salem's Lot   \n",
       "1        2        465                 1 000 Places to See Before You Die   \n",
       "2        3        407  13 Little Blue Envelopes (Little Blue Envelope...   \n",
       "3        4         82  1491: New Revelations of the Americas Before C...   \n",
       "4        5        125                                               1776   \n",
       "\n",
       "   num_pages publication_date  publisher_id  \n",
       "0        594       2005-11-01            93  \n",
       "1        992       2003-05-22           336  \n",
       "2        322       2010-12-21           135  \n",
       "3        541       2006-10-10           309  \n",
       "4        386       2006-07-04           268  "
      ]
     },
     "execution_count": 30,
     "metadata": {},
     "output_type": "execute_result"
    }
   ],
   "source": [
    "#books\n",
    "books = '''SELECT * FROM books LIMIT 5'''\n",
    "con=engine.connect()\n",
    "pd.io.sql.read_sql(sql=text(books), con = con)"
   ]
  },
  {
   "cell_type": "code",
   "execution_count": 31,
   "metadata": {},
   "outputs": [
    {
     "data": {
      "text/html": [
       "<div>\n",
       "<style scoped>\n",
       "    .dataframe tbody tr th:only-of-type {\n",
       "        vertical-align: middle;\n",
       "    }\n",
       "\n",
       "    .dataframe tbody tr th {\n",
       "        vertical-align: top;\n",
       "    }\n",
       "\n",
       "    .dataframe thead th {\n",
       "        text-align: right;\n",
       "    }\n",
       "</style>\n",
       "<table border=\"1\" class=\"dataframe\">\n",
       "  <thead>\n",
       "    <tr style=\"text-align: right;\">\n",
       "      <th></th>\n",
       "      <th>author_id</th>\n",
       "      <th>author</th>\n",
       "    </tr>\n",
       "  </thead>\n",
       "  <tbody>\n",
       "    <tr>\n",
       "      <th>0</th>\n",
       "      <td>1</td>\n",
       "      <td>A.S. Byatt</td>\n",
       "    </tr>\n",
       "    <tr>\n",
       "      <th>1</th>\n",
       "      <td>2</td>\n",
       "      <td>Aesop/Laura Harris/Laura Gibbs</td>\n",
       "    </tr>\n",
       "    <tr>\n",
       "      <th>2</th>\n",
       "      <td>3</td>\n",
       "      <td>Agatha Christie</td>\n",
       "    </tr>\n",
       "    <tr>\n",
       "      <th>3</th>\n",
       "      <td>4</td>\n",
       "      <td>Alan Brennert</td>\n",
       "    </tr>\n",
       "    <tr>\n",
       "      <th>4</th>\n",
       "      <td>5</td>\n",
       "      <td>Alan Moore/David   Lloyd</td>\n",
       "    </tr>\n",
       "  </tbody>\n",
       "</table>\n",
       "</div>"
      ],
      "text/plain": [
       "   author_id                          author\n",
       "0          1                      A.S. Byatt\n",
       "1          2  Aesop/Laura Harris/Laura Gibbs\n",
       "2          3                 Agatha Christie\n",
       "3          4                   Alan Brennert\n",
       "4          5        Alan Moore/David   Lloyd"
      ]
     },
     "execution_count": 31,
     "metadata": {},
     "output_type": "execute_result"
    }
   ],
   "source": [
    "#authors\n",
    "authors = '''SELECT * FROM authors LIMIT 5'''\n",
    "con=engine.connect()\n",
    "pd.io.sql.read_sql(sql=text(authors), con = con)"
   ]
  },
  {
   "cell_type": "code",
   "execution_count": 32,
   "metadata": {},
   "outputs": [
    {
     "data": {
      "text/html": [
       "<div>\n",
       "<style scoped>\n",
       "    .dataframe tbody tr th:only-of-type {\n",
       "        vertical-align: middle;\n",
       "    }\n",
       "\n",
       "    .dataframe tbody tr th {\n",
       "        vertical-align: top;\n",
       "    }\n",
       "\n",
       "    .dataframe thead th {\n",
       "        text-align: right;\n",
       "    }\n",
       "</style>\n",
       "<table border=\"1\" class=\"dataframe\">\n",
       "  <thead>\n",
       "    <tr style=\"text-align: right;\">\n",
       "      <th></th>\n",
       "      <th>rating_id</th>\n",
       "      <th>book_id</th>\n",
       "      <th>username</th>\n",
       "      <th>rating</th>\n",
       "    </tr>\n",
       "  </thead>\n",
       "  <tbody>\n",
       "    <tr>\n",
       "      <th>0</th>\n",
       "      <td>1</td>\n",
       "      <td>1</td>\n",
       "      <td>ryanfranco</td>\n",
       "      <td>4</td>\n",
       "    </tr>\n",
       "    <tr>\n",
       "      <th>1</th>\n",
       "      <td>2</td>\n",
       "      <td>1</td>\n",
       "      <td>grantpatricia</td>\n",
       "      <td>2</td>\n",
       "    </tr>\n",
       "    <tr>\n",
       "      <th>2</th>\n",
       "      <td>3</td>\n",
       "      <td>1</td>\n",
       "      <td>brandtandrea</td>\n",
       "      <td>5</td>\n",
       "    </tr>\n",
       "    <tr>\n",
       "      <th>3</th>\n",
       "      <td>4</td>\n",
       "      <td>2</td>\n",
       "      <td>lorichen</td>\n",
       "      <td>3</td>\n",
       "    </tr>\n",
       "    <tr>\n",
       "      <th>4</th>\n",
       "      <td>5</td>\n",
       "      <td>2</td>\n",
       "      <td>mariokeller</td>\n",
       "      <td>2</td>\n",
       "    </tr>\n",
       "  </tbody>\n",
       "</table>\n",
       "</div>"
      ],
      "text/plain": [
       "   rating_id  book_id       username  rating\n",
       "0          1        1     ryanfranco       4\n",
       "1          2        1  grantpatricia       2\n",
       "2          3        1   brandtandrea       5\n",
       "3          4        2       lorichen       3\n",
       "4          5        2    mariokeller       2"
      ]
     },
     "execution_count": 32,
     "metadata": {},
     "output_type": "execute_result"
    }
   ],
   "source": [
    "#ratings\n",
    "ratings = '''SELECT * FROM ratings LIMIT 5'''\n",
    "con=engine.connect()\n",
    "pd.io.sql.read_sql(sql=text(ratings), con = con)"
   ]
  },
  {
   "cell_type": "code",
   "execution_count": 33,
   "metadata": {},
   "outputs": [
    {
     "data": {
      "text/html": [
       "<div>\n",
       "<style scoped>\n",
       "    .dataframe tbody tr th:only-of-type {\n",
       "        vertical-align: middle;\n",
       "    }\n",
       "\n",
       "    .dataframe tbody tr th {\n",
       "        vertical-align: top;\n",
       "    }\n",
       "\n",
       "    .dataframe thead th {\n",
       "        text-align: right;\n",
       "    }\n",
       "</style>\n",
       "<table border=\"1\" class=\"dataframe\">\n",
       "  <thead>\n",
       "    <tr style=\"text-align: right;\">\n",
       "      <th></th>\n",
       "      <th>review_id</th>\n",
       "      <th>book_id</th>\n",
       "      <th>username</th>\n",
       "      <th>text</th>\n",
       "    </tr>\n",
       "  </thead>\n",
       "  <tbody>\n",
       "    <tr>\n",
       "      <th>0</th>\n",
       "      <td>1</td>\n",
       "      <td>1</td>\n",
       "      <td>brandtandrea</td>\n",
       "      <td>Mention society tell send professor analysis. ...</td>\n",
       "    </tr>\n",
       "    <tr>\n",
       "      <th>1</th>\n",
       "      <td>2</td>\n",
       "      <td>1</td>\n",
       "      <td>ryanfranco</td>\n",
       "      <td>Foot glass pretty audience hit themselves. Amo...</td>\n",
       "    </tr>\n",
       "    <tr>\n",
       "      <th>2</th>\n",
       "      <td>3</td>\n",
       "      <td>2</td>\n",
       "      <td>lorichen</td>\n",
       "      <td>Listen treat keep worry. Miss husband tax but ...</td>\n",
       "    </tr>\n",
       "    <tr>\n",
       "      <th>3</th>\n",
       "      <td>4</td>\n",
       "      <td>3</td>\n",
       "      <td>johnsonamanda</td>\n",
       "      <td>Finally month interesting blue could nature cu...</td>\n",
       "    </tr>\n",
       "    <tr>\n",
       "      <th>4</th>\n",
       "      <td>5</td>\n",
       "      <td>3</td>\n",
       "      <td>scotttamara</td>\n",
       "      <td>Nation purpose heavy give wait song will. List...</td>\n",
       "    </tr>\n",
       "  </tbody>\n",
       "</table>\n",
       "</div>"
      ],
      "text/plain": [
       "   review_id  book_id       username  \\\n",
       "0          1        1   brandtandrea   \n",
       "1          2        1     ryanfranco   \n",
       "2          3        2       lorichen   \n",
       "3          4        3  johnsonamanda   \n",
       "4          5        3    scotttamara   \n",
       "\n",
       "                                                text  \n",
       "0  Mention society tell send professor analysis. ...  \n",
       "1  Foot glass pretty audience hit themselves. Amo...  \n",
       "2  Listen treat keep worry. Miss husband tax but ...  \n",
       "3  Finally month interesting blue could nature cu...  \n",
       "4  Nation purpose heavy give wait song will. List...  "
      ]
     },
     "execution_count": 33,
     "metadata": {},
     "output_type": "execute_result"
    }
   ],
   "source": [
    "#reviews\n",
    "reviews = '''SELECT * FROM reviews LIMIT 5'''\n",
    "con=engine.connect()\n",
    "pd.io.sql.read_sql(sql=text(reviews), con = con)"
   ]
  },
  {
   "cell_type": "code",
   "execution_count": 34,
   "metadata": {},
   "outputs": [
    {
     "data": {
      "text/html": [
       "<div>\n",
       "<style scoped>\n",
       "    .dataframe tbody tr th:only-of-type {\n",
       "        vertical-align: middle;\n",
       "    }\n",
       "\n",
       "    .dataframe tbody tr th {\n",
       "        vertical-align: top;\n",
       "    }\n",
       "\n",
       "    .dataframe thead th {\n",
       "        text-align: right;\n",
       "    }\n",
       "</style>\n",
       "<table border=\"1\" class=\"dataframe\">\n",
       "  <thead>\n",
       "    <tr style=\"text-align: right;\">\n",
       "      <th></th>\n",
       "      <th>publisher_id</th>\n",
       "      <th>publisher</th>\n",
       "    </tr>\n",
       "  </thead>\n",
       "  <tbody>\n",
       "    <tr>\n",
       "      <th>0</th>\n",
       "      <td>1</td>\n",
       "      <td>Ace</td>\n",
       "    </tr>\n",
       "    <tr>\n",
       "      <th>1</th>\n",
       "      <td>2</td>\n",
       "      <td>Ace Book</td>\n",
       "    </tr>\n",
       "    <tr>\n",
       "      <th>2</th>\n",
       "      <td>3</td>\n",
       "      <td>Ace Books</td>\n",
       "    </tr>\n",
       "    <tr>\n",
       "      <th>3</th>\n",
       "      <td>4</td>\n",
       "      <td>Ace Hardcover</td>\n",
       "    </tr>\n",
       "    <tr>\n",
       "      <th>4</th>\n",
       "      <td>5</td>\n",
       "      <td>Addison Wesley Publishing Company</td>\n",
       "    </tr>\n",
       "  </tbody>\n",
       "</table>\n",
       "</div>"
      ],
      "text/plain": [
       "   publisher_id                          publisher\n",
       "0             1                                Ace\n",
       "1             2                           Ace Book\n",
       "2             3                          Ace Books\n",
       "3             4                      Ace Hardcover\n",
       "4             5  Addison Wesley Publishing Company"
      ]
     },
     "execution_count": 34,
     "metadata": {},
     "output_type": "execute_result"
    }
   ],
   "source": [
    "#publishers\n",
    "publishers = '''SELECT * FROM publishers LIMIT 5'''\n",
    "con=engine.connect()\n",
    "pd.io.sql.read_sql(sql=text(publishers), con = con)"
   ]
  },
  {
   "cell_type": "markdown",
   "metadata": {},
   "source": [
    "### Посчитайте, сколько книг вышло после 1 января 2000 года;"
   ]
  },
  {
   "cell_type": "code",
   "execution_count": 35,
   "metadata": {},
   "outputs": [
    {
     "data": {
      "text/html": [
       "<div>\n",
       "<style scoped>\n",
       "    .dataframe tbody tr th:only-of-type {\n",
       "        vertical-align: middle;\n",
       "    }\n",
       "\n",
       "    .dataframe tbody tr th {\n",
       "        vertical-align: top;\n",
       "    }\n",
       "\n",
       "    .dataframe thead th {\n",
       "        text-align: right;\n",
       "    }\n",
       "</style>\n",
       "<table border=\"1\" class=\"dataframe\">\n",
       "  <thead>\n",
       "    <tr style=\"text-align: right;\">\n",
       "      <th></th>\n",
       "      <th>count</th>\n",
       "    </tr>\n",
       "  </thead>\n",
       "  <tbody>\n",
       "    <tr>\n",
       "      <th>0</th>\n",
       "      <td>819</td>\n",
       "    </tr>\n",
       "  </tbody>\n",
       "</table>\n",
       "</div>"
      ],
      "text/plain": [
       "   count\n",
       "0    819"
      ]
     },
     "execution_count": 35,
     "metadata": {},
     "output_type": "execute_result"
    }
   ],
   "source": [
    "query = '''\n",
    "SELECT COUNT(book_id)\n",
    "FROM books\n",
    "WHERE publication_date > '2000-01-01'\n",
    "'''\n",
    "con=engine.connect()\n",
    "pd.io.sql.read_sql(sql=text(query), con = con)"
   ]
  },
  {
   "cell_type": "markdown",
   "metadata": {},
   "source": [
    "После 1 января 2000 года вышло 819 книг."
   ]
  },
  {
   "cell_type": "markdown",
   "metadata": {},
   "source": [
    "### Для каждой книги посчитайте количество обзоров и среднюю оценку;"
   ]
  },
  {
   "cell_type": "code",
   "execution_count": 68,
   "metadata": {},
   "outputs": [
    {
     "data": {
      "text/html": [
       "<div>\n",
       "<style scoped>\n",
       "    .dataframe tbody tr th:only-of-type {\n",
       "        vertical-align: middle;\n",
       "    }\n",
       "\n",
       "    .dataframe tbody tr th {\n",
       "        vertical-align: top;\n",
       "    }\n",
       "\n",
       "    .dataframe thead th {\n",
       "        text-align: right;\n",
       "    }\n",
       "</style>\n",
       "<table border=\"1\" class=\"dataframe\">\n",
       "  <thead>\n",
       "    <tr style=\"text-align: right;\">\n",
       "      <th></th>\n",
       "      <th>name_books</th>\n",
       "      <th>count_reviews</th>\n",
       "      <th>avg_rating</th>\n",
       "    </tr>\n",
       "  </thead>\n",
       "  <tbody>\n",
       "    <tr>\n",
       "      <th>0</th>\n",
       "      <td>A Dirty Job (Grim Reaper  #1)</td>\n",
       "      <td>4</td>\n",
       "      <td>5.00</td>\n",
       "    </tr>\n",
       "    <tr>\n",
       "      <th>1</th>\n",
       "      <td>School's Out—Forever (Maximum Ride  #2)</td>\n",
       "      <td>3</td>\n",
       "      <td>5.00</td>\n",
       "    </tr>\n",
       "    <tr>\n",
       "      <th>2</th>\n",
       "      <td>Moneyball: The Art of Winning an Unfair Game</td>\n",
       "      <td>3</td>\n",
       "      <td>5.00</td>\n",
       "    </tr>\n",
       "    <tr>\n",
       "      <th>3</th>\n",
       "      <td>The Big Bad Wolf  (Alex Cross  #9)</td>\n",
       "      <td>2</td>\n",
       "      <td>5.00</td>\n",
       "    </tr>\n",
       "    <tr>\n",
       "      <th>4</th>\n",
       "      <td>Welcome to Temptation (Dempseys  #1)</td>\n",
       "      <td>2</td>\n",
       "      <td>5.00</td>\n",
       "    </tr>\n",
       "    <tr>\n",
       "      <th>...</th>\n",
       "      <td>...</td>\n",
       "      <td>...</td>\n",
       "      <td>...</td>\n",
       "    </tr>\n",
       "    <tr>\n",
       "      <th>995</th>\n",
       "      <td>The World Is Flat: A Brief History of the Twen...</td>\n",
       "      <td>3</td>\n",
       "      <td>2.25</td>\n",
       "    </tr>\n",
       "    <tr>\n",
       "      <th>996</th>\n",
       "      <td>Drowning Ruth</td>\n",
       "      <td>3</td>\n",
       "      <td>2.00</td>\n",
       "    </tr>\n",
       "    <tr>\n",
       "      <th>997</th>\n",
       "      <td>His Excellency: George Washington</td>\n",
       "      <td>2</td>\n",
       "      <td>2.00</td>\n",
       "    </tr>\n",
       "    <tr>\n",
       "      <th>998</th>\n",
       "      <td>Junky</td>\n",
       "      <td>2</td>\n",
       "      <td>2.00</td>\n",
       "    </tr>\n",
       "    <tr>\n",
       "      <th>999</th>\n",
       "      <td>Harvesting the Heart</td>\n",
       "      <td>2</td>\n",
       "      <td>1.50</td>\n",
       "    </tr>\n",
       "  </tbody>\n",
       "</table>\n",
       "<p>1000 rows × 3 columns</p>\n",
       "</div>"
      ],
      "text/plain": [
       "                                            name_books  count_reviews  \\\n",
       "0                        A Dirty Job (Grim Reaper  #1)              4   \n",
       "1              School's Out—Forever (Maximum Ride  #2)              3   \n",
       "2         Moneyball: The Art of Winning an Unfair Game              3   \n",
       "3                   The Big Bad Wolf  (Alex Cross  #9)              2   \n",
       "4                 Welcome to Temptation (Dempseys  #1)              2   \n",
       "..                                                 ...            ...   \n",
       "995  The World Is Flat: A Brief History of the Twen...              3   \n",
       "996                                      Drowning Ruth              3   \n",
       "997                  His Excellency: George Washington              2   \n",
       "998                                              Junky              2   \n",
       "999                               Harvesting the Heart              2   \n",
       "\n",
       "     avg_rating  \n",
       "0          5.00  \n",
       "1          5.00  \n",
       "2          5.00  \n",
       "3          5.00  \n",
       "4          5.00  \n",
       "..          ...  \n",
       "995        2.25  \n",
       "996        2.00  \n",
       "997        2.00  \n",
       "998        2.00  \n",
       "999        1.50  \n",
       "\n",
       "[1000 rows x 3 columns]"
      ]
     },
     "execution_count": 68,
     "metadata": {},
     "output_type": "execute_result"
    }
   ],
   "source": [
    "count_books_avg_reviews_rating = '''\n",
    "SELECT title AS name_books,\n",
    "       COUNT(DISTINCT review_id) AS count_reviews,\n",
    "       ROUND(AVG(ra.rating), 2) AS avg_rating\n",
    "FROM books AS b\n",
    "LEFT JOIN ratings AS ra ON b.book_id=ra.book_id\n",
    "LEFT JOIN reviews AS re ON ra.book_id=re.book_id\n",
    "GROUP BY title, b.book_id\n",
    "ORDER BY avg_rating DESC, count_reviews DESC\n",
    "'''\n",
    "con=engine.connect()\n",
    "pd.io.sql.read_sql(sql=text(count_books_avg_reviews_rating), con = con)"
   ]
  },
  {
   "cell_type": "markdown",
   "metadata": {},
   "source": [
    "Выше мы вывели онформацию:\n",
    "   - name_books - название книги\n",
    "   - count_reviews - количество обзоров\n",
    "   - avg_rating - средняя оценка"
   ]
  },
  {
   "cell_type": "markdown",
   "metadata": {},
   "source": [
    "### Определите издательство, которое выпустило наибольшее число книг толще 50 страниц — так вы исключите из анализа брошюры;"
   ]
  },
  {
   "cell_type": "code",
   "execution_count": 37,
   "metadata": {},
   "outputs": [
    {
     "data": {
      "text/html": [
       "<div>\n",
       "<style scoped>\n",
       "    .dataframe tbody tr th:only-of-type {\n",
       "        vertical-align: middle;\n",
       "    }\n",
       "\n",
       "    .dataframe tbody tr th {\n",
       "        vertical-align: top;\n",
       "    }\n",
       "\n",
       "    .dataframe thead th {\n",
       "        text-align: right;\n",
       "    }\n",
       "</style>\n",
       "<table border=\"1\" class=\"dataframe\">\n",
       "  <thead>\n",
       "    <tr style=\"text-align: right;\">\n",
       "      <th></th>\n",
       "      <th>publisher</th>\n",
       "      <th>count_books</th>\n",
       "    </tr>\n",
       "  </thead>\n",
       "  <tbody>\n",
       "    <tr>\n",
       "      <th>0</th>\n",
       "      <td>Penguin Books</td>\n",
       "      <td>42</td>\n",
       "    </tr>\n",
       "  </tbody>\n",
       "</table>\n",
       "</div>"
      ],
      "text/plain": [
       "       publisher  count_books\n",
       "0  Penguin Books           42"
      ]
     },
     "execution_count": 37,
     "metadata": {},
     "output_type": "execute_result"
    }
   ],
   "source": [
    "query = '''\n",
    "WITH t1 AS (SELECT publisher,\n",
    "                   COUNT(book_id) AS count_books\n",
    "            FROM books AS b \n",
    "            JOIN publishers AS p ON b.publisher_id=p.publisher_id\n",
    "            WHERE num_pages > 50\n",
    "            GROUP BY publisher)\n",
    "SELECT *\n",
    "FROM t1\n",
    "WHERE count_books = (SELECT MAX(count_books) FROM t1)\n",
    "'''\n",
    "con=engine.connect()\n",
    "pd.io.sql.read_sql(sql=text(query), con = con)"
   ]
  },
  {
   "cell_type": "markdown",
   "metadata": {},
   "source": [
    "Наибольшее количество книг выпустило издательство Penguin Books и составило 42 книги."
   ]
  },
  {
   "cell_type": "markdown",
   "metadata": {},
   "source": [
    "### Определите автора с самой высокой средней оценкой книг — учитывайте только книги с 50 и более оценками;"
   ]
  },
  {
   "cell_type": "code",
   "execution_count": 69,
   "metadata": {},
   "outputs": [
    {
     "data": {
      "text/html": [
       "<div>\n",
       "<style scoped>\n",
       "    .dataframe tbody tr th:only-of-type {\n",
       "        vertical-align: middle;\n",
       "    }\n",
       "\n",
       "    .dataframe tbody tr th {\n",
       "        vertical-align: top;\n",
       "    }\n",
       "\n",
       "    .dataframe thead th {\n",
       "        text-align: right;\n",
       "    }\n",
       "</style>\n",
       "<table border=\"1\" class=\"dataframe\">\n",
       "  <thead>\n",
       "    <tr style=\"text-align: right;\">\n",
       "      <th></th>\n",
       "      <th>author</th>\n",
       "      <th>avg_rating_avg</th>\n",
       "    </tr>\n",
       "  </thead>\n",
       "  <tbody>\n",
       "    <tr>\n",
       "      <th>0</th>\n",
       "      <td>J.K. Rowling/Mary GrandPré</td>\n",
       "      <td>4.283844</td>\n",
       "    </tr>\n",
       "    <tr>\n",
       "      <th>1</th>\n",
       "      <td>Markus Zusak/Cao Xuân Việt Khương</td>\n",
       "      <td>4.264151</td>\n",
       "    </tr>\n",
       "    <tr>\n",
       "      <th>2</th>\n",
       "      <td>J.R.R. Tolkien</td>\n",
       "      <td>4.258446</td>\n",
       "    </tr>\n",
       "    <tr>\n",
       "      <th>3</th>\n",
       "      <td>Louisa May Alcott</td>\n",
       "      <td>4.192308</td>\n",
       "    </tr>\n",
       "    <tr>\n",
       "      <th>4</th>\n",
       "      <td>Rick Riordan</td>\n",
       "      <td>4.080645</td>\n",
       "    </tr>\n",
       "    <tr>\n",
       "      <th>5</th>\n",
       "      <td>William Golding</td>\n",
       "      <td>3.901408</td>\n",
       "    </tr>\n",
       "    <tr>\n",
       "      <th>6</th>\n",
       "      <td>J.D. Salinger</td>\n",
       "      <td>3.825581</td>\n",
       "    </tr>\n",
       "    <tr>\n",
       "      <th>7</th>\n",
       "      <td>Paulo Coelho/Alan R. Clarke/Özdemir İnce</td>\n",
       "      <td>3.789474</td>\n",
       "    </tr>\n",
       "    <tr>\n",
       "      <th>8</th>\n",
       "      <td>William Shakespeare/Paul Werstine/Barbara A. M...</td>\n",
       "      <td>3.787879</td>\n",
       "    </tr>\n",
       "    <tr>\n",
       "      <th>9</th>\n",
       "      <td>Dan Brown</td>\n",
       "      <td>3.754540</td>\n",
       "    </tr>\n",
       "    <tr>\n",
       "      <th>10</th>\n",
       "      <td>Lois Lowry</td>\n",
       "      <td>3.750000</td>\n",
       "    </tr>\n",
       "    <tr>\n",
       "      <th>11</th>\n",
       "      <td>George Orwell/Boris Grabnar/Peter Škerl</td>\n",
       "      <td>3.729730</td>\n",
       "    </tr>\n",
       "    <tr>\n",
       "      <th>12</th>\n",
       "      <td>Stephenie Meyer</td>\n",
       "      <td>3.662500</td>\n",
       "    </tr>\n",
       "    <tr>\n",
       "      <th>13</th>\n",
       "      <td>John Steinbeck</td>\n",
       "      <td>3.622951</td>\n",
       "    </tr>\n",
       "  </tbody>\n",
       "</table>\n",
       "</div>"
      ],
      "text/plain": [
       "                                               author  avg_rating_avg\n",
       "0                          J.K. Rowling/Mary GrandPré        4.283844\n",
       "1                   Markus Zusak/Cao Xuân Việt Khương        4.264151\n",
       "2                                      J.R.R. Tolkien        4.258446\n",
       "3                                   Louisa May Alcott        4.192308\n",
       "4                                        Rick Riordan        4.080645\n",
       "5                                     William Golding        3.901408\n",
       "6                                       J.D. Salinger        3.825581\n",
       "7            Paulo Coelho/Alan R. Clarke/Özdemir İnce        3.789474\n",
       "8   William Shakespeare/Paul Werstine/Barbara A. M...        3.787879\n",
       "9                                           Dan Brown        3.754540\n",
       "10                                         Lois Lowry        3.750000\n",
       "11            George Orwell/Boris Grabnar/Peter Škerl        3.729730\n",
       "12                                    Stephenie Meyer        3.662500\n",
       "13                                     John Steinbeck        3.622951"
      ]
     },
     "execution_count": 69,
     "metadata": {},
     "output_type": "execute_result"
    }
   ],
   "source": [
    "top_authors = '''\n",
    "WITH t1 AS (SELECT b.book_id,\n",
    "                   a.author,\n",
    "                   COUNT(r.rating) AS count_rating,\n",
    "                   AVG(r.rating) AS avg_rating\n",
    "            FROM authors AS a\n",
    "            JOIN books AS b ON a.author_id=b.author_id\n",
    "            JOIN ratings AS r ON b.book_id=r.book_id\n",
    "            GROUP BY b.book_id, a.author\n",
    "            HAVING COUNT(r.rating) >= 50)\n",
    "SELECT author,\n",
    "       AVG(avg_rating) AS avg_rating_avg\n",
    "FROM t1\n",
    "GROUP BY author\n",
    "ORDER BY avg_rating_avg DESC\n",
    "'''\n",
    "con=engine.connect()\n",
    "pd.io.sql.read_sql(sql=text(top_authors), con = con)"
   ]
  },
  {
   "cell_type": "markdown",
   "metadata": {},
   "source": [
    "Автором с самым высоким средним рейтингом 4.28 стал J.K. Rowling/Mary GrandPré\t"
   ]
  },
  {
   "cell_type": "markdown",
   "metadata": {},
   "source": [
    "### Посчитайте среднее количество обзоров от пользователей, которые поставили больше 48 оценок."
   ]
  },
  {
   "cell_type": "code",
   "execution_count": 67,
   "metadata": {},
   "outputs": [
    {
     "data": {
      "text/html": [
       "<div>\n",
       "<style scoped>\n",
       "    .dataframe tbody tr th:only-of-type {\n",
       "        vertical-align: middle;\n",
       "    }\n",
       "\n",
       "    .dataframe tbody tr th {\n",
       "        vertical-align: top;\n",
       "    }\n",
       "\n",
       "    .dataframe thead th {\n",
       "        text-align: right;\n",
       "    }\n",
       "</style>\n",
       "<table border=\"1\" class=\"dataframe\">\n",
       "  <thead>\n",
       "    <tr style=\"text-align: right;\">\n",
       "      <th></th>\n",
       "      <th>avg_count_review</th>\n",
       "    </tr>\n",
       "  </thead>\n",
       "  <tbody>\n",
       "    <tr>\n",
       "      <th>0</th>\n",
       "      <td>24.0</td>\n",
       "    </tr>\n",
       "  </tbody>\n",
       "</table>\n",
       "</div>"
      ],
      "text/plain": [
       "   avg_count_review\n",
       "0              24.0"
      ]
     },
     "execution_count": 67,
     "metadata": {},
     "output_type": "execute_result"
    }
   ],
   "source": [
    "query = '''\n",
    "SELECT ROUND(AVG(count_review), 2) AS avg_count_review\n",
    "FROM (SELECT re.username,\n",
    "             COUNT(DISTINCT re.review_id) AS count_review\n",
    "      FROM reviews AS re\n",
    "      WHERE re.username IN (SELECT ra.username\n",
    "                            FROM ratings AS ra\n",
    "                            GROUP BY ra.username\n",
    "                            HAVING COUNT(ra.rating) > 48)\n",
    "      GROUP BY re.username) AS t1;\n",
    "'''\n",
    "con=engine.connect()\n",
    "pd.io.sql.read_sql(sql=text(query), con = con)"
   ]
  },
  {
   "cell_type": "markdown",
   "metadata": {},
   "source": [
    "Среднее количество обзоров от пользователей составило 24"
   ]
  },
  {
   "cell_type": "markdown",
   "metadata": {},
   "source": [
    "Вывод:\n",
    "   - В данных насчитывается 1000 книг;\n",
    "   - В таблице 'count_books_avg_reviews_rating' для каждоый книги можно посмотреть количество обзоров и среднюю оценку;\n",
    "   - Издательство Penguin Books выпустило самое большое количество книг - 42 книги;\n",
    "   - В таблице 'top_authors' можно найти авторов с самым высоким средним рейтингом. Первую строчку занимает автор J.K. Rowling/Mary GrandPré с рейтингом 4.28;\n",
    "   - В среднем количество обзоров от пользователей составляет 24."
   ]
  }
 ],
 "metadata": {
  "ExecuteTimeLog": [
   {
    "duration": 585,
    "start_time": "2024-06-11T09:29:53.391Z"
   },
   {
    "duration": 3,
    "start_time": "2024-06-11T09:30:03.510Z"
   },
   {
    "duration": 7967,
    "start_time": "2024-06-11T09:30:14.075Z"
   },
   {
    "duration": 230,
    "start_time": "2024-06-11T09:30:31.489Z"
   },
   {
    "duration": 4,
    "start_time": "2024-06-11T09:31:38.175Z"
   },
   {
    "duration": 145,
    "start_time": "2024-06-11T09:31:38.437Z"
   },
   {
    "duration": 55,
    "start_time": "2024-06-11T09:36:24.224Z"
   },
   {
    "duration": 54,
    "start_time": "2024-06-11T09:36:27.830Z"
   },
   {
    "duration": 54,
    "start_time": "2024-06-11T09:36:28.064Z"
   },
   {
    "duration": 3,
    "start_time": "2024-06-11T09:36:36.372Z"
   },
   {
    "duration": 4,
    "start_time": "2024-06-11T09:36:42.750Z"
   },
   {
    "duration": 58,
    "start_time": "2024-06-11T09:36:51.943Z"
   },
   {
    "duration": 58,
    "start_time": "2024-06-11T09:36:56.104Z"
   },
   {
    "duration": 53,
    "start_time": "2024-06-11T09:36:56.368Z"
   },
   {
    "duration": 3,
    "start_time": "2024-06-11T09:37:36.459Z"
   },
   {
    "duration": 53,
    "start_time": "2024-06-11T09:37:47.892Z"
   },
   {
    "duration": 52,
    "start_time": "2024-06-11T09:38:02.194Z"
   },
   {
    "duration": 59,
    "start_time": "2024-06-11T09:38:26.966Z"
   },
   {
    "duration": 141,
    "start_time": "2024-06-11T09:38:38.216Z"
   },
   {
    "duration": 61,
    "start_time": "2024-06-11T09:38:44.848Z"
   },
   {
    "duration": 122,
    "start_time": "2024-06-11T09:38:50.980Z"
   },
   {
    "duration": 173,
    "start_time": "2024-06-11T09:39:10.237Z"
   },
   {
    "duration": 43,
    "start_time": "2024-06-11T09:39:21.083Z"
   },
   {
    "duration": 136,
    "start_time": "2024-06-11T09:39:42.888Z"
   },
   {
    "duration": 61,
    "start_time": "2024-06-11T09:39:43.094Z"
   },
   {
    "duration": 56,
    "start_time": "2024-06-11T09:39:43.268Z"
   },
   {
    "duration": 53,
    "start_time": "2024-06-11T09:39:43.456Z"
   },
   {
    "duration": 62,
    "start_time": "2024-06-11T09:39:58.523Z"
   },
   {
    "duration": 53,
    "start_time": "2024-06-11T09:40:05.567Z"
   },
   {
    "duration": 53,
    "start_time": "2024-06-11T09:40:11.455Z"
   },
   {
    "duration": 55,
    "start_time": "2024-06-11T09:40:16.964Z"
   },
   {
    "duration": 54,
    "start_time": "2024-06-11T09:40:23.640Z"
   },
   {
    "duration": 57,
    "start_time": "2024-06-11T09:40:49.470Z"
   },
   {
    "duration": 55,
    "start_time": "2024-06-11T09:40:49.686Z"
   },
   {
    "duration": 54,
    "start_time": "2024-06-11T09:40:49.888Z"
   },
   {
    "duration": 54,
    "start_time": "2024-06-11T09:40:50.080Z"
   },
   {
    "duration": 53,
    "start_time": "2024-06-11T09:40:50.266Z"
   },
   {
    "duration": 52,
    "start_time": "2024-06-11T09:41:16.208Z"
   },
   {
    "duration": 59,
    "start_time": "2024-06-11T09:44:18.502Z"
   },
   {
    "duration": 57,
    "start_time": "2024-06-11T09:44:27.378Z"
   },
   {
    "duration": 53,
    "start_time": "2024-06-11T09:45:38.414Z"
   },
   {
    "duration": 54,
    "start_time": "2024-06-11T09:54:26.871Z"
   },
   {
    "duration": 54,
    "start_time": "2024-06-11T09:59:29.213Z"
   },
   {
    "duration": 55,
    "start_time": "2024-06-11T09:59:36.606Z"
   },
   {
    "duration": 52,
    "start_time": "2024-06-11T09:59:42.647Z"
   },
   {
    "duration": 55,
    "start_time": "2024-06-11T10:00:27.086Z"
   },
   {
    "duration": 56,
    "start_time": "2024-06-11T10:01:01.658Z"
   },
   {
    "duration": 74,
    "start_time": "2024-06-11T10:01:09.472Z"
   },
   {
    "duration": 66,
    "start_time": "2024-06-11T10:01:17.502Z"
   },
   {
    "duration": 62,
    "start_time": "2024-06-11T10:01:25.311Z"
   },
   {
    "duration": 134,
    "start_time": "2024-06-11T10:01:55.401Z"
   },
   {
    "duration": 153,
    "start_time": "2024-06-11T10:02:11.169Z"
   },
   {
    "duration": 66,
    "start_time": "2024-06-11T10:04:25.992Z"
   },
   {
    "duration": 43,
    "start_time": "2024-06-11T10:04:46.534Z"
   },
   {
    "duration": 75,
    "start_time": "2024-06-11T10:12:35.577Z"
   },
   {
    "duration": 61,
    "start_time": "2024-06-11T10:12:40.914Z"
   },
   {
    "duration": 49,
    "start_time": "2024-06-11T10:12:53.273Z"
   },
   {
    "duration": 121,
    "start_time": "2024-06-11T10:21:51.582Z"
   },
   {
    "duration": 561,
    "start_time": "2024-06-11T10:34:53.169Z"
   },
   {
    "duration": 80,
    "start_time": "2024-06-11T10:34:53.732Z"
   },
   {
    "duration": 0,
    "start_time": "2024-06-11T10:34:53.814Z"
   },
   {
    "duration": 0,
    "start_time": "2024-06-11T10:34:53.816Z"
   },
   {
    "duration": 0,
    "start_time": "2024-06-11T10:34:53.818Z"
   },
   {
    "duration": 0,
    "start_time": "2024-06-11T10:34:53.819Z"
   },
   {
    "duration": 0,
    "start_time": "2024-06-11T10:34:53.820Z"
   },
   {
    "duration": 0,
    "start_time": "2024-06-11T10:34:53.822Z"
   },
   {
    "duration": 3,
    "start_time": "2024-06-11T10:35:22.611Z"
   },
   {
    "duration": 9,
    "start_time": "2024-06-11T10:35:23.083Z"
   },
   {
    "duration": 541,
    "start_time": "2024-06-11T10:35:47.511Z"
   },
   {
    "duration": 73,
    "start_time": "2024-06-11T10:35:48.054Z"
   },
   {
    "duration": 0,
    "start_time": "2024-06-11T10:35:48.129Z"
   },
   {
    "duration": 0,
    "start_time": "2024-06-11T10:35:48.130Z"
   },
   {
    "duration": 8,
    "start_time": "2024-06-11T10:35:48.291Z"
   },
   {
    "duration": 9,
    "start_time": "2024-06-11T10:35:48.466Z"
   },
   {
    "duration": 11,
    "start_time": "2024-06-11T10:35:48.804Z"
   },
   {
    "duration": 12,
    "start_time": "2024-06-11T10:35:49.144Z"
   },
   {
    "duration": 582,
    "start_time": "2024-06-11T10:36:27.827Z"
   },
   {
    "duration": 71,
    "start_time": "2024-06-11T10:36:28.411Z"
   },
   {
    "duration": 0,
    "start_time": "2024-06-11T10:36:28.484Z"
   },
   {
    "duration": 0,
    "start_time": "2024-06-11T10:36:28.485Z"
   },
   {
    "duration": 0,
    "start_time": "2024-06-11T10:36:28.487Z"
   },
   {
    "duration": 0,
    "start_time": "2024-06-11T10:36:28.488Z"
   },
   {
    "duration": 0,
    "start_time": "2024-06-11T10:36:28.489Z"
   },
   {
    "duration": 0,
    "start_time": "2024-06-11T10:36:28.490Z"
   },
   {
    "duration": 8,
    "start_time": "2024-06-11T10:36:49.493Z"
   },
   {
    "duration": 3,
    "start_time": "2024-06-11T10:36:51.383Z"
   },
   {
    "duration": 9,
    "start_time": "2024-06-11T10:36:51.584Z"
   },
   {
    "duration": 8,
    "start_time": "2024-06-11T10:36:51.747Z"
   },
   {
    "duration": 7,
    "start_time": "2024-06-11T10:37:16.977Z"
   },
   {
    "duration": 10,
    "start_time": "2024-06-11T10:37:17.186Z"
   },
   {
    "duration": 2,
    "start_time": "2024-06-11T10:37:20.771Z"
   },
   {
    "duration": 9,
    "start_time": "2024-06-11T10:37:20.995Z"
   },
   {
    "duration": 9,
    "start_time": "2024-06-11T10:37:21.196Z"
   },
   {
    "duration": 612,
    "start_time": "2024-06-11T10:38:42.449Z"
   },
   {
    "duration": 72,
    "start_time": "2024-06-11T10:38:43.063Z"
   },
   {
    "duration": 0,
    "start_time": "2024-06-11T10:38:43.137Z"
   },
   {
    "duration": 0,
    "start_time": "2024-06-11T10:38:43.138Z"
   },
   {
    "duration": 0,
    "start_time": "2024-06-11T10:38:43.139Z"
   },
   {
    "duration": 0,
    "start_time": "2024-06-11T10:38:43.140Z"
   },
   {
    "duration": 0,
    "start_time": "2024-06-11T10:38:43.142Z"
   },
   {
    "duration": 0,
    "start_time": "2024-06-11T10:38:43.161Z"
   },
   {
    "duration": 0,
    "start_time": "2024-06-11T10:38:43.162Z"
   },
   {
    "duration": 8,
    "start_time": "2024-06-11T10:39:11.521Z"
   },
   {
    "duration": 5,
    "start_time": "2024-06-11T10:39:14.173Z"
   },
   {
    "duration": 11,
    "start_time": "2024-06-11T10:39:18.855Z"
   },
   {
    "duration": 2,
    "start_time": "2024-06-11T10:39:44.203Z"
   },
   {
    "duration": 4,
    "start_time": "2024-06-11T10:39:44.397Z"
   },
   {
    "duration": 6890,
    "start_time": "2024-06-11T10:39:44.613Z"
   },
   {
    "duration": 145,
    "start_time": "2024-06-11T10:39:51.774Z"
   },
   {
    "duration": 54,
    "start_time": "2024-06-11T10:39:51.922Z"
   },
   {
    "duration": 56,
    "start_time": "2024-06-11T10:40:02.359Z"
   },
   {
    "duration": 55,
    "start_time": "2024-06-11T10:40:02.529Z"
   },
   {
    "duration": 55,
    "start_time": "2024-06-11T10:40:02.704Z"
   },
   {
    "duration": 55,
    "start_time": "2024-06-11T10:40:02.884Z"
   },
   {
    "duration": 54,
    "start_time": "2024-06-11T10:40:03.051Z"
   },
   {
    "duration": 53,
    "start_time": "2024-06-11T10:40:03.401Z"
   },
   {
    "duration": 69,
    "start_time": "2024-06-11T10:40:03.737Z"
   },
   {
    "duration": 67,
    "start_time": "2024-06-11T10:40:13.368Z"
   },
   {
    "duration": 80,
    "start_time": "2024-06-11T10:42:57.543Z"
   },
   {
    "duration": 64,
    "start_time": "2024-06-11T10:43:29.430Z"
   },
   {
    "duration": 150,
    "start_time": "2024-06-11T10:43:58.643Z"
   },
   {
    "duration": 143,
    "start_time": "2024-06-11T10:44:26.979Z"
   },
   {
    "duration": 147,
    "start_time": "2024-06-11T10:45:10.194Z"
   },
   {
    "duration": 63,
    "start_time": "2024-06-11T10:45:27.503Z"
   },
   {
    "duration": 63,
    "start_time": "2024-06-11T10:46:30.911Z"
   },
   {
    "duration": 67,
    "start_time": "2024-06-11T10:46:50.510Z"
   },
   {
    "duration": 152,
    "start_time": "2024-06-11T10:47:22.571Z"
   },
   {
    "duration": 139,
    "start_time": "2024-06-11T10:47:31.232Z"
   },
   {
    "duration": 136,
    "start_time": "2024-06-11T10:47:39.907Z"
   },
   {
    "duration": 64,
    "start_time": "2024-06-11T10:47:43.202Z"
   },
   {
    "duration": 74,
    "start_time": "2024-06-11T10:48:54.933Z"
   },
   {
    "duration": 91,
    "start_time": "2024-06-11T10:50:03.714Z"
   },
   {
    "duration": 91,
    "start_time": "2024-06-11T10:51:03.132Z"
   },
   {
    "duration": 92,
    "start_time": "2024-06-11T10:53:26.337Z"
   },
   {
    "duration": 81,
    "start_time": "2024-06-11T10:56:09.951Z"
   },
   {
    "duration": 81,
    "start_time": "2024-06-11T10:56:31.609Z"
   },
   {
    "duration": 84,
    "start_time": "2024-06-11T10:56:37.724Z"
   },
   {
    "duration": 61,
    "start_time": "2024-06-11T10:56:47.031Z"
   },
   {
    "duration": 107,
    "start_time": "2024-06-11T10:57:34.080Z"
   },
   {
    "duration": 97,
    "start_time": "2024-06-11T10:59:31.909Z"
   },
   {
    "duration": 54,
    "start_time": "2024-06-11T11:17:26.082Z"
   },
   {
    "duration": 74,
    "start_time": "2024-06-11T11:20:12.576Z"
   },
   {
    "duration": 62,
    "start_time": "2024-06-11T11:20:31.990Z"
   },
   {
    "duration": 43,
    "start_time": "2024-06-11T11:20:43.104Z"
   },
   {
    "duration": 54,
    "start_time": "2024-06-11T11:21:29.297Z"
   },
   {
    "duration": 63,
    "start_time": "2024-06-11T11:21:57.554Z"
   },
   {
    "duration": 54,
    "start_time": "2024-06-11T11:22:50.206Z"
   },
   {
    "duration": 78,
    "start_time": "2024-06-11T11:26:57.074Z"
   },
   {
    "duration": 47,
    "start_time": "2024-06-11T11:27:00.436Z"
   },
   {
    "duration": 159,
    "start_time": "2024-06-11T11:29:55.275Z"
   },
   {
    "duration": 84,
    "start_time": "2024-06-11T11:30:28.314Z"
   },
   {
    "duration": 71,
    "start_time": "2024-06-11T11:32:33.502Z"
   },
   {
    "duration": 72,
    "start_time": "2024-06-11T11:32:36.961Z"
   },
   {
    "duration": 66,
    "start_time": "2024-06-11T11:32:48.452Z"
   },
   {
    "duration": 150,
    "start_time": "2024-06-11T11:35:07.189Z"
   },
   {
    "duration": 139,
    "start_time": "2024-06-11T11:35:11.891Z"
   },
   {
    "duration": 75,
    "start_time": "2024-06-11T11:37:17.184Z"
   },
   {
    "duration": 61,
    "start_time": "2024-06-11T11:37:22.771Z"
   },
   {
    "duration": 62,
    "start_time": "2024-06-11T11:37:35.081Z"
   },
   {
    "duration": 46,
    "start_time": "2024-06-11T11:37:43.197Z"
   },
   {
    "duration": 59,
    "start_time": "2024-06-11T11:38:10.841Z"
   },
   {
    "duration": 63,
    "start_time": "2024-06-11T11:38:14.721Z"
   },
   {
    "duration": 75,
    "start_time": "2024-06-11T11:38:42.942Z"
   },
   {
    "duration": 51,
    "start_time": "2024-06-11T11:39:48.837Z"
   },
   {
    "duration": 56,
    "start_time": "2024-06-11T11:39:59.303Z"
   },
   {
    "duration": 61,
    "start_time": "2024-06-11T11:41:16.131Z"
   },
   {
    "duration": 55,
    "start_time": "2024-06-11T11:41:20.894Z"
   },
   {
    "duration": 56,
    "start_time": "2024-06-11T11:41:45.028Z"
   },
   {
    "duration": 59,
    "start_time": "2024-06-11T11:42:13.629Z"
   },
   {
    "duration": 61,
    "start_time": "2024-06-11T11:46:29.417Z"
   },
   {
    "duration": 60,
    "start_time": "2024-06-11T11:46:42.667Z"
   },
   {
    "duration": 305,
    "start_time": "2024-06-11T11:49:29.512Z"
   },
   {
    "duration": 61,
    "start_time": "2024-06-11T11:50:43.630Z"
   },
   {
    "duration": 74,
    "start_time": "2024-06-11T11:51:01.679Z"
   },
   {
    "duration": 62,
    "start_time": "2024-06-11T11:51:48.655Z"
   },
   {
    "duration": 63,
    "start_time": "2024-06-11T11:52:03.484Z"
   },
   {
    "duration": 70,
    "start_time": "2024-06-11T11:52:17.210Z"
   },
   {
    "duration": 69,
    "start_time": "2024-06-11T11:52:24.028Z"
   },
   {
    "duration": 75,
    "start_time": "2024-06-11T11:52:27.098Z"
   },
   {
    "duration": 68,
    "start_time": "2024-06-11T11:52:32.616Z"
   },
   {
    "duration": 62,
    "start_time": "2024-06-11T11:52:38.356Z"
   },
   {
    "duration": 153,
    "start_time": "2024-06-11T11:53:07.198Z"
   },
   {
    "duration": 154,
    "start_time": "2024-06-11T13:00:01.583Z"
   },
   {
    "duration": 58,
    "start_time": "2024-06-11T13:00:20.144Z"
   },
   {
    "duration": 74,
    "start_time": "2024-06-11T13:03:01.122Z"
   },
   {
    "duration": 66,
    "start_time": "2024-06-11T13:03:48.421Z"
   },
   {
    "duration": 69,
    "start_time": "2024-06-11T13:04:20.009Z"
   },
   {
    "duration": 80,
    "start_time": "2024-06-11T13:04:42.133Z"
   },
   {
    "duration": 62,
    "start_time": "2024-06-11T13:05:19.996Z"
   },
   {
    "duration": 153,
    "start_time": "2024-06-11T13:05:39.690Z"
   },
   {
    "duration": 138,
    "start_time": "2024-06-11T13:08:56.605Z"
   },
   {
    "duration": 152,
    "start_time": "2024-06-11T13:10:09.293Z"
   },
   {
    "duration": 52,
    "start_time": "2024-06-11T13:11:01.052Z"
   },
   {
    "duration": 61,
    "start_time": "2024-06-11T13:11:03.919Z"
   },
   {
    "duration": 64,
    "start_time": "2024-06-11T13:11:19.176Z"
   },
   {
    "duration": 65,
    "start_time": "2024-06-11T13:11:22.809Z"
   },
   {
    "duration": 65,
    "start_time": "2024-06-11T13:12:13.139Z"
   },
   {
    "duration": 61,
    "start_time": "2024-06-11T13:12:39.853Z"
   },
   {
    "duration": 63,
    "start_time": "2024-06-11T13:12:40.847Z"
   },
   {
    "duration": 63,
    "start_time": "2024-06-11T13:12:42.401Z"
   },
   {
    "duration": 62,
    "start_time": "2024-06-11T13:14:33.686Z"
   },
   {
    "duration": 65,
    "start_time": "2024-06-11T13:14:45.507Z"
   },
   {
    "duration": 67,
    "start_time": "2024-06-11T13:15:00.677Z"
   },
   {
    "duration": 64,
    "start_time": "2024-06-11T13:15:06.215Z"
   },
   {
    "duration": 76,
    "start_time": "2024-06-11T13:17:13.148Z"
   },
   {
    "duration": 51,
    "start_time": "2024-06-11T13:17:20.088Z"
   },
   {
    "duration": 588,
    "start_time": "2024-06-11T13:17:43.759Z"
   },
   {
    "duration": 3,
    "start_time": "2024-06-11T13:17:44.349Z"
   },
   {
    "duration": 6697,
    "start_time": "2024-06-11T13:17:44.353Z"
   },
   {
    "duration": 234,
    "start_time": "2024-06-11T13:17:51.052Z"
   },
   {
    "duration": 122,
    "start_time": "2024-06-11T13:17:51.288Z"
   },
   {
    "duration": 60,
    "start_time": "2024-06-11T13:17:51.412Z"
   },
   {
    "duration": 54,
    "start_time": "2024-06-11T13:17:51.474Z"
   },
   {
    "duration": 57,
    "start_time": "2024-06-11T13:17:51.530Z"
   },
   {
    "duration": 53,
    "start_time": "2024-06-11T13:17:51.588Z"
   },
   {
    "duration": 90,
    "start_time": "2024-06-11T13:17:51.643Z"
   },
   {
    "duration": 60,
    "start_time": "2024-06-11T13:17:51.736Z"
   },
   {
    "duration": 71,
    "start_time": "2024-06-11T13:17:51.798Z"
   },
   {
    "duration": 63,
    "start_time": "2024-06-11T13:17:51.873Z"
   },
   {
    "duration": 59,
    "start_time": "2024-06-11T13:31:48.884Z"
   },
   {
    "duration": 59,
    "start_time": "2024-06-11T13:31:53.228Z"
   },
   {
    "duration": 66,
    "start_time": "2024-06-11T13:33:41.010Z"
   },
   {
    "duration": 152,
    "start_time": "2024-06-11T13:33:46.233Z"
   },
   {
    "duration": 50,
    "start_time": "2024-06-11T13:33:52.387Z"
   },
   {
    "duration": 187,
    "start_time": "2024-06-11T13:35:02.763Z"
   },
   {
    "duration": 92,
    "start_time": "2024-06-11T13:35:20.034Z"
   },
   {
    "duration": 94,
    "start_time": "2024-06-11T13:35:36.929Z"
   },
   {
    "duration": 91,
    "start_time": "2024-06-11T13:36:26.739Z"
   },
   {
    "duration": 66,
    "start_time": "2024-06-11T13:37:01.752Z"
   },
   {
    "duration": 57,
    "start_time": "2024-06-11T13:37:26.647Z"
   },
   {
    "duration": 487,
    "start_time": "2024-06-11T21:11:33.503Z"
   },
   {
    "duration": 2,
    "start_time": "2024-06-11T21:11:33.992Z"
   },
   {
    "duration": 10362,
    "start_time": "2024-06-11T21:11:33.995Z"
   },
   {
    "duration": 55,
    "start_time": "2024-06-11T21:11:44.359Z"
   },
   {
    "duration": 38,
    "start_time": "2024-06-11T21:11:44.415Z"
   },
   {
    "duration": 10,
    "start_time": "2024-06-11T21:11:44.454Z"
   },
   {
    "duration": 18,
    "start_time": "2024-06-11T21:11:44.466Z"
   },
   {
    "duration": 22,
    "start_time": "2024-06-11T21:11:44.486Z"
   },
   {
    "duration": 16,
    "start_time": "2024-06-11T21:11:44.510Z"
   },
   {
    "duration": 24,
    "start_time": "2024-06-11T21:11:44.527Z"
   },
   {
    "duration": 11,
    "start_time": "2024-06-11T21:11:44.552Z"
   },
   {
    "duration": 14,
    "start_time": "2024-06-11T21:11:44.564Z"
   },
   {
    "duration": 17,
    "start_time": "2024-06-11T21:11:44.580Z"
   },
   {
    "duration": 104,
    "start_time": "2024-06-11T23:47:29.710Z"
   },
   {
    "duration": 48,
    "start_time": "2024-06-13T09:18:38.251Z"
   },
   {
    "duration": 453,
    "start_time": "2024-06-13T09:18:42.159Z"
   },
   {
    "duration": 3,
    "start_time": "2024-06-13T09:18:42.614Z"
   },
   {
    "duration": 6855,
    "start_time": "2024-06-13T09:18:42.618Z"
   },
   {
    "duration": 234,
    "start_time": "2024-06-13T09:18:49.474Z"
   },
   {
    "duration": 132,
    "start_time": "2024-06-13T09:18:49.710Z"
   },
   {
    "duration": 53,
    "start_time": "2024-06-13T09:18:49.844Z"
   },
   {
    "duration": 53,
    "start_time": "2024-06-13T09:18:49.898Z"
   },
   {
    "duration": 51,
    "start_time": "2024-06-13T09:18:49.953Z"
   },
   {
    "duration": 52,
    "start_time": "2024-06-13T09:18:50.005Z"
   },
   {
    "duration": 91,
    "start_time": "2024-06-13T09:19:07.179Z"
   },
   {
    "duration": 91,
    "start_time": "2024-06-13T09:23:58.916Z"
   },
   {
    "duration": 90,
    "start_time": "2024-06-13T09:24:04.315Z"
   },
   {
    "duration": 90,
    "start_time": "2024-06-13T09:24:18.734Z"
   },
   {
    "duration": 99,
    "start_time": "2024-06-13T09:25:07.088Z"
   },
   {
    "duration": 79,
    "start_time": "2024-06-13T09:25:17.883Z"
   },
   {
    "duration": 167,
    "start_time": "2024-06-13T09:26:04.232Z"
   },
   {
    "duration": 53,
    "start_time": "2024-06-13T09:26:11.135Z"
   },
   {
    "duration": 96,
    "start_time": "2024-06-13T09:28:24.480Z"
   },
   {
    "duration": 97,
    "start_time": "2024-06-13T09:28:35.932Z"
   },
   {
    "duration": 95,
    "start_time": "2024-06-13T09:29:16.989Z"
   },
   {
    "duration": 96,
    "start_time": "2024-06-13T09:30:06.125Z"
   },
   {
    "duration": 80,
    "start_time": "2024-06-13T09:30:43.872Z"
   },
   {
    "duration": 54,
    "start_time": "2024-06-13T09:30:50.997Z"
   },
   {
    "duration": 99,
    "start_time": "2024-06-13T09:33:30.413Z"
   },
   {
    "duration": 96,
    "start_time": "2024-06-13T09:33:36.643Z"
   },
   {
    "duration": 96,
    "start_time": "2024-06-13T09:33:42.138Z"
   },
   {
    "duration": 80,
    "start_time": "2024-06-13T09:36:45.015Z"
   },
   {
    "duration": 63,
    "start_time": "2024-06-13T09:36:58.018Z"
   },
   {
    "duration": 135,
    "start_time": "2024-06-13T09:37:13.768Z"
   },
   {
    "duration": 150,
    "start_time": "2024-06-13T09:38:18.211Z"
   },
   {
    "duration": 60,
    "start_time": "2024-06-13T09:38:24.808Z"
   },
   {
    "duration": 143,
    "start_time": "2024-06-13T09:39:08.898Z"
   },
   {
    "duration": 60,
    "start_time": "2024-06-13T09:39:17.620Z"
   },
   {
    "duration": 2,
    "start_time": "2024-06-13T09:39:21.538Z"
   },
   {
    "duration": 2,
    "start_time": "2024-06-13T09:39:21.913Z"
   },
   {
    "duration": 3,
    "start_time": "2024-06-13T09:39:22.159Z"
   },
   {
    "duration": 213,
    "start_time": "2024-06-13T09:39:22.582Z"
   },
   {
    "duration": 122,
    "start_time": "2024-06-13T09:39:22.820Z"
   },
   {
    "duration": 54,
    "start_time": "2024-06-13T09:39:23.527Z"
   },
   {
    "duration": 53,
    "start_time": "2024-06-13T09:39:23.746Z"
   },
   {
    "duration": 52,
    "start_time": "2024-06-13T09:39:23.931Z"
   },
   {
    "duration": 51,
    "start_time": "2024-06-13T09:39:24.560Z"
   },
   {
    "duration": 97,
    "start_time": "2024-06-13T09:39:25.403Z"
   },
   {
    "duration": 54,
    "start_time": "2024-06-13T09:39:28.029Z"
   },
   {
    "duration": 72,
    "start_time": "2024-06-13T09:39:32.454Z"
   },
   {
    "duration": 61,
    "start_time": "2024-06-13T09:39:59.734Z"
   },
   {
    "duration": 142,
    "start_time": "2024-06-13T09:40:09.859Z"
   },
   {
    "duration": 146,
    "start_time": "2024-06-13T09:40:23.061Z"
   },
   {
    "duration": 128,
    "start_time": "2024-06-13T09:40:36.352Z"
   },
   {
    "duration": 46,
    "start_time": "2024-06-13T09:40:57.117Z"
   },
   {
    "duration": 58,
    "start_time": "2024-06-13T09:41:09.941Z"
   },
   {
    "duration": 61,
    "start_time": "2024-06-13T09:45:56.154Z"
   },
   {
    "duration": 2,
    "start_time": "2024-06-13T09:46:07.633Z"
   },
   {
    "duration": 4,
    "start_time": "2024-06-13T09:46:07.637Z"
   },
   {
    "duration": 5,
    "start_time": "2024-06-13T09:46:07.642Z"
   },
   {
    "duration": 241,
    "start_time": "2024-06-13T09:46:07.648Z"
   },
   {
    "duration": 124,
    "start_time": "2024-06-13T09:46:07.890Z"
   },
   {
    "duration": 52,
    "start_time": "2024-06-13T09:46:08.016Z"
   },
   {
    "duration": 53,
    "start_time": "2024-06-13T09:46:08.069Z"
   },
   {
    "duration": 51,
    "start_time": "2024-06-13T09:46:08.123Z"
   },
   {
    "duration": 52,
    "start_time": "2024-06-13T09:46:08.176Z"
   },
   {
    "duration": 97,
    "start_time": "2024-06-13T09:46:08.229Z"
   },
   {
    "duration": 53,
    "start_time": "2024-06-13T09:46:08.327Z"
   },
   {
    "duration": 57,
    "start_time": "2024-06-13T09:46:08.382Z"
   },
   {
    "duration": 60,
    "start_time": "2024-06-13T09:46:08.441Z"
   },
   {
    "duration": 61,
    "start_time": "2024-06-13T09:46:33.577Z"
   },
   {
    "duration": 69,
    "start_time": "2024-06-13T09:46:48.907Z"
   },
   {
    "duration": 50,
    "start_time": "2024-06-13T15:51:52.357Z"
   },
   {
    "duration": 481,
    "start_time": "2024-06-13T15:51:58.401Z"
   },
   {
    "duration": 3,
    "start_time": "2024-06-13T15:51:58.883Z"
   },
   {
    "duration": 7275,
    "start_time": "2024-06-13T15:51:58.888Z"
   },
   {
    "duration": 238,
    "start_time": "2024-06-13T15:52:06.165Z"
   },
   {
    "duration": 135,
    "start_time": "2024-06-13T15:52:06.405Z"
   },
   {
    "duration": 53,
    "start_time": "2024-06-13T15:52:06.541Z"
   },
   {
    "duration": 56,
    "start_time": "2024-06-13T15:52:06.595Z"
   },
   {
    "duration": 52,
    "start_time": "2024-06-13T15:52:06.652Z"
   },
   {
    "duration": 52,
    "start_time": "2024-06-13T15:52:06.706Z"
   },
   {
    "duration": 98,
    "start_time": "2024-06-13T15:52:06.760Z"
   },
   {
    "duration": 52,
    "start_time": "2024-06-13T15:52:06.860Z"
   },
   {
    "duration": 60,
    "start_time": "2024-06-13T15:52:06.914Z"
   },
   {
    "duration": 62,
    "start_time": "2024-06-13T15:52:06.975Z"
   },
   {
    "duration": 80,
    "start_time": "2024-06-13T15:53:51.689Z"
   },
   {
    "duration": 79,
    "start_time": "2024-06-13T15:54:26.904Z"
   },
   {
    "duration": 69,
    "start_time": "2024-06-13T16:20:38.454Z"
   },
   {
    "duration": 80,
    "start_time": "2024-06-13T16:21:12.120Z"
   },
   {
    "duration": 53,
    "start_time": "2024-06-13T16:37:12.261Z"
   },
   {
    "duration": 147,
    "start_time": "2024-06-13T16:37:29.592Z"
   },
   {
    "duration": 126,
    "start_time": "2024-06-13T16:37:43.858Z"
   },
   {
    "duration": 80,
    "start_time": "2024-06-13T16:37:51.175Z"
   },
   {
    "duration": 65,
    "start_time": "2024-06-13T16:37:57.007Z"
   },
   {
    "duration": 68,
    "start_time": "2024-06-13T16:38:16.968Z"
   },
   {
    "duration": 53,
    "start_time": "2024-06-13T16:38:37.414Z"
   },
   {
    "duration": 40,
    "start_time": "2024-06-14T09:02:54.001Z"
   },
   {
    "duration": 406,
    "start_time": "2024-06-14T09:03:04.131Z"
   },
   {
    "duration": 3,
    "start_time": "2024-06-14T09:03:04.538Z"
   },
   {
    "duration": 6222,
    "start_time": "2024-06-14T09:03:04.542Z"
   },
   {
    "duration": 53,
    "start_time": "2024-06-14T09:03:10.765Z"
   },
   {
    "duration": 32,
    "start_time": "2024-06-14T09:03:10.819Z"
   },
   {
    "duration": 8,
    "start_time": "2024-06-14T09:03:10.852Z"
   },
   {
    "duration": 17,
    "start_time": "2024-06-14T09:03:10.861Z"
   },
   {
    "duration": 7,
    "start_time": "2024-06-14T09:03:10.879Z"
   },
   {
    "duration": 27,
    "start_time": "2024-06-14T09:03:10.887Z"
   },
   {
    "duration": 39,
    "start_time": "2024-06-14T09:03:10.916Z"
   },
   {
    "duration": 34,
    "start_time": "2024-06-14T09:04:30.204Z"
   },
   {
    "duration": 33,
    "start_time": "2024-06-14T09:04:39.379Z"
   },
   {
    "duration": 32,
    "start_time": "2024-06-14T09:04:52.621Z"
   },
   {
    "duration": 31,
    "start_time": "2024-06-14T09:06:46.630Z"
   },
   {
    "duration": 33,
    "start_time": "2024-06-14T09:06:52.626Z"
   },
   {
    "duration": 40,
    "start_time": "2024-06-14T09:08:07.369Z"
   },
   {
    "duration": 16,
    "start_time": "2024-06-14T09:08:10.305Z"
   },
   {
    "duration": 42,
    "start_time": "2024-06-14T09:08:40.453Z"
   },
   {
    "duration": 46,
    "start_time": "2024-06-14T09:09:22.908Z"
   },
   {
    "duration": 40,
    "start_time": "2024-06-14T09:09:31.251Z"
   },
   {
    "duration": 30,
    "start_time": "2024-06-14T09:09:43.137Z"
   },
   {
    "duration": 16,
    "start_time": "2024-06-14T09:09:52.540Z"
   },
   {
    "duration": 15,
    "start_time": "2024-06-14T09:09:56.518Z"
   },
   {
    "duration": 30,
    "start_time": "2024-06-14T09:09:59.613Z"
   },
   {
    "duration": 30,
    "start_time": "2024-06-14T09:10:21.829Z"
   },
   {
    "duration": 2,
    "start_time": "2024-06-14T09:10:31.340Z"
   },
   {
    "duration": 42,
    "start_time": "2024-06-14T09:10:31.344Z"
   },
   {
    "duration": 20,
    "start_time": "2024-06-14T09:10:31.387Z"
   },
   {
    "duration": 75,
    "start_time": "2024-06-14T09:10:31.408Z"
   },
   {
    "duration": 54,
    "start_time": "2024-06-14T09:10:31.485Z"
   },
   {
    "duration": 12,
    "start_time": "2024-06-14T09:10:31.540Z"
   },
   {
    "duration": 28,
    "start_time": "2024-06-14T09:10:31.553Z"
   },
   {
    "duration": 25,
    "start_time": "2024-06-14T09:10:31.582Z"
   },
   {
    "duration": 60,
    "start_time": "2024-06-14T09:10:31.608Z"
   },
   {
    "duration": 79,
    "start_time": "2024-06-14T09:10:31.669Z"
   },
   {
    "duration": 23,
    "start_time": "2024-06-14T09:10:31.749Z"
   },
   {
    "duration": 38,
    "start_time": "2024-06-14T09:10:31.773Z"
   },
   {
    "duration": 36,
    "start_time": "2024-06-14T09:10:31.812Z"
   },
   {
    "duration": 17,
    "start_time": "2024-06-14T09:11:40.987Z"
   },
   {
    "duration": 17,
    "start_time": "2024-06-14T09:11:48.431Z"
   },
   {
    "duration": 48,
    "start_time": "2024-06-14T09:11:55.730Z"
   },
   {
    "duration": 45,
    "start_time": "2024-06-14T09:12:03.380Z"
   },
   {
    "duration": 31,
    "start_time": "2024-06-14T09:12:22.696Z"
   },
   {
    "duration": 57,
    "start_time": "2024-06-14T09:14:08.587Z"
   },
   {
    "duration": 20,
    "start_time": "2024-06-14T09:14:27.615Z"
   },
   {
    "duration": 16,
    "start_time": "2024-06-14T09:14:34.825Z"
   },
   {
    "duration": 16,
    "start_time": "2024-06-14T09:14:41.960Z"
   },
   {
    "duration": 15,
    "start_time": "2024-06-14T09:16:36.797Z"
   },
   {
    "duration": 16,
    "start_time": "2024-06-14T09:18:19.483Z"
   },
   {
    "duration": 15,
    "start_time": "2024-06-14T09:18:58.324Z"
   },
   {
    "duration": 22,
    "start_time": "2024-06-14T09:19:10.470Z"
   },
   {
    "duration": 20,
    "start_time": "2024-06-14T09:19:15.086Z"
   },
   {
    "duration": 15,
    "start_time": "2024-06-14T09:19:40.104Z"
   },
   {
    "duration": 34,
    "start_time": "2024-06-14T09:19:49.008Z"
   },
   {
    "duration": 41,
    "start_time": "2024-06-14T09:23:41.493Z"
   },
   {
    "duration": 12,
    "start_time": "2024-06-14T09:23:44.125Z"
   },
   {
    "duration": 16,
    "start_time": "2024-06-14T09:24:24.490Z"
   },
   {
    "duration": 14,
    "start_time": "2024-06-14T09:25:23.259Z"
   },
   {
    "duration": 15,
    "start_time": "2024-06-14T09:25:29.320Z"
   },
   {
    "duration": 76,
    "start_time": "2024-06-14T09:27:00.738Z"
   },
   {
    "duration": 11,
    "start_time": "2024-06-14T09:27:33.278Z"
   },
   {
    "duration": 12,
    "start_time": "2024-06-14T09:47:15.444Z"
   },
   {
    "duration": 13,
    "start_time": "2024-06-14T09:50:36.030Z"
   },
   {
    "duration": 4,
    "start_time": "2024-06-14T09:51:00.302Z"
   },
   {
    "duration": 6,
    "start_time": "2024-06-14T09:51:20.825Z"
   },
   {
    "duration": 11,
    "start_time": "2024-06-14T09:51:31.991Z"
   },
   {
    "duration": 30,
    "start_time": "2024-06-14T09:58:38.628Z"
   },
   {
    "duration": 15,
    "start_time": "2024-06-14T10:01:26.205Z"
   }
  ],
  "kernelspec": {
   "display_name": "Python 3 (ipykernel)",
   "language": "python",
   "name": "python3"
  },
  "language_info": {
   "codemirror_mode": {
    "name": "ipython",
    "version": 3
   },
   "file_extension": ".py",
   "mimetype": "text/x-python",
   "name": "python",
   "nbconvert_exporter": "python",
   "pygments_lexer": "ipython3",
   "version": "3.12.3"
  },
  "toc": {
   "base_numbering": 1,
   "nav_menu": {},
   "number_sections": true,
   "sideBar": true,
   "skip_h1_title": true,
   "title_cell": "Table of Contents",
   "title_sidebar": "Contents",
   "toc_cell": false,
   "toc_position": {},
   "toc_section_display": true,
   "toc_window_display": false
  }
 },
 "nbformat": 4,
 "nbformat_minor": 4
}
