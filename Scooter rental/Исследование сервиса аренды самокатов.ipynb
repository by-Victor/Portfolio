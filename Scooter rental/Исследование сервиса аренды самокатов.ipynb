{
 "cells": [
  {
   "cell_type": "markdown",
   "id": "69fe535a",
   "metadata": {},
   "source": [
    "# Исследование сервиса аренды самокатов.\n",
    "\n",
    "В нашем распоряжении данные сервиса аренды самокатов GoFast. В данных которые нам передали есть информация о некскольких городах аренды самокатов, а так же о поездках пользователей. Что бы пользоваться данной арендой самокатов пользователи используют мобильное приложение, так же пользователи могут пользоваться сервисом приложения как с подпиской так и без нее. У двух этих сервисов разная стоимость одной минуты и стоимость старта.\n",
    "\n",
    "Цель исследования.\n",
    "\n",
    "1.Подсчет выручки от сервисов с подпиской или без подписки.\n",
    "\n",
    "2.Проверить гипотезы.\n",
    "\n",
    "Ход исследования.\n",
    "\n",
    "Данные о аренде самокатов GoFast я получил в 3х файлах. Которые надо проверить на пропуски и дубликаты. После проверки я объеденю их в 1 датафреймы для удобства использования и преступлю к подсчету выручки и проверки гипотез.\n",
    "\n",
    "Таким образом, мое исследование пройдет в 6 этапов:\n",
    "\n",
    "-загрузка данных\n",
    "\n",
    "-предобработка данных\n",
    "\n",
    "-исследовательский анализ данных\n",
    "\n",
    "-объединение данных\n",
    "\n",
    "-подсчет выручки\n",
    "\n",
    "-проверка гипотез\n"
   ]
  },
  {
   "cell_type": "code",
   "execution_count": 71,
   "id": "72576667",
   "metadata": {},
   "outputs": [],
   "source": [
    "import pandas as pd\n",
    "import matplotlib.pyplot as plt\n",
    "import numpy as np\n",
    "from scipy import stats as st"
   ]
  },
  {
   "cell_type": "markdown",
   "id": "c42cbe00",
   "metadata": {},
   "source": [
    "## Шаг 1. Загрузка данных"
   ]
  },
  {
   "cell_type": "markdown",
   "id": "67a8afbd",
   "metadata": {},
   "source": [
    "### Считайте CSV-файлы с данными с помощью библиотеки pandas и сохраните их в датафреймы. Пути к файлам:"
   ]
  },
  {
   "cell_type": "code",
   "execution_count": 72,
   "id": "eff9f206",
   "metadata": {},
   "outputs": [],
   "source": [
    "try:\n",
    "    data_users = pd.read_csv('/Users/Victor/Desktop/Github/Статистический анализ данных/Датасет/users_go.csv')     \n",
    "except:\n",
    "    data_users = pd.read_csv('/datasets/users_go.csv')\n",
    "try:\n",
    "    data_rides = pd.read_csv('/Users/Victor/Desktop/Github/Статистический анализ данных/Датасет/rides_go.csv')   \n",
    "except:\n",
    "    data_rides = pd.read_csv('/datasets/rides_go.csv')\n",
    "try:\n",
    "    data_subscriptions = pd.read_csv('/Users/Victor/Desktop/Github/Статистический анализ данных/Датасет/subscriptions_go.csv')  \n",
    "except:\n",
    "    data_subscriptions = pd.read_csv('/datasets/subscriptions_go.csv')"
   ]
  },
  {
   "cell_type": "markdown",
   "id": "ac0d5beb",
   "metadata": {},
   "source": [
    "### Выведите первые строки каждого набора данных. Изучите общую информацию о каждом датафрейме."
   ]
  },
  {
   "cell_type": "code",
   "execution_count": 5,
   "id": "ec931e7d",
   "metadata": {},
   "outputs": [
    {
     "data": {
      "text/html": [
       "<div>\n",
       "<style scoped>\n",
       "    .dataframe tbody tr th:only-of-type {\n",
       "        vertical-align: middle;\n",
       "    }\n",
       "\n",
       "    .dataframe tbody tr th {\n",
       "        vertical-align: top;\n",
       "    }\n",
       "\n",
       "    .dataframe thead th {\n",
       "        text-align: right;\n",
       "    }\n",
       "</style>\n",
       "<table border=\"1\" class=\"dataframe\">\n",
       "  <thead>\n",
       "    <tr style=\"text-align: right;\">\n",
       "      <th></th>\n",
       "      <th>user_id</th>\n",
       "      <th>name</th>\n",
       "      <th>age</th>\n",
       "      <th>city</th>\n",
       "      <th>subscription_type</th>\n",
       "    </tr>\n",
       "  </thead>\n",
       "  <tbody>\n",
       "    <tr>\n",
       "      <th>0</th>\n",
       "      <td>1</td>\n",
       "      <td>Кира</td>\n",
       "      <td>22</td>\n",
       "      <td>Тюмень</td>\n",
       "      <td>ultra</td>\n",
       "    </tr>\n",
       "    <tr>\n",
       "      <th>1</th>\n",
       "      <td>2</td>\n",
       "      <td>Станислав</td>\n",
       "      <td>31</td>\n",
       "      <td>Омск</td>\n",
       "      <td>ultra</td>\n",
       "    </tr>\n",
       "    <tr>\n",
       "      <th>2</th>\n",
       "      <td>3</td>\n",
       "      <td>Алексей</td>\n",
       "      <td>20</td>\n",
       "      <td>Москва</td>\n",
       "      <td>ultra</td>\n",
       "    </tr>\n",
       "    <tr>\n",
       "      <th>3</th>\n",
       "      <td>4</td>\n",
       "      <td>Константин</td>\n",
       "      <td>26</td>\n",
       "      <td>Ростов-на-Дону</td>\n",
       "      <td>ultra</td>\n",
       "    </tr>\n",
       "    <tr>\n",
       "      <th>4</th>\n",
       "      <td>5</td>\n",
       "      <td>Адель</td>\n",
       "      <td>28</td>\n",
       "      <td>Омск</td>\n",
       "      <td>ultra</td>\n",
       "    </tr>\n",
       "  </tbody>\n",
       "</table>\n",
       "</div>"
      ],
      "text/plain": [
       "   user_id        name  age            city subscription_type\n",
       "0        1        Кира   22          Тюмень             ultra\n",
       "1        2   Станислав   31            Омск             ultra\n",
       "2        3     Алексей   20          Москва             ultra\n",
       "3        4  Константин   26  Ростов-на-Дону             ultra\n",
       "4        5       Адель   28            Омск             ultra"
      ]
     },
     "metadata": {},
     "output_type": "display_data"
    }
   ],
   "source": [
    "display(data_users.head())"
   ]
  },
  {
   "cell_type": "code",
   "execution_count": 6,
   "id": "fecf13a3",
   "metadata": {},
   "outputs": [
    {
     "name": "stdout",
     "output_type": "stream",
     "text": [
      "<class 'pandas.core.frame.DataFrame'>\n",
      "RangeIndex: 1565 entries, 0 to 1564\n",
      "Data columns (total 5 columns):\n",
      " #   Column             Non-Null Count  Dtype \n",
      "---  ------             --------------  ----- \n",
      " 0   user_id            1565 non-null   int64 \n",
      " 1   name               1565 non-null   object\n",
      " 2   age                1565 non-null   int64 \n",
      " 3   city               1565 non-null   object\n",
      " 4   subscription_type  1565 non-null   object\n",
      "dtypes: int64(2), object(3)\n",
      "memory usage: 61.3+ KB\n"
     ]
    }
   ],
   "source": [
    "data_users.info()"
   ]
  },
  {
   "cell_type": "code",
   "execution_count": 7,
   "id": "df04a3c4",
   "metadata": {},
   "outputs": [
    {
     "data": {
      "text/html": [
       "<div>\n",
       "<style scoped>\n",
       "    .dataframe tbody tr th:only-of-type {\n",
       "        vertical-align: middle;\n",
       "    }\n",
       "\n",
       "    .dataframe tbody tr th {\n",
       "        vertical-align: top;\n",
       "    }\n",
       "\n",
       "    .dataframe thead th {\n",
       "        text-align: right;\n",
       "    }\n",
       "</style>\n",
       "<table border=\"1\" class=\"dataframe\">\n",
       "  <thead>\n",
       "    <tr style=\"text-align: right;\">\n",
       "      <th></th>\n",
       "      <th>user_id</th>\n",
       "      <th>distance</th>\n",
       "      <th>duration</th>\n",
       "      <th>date</th>\n",
       "    </tr>\n",
       "  </thead>\n",
       "  <tbody>\n",
       "    <tr>\n",
       "      <th>0</th>\n",
       "      <td>1</td>\n",
       "      <td>4409.919140</td>\n",
       "      <td>25.599769</td>\n",
       "      <td>2021-01-01</td>\n",
       "    </tr>\n",
       "    <tr>\n",
       "      <th>1</th>\n",
       "      <td>1</td>\n",
       "      <td>2617.592153</td>\n",
       "      <td>15.816871</td>\n",
       "      <td>2021-01-18</td>\n",
       "    </tr>\n",
       "    <tr>\n",
       "      <th>2</th>\n",
       "      <td>1</td>\n",
       "      <td>754.159807</td>\n",
       "      <td>6.232113</td>\n",
       "      <td>2021-04-20</td>\n",
       "    </tr>\n",
       "    <tr>\n",
       "      <th>3</th>\n",
       "      <td>1</td>\n",
       "      <td>2694.783254</td>\n",
       "      <td>18.511000</td>\n",
       "      <td>2021-08-11</td>\n",
       "    </tr>\n",
       "    <tr>\n",
       "      <th>4</th>\n",
       "      <td>1</td>\n",
       "      <td>4028.687306</td>\n",
       "      <td>26.265803</td>\n",
       "      <td>2021-08-28</td>\n",
       "    </tr>\n",
       "  </tbody>\n",
       "</table>\n",
       "</div>"
      ],
      "text/plain": [
       "   user_id     distance   duration        date\n",
       "0        1  4409.919140  25.599769  2021-01-01\n",
       "1        1  2617.592153  15.816871  2021-01-18\n",
       "2        1   754.159807   6.232113  2021-04-20\n",
       "3        1  2694.783254  18.511000  2021-08-11\n",
       "4        1  4028.687306  26.265803  2021-08-28"
      ]
     },
     "metadata": {},
     "output_type": "display_data"
    }
   ],
   "source": [
    "display(data_rides.head())"
   ]
  },
  {
   "cell_type": "code",
   "execution_count": 8,
   "id": "dca99a79",
   "metadata": {},
   "outputs": [
    {
     "name": "stdout",
     "output_type": "stream",
     "text": [
      "<class 'pandas.core.frame.DataFrame'>\n",
      "RangeIndex: 18068 entries, 0 to 18067\n",
      "Data columns (total 4 columns):\n",
      " #   Column    Non-Null Count  Dtype  \n",
      "---  ------    --------------  -----  \n",
      " 0   user_id   18068 non-null  int64  \n",
      " 1   distance  18068 non-null  float64\n",
      " 2   duration  18068 non-null  float64\n",
      " 3   date      18068 non-null  object \n",
      "dtypes: float64(2), int64(1), object(1)\n",
      "memory usage: 564.8+ KB\n"
     ]
    }
   ],
   "source": [
    "data_rides.info()"
   ]
  },
  {
   "cell_type": "code",
   "execution_count": 9,
   "id": "1b1c10e4",
   "metadata": {},
   "outputs": [
    {
     "data": {
      "text/html": [
       "<div>\n",
       "<style scoped>\n",
       "    .dataframe tbody tr th:only-of-type {\n",
       "        vertical-align: middle;\n",
       "    }\n",
       "\n",
       "    .dataframe tbody tr th {\n",
       "        vertical-align: top;\n",
       "    }\n",
       "\n",
       "    .dataframe thead th {\n",
       "        text-align: right;\n",
       "    }\n",
       "</style>\n",
       "<table border=\"1\" class=\"dataframe\">\n",
       "  <thead>\n",
       "    <tr style=\"text-align: right;\">\n",
       "      <th></th>\n",
       "      <th>subscription_type</th>\n",
       "      <th>minute_price</th>\n",
       "      <th>start_ride_price</th>\n",
       "      <th>subscription_fee</th>\n",
       "    </tr>\n",
       "  </thead>\n",
       "  <tbody>\n",
       "    <tr>\n",
       "      <th>0</th>\n",
       "      <td>free</td>\n",
       "      <td>8</td>\n",
       "      <td>50</td>\n",
       "      <td>0</td>\n",
       "    </tr>\n",
       "    <tr>\n",
       "      <th>1</th>\n",
       "      <td>ultra</td>\n",
       "      <td>6</td>\n",
       "      <td>0</td>\n",
       "      <td>199</td>\n",
       "    </tr>\n",
       "  </tbody>\n",
       "</table>\n",
       "</div>"
      ],
      "text/plain": [
       "  subscription_type  minute_price  start_ride_price  subscription_fee\n",
       "0              free             8                50                 0\n",
       "1             ultra             6                 0               199"
      ]
     },
     "metadata": {},
     "output_type": "display_data"
    }
   ],
   "source": [
    "display(data_subscriptions.head())"
   ]
  },
  {
   "cell_type": "code",
   "execution_count": 10,
   "id": "610de4aa",
   "metadata": {},
   "outputs": [
    {
     "name": "stdout",
     "output_type": "stream",
     "text": [
      "<class 'pandas.core.frame.DataFrame'>\n",
      "RangeIndex: 2 entries, 0 to 1\n",
      "Data columns (total 4 columns):\n",
      " #   Column             Non-Null Count  Dtype \n",
      "---  ------             --------------  ----- \n",
      " 0   subscription_type  2 non-null      object\n",
      " 1   minute_price       2 non-null      int64 \n",
      " 2   start_ride_price   2 non-null      int64 \n",
      " 3   subscription_fee   2 non-null      int64 \n",
      "dtypes: int64(3), object(1)\n",
      "memory usage: 196.0+ bytes\n"
     ]
    }
   ],
   "source": [
    "data_subscriptions.info()"
   ]
  },
  {
   "cell_type": "code",
   "execution_count": 11,
   "id": "5a011dd9",
   "metadata": {},
   "outputs": [
    {
     "name": "stdout",
     "output_type": "stream",
     "text": [
      "(1565, 5)\n",
      "(18068, 4)\n",
      "(2, 4)\n"
     ]
    }
   ],
   "source": [
    "data_users_shape = data_users.shape\n",
    "data_rides_shape = data_rides.shape\n",
    "data_subscriptions_shape = data_subscriptions.shape\n",
    "print(data_users_shape)\n",
    "print(data_rides_shape)\n",
    "print(data_subscriptions_shape)"
   ]
  },
  {
   "cell_type": "markdown",
   "id": "9e16c5c6",
   "metadata": {},
   "source": [
    "По полученным данным можно сказать что они читабельные, названия колонок приведены к единому регистру. Можно еще сказать что нет пропусков из вы веденных данных."
   ]
  },
  {
   "cell_type": "markdown",
   "id": "e95ebca7",
   "metadata": {},
   "source": [
    "## Шаг 2. Предобработка данных"
   ]
  },
  {
   "cell_type": "markdown",
   "id": "2d11f854",
   "metadata": {},
   "source": [
    "### Приведите столбец date к типу даты pandas."
   ]
  },
  {
   "cell_type": "code",
   "execution_count": 14,
   "id": "af6d202c",
   "metadata": {},
   "outputs": [],
   "source": [
    "data_rides['date'] = pd.to_datetime(data_rides['date'], format='%Y-%m-%d')\n",
    "#data_rides['date'].head()"
   ]
  },
  {
   "cell_type": "markdown",
   "id": "18bcc5fb",
   "metadata": {},
   "source": [
    "### Создайте новый столбец с номером месяца на основе столбца date."
   ]
  },
  {
   "cell_type": "code",
   "execution_count": 15,
   "id": "d7226858",
   "metadata": {},
   "outputs": [
    {
     "data": {
      "text/html": [
       "<div>\n",
       "<style scoped>\n",
       "    .dataframe tbody tr th:only-of-type {\n",
       "        vertical-align: middle;\n",
       "    }\n",
       "\n",
       "    .dataframe tbody tr th {\n",
       "        vertical-align: top;\n",
       "    }\n",
       "\n",
       "    .dataframe thead th {\n",
       "        text-align: right;\n",
       "    }\n",
       "</style>\n",
       "<table border=\"1\" class=\"dataframe\">\n",
       "  <thead>\n",
       "    <tr style=\"text-align: right;\">\n",
       "      <th></th>\n",
       "      <th>user_id</th>\n",
       "      <th>distance</th>\n",
       "      <th>duration</th>\n",
       "      <th>date</th>\n",
       "      <th>month</th>\n",
       "    </tr>\n",
       "  </thead>\n",
       "  <tbody>\n",
       "    <tr>\n",
       "      <th>0</th>\n",
       "      <td>1</td>\n",
       "      <td>4409.919140</td>\n",
       "      <td>25.599769</td>\n",
       "      <td>2021-01-01</td>\n",
       "      <td>1</td>\n",
       "    </tr>\n",
       "    <tr>\n",
       "      <th>1</th>\n",
       "      <td>1</td>\n",
       "      <td>2617.592153</td>\n",
       "      <td>15.816871</td>\n",
       "      <td>2021-01-18</td>\n",
       "      <td>1</td>\n",
       "    </tr>\n",
       "    <tr>\n",
       "      <th>2</th>\n",
       "      <td>1</td>\n",
       "      <td>754.159807</td>\n",
       "      <td>6.232113</td>\n",
       "      <td>2021-04-20</td>\n",
       "      <td>4</td>\n",
       "    </tr>\n",
       "    <tr>\n",
       "      <th>3</th>\n",
       "      <td>1</td>\n",
       "      <td>2694.783254</td>\n",
       "      <td>18.511000</td>\n",
       "      <td>2021-08-11</td>\n",
       "      <td>8</td>\n",
       "    </tr>\n",
       "    <tr>\n",
       "      <th>4</th>\n",
       "      <td>1</td>\n",
       "      <td>4028.687306</td>\n",
       "      <td>26.265803</td>\n",
       "      <td>2021-08-28</td>\n",
       "      <td>8</td>\n",
       "    </tr>\n",
       "  </tbody>\n",
       "</table>\n",
       "</div>"
      ],
      "text/plain": [
       "   user_id     distance   duration       date  month\n",
       "0        1  4409.919140  25.599769 2021-01-01      1\n",
       "1        1  2617.592153  15.816871 2021-01-18      1\n",
       "2        1   754.159807   6.232113 2021-04-20      4\n",
       "3        1  2694.783254  18.511000 2021-08-11      8\n",
       "4        1  4028.687306  26.265803 2021-08-28      8"
      ]
     },
     "execution_count": 15,
     "metadata": {},
     "output_type": "execute_result"
    }
   ],
   "source": [
    "data_rides['month'] = (data_rides['date']).dt.month\n",
    "data_rides.head()"
   ]
  },
  {
   "cell_type": "markdown",
   "id": "384ab04d",
   "metadata": {},
   "source": [
    "### Проверьте наличие пропущенных значений и дубликатов в датафреймах. Обработайте их, если такие значения присутствуют."
   ]
  },
  {
   "cell_type": "code",
   "execution_count": 16,
   "id": "46482059",
   "metadata": {},
   "outputs": [
    {
     "data": {
      "text/plain": [
       "0"
      ]
     },
     "execution_count": 16,
     "metadata": {},
     "output_type": "execute_result"
    }
   ],
   "source": [
    "data_rides.duplicated().sum()"
   ]
  },
  {
   "cell_type": "code",
   "execution_count": 17,
   "id": "3c8ea9d1",
   "metadata": {},
   "outputs": [
    {
     "data": {
      "text/plain": [
       "0"
      ]
     },
     "execution_count": 17,
     "metadata": {},
     "output_type": "execute_result"
    }
   ],
   "source": [
    "data_subscriptions.duplicated().sum()"
   ]
  },
  {
   "cell_type": "code",
   "execution_count": 18,
   "id": "5b310046",
   "metadata": {},
   "outputs": [
    {
     "data": {
      "text/plain": [
       "31"
      ]
     },
     "execution_count": 18,
     "metadata": {},
     "output_type": "execute_result"
    }
   ],
   "source": [
    "data_users.duplicated().sum()"
   ]
  },
  {
   "cell_type": "code",
   "execution_count": 19,
   "id": "fa9171ad",
   "metadata": {},
   "outputs": [],
   "source": [
    "data_users['user_id'] = data_users['user_id'].drop_duplicates()"
   ]
  },
  {
   "cell_type": "code",
   "execution_count": 20,
   "id": "3a823612",
   "metadata": {},
   "outputs": [
    {
     "data": {
      "text/plain": [
       "0"
      ]
     },
     "execution_count": 20,
     "metadata": {},
     "output_type": "execute_result"
    }
   ],
   "source": [
    "data_users.duplicated().sum()"
   ]
  },
  {
   "cell_type": "code",
   "execution_count": 21,
   "id": "380b7678",
   "metadata": {},
   "outputs": [
    {
     "data": {
      "text/plain": [
       "user_id              31\n",
       "name                  0\n",
       "age                   0\n",
       "city                  0\n",
       "subscription_type     0\n",
       "dtype: int64"
      ]
     },
     "execution_count": 21,
     "metadata": {},
     "output_type": "execute_result"
    }
   ],
   "source": [
    "data_users.isna().sum()"
   ]
  },
  {
   "cell_type": "code",
   "execution_count": 22,
   "id": "34f1127f",
   "metadata": {},
   "outputs": [
    {
     "data": {
      "text/plain": [
       "user_id     0\n",
       "distance    0\n",
       "duration    0\n",
       "date        0\n",
       "month       0\n",
       "dtype: int64"
      ]
     },
     "execution_count": 22,
     "metadata": {},
     "output_type": "execute_result"
    }
   ],
   "source": [
    "data_rides.isna().sum()"
   ]
  },
  {
   "cell_type": "code",
   "execution_count": 23,
   "id": "96c55ae2",
   "metadata": {},
   "outputs": [
    {
     "data": {
      "text/plain": [
       "subscription_type    0\n",
       "minute_price         0\n",
       "start_ride_price     0\n",
       "subscription_fee     0\n",
       "dtype: int64"
      ]
     },
     "execution_count": 23,
     "metadata": {},
     "output_type": "execute_result"
    }
   ],
   "source": [
    "data_subscriptions.isna().sum()"
   ]
  },
  {
   "cell_type": "markdown",
   "id": "5ee6ce45",
   "metadata": {},
   "source": [
    "По выводу данных видно что пропусков нет, как и предпологалось, но есть дубликаты которые мы удалили."
   ]
  },
  {
   "cell_type": "markdown",
   "id": "212593c7",
   "metadata": {},
   "source": [
    "## Шаг 3. Исследовательский анализ данных"
   ]
  },
  {
   "cell_type": "markdown",
   "id": "4d13c23e",
   "metadata": {},
   "source": [
    "### частота встречаемости городов;"
   ]
  },
  {
   "cell_type": "code",
   "execution_count": 20,
   "id": "6a5ac577",
   "metadata": {},
   "outputs": [
    {
     "data": {
      "text/plain": [
       "Text(0, 0.5, 'названия городов')"
      ]
     },
     "execution_count": 20,
     "metadata": {},
     "output_type": "execute_result"
    },
    {
     "data": {
      "image/png": "[encoded data removed]",
      "text/plain": [
       "<Figure size 864x360 with 1 Axes>"
      ]
     },
     "metadata": {
      "needs_background": "light"
     },
     "output_type": "display_data"
    }
   ],
   "source": [
    "data_users['city'].value_counts().plot.barh(figsize=(12,5), title='частота встречаемости городов')\n",
    "plt.xlabel('количество пользователей')\n",
    "plt.ylabel('названия городов')"
   ]
  },
  {
   "cell_type": "markdown",
   "id": "c3620d1e",
   "metadata": {},
   "source": [
    "Из диаграмы видно что Пятигорск является лидером по количеству пользователей. В то время как Москва занимает последнее место по количеству пользователей."
   ]
  },
  {
   "cell_type": "markdown",
   "id": "9d54676f",
   "metadata": {},
   "source": [
    "### Соотношение пользователей с подпиской и без подписки;"
   ]
  },
  {
   "cell_type": "code",
   "execution_count": 21,
   "id": "0cf63083",
   "metadata": {},
   "outputs": [
    {
     "data": {
      "image/png": "[encoded data removed]",
      "text/plain": [
       "<Figure size 432x288 with 1 Axes>"
      ]
     },
     "metadata": {},
     "output_type": "display_data"
    }
   ],
   "source": [
    "data_users['subscription_type'].value_counts().plot(kind='pie',autopct='%1.1f%%')\n",
    "plt.title('соотношение пользователей с подпиской и без подписки');"
   ]
  },
  {
   "cell_type": "markdown",
   "id": "88babd9c",
   "metadata": {},
   "source": [
    "Как мы видим из круговой диаграммы что пользователей без подписки больше на 8.2% чем пользователей с подпиской."
   ]
  },
  {
   "cell_type": "markdown",
   "id": "7b03b830",
   "metadata": {},
   "source": [
    "### Возраст пользователей;"
   ]
  },
  {
   "cell_type": "code",
   "execution_count": 22,
   "id": "33003136",
   "metadata": {},
   "outputs": [
    {
     "data": {
      "text/plain": [
       "count    1565.000000\n",
       "mean       24.922045\n",
       "std         4.553496\n",
       "min        12.000000\n",
       "25%        22.000000\n",
       "50%        25.000000\n",
       "75%        28.000000\n",
       "max        43.000000\n",
       "Name: age, dtype: float64"
      ]
     },
     "execution_count": 22,
     "metadata": {},
     "output_type": "execute_result"
    },
    {
     "data": {
      "image/png": "[encoded data removed]",
      "text/plain": [
       "<Figure size 432x288 with 1 Axes>"
      ]
     },
     "metadata": {
      "needs_background": "light"
     },
     "output_type": "display_data"
    }
   ],
   "source": [
    "data_users['age'].plot(kind='hist', grid=True, bins= 40, title='возраст пользователей')\n",
    "plt.xlabel('возраст пользователей')\n",
    "plt.ylabel('количество пользователей')\n",
    "data_users['age'].describe()"
   ]
  },
  {
   "cell_type": "code",
   "execution_count": 23,
   "id": "cd68b879",
   "metadata": {},
   "outputs": [
    {
     "data": {
      "text/plain": [
       "[Text(0.5, 1.0, 'возраст пользователей')]"
      ]
     },
     "execution_count": 23,
     "metadata": {},
     "output_type": "execute_result"
    },
    {
     "data": {
      "image/png": "[encoded data removed]",
      "text/plain": [
       "<Figure size 432x288 with 1 Axes>"
      ]
     },
     "metadata": {
      "needs_background": "light"
     },
     "output_type": "display_data"
    }
   ],
   "source": [
    "data_users.boxplot(column=['age']).set(title='возраст пользователей')"
   ]
  },
  {
   "cell_type": "markdown",
   "id": "5fc832cf",
   "metadata": {},
   "source": [
    "Возраст клиентов в основном сосредоточен в промежутке от 20 и до 28 лет. Но средний возварст пользователей это 25 лет."
   ]
  },
  {
   "cell_type": "markdown",
   "id": "c7fb417d",
   "metadata": {},
   "source": [
    "### Расстояние, которое пользователь преодолел за одну поездку;"
   ]
  },
  {
   "cell_type": "code",
   "execution_count": 24,
   "id": "6a127ab1",
   "metadata": {},
   "outputs": [
    {
     "data": {
      "text/plain": [
       "count    18068.000000\n",
       "mean      3070.659976\n",
       "std       1116.831209\n",
       "min          0.855683\n",
       "25%       2543.226360\n",
       "50%       3133.609994\n",
       "75%       3776.222735\n",
       "max       7211.007745\n",
       "Name: distance, dtype: float64"
      ]
     },
     "execution_count": 24,
     "metadata": {},
     "output_type": "execute_result"
    },
    {
     "data": {
      "image/png": "[encoded data removed]",
      "text/plain": [
       "<Figure size 432x288 with 1 Axes>"
      ]
     },
     "metadata": {
      "needs_background": "light"
     },
     "output_type": "display_data"
    }
   ],
   "source": [
    "data_rides['distance'].plot(kind= 'hist', bins= 100, grid= True, title='расстояние, которое пользователь преодолел за одну поездку')\n",
    "plt.xlabel('расстояние, которое пользователь преодолел за одну поездку')\n",
    "plt.ylabel('количество пользователей')\n",
    "data_rides['distance'].describe()"
   ]
  },
  {
   "cell_type": "code",
   "execution_count": 25,
   "id": "e38869e4",
   "metadata": {},
   "outputs": [
    {
     "data": {
      "text/plain": [
       "count    16215.000000\n",
       "mean      3291.799911\n",
       "std        801.466787\n",
       "min       1301.428166\n",
       "25%       2727.249529\n",
       "50%       3221.915943\n",
       "75%       3841.726559\n",
       "max       5494.799099\n",
       "Name: distance, dtype: float64"
      ]
     },
     "execution_count": 25,
     "metadata": {},
     "output_type": "execute_result"
    },
    {
     "data": {
      "image/png": "[encoded data removed]",
      "text/plain": [
       "<Figure size 432x288 with 1 Axes>"
      ]
     },
     "metadata": {
      "needs_background": "light"
     },
     "output_type": "display_data"
    }
   ],
   "source": [
    "data_rides_distance = data_rides.query('distance >= 1300 and distance <= 5500')\n",
    "data_rides_distance.plot(y= 'distance', kind= 'hist', bins= 50, grid= True, range= (800,6000), title='расстояние, которое пользователь преодолел за одну поездку')\n",
    "plt.xlabel('расстояние, которое пользователь преодолел за одну поездку')\n",
    "plt.ylabel('количество пользователей')\n",
    "data_rides_distance['distance'].describe()"
   ]
  },
  {
   "cell_type": "code",
   "execution_count": 26,
   "id": "cc92d23c",
   "metadata": {},
   "outputs": [
    {
     "data": {
      "text/plain": [
       "[Text(0.5, 1.0, 'расстояние, которое пользователь преодолел за одну поездку')]"
      ]
     },
     "execution_count": 26,
     "metadata": {},
     "output_type": "execute_result"
    },
    {
     "data": {
      "image/png": "[encoded data removed]",
      "text/plain": [
       "<Figure size 432x288 with 1 Axes>"
      ]
     },
     "metadata": {
      "needs_background": "light"
     },
     "output_type": "display_data"
    }
   ],
   "source": [
    "data_rides.boxplot(column=['distance']).set(title='расстояние, которое пользователь преодолел за одну поездку')"
   ]
  },
  {
   "cell_type": "code",
   "execution_count": 27,
   "id": "68efec90",
   "metadata": {},
   "outputs": [
    {
     "data": {
      "text/plain": [
       "[Text(0.5, 1.0, 'расстояние, которое пользователь преодолел за одну поездку')]"
      ]
     },
     "execution_count": 27,
     "metadata": {},
     "output_type": "execute_result"
    },
    {
     "data": {
      "image/png": "[encoded data removed]",
      "text/plain": [
       "<Figure size 432x288 with 1 Axes>"
      ]
     },
     "metadata": {
      "needs_background": "light"
     },
     "output_type": "display_data"
    }
   ],
   "source": [
    "data_rides_distance.boxplot(column=['distance']).set(title='расстояние, которое пользователь преодолел за одну поездку')"
   ]
  },
  {
   "cell_type": "markdown",
   "id": "826195b4",
   "metadata": {},
   "source": [
    "В среднем пользователи проезжают 3 км. за одну поездку. Если откинуть вбросы то получается 3.3 км за поездку."
   ]
  },
  {
   "cell_type": "markdown",
   "id": "60ba428a",
   "metadata": {},
   "source": [
    "### Продолжительность поездок."
   ]
  },
  {
   "cell_type": "code",
   "execution_count": 28,
   "id": "422757b3",
   "metadata": {},
   "outputs": [
    {
     "data": {
      "text/plain": [
       "count    18068.000000\n",
       "mean        17.805011\n",
       "std          6.091051\n",
       "min          0.500000\n",
       "25%         13.597563\n",
       "50%         17.678395\n",
       "75%         21.724800\n",
       "max         40.823963\n",
       "Name: duration, dtype: float64"
      ]
     },
     "execution_count": 28,
     "metadata": {},
     "output_type": "execute_result"
    },
    {
     "data": {
      "image/png": "[encoded data removed]",
      "text/plain": [
       "<Figure size 432x288 with 1 Axes>"
      ]
     },
     "metadata": {
      "needs_background": "light"
     },
     "output_type": "display_data"
    }
   ],
   "source": [
    "data_rides['duration'].plot(kind='hist', grid= True, bins= 80, title='продолжительность поездок')\n",
    "plt.xlabel('продолжительность поездок')\n",
    "plt.ylabel('количество пользователей')\n",
    "data_rides['duration'].describe()"
   ]
  },
  {
   "cell_type": "code",
   "execution_count": 29,
   "id": "302a8afd",
   "metadata": {},
   "outputs": [
    {
     "data": {
      "text/plain": [
       "count    17794.000000\n",
       "mean        17.789483\n",
       "std          5.776266\n",
       "min          3.006979\n",
       "25%         13.659792\n",
       "50%         17.669056\n",
       "75%         21.635939\n",
       "max         32.998485\n",
       "Name: duration, dtype: float64"
      ]
     },
     "execution_count": 29,
     "metadata": {},
     "output_type": "execute_result"
    },
    {
     "data": {
      "image/png": "[encoded data removed]",
      "text/plain": [
       "<Figure size 432x288 with 1 Axes>"
      ]
     },
     "metadata": {
      "needs_background": "light"
     },
     "output_type": "display_data"
    }
   ],
   "source": [
    "data_rides_durations = data_rides.query('duration >= 3 and duration <= 33')\n",
    "data_rides_durations.plot(y= 'duration', kind= 'hist', bins= 100, grid= True, range= (0,40), title='продолжительность поездок')\n",
    "plt.xlabel('продолжительность поездок')\n",
    "plt.ylabel('количество пользователей')\n",
    "data_rides_durations['duration'].describe()"
   ]
  },
  {
   "cell_type": "code",
   "execution_count": 30,
   "id": "e0b08d89",
   "metadata": {},
   "outputs": [
    {
     "data": {
      "text/plain": [
       "[Text(0.5, 1.0, 'продолжительность поездок')]"
      ]
     },
     "execution_count": 30,
     "metadata": {},
     "output_type": "execute_result"
    },
    {
     "data": {
      "image/png": "[encoded data removed]",
      "text/plain": [
       "<Figure size 432x288 with 1 Axes>"
      ]
     },
     "metadata": {
      "needs_background": "light"
     },
     "output_type": "display_data"
    }
   ],
   "source": [
    "data_rides.boxplot(column=['duration']).set(title='продолжительность поездок')"
   ]
  },
  {
   "cell_type": "code",
   "execution_count": 31,
   "id": "e4a9d56c",
   "metadata": {},
   "outputs": [
    {
     "data": {
      "text/plain": [
       "[Text(0.5, 1.0, 'продолжительность поездок')]"
      ]
     },
     "execution_count": 31,
     "metadata": {},
     "output_type": "execute_result"
    },
    {
     "data": {
      "image/png": "[encoded data removed]",
      "text/plain": [
       "<Figure size 432x288 with 1 Axes>"
      ]
     },
     "metadata": {
      "needs_background": "light"
     },
     "output_type": "display_data"
    }
   ],
   "source": [
    "data_rides_durations.boxplot(column=['duration']).set(title='продолжительность поездок')"
   ]
  },
  {
   "cell_type": "markdown",
   "id": "c2aaffd0",
   "metadata": {},
   "source": [
    "Продолжительность поездок у пользователей составляет в среднем 17 минут."
   ]
  },
  {
   "cell_type": "markdown",
   "id": "4ef51331",
   "metadata": {},
   "source": [
    "## Шаг 4. Объединение данных"
   ]
  },
  {
   "cell_type": "markdown",
   "id": "a7842bb3",
   "metadata": {},
   "source": [
    "### Объедините данные о пользователях, поездках и подписках в один датафрейм. Для этого воспользуйтесь методом merge()."
   ]
  },
  {
   "cell_type": "code",
   "execution_count": 32,
   "id": "6bf288b5",
   "metadata": {},
   "outputs": [
    {
     "data": {
      "text/html": [
       "<div>\n",
       "<style scoped>\n",
       "    .dataframe tbody tr th:only-of-type {\n",
       "        vertical-align: middle;\n",
       "    }\n",
       "\n",
       "    .dataframe tbody tr th {\n",
       "        vertical-align: top;\n",
       "    }\n",
       "\n",
       "    .dataframe thead th {\n",
       "        text-align: right;\n",
       "    }\n",
       "</style>\n",
       "<table border=\"1\" class=\"dataframe\">\n",
       "  <thead>\n",
       "    <tr style=\"text-align: right;\">\n",
       "      <th></th>\n",
       "      <th>user_id</th>\n",
       "      <th>name</th>\n",
       "      <th>age</th>\n",
       "      <th>city</th>\n",
       "      <th>subscription_type</th>\n",
       "      <th>distance</th>\n",
       "      <th>duration</th>\n",
       "      <th>date</th>\n",
       "      <th>month</th>\n",
       "      <th>minute_price</th>\n",
       "      <th>start_ride_price</th>\n",
       "      <th>subscription_fee</th>\n",
       "    </tr>\n",
       "  </thead>\n",
       "  <tbody>\n",
       "    <tr>\n",
       "      <th>0</th>\n",
       "      <td>1</td>\n",
       "      <td>Кира</td>\n",
       "      <td>22</td>\n",
       "      <td>Тюмень</td>\n",
       "      <td>ultra</td>\n",
       "      <td>4409.919140</td>\n",
       "      <td>25.599769</td>\n",
       "      <td>2021-01-01</td>\n",
       "      <td>1</td>\n",
       "      <td>6</td>\n",
       "      <td>0</td>\n",
       "      <td>199</td>\n",
       "    </tr>\n",
       "    <tr>\n",
       "      <th>1</th>\n",
       "      <td>1</td>\n",
       "      <td>Кира</td>\n",
       "      <td>22</td>\n",
       "      <td>Тюмень</td>\n",
       "      <td>ultra</td>\n",
       "      <td>2617.592153</td>\n",
       "      <td>15.816871</td>\n",
       "      <td>2021-01-18</td>\n",
       "      <td>1</td>\n",
       "      <td>6</td>\n",
       "      <td>0</td>\n",
       "      <td>199</td>\n",
       "    </tr>\n",
       "    <tr>\n",
       "      <th>2</th>\n",
       "      <td>1</td>\n",
       "      <td>Кира</td>\n",
       "      <td>22</td>\n",
       "      <td>Тюмень</td>\n",
       "      <td>ultra</td>\n",
       "      <td>754.159807</td>\n",
       "      <td>6.232113</td>\n",
       "      <td>2021-04-20</td>\n",
       "      <td>4</td>\n",
       "      <td>6</td>\n",
       "      <td>0</td>\n",
       "      <td>199</td>\n",
       "    </tr>\n",
       "    <tr>\n",
       "      <th>3</th>\n",
       "      <td>1</td>\n",
       "      <td>Кира</td>\n",
       "      <td>22</td>\n",
       "      <td>Тюмень</td>\n",
       "      <td>ultra</td>\n",
       "      <td>2694.783254</td>\n",
       "      <td>18.511000</td>\n",
       "      <td>2021-08-11</td>\n",
       "      <td>8</td>\n",
       "      <td>6</td>\n",
       "      <td>0</td>\n",
       "      <td>199</td>\n",
       "    </tr>\n",
       "    <tr>\n",
       "      <th>4</th>\n",
       "      <td>1</td>\n",
       "      <td>Кира</td>\n",
       "      <td>22</td>\n",
       "      <td>Тюмень</td>\n",
       "      <td>ultra</td>\n",
       "      <td>4028.687306</td>\n",
       "      <td>26.265803</td>\n",
       "      <td>2021-08-28</td>\n",
       "      <td>8</td>\n",
       "      <td>6</td>\n",
       "      <td>0</td>\n",
       "      <td>199</td>\n",
       "    </tr>\n",
       "    <tr>\n",
       "      <th>5</th>\n",
       "      <td>1</td>\n",
       "      <td>Кира</td>\n",
       "      <td>22</td>\n",
       "      <td>Тюмень</td>\n",
       "      <td>ultra</td>\n",
       "      <td>2770.890808</td>\n",
       "      <td>16.650138</td>\n",
       "      <td>2021-10-09</td>\n",
       "      <td>10</td>\n",
       "      <td>6</td>\n",
       "      <td>0</td>\n",
       "      <td>199</td>\n",
       "    </tr>\n",
       "    <tr>\n",
       "      <th>6</th>\n",
       "      <td>1</td>\n",
       "      <td>Кира</td>\n",
       "      <td>22</td>\n",
       "      <td>Тюмень</td>\n",
       "      <td>ultra</td>\n",
       "      <td>3039.020292</td>\n",
       "      <td>14.927879</td>\n",
       "      <td>2021-10-19</td>\n",
       "      <td>10</td>\n",
       "      <td>6</td>\n",
       "      <td>0</td>\n",
       "      <td>199</td>\n",
       "    </tr>\n",
       "    <tr>\n",
       "      <th>7</th>\n",
       "      <td>1</td>\n",
       "      <td>Кира</td>\n",
       "      <td>22</td>\n",
       "      <td>Тюмень</td>\n",
       "      <td>ultra</td>\n",
       "      <td>2842.118050</td>\n",
       "      <td>23.117468</td>\n",
       "      <td>2021-11-06</td>\n",
       "      <td>11</td>\n",
       "      <td>6</td>\n",
       "      <td>0</td>\n",
       "      <td>199</td>\n",
       "    </tr>\n",
       "    <tr>\n",
       "      <th>8</th>\n",
       "      <td>1</td>\n",
       "      <td>Кира</td>\n",
       "      <td>22</td>\n",
       "      <td>Тюмень</td>\n",
       "      <td>ultra</td>\n",
       "      <td>3412.690668</td>\n",
       "      <td>15.238072</td>\n",
       "      <td>2021-11-14</td>\n",
       "      <td>11</td>\n",
       "      <td>6</td>\n",
       "      <td>0</td>\n",
       "      <td>199</td>\n",
       "    </tr>\n",
       "    <tr>\n",
       "      <th>9</th>\n",
       "      <td>1</td>\n",
       "      <td>Кира</td>\n",
       "      <td>22</td>\n",
       "      <td>Тюмень</td>\n",
       "      <td>ultra</td>\n",
       "      <td>748.690645</td>\n",
       "      <td>15.041884</td>\n",
       "      <td>2021-11-22</td>\n",
       "      <td>11</td>\n",
       "      <td>6</td>\n",
       "      <td>0</td>\n",
       "      <td>199</td>\n",
       "    </tr>\n",
       "    <tr>\n",
       "      <th>10</th>\n",
       "      <td>1</td>\n",
       "      <td>Кира</td>\n",
       "      <td>22</td>\n",
       "      <td>Тюмень</td>\n",
       "      <td>ultra</td>\n",
       "      <td>4031.020195</td>\n",
       "      <td>17.674448</td>\n",
       "      <td>2021-12-14</td>\n",
       "      <td>12</td>\n",
       "      <td>6</td>\n",
       "      <td>0</td>\n",
       "      <td>199</td>\n",
       "    </tr>\n",
       "    <tr>\n",
       "      <th>11</th>\n",
       "      <td>1</td>\n",
       "      <td>Кира</td>\n",
       "      <td>22</td>\n",
       "      <td>Тюмень</td>\n",
       "      <td>ultra</td>\n",
       "      <td>2720.609748</td>\n",
       "      <td>9.529463</td>\n",
       "      <td>2021-12-22</td>\n",
       "      <td>12</td>\n",
       "      <td>6</td>\n",
       "      <td>0</td>\n",
       "      <td>199</td>\n",
       "    </tr>\n",
       "    <tr>\n",
       "      <th>12</th>\n",
       "      <td>2</td>\n",
       "      <td>Станислав</td>\n",
       "      <td>31</td>\n",
       "      <td>Омск</td>\n",
       "      <td>ultra</td>\n",
       "      <td>3105.086678</td>\n",
       "      <td>24.307514</td>\n",
       "      <td>2021-03-15</td>\n",
       "      <td>3</td>\n",
       "      <td>6</td>\n",
       "      <td>0</td>\n",
       "      <td>199</td>\n",
       "    </tr>\n",
       "    <tr>\n",
       "      <th>13</th>\n",
       "      <td>2</td>\n",
       "      <td>Станислав</td>\n",
       "      <td>31</td>\n",
       "      <td>Омск</td>\n",
       "      <td>ultra</td>\n",
       "      <td>3053.519401</td>\n",
       "      <td>11.543256</td>\n",
       "      <td>2021-03-18</td>\n",
       "      <td>3</td>\n",
       "      <td>6</td>\n",
       "      <td>0</td>\n",
       "      <td>199</td>\n",
       "    </tr>\n",
       "    <tr>\n",
       "      <th>14</th>\n",
       "      <td>2</td>\n",
       "      <td>Станислав</td>\n",
       "      <td>31</td>\n",
       "      <td>Омск</td>\n",
       "      <td>ultra</td>\n",
       "      <td>4029.116927</td>\n",
       "      <td>25.109188</td>\n",
       "      <td>2021-03-23</td>\n",
       "      <td>3</td>\n",
       "      <td>6</td>\n",
       "      <td>0</td>\n",
       "      <td>199</td>\n",
       "    </tr>\n",
       "  </tbody>\n",
       "</table>\n",
       "</div>"
      ],
      "text/plain": [
       "    user_id       name  age    city subscription_type     distance   duration  \\\n",
       "0         1       Кира   22  Тюмень             ultra  4409.919140  25.599769   \n",
       "1         1       Кира   22  Тюмень             ultra  2617.592153  15.816871   \n",
       "2         1       Кира   22  Тюмень             ultra   754.159807   6.232113   \n",
       "3         1       Кира   22  Тюмень             ultra  2694.783254  18.511000   \n",
       "4         1       Кира   22  Тюмень             ultra  4028.687306  26.265803   \n",
       "5         1       Кира   22  Тюмень             ultra  2770.890808  16.650138   \n",
       "6         1       Кира   22  Тюмень             ultra  3039.020292  14.927879   \n",
       "7         1       Кира   22  Тюмень             ultra  2842.118050  23.117468   \n",
       "8         1       Кира   22  Тюмень             ultra  3412.690668  15.238072   \n",
       "9         1       Кира   22  Тюмень             ultra   748.690645  15.041884   \n",
       "10        1       Кира   22  Тюмень             ultra  4031.020195  17.674448   \n",
       "11        1       Кира   22  Тюмень             ultra  2720.609748   9.529463   \n",
       "12        2  Станислав   31    Омск             ultra  3105.086678  24.307514   \n",
       "13        2  Станислав   31    Омск             ultra  3053.519401  11.543256   \n",
       "14        2  Станислав   31    Омск             ultra  4029.116927  25.109188   \n",
       "\n",
       "         date  month  minute_price  start_ride_price  subscription_fee  \n",
       "0  2021-01-01      1             6                 0               199  \n",
       "1  2021-01-18      1             6                 0               199  \n",
       "2  2021-04-20      4             6                 0               199  \n",
       "3  2021-08-11      8             6                 0               199  \n",
       "4  2021-08-28      8             6                 0               199  \n",
       "5  2021-10-09     10             6                 0               199  \n",
       "6  2021-10-19     10             6                 0               199  \n",
       "7  2021-11-06     11             6                 0               199  \n",
       "8  2021-11-14     11             6                 0               199  \n",
       "9  2021-11-22     11             6                 0               199  \n",
       "10 2021-12-14     12             6                 0               199  \n",
       "11 2021-12-22     12             6                 0               199  \n",
       "12 2021-03-15      3             6                 0               199  \n",
       "13 2021-03-18      3             6                 0               199  \n",
       "14 2021-03-23      3             6                 0               199  "
      ]
     },
     "metadata": {},
     "output_type": "display_data"
    },
    {
     "name": "stdout",
     "output_type": "stream",
     "text": [
      "(18068, 12)\n",
      "(1565, 5)\n",
      "(18068, 4)\n",
      "(2, 4)\n"
     ]
    }
   ],
   "source": [
    "data_one = data_users.merge(data_rides, on='user_id', how='right')\n",
    "data = data_one.merge(data_subscriptions, on='subscription_type', how='left')\n",
    "data['user_id'] = data['user_id'].astype(int)\n",
    "display(data.head(15))\n",
    "data_shape = data.shape\n",
    "print(data_shape)\n",
    "print(data_users_shape)\n",
    "print(data_rides_shape)\n",
    "print(data_subscriptions_shape)"
   ]
  },
  {
   "cell_type": "markdown",
   "id": "77c3dcd9",
   "metadata": {},
   "source": [
    "Из выведенных данных можно посчитать что данные после объединения остались точно такие же что и до."
   ]
  },
  {
   "cell_type": "markdown",
   "id": "7f0d4517",
   "metadata": {},
   "source": [
    "### Создайте ещё два датафрейма из датафрейма, созданного на этапе 4.1:\n",
    "\n",
    "c данными о пользователях без подписки;\n",
    "\n",
    "с данными о пользователях с подпиской."
   ]
  },
  {
   "cell_type": "code",
   "execution_count": 33,
   "id": "69aeaa0f",
   "metadata": {},
   "outputs": [
    {
     "data": {
      "text/html": [
       "<div>\n",
       "<style scoped>\n",
       "    .dataframe tbody tr th:only-of-type {\n",
       "        vertical-align: middle;\n",
       "    }\n",
       "\n",
       "    .dataframe tbody tr th {\n",
       "        vertical-align: top;\n",
       "    }\n",
       "\n",
       "    .dataframe thead th {\n",
       "        text-align: right;\n",
       "    }\n",
       "</style>\n",
       "<table border=\"1\" class=\"dataframe\">\n",
       "  <thead>\n",
       "    <tr style=\"text-align: right;\">\n",
       "      <th></th>\n",
       "      <th>user_id</th>\n",
       "      <th>name</th>\n",
       "      <th>age</th>\n",
       "      <th>city</th>\n",
       "      <th>subscription_type</th>\n",
       "      <th>distance</th>\n",
       "      <th>duration</th>\n",
       "      <th>date</th>\n",
       "      <th>month</th>\n",
       "      <th>minute_price</th>\n",
       "      <th>start_ride_price</th>\n",
       "      <th>subscription_fee</th>\n",
       "    </tr>\n",
       "  </thead>\n",
       "  <tbody>\n",
       "    <tr>\n",
       "      <th>0</th>\n",
       "      <td>1</td>\n",
       "      <td>Кира</td>\n",
       "      <td>22</td>\n",
       "      <td>Тюмень</td>\n",
       "      <td>ultra</td>\n",
       "      <td>4409.919140</td>\n",
       "      <td>25.599769</td>\n",
       "      <td>2021-01-01</td>\n",
       "      <td>1</td>\n",
       "      <td>6</td>\n",
       "      <td>0</td>\n",
       "      <td>199</td>\n",
       "    </tr>\n",
       "    <tr>\n",
       "      <th>1</th>\n",
       "      <td>1</td>\n",
       "      <td>Кира</td>\n",
       "      <td>22</td>\n",
       "      <td>Тюмень</td>\n",
       "      <td>ultra</td>\n",
       "      <td>2617.592153</td>\n",
       "      <td>15.816871</td>\n",
       "      <td>2021-01-18</td>\n",
       "      <td>1</td>\n",
       "      <td>6</td>\n",
       "      <td>0</td>\n",
       "      <td>199</td>\n",
       "    </tr>\n",
       "    <tr>\n",
       "      <th>2</th>\n",
       "      <td>1</td>\n",
       "      <td>Кира</td>\n",
       "      <td>22</td>\n",
       "      <td>Тюмень</td>\n",
       "      <td>ultra</td>\n",
       "      <td>754.159807</td>\n",
       "      <td>6.232113</td>\n",
       "      <td>2021-04-20</td>\n",
       "      <td>4</td>\n",
       "      <td>6</td>\n",
       "      <td>0</td>\n",
       "      <td>199</td>\n",
       "    </tr>\n",
       "    <tr>\n",
       "      <th>3</th>\n",
       "      <td>1</td>\n",
       "      <td>Кира</td>\n",
       "      <td>22</td>\n",
       "      <td>Тюмень</td>\n",
       "      <td>ultra</td>\n",
       "      <td>2694.783254</td>\n",
       "      <td>18.511000</td>\n",
       "      <td>2021-08-11</td>\n",
       "      <td>8</td>\n",
       "      <td>6</td>\n",
       "      <td>0</td>\n",
       "      <td>199</td>\n",
       "    </tr>\n",
       "    <tr>\n",
       "      <th>4</th>\n",
       "      <td>1</td>\n",
       "      <td>Кира</td>\n",
       "      <td>22</td>\n",
       "      <td>Тюмень</td>\n",
       "      <td>ultra</td>\n",
       "      <td>4028.687306</td>\n",
       "      <td>26.265803</td>\n",
       "      <td>2021-08-28</td>\n",
       "      <td>8</td>\n",
       "      <td>6</td>\n",
       "      <td>0</td>\n",
       "      <td>199</td>\n",
       "    </tr>\n",
       "    <tr>\n",
       "      <th>5</th>\n",
       "      <td>1</td>\n",
       "      <td>Кира</td>\n",
       "      <td>22</td>\n",
       "      <td>Тюмень</td>\n",
       "      <td>ultra</td>\n",
       "      <td>2770.890808</td>\n",
       "      <td>16.650138</td>\n",
       "      <td>2021-10-09</td>\n",
       "      <td>10</td>\n",
       "      <td>6</td>\n",
       "      <td>0</td>\n",
       "      <td>199</td>\n",
       "    </tr>\n",
       "    <tr>\n",
       "      <th>6</th>\n",
       "      <td>1</td>\n",
       "      <td>Кира</td>\n",
       "      <td>22</td>\n",
       "      <td>Тюмень</td>\n",
       "      <td>ultra</td>\n",
       "      <td>3039.020292</td>\n",
       "      <td>14.927879</td>\n",
       "      <td>2021-10-19</td>\n",
       "      <td>10</td>\n",
       "      <td>6</td>\n",
       "      <td>0</td>\n",
       "      <td>199</td>\n",
       "    </tr>\n",
       "    <tr>\n",
       "      <th>7</th>\n",
       "      <td>1</td>\n",
       "      <td>Кира</td>\n",
       "      <td>22</td>\n",
       "      <td>Тюмень</td>\n",
       "      <td>ultra</td>\n",
       "      <td>2842.118050</td>\n",
       "      <td>23.117468</td>\n",
       "      <td>2021-11-06</td>\n",
       "      <td>11</td>\n",
       "      <td>6</td>\n",
       "      <td>0</td>\n",
       "      <td>199</td>\n",
       "    </tr>\n",
       "    <tr>\n",
       "      <th>8</th>\n",
       "      <td>1</td>\n",
       "      <td>Кира</td>\n",
       "      <td>22</td>\n",
       "      <td>Тюмень</td>\n",
       "      <td>ultra</td>\n",
       "      <td>3412.690668</td>\n",
       "      <td>15.238072</td>\n",
       "      <td>2021-11-14</td>\n",
       "      <td>11</td>\n",
       "      <td>6</td>\n",
       "      <td>0</td>\n",
       "      <td>199</td>\n",
       "    </tr>\n",
       "    <tr>\n",
       "      <th>9</th>\n",
       "      <td>1</td>\n",
       "      <td>Кира</td>\n",
       "      <td>22</td>\n",
       "      <td>Тюмень</td>\n",
       "      <td>ultra</td>\n",
       "      <td>748.690645</td>\n",
       "      <td>15.041884</td>\n",
       "      <td>2021-11-22</td>\n",
       "      <td>11</td>\n",
       "      <td>6</td>\n",
       "      <td>0</td>\n",
       "      <td>199</td>\n",
       "    </tr>\n",
       "  </tbody>\n",
       "</table>\n",
       "</div>"
      ],
      "text/plain": [
       "   user_id  name  age    city subscription_type     distance   duration  \\\n",
       "0        1  Кира   22  Тюмень             ultra  4409.919140  25.599769   \n",
       "1        1  Кира   22  Тюмень             ultra  2617.592153  15.816871   \n",
       "2        1  Кира   22  Тюмень             ultra   754.159807   6.232113   \n",
       "3        1  Кира   22  Тюмень             ultra  2694.783254  18.511000   \n",
       "4        1  Кира   22  Тюмень             ultra  4028.687306  26.265803   \n",
       "5        1  Кира   22  Тюмень             ultra  2770.890808  16.650138   \n",
       "6        1  Кира   22  Тюмень             ultra  3039.020292  14.927879   \n",
       "7        1  Кира   22  Тюмень             ultra  2842.118050  23.117468   \n",
       "8        1  Кира   22  Тюмень             ultra  3412.690668  15.238072   \n",
       "9        1  Кира   22  Тюмень             ultra   748.690645  15.041884   \n",
       "\n",
       "        date  month  minute_price  start_ride_price  subscription_fee  \n",
       "0 2021-01-01      1             6                 0               199  \n",
       "1 2021-01-18      1             6                 0               199  \n",
       "2 2021-04-20      4             6                 0               199  \n",
       "3 2021-08-11      8             6                 0               199  \n",
       "4 2021-08-28      8             6                 0               199  \n",
       "5 2021-10-09     10             6                 0               199  \n",
       "6 2021-10-19     10             6                 0               199  \n",
       "7 2021-11-06     11             6                 0               199  \n",
       "8 2021-11-14     11             6                 0               199  \n",
       "9 2021-11-22     11             6                 0               199  "
      ]
     },
     "metadata": {},
     "output_type": "display_data"
    },
    {
     "data": {
      "text/plain": [
       "(6500, 12)"
      ]
     },
     "execution_count": 33,
     "metadata": {},
     "output_type": "execute_result"
    }
   ],
   "source": [
    "data_ultra = data.query('subscription_type == \"ultra\"')\n",
    "display(data_ultra.head(10))\n",
    "data_ultra.shape"
   ]
  },
  {
   "cell_type": "code",
   "execution_count": 34,
   "id": "802e5ce1",
   "metadata": {},
   "outputs": [
    {
     "data": {
      "text/html": [
       "<div>\n",
       "<style scoped>\n",
       "    .dataframe tbody tr th:only-of-type {\n",
       "        vertical-align: middle;\n",
       "    }\n",
       "\n",
       "    .dataframe tbody tr th {\n",
       "        vertical-align: top;\n",
       "    }\n",
       "\n",
       "    .dataframe thead th {\n",
       "        text-align: right;\n",
       "    }\n",
       "</style>\n",
       "<table border=\"1\" class=\"dataframe\">\n",
       "  <thead>\n",
       "    <tr style=\"text-align: right;\">\n",
       "      <th></th>\n",
       "      <th>user_id</th>\n",
       "      <th>name</th>\n",
       "      <th>age</th>\n",
       "      <th>city</th>\n",
       "      <th>subscription_type</th>\n",
       "      <th>distance</th>\n",
       "      <th>duration</th>\n",
       "      <th>date</th>\n",
       "      <th>month</th>\n",
       "      <th>minute_price</th>\n",
       "      <th>start_ride_price</th>\n",
       "      <th>subscription_fee</th>\n",
       "    </tr>\n",
       "  </thead>\n",
       "  <tbody>\n",
       "    <tr>\n",
       "      <th>6500</th>\n",
       "      <td>700</td>\n",
       "      <td>Айдар</td>\n",
       "      <td>22</td>\n",
       "      <td>Омск</td>\n",
       "      <td>free</td>\n",
       "      <td>2515.690719</td>\n",
       "      <td>14.944286</td>\n",
       "      <td>2021-01-02</td>\n",
       "      <td>1</td>\n",
       "      <td>8</td>\n",
       "      <td>50</td>\n",
       "      <td>0</td>\n",
       "    </tr>\n",
       "    <tr>\n",
       "      <th>6501</th>\n",
       "      <td>700</td>\n",
       "      <td>Айдар</td>\n",
       "      <td>22</td>\n",
       "      <td>Омск</td>\n",
       "      <td>free</td>\n",
       "      <td>846.932642</td>\n",
       "      <td>16.234663</td>\n",
       "      <td>2021-02-01</td>\n",
       "      <td>2</td>\n",
       "      <td>8</td>\n",
       "      <td>50</td>\n",
       "      <td>0</td>\n",
       "    </tr>\n",
       "    <tr>\n",
       "      <th>6502</th>\n",
       "      <td>700</td>\n",
       "      <td>Айдар</td>\n",
       "      <td>22</td>\n",
       "      <td>Омск</td>\n",
       "      <td>free</td>\n",
       "      <td>4004.434142</td>\n",
       "      <td>20.016628</td>\n",
       "      <td>2021-02-04</td>\n",
       "      <td>2</td>\n",
       "      <td>8</td>\n",
       "      <td>50</td>\n",
       "      <td>0</td>\n",
       "    </tr>\n",
       "    <tr>\n",
       "      <th>6503</th>\n",
       "      <td>700</td>\n",
       "      <td>Айдар</td>\n",
       "      <td>22</td>\n",
       "      <td>Омск</td>\n",
       "      <td>free</td>\n",
       "      <td>1205.911290</td>\n",
       "      <td>9.782872</td>\n",
       "      <td>2021-02-10</td>\n",
       "      <td>2</td>\n",
       "      <td>8</td>\n",
       "      <td>50</td>\n",
       "      <td>0</td>\n",
       "    </tr>\n",
       "    <tr>\n",
       "      <th>6504</th>\n",
       "      <td>700</td>\n",
       "      <td>Айдар</td>\n",
       "      <td>22</td>\n",
       "      <td>Омск</td>\n",
       "      <td>free</td>\n",
       "      <td>3047.379435</td>\n",
       "      <td>17.427673</td>\n",
       "      <td>2021-02-14</td>\n",
       "      <td>2</td>\n",
       "      <td>8</td>\n",
       "      <td>50</td>\n",
       "      <td>0</td>\n",
       "    </tr>\n",
       "    <tr>\n",
       "      <th>6505</th>\n",
       "      <td>700</td>\n",
       "      <td>Айдар</td>\n",
       "      <td>22</td>\n",
       "      <td>Омск</td>\n",
       "      <td>free</td>\n",
       "      <td>4342.002254</td>\n",
       "      <td>22.368009</td>\n",
       "      <td>2021-02-23</td>\n",
       "      <td>2</td>\n",
       "      <td>8</td>\n",
       "      <td>50</td>\n",
       "      <td>0</td>\n",
       "    </tr>\n",
       "    <tr>\n",
       "      <th>6506</th>\n",
       "      <td>700</td>\n",
       "      <td>Айдар</td>\n",
       "      <td>22</td>\n",
       "      <td>Омск</td>\n",
       "      <td>free</td>\n",
       "      <td>3798.334905</td>\n",
       "      <td>18.243756</td>\n",
       "      <td>2021-03-03</td>\n",
       "      <td>3</td>\n",
       "      <td>8</td>\n",
       "      <td>50</td>\n",
       "      <td>0</td>\n",
       "    </tr>\n",
       "    <tr>\n",
       "      <th>6507</th>\n",
       "      <td>700</td>\n",
       "      <td>Айдар</td>\n",
       "      <td>22</td>\n",
       "      <td>Омск</td>\n",
       "      <td>free</td>\n",
       "      <td>2984.551206</td>\n",
       "      <td>15.424899</td>\n",
       "      <td>2021-04-09</td>\n",
       "      <td>4</td>\n",
       "      <td>8</td>\n",
       "      <td>50</td>\n",
       "      <td>0</td>\n",
       "    </tr>\n",
       "    <tr>\n",
       "      <th>6508</th>\n",
       "      <td>700</td>\n",
       "      <td>Айдар</td>\n",
       "      <td>22</td>\n",
       "      <td>Омск</td>\n",
       "      <td>free</td>\n",
       "      <td>3360.107141</td>\n",
       "      <td>16.765497</td>\n",
       "      <td>2021-06-12</td>\n",
       "      <td>6</td>\n",
       "      <td>8</td>\n",
       "      <td>50</td>\n",
       "      <td>0</td>\n",
       "    </tr>\n",
       "    <tr>\n",
       "      <th>6509</th>\n",
       "      <td>700</td>\n",
       "      <td>Айдар</td>\n",
       "      <td>22</td>\n",
       "      <td>Омск</td>\n",
       "      <td>free</td>\n",
       "      <td>2567.543847</td>\n",
       "      <td>11.312160</td>\n",
       "      <td>2021-06-23</td>\n",
       "      <td>6</td>\n",
       "      <td>8</td>\n",
       "      <td>50</td>\n",
       "      <td>0</td>\n",
       "    </tr>\n",
       "  </tbody>\n",
       "</table>\n",
       "</div>"
      ],
      "text/plain": [
       "      user_id   name  age  city subscription_type     distance   duration  \\\n",
       "6500      700  Айдар   22  Омск              free  2515.690719  14.944286   \n",
       "6501      700  Айдар   22  Омск              free   846.932642  16.234663   \n",
       "6502      700  Айдар   22  Омск              free  4004.434142  20.016628   \n",
       "6503      700  Айдар   22  Омск              free  1205.911290   9.782872   \n",
       "6504      700  Айдар   22  Омск              free  3047.379435  17.427673   \n",
       "6505      700  Айдар   22  Омск              free  4342.002254  22.368009   \n",
       "6506      700  Айдар   22  Омск              free  3798.334905  18.243756   \n",
       "6507      700  Айдар   22  Омск              free  2984.551206  15.424899   \n",
       "6508      700  Айдар   22  Омск              free  3360.107141  16.765497   \n",
       "6509      700  Айдар   22  Омск              free  2567.543847  11.312160   \n",
       "\n",
       "           date  month  minute_price  start_ride_price  subscription_fee  \n",
       "6500 2021-01-02      1             8                50                 0  \n",
       "6501 2021-02-01      2             8                50                 0  \n",
       "6502 2021-02-04      2             8                50                 0  \n",
       "6503 2021-02-10      2             8                50                 0  \n",
       "6504 2021-02-14      2             8                50                 0  \n",
       "6505 2021-02-23      2             8                50                 0  \n",
       "6506 2021-03-03      3             8                50                 0  \n",
       "6507 2021-04-09      4             8                50                 0  \n",
       "6508 2021-06-12      6             8                50                 0  \n",
       "6509 2021-06-23      6             8                50                 0  "
      ]
     },
     "metadata": {},
     "output_type": "display_data"
    },
    {
     "data": {
      "text/plain": [
       "(11568, 12)"
      ]
     },
     "execution_count": 34,
     "metadata": {},
     "output_type": "execute_result"
    }
   ],
   "source": [
    "data_free = data.query('subscription_type == \"free\"')\n",
    "display(data_free.head(10))\n",
    "data_free.shape"
   ]
  },
  {
   "cell_type": "markdown",
   "id": "1180a3ef",
   "metadata": {},
   "source": [
    "### Визуализируйте информацию о расстоянии и времени поездок для пользователей обеих категорий."
   ]
  },
  {
   "cell_type": "code",
   "execution_count": 35,
   "id": "a69c8c2c",
   "metadata": {},
   "outputs": [
    {
     "data": {
      "text/plain": [
       "count    6500.000000\n",
       "mean     3115.445388\n",
       "std       836.895330\n",
       "min       244.210438\n",
       "25%      2785.444017\n",
       "50%      3148.637229\n",
       "75%      3560.574425\n",
       "max      5699.769662\n",
       "Name: distance, dtype: float64"
      ]
     },
     "execution_count": 35,
     "metadata": {},
     "output_type": "execute_result"
    },
    {
     "data": {
      "image/png": "[encoded data removed]",
      "text/plain": [
       "<Figure size 864x432 with 1 Axes>"
      ]
     },
     "metadata": {
      "needs_background": "light"
     },
     "output_type": "display_data"
    }
   ],
   "source": [
    "data_ultra.plot(x='distance', y='duration', kind='hist', grid=True, figsize=(12,6), bins= 70, title='расстояние и время поездки пользователей с подпиской')\n",
    "plt.xlabel('расстояние, которое пользователь проехал в текущей сессии')\n",
    "plt.ylabel('продолжительность сессии (в минутах)')\n",
    "data_ultra['distance'].describe()"
   ]
  },
  {
   "cell_type": "markdown",
   "id": "7b74049b",
   "metadata": {},
   "source": [
    "В среднем пользователи с подпиской проезжают от 1400 до 2200 метров за 3 часа."
   ]
  },
  {
   "cell_type": "code",
   "execution_count": 36,
   "id": "a6c86da4",
   "metadata": {},
   "outputs": [
    {
     "data": {
      "text/plain": [
       "Text(0, 0.5, 'продолжительность сессии (в минутах)')"
      ]
     },
     "execution_count": 36,
     "metadata": {},
     "output_type": "execute_result"
    },
    {
     "data": {
      "image/png": "[encoded data removed]",
      "text/plain": [
       "<Figure size 864x432 with 1 Axes>"
      ]
     },
     "metadata": {
      "needs_background": "light"
     },
     "output_type": "display_data"
    }
   ],
   "source": [
    "data_free.plot(x='distance', y='duration', kind='hist', grid=True, figsize=(12,6), bins= 70, title='расстояние и время поездки пользователей без подписки')\n",
    "plt.xlabel('расстояние, которое пользователь проехал в текущей сессии')\n",
    "plt.ylabel('продолжительность сессии (в минутах)')"
   ]
  },
  {
   "cell_type": "markdown",
   "id": "fd15197d",
   "metadata": {},
   "source": [
    "В среднем пользователи без подпиской проезжают от 1400 до 2100 метров за 5 часов."
   ]
  },
  {
   "cell_type": "code",
   "execution_count": 37,
   "id": "8d3e096c",
   "metadata": {},
   "outputs": [
    {
     "data": {
      "text/plain": [
       "count    11568.000000\n",
       "mean        17.390909\n",
       "std          6.326803\n",
       "min          0.500000\n",
       "25%         12.958437\n",
       "50%         17.326890\n",
       "75%         21.594071\n",
       "max         34.948498\n",
       "Name: duration, dtype: float64"
      ]
     },
     "execution_count": 37,
     "metadata": {},
     "output_type": "execute_result"
    },
    {
     "data": {
      "image/png": "[encoded data removed]",
      "text/plain": [
       "<Figure size 432x288 with 1 Axes>"
      ]
     },
     "metadata": {
      "needs_background": "light"
     },
     "output_type": "display_data"
    }
   ],
   "source": [
    "data_free['duration'].plot(kind='hist', grid= True, bins= 80, title='продолжительность поездок пользователей без подписки')\n",
    "plt.xlabel('продолжительность поездок')\n",
    "plt.ylabel('количество пользователей')\n",
    "data_free['duration'].describe()"
   ]
  },
  {
   "cell_type": "code",
   "execution_count": 38,
   "id": "5bd52e32",
   "metadata": {},
   "outputs": [
    {
     "data": {
      "text/plain": [
       "count    6500.000000\n",
       "mean       18.541985\n",
       "std         5.572048\n",
       "min         3.760353\n",
       "25%        14.524654\n",
       "50%        18.178153\n",
       "75%        21.884129\n",
       "max        40.823963\n",
       "Name: duration, dtype: float64"
      ]
     },
     "execution_count": 38,
     "metadata": {},
     "output_type": "execute_result"
    },
    {
     "data": {
      "image/png": "[encoded data removed]",
      "text/plain": [
       "<Figure size 432x288 with 1 Axes>"
      ]
     },
     "metadata": {
      "needs_background": "light"
     },
     "output_type": "display_data"
    }
   ],
   "source": [
    "data_ultra['duration'].plot(kind='hist', grid= True, bins= 80, title='продолжительность поездок пользователей с подпиской')\n",
    "plt.xlabel('продолжительность поездок')\n",
    "plt.ylabel('количество пользователей')\n",
    "data_ultra['duration'].describe()"
   ]
  },
  {
   "cell_type": "code",
   "execution_count": 39,
   "id": "f62ac879",
   "metadata": {},
   "outputs": [
    {
     "data": {
      "text/plain": [
       "count    11568.000000\n",
       "mean      3045.495282\n",
       "std       1246.173806\n",
       "min          0.855683\n",
       "25%       2366.562689\n",
       "50%       3114.648465\n",
       "75%       3905.697894\n",
       "max       7211.007745\n",
       "Name: distance, dtype: float64"
      ]
     },
     "execution_count": 39,
     "metadata": {},
     "output_type": "execute_result"
    },
    {
     "data": {
      "image/png": "[encoded data removed]",
      "text/plain": [
       "<Figure size 432x288 with 1 Axes>"
      ]
     },
     "metadata": {
      "needs_background": "light"
     },
     "output_type": "display_data"
    }
   ],
   "source": [
    "data_free['distance'].plot(kind='hist', grid= True, bins= 80, title='продолжительность поездок пользователей без подписки')\n",
    "plt.xlabel('расстояние, которое пользователь проехал')\n",
    "plt.ylabel('количество пользователей')\n",
    "data_free['distance'].describe()"
   ]
  },
  {
   "cell_type": "code",
   "execution_count": 40,
   "id": "3f276702",
   "metadata": {},
   "outputs": [
    {
     "data": {
      "text/plain": [
       "count    6500.000000\n",
       "mean     3115.445388\n",
       "std       836.895330\n",
       "min       244.210438\n",
       "25%      2785.444017\n",
       "50%      3148.637229\n",
       "75%      3560.574425\n",
       "max      5699.769662\n",
       "Name: distance, dtype: float64"
      ]
     },
     "execution_count": 40,
     "metadata": {},
     "output_type": "execute_result"
    },
    {
     "data": {
      "image/png": "[encoded data removed]",
      "text/plain": [
       "<Figure size 432x288 with 1 Axes>"
      ]
     },
     "metadata": {
      "needs_background": "light"
     },
     "output_type": "display_data"
    }
   ],
   "source": [
    "data_ultra['distance'].plot(kind='hist', grid= True, bins= 80, title='продолжительность поездок пользователей с подпиской')\n",
    "plt.xlabel('расстояние, которое пользователь проехал')\n",
    "plt.ylabel('количество пользователей')\n",
    "data_ultra['distance'].describe()"
   ]
  },
  {
   "cell_type": "code",
   "execution_count": 41,
   "id": "6bc70755",
   "metadata": {},
   "outputs": [
    {
     "data": {
      "text/plain": [
       "Text(0.5, 1.0, 'расстояние, которое пользователи проехали')"
      ]
     },
     "execution_count": 41,
     "metadata": {},
     "output_type": "execute_result"
    },
    {
     "data": {
      "image/png": "[encoded data removed]",
      "text/plain": [
       "<Figure size 432x288 with 1 Axes>"
      ]
     },
     "metadata": {
      "needs_background": "light"
     },
     "output_type": "display_data"
    }
   ],
   "source": [
    "data1 = data_ultra['distance']\n",
    "data2 = data_free['distance']\n",
    "colors = ['YellowGreen', 'Indigo']\n",
    "plt.hist([data1, data2], bins=80, stacked=True, color=colors, label=['sdf'])\n",
    "plt.grid(True)\n",
    "plt.xlabel('расстояние, которое пользователи проехали')\n",
    "plt.ylabel('количество пользователей')\n",
    "plt.title('расстояние, которое пользователи проехали')"
   ]
  },
  {
   "cell_type": "markdown",
   "id": "94454620",
   "metadata": {},
   "source": [
    "Из данной диаграммы мы видим, вне зависимости от того, есть ли подписка у пользователя, среднее расстония поездок 3 км"
   ]
  },
  {
   "cell_type": "code",
   "execution_count": 42,
   "id": "5346d661",
   "metadata": {},
   "outputs": [
    {
     "data": {
      "text/plain": [
       "Text(0.5, 1.0, 'продолжительность поездок')"
      ]
     },
     "execution_count": 42,
     "metadata": {},
     "output_type": "execute_result"
    },
    {
     "data": {
      "image/png": "[encoded data removed]",
      "text/plain": [
       "<Figure size 432x288 with 1 Axes>"
      ]
     },
     "metadata": {
      "needs_background": "light"
     },
     "output_type": "display_data"
    }
   ],
   "source": [
    "data3 = data_ultra['duration']\n",
    "data4 = data_free['duration']\n",
    "colors = ['YellowGreen', 'Indigo']\n",
    "plt.hist([data3, data4], bins=80, stacked=True, color=colors, label=['sdf'])\n",
    "plt.grid(True)\n",
    "plt.xlabel('продолжительность поездок')\n",
    "plt.ylabel('количество пользователей')\n",
    "plt.title('продолжительность поездок')"
   ]
  },
  {
   "cell_type": "markdown",
   "id": "9926ac93",
   "metadata": {},
   "source": [
    "В среднем поездки пользователей занимают от 14 до 22 минут"
   ]
  },
  {
   "cell_type": "code",
   "execution_count": 43,
   "id": "dcf4d01c",
   "metadata": {},
   "outputs": [
    {
     "data": {
      "image/png": "[encoded data removed]",
      "text/plain": [
       "<Figure size 432x288 with 1 Axes>"
      ]
     },
     "metadata": {
      "needs_background": "light"
     },
     "output_type": "display_data"
    }
   ],
   "source": [
    "import matplotlib.pyplot as plt\n",
    "\n",
    "data3 = data_ultra['duration']\n",
    "data4 = data_free['duration']\n",
    "colors = ['YellowGreen', 'Indigo']\n",
    "plt.hist([data3, data4], bins=80, stacked=True, color=colors, label=['data_ultra', 'data_free'])\n",
    "plt.grid(True)\n",
    "plt.xlabel('продолжительность поездок')\n",
    "plt.ylabel('количество пользователей')\n",
    "plt.title('продолжительность поездок')\n",
    "plt.legend()\n",
    "\n",
    "plt.show()\n"
   ]
  },
  {
   "cell_type": "markdown",
   "id": "402d620f",
   "metadata": {},
   "source": [
    "## Шаг 5. Подсчёт выручки"
   ]
  },
  {
   "cell_type": "code",
   "execution_count": 44,
   "id": "57c139b6",
   "metadata": {},
   "outputs": [
    {
     "data": {
      "text/plain": [
       "user_id              0\n",
       "name                 0\n",
       "age                  0\n",
       "city                 0\n",
       "subscription_type    0\n",
       "distance             0\n",
       "duration             0\n",
       "date                 0\n",
       "month                0\n",
       "minute_price         0\n",
       "start_ride_price     0\n",
       "subscription_fee     0\n",
       "dtype: int64"
      ]
     },
     "execution_count": 44,
     "metadata": {},
     "output_type": "execute_result"
    }
   ],
   "source": [
    "data.isna().sum()"
   ]
  },
  {
   "cell_type": "markdown",
   "id": "bb2ddf84",
   "metadata": {},
   "source": [
    "### Создайте датафрейм с агрегированными данными о поездках на основе датафрейма с объединёнными данными из шага 4: найдите суммарное расстояние, количество поездок и суммарное время для каждого пользователя за каждый месяц."
   ]
  },
  {
   "cell_type": "code",
   "execution_count": null,
   "id": "d6fa2d8f",
   "metadata": {},
   "outputs": [],
   "source": [
    "data.mean()"
   ]
  },
  {
   "cell_type": "code",
   "execution_count": 45,
   "id": "cab51ac2",
   "metadata": {},
   "outputs": [],
   "source": [
    "data['duration'] = np.ceil(data['duration'])"
   ]
  },
  {
   "cell_type": "code",
   "execution_count": 46,
   "id": "db596f9c",
   "metadata": {},
   "outputs": [
    {
     "data": {
      "text/html": [
       "<div>\n",
       "<style scoped>\n",
       "    .dataframe tbody tr th:only-of-type {\n",
       "        vertical-align: middle;\n",
       "    }\n",
       "\n",
       "    .dataframe tbody tr th {\n",
       "        vertical-align: top;\n",
       "    }\n",
       "\n",
       "    .dataframe thead th {\n",
       "        text-align: right;\n",
       "    }\n",
       "</style>\n",
       "<table border=\"1\" class=\"dataframe\">\n",
       "  <thead>\n",
       "    <tr style=\"text-align: right;\">\n",
       "      <th></th>\n",
       "      <th>user_id</th>\n",
       "      <th>month</th>\n",
       "      <th>trips</th>\n",
       "      <th>total_distance</th>\n",
       "      <th>total_duration</th>\n",
       "    </tr>\n",
       "  </thead>\n",
       "  <tbody>\n",
       "    <tr>\n",
       "      <th>0</th>\n",
       "      <td>1</td>\n",
       "      <td>1</td>\n",
       "      <td>2</td>\n",
       "      <td>7027.511294</td>\n",
       "      <td>42.0</td>\n",
       "    </tr>\n",
       "    <tr>\n",
       "      <th>1</th>\n",
       "      <td>1</td>\n",
       "      <td>4</td>\n",
       "      <td>1</td>\n",
       "      <td>754.159807</td>\n",
       "      <td>7.0</td>\n",
       "    </tr>\n",
       "    <tr>\n",
       "      <th>2</th>\n",
       "      <td>1</td>\n",
       "      <td>8</td>\n",
       "      <td>2</td>\n",
       "      <td>6723.470560</td>\n",
       "      <td>46.0</td>\n",
       "    </tr>\n",
       "    <tr>\n",
       "      <th>3</th>\n",
       "      <td>1</td>\n",
       "      <td>10</td>\n",
       "      <td>2</td>\n",
       "      <td>5809.911100</td>\n",
       "      <td>32.0</td>\n",
       "    </tr>\n",
       "    <tr>\n",
       "      <th>4</th>\n",
       "      <td>1</td>\n",
       "      <td>11</td>\n",
       "      <td>3</td>\n",
       "      <td>7003.499363</td>\n",
       "      <td>56.0</td>\n",
       "    </tr>\n",
       "    <tr>\n",
       "      <th>5</th>\n",
       "      <td>1</td>\n",
       "      <td>12</td>\n",
       "      <td>2</td>\n",
       "      <td>6751.629942</td>\n",
       "      <td>28.0</td>\n",
       "    </tr>\n",
       "    <tr>\n",
       "      <th>6</th>\n",
       "      <td>2</td>\n",
       "      <td>3</td>\n",
       "      <td>3</td>\n",
       "      <td>10187.723006</td>\n",
       "      <td>63.0</td>\n",
       "    </tr>\n",
       "    <tr>\n",
       "      <th>7</th>\n",
       "      <td>2</td>\n",
       "      <td>4</td>\n",
       "      <td>2</td>\n",
       "      <td>6164.381824</td>\n",
       "      <td>40.0</td>\n",
       "    </tr>\n",
       "    <tr>\n",
       "      <th>8</th>\n",
       "      <td>2</td>\n",
       "      <td>6</td>\n",
       "      <td>1</td>\n",
       "      <td>3255.338202</td>\n",
       "      <td>14.0</td>\n",
       "    </tr>\n",
       "    <tr>\n",
       "      <th>9</th>\n",
       "      <td>2</td>\n",
       "      <td>7</td>\n",
       "      <td>2</td>\n",
       "      <td>6780.722964</td>\n",
       "      <td>48.0</td>\n",
       "    </tr>\n",
       "  </tbody>\n",
       "</table>\n",
       "</div>"
      ],
      "text/plain": [
       "   user_id  month  trips  total_distance  total_duration\n",
       "0        1      1      2     7027.511294            42.0\n",
       "1        1      4      1      754.159807             7.0\n",
       "2        1      8      2     6723.470560            46.0\n",
       "3        1     10      2     5809.911100            32.0\n",
       "4        1     11      3     7003.499363            56.0\n",
       "5        1     12      2     6751.629942            28.0\n",
       "6        2      3      3    10187.723006            63.0\n",
       "7        2      4      2     6164.381824            40.0\n",
       "8        2      6      1     3255.338202            14.0\n",
       "9        2      7      2     6780.722964            48.0"
      ]
     },
     "metadata": {},
     "output_type": "display_data"
    },
    {
     "data": {
      "text/plain": [
       "(11331, 5)"
      ]
     },
     "execution_count": 46,
     "metadata": {},
     "output_type": "execute_result"
    }
   ],
   "source": [
    "data_total = data.pivot_table(index=['user_id', 'month'], values=['distance','duration'], aggfunc=['count', 'sum'])\n",
    "data_total.columns = ['_'.join(col).strip() for col in data_total.columns.values]\n",
    "data_total = data_total.reset_index()\n",
    "data_total = data_total.drop(['count_duration'], axis=1)\n",
    "data_total = data_total.rename(columns={'count_distance':'trips', 'sum_distance':'total_distance', 'sum_duration':'total_duration'})\n",
    "display(data_total.head(10))\n",
    "data_total.shape"
   ]
  },
  {
   "cell_type": "markdown",
   "id": "0833fb95",
   "metadata": {},
   "source": [
    "### В этот же датафрейм добавьте столбец с помесячной выручкой, которую принёс каждый пользователь. Для этого обратитесь к информации об условиях оплаты для подписчиков и тех, у кого нет подписки. Продолжительность каждой поездки в каждой строке исходного датафрейма для подсчёта стоимости округляется до следующего целого числа: например, значения \n",
    "25.3\n",
    "25.3, \n",
    "25.5\n",
    "25.5 и \n",
    "26.0\n",
    "26.0 должны быть преобразованы к \n",
    "26\n",
    "26."
   ]
  },
  {
   "cell_type": "code",
   "execution_count": 47,
   "id": "d7f17ea8",
   "metadata": {},
   "outputs": [
    {
     "data": {
      "text/html": [
       "<div>\n",
       "<style scoped>\n",
       "    .dataframe tbody tr th:only-of-type {\n",
       "        vertical-align: middle;\n",
       "    }\n",
       "\n",
       "    .dataframe tbody tr th {\n",
       "        vertical-align: top;\n",
       "    }\n",
       "\n",
       "    .dataframe thead th {\n",
       "        text-align: right;\n",
       "    }\n",
       "</style>\n",
       "<table border=\"1\" class=\"dataframe\">\n",
       "  <thead>\n",
       "    <tr style=\"text-align: right;\">\n",
       "      <th></th>\n",
       "      <th>user_id</th>\n",
       "      <th>month</th>\n",
       "      <th>trips</th>\n",
       "      <th>total_distance</th>\n",
       "      <th>total_duration</th>\n",
       "      <th>name</th>\n",
       "      <th>age</th>\n",
       "      <th>city</th>\n",
       "      <th>subscription_type</th>\n",
       "      <th>minute_price</th>\n",
       "      <th>start_ride_price</th>\n",
       "      <th>subscription_fee</th>\n",
       "      <th>revenue</th>\n",
       "    </tr>\n",
       "  </thead>\n",
       "  <tbody>\n",
       "    <tr>\n",
       "      <th>0</th>\n",
       "      <td>1</td>\n",
       "      <td>1</td>\n",
       "      <td>2</td>\n",
       "      <td>7027.511294</td>\n",
       "      <td>42.0</td>\n",
       "      <td>Кира</td>\n",
       "      <td>22</td>\n",
       "      <td>Тюмень</td>\n",
       "      <td>ultra</td>\n",
       "      <td>6</td>\n",
       "      <td>0</td>\n",
       "      <td>199</td>\n",
       "      <td>451.0</td>\n",
       "    </tr>\n",
       "    <tr>\n",
       "      <th>1</th>\n",
       "      <td>1</td>\n",
       "      <td>4</td>\n",
       "      <td>1</td>\n",
       "      <td>754.159807</td>\n",
       "      <td>7.0</td>\n",
       "      <td>Кира</td>\n",
       "      <td>22</td>\n",
       "      <td>Тюмень</td>\n",
       "      <td>ultra</td>\n",
       "      <td>6</td>\n",
       "      <td>0</td>\n",
       "      <td>199</td>\n",
       "      <td>241.0</td>\n",
       "    </tr>\n",
       "    <tr>\n",
       "      <th>2</th>\n",
       "      <td>1</td>\n",
       "      <td>8</td>\n",
       "      <td>2</td>\n",
       "      <td>6723.470560</td>\n",
       "      <td>46.0</td>\n",
       "      <td>Кира</td>\n",
       "      <td>22</td>\n",
       "      <td>Тюмень</td>\n",
       "      <td>ultra</td>\n",
       "      <td>6</td>\n",
       "      <td>0</td>\n",
       "      <td>199</td>\n",
       "      <td>475.0</td>\n",
       "    </tr>\n",
       "    <tr>\n",
       "      <th>3</th>\n",
       "      <td>1</td>\n",
       "      <td>10</td>\n",
       "      <td>2</td>\n",
       "      <td>5809.911100</td>\n",
       "      <td>32.0</td>\n",
       "      <td>Кира</td>\n",
       "      <td>22</td>\n",
       "      <td>Тюмень</td>\n",
       "      <td>ultra</td>\n",
       "      <td>6</td>\n",
       "      <td>0</td>\n",
       "      <td>199</td>\n",
       "      <td>391.0</td>\n",
       "    </tr>\n",
       "    <tr>\n",
       "      <th>4</th>\n",
       "      <td>1</td>\n",
       "      <td>11</td>\n",
       "      <td>3</td>\n",
       "      <td>7003.499363</td>\n",
       "      <td>56.0</td>\n",
       "      <td>Кира</td>\n",
       "      <td>22</td>\n",
       "      <td>Тюмень</td>\n",
       "      <td>ultra</td>\n",
       "      <td>6</td>\n",
       "      <td>0</td>\n",
       "      <td>199</td>\n",
       "      <td>535.0</td>\n",
       "    </tr>\n",
       "    <tr>\n",
       "      <th>5</th>\n",
       "      <td>1</td>\n",
       "      <td>12</td>\n",
       "      <td>2</td>\n",
       "      <td>6751.629942</td>\n",
       "      <td>28.0</td>\n",
       "      <td>Кира</td>\n",
       "      <td>22</td>\n",
       "      <td>Тюмень</td>\n",
       "      <td>ultra</td>\n",
       "      <td>6</td>\n",
       "      <td>0</td>\n",
       "      <td>199</td>\n",
       "      <td>367.0</td>\n",
       "    </tr>\n",
       "    <tr>\n",
       "      <th>6</th>\n",
       "      <td>2</td>\n",
       "      <td>3</td>\n",
       "      <td>3</td>\n",
       "      <td>10187.723006</td>\n",
       "      <td>63.0</td>\n",
       "      <td>Станислав</td>\n",
       "      <td>31</td>\n",
       "      <td>Омск</td>\n",
       "      <td>ultra</td>\n",
       "      <td>6</td>\n",
       "      <td>0</td>\n",
       "      <td>199</td>\n",
       "      <td>577.0</td>\n",
       "    </tr>\n",
       "    <tr>\n",
       "      <th>7</th>\n",
       "      <td>2</td>\n",
       "      <td>4</td>\n",
       "      <td>2</td>\n",
       "      <td>6164.381824</td>\n",
       "      <td>40.0</td>\n",
       "      <td>Станислав</td>\n",
       "      <td>31</td>\n",
       "      <td>Омск</td>\n",
       "      <td>ultra</td>\n",
       "      <td>6</td>\n",
       "      <td>0</td>\n",
       "      <td>199</td>\n",
       "      <td>439.0</td>\n",
       "    </tr>\n",
       "    <tr>\n",
       "      <th>8</th>\n",
       "      <td>2</td>\n",
       "      <td>6</td>\n",
       "      <td>1</td>\n",
       "      <td>3255.338202</td>\n",
       "      <td>14.0</td>\n",
       "      <td>Станислав</td>\n",
       "      <td>31</td>\n",
       "      <td>Омск</td>\n",
       "      <td>ultra</td>\n",
       "      <td>6</td>\n",
       "      <td>0</td>\n",
       "      <td>199</td>\n",
       "      <td>283.0</td>\n",
       "    </tr>\n",
       "    <tr>\n",
       "      <th>9</th>\n",
       "      <td>2</td>\n",
       "      <td>7</td>\n",
       "      <td>2</td>\n",
       "      <td>6780.722964</td>\n",
       "      <td>48.0</td>\n",
       "      <td>Станислав</td>\n",
       "      <td>31</td>\n",
       "      <td>Омск</td>\n",
       "      <td>ultra</td>\n",
       "      <td>6</td>\n",
       "      <td>0</td>\n",
       "      <td>199</td>\n",
       "      <td>487.0</td>\n",
       "    </tr>\n",
       "  </tbody>\n",
       "</table>\n",
       "</div>"
      ],
      "text/plain": [
       "   user_id  month  trips  total_distance  total_duration       name  age  \\\n",
       "0        1      1      2     7027.511294            42.0       Кира   22   \n",
       "1        1      4      1      754.159807             7.0       Кира   22   \n",
       "2        1      8      2     6723.470560            46.0       Кира   22   \n",
       "3        1     10      2     5809.911100            32.0       Кира   22   \n",
       "4        1     11      3     7003.499363            56.0       Кира   22   \n",
       "5        1     12      2     6751.629942            28.0       Кира   22   \n",
       "6        2      3      3    10187.723006            63.0  Станислав   31   \n",
       "7        2      4      2     6164.381824            40.0  Станислав   31   \n",
       "8        2      6      1     3255.338202            14.0  Станислав   31   \n",
       "9        2      7      2     6780.722964            48.0  Станислав   31   \n",
       "\n",
       "     city subscription_type  minute_price  start_ride_price  subscription_fee  \\\n",
       "0  Тюмень             ultra             6                 0               199   \n",
       "1  Тюмень             ultra             6                 0               199   \n",
       "2  Тюмень             ultra             6                 0               199   \n",
       "3  Тюмень             ultra             6                 0               199   \n",
       "4  Тюмень             ultra             6                 0               199   \n",
       "5  Тюмень             ultra             6                 0               199   \n",
       "6    Омск             ultra             6                 0               199   \n",
       "7    Омск             ultra             6                 0               199   \n",
       "8    Омск             ultra             6                 0               199   \n",
       "9    Омск             ultra             6                 0               199   \n",
       "\n",
       "   revenue  \n",
       "0    451.0  \n",
       "1    241.0  \n",
       "2    475.0  \n",
       "3    391.0  \n",
       "4    535.0  \n",
       "5    367.0  \n",
       "6    577.0  \n",
       "7    439.0  \n",
       "8    283.0  \n",
       "9    487.0  "
      ]
     },
     "metadata": {},
     "output_type": "display_data"
    },
    {
     "data": {
      "text/plain": [
       "(11331, 13)"
      ]
     },
     "execution_count": 47,
     "metadata": {},
     "output_type": "execute_result"
    }
   ],
   "source": [
    "data_total_revenue = data_total.merge(data_users, on='user_id', how='left')\n",
    "data_total_revenue = data_total_revenue.merge(data_subscriptions, on='subscription_type', how='left')\n",
    "data_total_revenue['revenue'] = data_total_revenue['start_ride_price'] * data_total_revenue['trips'] + data_total_revenue['minute_price'] * data_total_revenue['total_duration'] + data_total_revenue['subscription_fee']\n",
    "display(data_total_revenue.head(10))\n",
    "data_total_revenue.shape"
   ]
  },
  {
   "cell_type": "code",
   "execution_count": 48,
   "id": "4c12c284",
   "metadata": {},
   "outputs": [
    {
     "data": {
      "text/html": [
       "<div>\n",
       "<style scoped>\n",
       "    .dataframe tbody tr th:only-of-type {\n",
       "        vertical-align: middle;\n",
       "    }\n",
       "\n",
       "    .dataframe tbody tr th {\n",
       "        vertical-align: top;\n",
       "    }\n",
       "\n",
       "    .dataframe thead th {\n",
       "        text-align: right;\n",
       "    }\n",
       "</style>\n",
       "<table border=\"1\" class=\"dataframe\">\n",
       "  <thead>\n",
       "    <tr style=\"text-align: right;\">\n",
       "      <th></th>\n",
       "      <th>user_id</th>\n",
       "      <th>month</th>\n",
       "      <th>trips</th>\n",
       "      <th>total_distance</th>\n",
       "      <th>total_duration</th>\n",
       "      <th>name</th>\n",
       "      <th>age</th>\n",
       "      <th>city</th>\n",
       "      <th>subscription_type</th>\n",
       "      <th>minute_price</th>\n",
       "      <th>start_ride_price</th>\n",
       "      <th>subscription_fee</th>\n",
       "      <th>revenue</th>\n",
       "    </tr>\n",
       "  </thead>\n",
       "  <tbody>\n",
       "    <tr>\n",
       "      <th>4533</th>\n",
       "      <td>700</td>\n",
       "      <td>1</td>\n",
       "      <td>1</td>\n",
       "      <td>2515.690719</td>\n",
       "      <td>15.0</td>\n",
       "      <td>Айдар</td>\n",
       "      <td>22</td>\n",
       "      <td>Омск</td>\n",
       "      <td>free</td>\n",
       "      <td>8</td>\n",
       "      <td>50</td>\n",
       "      <td>0</td>\n",
       "      <td>170.0</td>\n",
       "    </tr>\n",
       "    <tr>\n",
       "      <th>4534</th>\n",
       "      <td>700</td>\n",
       "      <td>2</td>\n",
       "      <td>5</td>\n",
       "      <td>13446.659764</td>\n",
       "      <td>89.0</td>\n",
       "      <td>Айдар</td>\n",
       "      <td>22</td>\n",
       "      <td>Омск</td>\n",
       "      <td>free</td>\n",
       "      <td>8</td>\n",
       "      <td>50</td>\n",
       "      <td>0</td>\n",
       "      <td>962.0</td>\n",
       "    </tr>\n",
       "    <tr>\n",
       "      <th>4535</th>\n",
       "      <td>700</td>\n",
       "      <td>3</td>\n",
       "      <td>1</td>\n",
       "      <td>3798.334905</td>\n",
       "      <td>19.0</td>\n",
       "      <td>Айдар</td>\n",
       "      <td>22</td>\n",
       "      <td>Омск</td>\n",
       "      <td>free</td>\n",
       "      <td>8</td>\n",
       "      <td>50</td>\n",
       "      <td>0</td>\n",
       "      <td>202.0</td>\n",
       "    </tr>\n",
       "    <tr>\n",
       "      <th>4536</th>\n",
       "      <td>700</td>\n",
       "      <td>4</td>\n",
       "      <td>1</td>\n",
       "      <td>2984.551206</td>\n",
       "      <td>16.0</td>\n",
       "      <td>Айдар</td>\n",
       "      <td>22</td>\n",
       "      <td>Омск</td>\n",
       "      <td>free</td>\n",
       "      <td>8</td>\n",
       "      <td>50</td>\n",
       "      <td>0</td>\n",
       "      <td>178.0</td>\n",
       "    </tr>\n",
       "    <tr>\n",
       "      <th>4537</th>\n",
       "      <td>700</td>\n",
       "      <td>6</td>\n",
       "      <td>2</td>\n",
       "      <td>5927.650988</td>\n",
       "      <td>29.0</td>\n",
       "      <td>Айдар</td>\n",
       "      <td>22</td>\n",
       "      <td>Омск</td>\n",
       "      <td>free</td>\n",
       "      <td>8</td>\n",
       "      <td>50</td>\n",
       "      <td>0</td>\n",
       "      <td>332.0</td>\n",
       "    </tr>\n",
       "  </tbody>\n",
       "</table>\n",
       "</div>"
      ],
      "text/plain": [
       "      user_id  month  trips  total_distance  total_duration   name  age  city  \\\n",
       "4533      700      1      1     2515.690719            15.0  Айдар   22  Омск   \n",
       "4534      700      2      5    13446.659764            89.0  Айдар   22  Омск   \n",
       "4535      700      3      1     3798.334905            19.0  Айдар   22  Омск   \n",
       "4536      700      4      1     2984.551206            16.0  Айдар   22  Омск   \n",
       "4537      700      6      2     5927.650988            29.0  Айдар   22  Омск   \n",
       "\n",
       "     subscription_type  minute_price  start_ride_price  subscription_fee  \\\n",
       "4533              free             8                50                 0   \n",
       "4534              free             8                50                 0   \n",
       "4535              free             8                50                 0   \n",
       "4536              free             8                50                 0   \n",
       "4537              free             8                50                 0   \n",
       "\n",
       "      revenue  \n",
       "4533    170.0  \n",
       "4534    962.0  \n",
       "4535    202.0  \n",
       "4536    178.0  \n",
       "4537    332.0  "
      ]
     },
     "execution_count": 48,
     "metadata": {},
     "output_type": "execute_result"
    }
   ],
   "source": [
    "data_total_revenue_free = data_total_revenue.query('subscription_type == \"free\"')\n",
    "data_total_revenue_free.head()"
   ]
  },
  {
   "cell_type": "code",
   "execution_count": 49,
   "id": "49a24b94",
   "metadata": {},
   "outputs": [
    {
     "data": {
      "text/html": [
       "<div>\n",
       "<style scoped>\n",
       "    .dataframe tbody tr th:only-of-type {\n",
       "        vertical-align: middle;\n",
       "    }\n",
       "\n",
       "    .dataframe tbody tr th {\n",
       "        vertical-align: top;\n",
       "    }\n",
       "\n",
       "    .dataframe thead th {\n",
       "        text-align: right;\n",
       "    }\n",
       "</style>\n",
       "<table border=\"1\" class=\"dataframe\">\n",
       "  <thead>\n",
       "    <tr style=\"text-align: right;\">\n",
       "      <th></th>\n",
       "      <th>user_id</th>\n",
       "      <th>month</th>\n",
       "      <th>trips</th>\n",
       "      <th>total_distance</th>\n",
       "      <th>total_duration</th>\n",
       "      <th>name</th>\n",
       "      <th>age</th>\n",
       "      <th>city</th>\n",
       "      <th>subscription_type</th>\n",
       "      <th>minute_price</th>\n",
       "      <th>start_ride_price</th>\n",
       "      <th>subscription_fee</th>\n",
       "      <th>revenue</th>\n",
       "    </tr>\n",
       "  </thead>\n",
       "  <tbody>\n",
       "    <tr>\n",
       "      <th>0</th>\n",
       "      <td>1</td>\n",
       "      <td>1</td>\n",
       "      <td>2</td>\n",
       "      <td>7027.511294</td>\n",
       "      <td>42.0</td>\n",
       "      <td>Кира</td>\n",
       "      <td>22</td>\n",
       "      <td>Тюмень</td>\n",
       "      <td>ultra</td>\n",
       "      <td>6</td>\n",
       "      <td>0</td>\n",
       "      <td>199</td>\n",
       "      <td>451.0</td>\n",
       "    </tr>\n",
       "    <tr>\n",
       "      <th>1</th>\n",
       "      <td>1</td>\n",
       "      <td>4</td>\n",
       "      <td>1</td>\n",
       "      <td>754.159807</td>\n",
       "      <td>7.0</td>\n",
       "      <td>Кира</td>\n",
       "      <td>22</td>\n",
       "      <td>Тюмень</td>\n",
       "      <td>ultra</td>\n",
       "      <td>6</td>\n",
       "      <td>0</td>\n",
       "      <td>199</td>\n",
       "      <td>241.0</td>\n",
       "    </tr>\n",
       "    <tr>\n",
       "      <th>2</th>\n",
       "      <td>1</td>\n",
       "      <td>8</td>\n",
       "      <td>2</td>\n",
       "      <td>6723.470560</td>\n",
       "      <td>46.0</td>\n",
       "      <td>Кира</td>\n",
       "      <td>22</td>\n",
       "      <td>Тюмень</td>\n",
       "      <td>ultra</td>\n",
       "      <td>6</td>\n",
       "      <td>0</td>\n",
       "      <td>199</td>\n",
       "      <td>475.0</td>\n",
       "    </tr>\n",
       "    <tr>\n",
       "      <th>3</th>\n",
       "      <td>1</td>\n",
       "      <td>10</td>\n",
       "      <td>2</td>\n",
       "      <td>5809.911100</td>\n",
       "      <td>32.0</td>\n",
       "      <td>Кира</td>\n",
       "      <td>22</td>\n",
       "      <td>Тюмень</td>\n",
       "      <td>ultra</td>\n",
       "      <td>6</td>\n",
       "      <td>0</td>\n",
       "      <td>199</td>\n",
       "      <td>391.0</td>\n",
       "    </tr>\n",
       "    <tr>\n",
       "      <th>4</th>\n",
       "      <td>1</td>\n",
       "      <td>11</td>\n",
       "      <td>3</td>\n",
       "      <td>7003.499363</td>\n",
       "      <td>56.0</td>\n",
       "      <td>Кира</td>\n",
       "      <td>22</td>\n",
       "      <td>Тюмень</td>\n",
       "      <td>ultra</td>\n",
       "      <td>6</td>\n",
       "      <td>0</td>\n",
       "      <td>199</td>\n",
       "      <td>535.0</td>\n",
       "    </tr>\n",
       "  </tbody>\n",
       "</table>\n",
       "</div>"
      ],
      "text/plain": [
       "   user_id  month  trips  total_distance  total_duration  name  age    city  \\\n",
       "0        1      1      2     7027.511294            42.0  Кира   22  Тюмень   \n",
       "1        1      4      1      754.159807             7.0  Кира   22  Тюмень   \n",
       "2        1      8      2     6723.470560            46.0  Кира   22  Тюмень   \n",
       "3        1     10      2     5809.911100            32.0  Кира   22  Тюмень   \n",
       "4        1     11      3     7003.499363            56.0  Кира   22  Тюмень   \n",
       "\n",
       "  subscription_type  minute_price  start_ride_price  subscription_fee  revenue  \n",
       "0             ultra             6                 0               199    451.0  \n",
       "1             ultra             6                 0               199    241.0  \n",
       "2             ultra             6                 0               199    475.0  \n",
       "3             ultra             6                 0               199    391.0  \n",
       "4             ultra             6                 0               199    535.0  "
      ]
     },
     "execution_count": 49,
     "metadata": {},
     "output_type": "execute_result"
    }
   ],
   "source": [
    "data_total_revenue_ultra = data_total_revenue.query('subscription_type == \"ultra\"')\n",
    "data_total_revenue_ultra.head()"
   ]
  },
  {
   "cell_type": "markdown",
   "id": "41545ac0",
   "metadata": {},
   "source": [
    "## Шаг 6. Проверка гипотез"
   ]
  },
  {
   "cell_type": "markdown",
   "id": "74bc001c",
   "metadata": {},
   "source": [
    "### Важно понять, тратят ли пользователи с подпиской больше времени на поездки? Если да, то пользователи с подпиской могут быть «выгоднее» для компании. Проверьте гипотезу. Используйте исходные данные о продолжительности каждой сессии — отдельно для подписчиков и тех, у кого нет подписки."
   ]
  },
  {
   "cell_type": "markdown",
   "id": "1d7efd66",
   "metadata": {},
   "source": [
    "H0 - Среднее время поездок для пользователей с подпиской равно, среднему время поездок для пользователей без подписки.\n",
    "\n",
    "H1 - Среднее время поездок для пользователей с подпиской больше, чем среднее время поездок для пользователей без подписки."
   ]
  },
  {
   "cell_type": "code",
   "execution_count": 50,
   "id": "e5facb7e",
   "metadata": {},
   "outputs": [
    {
     "data": {
      "text/plain": [
       "30.444689614592527"
      ]
     },
     "execution_count": 50,
     "metadata": {},
     "output_type": "execute_result"
    }
   ],
   "source": [
    "data_total_revenue_free['total_duration'].mean()"
   ]
  },
  {
   "cell_type": "code",
   "execution_count": 51,
   "id": "62ea7756",
   "metadata": {},
   "outputs": [
    {
     "data": {
      "text/plain": [
       "27.29869843370836"
      ]
     },
     "execution_count": 51,
     "metadata": {},
     "output_type": "execute_result"
    }
   ],
   "source": [
    "data_total_revenue_ultra['total_duration'].mean()"
   ]
  },
  {
   "cell_type": "code",
   "execution_count": 52,
   "id": "3512d962",
   "metadata": {},
   "outputs": [
    {
     "name": "stdout",
     "output_type": "stream",
     "text": [
      "p-значение: 1.2804098316645618e-34\n",
      "Отвергаем нулевую гипотезу: Среднее время поездок для пользователей с подпиской выше, чем у пользователей без подписки.\n"
     ]
    }
   ],
   "source": [
    "sample_1 = data_ultra['duration']\n",
    "sample_2 = data_free['duration']\n",
    "\n",
    "alpha = 0.05\n",
    "\n",
    "results = st.ttest_ind(sample_1, sample_2, alternative='greater') \n",
    "\n",
    "print('p-значение:', results.pvalue)\n",
    "\n",
    "if results.pvalue < alpha:\n",
    "    print('Отвергаем нулевую гипотезу: Среднее время поездок для пользователей с подпиской выше, чем у пользователей без подписки.')\n",
    "else:\n",
    "    print('Не получилось отвергнуть нулевую гипотезу: Среднее время поездок для пользователей с подпиской равно, среднему время поездок без подписки.')"
   ]
  },
  {
   "cell_type": "markdown",
   "id": "4db18dad",
   "metadata": {},
   "source": [
    "### Расстояние одной поездки в \n",
    "3130 метров — оптимальное с точки зрения износа самоката. Можно ли сказать, что среднее расстояние, которое проезжают пользователи с подпиской за одну поездку, не превышает \n",
    "3130 метров? Проверьте гипотезу и сделайте выводы."
   ]
  },
  {
   "cell_type": "markdown",
   "id": "05351229",
   "metadata": {},
   "source": [
    "H0 - Среднее расстояние, которое проезжают пользователи с подпиской за одну поездку равно 3130 метров.\n",
    "\n",
    "H1 - Среднее расстояние, которое проезжают пользователи с подпиской за одну поездку, превышает 3130 метров. "
   ]
  },
  {
   "cell_type": "code",
   "execution_count": 53,
   "id": "0c3a0279",
   "metadata": {},
   "outputs": [
    {
     "name": "stdout",
     "output_type": "stream",
     "text": [
      "p-значение: 0.9195368847849785\n",
      "Не получилось отвергнуть нулевую гипотезу: Среднее расстояние, которое проезжают пользователи с подпиской за одну поездку равна 3130 метров.\n"
     ]
    }
   ],
   "source": [
    "sample_1 = data_ultra['distance']\n",
    "\n",
    "optimal_distance = 3130 # Расстояние одной поездки \n",
    "\n",
    "alpha = 0.05 # уровень статистической значимости\n",
    "\n",
    "results = st.ttest_1samp(sample_1, optimal_distance, alternative='greater') # используйте метод st.ttest_1samp\n",
    "\n",
    "print('p-значение:', results.pvalue) # аргумент p-value\n",
    "\n",
    "if (results.pvalue < alpha):\n",
    "    print('Отвергаем нулевую гипотезу: Среднее расстояние, которое проезжают пользователи с подпиской за одну поездку, превышает 3130 метров.')\n",
    "else:\n",
    "    print('Не получилось отвергнуть нулевую гипотезу: Среднее расстояние, которое проезжают пользователи с подпиской за одну поездку равна 3130 метров.')"
   ]
  },
  {
   "cell_type": "code",
   "execution_count": 54,
   "id": "7d8c6a16",
   "metadata": {},
   "outputs": [
    {
     "data": {
      "text/plain": [
       "4467.327381919405"
      ]
     },
     "execution_count": 54,
     "metadata": {},
     "output_type": "execute_result"
    }
   ],
   "source": [
    "data_total_revenue_ultra['total_distance'].mean()"
   ]
  },
  {
   "cell_type": "markdown",
   "id": "5793ad76",
   "metadata": {},
   "source": [
    "### Проверьте гипотезу о том, будет ли помесячная выручка от пользователей с подпиской по месяцам выше, чем выручка от пользователей без подписки. Сделайте вывод."
   ]
  },
  {
   "cell_type": "markdown",
   "id": "1a41266c",
   "metadata": {},
   "source": [
    "H0 - помесячная выручка пользователей с подпиской равна помесячной выручке пользователей без подписки.\n",
    "\n",
    "H1 - помесячная выручка пользователей с подпиской выше, чем выручка пользователей без подписки."
   ]
  },
  {
   "cell_type": "code",
   "execution_count": 55,
   "id": "c037c2b9",
   "metadata": {},
   "outputs": [
    {
     "name": "stdout",
     "output_type": "stream",
     "text": [
      "p-значение: 1.8850394384715216e-31\n",
      "Отвергаем нулевую гипотезу: помесячная выручка пользователей с подпиской выше, чем выручка пользователей без подписки.\n"
     ]
    }
   ],
   "source": [
    "sample_1 = data_total_revenue_ultra['revenue']\n",
    "sample_2 = data_total_revenue_free['revenue']\n",
    "\n",
    "alpha = 0.05\n",
    "\n",
    "results = st.ttest_ind(sample_1, sample_2, alternative='greater') \n",
    "\n",
    "print('p-значение:', results.pvalue)\n",
    "\n",
    "if results.pvalue < alpha:\n",
    "    print('Отвергаем нулевую гипотезу: помесячная выручка пользователей с подпиской выше, чем выручка пользователей без подписки.')\n",
    "else:\n",
    "    print('Не получилось отвергнуть нулевую гипотезу: помесячная выручка пользователей с подпиской равна помесячной выручке пользователей без подписки.')"
   ]
  },
  {
   "cell_type": "markdown",
   "id": "5c831055",
   "metadata": {},
   "source": [
    "### Представьте такую ситуацию: техническая команда сервиса обновила сервера, с которыми взаимодействует мобильное приложение. Она надеется, что из-за этого количество обращений в техподдержку значимо снизилось. Некоторый файл содержит для каждого пользователя данные о количестве обращений до обновления и после него. Какой тест вам понадобился бы для проверки этой гипотезы?\n"
   ]
  },
  {
   "cell_type": "code",
   "execution_count": 56,
   "id": "9984a3a2",
   "metadata": {},
   "outputs": [],
   "source": [
    "#scipy.stats.ttest_rel"
   ]
  },
  {
   "cell_type": "markdown",
   "id": "8ae408b1",
   "metadata": {},
   "source": [
    "Данный тест позволит посчитать о равенстве среднего значения генеральной совокупности до и после изменения"
   ]
  },
  {
   "cell_type": "markdown",
   "id": "61213c5e",
   "metadata": {},
   "source": [
    "## Шаг 7. Вывод"
   ]
  },
  {
   "cell_type": "markdown",
   "id": "a80bce8f",
   "metadata": {},
   "source": [
    "Вывод: На основе проведенного анализа можно сделать вывод, что больше всего пользователей сервиса аренды самокатов GoFast в Пятигорске. Возраст клиентов в основном сосредоточен в промежутке от 20 и до 28 лет. В среднем пользователи проезжают около 3 км за одну поездку. Так же средняя продолжительность одной поездки составляет 17 минут. Из полученных данных провели гипотезы, которые нам показали, что пользователи с подписки тратят больше времени на поездку и выручка от этих пользователей выше, чем от пользователей без подпиской. "
   ]
  }
 ],
 "metadata": {
  "ExecuteTimeLog": [
   {
    "duration": 52,
    "start_time": "2023-11-21T11:46:28.968Z"
   },
   {
    "duration": 7,
    "start_time": "2023-11-21T11:47:35.920Z"
   },
   {
    "duration": 7,
    "start_time": "2023-11-21T11:48:01.240Z"
   },
   {
    "duration": 460,
    "start_time": "2023-11-21T11:48:10.188Z"
   },
   {
    "duration": 300,
    "start_time": "2023-11-21T11:48:10.764Z"
   },
   {
    "duration": 10,
    "start_time": "2023-11-21T11:48:11.436Z"
   },
   {
    "duration": 6,
    "start_time": "2023-11-21T11:48:18.436Z"
   },
   {
    "duration": 6,
    "start_time": "2023-11-21T11:48:32.715Z"
   },
   {
    "duration": 5,
    "start_time": "2023-11-21T11:48:51.411Z"
   },
   {
    "duration": 12,
    "start_time": "2023-11-21T11:49:22.431Z"
   },
   {
    "duration": 32,
    "start_time": "2023-11-21T11:49:42.039Z"
   },
   {
    "duration": 13,
    "start_time": "2023-11-21T11:49:44.932Z"
   },
   {
    "duration": 11,
    "start_time": "2023-11-21T11:50:08.593Z"
   },
   {
    "duration": 13,
    "start_time": "2023-11-21T11:50:23.324Z"
   },
   {
    "duration": 7,
    "start_time": "2023-11-21T11:50:28.695Z"
   },
   {
    "duration": 429,
    "start_time": "2023-11-21T14:10:53.624Z"
   },
   {
    "duration": 317,
    "start_time": "2023-11-21T14:10:54.438Z"
   },
   {
    "duration": 7,
    "start_time": "2023-11-21T14:10:54.758Z"
   },
   {
    "duration": 13,
    "start_time": "2023-11-21T14:10:54.876Z"
   },
   {
    "duration": 7,
    "start_time": "2023-11-21T14:10:55.112Z"
   },
   {
    "duration": 13,
    "start_time": "2023-11-21T14:10:55.317Z"
   },
   {
    "duration": 6,
    "start_time": "2023-11-21T14:10:55.564Z"
   },
   {
    "duration": 12,
    "start_time": "2023-11-21T14:10:55.764Z"
   },
   {
    "duration": 5,
    "start_time": "2023-11-21T14:23:45.225Z"
   },
   {
    "duration": 5,
    "start_time": "2023-11-21T14:23:48.567Z"
   },
   {
    "duration": 1292,
    "start_time": "2023-11-21T14:26:02.479Z"
   },
   {
    "duration": 8,
    "start_time": "2023-11-21T14:26:18.769Z"
   },
   {
    "duration": 57,
    "start_time": "2023-11-21T14:26:37.404Z"
   },
   {
    "duration": 10,
    "start_time": "2023-11-21T14:42:04.719Z"
   },
   {
    "duration": 6,
    "start_time": "2023-11-21T14:42:10.173Z"
   },
   {
    "duration": 5,
    "start_time": "2023-11-21T14:42:21.231Z"
   },
   {
    "duration": 6,
    "start_time": "2023-11-21T14:42:30.241Z"
   },
   {
    "duration": 10,
    "start_time": "2023-11-21T14:45:12.459Z"
   },
   {
    "duration": 112,
    "start_time": "2023-11-21T14:45:35.035Z"
   },
   {
    "duration": 5,
    "start_time": "2023-11-21T14:45:55.851Z"
   },
   {
    "duration": 11,
    "start_time": "2023-11-21T14:46:05.811Z"
   },
   {
    "duration": 11,
    "start_time": "2023-11-21T14:46:27.126Z"
   },
   {
    "duration": 3,
    "start_time": "2023-11-21T15:18:19.891Z"
   },
   {
    "duration": 72,
    "start_time": "2023-11-21T15:18:20.322Z"
   },
   {
    "duration": 6,
    "start_time": "2023-11-21T15:18:20.520Z"
   },
   {
    "duration": 11,
    "start_time": "2023-11-21T15:18:20.711Z"
   },
   {
    "duration": 6,
    "start_time": "2023-11-21T15:18:20.902Z"
   },
   {
    "duration": 12,
    "start_time": "2023-11-21T15:18:21.101Z"
   },
   {
    "duration": 5,
    "start_time": "2023-11-21T15:18:21.285Z"
   },
   {
    "duration": 11,
    "start_time": "2023-11-21T15:18:21.475Z"
   },
   {
    "duration": 9,
    "start_time": "2023-11-21T15:18:21.704Z"
   },
   {
    "duration": 10,
    "start_time": "2023-11-21T15:18:21.962Z"
   },
   {
    "duration": 8,
    "start_time": "2023-11-21T15:18:33.672Z"
   },
   {
    "duration": 14,
    "start_time": "2023-11-21T15:20:47.705Z"
   },
   {
    "duration": 10,
    "start_time": "2023-11-21T15:21:29.811Z"
   },
   {
    "duration": 12,
    "start_time": "2023-11-21T15:21:48.281Z"
   },
   {
    "duration": 6,
    "start_time": "2023-11-21T15:22:39.779Z"
   },
   {
    "duration": 8,
    "start_time": "2023-11-21T15:23:19.580Z"
   },
   {
    "duration": 4,
    "start_time": "2023-11-21T15:23:35.776Z"
   },
   {
    "duration": 4,
    "start_time": "2023-11-21T15:23:35.989Z"
   },
   {
    "duration": 3,
    "start_time": "2023-11-21T15:23:40.226Z"
   },
   {
    "duration": 5,
    "start_time": "2023-11-21T15:23:48.935Z"
   },
   {
    "duration": 4,
    "start_time": "2023-11-21T15:23:51.435Z"
   },
   {
    "duration": 9,
    "start_time": "2023-11-21T15:23:53.141Z"
   },
   {
    "duration": 4,
    "start_time": "2023-11-21T15:23:53.364Z"
   },
   {
    "duration": 6,
    "start_time": "2023-11-21T15:23:56.712Z"
   },
   {
    "duration": 9,
    "start_time": "2023-11-21T15:24:18.007Z"
   },
   {
    "duration": 8,
    "start_time": "2023-11-21T15:24:28.332Z"
   },
   {
    "duration": 7,
    "start_time": "2023-11-21T15:24:35.986Z"
   },
   {
    "duration": 7,
    "start_time": "2023-11-21T15:24:47.927Z"
   },
   {
    "duration": 10,
    "start_time": "2023-11-21T15:24:59.484Z"
   },
   {
    "duration": 8,
    "start_time": "2023-11-21T15:25:39.956Z"
   },
   {
    "duration": 5,
    "start_time": "2023-11-21T15:28:32.475Z"
   },
   {
    "duration": 6,
    "start_time": "2023-11-21T15:28:54.197Z"
   },
   {
    "duration": 6,
    "start_time": "2023-11-21T15:31:53.108Z"
   },
   {
    "duration": 9,
    "start_time": "2023-11-21T15:32:07.312Z"
   },
   {
    "duration": 9,
    "start_time": "2023-11-21T15:33:36.083Z"
   },
   {
    "duration": 10,
    "start_time": "2023-11-21T15:33:43.829Z"
   },
   {
    "duration": 6,
    "start_time": "2023-11-21T15:33:47.690Z"
   },
   {
    "duration": 139,
    "start_time": "2023-11-21T15:34:01.392Z"
   },
   {
    "duration": 5,
    "start_time": "2023-11-21T15:34:02.804Z"
   },
   {
    "duration": 8,
    "start_time": "2023-11-21T15:36:09.269Z"
   },
   {
    "duration": 11,
    "start_time": "2023-11-21T15:37:26.425Z"
   },
   {
    "duration": 10,
    "start_time": "2023-11-21T15:37:51.035Z"
   },
   {
    "duration": 11,
    "start_time": "2023-11-21T15:37:54.978Z"
   },
   {
    "duration": 198,
    "start_time": "2023-11-21T15:43:11.891Z"
   },
   {
    "duration": 9,
    "start_time": "2023-11-21T15:43:15.685Z"
   },
   {
    "duration": 8,
    "start_time": "2023-11-21T15:43:19.116Z"
   },
   {
    "duration": 137,
    "start_time": "2023-11-21T15:43:42.052Z"
   },
   {
    "duration": 6,
    "start_time": "2023-11-21T15:43:45.427Z"
   },
   {
    "duration": 15,
    "start_time": "2023-11-21T15:45:26.880Z"
   },
   {
    "duration": 6,
    "start_time": "2023-11-21T15:46:56.192Z"
   },
   {
    "duration": 7,
    "start_time": "2023-11-21T15:46:58.723Z"
   },
   {
    "duration": 15,
    "start_time": "2023-11-21T15:47:01.046Z"
   },
   {
    "duration": 6,
    "start_time": "2023-11-21T15:47:01.361Z"
   },
   {
    "duration": 4,
    "start_time": "2023-11-21T15:47:20.540Z"
   },
   {
    "duration": 7,
    "start_time": "2023-11-21T15:47:22.226Z"
   },
   {
    "duration": 8,
    "start_time": "2023-11-21T15:47:40.555Z"
   },
   {
    "duration": 14,
    "start_time": "2023-11-21T15:52:25.959Z"
   },
   {
    "duration": 10,
    "start_time": "2023-11-21T15:52:26.149Z"
   },
   {
    "duration": 9,
    "start_time": "2023-11-21T15:52:26.318Z"
   },
   {
    "duration": 5,
    "start_time": "2023-11-21T15:52:26.478Z"
   },
   {
    "duration": 6,
    "start_time": "2023-11-21T15:52:26.645Z"
   },
   {
    "duration": 4,
    "start_time": "2023-11-21T15:52:27.015Z"
   },
   {
    "duration": 9,
    "start_time": "2023-11-21T15:52:27.427Z"
   },
   {
    "duration": 3,
    "start_time": "2023-11-21T15:52:32.376Z"
   },
   {
    "duration": 72,
    "start_time": "2023-11-21T15:52:32.729Z"
   },
   {
    "duration": 6,
    "start_time": "2023-11-21T15:52:32.924Z"
   },
   {
    "duration": 11,
    "start_time": "2023-11-21T15:52:33.106Z"
   },
   {
    "duration": 6,
    "start_time": "2023-11-21T15:52:33.284Z"
   },
   {
    "duration": 12,
    "start_time": "2023-11-21T15:52:33.468Z"
   },
   {
    "duration": 6,
    "start_time": "2023-11-21T15:52:33.643Z"
   },
   {
    "duration": 10,
    "start_time": "2023-11-21T15:52:33.829Z"
   },
   {
    "duration": 7,
    "start_time": "2023-11-21T15:52:34.233Z"
   },
   {
    "duration": 8,
    "start_time": "2023-11-21T15:52:34.433Z"
   },
   {
    "duration": 9,
    "start_time": "2023-11-21T15:52:34.632Z"
   },
   {
    "duration": 6,
    "start_time": "2023-11-21T15:52:34.857Z"
   },
   {
    "duration": 5,
    "start_time": "2023-11-21T15:52:35.294Z"
   },
   {
    "duration": 5,
    "start_time": "2023-11-21T15:52:35.640Z"
   },
   {
    "duration": 5,
    "start_time": "2023-11-21T15:52:36.129Z"
   },
   {
    "duration": 761,
    "start_time": "2023-11-21T16:20:49.094Z"
   },
   {
    "duration": 29,
    "start_time": "2023-11-21T16:22:01.532Z"
   },
   {
    "duration": 15,
    "start_time": "2023-11-21T16:22:10.968Z"
   },
   {
    "duration": 15,
    "start_time": "2023-11-21T16:22:22.356Z"
   },
   {
    "duration": 449,
    "start_time": "2023-11-22T10:50:35.402Z"
   },
   {
    "duration": 308,
    "start_time": "2023-11-22T10:50:35.853Z"
   },
   {
    "duration": 7,
    "start_time": "2023-11-22T10:50:36.163Z"
   },
   {
    "duration": 16,
    "start_time": "2023-11-22T10:50:36.171Z"
   },
   {
    "duration": 6,
    "start_time": "2023-11-22T10:50:36.302Z"
   },
   {
    "duration": 13,
    "start_time": "2023-11-22T10:50:36.490Z"
   },
   {
    "duration": 4,
    "start_time": "2023-11-22T10:50:36.663Z"
   },
   {
    "duration": 9,
    "start_time": "2023-11-22T10:50:36.848Z"
   },
   {
    "duration": 7,
    "start_time": "2023-11-22T10:50:37.194Z"
   },
   {
    "duration": 8,
    "start_time": "2023-11-22T10:50:37.324Z"
   },
   {
    "duration": 14,
    "start_time": "2023-11-22T10:50:37.492Z"
   },
   {
    "duration": 5,
    "start_time": "2023-11-22T10:50:37.650Z"
   },
   {
    "duration": 6,
    "start_time": "2023-11-22T10:50:37.803Z"
   },
   {
    "duration": 5,
    "start_time": "2023-11-22T10:50:37.950Z"
   },
   {
    "duration": 7,
    "start_time": "2023-11-22T10:50:38.126Z"
   },
   {
    "duration": 576,
    "start_time": "2023-11-22T10:50:38.459Z"
   },
   {
    "duration": 251,
    "start_time": "2023-11-22T10:50:40.876Z"
   },
   {
    "duration": 172,
    "start_time": "2023-11-22T10:56:39.540Z"
   },
   {
    "duration": 16,
    "start_time": "2023-11-22T10:56:51.575Z"
   },
   {
    "duration": 170,
    "start_time": "2023-11-22T10:57:08.627Z"
   },
   {
    "duration": 214,
    "start_time": "2023-11-22T10:57:17.144Z"
   },
   {
    "duration": 190,
    "start_time": "2023-11-22T10:57:27.428Z"
   },
   {
    "duration": 7,
    "start_time": "2023-11-22T10:57:58.517Z"
   },
   {
    "duration": 7,
    "start_time": "2023-11-22T10:58:04.348Z"
   },
   {
    "duration": 10,
    "start_time": "2023-11-22T11:00:07.788Z"
   },
   {
    "duration": 8,
    "start_time": "2023-11-22T11:00:11.648Z"
   },
   {
    "duration": 8,
    "start_time": "2023-11-22T11:00:29.904Z"
   },
   {
    "duration": 10,
    "start_time": "2023-11-22T11:00:34.789Z"
   },
   {
    "duration": 8,
    "start_time": "2023-11-22T11:01:10.918Z"
   },
   {
    "duration": 11,
    "start_time": "2023-11-22T11:01:18.399Z"
   },
   {
    "duration": 9,
    "start_time": "2023-11-22T11:01:43.803Z"
   },
   {
    "duration": 152,
    "start_time": "2023-11-22T11:03:33.517Z"
   },
   {
    "duration": 144,
    "start_time": "2023-11-22T11:03:53.146Z"
   },
   {
    "duration": 20332,
    "start_time": "2023-11-22T11:04:02.556Z"
   },
   {
    "duration": 143,
    "start_time": "2023-11-22T11:04:34.172Z"
   },
   {
    "duration": 21,
    "start_time": "2023-11-22T11:06:43.049Z"
   },
   {
    "duration": 173,
    "start_time": "2023-11-22T11:07:01.381Z"
   },
   {
    "duration": 15,
    "start_time": "2023-11-22T11:07:17.975Z"
   },
   {
    "duration": 13,
    "start_time": "2023-11-22T11:08:45.167Z"
   },
   {
    "duration": 13,
    "start_time": "2023-11-22T11:09:06.855Z"
   },
   {
    "duration": 15,
    "start_time": "2023-11-22T11:09:20.444Z"
   },
   {
    "duration": 14,
    "start_time": "2023-11-22T11:09:27.340Z"
   },
   {
    "duration": 13,
    "start_time": "2023-11-22T11:09:33.651Z"
   },
   {
    "duration": 6,
    "start_time": "2023-11-22T11:14:09.727Z"
   },
   {
    "duration": 15,
    "start_time": "2023-11-22T11:14:24.818Z"
   },
   {
    "duration": 186,
    "start_time": "2023-11-22T11:14:28.654Z"
   },
   {
    "duration": 12,
    "start_time": "2023-11-22T11:16:05.957Z"
   },
   {
    "duration": 197,
    "start_time": "2023-11-22T11:16:09.484Z"
   },
   {
    "duration": 211,
    "start_time": "2023-11-22T11:16:22.976Z"
   },
   {
    "duration": 328,
    "start_time": "2023-11-22T11:16:28.277Z"
   },
   {
    "duration": 5,
    "start_time": "2023-11-22T11:17:29.106Z"
   },
   {
    "duration": 185,
    "start_time": "2023-11-22T11:19:08.614Z"
   },
   {
    "duration": 188,
    "start_time": "2023-11-22T11:19:25.750Z"
   },
   {
    "duration": 8,
    "start_time": "2023-11-22T11:28:48.252Z"
   },
   {
    "duration": 228,
    "start_time": "2023-11-22T11:28:55.419Z"
   },
   {
    "duration": 217,
    "start_time": "2023-11-22T11:29:03.147Z"
   },
   {
    "duration": 219,
    "start_time": "2023-11-22T11:29:17.320Z"
   },
   {
    "duration": 230,
    "start_time": "2023-11-22T11:29:25.377Z"
   },
   {
    "duration": 264,
    "start_time": "2023-11-22T11:29:34.508Z"
   },
   {
    "duration": 212,
    "start_time": "2023-11-22T11:29:40.644Z"
   },
   {
    "duration": 214,
    "start_time": "2023-11-22T11:29:43.497Z"
   },
   {
    "duration": 257,
    "start_time": "2023-11-22T11:32:27.040Z"
   },
   {
    "duration": 171,
    "start_time": "2023-11-22T11:34:15.299Z"
   },
   {
    "duration": 172,
    "start_time": "2023-11-22T11:34:20.628Z"
   },
   {
    "duration": 194,
    "start_time": "2023-11-22T11:34:26.758Z"
   },
   {
    "duration": 219,
    "start_time": "2023-11-22T11:34:30.198Z"
   },
   {
    "duration": 283,
    "start_time": "2023-11-22T11:34:44.958Z"
   },
   {
    "duration": 3,
    "start_time": "2023-11-22T11:35:48.582Z"
   },
   {
    "duration": 73,
    "start_time": "2023-11-22T11:35:48.601Z"
   },
   {
    "duration": 5,
    "start_time": "2023-11-22T11:35:48.698Z"
   },
   {
    "duration": 11,
    "start_time": "2023-11-22T11:35:48.717Z"
   },
   {
    "duration": 9,
    "start_time": "2023-11-22T11:35:48.752Z"
   },
   {
    "duration": 34,
    "start_time": "2023-11-22T11:35:48.763Z"
   },
   {
    "duration": 4,
    "start_time": "2023-11-22T11:35:48.799Z"
   },
   {
    "duration": 33,
    "start_time": "2023-11-22T11:35:48.805Z"
   },
   {
    "duration": 15,
    "start_time": "2023-11-22T11:35:48.840Z"
   },
   {
    "duration": 16,
    "start_time": "2023-11-22T11:35:48.857Z"
   },
   {
    "duration": 7,
    "start_time": "2023-11-22T11:35:48.875Z"
   },
   {
    "duration": 7,
    "start_time": "2023-11-22T11:35:48.884Z"
   },
   {
    "duration": 9,
    "start_time": "2023-11-22T11:35:48.892Z"
   },
   {
    "duration": 5,
    "start_time": "2023-11-22T11:35:48.903Z"
   },
   {
    "duration": 28,
    "start_time": "2023-11-22T11:35:48.909Z"
   },
   {
    "duration": 5,
    "start_time": "2023-11-22T11:35:49.487Z"
   },
   {
    "duration": 187,
    "start_time": "2023-11-22T11:35:49.906Z"
   },
   {
    "duration": 216,
    "start_time": "2023-11-22T11:35:50.211Z"
   },
   {
    "duration": 211,
    "start_time": "2023-11-22T11:35:50.462Z"
   },
   {
    "duration": 124,
    "start_time": "2023-11-22T11:36:03.765Z"
   },
   {
    "duration": 50,
    "start_time": "2023-11-22T11:36:46.277Z"
   },
   {
    "duration": 414,
    "start_time": "2023-11-22T11:36:48.524Z"
   },
   {
    "duration": 69,
    "start_time": "2023-11-22T11:36:48.991Z"
   },
   {
    "duration": 6,
    "start_time": "2023-11-22T11:36:50.340Z"
   },
   {
    "duration": 12,
    "start_time": "2023-11-22T11:36:50.851Z"
   },
   {
    "duration": 6,
    "start_time": "2023-11-22T11:36:51.082Z"
   },
   {
    "duration": 12,
    "start_time": "2023-11-22T11:36:51.278Z"
   },
   {
    "duration": 5,
    "start_time": "2023-11-22T11:36:51.481Z"
   },
   {
    "duration": 10,
    "start_time": "2023-11-22T11:36:51.690Z"
   },
   {
    "duration": 7,
    "start_time": "2023-11-22T11:36:52.104Z"
   },
   {
    "duration": 9,
    "start_time": "2023-11-22T11:36:52.302Z"
   },
   {
    "duration": 14,
    "start_time": "2023-11-22T11:36:52.499Z"
   },
   {
    "duration": 4,
    "start_time": "2023-11-22T11:36:52.711Z"
   },
   {
    "duration": 6,
    "start_time": "2023-11-22T11:36:52.919Z"
   },
   {
    "duration": 4,
    "start_time": "2023-11-22T11:36:53.126Z"
   },
   {
    "duration": 7,
    "start_time": "2023-11-22T11:36:53.334Z"
   },
   {
    "duration": 5,
    "start_time": "2023-11-22T11:36:53.771Z"
   },
   {
    "duration": 469,
    "start_time": "2023-11-22T11:36:53.978Z"
   },
   {
    "duration": 230,
    "start_time": "2023-11-22T11:36:54.448Z"
   },
   {
    "duration": 219,
    "start_time": "2023-11-22T11:36:54.711Z"
   },
   {
    "duration": 271,
    "start_time": "2023-11-22T11:37:07.137Z"
   },
   {
    "duration": 207,
    "start_time": "2023-11-22T11:37:14.044Z"
   },
   {
    "duration": 206,
    "start_time": "2023-11-22T11:37:19.312Z"
   },
   {
    "duration": 208,
    "start_time": "2023-11-22T11:37:25.501Z"
   },
   {
    "duration": 226,
    "start_time": "2023-11-22T11:37:29.266Z"
   },
   {
    "duration": 239,
    "start_time": "2023-11-22T11:37:35.050Z"
   },
   {
    "duration": 306,
    "start_time": "2023-11-22T11:37:39.315Z"
   },
   {
    "duration": 45,
    "start_time": "2023-11-22T11:47:36.435Z"
   },
   {
    "duration": 257,
    "start_time": "2023-11-22T11:48:17.436Z"
   },
   {
    "duration": 273,
    "start_time": "2023-11-22T11:48:33.155Z"
   },
   {
    "duration": 19,
    "start_time": "2023-11-22T11:55:10.593Z"
   },
   {
    "duration": 8,
    "start_time": "2023-11-22T11:58:59.267Z"
   },
   {
    "duration": 10,
    "start_time": "2023-11-22T11:59:31.069Z"
   },
   {
    "duration": 27,
    "start_time": "2023-11-22T11:59:34.638Z"
   },
   {
    "duration": 975,
    "start_time": "2023-11-22T11:59:48.835Z"
   },
   {
    "duration": 1082,
    "start_time": "2023-11-22T12:00:02.050Z"
   },
   {
    "duration": 4,
    "start_time": "2023-11-22T12:00:24.492Z"
   },
   {
    "duration": 6,
    "start_time": "2023-11-22T12:00:37.975Z"
   },
   {
    "duration": 6,
    "start_time": "2023-11-22T12:00:48.601Z"
   },
   {
    "duration": 17,
    "start_time": "2023-11-22T12:01:05.105Z"
   },
   {
    "duration": 107,
    "start_time": "2023-11-22T12:03:42.485Z"
   },
   {
    "duration": 197,
    "start_time": "2023-11-22T12:03:47.769Z"
   },
   {
    "duration": 71,
    "start_time": "2023-11-22T12:05:05.087Z"
   },
   {
    "duration": 74,
    "start_time": "2023-11-22T12:07:48.335Z"
   },
   {
    "duration": 145,
    "start_time": "2023-11-22T12:07:55.875Z"
   },
   {
    "duration": 149,
    "start_time": "2023-11-22T12:07:58.279Z"
   },
   {
    "duration": 78,
    "start_time": "2023-11-22T12:08:16.211Z"
   },
   {
    "duration": 81,
    "start_time": "2023-11-22T12:08:30.541Z"
   },
   {
    "duration": 136,
    "start_time": "2023-11-22T12:10:04.492Z"
   },
   {
    "duration": 131,
    "start_time": "2023-11-22T12:10:30.880Z"
   },
   {
    "duration": 166,
    "start_time": "2023-11-22T12:10:43.562Z"
   },
   {
    "duration": 132,
    "start_time": "2023-11-22T12:10:51.954Z"
   },
   {
    "duration": 139,
    "start_time": "2023-11-22T12:10:58.968Z"
   },
   {
    "duration": 143,
    "start_time": "2023-11-22T12:11:02.637Z"
   },
   {
    "duration": 139,
    "start_time": "2023-11-22T12:11:05.815Z"
   },
   {
    "duration": 145,
    "start_time": "2023-11-22T12:11:09.382Z"
   },
   {
    "duration": 175,
    "start_time": "2023-11-22T12:11:14.609Z"
   },
   {
    "duration": 232,
    "start_time": "2023-11-22T12:12:08.753Z"
   },
   {
    "duration": 105,
    "start_time": "2023-11-22T12:12:31.363Z"
   },
   {
    "duration": 106,
    "start_time": "2023-11-22T12:12:42.871Z"
   },
   {
    "duration": 132,
    "start_time": "2023-11-22T12:13:02.340Z"
   },
   {
    "duration": 4,
    "start_time": "2023-11-22T12:16:03.534Z"
   },
   {
    "duration": 137,
    "start_time": "2023-11-22T12:16:06.468Z"
   },
   {
    "duration": 18916,
    "start_time": "2023-11-22T12:16:16.120Z"
   },
   {
    "duration": 171,
    "start_time": "2023-11-22T12:17:14.531Z"
   },
   {
    "duration": 216,
    "start_time": "2023-11-22T12:17:33.260Z"
   },
   {
    "duration": 220,
    "start_time": "2023-11-22T12:17:37.257Z"
   },
   {
    "duration": 145,
    "start_time": "2023-11-22T12:17:48.262Z"
   },
   {
    "duration": 142,
    "start_time": "2023-11-22T12:17:50.788Z"
   },
   {
    "duration": 153,
    "start_time": "2023-11-22T12:17:57.339Z"
   },
   {
    "duration": 314,
    "start_time": "2023-11-22T12:21:41.088Z"
   },
   {
    "duration": 320,
    "start_time": "2023-11-22T12:22:00.105Z"
   },
   {
    "duration": 310,
    "start_time": "2023-11-22T12:22:12.096Z"
   },
   {
    "duration": 79,
    "start_time": "2023-11-22T12:22:12.408Z"
   },
   {
    "duration": 311,
    "start_time": "2023-11-22T12:24:23.991Z"
   },
   {
    "duration": 308,
    "start_time": "2023-11-22T12:25:52.074Z"
   },
   {
    "duration": 77,
    "start_time": "2023-11-22T12:26:05.740Z"
   },
   {
    "duration": 559,
    "start_time": "2023-11-22T12:28:17.256Z"
   },
   {
    "duration": 315,
    "start_time": "2023-11-22T12:28:32.485Z"
   },
   {
    "duration": 327,
    "start_time": "2023-11-22T12:28:36.209Z"
   },
   {
    "duration": 312,
    "start_time": "2023-11-22T12:28:42.115Z"
   },
   {
    "duration": 242,
    "start_time": "2023-11-22T12:28:53.013Z"
   },
   {
    "duration": 307,
    "start_time": "2023-11-22T12:29:06.652Z"
   },
   {
    "duration": 79,
    "start_time": "2023-11-22T12:30:00.191Z"
   },
   {
    "duration": 301,
    "start_time": "2023-11-22T12:30:39.294Z"
   },
   {
    "duration": 213,
    "start_time": "2023-11-22T12:31:35.747Z"
   },
   {
    "duration": 220,
    "start_time": "2023-11-22T12:32:13.562Z"
   },
   {
    "duration": 197,
    "start_time": "2023-11-22T12:32:26.875Z"
   },
   {
    "duration": 213,
    "start_time": "2023-11-22T12:32:33.515Z"
   },
   {
    "duration": 371,
    "start_time": "2023-11-22T12:34:29.670Z"
   },
   {
    "duration": 69,
    "start_time": "2023-11-22T12:34:30.138Z"
   },
   {
    "duration": 7,
    "start_time": "2023-11-22T12:34:30.486Z"
   },
   {
    "duration": 11,
    "start_time": "2023-11-22T12:34:30.993Z"
   },
   {
    "duration": 5,
    "start_time": "2023-11-22T12:34:31.183Z"
   },
   {
    "duration": 10,
    "start_time": "2023-11-22T12:34:31.482Z"
   },
   {
    "duration": 5,
    "start_time": "2023-11-22T12:34:31.683Z"
   },
   {
    "duration": 10,
    "start_time": "2023-11-22T12:34:31.857Z"
   },
   {
    "duration": 7,
    "start_time": "2023-11-22T12:34:32.226Z"
   },
   {
    "duration": 8,
    "start_time": "2023-11-22T12:34:32.402Z"
   },
   {
    "duration": 13,
    "start_time": "2023-11-22T12:34:32.603Z"
   },
   {
    "duration": 5,
    "start_time": "2023-11-22T12:34:32.764Z"
   },
   {
    "duration": 5,
    "start_time": "2023-11-22T12:34:32.950Z"
   },
   {
    "duration": 4,
    "start_time": "2023-11-22T12:34:33.143Z"
   },
   {
    "duration": 6,
    "start_time": "2023-11-22T12:34:33.346Z"
   },
   {
    "duration": 417,
    "start_time": "2023-11-22T12:34:33.711Z"
   },
   {
    "duration": 73,
    "start_time": "2023-11-22T12:34:34.130Z"
   },
   {
    "duration": 157,
    "start_time": "2023-11-22T12:34:34.205Z"
   },
   {
    "duration": 273,
    "start_time": "2023-11-22T12:34:34.857Z"
   },
   {
    "duration": 182,
    "start_time": "2023-11-22T12:34:35.290Z"
   },
   {
    "duration": 136,
    "start_time": "2023-11-22T12:34:58.439Z"
   },
   {
    "duration": 150,
    "start_time": "2023-11-22T12:36:08.079Z"
   },
   {
    "duration": 74,
    "start_time": "2023-11-22T12:49:29.305Z"
   },
   {
    "duration": 15,
    "start_time": "2023-11-22T12:49:32.524Z"
   },
   {
    "duration": 11,
    "start_time": "2023-11-22T12:49:43.234Z"
   },
   {
    "duration": 13,
    "start_time": "2023-11-22T12:49:58.377Z"
   },
   {
    "duration": 12,
    "start_time": "2023-11-22T12:50:00.722Z"
   },
   {
    "duration": 19,
    "start_time": "2023-11-22T12:50:05.120Z"
   },
   {
    "duration": 14,
    "start_time": "2023-11-22T12:50:47.480Z"
   },
   {
    "duration": 21,
    "start_time": "2023-11-22T12:51:00.382Z"
   },
   {
    "duration": 16,
    "start_time": "2023-11-22T12:51:29.690Z"
   },
   {
    "duration": 15,
    "start_time": "2023-11-22T12:51:36.710Z"
   },
   {
    "duration": 19,
    "start_time": "2023-11-22T12:51:50.661Z"
   },
   {
    "duration": 19,
    "start_time": "2023-11-22T12:53:13.804Z"
   },
   {
    "duration": 17,
    "start_time": "2023-11-22T12:54:01.175Z"
   },
   {
    "duration": 15,
    "start_time": "2023-11-22T12:54:26.700Z"
   },
   {
    "duration": 16,
    "start_time": "2023-11-22T12:54:34.606Z"
   },
   {
    "duration": 12,
    "start_time": "2023-11-22T12:57:45.720Z"
   },
   {
    "duration": 8,
    "start_time": "2023-11-22T12:58:20.221Z"
   },
   {
    "duration": 16,
    "start_time": "2023-11-22T13:03:27.896Z"
   },
   {
    "duration": 11,
    "start_time": "2023-11-22T13:04:17.799Z"
   },
   {
    "duration": 18,
    "start_time": "2023-11-22T13:04:23.128Z"
   },
   {
    "duration": 18,
    "start_time": "2023-11-22T13:07:32.506Z"
   },
   {
    "duration": 17,
    "start_time": "2023-11-22T13:07:47.674Z"
   },
   {
    "duration": 104,
    "start_time": "2023-11-22T13:08:11.219Z"
   },
   {
    "duration": 11,
    "start_time": "2023-11-22T13:08:26.364Z"
   },
   {
    "duration": 104,
    "start_time": "2023-11-22T13:08:37.052Z"
   },
   {
    "duration": 106,
    "start_time": "2023-11-22T13:08:50.846Z"
   },
   {
    "duration": 107,
    "start_time": "2023-11-22T13:11:04.702Z"
   },
   {
    "duration": 16,
    "start_time": "2023-11-22T13:16:00.048Z"
   },
   {
    "duration": 19,
    "start_time": "2023-11-22T13:16:01.550Z"
   },
   {
    "duration": 120,
    "start_time": "2023-11-22T13:16:03.402Z"
   },
   {
    "duration": 25,
    "start_time": "2023-11-22T13:17:46.369Z"
   },
   {
    "duration": 8,
    "start_time": "2023-11-22T13:23:22.563Z"
   },
   {
    "duration": 14,
    "start_time": "2023-11-22T13:23:43.383Z"
   },
   {
    "duration": 16,
    "start_time": "2023-11-22T13:23:56.561Z"
   },
   {
    "duration": 14,
    "start_time": "2023-11-22T13:24:21.279Z"
   },
   {
    "duration": 10,
    "start_time": "2023-11-22T13:24:36.015Z"
   },
   {
    "duration": 11,
    "start_time": "2023-11-22T13:24:54.593Z"
   },
   {
    "duration": 22,
    "start_time": "2023-11-22T13:24:59.290Z"
   },
   {
    "duration": 17,
    "start_time": "2023-11-22T13:25:08.386Z"
   },
   {
    "duration": 17,
    "start_time": "2023-11-22T13:25:13.030Z"
   },
   {
    "duration": 19,
    "start_time": "2023-11-22T13:25:33.780Z"
   },
   {
    "duration": 29,
    "start_time": "2023-11-22T13:26:12.417Z"
   },
   {
    "duration": 31,
    "start_time": "2023-11-22T13:26:17.553Z"
   },
   {
    "duration": 408,
    "start_time": "2023-11-23T11:25:47.784Z"
   },
   {
    "duration": 302,
    "start_time": "2023-11-23T11:25:48.332Z"
   },
   {
    "duration": 7,
    "start_time": "2023-11-23T11:25:48.682Z"
   },
   {
    "duration": 11,
    "start_time": "2023-11-23T11:25:49.087Z"
   },
   {
    "duration": 6,
    "start_time": "2023-11-23T11:25:49.317Z"
   },
   {
    "duration": 10,
    "start_time": "2023-11-23T11:25:49.484Z"
   },
   {
    "duration": 4,
    "start_time": "2023-11-23T11:25:49.689Z"
   },
   {
    "duration": 10,
    "start_time": "2023-11-23T11:25:49.887Z"
   },
   {
    "duration": 7,
    "start_time": "2023-11-23T11:25:50.291Z"
   },
   {
    "duration": 9,
    "start_time": "2023-11-23T11:25:50.496Z"
   },
   {
    "duration": 15,
    "start_time": "2023-11-23T11:25:50.688Z"
   },
   {
    "duration": 4,
    "start_time": "2023-11-23T11:25:50.889Z"
   },
   {
    "duration": 7,
    "start_time": "2023-11-23T11:25:51.092Z"
   },
   {
    "duration": 4,
    "start_time": "2023-11-23T11:25:51.324Z"
   },
   {
    "duration": 6,
    "start_time": "2023-11-23T11:25:51.533Z"
   },
   {
    "duration": 663,
    "start_time": "2023-11-23T11:25:52.015Z"
   },
   {
    "duration": 81,
    "start_time": "2023-11-23T11:25:52.680Z"
   },
   {
    "duration": 152,
    "start_time": "2023-11-23T11:25:52.762Z"
   },
   {
    "duration": 332,
    "start_time": "2023-11-23T11:25:52.916Z"
   },
   {
    "duration": 150,
    "start_time": "2023-11-23T11:25:53.250Z"
   },
   {
    "duration": 34,
    "start_time": "2023-11-23T11:25:55.470Z"
   },
   {
    "duration": 21,
    "start_time": "2023-11-23T11:26:02.332Z"
   },
   {
    "duration": 18,
    "start_time": "2023-11-23T11:26:06.038Z"
   },
   {
    "duration": 3,
    "start_time": "2023-11-23T11:27:40.818Z"
   },
   {
    "duration": 69,
    "start_time": "2023-11-23T11:27:41.293Z"
   },
   {
    "duration": 6,
    "start_time": "2023-11-23T11:27:41.483Z"
   },
   {
    "duration": 11,
    "start_time": "2023-11-23T11:27:41.660Z"
   },
   {
    "duration": 6,
    "start_time": "2023-11-23T11:27:41.831Z"
   },
   {
    "duration": 10,
    "start_time": "2023-11-23T11:27:42.013Z"
   },
   {
    "duration": 5,
    "start_time": "2023-11-23T11:27:42.187Z"
   },
   {
    "duration": 10,
    "start_time": "2023-11-23T11:27:42.357Z"
   },
   {
    "duration": 7,
    "start_time": "2023-11-23T11:27:42.680Z"
   },
   {
    "duration": 9,
    "start_time": "2023-11-23T11:27:42.843Z"
   },
   {
    "duration": 8,
    "start_time": "2023-11-23T11:27:43.001Z"
   },
   {
    "duration": 5,
    "start_time": "2023-11-23T11:27:43.168Z"
   },
   {
    "duration": 6,
    "start_time": "2023-11-23T11:27:43.339Z"
   },
   {
    "duration": 4,
    "start_time": "2023-11-23T11:27:43.511Z"
   },
   {
    "duration": 5,
    "start_time": "2023-11-23T11:27:43.682Z"
   },
   {
    "duration": 154,
    "start_time": "2023-11-23T11:27:44.028Z"
   },
   {
    "duration": 75,
    "start_time": "2023-11-23T11:27:44.203Z"
   },
   {
    "duration": 169,
    "start_time": "2023-11-23T11:27:44.383Z"
   },
   {
    "duration": 292,
    "start_time": "2023-11-23T11:27:44.566Z"
   },
   {
    "duration": 170,
    "start_time": "2023-11-23T11:27:44.860Z"
   },
   {
    "duration": 31,
    "start_time": "2023-11-23T11:27:45.115Z"
   },
   {
    "duration": 20,
    "start_time": "2023-11-23T11:27:45.292Z"
   },
   {
    "duration": 20,
    "start_time": "2023-11-23T11:27:45.477Z"
   },
   {
    "duration": 1171,
    "start_time": "2023-11-23T11:28:53.508Z"
   },
   {
    "duration": 200,
    "start_time": "2023-11-23T11:29:01.351Z"
   },
   {
    "duration": 187,
    "start_time": "2023-11-23T11:29:10.723Z"
   },
   {
    "duration": 695,
    "start_time": "2023-11-23T11:29:43.812Z"
   },
   {
    "duration": 70,
    "start_time": "2023-11-23T11:29:44.509Z"
   },
   {
    "duration": 7,
    "start_time": "2023-11-23T11:29:44.582Z"
   },
   {
    "duration": 47,
    "start_time": "2023-11-23T11:29:44.593Z"
   },
   {
    "duration": 17,
    "start_time": "2023-11-23T11:29:44.642Z"
   },
   {
    "duration": 16,
    "start_time": "2023-11-23T11:29:44.660Z"
   },
   {
    "duration": 5,
    "start_time": "2023-11-23T11:29:44.678Z"
   },
   {
    "duration": 22,
    "start_time": "2023-11-23T11:29:44.686Z"
   },
   {
    "duration": 6,
    "start_time": "2023-11-23T11:29:46.631Z"
   },
   {
    "duration": 8,
    "start_time": "2023-11-23T11:29:46.990Z"
   },
   {
    "duration": 10,
    "start_time": "2023-11-23T11:29:47.139Z"
   },
   {
    "duration": 4,
    "start_time": "2023-11-23T11:29:47.309Z"
   },
   {
    "duration": 7,
    "start_time": "2023-11-23T11:29:47.461Z"
   },
   {
    "duration": 6,
    "start_time": "2023-11-23T11:29:47.648Z"
   },
   {
    "duration": 8,
    "start_time": "2023-11-23T11:29:47.813Z"
   },
   {
    "duration": 174,
    "start_time": "2023-11-23T11:29:48.138Z"
   },
   {
    "duration": 95,
    "start_time": "2023-11-23T11:29:48.316Z"
   },
   {
    "duration": 142,
    "start_time": "2023-11-23T11:29:48.485Z"
   },
   {
    "duration": 323,
    "start_time": "2023-11-23T11:29:51.021Z"
   },
   {
    "duration": 157,
    "start_time": "2023-11-23T11:29:51.347Z"
   },
   {
    "duration": 34,
    "start_time": "2023-11-23T11:29:51.991Z"
   },
   {
    "duration": 21,
    "start_time": "2023-11-23T11:29:52.610Z"
   },
   {
    "duration": 18,
    "start_time": "2023-11-23T11:29:52.793Z"
   },
   {
    "duration": 215,
    "start_time": "2023-11-23T11:29:53.000Z"
   },
   {
    "duration": 175,
    "start_time": "2023-11-23T11:29:59.053Z"
   },
   {
    "duration": 186,
    "start_time": "2023-11-23T11:30:01.588Z"
   },
   {
    "duration": 192,
    "start_time": "2023-11-23T11:30:58.231Z"
   },
   {
    "duration": 210,
    "start_time": "2023-11-23T11:31:43.029Z"
   },
   {
    "duration": 211,
    "start_time": "2023-11-23T11:35:46.695Z"
   },
   {
    "duration": 231,
    "start_time": "2023-11-23T11:35:50.041Z"
   },
   {
    "duration": 211,
    "start_time": "2023-11-23T11:35:54.351Z"
   },
   {
    "duration": 212,
    "start_time": "2023-11-23T11:38:28.087Z"
   },
   {
    "duration": 201,
    "start_time": "2023-11-23T11:38:32.927Z"
   },
   {
    "duration": 128,
    "start_time": "2023-11-23T11:38:42.370Z"
   },
   {
    "duration": 124,
    "start_time": "2023-11-23T11:38:49.185Z"
   },
   {
    "duration": 128,
    "start_time": "2023-11-23T11:38:58.525Z"
   },
   {
    "duration": 141,
    "start_time": "2023-11-23T11:39:01.735Z"
   },
   {
    "duration": 205,
    "start_time": "2023-11-23T11:39:06.457Z"
   },
   {
    "duration": 264,
    "start_time": "2023-11-23T11:39:12.462Z"
   },
   {
    "duration": 236,
    "start_time": "2023-11-23T11:39:21.191Z"
   },
   {
    "duration": 210,
    "start_time": "2023-11-23T11:39:53.746Z"
   },
   {
    "duration": 194,
    "start_time": "2023-11-23T11:40:02.148Z"
   },
   {
    "duration": 190,
    "start_time": "2023-11-23T11:40:10.335Z"
   },
   {
    "duration": 197,
    "start_time": "2023-11-23T11:40:16.872Z"
   },
   {
    "duration": 212,
    "start_time": "2023-11-23T11:40:23.896Z"
   },
   {
    "duration": 239,
    "start_time": "2023-11-23T11:40:32.103Z"
   },
   {
    "duration": 278,
    "start_time": "2023-11-23T11:40:39.993Z"
   },
   {
    "duration": 5,
    "start_time": "2023-11-23T11:44:50.525Z"
   },
   {
    "duration": 5,
    "start_time": "2023-11-23T11:45:51.858Z"
   },
   {
    "duration": 7,
    "start_time": "2023-11-23T11:49:53.896Z"
   },
   {
    "duration": 7,
    "start_time": "2023-11-23T11:50:02.399Z"
   },
   {
    "duration": 34,
    "start_time": "2023-11-23T11:50:08.690Z"
   },
   {
    "duration": 42,
    "start_time": "2023-11-23T11:50:28.579Z"
   },
   {
    "duration": 9,
    "start_time": "2023-11-23T11:56:07.636Z"
   },
   {
    "duration": 13,
    "start_time": "2023-11-23T11:56:17.935Z"
   },
   {
    "duration": 14,
    "start_time": "2023-11-23T11:57:55.070Z"
   },
   {
    "duration": 278,
    "start_time": "2023-11-23T11:57:58.872Z"
   },
   {
    "duration": 260,
    "start_time": "2023-11-23T11:59:27.572Z"
   },
   {
    "duration": 109,
    "start_time": "2023-11-23T12:00:00.854Z"
   },
   {
    "duration": 315,
    "start_time": "2023-11-23T12:00:04.895Z"
   },
   {
    "duration": 278,
    "start_time": "2023-11-23T12:00:45.408Z"
   },
   {
    "duration": 265,
    "start_time": "2023-11-23T12:02:17.745Z"
   },
   {
    "duration": 276,
    "start_time": "2023-11-23T12:02:22.058Z"
   },
   {
    "duration": 324,
    "start_time": "2023-11-23T12:02:42.440Z"
   },
   {
    "duration": 16,
    "start_time": "2023-11-23T12:11:07.937Z"
   },
   {
    "duration": 13,
    "start_time": "2023-11-23T12:11:56.795Z"
   },
   {
    "duration": 14,
    "start_time": "2023-11-23T12:12:46.181Z"
   },
   {
    "duration": 22,
    "start_time": "2023-11-23T12:13:19.948Z"
   },
   {
    "duration": 36,
    "start_time": "2023-11-23T12:13:25.548Z"
   },
   {
    "duration": 40,
    "start_time": "2023-11-23T12:13:31.584Z"
   },
   {
    "duration": 15,
    "start_time": "2023-11-23T12:14:12.313Z"
   },
   {
    "duration": 10,
    "start_time": "2023-11-23T12:14:12.855Z"
   },
   {
    "duration": 10,
    "start_time": "2023-11-23T12:14:27.283Z"
   },
   {
    "duration": 4,
    "start_time": "2023-11-23T12:14:29.109Z"
   },
   {
    "duration": 11,
    "start_time": "2023-11-23T12:14:29.559Z"
   },
   {
    "duration": 38,
    "start_time": "2023-11-23T12:14:34.944Z"
   },
   {
    "duration": 4,
    "start_time": "2023-11-23T12:14:39.265Z"
   },
   {
    "duration": 76,
    "start_time": "2023-11-23T12:14:39.587Z"
   },
   {
    "duration": 7,
    "start_time": "2023-11-23T12:14:39.747Z"
   },
   {
    "duration": 11,
    "start_time": "2023-11-23T12:14:39.908Z"
   },
   {
    "duration": 6,
    "start_time": "2023-11-23T12:14:40.063Z"
   },
   {
    "duration": 12,
    "start_time": "2023-11-23T12:14:40.217Z"
   },
   {
    "duration": 5,
    "start_time": "2023-11-23T12:14:40.373Z"
   },
   {
    "duration": 12,
    "start_time": "2023-11-23T12:14:40.544Z"
   },
   {
    "duration": 8,
    "start_time": "2023-11-23T12:14:40.851Z"
   },
   {
    "duration": 8,
    "start_time": "2023-11-23T12:14:41.020Z"
   },
   {
    "duration": 9,
    "start_time": "2023-11-23T12:14:41.184Z"
   },
   {
    "duration": 5,
    "start_time": "2023-11-23T12:14:41.359Z"
   },
   {
    "duration": 6,
    "start_time": "2023-11-23T12:14:41.533Z"
   },
   {
    "duration": 5,
    "start_time": "2023-11-23T12:14:41.711Z"
   },
   {
    "duration": 7,
    "start_time": "2023-11-23T12:14:41.882Z"
   },
   {
    "duration": 162,
    "start_time": "2023-11-23T12:14:42.236Z"
   },
   {
    "duration": 81,
    "start_time": "2023-11-23T12:14:42.411Z"
   },
   {
    "duration": 147,
    "start_time": "2023-11-23T12:14:42.596Z"
   },
   {
    "duration": 254,
    "start_time": "2023-11-23T12:14:43.275Z"
   },
   {
    "duration": 155,
    "start_time": "2023-11-23T12:14:43.531Z"
   },
   {
    "duration": 29,
    "start_time": "2023-11-23T12:14:43.897Z"
   },
   {
    "duration": 19,
    "start_time": "2023-11-23T12:14:44.085Z"
   },
   {
    "duration": 19,
    "start_time": "2023-11-23T12:14:44.279Z"
   },
   {
    "duration": 218,
    "start_time": "2023-11-23T12:14:44.495Z"
   },
   {
    "duration": 231,
    "start_time": "2023-11-23T12:14:44.736Z"
   },
   {
    "duration": 5,
    "start_time": "2023-11-23T12:14:45.315Z"
   },
   {
    "duration": 4,
    "start_time": "2023-11-23T12:14:45.671Z"
   },
   {
    "duration": 32,
    "start_time": "2023-11-23T12:14:46.488Z"
   },
   {
    "duration": 8,
    "start_time": "2023-11-23T12:14:59.473Z"
   },
   {
    "duration": 9,
    "start_time": "2023-11-23T12:15:00.189Z"
   },
   {
    "duration": 5,
    "start_time": "2023-11-23T12:15:10.014Z"
   },
   {
    "duration": 8,
    "start_time": "2023-11-23T12:15:11.199Z"
   },
   {
    "duration": 4,
    "start_time": "2023-11-23T12:15:13.735Z"
   },
   {
    "duration": 101,
    "start_time": "2023-11-23T12:15:15.791Z"
   },
   {
    "duration": 5,
    "start_time": "2023-11-23T12:15:16.020Z"
   },
   {
    "duration": 8,
    "start_time": "2023-11-23T12:15:16.179Z"
   },
   {
    "duration": 10,
    "start_time": "2023-11-23T12:15:18.776Z"
   },
   {
    "duration": 13,
    "start_time": "2023-11-23T12:15:20.202Z"
   },
   {
    "duration": 6,
    "start_time": "2023-11-23T12:15:26.386Z"
   },
   {
    "duration": 8,
    "start_time": "2023-11-23T12:15:27.722Z"
   },
   {
    "duration": 7,
    "start_time": "2023-11-23T12:15:40.030Z"
   },
   {
    "duration": 7,
    "start_time": "2023-11-23T12:15:46.437Z"
   },
   {
    "duration": 9,
    "start_time": "2023-11-23T12:15:46.960Z"
   },
   {
    "duration": 15,
    "start_time": "2023-11-23T12:16:15.392Z"
   },
   {
    "duration": 11,
    "start_time": "2023-11-23T12:16:22.734Z"
   },
   {
    "duration": 8,
    "start_time": "2023-11-23T12:16:26.430Z"
   },
   {
    "duration": 5,
    "start_time": "2023-11-23T12:16:26.625Z"
   },
   {
    "duration": 7,
    "start_time": "2023-11-23T12:16:26.780Z"
   },
   {
    "duration": 4,
    "start_time": "2023-11-23T12:16:27.150Z"
   },
   {
    "duration": 7,
    "start_time": "2023-11-23T12:16:27.336Z"
   },
   {
    "duration": 155,
    "start_time": "2023-11-23T12:16:27.746Z"
   },
   {
    "duration": 77,
    "start_time": "2023-11-23T12:16:27.954Z"
   },
   {
    "duration": 146,
    "start_time": "2023-11-23T12:16:28.161Z"
   },
   {
    "duration": 265,
    "start_time": "2023-11-23T12:16:28.364Z"
   },
   {
    "duration": 147,
    "start_time": "2023-11-23T12:16:28.631Z"
   },
   {
    "duration": 31,
    "start_time": "2023-11-23T12:16:28.981Z"
   },
   {
    "duration": 20,
    "start_time": "2023-11-23T12:16:29.330Z"
   },
   {
    "duration": 19,
    "start_time": "2023-11-23T12:16:29.544Z"
   },
   {
    "duration": 202,
    "start_time": "2023-11-23T12:16:29.773Z"
   },
   {
    "duration": 246,
    "start_time": "2023-11-23T12:16:29.985Z"
   },
   {
    "duration": 4,
    "start_time": "2023-11-23T12:16:30.564Z"
   },
   {
    "duration": 5,
    "start_time": "2023-11-23T12:16:30.877Z"
   },
   {
    "duration": 40,
    "start_time": "2023-11-23T12:16:31.862Z"
   },
   {
    "duration": 13,
    "start_time": "2023-11-23T12:19:01.258Z"
   },
   {
    "duration": 38,
    "start_time": "2023-11-23T12:20:37.550Z"
   },
   {
    "duration": 141,
    "start_time": "2023-11-23T12:21:11.046Z"
   },
   {
    "duration": 31,
    "start_time": "2023-11-23T12:21:11.411Z"
   },
   {
    "duration": 22,
    "start_time": "2023-11-23T12:21:11.595Z"
   },
   {
    "duration": 18,
    "start_time": "2023-11-23T12:21:11.782Z"
   },
   {
    "duration": 199,
    "start_time": "2023-11-23T12:21:11.978Z"
   },
   {
    "duration": 233,
    "start_time": "2023-11-23T12:21:12.329Z"
   },
   {
    "duration": 5,
    "start_time": "2023-11-23T12:21:14.151Z"
   },
   {
    "duration": 4,
    "start_time": "2023-11-23T12:21:14.552Z"
   },
   {
    "duration": 33,
    "start_time": "2023-11-23T12:21:15.490Z"
   },
   {
    "duration": 39,
    "start_time": "2023-11-23T12:21:16.341Z"
   },
   {
    "duration": 3,
    "start_time": "2023-11-23T12:21:16.696Z"
   },
   {
    "duration": 33,
    "start_time": "2023-11-23T12:21:57.241Z"
   },
   {
    "duration": 3,
    "start_time": "2023-11-23T12:22:12.374Z"
   },
   {
    "duration": 69,
    "start_time": "2023-11-23T12:22:12.882Z"
   },
   {
    "duration": 6,
    "start_time": "2023-11-23T12:22:13.075Z"
   },
   {
    "duration": 11,
    "start_time": "2023-11-23T12:22:13.287Z"
   },
   {
    "duration": 6,
    "start_time": "2023-11-23T12:22:13.481Z"
   },
   {
    "duration": 13,
    "start_time": "2023-11-23T12:22:13.717Z"
   },
   {
    "duration": 5,
    "start_time": "2023-11-23T12:22:13.904Z"
   },
   {
    "duration": 10,
    "start_time": "2023-11-23T12:22:14.105Z"
   },
   {
    "duration": 7,
    "start_time": "2023-11-23T12:22:14.503Z"
   },
   {
    "duration": 13,
    "start_time": "2023-11-23T12:22:14.688Z"
   },
   {
    "duration": 8,
    "start_time": "2023-11-23T12:22:14.886Z"
   },
   {
    "duration": 6,
    "start_time": "2023-11-23T12:22:15.079Z"
   },
   {
    "duration": 8,
    "start_time": "2023-11-23T12:22:15.297Z"
   },
   {
    "duration": 4,
    "start_time": "2023-11-23T12:22:15.512Z"
   },
   {
    "duration": 6,
    "start_time": "2023-11-23T12:22:15.722Z"
   },
   {
    "duration": 158,
    "start_time": "2023-11-23T12:22:16.111Z"
   },
   {
    "duration": 74,
    "start_time": "2023-11-23T12:22:16.456Z"
   },
   {
    "duration": 248,
    "start_time": "2023-11-23T12:22:16.728Z"
   },
   {
    "duration": 258,
    "start_time": "2023-11-23T12:22:16.998Z"
   },
   {
    "duration": 154,
    "start_time": "2023-11-23T12:22:17.258Z"
   },
   {
    "duration": 31,
    "start_time": "2023-11-23T12:22:18.279Z"
   },
   {
    "duration": 20,
    "start_time": "2023-11-23T12:22:19.168Z"
   },
   {
    "duration": 18,
    "start_time": "2023-11-23T12:22:19.388Z"
   },
   {
    "duration": 219,
    "start_time": "2023-11-23T12:22:19.595Z"
   },
   {
    "duration": 248,
    "start_time": "2023-11-23T12:22:19.816Z"
   },
   {
    "duration": 5,
    "start_time": "2023-11-23T12:22:20.202Z"
   },
   {
    "duration": 4,
    "start_time": "2023-11-23T12:22:20.418Z"
   },
   {
    "duration": 33,
    "start_time": "2023-11-23T12:22:21.228Z"
   },
   {
    "duration": 38,
    "start_time": "2023-11-23T12:22:21.617Z"
   },
   {
    "duration": 14,
    "start_time": "2023-11-23T12:27:15.586Z"
   },
   {
    "duration": 13,
    "start_time": "2023-11-23T12:27:44.040Z"
   },
   {
    "duration": 19,
    "start_time": "2023-11-23T12:28:26.951Z"
   },
   {
    "duration": 19,
    "start_time": "2023-11-23T12:28:36.478Z"
   },
   {
    "duration": 11,
    "start_time": "2023-11-23T12:34:03.435Z"
   },
   {
    "duration": 8,
    "start_time": "2023-11-23T12:34:04.274Z"
   },
   {
    "duration": 5,
    "start_time": "2023-11-23T12:34:04.545Z"
   },
   {
    "duration": 6,
    "start_time": "2023-11-23T12:34:04.753Z"
   },
   {
    "duration": 4,
    "start_time": "2023-11-23T12:34:04.937Z"
   },
   {
    "duration": 7,
    "start_time": "2023-11-23T12:34:05.146Z"
   },
   {
    "duration": 172,
    "start_time": "2023-11-23T12:34:05.580Z"
   },
   {
    "duration": 74,
    "start_time": "2023-11-23T12:34:05.806Z"
   },
   {
    "duration": 148,
    "start_time": "2023-11-23T12:34:06.004Z"
   },
   {
    "duration": 290,
    "start_time": "2023-11-23T12:34:06.216Z"
   },
   {
    "duration": 164,
    "start_time": "2023-11-23T12:34:06.508Z"
   },
   {
    "duration": 32,
    "start_time": "2023-11-23T12:34:06.848Z"
   },
   {
    "duration": 23,
    "start_time": "2023-11-23T12:34:07.052Z"
   },
   {
    "duration": 28,
    "start_time": "2023-11-23T12:34:07.259Z"
   },
   {
    "duration": 28,
    "start_time": "2023-11-23T12:34:07.475Z"
   },
   {
    "duration": 210,
    "start_time": "2023-11-23T12:34:09.227Z"
   },
   {
    "duration": 12,
    "start_time": "2023-11-23T12:34:27.268Z"
   },
   {
    "duration": 8,
    "start_time": "2023-11-23T12:34:27.680Z"
   },
   {
    "duration": 5,
    "start_time": "2023-11-23T12:34:28.023Z"
   },
   {
    "duration": 28,
    "start_time": "2023-11-23T12:40:01.128Z"
   },
   {
    "duration": 21,
    "start_time": "2023-11-23T12:40:04.003Z"
   },
   {
    "duration": 144,
    "start_time": "2023-11-23T12:40:41.693Z"
   },
   {
    "duration": 27,
    "start_time": "2023-11-23T12:40:42.977Z"
   },
   {
    "duration": 30,
    "start_time": "2023-11-23T12:40:56.856Z"
   },
   {
    "duration": 12,
    "start_time": "2023-11-23T12:41:00.769Z"
   },
   {
    "duration": 14,
    "start_time": "2023-11-23T12:45:42.816Z"
   },
   {
    "duration": 12,
    "start_time": "2023-11-23T12:46:09.438Z"
   },
   {
    "duration": 11,
    "start_time": "2023-11-23T12:46:35.027Z"
   },
   {
    "duration": 13,
    "start_time": "2023-11-23T12:47:06.740Z"
   },
   {
    "duration": 39,
    "start_time": "2023-11-23T12:47:11.334Z"
   },
   {
    "duration": 309,
    "start_time": "2023-11-23T12:47:24.142Z"
   },
   {
    "duration": 12,
    "start_time": "2023-11-23T12:47:48.959Z"
   },
   {
    "duration": 36,
    "start_time": "2023-11-23T12:51:46.382Z"
   },
   {
    "duration": 7,
    "start_time": "2023-11-23T12:52:45.737Z"
   },
   {
    "duration": 12,
    "start_time": "2023-11-23T12:52:49.607Z"
   },
   {
    "duration": 12,
    "start_time": "2023-11-23T12:53:11.790Z"
   },
   {
    "duration": 10,
    "start_time": "2023-11-23T12:55:24.077Z"
   },
   {
    "duration": 11,
    "start_time": "2023-11-23T12:55:27.143Z"
   },
   {
    "duration": 12,
    "start_time": "2023-11-23T12:55:42.038Z"
   },
   {
    "duration": 9,
    "start_time": "2023-11-23T12:56:06.143Z"
   },
   {
    "duration": 5,
    "start_time": "2023-11-23T12:57:59.431Z"
   },
   {
    "duration": 5,
    "start_time": "2023-11-23T12:58:05.794Z"
   },
   {
    "duration": 11,
    "start_time": "2023-11-23T12:58:43.926Z"
   },
   {
    "duration": 6,
    "start_time": "2023-11-23T12:58:45.212Z"
   },
   {
    "duration": 3,
    "start_time": "2023-11-23T12:58:50.177Z"
   },
   {
    "duration": 69,
    "start_time": "2023-11-23T12:58:50.629Z"
   },
   {
    "duration": 5,
    "start_time": "2023-11-23T12:58:50.835Z"
   },
   {
    "duration": 11,
    "start_time": "2023-11-23T12:58:51.052Z"
   },
   {
    "duration": 5,
    "start_time": "2023-11-23T12:58:54.001Z"
   },
   {
    "duration": 11,
    "start_time": "2023-11-23T12:58:54.285Z"
   },
   {
    "duration": 5,
    "start_time": "2023-11-23T12:58:54.519Z"
   },
   {
    "duration": 9,
    "start_time": "2023-11-23T12:58:54.751Z"
   },
   {
    "duration": 7,
    "start_time": "2023-11-23T12:58:55.187Z"
   },
   {
    "duration": 11,
    "start_time": "2023-11-23T12:58:55.412Z"
   },
   {
    "duration": 9,
    "start_time": "2023-11-23T12:58:55.632Z"
   },
   {
    "duration": 5,
    "start_time": "2023-11-23T12:58:55.833Z"
   },
   {
    "duration": 7,
    "start_time": "2023-11-23T12:58:56.048Z"
   },
   {
    "duration": 5,
    "start_time": "2023-11-23T12:58:56.261Z"
   },
   {
    "duration": 7,
    "start_time": "2023-11-23T12:58:56.465Z"
   },
   {
    "duration": 157,
    "start_time": "2023-11-23T12:58:56.881Z"
   },
   {
    "duration": 186,
    "start_time": "2023-11-23T12:58:57.089Z"
   },
   {
    "duration": 143,
    "start_time": "2023-11-23T12:58:57.293Z"
   },
   {
    "duration": 269,
    "start_time": "2023-11-23T12:58:57.498Z"
   },
   {
    "duration": 145,
    "start_time": "2023-11-23T12:58:57.768Z"
   },
   {
    "duration": 31,
    "start_time": "2023-11-23T12:58:58.109Z"
   },
   {
    "duration": 19,
    "start_time": "2023-11-23T12:58:58.311Z"
   },
   {
    "duration": 19,
    "start_time": "2023-11-23T12:58:58.509Z"
   },
   {
    "duration": 197,
    "start_time": "2023-11-23T12:58:58.713Z"
   },
   {
    "duration": 240,
    "start_time": "2023-11-23T12:58:58.912Z"
   },
   {
    "duration": 31,
    "start_time": "2023-11-23T12:58:59.309Z"
   },
   {
    "duration": 37,
    "start_time": "2023-11-23T12:58:59.509Z"
   },
   {
    "duration": 12,
    "start_time": "2023-11-23T12:58:59.705Z"
   },
   {
    "duration": 8,
    "start_time": "2023-11-23T12:58:59.907Z"
   },
   {
    "duration": 5,
    "start_time": "2023-11-23T12:59:00.103Z"
   },
   {
    "duration": 10,
    "start_time": "2023-11-23T12:59:21.370Z"
   },
   {
    "duration": 8,
    "start_time": "2023-11-23T13:00:07.673Z"
   },
   {
    "duration": 10,
    "start_time": "2023-11-23T13:11:34.542Z"
   },
   {
    "duration": 29,
    "start_time": "2023-11-23T13:15:21.201Z"
   },
   {
    "duration": 20,
    "start_time": "2023-11-23T13:15:23.855Z"
   },
   {
    "duration": 18,
    "start_time": "2023-11-23T13:15:24.337Z"
   },
   {
    "duration": 211,
    "start_time": "2023-11-23T13:15:24.542Z"
   },
   {
    "duration": 248,
    "start_time": "2023-11-23T13:15:24.755Z"
   },
   {
    "duration": 30,
    "start_time": "2023-11-23T13:15:25.089Z"
   },
   {
    "duration": 36,
    "start_time": "2023-11-23T13:15:25.265Z"
   },
   {
    "duration": 8,
    "start_time": "2023-11-23T13:15:25.447Z"
   },
   {
    "duration": 6,
    "start_time": "2023-11-23T13:15:25.626Z"
   },
   {
    "duration": 5,
    "start_time": "2023-11-23T13:15:25.816Z"
   },
   {
    "duration": 6,
    "start_time": "2023-11-23T13:15:29.190Z"
   },
   {
    "duration": 31,
    "start_time": "2023-11-23T13:15:39.132Z"
   },
   {
    "duration": 23,
    "start_time": "2023-11-23T13:15:39.332Z"
   },
   {
    "duration": 18,
    "start_time": "2023-11-23T13:15:39.501Z"
   },
   {
    "duration": 202,
    "start_time": "2023-11-23T13:15:39.686Z"
   },
   {
    "duration": 237,
    "start_time": "2023-11-23T13:15:39.890Z"
   },
   {
    "duration": 31,
    "start_time": "2023-11-23T13:15:40.191Z"
   },
   {
    "duration": 38,
    "start_time": "2023-11-23T13:15:40.357Z"
   },
   {
    "duration": 7,
    "start_time": "2023-11-23T13:15:40.527Z"
   },
   {
    "duration": 5,
    "start_time": "2023-11-23T13:15:40.691Z"
   },
   {
    "duration": 10,
    "start_time": "2023-11-23T13:15:40.852Z"
   },
   {
    "duration": 32,
    "start_time": "2023-11-23T13:17:34.368Z"
   },
   {
    "duration": 20,
    "start_time": "2023-11-23T13:17:35.796Z"
   },
   {
    "duration": 19,
    "start_time": "2023-11-23T13:17:35.993Z"
   },
   {
    "duration": 211,
    "start_time": "2023-11-23T13:17:36.187Z"
   },
   {
    "duration": 236,
    "start_time": "2023-11-23T13:17:36.400Z"
   },
   {
    "duration": 30,
    "start_time": "2023-11-23T13:17:36.759Z"
   },
   {
    "duration": 36,
    "start_time": "2023-11-23T13:17:36.967Z"
   },
   {
    "duration": 8,
    "start_time": "2023-11-23T13:17:37.184Z"
   },
   {
    "duration": 6,
    "start_time": "2023-11-23T13:17:38.462Z"
   },
   {
    "duration": 4,
    "start_time": "2023-11-23T13:17:39.390Z"
   },
   {
    "duration": 6,
    "start_time": "2023-11-23T13:18:05.833Z"
   },
   {
    "duration": 4,
    "start_time": "2023-11-23T13:18:06.646Z"
   },
   {
    "duration": 8,
    "start_time": "2023-11-23T13:18:09.606Z"
   },
   {
    "duration": 3,
    "start_time": "2023-11-23T13:18:22.316Z"
   },
   {
    "duration": 70,
    "start_time": "2023-11-23T13:18:22.881Z"
   },
   {
    "duration": 6,
    "start_time": "2023-11-23T13:18:23.120Z"
   },
   {
    "duration": 10,
    "start_time": "2023-11-23T13:18:24.352Z"
   },
   {
    "duration": 6,
    "start_time": "2023-11-23T13:18:25.284Z"
   },
   {
    "duration": 11,
    "start_time": "2023-11-23T13:18:25.765Z"
   },
   {
    "duration": 5,
    "start_time": "2023-11-23T13:18:26.002Z"
   },
   {
    "duration": 10,
    "start_time": "2023-11-23T13:18:26.738Z"
   },
   {
    "duration": 7,
    "start_time": "2023-11-23T13:18:27.152Z"
   },
   {
    "duration": 12,
    "start_time": "2023-11-23T13:18:59.761Z"
   },
   {
    "duration": 7,
    "start_time": "2023-11-23T13:19:18.784Z"
   },
   {
    "duration": 5,
    "start_time": "2023-11-23T13:19:20.723Z"
   },
   {
    "duration": 5,
    "start_time": "2023-11-23T13:19:23.536Z"
   },
   {
    "duration": 32,
    "start_time": "2023-11-23T13:19:29.617Z"
   },
   {
    "duration": 35,
    "start_time": "2023-11-23T13:19:32.692Z"
   },
   {
    "duration": 26,
    "start_time": "2023-11-23T13:19:42.489Z"
   },
   {
    "duration": 21,
    "start_time": "2023-11-23T13:19:43.591Z"
   },
   {
    "duration": 16,
    "start_time": "2023-11-23T13:19:43.995Z"
   },
   {
    "duration": 198,
    "start_time": "2023-11-23T13:19:45.172Z"
   },
   {
    "duration": 223,
    "start_time": "2023-11-23T13:19:45.451Z"
   },
   {
    "duration": 17,
    "start_time": "2023-11-23T13:19:46.315Z"
   },
   {
    "duration": 14,
    "start_time": "2023-11-23T13:19:46.570Z"
   },
   {
    "duration": 7,
    "start_time": "2023-11-23T13:19:46.786Z"
   },
   {
    "duration": 14,
    "start_time": "2023-11-23T13:20:07.976Z"
   },
   {
    "duration": 8,
    "start_time": "2023-11-23T13:20:08.543Z"
   },
   {
    "duration": 5,
    "start_time": "2023-11-23T13:20:08.883Z"
   },
   {
    "duration": 6,
    "start_time": "2023-11-23T13:20:09.132Z"
   },
   {
    "duration": 4,
    "start_time": "2023-11-23T13:20:09.330Z"
   },
   {
    "duration": 6,
    "start_time": "2023-11-23T13:20:09.504Z"
   },
   {
    "duration": 152,
    "start_time": "2023-11-23T13:20:09.945Z"
   },
   {
    "duration": 73,
    "start_time": "2023-11-23T13:20:10.168Z"
   },
   {
    "duration": 141,
    "start_time": "2023-11-23T13:20:11.100Z"
   },
   {
    "duration": 256,
    "start_time": "2023-11-23T13:20:11.854Z"
   },
   {
    "duration": 271,
    "start_time": "2023-11-23T13:20:12.199Z"
   },
   {
    "duration": 28,
    "start_time": "2023-11-23T13:20:12.676Z"
   },
   {
    "duration": 18,
    "start_time": "2023-11-23T13:20:13.233Z"
   },
   {
    "duration": 16,
    "start_time": "2023-11-23T13:20:13.902Z"
   },
   {
    "duration": 198,
    "start_time": "2023-11-23T13:20:14.392Z"
   },
   {
    "duration": 221,
    "start_time": "2023-11-23T13:20:14.831Z"
   },
   {
    "duration": 31,
    "start_time": "2023-11-23T13:20:16.246Z"
   },
   {
    "duration": 33,
    "start_time": "2023-11-23T13:20:16.928Z"
   },
   {
    "duration": 29,
    "start_time": "2023-11-23T13:20:59.369Z"
   },
   {
    "duration": 19,
    "start_time": "2023-11-23T13:21:03.794Z"
   },
   {
    "duration": 38,
    "start_time": "2023-11-23T13:21:06.864Z"
   },
   {
    "duration": 225,
    "start_time": "2023-11-23T13:21:07.227Z"
   },
   {
    "duration": 223,
    "start_time": "2023-11-23T13:21:08.138Z"
   },
   {
    "duration": 30,
    "start_time": "2023-11-23T13:21:08.595Z"
   },
   {
    "duration": 36,
    "start_time": "2023-11-23T13:21:08.815Z"
   },
   {
    "duration": 8,
    "start_time": "2023-11-23T13:21:45.676Z"
   },
   {
    "duration": 29,
    "start_time": "2023-11-23T13:22:16.612Z"
   },
   {
    "duration": 18,
    "start_time": "2023-11-23T13:22:19.829Z"
   },
   {
    "duration": 16,
    "start_time": "2023-11-23T13:22:20.439Z"
   },
   {
    "duration": 198,
    "start_time": "2023-11-23T13:22:20.646Z"
   },
   {
    "duration": 238,
    "start_time": "2023-11-23T13:22:20.846Z"
   },
   {
    "duration": 28,
    "start_time": "2023-11-23T13:22:21.489Z"
   },
   {
    "duration": 33,
    "start_time": "2023-11-23T13:22:21.682Z"
   },
   {
    "duration": 28,
    "start_time": "2023-11-23T13:24:36.998Z"
   },
   {
    "duration": 893,
    "start_time": "2023-11-23T17:24:09.399Z"
   },
   {
    "duration": 192,
    "start_time": "2023-11-23T17:24:10.294Z"
   },
   {
    "duration": 8,
    "start_time": "2023-11-23T17:24:10.495Z"
   },
   {
    "duration": 12,
    "start_time": "2023-11-23T17:24:10.863Z"
   },
   {
    "duration": 6,
    "start_time": "2023-11-23T17:24:11.047Z"
   },
   {
    "duration": 13,
    "start_time": "2023-11-23T17:24:11.246Z"
   },
   {
    "duration": 5,
    "start_time": "2023-11-23T17:24:11.405Z"
   },
   {
    "duration": 10,
    "start_time": "2023-11-23T17:24:11.600Z"
   },
   {
    "duration": 13,
    "start_time": "2023-11-23T17:24:11.783Z"
   },
   {
    "duration": 11,
    "start_time": "2023-11-23T17:24:12.687Z"
   },
   {
    "duration": 15,
    "start_time": "2023-11-23T17:24:13.075Z"
   },
   {
    "duration": 9,
    "start_time": "2023-11-23T17:24:13.419Z"
   },
   {
    "duration": 5,
    "start_time": "2023-11-23T17:24:13.608Z"
   },
   {
    "duration": 7,
    "start_time": "2023-11-23T17:24:13.783Z"
   },
   {
    "duration": 5,
    "start_time": "2023-11-23T17:24:13.996Z"
   },
   {
    "duration": 6,
    "start_time": "2023-11-23T17:24:14.180Z"
   },
   {
    "duration": 170,
    "start_time": "2023-11-23T17:24:15.055Z"
   },
   {
    "duration": 79,
    "start_time": "2023-11-23T17:24:15.459Z"
   },
   {
    "duration": 150,
    "start_time": "2023-11-23T17:24:15.890Z"
   },
   {
    "duration": 328,
    "start_time": "2023-11-23T17:24:16.359Z"
   },
   {
    "duration": 143,
    "start_time": "2023-11-23T17:24:17.883Z"
   },
   {
    "duration": 32,
    "start_time": "2023-11-23T17:24:19.295Z"
   },
   {
    "duration": 20,
    "start_time": "2023-11-23T17:24:20.350Z"
   },
   {
    "duration": 16,
    "start_time": "2023-11-23T17:24:20.760Z"
   },
   {
    "duration": 17,
    "start_time": "2023-11-23T17:24:26.823Z"
   },
   {
    "duration": 231,
    "start_time": "2023-11-23T17:24:27.771Z"
   },
   {
    "duration": 239,
    "start_time": "2023-11-23T17:24:28.135Z"
   },
   {
    "duration": 29,
    "start_time": "2023-11-23T17:24:28.914Z"
   },
   {
    "duration": 34,
    "start_time": "2023-11-23T17:24:29.411Z"
   },
   {
    "duration": 2004,
    "start_time": "2023-11-23T17:36:33.202Z"
   },
   {
    "duration": 1819,
    "start_time": "2023-11-23T17:38:12.797Z"
   },
   {
    "duration": 12,
    "start_time": "2023-11-23T17:38:31.163Z"
   },
   {
    "duration": 14,
    "start_time": "2023-11-23T17:38:41.653Z"
   },
   {
    "duration": 1256,
    "start_time": "2023-11-23T17:39:27.223Z"
   },
   {
    "duration": 1566,
    "start_time": "2023-11-23T17:40:26.441Z"
   },
   {
    "duration": 10,
    "start_time": "2023-11-23T17:40:44.060Z"
   },
   {
    "duration": 10,
    "start_time": "2023-11-23T17:41:11.315Z"
   },
   {
    "duration": 9,
    "start_time": "2023-11-23T17:41:34.024Z"
   },
   {
    "duration": 14,
    "start_time": "2023-11-23T17:41:42.891Z"
   },
   {
    "duration": 11,
    "start_time": "2023-11-23T17:42:00.144Z"
   },
   {
    "duration": 16,
    "start_time": "2023-11-23T17:44:29.175Z"
   },
   {
    "duration": 16,
    "start_time": "2023-11-23T17:45:05.169Z"
   },
   {
    "duration": 16,
    "start_time": "2023-11-23T17:46:07.853Z"
   },
   {
    "duration": 16,
    "start_time": "2023-11-23T17:46:19.442Z"
   },
   {
    "duration": 14,
    "start_time": "2023-11-23T17:56:28.570Z"
   },
   {
    "duration": 13,
    "start_time": "2023-11-23T17:56:31.652Z"
   },
   {
    "duration": 21,
    "start_time": "2023-11-23T17:56:43.289Z"
   },
   {
    "duration": 12,
    "start_time": "2023-11-23T17:56:59.684Z"
   },
   {
    "duration": 19,
    "start_time": "2023-11-23T17:59:11.715Z"
   },
   {
    "duration": 3,
    "start_time": "2023-11-23T18:01:10.464Z"
   },
   {
    "duration": 66,
    "start_time": "2023-11-23T18:01:11.690Z"
   },
   {
    "duration": 5,
    "start_time": "2023-11-23T18:01:11.974Z"
   },
   {
    "duration": 11,
    "start_time": "2023-11-23T18:01:12.114Z"
   },
   {
    "duration": 7,
    "start_time": "2023-11-23T18:01:32.344Z"
   },
   {
    "duration": 4,
    "start_time": "2023-11-23T18:01:35.834Z"
   },
   {
    "duration": 13,
    "start_time": "2023-11-23T18:01:46.992Z"
   },
   {
    "duration": 719,
    "start_time": "2023-11-24T10:50:23.818Z"
   },
   {
    "duration": 197,
    "start_time": "2023-11-24T10:50:24.540Z"
   },
   {
    "duration": 7,
    "start_time": "2023-11-24T10:50:24.739Z"
   },
   {
    "duration": 11,
    "start_time": "2023-11-24T10:50:24.875Z"
   },
   {
    "duration": 5,
    "start_time": "2023-11-24T10:50:25.050Z"
   },
   {
    "duration": 10,
    "start_time": "2023-11-24T10:50:25.224Z"
   },
   {
    "duration": 5,
    "start_time": "2023-11-24T10:51:04.777Z"
   },
   {
    "duration": 9,
    "start_time": "2023-11-24T10:51:04.992Z"
   },
   {
    "duration": 11,
    "start_time": "2023-11-24T10:51:05.223Z"
   },
   {
    "duration": 7,
    "start_time": "2023-11-24T10:51:06.654Z"
   },
   {
    "duration": 14,
    "start_time": "2023-11-24T10:51:07.244Z"
   },
   {
    "duration": 9,
    "start_time": "2023-11-24T10:51:07.727Z"
   },
   {
    "duration": 5,
    "start_time": "2023-11-24T10:51:09.914Z"
   },
   {
    "duration": 6,
    "start_time": "2023-11-24T10:51:10.172Z"
   },
   {
    "duration": 5,
    "start_time": "2023-11-24T10:51:10.397Z"
   },
   {
    "duration": 7,
    "start_time": "2023-11-24T10:51:10.610Z"
   },
   {
    "duration": 142,
    "start_time": "2023-11-24T10:51:11.188Z"
   },
   {
    "duration": 65,
    "start_time": "2023-11-24T10:51:11.578Z"
   },
   {
    "duration": 131,
    "start_time": "2023-11-24T10:51:11.979Z"
   },
   {
    "duration": 280,
    "start_time": "2023-11-24T10:51:12.352Z"
   },
   {
    "duration": 123,
    "start_time": "2023-11-24T10:51:12.738Z"
   },
   {
    "duration": 28,
    "start_time": "2023-11-24T10:51:13.622Z"
   },
   {
    "duration": 17,
    "start_time": "2023-11-24T10:51:15.169Z"
   },
   {
    "duration": 15,
    "start_time": "2023-11-24T10:51:15.370Z"
   },
   {
    "duration": 204,
    "start_time": "2023-11-24T10:51:15.772Z"
   },
   {
    "duration": 198,
    "start_time": "2023-11-24T10:51:15.978Z"
   },
   {
    "duration": 24,
    "start_time": "2023-11-24T10:51:16.544Z"
   },
   {
    "duration": 31,
    "start_time": "2023-11-24T10:51:16.739Z"
   },
   {
    "duration": 3,
    "start_time": "2023-11-24T10:51:17.481Z"
   },
   {
    "duration": 12,
    "start_time": "2023-11-24T10:51:17.928Z"
   },
   {
    "duration": 13,
    "start_time": "2023-11-24T10:51:19.613Z"
   },
   {
    "duration": 532,
    "start_time": "2023-11-24T11:10:55.141Z"
   },
   {
    "duration": 65,
    "start_time": "2023-11-24T11:10:55.675Z"
   },
   {
    "duration": 7,
    "start_time": "2023-11-24T11:10:55.741Z"
   },
   {
    "duration": 9,
    "start_time": "2023-11-24T11:10:55.749Z"
   },
   {
    "duration": 11,
    "start_time": "2023-11-24T11:10:55.760Z"
   },
   {
    "duration": 15,
    "start_time": "2023-11-24T11:10:55.772Z"
   },
   {
    "duration": 4,
    "start_time": "2023-11-24T11:10:55.789Z"
   },
   {
    "duration": 9,
    "start_time": "2023-11-24T11:10:55.794Z"
   },
   {
    "duration": 9,
    "start_time": "2023-11-24T11:10:55.805Z"
   },
   {
    "duration": 10,
    "start_time": "2023-11-24T11:10:55.815Z"
   },
   {
    "duration": 23,
    "start_time": "2023-11-24T11:10:55.826Z"
   },
   {
    "duration": 7,
    "start_time": "2023-11-24T11:10:55.851Z"
   },
   {
    "duration": 23,
    "start_time": "2023-11-24T11:10:55.860Z"
   },
   {
    "duration": 4,
    "start_time": "2023-11-24T11:10:55.886Z"
   },
   {
    "duration": 8,
    "start_time": "2023-11-24T11:10:55.891Z"
   },
   {
    "duration": 4,
    "start_time": "2023-11-24T11:10:55.900Z"
   },
   {
    "duration": 167,
    "start_time": "2023-11-24T11:10:55.905Z"
   },
   {
    "duration": 66,
    "start_time": "2023-11-24T11:10:56.073Z"
   },
   {
    "duration": 135,
    "start_time": "2023-11-24T11:10:56.140Z"
   },
   {
    "duration": 283,
    "start_time": "2023-11-24T11:10:56.282Z"
   },
   {
    "duration": 130,
    "start_time": "2023-11-24T11:10:56.566Z"
   },
   {
    "duration": 27,
    "start_time": "2023-11-24T11:10:56.697Z"
   },
   {
    "duration": 16,
    "start_time": "2023-11-24T11:10:56.726Z"
   },
   {
    "duration": 14,
    "start_time": "2023-11-24T11:10:56.743Z"
   },
   {
    "duration": 226,
    "start_time": "2023-11-24T11:10:56.758Z"
   },
   {
    "duration": 201,
    "start_time": "2023-11-24T11:10:56.985Z"
   },
   {
    "duration": 25,
    "start_time": "2023-11-24T11:10:57.187Z"
   },
   {
    "duration": 28,
    "start_time": "2023-11-24T11:10:57.213Z"
   },
   {
    "duration": 4,
    "start_time": "2023-11-24T11:10:57.242Z"
   },
   {
    "duration": 39,
    "start_time": "2023-11-24T11:10:57.247Z"
   },
   {
    "duration": 12,
    "start_time": "2023-11-24T11:10:57.288Z"
   },
   {
    "duration": 17,
    "start_time": "2023-11-24T11:11:11.919Z"
   },
   {
    "duration": 18,
    "start_time": "2023-11-24T11:12:28.189Z"
   },
   {
    "duration": 17,
    "start_time": "2023-11-24T11:12:31.251Z"
   },
   {
    "duration": 16,
    "start_time": "2023-11-24T11:12:35.616Z"
   },
   {
    "duration": 15,
    "start_time": "2023-11-24T11:12:40.220Z"
   },
   {
    "duration": 7,
    "start_time": "2023-11-24T11:12:58.065Z"
   },
   {
    "duration": 5,
    "start_time": "2023-11-24T11:13:12.310Z"
   },
   {
    "duration": 84,
    "start_time": "2023-11-24T11:19:17.812Z"
   },
   {
    "duration": 26,
    "start_time": "2023-11-24T11:21:59.966Z"
   },
   {
    "duration": 4,
    "start_time": "2023-11-24T11:22:00.842Z"
   },
   {
    "duration": 13,
    "start_time": "2023-11-24T11:22:01.262Z"
   },
   {
    "duration": 13,
    "start_time": "2023-11-24T11:22:01.748Z"
   },
   {
    "duration": 15,
    "start_time": "2023-11-24T11:22:10.336Z"
   },
   {
    "duration": 12,
    "start_time": "2023-11-24T11:22:53.459Z"
   },
   {
    "duration": 8,
    "start_time": "2023-11-24T11:23:00.111Z"
   },
   {
    "duration": 19,
    "start_time": "2023-11-24T11:25:11.845Z"
   },
   {
    "duration": 18,
    "start_time": "2023-11-24T11:28:24.832Z"
   },
   {
    "duration": 29,
    "start_time": "2023-11-24T11:28:27.187Z"
   },
   {
    "duration": 20,
    "start_time": "2023-11-24T11:29:17.097Z"
   },
   {
    "duration": 53,
    "start_time": "2023-11-24T11:29:29.951Z"
   },
   {
    "duration": 8,
    "start_time": "2023-11-24T11:29:32.158Z"
   },
   {
    "duration": 13,
    "start_time": "2023-11-24T11:29:41.431Z"
   },
   {
    "duration": 15,
    "start_time": "2023-11-24T11:29:50.599Z"
   },
   {
    "duration": 13,
    "start_time": "2023-11-24T11:29:54.786Z"
   },
   {
    "duration": 15,
    "start_time": "2023-11-24T11:30:07.753Z"
   },
   {
    "duration": 11,
    "start_time": "2023-11-24T11:30:13.677Z"
   },
   {
    "duration": 13,
    "start_time": "2023-11-24T11:30:17.097Z"
   },
   {
    "duration": 13,
    "start_time": "2023-11-24T11:30:45.854Z"
   },
   {
    "duration": 14,
    "start_time": "2023-11-24T11:30:50.317Z"
   },
   {
    "duration": 2,
    "start_time": "2023-11-24T11:41:29.774Z"
   },
   {
    "duration": 78,
    "start_time": "2023-11-24T11:41:29.778Z"
   },
   {
    "duration": 6,
    "start_time": "2023-11-24T11:41:29.857Z"
   },
   {
    "duration": 10,
    "start_time": "2023-11-24T11:41:29.865Z"
   },
   {
    "duration": 5,
    "start_time": "2023-11-24T11:41:29.876Z"
   },
   {
    "duration": 10,
    "start_time": "2023-11-24T11:41:29.882Z"
   },
   {
    "duration": 4,
    "start_time": "2023-11-24T11:41:29.894Z"
   },
   {
    "duration": 8,
    "start_time": "2023-11-24T11:41:29.900Z"
   },
   {
    "duration": 9,
    "start_time": "2023-11-24T11:41:29.909Z"
   },
   {
    "duration": 6,
    "start_time": "2023-11-24T11:41:29.920Z"
   },
   {
    "duration": 10,
    "start_time": "2023-11-24T11:41:29.927Z"
   },
   {
    "duration": 7,
    "start_time": "2023-11-24T11:41:29.938Z"
   },
   {
    "duration": 39,
    "start_time": "2023-11-24T11:41:29.946Z"
   },
   {
    "duration": 5,
    "start_time": "2023-11-24T11:41:29.987Z"
   },
   {
    "duration": 4,
    "start_time": "2023-11-24T11:41:29.993Z"
   },
   {
    "duration": 64,
    "start_time": "2023-11-24T11:41:29.998Z"
   },
   {
    "duration": 158,
    "start_time": "2023-11-24T11:41:30.064Z"
   },
   {
    "duration": 82,
    "start_time": "2023-11-24T11:41:30.223Z"
   },
   {
    "duration": 137,
    "start_time": "2023-11-24T11:41:30.307Z"
   },
   {
    "duration": 245,
    "start_time": "2023-11-24T11:41:30.446Z"
   },
   {
    "duration": 190,
    "start_time": "2023-11-24T11:41:30.693Z"
   },
   {
    "duration": 27,
    "start_time": "2023-11-24T11:41:30.885Z"
   },
   {
    "duration": 27,
    "start_time": "2023-11-24T11:41:30.913Z"
   },
   {
    "duration": 32,
    "start_time": "2023-11-24T11:41:30.942Z"
   },
   {
    "duration": 200,
    "start_time": "2023-11-24T11:41:30.976Z"
   },
   {
    "duration": 225,
    "start_time": "2023-11-24T11:41:31.178Z"
   },
   {
    "duration": 26,
    "start_time": "2023-11-24T11:41:31.405Z"
   },
   {
    "duration": 3,
    "start_time": "2023-11-24T11:41:31.435Z"
   },
   {
    "duration": 37,
    "start_time": "2023-11-24T11:41:31.440Z"
   },
   {
    "duration": 40,
    "start_time": "2023-11-24T11:45:53.362Z"
   },
   {
    "duration": 48,
    "start_time": "2023-11-24T11:46:04.644Z"
   },
   {
    "duration": 671,
    "start_time": "2023-11-24T11:47:37.573Z"
   },
   {
    "duration": 35,
    "start_time": "2023-11-24T11:47:41.779Z"
   },
   {
    "duration": 27,
    "start_time": "2023-11-24T11:49:45.900Z"
   },
   {
    "duration": 34,
    "start_time": "2023-11-24T11:49:51.005Z"
   },
   {
    "duration": 43,
    "start_time": "2023-11-24T11:49:57.433Z"
   },
   {
    "duration": 43,
    "start_time": "2023-11-24T11:52:59.075Z"
   },
   {
    "duration": 50,
    "start_time": "2023-11-24T11:53:38.180Z"
   },
   {
    "duration": 52,
    "start_time": "2023-11-24T11:53:59.794Z"
   },
   {
    "duration": 849,
    "start_time": "2023-11-27T10:43:52.493Z"
   },
   {
    "duration": 281,
    "start_time": "2023-11-27T10:43:53.344Z"
   },
   {
    "duration": 8,
    "start_time": "2023-11-27T10:43:53.730Z"
   },
   {
    "duration": 12,
    "start_time": "2023-11-27T10:43:55.105Z"
   },
   {
    "duration": 6,
    "start_time": "2023-11-27T10:43:55.363Z"
   },
   {
    "duration": 12,
    "start_time": "2023-11-27T10:43:55.593Z"
   },
   {
    "duration": 5,
    "start_time": "2023-11-27T10:43:55.813Z"
   },
   {
    "duration": 10,
    "start_time": "2023-11-27T10:43:56.009Z"
   },
   {
    "duration": 12,
    "start_time": "2023-11-27T10:43:56.222Z"
   },
   {
    "duration": 8,
    "start_time": "2023-11-27T10:43:57.804Z"
   },
   {
    "duration": 13,
    "start_time": "2023-11-27T10:43:58.251Z"
   },
   {
    "duration": 9,
    "start_time": "2023-11-27T10:43:58.730Z"
   },
   {
    "duration": 6,
    "start_time": "2023-11-27T10:43:59.075Z"
   },
   {
    "duration": 5,
    "start_time": "2023-11-27T10:43:59.359Z"
   },
   {
    "duration": 4,
    "start_time": "2023-11-27T10:43:59.588Z"
   },
   {
    "duration": 6,
    "start_time": "2023-11-27T10:44:08.435Z"
   },
   {
    "duration": 157,
    "start_time": "2023-11-27T10:44:09.907Z"
   },
   {
    "duration": 67,
    "start_time": "2023-11-27T10:44:10.983Z"
   },
   {
    "duration": 136,
    "start_time": "2023-11-27T10:44:18.268Z"
   },
   {
    "duration": 319,
    "start_time": "2023-11-27T10:44:18.823Z"
   },
   {
    "duration": 129,
    "start_time": "2023-11-27T10:44:19.936Z"
   },
   {
    "duration": 31,
    "start_time": "2023-11-27T10:44:21.132Z"
   },
   {
    "duration": 20,
    "start_time": "2023-11-27T10:44:30.427Z"
   },
   {
    "duration": 17,
    "start_time": "2023-11-27T10:44:31.237Z"
   },
   {
    "duration": 240,
    "start_time": "2023-11-27T10:44:31.256Z"
   },
   {
    "duration": 210,
    "start_time": "2023-11-27T10:44:31.746Z"
   },
   {
    "duration": 24,
    "start_time": "2023-11-27T10:44:33.982Z"
   },
   {
    "duration": 54,
    "start_time": "2023-11-27T10:44:35.192Z"
   },
   {
    "duration": 46,
    "start_time": "2023-11-27T10:44:39.856Z"
   },
   {
    "duration": 49,
    "start_time": "2023-11-27T10:52:57.131Z"
   },
   {
    "duration": 44,
    "start_time": "2023-11-27T10:53:09.134Z"
   },
   {
    "duration": 47,
    "start_time": "2023-11-27T10:53:11.558Z"
   },
   {
    "duration": 26,
    "start_time": "2023-11-27T10:53:14.695Z"
   },
   {
    "duration": 52,
    "start_time": "2023-11-27T10:53:15.499Z"
   },
   {
    "duration": 2,
    "start_time": "2023-11-27T10:53:19.926Z"
   },
   {
    "duration": 65,
    "start_time": "2023-11-27T10:53:20.499Z"
   },
   {
    "duration": 5,
    "start_time": "2023-11-27T10:53:20.859Z"
   },
   {
    "duration": 10,
    "start_time": "2023-11-27T10:53:21.053Z"
   },
   {
    "duration": 6,
    "start_time": "2023-11-27T10:53:21.245Z"
   },
   {
    "duration": 11,
    "start_time": "2023-11-27T10:53:21.435Z"
   },
   {
    "duration": 4,
    "start_time": "2023-11-27T10:53:21.620Z"
   },
   {
    "duration": 10,
    "start_time": "2023-11-27T10:53:21.805Z"
   },
   {
    "duration": 11,
    "start_time": "2023-11-27T10:53:21.985Z"
   },
   {
    "duration": 7,
    "start_time": "2023-11-27T10:53:22.922Z"
   },
   {
    "duration": 10,
    "start_time": "2023-11-27T10:53:23.326Z"
   },
   {
    "duration": 2,
    "start_time": "2023-11-27T10:53:26.221Z"
   },
   {
    "duration": 112,
    "start_time": "2023-11-27T10:53:26.225Z"
   },
   {
    "duration": 5,
    "start_time": "2023-11-27T10:53:26.339Z"
   },
   {
    "duration": 23,
    "start_time": "2023-11-27T10:53:26.345Z"
   },
   {
    "duration": 18,
    "start_time": "2023-11-27T10:53:26.370Z"
   },
   {
    "duration": 33,
    "start_time": "2023-11-27T10:53:26.389Z"
   },
   {
    "duration": 7,
    "start_time": "2023-11-27T10:53:26.423Z"
   },
   {
    "duration": 14,
    "start_time": "2023-11-27T10:53:26.431Z"
   },
   {
    "duration": 39,
    "start_time": "2023-11-27T10:53:26.446Z"
   },
   {
    "duration": 13,
    "start_time": "2023-11-27T10:53:26.486Z"
   },
   {
    "duration": 14,
    "start_time": "2023-11-27T10:53:26.500Z"
   },
   {
    "duration": 56,
    "start_time": "2023-11-27T10:53:26.515Z"
   },
   {
    "duration": 98,
    "start_time": "2023-11-27T10:53:26.573Z"
   },
   {
    "duration": 24,
    "start_time": "2023-11-27T10:53:26.672Z"
   },
   {
    "duration": 18,
    "start_time": "2023-11-27T10:53:26.697Z"
   },
   {
    "duration": 15,
    "start_time": "2023-11-27T10:53:26.717Z"
   },
   {
    "duration": 144,
    "start_time": "2023-11-27T10:53:26.734Z"
   },
   {
    "duration": 75,
    "start_time": "2023-11-27T10:53:26.879Z"
   },
   {
    "duration": 147,
    "start_time": "2023-11-27T10:53:26.955Z"
   },
   {
    "duration": 289,
    "start_time": "2023-11-27T10:53:27.103Z"
   },
   {
    "duration": 129,
    "start_time": "2023-11-27T10:53:27.393Z"
   },
   {
    "duration": 32,
    "start_time": "2023-11-27T10:53:27.524Z"
   },
   {
    "duration": 18,
    "start_time": "2023-11-27T10:53:27.558Z"
   },
   {
    "duration": 16,
    "start_time": "2023-11-27T10:53:27.578Z"
   },
   {
    "duration": 217,
    "start_time": "2023-11-27T10:53:27.595Z"
   },
   {
    "duration": 269,
    "start_time": "2023-11-27T10:53:27.814Z"
   },
   {
    "duration": 28,
    "start_time": "2023-11-27T10:53:28.084Z"
   },
   {
    "duration": 62,
    "start_time": "2023-11-27T10:53:28.114Z"
   },
   {
    "duration": 46,
    "start_time": "2023-11-27T11:02:29.367Z"
   },
   {
    "duration": 49,
    "start_time": "2023-11-27T11:04:09.532Z"
   },
   {
    "duration": 2,
    "start_time": "2023-11-27T11:25:44.593Z"
   },
   {
    "duration": 68,
    "start_time": "2023-11-27T11:25:44.597Z"
   },
   {
    "duration": 6,
    "start_time": "2023-11-27T11:25:44.667Z"
   },
   {
    "duration": 15,
    "start_time": "2023-11-27T11:25:44.674Z"
   },
   {
    "duration": 12,
    "start_time": "2023-11-27T11:25:44.691Z"
   },
   {
    "duration": 16,
    "start_time": "2023-11-27T11:25:44.704Z"
   },
   {
    "duration": 11,
    "start_time": "2023-11-27T11:25:44.721Z"
   },
   {
    "duration": 15,
    "start_time": "2023-11-27T11:25:44.733Z"
   },
   {
    "duration": 17,
    "start_time": "2023-11-27T11:25:44.750Z"
   },
   {
    "duration": 10,
    "start_time": "2023-11-27T11:25:44.768Z"
   },
   {
    "duration": 26,
    "start_time": "2023-11-27T11:25:44.779Z"
   },
   {
    "duration": 8,
    "start_time": "2023-11-27T11:25:44.807Z"
   },
   {
    "duration": 5,
    "start_time": "2023-11-27T11:25:44.816Z"
   },
   {
    "duration": 6,
    "start_time": "2023-11-27T11:25:44.832Z"
   },
   {
    "duration": 11,
    "start_time": "2023-11-27T11:25:44.839Z"
   },
   {
    "duration": 12,
    "start_time": "2023-11-27T11:25:44.852Z"
   },
   {
    "duration": 162,
    "start_time": "2023-11-27T11:25:44.866Z"
   },
   {
    "duration": 70,
    "start_time": "2023-11-27T11:25:45.030Z"
   },
   {
    "duration": 162,
    "start_time": "2023-11-27T11:25:45.101Z"
   },
   {
    "duration": 266,
    "start_time": "2023-11-27T11:25:45.265Z"
   },
   {
    "duration": 150,
    "start_time": "2023-11-27T11:25:45.532Z"
   },
   {
    "duration": 29,
    "start_time": "2023-11-27T11:25:45.684Z"
   },
   {
    "duration": 25,
    "start_time": "2023-11-27T11:25:45.714Z"
   },
   {
    "duration": 16,
    "start_time": "2023-11-27T11:25:45.740Z"
   },
   {
    "duration": 195,
    "start_time": "2023-11-27T11:25:45.757Z"
   },
   {
    "duration": 209,
    "start_time": "2023-11-27T11:25:45.954Z"
   },
   {
    "duration": 25,
    "start_time": "2023-11-27T11:25:46.165Z"
   },
   {
    "duration": 65,
    "start_time": "2023-11-27T11:25:46.192Z"
   },
   {
    "duration": 39,
    "start_time": "2023-11-27T11:27:35.518Z"
   },
   {
    "duration": 27,
    "start_time": "2023-11-27T11:37:53.685Z"
   },
   {
    "duration": 28,
    "start_time": "2023-11-27T11:40:20.032Z"
   },
   {
    "duration": 1068,
    "start_time": "2023-11-27T11:40:28.280Z"
   },
   {
    "duration": 1062,
    "start_time": "2023-11-27T11:40:35.657Z"
   },
   {
    "duration": 1086,
    "start_time": "2023-11-27T11:40:53.540Z"
   },
   {
    "duration": 39,
    "start_time": "2023-11-27T11:41:41.292Z"
   },
   {
    "duration": 44,
    "start_time": "2023-11-27T11:42:56.014Z"
   },
   {
    "duration": 49,
    "start_time": "2023-11-27T11:44:06.625Z"
   },
   {
    "duration": 54,
    "start_time": "2023-11-27T11:44:59.828Z"
   },
   {
    "duration": 49,
    "start_time": "2023-11-27T11:45:10.284Z"
   },
   {
    "duration": 35,
    "start_time": "2023-11-27T11:47:25.679Z"
   },
   {
    "duration": 2039,
    "start_time": "2023-11-27T11:47:33.840Z"
   },
   {
    "duration": 677,
    "start_time": "2023-11-27T11:48:14.526Z"
   },
   {
    "duration": 286,
    "start_time": "2023-11-27T11:48:15.204Z"
   },
   {
    "duration": 7,
    "start_time": "2023-11-27T11:48:15.492Z"
   },
   {
    "duration": 12,
    "start_time": "2023-11-27T11:48:15.501Z"
   },
   {
    "duration": 19,
    "start_time": "2023-11-27T11:48:15.515Z"
   },
   {
    "duration": 15,
    "start_time": "2023-11-27T11:48:15.535Z"
   },
   {
    "duration": 6,
    "start_time": "2023-11-27T11:48:15.551Z"
   },
   {
    "duration": 20,
    "start_time": "2023-11-27T11:48:15.558Z"
   },
   {
    "duration": 17,
    "start_time": "2023-11-27T11:48:15.579Z"
   },
   {
    "duration": 7,
    "start_time": "2023-11-27T11:48:15.597Z"
   },
   {
    "duration": 35,
    "start_time": "2023-11-27T11:48:15.605Z"
   },
   {
    "duration": 8,
    "start_time": "2023-11-27T11:48:15.641Z"
   },
   {
    "duration": 7,
    "start_time": "2023-11-27T11:48:15.651Z"
   },
   {
    "duration": 5,
    "start_time": "2023-11-27T11:48:15.661Z"
   },
   {
    "duration": 12,
    "start_time": "2023-11-27T11:48:15.668Z"
   },
   {
    "duration": 11,
    "start_time": "2023-11-27T11:48:15.681Z"
   },
   {
    "duration": 203,
    "start_time": "2023-11-27T11:48:15.694Z"
   },
   {
    "duration": 75,
    "start_time": "2023-11-27T11:48:15.899Z"
   },
   {
    "duration": 147,
    "start_time": "2023-11-27T11:48:15.976Z"
   },
   {
    "duration": 302,
    "start_time": "2023-11-27T11:48:16.130Z"
   },
   {
    "duration": 148,
    "start_time": "2023-11-27T11:48:16.434Z"
   },
   {
    "duration": 31,
    "start_time": "2023-11-27T11:48:16.583Z"
   },
   {
    "duration": 30,
    "start_time": "2023-11-27T11:48:16.615Z"
   },
   {
    "duration": 15,
    "start_time": "2023-11-27T11:48:16.646Z"
   },
   {
    "duration": 230,
    "start_time": "2023-11-27T11:48:16.662Z"
   },
   {
    "duration": 202,
    "start_time": "2023-11-27T11:48:16.894Z"
   },
   {
    "duration": 39,
    "start_time": "2023-11-27T11:48:17.098Z"
   },
   {
    "duration": 50,
    "start_time": "2023-11-27T11:48:17.139Z"
   },
   {
    "duration": 1697,
    "start_time": "2023-11-27T11:48:17.191Z"
   },
   {
    "duration": 640,
    "start_time": "2023-11-27T11:51:21.759Z"
   },
   {
    "duration": 293,
    "start_time": "2023-11-27T11:51:22.401Z"
   },
   {
    "duration": 7,
    "start_time": "2023-11-27T11:51:22.710Z"
   },
   {
    "duration": 3,
    "start_time": "2023-11-27T11:51:25.415Z"
   },
   {
    "duration": 75,
    "start_time": "2023-11-27T11:51:25.420Z"
   },
   {
    "duration": 5,
    "start_time": "2023-11-27T11:51:25.497Z"
   },
   {
    "duration": 50,
    "start_time": "2023-11-27T11:51:25.505Z"
   },
   {
    "duration": 23,
    "start_time": "2023-11-27T11:51:25.557Z"
   },
   {
    "duration": 27,
    "start_time": "2023-11-27T11:51:25.582Z"
   },
   {
    "duration": 7,
    "start_time": "2023-11-27T11:51:25.611Z"
   },
   {
    "duration": 23,
    "start_time": "2023-11-27T11:51:25.619Z"
   },
   {
    "duration": 25,
    "start_time": "2023-11-27T11:51:25.644Z"
   },
   {
    "duration": 11,
    "start_time": "2023-11-27T11:51:25.672Z"
   },
   {
    "duration": 27,
    "start_time": "2023-11-27T11:51:25.685Z"
   },
   {
    "duration": 19,
    "start_time": "2023-11-27T11:51:25.714Z"
   },
   {
    "duration": 13,
    "start_time": "2023-11-27T11:51:25.735Z"
   },
   {
    "duration": 28,
    "start_time": "2023-11-27T11:51:25.749Z"
   },
   {
    "duration": 17,
    "start_time": "2023-11-27T11:51:25.779Z"
   },
   {
    "duration": 29,
    "start_time": "2023-11-27T11:51:25.798Z"
   },
   {
    "duration": 172,
    "start_time": "2023-11-27T11:51:25.829Z"
   },
   {
    "duration": 91,
    "start_time": "2023-11-27T11:51:26.002Z"
   },
   {
    "duration": 152,
    "start_time": "2023-11-27T11:51:26.095Z"
   },
   {
    "duration": 334,
    "start_time": "2023-11-27T11:51:26.249Z"
   },
   {
    "duration": 156,
    "start_time": "2023-11-27T11:51:26.585Z"
   },
   {
    "duration": 32,
    "start_time": "2023-11-27T11:51:26.743Z"
   },
   {
    "duration": 29,
    "start_time": "2023-11-27T11:51:26.776Z"
   },
   {
    "duration": 32,
    "start_time": "2023-11-27T11:51:26.807Z"
   },
   {
    "duration": 227,
    "start_time": "2023-11-27T11:51:26.841Z"
   },
   {
    "duration": 217,
    "start_time": "2023-11-27T11:51:27.070Z"
   },
   {
    "duration": 29,
    "start_time": "2023-11-27T11:51:27.289Z"
   },
   {
    "duration": 4043,
    "start_time": "2023-11-27T11:51:27.332Z"
   },
   {
    "duration": 46,
    "start_time": "2023-11-27T11:52:38.564Z"
   },
   {
    "duration": 657,
    "start_time": "2023-11-27T11:53:07.295Z"
   },
   {
    "duration": 292,
    "start_time": "2023-11-27T11:53:07.953Z"
   },
   {
    "duration": 9,
    "start_time": "2023-11-27T11:53:08.247Z"
   },
   {
    "duration": 14,
    "start_time": "2023-11-27T11:53:08.258Z"
   },
   {
    "duration": 10,
    "start_time": "2023-11-27T11:53:08.274Z"
   },
   {
    "duration": 23,
    "start_time": "2023-11-27T11:53:08.285Z"
   },
   {
    "duration": 5,
    "start_time": "2023-11-27T11:53:08.309Z"
   },
   {
    "duration": 18,
    "start_time": "2023-11-27T11:53:08.316Z"
   },
   {
    "duration": 12,
    "start_time": "2023-11-27T11:53:08.336Z"
   },
   {
    "duration": 7,
    "start_time": "2023-11-27T11:53:08.351Z"
   },
   {
    "duration": 19,
    "start_time": "2023-11-27T11:53:08.359Z"
   },
   {
    "duration": 8,
    "start_time": "2023-11-27T11:53:08.379Z"
   },
   {
    "duration": 5,
    "start_time": "2023-11-27T11:53:08.388Z"
   },
   {
    "duration": 7,
    "start_time": "2023-11-27T11:53:08.394Z"
   },
   {
    "duration": 30,
    "start_time": "2023-11-27T11:53:08.403Z"
   },
   {
    "duration": 11,
    "start_time": "2023-11-27T11:53:08.435Z"
   },
   {
    "duration": 169,
    "start_time": "2023-11-27T11:53:08.447Z"
   },
   {
    "duration": 82,
    "start_time": "2023-11-27T11:53:08.617Z"
   },
   {
    "duration": 146,
    "start_time": "2023-11-27T11:53:08.701Z"
   },
   {
    "duration": 301,
    "start_time": "2023-11-27T11:53:08.849Z"
   },
   {
    "duration": 143,
    "start_time": "2023-11-27T11:53:09.152Z"
   },
   {
    "duration": 36,
    "start_time": "2023-11-27T11:53:09.297Z"
   },
   {
    "duration": 18,
    "start_time": "2023-11-27T11:53:09.334Z"
   },
   {
    "duration": 15,
    "start_time": "2023-11-27T11:53:09.353Z"
   },
   {
    "duration": 234,
    "start_time": "2023-11-27T11:53:09.370Z"
   },
   {
    "duration": 203,
    "start_time": "2023-11-27T11:53:09.606Z"
   },
   {
    "duration": 39,
    "start_time": "2023-11-27T11:53:09.811Z"
   },
   {
    "duration": 50,
    "start_time": "2023-11-27T11:53:09.853Z"
   },
   {
    "duration": 1640,
    "start_time": "2023-11-27T11:53:09.905Z"
   },
   {
    "duration": 666,
    "start_time": "2023-11-27T12:01:33.919Z"
   },
   {
    "duration": 284,
    "start_time": "2023-11-27T12:01:34.588Z"
   },
   {
    "duration": 7,
    "start_time": "2023-11-27T12:01:34.874Z"
   },
   {
    "duration": 11,
    "start_time": "2023-11-27T12:01:34.883Z"
   },
   {
    "duration": 7,
    "start_time": "2023-11-27T12:01:34.896Z"
   },
   {
    "duration": 11,
    "start_time": "2023-11-27T12:01:34.905Z"
   },
   {
    "duration": 5,
    "start_time": "2023-11-27T12:01:34.917Z"
   },
   {
    "duration": 11,
    "start_time": "2023-11-27T12:01:34.923Z"
   },
   {
    "duration": 15,
    "start_time": "2023-11-27T12:01:34.935Z"
   },
   {
    "duration": 7,
    "start_time": "2023-11-27T12:01:34.951Z"
   },
   {
    "duration": 12,
    "start_time": "2023-11-27T12:01:34.959Z"
   },
   {
    "duration": 7,
    "start_time": "2023-11-27T12:01:34.972Z"
   },
   {
    "duration": 4,
    "start_time": "2023-11-27T12:01:34.981Z"
   },
   {
    "duration": 18,
    "start_time": "2023-11-27T12:01:34.987Z"
   },
   {
    "duration": 25,
    "start_time": "2023-11-27T12:01:35.006Z"
   },
   {
    "duration": 18,
    "start_time": "2023-11-27T12:01:35.032Z"
   },
   {
    "duration": 169,
    "start_time": "2023-11-27T12:01:35.052Z"
   },
   {
    "duration": 67,
    "start_time": "2023-11-27T12:01:35.230Z"
   },
   {
    "duration": 156,
    "start_time": "2023-11-27T12:01:35.299Z"
   },
   {
    "duration": 309,
    "start_time": "2023-11-27T12:01:35.457Z"
   },
   {
    "duration": 142,
    "start_time": "2023-11-27T12:01:35.768Z"
   },
   {
    "duration": 37,
    "start_time": "2023-11-27T12:01:35.912Z"
   },
   {
    "duration": 17,
    "start_time": "2023-11-27T12:01:35.951Z"
   },
   {
    "duration": 15,
    "start_time": "2023-11-27T12:01:35.969Z"
   },
   {
    "duration": 227,
    "start_time": "2023-11-27T12:01:35.985Z"
   },
   {
    "duration": 207,
    "start_time": "2023-11-27T12:01:36.214Z"
   },
   {
    "duration": 33,
    "start_time": "2023-11-27T12:01:36.423Z"
   },
   {
    "duration": 90,
    "start_time": "2023-11-27T12:01:36.458Z"
   },
   {
    "duration": 0,
    "start_time": "2023-11-27T12:01:36.550Z"
   },
   {
    "duration": 63,
    "start_time": "2023-11-27T12:01:55.015Z"
   },
   {
    "duration": 938,
    "start_time": "2023-11-27T12:02:38.000Z"
   },
   {
    "duration": 651,
    "start_time": "2023-11-27T12:04:43.352Z"
   },
   {
    "duration": 274,
    "start_time": "2023-11-27T12:04:44.005Z"
   },
   {
    "duration": 7,
    "start_time": "2023-11-27T12:04:44.281Z"
   },
   {
    "duration": 13,
    "start_time": "2023-11-27T12:04:44.290Z"
   },
   {
    "duration": 6,
    "start_time": "2023-11-27T12:04:44.305Z"
   },
   {
    "duration": 12,
    "start_time": "2023-11-27T12:04:44.313Z"
   },
   {
    "duration": 5,
    "start_time": "2023-11-27T12:04:44.326Z"
   },
   {
    "duration": 10,
    "start_time": "2023-11-27T12:04:44.333Z"
   },
   {
    "duration": 12,
    "start_time": "2023-11-27T12:04:44.344Z"
   },
   {
    "duration": 7,
    "start_time": "2023-11-27T12:04:44.358Z"
   },
   {
    "duration": 14,
    "start_time": "2023-11-27T12:04:44.366Z"
   },
   {
    "duration": 8,
    "start_time": "2023-11-27T12:04:44.381Z"
   },
   {
    "duration": 4,
    "start_time": "2023-11-27T12:04:44.391Z"
   },
   {
    "duration": 7,
    "start_time": "2023-11-27T12:04:44.432Z"
   },
   {
    "duration": 5,
    "start_time": "2023-11-27T12:04:44.440Z"
   },
   {
    "duration": 7,
    "start_time": "2023-11-27T12:04:44.447Z"
   },
   {
    "duration": 172,
    "start_time": "2023-11-27T12:04:44.455Z"
   },
   {
    "duration": 72,
    "start_time": "2023-11-27T12:04:44.631Z"
   },
   {
    "duration": 155,
    "start_time": "2023-11-27T12:04:44.705Z"
   },
   {
    "duration": 307,
    "start_time": "2023-11-27T12:04:44.861Z"
   },
   {
    "duration": 134,
    "start_time": "2023-11-27T12:04:45.169Z"
   },
   {
    "duration": 37,
    "start_time": "2023-11-27T12:04:45.305Z"
   },
   {
    "duration": 19,
    "start_time": "2023-11-27T12:04:45.344Z"
   },
   {
    "duration": 15,
    "start_time": "2023-11-27T12:04:45.365Z"
   },
   {
    "duration": 231,
    "start_time": "2023-11-27T12:04:45.381Z"
   },
   {
    "duration": 239,
    "start_time": "2023-11-27T12:04:45.613Z"
   },
   {
    "duration": 29,
    "start_time": "2023-11-27T12:04:45.855Z"
   },
   {
    "duration": 74,
    "start_time": "2023-11-27T12:04:45.886Z"
   },
   {
    "duration": 1419,
    "start_time": "2023-11-27T12:04:45.961Z"
   },
   {
    "duration": 183,
    "start_time": "2023-11-27T12:04:59.435Z"
   },
   {
    "duration": 4198,
    "start_time": "2023-11-27T12:05:13.729Z"
   },
   {
    "duration": 3,
    "start_time": "2023-11-27T12:05:52.821Z"
   },
   {
    "duration": 49,
    "start_time": "2023-11-27T12:05:55.089Z"
   },
   {
    "duration": 681,
    "start_time": "2023-11-27T12:06:06.329Z"
   },
   {
    "duration": 278,
    "start_time": "2023-11-27T12:06:07.012Z"
   },
   {
    "duration": 10,
    "start_time": "2023-11-27T12:06:07.292Z"
   },
   {
    "duration": 35,
    "start_time": "2023-11-27T12:06:07.304Z"
   },
   {
    "duration": 12,
    "start_time": "2023-11-27T12:06:07.340Z"
   },
   {
    "duration": 19,
    "start_time": "2023-11-27T12:06:07.354Z"
   },
   {
    "duration": 20,
    "start_time": "2023-11-27T12:06:07.374Z"
   },
   {
    "duration": 26,
    "start_time": "2023-11-27T12:06:07.396Z"
   },
   {
    "duration": 30,
    "start_time": "2023-11-27T12:06:07.423Z"
   },
   {
    "duration": 6,
    "start_time": "2023-11-27T12:06:07.456Z"
   },
   {
    "duration": 16,
    "start_time": "2023-11-27T12:06:07.464Z"
   },
   {
    "duration": 8,
    "start_time": "2023-11-27T12:06:07.481Z"
   },
   {
    "duration": 6,
    "start_time": "2023-11-27T12:06:07.491Z"
   },
   {
    "duration": 13,
    "start_time": "2023-11-27T12:06:07.498Z"
   },
   {
    "duration": 9,
    "start_time": "2023-11-27T12:06:07.512Z"
   },
   {
    "duration": 12,
    "start_time": "2023-11-27T12:06:07.522Z"
   },
   {
    "duration": 182,
    "start_time": "2023-11-27T12:06:07.535Z"
   },
   {
    "duration": 102,
    "start_time": "2023-11-27T12:06:07.719Z"
   },
   {
    "duration": 158,
    "start_time": "2023-11-27T12:06:07.823Z"
   },
   {
    "duration": 310,
    "start_time": "2023-11-27T12:06:07.983Z"
   },
   {
    "duration": 145,
    "start_time": "2023-11-27T12:06:08.294Z"
   },
   {
    "duration": 30,
    "start_time": "2023-11-27T12:06:08.441Z"
   },
   {
    "duration": 18,
    "start_time": "2023-11-27T12:06:08.473Z"
   },
   {
    "duration": 16,
    "start_time": "2023-11-27T12:06:08.493Z"
   },
   {
    "duration": 221,
    "start_time": "2023-11-27T12:06:08.531Z"
   },
   {
    "duration": 225,
    "start_time": "2023-11-27T12:06:08.754Z"
   },
   {
    "duration": 29,
    "start_time": "2023-11-27T12:06:08.980Z"
   },
   {
    "duration": 66,
    "start_time": "2023-11-27T12:06:09.012Z"
   },
   {
    "duration": 2,
    "start_time": "2023-11-27T12:06:09.080Z"
   },
   {
    "duration": 600,
    "start_time": "2023-11-27T12:06:42.857Z"
   },
   {
    "duration": 708,
    "start_time": "2023-11-27T12:07:16.907Z"
   },
   {
    "duration": 304,
    "start_time": "2023-11-27T12:07:17.617Z"
   },
   {
    "duration": 12,
    "start_time": "2023-11-27T12:07:17.922Z"
   },
   {
    "duration": 37,
    "start_time": "2023-11-27T12:07:17.938Z"
   },
   {
    "duration": 11,
    "start_time": "2023-11-27T12:07:17.977Z"
   },
   {
    "duration": 26,
    "start_time": "2023-11-27T12:07:17.990Z"
   },
   {
    "duration": 5,
    "start_time": "2023-11-27T12:07:18.018Z"
   },
   {
    "duration": 23,
    "start_time": "2023-11-27T12:07:18.024Z"
   },
   {
    "duration": 11,
    "start_time": "2023-11-27T12:07:18.048Z"
   },
   {
    "duration": 12,
    "start_time": "2023-11-27T12:07:18.061Z"
   },
   {
    "duration": 21,
    "start_time": "2023-11-27T12:07:18.075Z"
   },
   {
    "duration": 13,
    "start_time": "2023-11-27T12:07:18.097Z"
   },
   {
    "duration": 34,
    "start_time": "2023-11-27T12:07:18.111Z"
   },
   {
    "duration": 24,
    "start_time": "2023-11-27T12:07:18.148Z"
   },
   {
    "duration": 31,
    "start_time": "2023-11-27T12:07:18.174Z"
   },
   {
    "duration": 39,
    "start_time": "2023-11-27T12:07:18.207Z"
   },
   {
    "duration": 201,
    "start_time": "2023-11-27T12:07:18.248Z"
   },
   {
    "duration": 80,
    "start_time": "2023-11-27T12:07:18.451Z"
   },
   {
    "duration": 150,
    "start_time": "2023-11-27T12:07:18.535Z"
   },
   {
    "duration": 319,
    "start_time": "2023-11-27T12:07:18.686Z"
   },
   {
    "duration": 151,
    "start_time": "2023-11-27T12:07:19.006Z"
   },
   {
    "duration": 29,
    "start_time": "2023-11-27T12:07:19.158Z"
   },
   {
    "duration": 19,
    "start_time": "2023-11-27T12:07:19.188Z"
   },
   {
    "duration": 44,
    "start_time": "2023-11-27T12:07:19.208Z"
   },
   {
    "duration": 235,
    "start_time": "2023-11-27T12:07:19.253Z"
   },
   {
    "duration": 224,
    "start_time": "2023-11-27T12:07:19.489Z"
   },
   {
    "duration": 45,
    "start_time": "2023-11-27T12:07:19.715Z"
   },
   {
    "duration": 50,
    "start_time": "2023-11-27T12:07:19.761Z"
   },
   {
    "duration": 2,
    "start_time": "2023-11-27T12:07:19.812Z"
   },
   {
    "duration": 678,
    "start_time": "2023-11-27T12:07:50.494Z"
   },
   {
    "duration": 2,
    "start_time": "2023-11-27T12:07:51.174Z"
   },
   {
    "duration": 28,
    "start_time": "2023-11-27T12:10:28.248Z"
   },
   {
    "duration": 34,
    "start_time": "2023-11-27T12:10:35.414Z"
   },
   {
    "duration": 612,
    "start_time": "2023-11-27T12:10:41.429Z"
   },
   {
    "duration": 3,
    "start_time": "2023-11-27T12:10:42.043Z"
   },
   {
    "duration": 615,
    "start_time": "2023-11-27T12:11:21.773Z"
   },
   {
    "duration": 291,
    "start_time": "2023-11-27T12:11:22.390Z"
   },
   {
    "duration": 7,
    "start_time": "2023-11-27T12:11:22.683Z"
   },
   {
    "duration": 18,
    "start_time": "2023-11-27T12:11:22.692Z"
   },
   {
    "duration": 15,
    "start_time": "2023-11-27T12:11:22.712Z"
   },
   {
    "duration": 24,
    "start_time": "2023-11-27T12:11:22.729Z"
   },
   {
    "duration": 5,
    "start_time": "2023-11-27T12:11:22.754Z"
   },
   {
    "duration": 15,
    "start_time": "2023-11-27T12:11:22.761Z"
   },
   {
    "duration": 11,
    "start_time": "2023-11-27T12:11:22.778Z"
   },
   {
    "duration": 11,
    "start_time": "2023-11-27T12:11:22.791Z"
   },
   {
    "duration": 14,
    "start_time": "2023-11-27T12:11:22.803Z"
   },
   {
    "duration": 16,
    "start_time": "2023-11-27T12:11:22.819Z"
   },
   {
    "duration": 4,
    "start_time": "2023-11-27T12:11:22.836Z"
   },
   {
    "duration": 14,
    "start_time": "2023-11-27T12:11:22.843Z"
   },
   {
    "duration": 16,
    "start_time": "2023-11-27T12:11:22.858Z"
   },
   {
    "duration": 35,
    "start_time": "2023-11-27T12:11:22.876Z"
   },
   {
    "duration": 163,
    "start_time": "2023-11-27T12:11:22.913Z"
   },
   {
    "duration": 75,
    "start_time": "2023-11-27T12:11:23.077Z"
   },
   {
    "duration": 145,
    "start_time": "2023-11-27T12:11:23.153Z"
   },
   {
    "duration": 315,
    "start_time": "2023-11-27T12:11:23.300Z"
   },
   {
    "duration": 144,
    "start_time": "2023-11-27T12:11:23.617Z"
   },
   {
    "duration": 31,
    "start_time": "2023-11-27T12:11:23.763Z"
   },
   {
    "duration": 37,
    "start_time": "2023-11-27T12:11:23.795Z"
   },
   {
    "duration": 16,
    "start_time": "2023-11-27T12:11:23.833Z"
   },
   {
    "duration": 217,
    "start_time": "2023-11-27T12:11:23.851Z"
   },
   {
    "duration": 202,
    "start_time": "2023-11-27T12:11:24.070Z"
   },
   {
    "duration": 30,
    "start_time": "2023-11-27T12:11:24.274Z"
   },
   {
    "duration": 64,
    "start_time": "2023-11-27T12:11:24.305Z"
   },
   {
    "duration": 2,
    "start_time": "2023-11-27T12:11:24.370Z"
   },
   {
    "duration": 204,
    "start_time": "2023-11-27T12:11:47.002Z"
   },
   {
    "duration": 4153,
    "start_time": "2023-11-27T12:12:28.667Z"
   },
   {
    "duration": 643,
    "start_time": "2023-11-27T12:13:47.387Z"
   },
   {
    "duration": 278,
    "start_time": "2023-11-27T12:13:48.032Z"
   },
   {
    "duration": 7,
    "start_time": "2023-11-27T12:13:48.312Z"
   },
   {
    "duration": 17,
    "start_time": "2023-11-27T12:13:48.321Z"
   },
   {
    "duration": 15,
    "start_time": "2023-11-27T12:13:48.340Z"
   },
   {
    "duration": 22,
    "start_time": "2023-11-27T12:13:48.356Z"
   },
   {
    "duration": 6,
    "start_time": "2023-11-27T12:13:48.380Z"
   },
   {
    "duration": 14,
    "start_time": "2023-11-27T12:13:48.388Z"
   },
   {
    "duration": 12,
    "start_time": "2023-11-27T12:13:48.404Z"
   },
   {
    "duration": 12,
    "start_time": "2023-11-27T12:13:48.418Z"
   },
   {
    "duration": 11,
    "start_time": "2023-11-27T12:13:48.432Z"
   },
   {
    "duration": 8,
    "start_time": "2023-11-27T12:13:48.445Z"
   },
   {
    "duration": 5,
    "start_time": "2023-11-27T12:13:48.455Z"
   },
   {
    "duration": 6,
    "start_time": "2023-11-27T12:13:48.461Z"
   },
   {
    "duration": 5,
    "start_time": "2023-11-27T12:13:48.468Z"
   },
   {
    "duration": 6,
    "start_time": "2023-11-27T12:13:48.474Z"
   },
   {
    "duration": 213,
    "start_time": "2023-11-27T12:13:48.481Z"
   },
   {
    "duration": 83,
    "start_time": "2023-11-27T12:13:48.696Z"
   },
   {
    "duration": 167,
    "start_time": "2023-11-27T12:13:48.781Z"
   },
   {
    "duration": 326,
    "start_time": "2023-11-27T12:13:48.950Z"
   },
   {
    "duration": 134,
    "start_time": "2023-11-27T12:13:49.277Z"
   },
   {
    "duration": 38,
    "start_time": "2023-11-27T12:13:49.412Z"
   },
   {
    "duration": 19,
    "start_time": "2023-11-27T12:13:49.451Z"
   },
   {
    "duration": 15,
    "start_time": "2023-11-27T12:13:49.471Z"
   },
   {
    "duration": 253,
    "start_time": "2023-11-27T12:13:49.487Z"
   },
   {
    "duration": 204,
    "start_time": "2023-11-27T12:13:49.742Z"
   },
   {
    "duration": 30,
    "start_time": "2023-11-27T12:13:49.947Z"
   },
   {
    "duration": 15,
    "start_time": "2023-11-27T12:13:49.980Z"
   },
   {
    "duration": 2,
    "start_time": "2023-11-27T12:13:49.996Z"
   },
   {
    "duration": 90,
    "start_time": "2023-11-27T12:14:47.175Z"
   },
   {
    "duration": 33,
    "start_time": "2023-11-27T12:15:13.134Z"
   },
   {
    "duration": 22,
    "start_time": "2023-11-27T12:16:18.609Z"
   },
   {
    "duration": 24,
    "start_time": "2023-11-27T12:16:31.665Z"
   },
   {
    "duration": 658,
    "start_time": "2023-11-27T12:17:11.010Z"
   },
   {
    "duration": 66,
    "start_time": "2023-11-27T12:17:11.670Z"
   },
   {
    "duration": 7,
    "start_time": "2023-11-27T12:17:11.737Z"
   },
   {
    "duration": 24,
    "start_time": "2023-11-27T12:17:11.745Z"
   },
   {
    "duration": 38,
    "start_time": "2023-11-27T12:17:11.771Z"
   },
   {
    "duration": 30,
    "start_time": "2023-11-27T12:17:11.811Z"
   },
   {
    "duration": 14,
    "start_time": "2023-11-27T12:17:11.842Z"
   },
   {
    "duration": 38,
    "start_time": "2023-11-27T12:17:11.857Z"
   },
   {
    "duration": 25,
    "start_time": "2023-11-27T12:17:11.896Z"
   },
   {
    "duration": 26,
    "start_time": "2023-11-27T12:17:11.923Z"
   },
   {
    "duration": 28,
    "start_time": "2023-11-27T12:17:11.951Z"
   },
   {
    "duration": 14,
    "start_time": "2023-11-27T12:17:11.980Z"
   },
   {
    "duration": 17,
    "start_time": "2023-11-27T12:17:11.996Z"
   },
   {
    "duration": 15,
    "start_time": "2023-11-27T12:17:12.016Z"
   },
   {
    "duration": 22,
    "start_time": "2023-11-27T12:17:12.033Z"
   },
   {
    "duration": 18,
    "start_time": "2023-11-27T12:17:12.057Z"
   },
   {
    "duration": 169,
    "start_time": "2023-11-27T12:17:12.077Z"
   },
   {
    "duration": 86,
    "start_time": "2023-11-27T12:17:12.248Z"
   },
   {
    "duration": 139,
    "start_time": "2023-11-27T12:17:12.335Z"
   },
   {
    "duration": 304,
    "start_time": "2023-11-27T12:17:12.475Z"
   },
   {
    "duration": 133,
    "start_time": "2023-11-27T12:17:12.780Z"
   },
   {
    "duration": 41,
    "start_time": "2023-11-27T12:17:12.915Z"
   },
   {
    "duration": 17,
    "start_time": "2023-11-27T12:17:12.957Z"
   },
   {
    "duration": 39,
    "start_time": "2023-11-27T12:17:12.976Z"
   },
   {
    "duration": 200,
    "start_time": "2023-11-27T12:17:13.016Z"
   },
   {
    "duration": 208,
    "start_time": "2023-11-27T12:17:13.218Z"
   },
   {
    "duration": 30,
    "start_time": "2023-11-27T12:17:13.430Z"
   },
   {
    "duration": 20,
    "start_time": "2023-11-27T12:17:13.461Z"
   },
   {
    "duration": 5,
    "start_time": "2023-11-27T12:17:13.483Z"
   },
   {
    "duration": 24,
    "start_time": "2023-11-27T12:18:38.994Z"
   },
   {
    "duration": 1024,
    "start_time": "2023-11-27T12:21:46.976Z"
   },
   {
    "duration": 30,
    "start_time": "2023-11-27T12:21:58.894Z"
   },
   {
    "duration": 27,
    "start_time": "2023-11-27T12:24:02.894Z"
   },
   {
    "duration": 27,
    "start_time": "2023-11-27T12:25:30.874Z"
   },
   {
    "duration": 109,
    "start_time": "2023-11-27T12:42:05.081Z"
   },
   {
    "duration": 124,
    "start_time": "2023-11-27T12:42:30.078Z"
   },
   {
    "duration": 31,
    "start_time": "2023-11-27T12:44:50.438Z"
   },
   {
    "duration": 27,
    "start_time": "2023-11-27T12:44:53.941Z"
   },
   {
    "duration": 30,
    "start_time": "2023-11-27T12:45:14.342Z"
   },
   {
    "duration": 30,
    "start_time": "2023-11-27T12:51:31.235Z"
   },
   {
    "duration": 27,
    "start_time": "2023-11-27T12:51:42.955Z"
   },
   {
    "duration": 8,
    "start_time": "2023-11-27T12:55:58.752Z"
   },
   {
    "duration": 17,
    "start_time": "2023-11-27T12:56:21.917Z"
   },
   {
    "duration": 17,
    "start_time": "2023-11-27T12:56:57.886Z"
   },
   {
    "duration": 17,
    "start_time": "2023-11-27T12:59:06.112Z"
   },
   {
    "duration": 22,
    "start_time": "2023-11-27T12:59:16.672Z"
   },
   {
    "duration": 14,
    "start_time": "2023-11-27T13:00:02.686Z"
   },
   {
    "duration": 6,
    "start_time": "2023-11-27T13:03:05.920Z"
   },
   {
    "duration": 5,
    "start_time": "2023-11-27T13:03:23.896Z"
   },
   {
    "duration": 8,
    "start_time": "2023-11-27T13:03:57.720Z"
   },
   {
    "duration": 8,
    "start_time": "2023-11-27T13:04:14.295Z"
   },
   {
    "duration": 20,
    "start_time": "2023-11-27T13:04:30.066Z"
   },
   {
    "duration": 19,
    "start_time": "2023-11-27T13:05:01.604Z"
   },
   {
    "duration": 17,
    "start_time": "2023-11-27T13:05:13.351Z"
   },
   {
    "duration": 29,
    "start_time": "2023-11-27T13:05:36.405Z"
   },
   {
    "duration": 29,
    "start_time": "2023-11-27T13:07:27.317Z"
   },
   {
    "duration": 27,
    "start_time": "2023-11-27T13:07:54.133Z"
   },
   {
    "duration": 31,
    "start_time": "2023-11-27T13:08:12.115Z"
   },
   {
    "duration": 27,
    "start_time": "2023-11-27T13:08:21.883Z"
   },
   {
    "duration": 421,
    "start_time": "2023-11-27T13:14:22.227Z"
   },
   {
    "duration": 68,
    "start_time": "2023-11-27T13:14:22.851Z"
   },
   {
    "duration": 6,
    "start_time": "2023-11-27T13:14:23.194Z"
   },
   {
    "duration": 13,
    "start_time": "2023-11-27T13:14:23.368Z"
   },
   {
    "duration": 6,
    "start_time": "2023-11-27T13:14:23.546Z"
   },
   {
    "duration": 12,
    "start_time": "2023-11-27T13:14:23.701Z"
   },
   {
    "duration": 32,
    "start_time": "2023-11-27T13:17:23.800Z"
   },
   {
    "duration": 9,
    "start_time": "2023-11-27T13:17:56.855Z"
   },
   {
    "duration": 45,
    "start_time": "2023-11-27T13:18:14.911Z"
   },
   {
    "duration": 43,
    "start_time": "2023-11-27T13:19:40.612Z"
   },
   {
    "duration": 45,
    "start_time": "2023-11-27T13:21:18.577Z"
   },
   {
    "duration": 17,
    "start_time": "2023-11-27T13:22:28.734Z"
   },
   {
    "duration": 17,
    "start_time": "2023-11-27T13:22:30.689Z"
   },
   {
    "duration": 9,
    "start_time": "2023-11-27T13:23:07.075Z"
   },
   {
    "duration": 5,
    "start_time": "2023-11-27T13:24:44.161Z"
   },
   {
    "duration": 6,
    "start_time": "2023-11-27T13:26:21.939Z"
   },
   {
    "duration": 1343,
    "start_time": "2023-11-27T15:37:33.720Z"
   },
   {
    "duration": 298,
    "start_time": "2023-11-27T15:37:35.065Z"
   },
   {
    "duration": 7,
    "start_time": "2023-11-27T15:37:35.365Z"
   },
   {
    "duration": 18,
    "start_time": "2023-11-27T15:37:35.374Z"
   },
   {
    "duration": 7,
    "start_time": "2023-11-27T15:37:35.395Z"
   },
   {
    "duration": 11,
    "start_time": "2023-11-27T15:37:35.404Z"
   },
   {
    "duration": 5,
    "start_time": "2023-11-27T15:37:35.417Z"
   },
   {
    "duration": 14,
    "start_time": "2023-11-27T15:37:35.423Z"
   },
   {
    "duration": 10,
    "start_time": "2023-11-27T15:37:35.439Z"
   },
   {
    "duration": 16,
    "start_time": "2023-11-27T15:37:35.450Z"
   },
   {
    "duration": 14,
    "start_time": "2023-11-27T15:37:35.467Z"
   },
   {
    "duration": 9,
    "start_time": "2023-11-27T15:37:35.501Z"
   },
   {
    "duration": 28,
    "start_time": "2023-11-27T15:37:35.511Z"
   },
   {
    "duration": 19,
    "start_time": "2023-11-27T15:37:35.543Z"
   },
   {
    "duration": 25,
    "start_time": "2023-11-27T15:37:35.563Z"
   },
   {
    "duration": 28,
    "start_time": "2023-11-27T15:37:35.589Z"
   },
   {
    "duration": 181,
    "start_time": "2023-11-27T15:37:35.618Z"
   },
   {
    "duration": 73,
    "start_time": "2023-11-27T15:37:35.801Z"
   },
   {
    "duration": 181,
    "start_time": "2023-11-27T15:37:35.876Z"
   },
   {
    "duration": 272,
    "start_time": "2023-11-27T15:37:36.060Z"
   },
   {
    "duration": 145,
    "start_time": "2023-11-27T15:37:36.333Z"
   },
   {
    "duration": 43,
    "start_time": "2023-11-27T15:37:36.480Z"
   },
   {
    "duration": 21,
    "start_time": "2023-11-27T15:37:36.525Z"
   },
   {
    "duration": 17,
    "start_time": "2023-11-27T15:37:36.548Z"
   },
   {
    "duration": 258,
    "start_time": "2023-11-27T15:37:36.566Z"
   },
   {
    "duration": 238,
    "start_time": "2023-11-27T15:37:36.826Z"
   },
   {
    "duration": 108,
    "start_time": "2023-11-27T15:37:37.066Z"
   },
   {
    "duration": 37,
    "start_time": "2023-11-27T15:37:37.175Z"
   },
   {
    "duration": 18,
    "start_time": "2023-11-27T15:37:37.214Z"
   },
   {
    "duration": 16,
    "start_time": "2023-11-27T15:37:37.233Z"
   },
   {
    "duration": 6,
    "start_time": "2023-11-27T15:37:37.251Z"
   },
   {
    "duration": 41,
    "start_time": "2023-11-27T15:37:37.259Z"
   },
   {
    "duration": 6,
    "start_time": "2023-11-27T15:37:37.302Z"
   },
   {
    "duration": 111,
    "start_time": "2023-11-27T15:37:37.310Z"
   },
   {
    "duration": 6,
    "start_time": "2023-11-27T16:49:22.740Z"
   },
   {
    "duration": 4,
    "start_time": "2023-11-27T16:49:27.530Z"
   },
   {
    "duration": 6,
    "start_time": "2023-11-27T17:00:44.582Z"
   },
   {
    "duration": 6,
    "start_time": "2023-11-27T17:00:47.314Z"
   },
   {
    "duration": 15,
    "start_time": "2023-11-27T17:00:50.900Z"
   },
   {
    "duration": 4,
    "start_time": "2023-11-27T17:00:51.682Z"
   },
   {
    "duration": 5,
    "start_time": "2023-11-27T17:00:51.860Z"
   },
   {
    "duration": 5,
    "start_time": "2023-11-27T17:00:52.063Z"
   },
   {
    "duration": 115,
    "start_time": "2023-11-27T17:00:52.566Z"
   },
   {
    "duration": 6,
    "start_time": "2023-11-27T17:06:56.440Z"
   },
   {
    "duration": 5,
    "start_time": "2023-11-27T17:08:07.895Z"
   },
   {
    "duration": 6,
    "start_time": "2023-11-27T17:08:33.885Z"
   },
   {
    "duration": 5,
    "start_time": "2023-11-27T17:09:26.729Z"
   },
   {
    "duration": 6,
    "start_time": "2023-11-27T17:19:54.001Z"
   },
   {
    "duration": 5,
    "start_time": "2023-11-27T17:24:34.313Z"
   },
   {
    "duration": 5,
    "start_time": "2023-11-27T17:27:01.676Z"
   },
   {
    "duration": 6,
    "start_time": "2023-11-27T17:28:22.309Z"
   },
   {
    "duration": 1235,
    "start_time": "2023-11-28T13:49:15.397Z"
   },
   {
    "duration": 198,
    "start_time": "2023-11-28T13:49:16.634Z"
   },
   {
    "duration": 8,
    "start_time": "2023-11-28T13:49:16.834Z"
   },
   {
    "duration": 34,
    "start_time": "2023-11-28T13:49:16.844Z"
   },
   {
    "duration": 17,
    "start_time": "2023-11-28T13:49:16.880Z"
   },
   {
    "duration": 30,
    "start_time": "2023-11-28T13:49:16.898Z"
   },
   {
    "duration": 8,
    "start_time": "2023-11-28T13:49:16.930Z"
   },
   {
    "duration": 31,
    "start_time": "2023-11-28T13:49:16.939Z"
   },
   {
    "duration": 17,
    "start_time": "2023-11-28T13:49:16.972Z"
   },
   {
    "duration": 7,
    "start_time": "2023-11-28T13:49:16.991Z"
   },
   {
    "duration": 16,
    "start_time": "2023-11-28T13:49:16.999Z"
   },
   {
    "duration": 7,
    "start_time": "2023-11-28T13:49:17.016Z"
   },
   {
    "duration": 4,
    "start_time": "2023-11-28T13:49:17.025Z"
   },
   {
    "duration": 7,
    "start_time": "2023-11-28T13:49:17.030Z"
   },
   {
    "duration": 4,
    "start_time": "2023-11-28T13:49:17.038Z"
   },
   {
    "duration": 6,
    "start_time": "2023-11-28T13:49:17.065Z"
   },
   {
    "duration": 168,
    "start_time": "2023-11-28T13:49:17.072Z"
   },
   {
    "duration": 74,
    "start_time": "2023-11-28T13:49:17.242Z"
   },
   {
    "duration": 148,
    "start_time": "2023-11-28T13:49:17.317Z"
   },
   {
    "duration": 263,
    "start_time": "2023-11-28T13:49:17.467Z"
   },
   {
    "duration": 139,
    "start_time": "2023-11-28T13:49:17.732Z"
   },
   {
    "duration": 29,
    "start_time": "2023-11-28T13:49:17.873Z"
   },
   {
    "duration": 17,
    "start_time": "2023-11-28T13:49:17.904Z"
   },
   {
    "duration": 15,
    "start_time": "2023-11-28T13:49:17.923Z"
   },
   {
    "duration": 223,
    "start_time": "2023-11-28T13:49:17.965Z"
   },
   {
    "duration": 202,
    "start_time": "2023-11-28T13:49:18.189Z"
   },
   {
    "duration": 30,
    "start_time": "2023-11-28T13:49:18.393Z"
   },
   {
    "duration": 47,
    "start_time": "2023-11-28T13:49:18.427Z"
   },
   {
    "duration": 16,
    "start_time": "2023-11-28T13:49:18.476Z"
   },
   {
    "duration": 13,
    "start_time": "2023-11-28T13:49:18.493Z"
   },
   {
    "duration": 3,
    "start_time": "2023-11-28T13:49:18.508Z"
   },
   {
    "duration": 11,
    "start_time": "2023-11-28T13:49:18.513Z"
   },
   {
    "duration": 5,
    "start_time": "2023-11-28T13:49:18.525Z"
   },
   {
    "duration": 5,
    "start_time": "2023-11-28T13:49:18.532Z"
   },
   {
    "duration": 4,
    "start_time": "2023-11-28T13:49:51.328Z"
   },
   {
    "duration": 1326,
    "start_time": "2023-11-28T16:22:40.556Z"
   },
   {
    "duration": 203,
    "start_time": "2023-11-28T16:22:41.884Z"
   },
   {
    "duration": 8,
    "start_time": "2023-11-28T16:22:42.089Z"
   },
   {
    "duration": 11,
    "start_time": "2023-11-28T16:22:42.099Z"
   },
   {
    "duration": 6,
    "start_time": "2023-11-28T16:22:42.112Z"
   },
   {
    "duration": 26,
    "start_time": "2023-11-28T16:22:42.120Z"
   },
   {
    "duration": 6,
    "start_time": "2023-11-28T16:22:42.149Z"
   },
   {
    "duration": 15,
    "start_time": "2023-11-28T16:22:42.157Z"
   },
   {
    "duration": 16,
    "start_time": "2023-11-28T16:22:42.174Z"
   },
   {
    "duration": 10,
    "start_time": "2023-11-28T16:22:42.192Z"
   },
   {
    "duration": 20,
    "start_time": "2023-11-28T16:22:42.222Z"
   },
   {
    "duration": 11,
    "start_time": "2023-11-28T16:22:42.243Z"
   },
   {
    "duration": 10,
    "start_time": "2023-11-28T16:22:42.256Z"
   },
   {
    "duration": 8,
    "start_time": "2023-11-28T16:22:42.270Z"
   },
   {
    "duration": 5,
    "start_time": "2023-11-28T16:22:42.280Z"
   },
   {
    "duration": 36,
    "start_time": "2023-11-28T16:22:42.287Z"
   },
   {
    "duration": 189,
    "start_time": "2023-11-28T16:22:42.325Z"
   },
   {
    "duration": 80,
    "start_time": "2023-11-28T16:22:42.516Z"
   },
   {
    "duration": 164,
    "start_time": "2023-11-28T16:22:42.597Z"
   },
   {
    "duration": 278,
    "start_time": "2023-11-28T16:22:42.762Z"
   },
   {
    "duration": 145,
    "start_time": "2023-11-28T16:22:43.042Z"
   },
   {
    "duration": 42,
    "start_time": "2023-11-28T16:22:43.189Z"
   },
   {
    "duration": 19,
    "start_time": "2023-11-28T16:22:43.232Z"
   },
   {
    "duration": 17,
    "start_time": "2023-11-28T16:22:43.253Z"
   },
   {
    "duration": 242,
    "start_time": "2023-11-28T16:22:43.271Z"
   },
   {
    "duration": 235,
    "start_time": "2023-11-28T16:22:43.515Z"
   },
   {
    "duration": 34,
    "start_time": "2023-11-28T16:22:43.752Z"
   },
   {
    "duration": 55,
    "start_time": "2023-11-28T16:22:43.788Z"
   },
   {
    "duration": 17,
    "start_time": "2023-11-28T16:22:43.845Z"
   },
   {
    "duration": 15,
    "start_time": "2023-11-28T16:22:43.864Z"
   },
   {
    "duration": 11,
    "start_time": "2023-11-28T16:22:43.881Z"
   },
   {
    "duration": 29,
    "start_time": "2023-11-28T16:22:43.894Z"
   },
   {
    "duration": 7,
    "start_time": "2023-11-28T16:22:43.924Z"
   },
   {
    "duration": 9,
    "start_time": "2023-11-28T16:22:43.932Z"
   },
   {
    "duration": 4,
    "start_time": "2023-11-28T16:22:43.942Z"
   },
   {
    "duration": 6,
    "start_time": "2023-11-28T16:27:28.599Z"
   },
   {
    "duration": 4,
    "start_time": "2023-11-28T16:27:58.675Z"
   },
   {
    "duration": 4,
    "start_time": "2023-11-28T16:27:59.482Z"
   },
   {
    "duration": 7,
    "start_time": "2023-11-28T16:28:43.883Z"
   },
   {
    "duration": 97,
    "start_time": "2023-11-28T16:31:22.721Z"
   },
   {
    "duration": 3,
    "start_time": "2023-11-28T16:31:29.115Z"
   },
   {
    "duration": 6,
    "start_time": "2023-11-28T16:33:37.951Z"
   },
   {
    "duration": 5,
    "start_time": "2023-11-28T16:35:06.474Z"
   },
   {
    "duration": 5,
    "start_time": "2023-11-28T16:39:28.223Z"
   },
   {
    "duration": 1039,
    "start_time": "2023-11-28T17:22:18.484Z"
   },
   {
    "duration": 299,
    "start_time": "2023-11-28T17:22:19.524Z"
   },
   {
    "duration": 6,
    "start_time": "2023-11-28T17:22:19.825Z"
   },
   {
    "duration": 10,
    "start_time": "2023-11-28T17:22:19.832Z"
   },
   {
    "duration": 5,
    "start_time": "2023-11-28T17:22:19.844Z"
   },
   {
    "duration": 44,
    "start_time": "2023-11-28T17:22:19.850Z"
   },
   {
    "duration": 7,
    "start_time": "2023-11-28T17:22:19.896Z"
   },
   {
    "duration": 27,
    "start_time": "2023-11-28T17:22:19.905Z"
   },
   {
    "duration": 22,
    "start_time": "2023-11-28T17:22:19.933Z"
   },
   {
    "duration": 6,
    "start_time": "2023-11-28T17:22:19.957Z"
   },
   {
    "duration": 16,
    "start_time": "2023-11-28T17:22:19.964Z"
   },
   {
    "duration": 7,
    "start_time": "2023-11-28T17:22:19.982Z"
   },
   {
    "duration": 5,
    "start_time": "2023-11-28T17:22:19.990Z"
   },
   {
    "duration": 5,
    "start_time": "2023-11-28T17:22:19.997Z"
   },
   {
    "duration": 30,
    "start_time": "2023-11-28T17:22:20.004Z"
   },
   {
    "duration": 7,
    "start_time": "2023-11-28T17:22:20.036Z"
   },
   {
    "duration": 158,
    "start_time": "2023-11-28T17:22:20.044Z"
   },
   {
    "duration": 89,
    "start_time": "2023-11-28T17:22:20.204Z"
   },
   {
    "duration": 142,
    "start_time": "2023-11-28T17:22:20.294Z"
   },
   {
    "duration": 243,
    "start_time": "2023-11-28T17:22:20.438Z"
   },
   {
    "duration": 134,
    "start_time": "2023-11-28T17:22:20.682Z"
   },
   {
    "duration": 40,
    "start_time": "2023-11-28T17:22:20.818Z"
   },
   {
    "duration": 19,
    "start_time": "2023-11-28T17:22:20.859Z"
   },
   {
    "duration": 17,
    "start_time": "2023-11-28T17:22:20.880Z"
   },
   {
    "duration": 199,
    "start_time": "2023-11-28T17:22:20.899Z"
   },
   {
    "duration": 230,
    "start_time": "2023-11-28T17:22:21.099Z"
   },
   {
    "duration": 42,
    "start_time": "2023-11-28T17:22:21.331Z"
   },
   {
    "duration": 25,
    "start_time": "2023-11-28T17:22:21.375Z"
   },
   {
    "duration": 45,
    "start_time": "2023-11-28T17:22:21.401Z"
   },
   {
    "duration": 24,
    "start_time": "2023-11-28T17:22:21.447Z"
   },
   {
    "duration": 34,
    "start_time": "2023-11-28T17:22:21.474Z"
   },
   {
    "duration": 27,
    "start_time": "2023-11-28T17:22:21.509Z"
   },
   {
    "duration": 19,
    "start_time": "2023-11-28T17:22:21.537Z"
   },
   {
    "duration": 11,
    "start_time": "2023-11-28T17:22:21.558Z"
   },
   {
    "duration": 31,
    "start_time": "2023-11-28T17:22:21.571Z"
   },
   {
    "duration": 19,
    "start_time": "2023-11-28T17:22:21.604Z"
   },
   {
    "duration": 9,
    "start_time": "2023-11-28T17:22:21.624Z"
   },
   {
    "duration": 42,
    "start_time": "2023-11-29T10:55:25.012Z"
   },
   {
    "duration": 1236,
    "start_time": "2023-11-29T10:55:30.283Z"
   },
   {
    "duration": 183,
    "start_time": "2023-11-29T10:55:31.522Z"
   },
   {
    "duration": 12,
    "start_time": "2023-11-29T10:55:31.707Z"
   },
   {
    "duration": 7,
    "start_time": "2023-11-29T10:55:40.868Z"
   },
   {
    "duration": 7,
    "start_time": "2023-11-29T10:55:45.264Z"
   },
   {
    "duration": 57,
    "start_time": "2023-11-29T11:42:25.547Z"
   },
   {
    "duration": 959,
    "start_time": "2023-11-29T11:42:40.946Z"
   },
   {
    "duration": 65,
    "start_time": "2023-11-29T11:42:41.907Z"
   },
   {
    "duration": 11,
    "start_time": "2023-11-29T11:42:41.973Z"
   },
   {
    "duration": 29,
    "start_time": "2023-11-29T11:42:41.985Z"
   },
   {
    "duration": 17,
    "start_time": "2023-11-29T11:42:42.016Z"
   },
   {
    "duration": 15,
    "start_time": "2023-11-29T11:42:42.034Z"
   },
   {
    "duration": 6,
    "start_time": "2023-11-29T11:42:42.050Z"
   },
   {
    "duration": 13,
    "start_time": "2023-11-29T11:42:42.057Z"
   },
   {
    "duration": 10,
    "start_time": "2023-11-29T11:42:42.072Z"
   },
   {
    "duration": 6,
    "start_time": "2023-11-29T11:42:42.083Z"
   },
   {
    "duration": 10,
    "start_time": "2023-11-29T11:42:42.090Z"
   },
   {
    "duration": 7,
    "start_time": "2023-11-29T11:42:42.101Z"
   },
   {
    "duration": 4,
    "start_time": "2023-11-29T11:42:42.109Z"
   },
   {
    "duration": 5,
    "start_time": "2023-11-29T11:42:42.115Z"
   },
   {
    "duration": 4,
    "start_time": "2023-11-29T11:42:42.121Z"
   },
   {
    "duration": 23,
    "start_time": "2023-11-29T11:42:42.126Z"
   },
   {
    "duration": 14,
    "start_time": "2023-11-29T11:42:42.150Z"
   },
   {
    "duration": 145,
    "start_time": "2023-11-29T11:42:42.182Z"
   },
   {
    "duration": 71,
    "start_time": "2023-11-29T11:42:42.328Z"
   },
   {
    "duration": 137,
    "start_time": "2023-11-29T11:42:42.400Z"
   },
   {
    "duration": 228,
    "start_time": "2023-11-29T11:42:42.539Z"
   },
   {
    "duration": 125,
    "start_time": "2023-11-29T11:42:42.768Z"
   },
   {
    "duration": 31,
    "start_time": "2023-11-29T11:42:42.894Z"
   },
   {
    "duration": 18,
    "start_time": "2023-11-29T11:42:42.926Z"
   },
   {
    "duration": 38,
    "start_time": "2023-11-29T11:42:42.946Z"
   },
   {
    "duration": 231,
    "start_time": "2023-11-29T11:42:42.985Z"
   },
   {
    "duration": 190,
    "start_time": "2023-11-29T11:42:43.217Z"
   },
   {
    "duration": 29,
    "start_time": "2023-11-29T11:42:43.408Z"
   },
   {
    "duration": 23,
    "start_time": "2023-11-29T11:42:43.439Z"
   },
   {
    "duration": 13,
    "start_time": "2023-11-29T11:42:43.482Z"
   },
   {
    "duration": 21,
    "start_time": "2023-11-29T11:42:43.496Z"
   },
   {
    "duration": 4,
    "start_time": "2023-11-29T11:42:43.518Z"
   },
   {
    "duration": 7,
    "start_time": "2023-11-29T11:42:43.523Z"
   },
   {
    "duration": 13,
    "start_time": "2023-11-29T11:42:43.532Z"
   },
   {
    "duration": 6,
    "start_time": "2023-11-29T11:42:43.546Z"
   },
   {
    "duration": 4,
    "start_time": "2023-11-29T11:42:43.553Z"
   },
   {
    "duration": 4,
    "start_time": "2023-11-29T11:42:43.558Z"
   },
   {
    "duration": 19,
    "start_time": "2023-11-29T11:42:43.563Z"
   },
   {
    "duration": 6,
    "start_time": "2023-11-29T11:44:47.626Z"
   },
   {
    "duration": 5,
    "start_time": "2023-11-29T11:44:59.774Z"
   },
   {
    "duration": 140,
    "start_time": "2023-11-29T11:46:49.210Z"
   },
   {
    "duration": 198,
    "start_time": "2023-11-29T11:47:25.828Z"
   },
   {
    "duration": 196,
    "start_time": "2023-11-29T11:47:56.916Z"
   },
   {
    "duration": 115,
    "start_time": "2023-11-29T11:49:25.027Z"
   },
   {
    "duration": 150,
    "start_time": "2023-11-29T11:49:29.198Z"
   },
   {
    "duration": 148,
    "start_time": "2023-11-29T11:50:44.676Z"
   },
   {
    "duration": 145,
    "start_time": "2023-11-29T11:50:55.098Z"
   },
   {
    "duration": 144,
    "start_time": "2023-11-29T11:50:59.700Z"
   },
   {
    "duration": 80,
    "start_time": "2023-11-29T11:51:16.227Z"
   },
   {
    "duration": 141,
    "start_time": "2023-11-29T11:51:21.371Z"
   },
   {
    "duration": 140,
    "start_time": "2023-11-29T11:51:29.453Z"
   },
   {
    "duration": 12,
    "start_time": "2023-11-29T11:53:18.171Z"
   },
   {
    "duration": 10,
    "start_time": "2023-11-29T11:53:34.739Z"
   },
   {
    "duration": 148,
    "start_time": "2023-11-29T11:53:39.777Z"
   },
   {
    "duration": 164,
    "start_time": "2023-11-29T11:55:18.467Z"
   },
   {
    "duration": 139,
    "start_time": "2023-11-29T11:55:22.591Z"
   },
   {
    "duration": 103,
    "start_time": "2023-11-29T12:05:44.414Z"
   },
   {
    "duration": 9,
    "start_time": "2023-11-29T12:05:55.661Z"
   },
   {
    "duration": 167,
    "start_time": "2023-11-29T12:05:59.839Z"
   },
   {
    "duration": 113,
    "start_time": "2023-11-29T12:06:04.765Z"
   },
   {
    "duration": 128,
    "start_time": "2023-11-29T12:06:21.054Z"
   },
   {
    "duration": 118,
    "start_time": "2023-11-29T12:06:31.245Z"
   },
   {
    "duration": 129,
    "start_time": "2023-11-29T12:06:56.807Z"
   },
   {
    "duration": 131,
    "start_time": "2023-11-29T12:09:05.091Z"
   },
   {
    "duration": 122,
    "start_time": "2023-11-29T12:09:13.469Z"
   },
   {
    "duration": 233,
    "start_time": "2023-11-29T12:09:18.996Z"
   },
   {
    "duration": 118,
    "start_time": "2023-11-29T12:09:21.910Z"
   },
   {
    "duration": 202,
    "start_time": "2023-11-29T12:09:30.098Z"
   },
   {
    "duration": 120,
    "start_time": "2023-11-29T12:09:47.852Z"
   },
   {
    "duration": 115,
    "start_time": "2023-11-29T12:09:55.507Z"
   },
   {
    "duration": 122,
    "start_time": "2023-11-29T12:11:03.462Z"
   },
   {
    "duration": 117,
    "start_time": "2023-11-29T12:11:25.985Z"
   },
   {
    "duration": 157,
    "start_time": "2023-11-29T12:11:46.592Z"
   },
   {
    "duration": 217,
    "start_time": "2023-11-29T12:11:52.475Z"
   },
   {
    "duration": 136,
    "start_time": "2023-11-29T12:15:08.101Z"
   },
   {
    "duration": 111,
    "start_time": "2023-11-29T12:16:44.754Z"
   },
   {
    "duration": 112,
    "start_time": "2023-11-29T12:17:01.341Z"
   },
   {
    "duration": 139,
    "start_time": "2023-11-29T12:18:43.479Z"
   },
   {
    "duration": 123,
    "start_time": "2023-11-29T12:18:50.406Z"
   },
   {
    "duration": 122,
    "start_time": "2023-11-29T12:18:53.947Z"
   },
   {
    "duration": 140,
    "start_time": "2023-11-29T12:19:11.789Z"
   },
   {
    "duration": 106,
    "start_time": "2023-11-29T12:21:31.700Z"
   },
   {
    "duration": 137,
    "start_time": "2023-11-29T12:21:35.579Z"
   },
   {
    "duration": 129,
    "start_time": "2023-11-29T12:21:43.234Z"
   },
   {
    "duration": 107,
    "start_time": "2023-11-29T12:22:20.344Z"
   },
   {
    "duration": 104,
    "start_time": "2023-11-29T12:22:24.970Z"
   },
   {
    "duration": 133,
    "start_time": "2023-11-29T12:22:28.964Z"
   },
   {
    "duration": 146,
    "start_time": "2023-11-29T12:22:59.940Z"
   },
   {
    "duration": 132,
    "start_time": "2023-11-29T12:23:08.006Z"
   },
   {
    "duration": 248,
    "start_time": "2023-11-29T12:23:26.307Z"
   },
   {
    "duration": 140,
    "start_time": "2023-11-29T12:23:29.414Z"
   },
   {
    "duration": 138,
    "start_time": "2023-11-29T12:24:49.196Z"
   },
   {
    "duration": 141,
    "start_time": "2023-11-29T12:25:24.450Z"
   },
   {
    "duration": 134,
    "start_time": "2023-11-29T12:25:40.409Z"
   },
   {
    "duration": 115,
    "start_time": "2023-11-29T12:28:09.016Z"
   },
   {
    "duration": 136,
    "start_time": "2023-11-29T12:28:25.967Z"
   },
   {
    "duration": 63,
    "start_time": "2023-11-29T12:31:23.595Z"
   },
   {
    "duration": 71,
    "start_time": "2023-11-29T12:31:50.744Z"
   },
   {
    "duration": 63,
    "start_time": "2023-11-29T12:31:56.071Z"
   },
   {
    "duration": 171,
    "start_time": "2023-11-29T12:33:04.084Z"
   },
   {
    "duration": 143,
    "start_time": "2023-11-29T12:33:14.969Z"
   },
   {
    "duration": 191,
    "start_time": "2023-11-29T12:33:22.614Z"
   },
   {
    "duration": 81,
    "start_time": "2023-11-29T12:33:27.915Z"
   },
   {
    "duration": 145,
    "start_time": "2023-11-29T12:33:31.025Z"
   },
   {
    "duration": 162,
    "start_time": "2023-11-29T12:33:37.198Z"
   },
   {
    "duration": 8,
    "start_time": "2023-11-29T12:39:29.005Z"
   },
   {
    "duration": 9,
    "start_time": "2023-11-29T12:39:37.134Z"
   },
   {
    "duration": 7,
    "start_time": "2023-11-29T12:40:11.634Z"
   },
   {
    "duration": 127,
    "start_time": "2023-11-29T12:40:14.804Z"
   },
   {
    "duration": 8,
    "start_time": "2023-11-29T12:40:19.863Z"
   },
   {
    "duration": 506,
    "start_time": "2023-11-29T12:40:36.077Z"
   },
   {
    "duration": 443,
    "start_time": "2023-11-29T12:40:39.813Z"
   },
   {
    "duration": 182,
    "start_time": "2023-11-29T12:40:46.311Z"
   },
   {
    "duration": 440,
    "start_time": "2023-11-29T12:40:50.280Z"
   },
   {
    "duration": 154,
    "start_time": "2023-11-29T12:40:52.694Z"
   },
   {
    "duration": 304,
    "start_time": "2023-11-29T12:41:04.118Z"
   },
   {
    "duration": 180,
    "start_time": "2023-11-29T12:41:09.267Z"
   },
   {
    "duration": 238,
    "start_time": "2023-11-29T12:41:12.369Z"
   },
   {
    "duration": 1355,
    "start_time": "2023-11-29T12:41:26.533Z"
   },
   {
    "duration": 240,
    "start_time": "2023-11-29T12:41:30.587Z"
   },
   {
    "duration": 193,
    "start_time": "2023-11-29T12:41:35.398Z"
   },
   {
    "duration": 205,
    "start_time": "2023-11-29T12:41:41.102Z"
   },
   {
    "duration": 216,
    "start_time": "2023-11-29T12:41:49.922Z"
   },
   {
    "duration": 465,
    "start_time": "2023-11-29T12:41:55.706Z"
   },
   {
    "duration": 145,
    "start_time": "2023-11-29T12:42:20.022Z"
   },
   {
    "duration": 176,
    "start_time": "2023-11-29T12:42:26.579Z"
   },
   {
    "duration": 159,
    "start_time": "2023-11-29T12:42:51.118Z"
   },
   {
    "duration": 100,
    "start_time": "2023-11-29T12:44:45.226Z"
   },
   {
    "duration": 88,
    "start_time": "2023-11-29T12:44:52.956Z"
   },
   {
    "duration": 110,
    "start_time": "2023-11-29T12:45:11.799Z"
   },
   {
    "duration": 109,
    "start_time": "2023-11-29T12:45:26.652Z"
   },
   {
    "duration": 121,
    "start_time": "2023-11-29T12:45:53.622Z"
   },
   {
    "duration": 245,
    "start_time": "2023-11-29T12:46:58.583Z"
   },
   {
    "duration": 178,
    "start_time": "2023-11-29T12:48:00.786Z"
   },
   {
    "duration": 274,
    "start_time": "2023-11-29T12:48:19.469Z"
   },
   {
    "duration": 258,
    "start_time": "2023-11-29T12:48:36.418Z"
   },
   {
    "duration": 303,
    "start_time": "2023-11-29T12:48:56.125Z"
   },
   {
    "duration": 273,
    "start_time": "2023-11-29T12:49:01.684Z"
   },
   {
    "duration": 469,
    "start_time": "2023-11-29T12:49:07.729Z"
   },
   {
    "duration": 3,
    "start_time": "2023-11-29T13:52:50.890Z"
   },
   {
    "duration": 71,
    "start_time": "2023-11-29T13:52:50.895Z"
   },
   {
    "duration": 9,
    "start_time": "2023-11-29T13:52:50.967Z"
   },
   {
    "duration": 12,
    "start_time": "2023-11-29T13:52:50.977Z"
   },
   {
    "duration": 7,
    "start_time": "2023-11-29T13:52:50.991Z"
   },
   {
    "duration": 11,
    "start_time": "2023-11-29T13:52:51.000Z"
   },
   {
    "duration": 6,
    "start_time": "2023-11-29T13:52:51.012Z"
   },
   {
    "duration": 8,
    "start_time": "2023-11-29T13:52:51.020Z"
   },
   {
    "duration": 21,
    "start_time": "2023-11-29T13:52:51.029Z"
   },
   {
    "duration": 7,
    "start_time": "2023-11-29T13:52:51.052Z"
   },
   {
    "duration": 10,
    "start_time": "2023-11-29T13:52:51.083Z"
   },
   {
    "duration": 8,
    "start_time": "2023-11-29T13:52:51.095Z"
   },
   {
    "duration": 5,
    "start_time": "2023-11-29T13:52:51.104Z"
   },
   {
    "duration": 9,
    "start_time": "2023-11-29T13:52:51.111Z"
   },
   {
    "duration": 5,
    "start_time": "2023-11-29T13:52:51.121Z"
   },
   {
    "duration": 5,
    "start_time": "2023-11-29T13:52:51.128Z"
   },
   {
    "duration": 6,
    "start_time": "2023-11-29T13:52:51.135Z"
   },
   {
    "duration": 42,
    "start_time": "2023-11-29T13:52:51.142Z"
   },
   {
    "duration": 6,
    "start_time": "2023-11-29T13:52:51.186Z"
   },
   {
    "duration": 173,
    "start_time": "2023-11-29T13:52:51.193Z"
   },
   {
    "duration": 145,
    "start_time": "2023-11-29T13:52:51.368Z"
   },
   {
    "duration": 159,
    "start_time": "2023-11-29T13:52:51.515Z"
   },
   {
    "duration": 69,
    "start_time": "2023-11-29T13:52:51.675Z"
   },
   {
    "duration": 195,
    "start_time": "2023-11-29T13:52:51.746Z"
   },
   {
    "duration": 92,
    "start_time": "2023-11-29T13:52:51.943Z"
   },
   {
    "duration": 251,
    "start_time": "2023-11-29T13:52:52.037Z"
   },
   {
    "duration": 114,
    "start_time": "2023-11-29T13:52:52.290Z"
   },
   {
    "duration": 249,
    "start_time": "2023-11-29T13:52:52.405Z"
   },
   {
    "duration": 108,
    "start_time": "2023-11-29T13:52:52.657Z"
   },
   {
    "duration": 34,
    "start_time": "2023-11-29T13:52:52.767Z"
   },
   {
    "duration": 16,
    "start_time": "2023-11-29T13:52:52.802Z"
   },
   {
    "duration": 14,
    "start_time": "2023-11-29T13:52:52.819Z"
   },
   {
    "duration": 213,
    "start_time": "2023-11-29T13:52:52.835Z"
   },
   {
    "duration": 222,
    "start_time": "2023-11-29T13:52:53.050Z"
   },
   {
    "duration": 31,
    "start_time": "2023-11-29T13:52:53.274Z"
   },
   {
    "duration": 25,
    "start_time": "2023-11-29T13:52:53.307Z"
   },
   {
    "duration": 22,
    "start_time": "2023-11-29T13:52:53.334Z"
   },
   {
    "duration": 34,
    "start_time": "2023-11-29T13:52:53.358Z"
   },
   {
    "duration": 17,
    "start_time": "2023-11-29T13:52:53.393Z"
   },
   {
    "duration": 17,
    "start_time": "2023-11-29T13:52:53.411Z"
   },
   {
    "duration": 15,
    "start_time": "2023-11-29T13:52:53.430Z"
   },
   {
    "duration": 19,
    "start_time": "2023-11-29T13:52:53.447Z"
   },
   {
    "duration": 25,
    "start_time": "2023-11-29T13:52:53.468Z"
   },
   {
    "duration": 34,
    "start_time": "2023-11-29T13:52:53.495Z"
   },
   {
    "duration": 48,
    "start_time": "2023-11-29T13:52:53.530Z"
   },
   {
    "duration": 9,
    "start_time": "2023-11-29T13:57:07.158Z"
   },
   {
    "duration": 3,
    "start_time": "2023-11-29T13:57:12.381Z"
   },
   {
    "duration": 2,
    "start_time": "2023-11-29T13:57:16.170Z"
   },
   {
    "duration": 4,
    "start_time": "2023-11-29T13:57:32.218Z"
   },
   {
    "duration": 4,
    "start_time": "2023-11-29T13:57:41.237Z"
   },
   {
    "duration": 4,
    "start_time": "2023-11-29T13:57:58.468Z"
   },
   {
    "duration": 9,
    "start_time": "2023-11-29T14:03:06.353Z"
   },
   {
    "duration": 95,
    "start_time": "2023-11-29T14:03:12.109Z"
   },
   {
    "duration": 74,
    "start_time": "2023-11-29T14:03:19.645Z"
   },
   {
    "duration": 9,
    "start_time": "2023-11-29T14:03:57.980Z"
   },
   {
    "duration": 75,
    "start_time": "2023-11-29T14:04:03.039Z"
   },
   {
    "duration": 67,
    "start_time": "2023-11-29T14:04:07.901Z"
   },
   {
    "duration": 285,
    "start_time": "2023-11-29T14:06:38.413Z"
   },
   {
    "duration": 307,
    "start_time": "2023-11-29T14:06:41.716Z"
   },
   {
    "duration": 251,
    "start_time": "2023-11-29T14:06:51.479Z"
   },
   {
    "duration": 194,
    "start_time": "2023-11-29T14:07:19.480Z"
   },
   {
    "duration": 223,
    "start_time": "2023-11-29T14:09:53.181Z"
   },
   {
    "duration": 195,
    "start_time": "2023-11-29T14:14:56.606Z"
   },
   {
    "duration": 802,
    "start_time": "2023-11-29T14:15:32.204Z"
   },
   {
    "duration": 199,
    "start_time": "2023-11-29T14:15:38.987Z"
   },
   {
    "duration": 199,
    "start_time": "2023-11-29T14:16:03.529Z"
   },
   {
    "duration": 114,
    "start_time": "2023-11-29T14:16:29.305Z"
   },
   {
    "duration": 89,
    "start_time": "2023-11-29T14:16:44.101Z"
   },
   {
    "duration": 191,
    "start_time": "2023-11-29T14:16:52.173Z"
   },
   {
    "duration": 112,
    "start_time": "2023-11-29T14:16:54.630Z"
   },
   {
    "duration": 91,
    "start_time": "2023-11-29T14:16:55.065Z"
   },
   {
    "duration": 211,
    "start_time": "2023-11-29T14:17:03.797Z"
   },
   {
    "duration": 193,
    "start_time": "2023-11-29T14:17:08.089Z"
   },
   {
    "duration": 193,
    "start_time": "2023-11-29T14:17:42.141Z"
   },
   {
    "duration": 199,
    "start_time": "2023-11-29T14:17:52.119Z"
   },
   {
    "duration": 191,
    "start_time": "2023-11-29T14:18:05.098Z"
   },
   {
    "duration": 218,
    "start_time": "2023-11-29T14:18:16.435Z"
   },
   {
    "duration": 124,
    "start_time": "2023-11-29T14:18:18.926Z"
   },
   {
    "duration": 125,
    "start_time": "2023-11-29T14:18:19.141Z"
   },
   {
    "duration": 210,
    "start_time": "2023-11-29T14:19:25.444Z"
   },
   {
    "duration": 184,
    "start_time": "2023-11-29T14:19:28.329Z"
   },
   {
    "duration": 103,
    "start_time": "2023-11-29T14:19:33.592Z"
   },
   {
    "duration": 90,
    "start_time": "2023-11-29T14:19:33.981Z"
   },
   {
    "duration": 192,
    "start_time": "2023-11-29T14:21:11.616Z"
   },
   {
    "duration": 205,
    "start_time": "2023-11-29T14:21:23.187Z"
   },
   {
    "duration": 203,
    "start_time": "2023-11-29T14:21:26.635Z"
   },
   {
    "duration": 101,
    "start_time": "2023-11-29T14:21:54.964Z"
   },
   {
    "duration": 208,
    "start_time": "2023-11-29T14:22:00.434Z"
   },
   {
    "duration": 111,
    "start_time": "2023-11-29T14:22:01.218Z"
   },
   {
    "duration": 95,
    "start_time": "2023-11-29T14:22:01.433Z"
   },
   {
    "duration": 4,
    "start_time": "2023-11-29T14:24:33.801Z"
   },
   {
    "duration": 4,
    "start_time": "2023-11-29T14:24:40.183Z"
   },
   {
    "duration": 4,
    "start_time": "2023-11-29T14:24:46.498Z"
   },
   {
    "duration": 241,
    "start_time": "2023-11-29T14:26:49.266Z"
   },
   {
    "duration": 606,
    "start_time": "2023-11-29T14:26:55.660Z"
   },
   {
    "duration": 28,
    "start_time": "2023-11-29T14:27:08.899Z"
   },
   {
    "duration": 29,
    "start_time": "2023-11-29T14:27:41.926Z"
   },
   {
    "duration": 160,
    "start_time": "2023-11-29T14:31:03.208Z"
   },
   {
    "duration": 171,
    "start_time": "2023-11-29T14:31:40.552Z"
   },
   {
    "duration": 173,
    "start_time": "2023-11-29T14:31:49.034Z"
   },
   {
    "duration": 162,
    "start_time": "2023-11-29T14:31:54.068Z"
   },
   {
    "duration": 297,
    "start_time": "2023-11-29T14:32:20.896Z"
   },
   {
    "duration": 314,
    "start_time": "2023-11-29T14:32:26.456Z"
   },
   {
    "duration": 240,
    "start_time": "2023-11-29T14:32:38.749Z"
   },
   {
    "duration": 269,
    "start_time": "2023-11-29T14:32:43.465Z"
   },
   {
    "duration": 249,
    "start_time": "2023-11-29T14:32:49.045Z"
   },
   {
    "duration": 323,
    "start_time": "2023-11-29T14:32:52.881Z"
   },
   {
    "duration": 248,
    "start_time": "2023-11-29T14:32:58.462Z"
   },
   {
    "duration": 276,
    "start_time": "2023-11-29T14:33:03.308Z"
   },
   {
    "duration": 248,
    "start_time": "2023-11-29T14:34:09.105Z"
   },
   {
    "duration": 246,
    "start_time": "2023-11-29T14:34:45.867Z"
   },
   {
    "duration": 276,
    "start_time": "2023-11-29T14:35:44.933Z"
   },
   {
    "duration": 275,
    "start_time": "2023-11-29T14:35:52.257Z"
   },
   {
    "duration": 266,
    "start_time": "2023-11-29T14:36:24.326Z"
   },
   {
    "duration": 10,
    "start_time": "2023-11-29T14:38:13.931Z"
   },
   {
    "duration": 3,
    "start_time": "2023-11-29T14:39:51.519Z"
   },
   {
    "duration": 28,
    "start_time": "2023-11-29T14:39:54.436Z"
   },
   {
    "duration": 1039,
    "start_time": "2023-11-29T15:15:48.286Z"
   },
   {
    "duration": 66,
    "start_time": "2023-11-29T15:15:49.327Z"
   },
   {
    "duration": 12,
    "start_time": "2023-11-29T15:15:49.394Z"
   },
   {
    "duration": 10,
    "start_time": "2023-11-29T15:15:49.407Z"
   },
   {
    "duration": 9,
    "start_time": "2023-11-29T15:15:49.418Z"
   },
   {
    "duration": 10,
    "start_time": "2023-11-29T15:15:49.428Z"
   },
   {
    "duration": 6,
    "start_time": "2023-11-29T15:15:49.439Z"
   },
   {
    "duration": 9,
    "start_time": "2023-11-29T15:15:49.446Z"
   },
   {
    "duration": 27,
    "start_time": "2023-11-29T15:15:49.456Z"
   },
   {
    "duration": 7,
    "start_time": "2023-11-29T15:15:49.485Z"
   },
   {
    "duration": 23,
    "start_time": "2023-11-29T15:15:49.494Z"
   },
   {
    "duration": 8,
    "start_time": "2023-11-29T15:15:49.519Z"
   },
   {
    "duration": 5,
    "start_time": "2023-11-29T15:15:49.528Z"
   },
   {
    "duration": 7,
    "start_time": "2023-11-29T15:15:49.534Z"
   },
   {
    "duration": 9,
    "start_time": "2023-11-29T15:15:49.542Z"
   },
   {
    "duration": 7,
    "start_time": "2023-11-29T15:15:49.553Z"
   },
   {
    "duration": 23,
    "start_time": "2023-11-29T15:15:49.562Z"
   },
   {
    "duration": 7,
    "start_time": "2023-11-29T15:15:49.586Z"
   },
   {
    "duration": 6,
    "start_time": "2023-11-29T15:15:49.594Z"
   },
   {
    "duration": 191,
    "start_time": "2023-11-29T15:15:49.601Z"
   },
   {
    "duration": 158,
    "start_time": "2023-11-29T15:15:49.794Z"
   },
   {
    "duration": 164,
    "start_time": "2023-11-29T15:15:49.954Z"
   },
   {
    "duration": 86,
    "start_time": "2023-11-29T15:15:50.119Z"
   },
   {
    "duration": 182,
    "start_time": "2023-11-29T15:15:50.207Z"
   },
   {
    "duration": 100,
    "start_time": "2023-11-29T15:15:50.391Z"
   },
   {
    "duration": 257,
    "start_time": "2023-11-29T15:15:50.493Z"
   },
   {
    "duration": 204,
    "start_time": "2023-11-29T15:15:50.752Z"
   },
   {
    "duration": 185,
    "start_time": "2023-11-29T15:15:50.960Z"
   },
   {
    "duration": 97,
    "start_time": "2023-11-29T15:15:51.147Z"
   },
   {
    "duration": 228,
    "start_time": "2023-11-29T15:15:51.245Z"
   },
   {
    "duration": 277,
    "start_time": "2023-11-29T15:15:51.474Z"
   },
   {
    "duration": 115,
    "start_time": "2023-11-29T15:15:51.752Z"
   },
   {
    "duration": 114,
    "start_time": "2023-11-29T15:15:51.869Z"
   },
   {
    "duration": 28,
    "start_time": "2023-11-29T15:15:51.984Z"
   },
   {
    "duration": 16,
    "start_time": "2023-11-29T15:15:52.013Z"
   },
   {
    "duration": 14,
    "start_time": "2023-11-29T15:15:52.031Z"
   },
   {
    "duration": 276,
    "start_time": "2023-11-29T15:15:52.047Z"
   },
   {
    "duration": 345,
    "start_time": "2023-11-29T15:15:52.324Z"
   },
   {
    "duration": 12,
    "start_time": "2023-11-29T15:15:52.670Z"
   },
   {
    "duration": 32,
    "start_time": "2023-11-29T15:15:52.684Z"
   },
   {
    "duration": 3,
    "start_time": "2023-11-29T15:15:52.717Z"
   },
   {
    "duration": 24,
    "start_time": "2023-11-29T15:15:52.721Z"
   },
   {
    "duration": 37,
    "start_time": "2023-11-29T15:15:52.746Z"
   },
   {
    "duration": 13,
    "start_time": "2023-11-29T15:15:52.784Z"
   },
   {
    "duration": 7,
    "start_time": "2023-11-29T15:15:52.798Z"
   },
   {
    "duration": 9,
    "start_time": "2023-11-29T15:15:52.807Z"
   },
   {
    "duration": 5,
    "start_time": "2023-11-29T15:15:52.817Z"
   },
   {
    "duration": 6,
    "start_time": "2023-11-29T15:15:52.823Z"
   },
   {
    "duration": 9,
    "start_time": "2023-11-29T15:15:52.830Z"
   },
   {
    "duration": 8,
    "start_time": "2023-11-29T15:15:52.840Z"
   },
   {
    "duration": 5,
    "start_time": "2023-11-29T15:15:52.849Z"
   },
   {
    "duration": 5,
    "start_time": "2023-11-29T15:30:42.836Z"
   },
   {
    "duration": 12,
    "start_time": "2023-11-29T15:35:18.653Z"
   },
   {
    "duration": 221,
    "start_time": "2023-11-29T15:36:45.013Z"
   },
   {
    "duration": 249,
    "start_time": "2023-11-29T15:37:47.326Z"
   },
   {
    "duration": 172,
    "start_time": "2023-11-29T15:38:05.560Z"
   },
   {
    "duration": 291,
    "start_time": "2023-11-29T15:43:02.434Z"
   },
   {
    "duration": 259,
    "start_time": "2023-11-29T15:43:08.576Z"
   },
   {
    "duration": 84,
    "start_time": "2023-11-29T15:43:14.592Z"
   },
   {
    "duration": 330,
    "start_time": "2023-11-29T15:43:20.565Z"
   },
   {
    "duration": 270,
    "start_time": "2023-11-29T15:43:26.255Z"
   },
   {
    "duration": 307,
    "start_time": "2023-11-29T15:43:48.226Z"
   },
   {
    "duration": 1584,
    "start_time": "2023-11-29T15:43:57.972Z"
   },
   {
    "duration": 259,
    "start_time": "2023-11-29T15:44:07.299Z"
   },
   {
    "duration": 491,
    "start_time": "2023-11-29T15:44:53.378Z"
   },
   {
    "duration": 257,
    "start_time": "2023-11-29T15:45:00.150Z"
   },
   {
    "duration": 263,
    "start_time": "2023-11-29T15:46:10.481Z"
   },
   {
    "duration": 273,
    "start_time": "2023-11-29T15:46:15.530Z"
   },
   {
    "duration": 6,
    "start_time": "2023-11-29T16:35:38.980Z"
   },
   {
    "duration": 16,
    "start_time": "2023-11-29T16:54:51.044Z"
   },
   {
    "duration": 14,
    "start_time": "2023-11-29T16:55:03.452Z"
   },
   {
    "duration": 9,
    "start_time": "2023-11-29T16:55:18.839Z"
   },
   {
    "duration": 6,
    "start_time": "2023-11-29T16:55:24.152Z"
   },
   {
    "duration": 11,
    "start_time": "2023-11-29T17:04:11.889Z"
   },
   {
    "duration": 6,
    "start_time": "2023-11-29T17:04:52.768Z"
   },
   {
    "duration": 5,
    "start_time": "2023-11-29T17:08:14.647Z"
   },
   {
    "duration": 1462,
    "start_time": "2023-11-29T17:18:57.594Z"
   },
   {
    "duration": 6,
    "start_time": "2023-11-29T17:19:08.394Z"
   },
   {
    "duration": 5,
    "start_time": "2023-11-29T17:31:09.377Z"
   },
   {
    "duration": 1436,
    "start_time": "2023-11-29T17:32:37.473Z"
   },
   {
    "duration": 92,
    "start_time": "2023-11-29T17:33:01.926Z"
   },
   {
    "duration": 7,
    "start_time": "2023-11-29T17:33:07.248Z"
   },
   {
    "duration": 5,
    "start_time": "2023-11-29T17:40:47.617Z"
   },
   {
    "duration": 5,
    "start_time": "2023-11-29T17:46:41.747Z"
   },
   {
    "duration": 5,
    "start_time": "2023-11-29T17:48:15.137Z"
   },
   {
    "duration": 5,
    "start_time": "2023-11-29T17:48:23.814Z"
   },
   {
    "duration": 994,
    "start_time": "2023-11-29T18:28:13.821Z"
   },
   {
    "duration": 69,
    "start_time": "2023-11-29T18:28:14.816Z"
   },
   {
    "duration": 10,
    "start_time": "2023-11-29T18:28:14.887Z"
   },
   {
    "duration": 10,
    "start_time": "2023-11-29T18:28:14.899Z"
   },
   {
    "duration": 9,
    "start_time": "2023-11-29T18:28:14.911Z"
   },
   {
    "duration": 10,
    "start_time": "2023-11-29T18:28:14.921Z"
   },
   {
    "duration": 6,
    "start_time": "2023-11-29T18:28:14.932Z"
   },
   {
    "duration": 9,
    "start_time": "2023-11-29T18:28:14.939Z"
   },
   {
    "duration": 35,
    "start_time": "2023-11-29T18:28:14.949Z"
   },
   {
    "duration": 7,
    "start_time": "2023-11-29T18:28:14.985Z"
   },
   {
    "duration": 9,
    "start_time": "2023-11-29T18:28:14.994Z"
   },
   {
    "duration": 7,
    "start_time": "2023-11-29T18:28:15.005Z"
   },
   {
    "duration": 31,
    "start_time": "2023-11-29T18:28:15.013Z"
   },
   {
    "duration": 25,
    "start_time": "2023-11-29T18:28:15.047Z"
   },
   {
    "duration": 6,
    "start_time": "2023-11-29T18:28:15.073Z"
   },
   {
    "duration": 6,
    "start_time": "2023-11-29T18:28:15.081Z"
   },
   {
    "duration": 6,
    "start_time": "2023-11-29T18:28:15.088Z"
   },
   {
    "duration": 8,
    "start_time": "2023-11-29T18:28:15.095Z"
   },
   {
    "duration": 5,
    "start_time": "2023-11-29T18:28:15.104Z"
   },
   {
    "duration": 187,
    "start_time": "2023-11-29T18:28:15.110Z"
   },
   {
    "duration": 150,
    "start_time": "2023-11-29T18:28:15.298Z"
   },
   {
    "duration": 165,
    "start_time": "2023-11-29T18:28:15.450Z"
   },
   {
    "duration": 71,
    "start_time": "2023-11-29T18:28:15.617Z"
   },
   {
    "duration": 197,
    "start_time": "2023-11-29T18:28:15.689Z"
   },
   {
    "duration": 95,
    "start_time": "2023-11-29T18:28:15.887Z"
   },
   {
    "duration": 289,
    "start_time": "2023-11-29T18:28:15.983Z"
   },
   {
    "duration": 229,
    "start_time": "2023-11-29T18:28:16.273Z"
   },
   {
    "duration": 207,
    "start_time": "2023-11-29T18:28:16.504Z"
   },
   {
    "duration": 115,
    "start_time": "2023-11-29T18:28:16.713Z"
   },
   {
    "duration": 267,
    "start_time": "2023-11-29T18:28:16.829Z"
   },
   {
    "duration": 311,
    "start_time": "2023-11-29T18:28:17.098Z"
   },
   {
    "duration": 121,
    "start_time": "2023-11-29T18:28:17.410Z"
   },
   {
    "duration": 117,
    "start_time": "2023-11-29T18:28:17.532Z"
   },
   {
    "duration": 38,
    "start_time": "2023-11-29T18:28:17.651Z"
   },
   {
    "duration": 19,
    "start_time": "2023-11-29T18:28:17.691Z"
   },
   {
    "duration": 17,
    "start_time": "2023-11-29T18:28:17.712Z"
   },
   {
    "duration": 329,
    "start_time": "2023-11-29T18:28:17.731Z"
   },
   {
    "duration": 378,
    "start_time": "2023-11-29T18:28:18.062Z"
   },
   {
    "duration": 9,
    "start_time": "2023-11-29T18:28:18.442Z"
   },
   {
    "duration": 42,
    "start_time": "2023-11-29T18:28:18.453Z"
   },
   {
    "duration": 3,
    "start_time": "2023-11-29T18:28:18.498Z"
   },
   {
    "duration": 28,
    "start_time": "2023-11-29T18:28:18.503Z"
   },
   {
    "duration": 16,
    "start_time": "2023-11-29T18:28:18.533Z"
   },
   {
    "duration": 42,
    "start_time": "2023-11-29T18:28:18.551Z"
   },
   {
    "duration": 5,
    "start_time": "2023-11-29T18:28:18.594Z"
   },
   {
    "duration": 5,
    "start_time": "2023-11-29T18:28:18.600Z"
   },
   {
    "duration": 7,
    "start_time": "2023-11-29T18:28:18.606Z"
   },
   {
    "duration": 5,
    "start_time": "2023-11-29T18:28:18.615Z"
   },
   {
    "duration": 5,
    "start_time": "2023-11-29T18:28:18.621Z"
   },
   {
    "duration": 7,
    "start_time": "2023-11-29T18:28:18.627Z"
   },
   {
    "duration": 7,
    "start_time": "2023-11-29T18:28:18.635Z"
   },
   {
    "duration": 6,
    "start_time": "2023-11-29T18:29:32.329Z"
   },
   {
    "duration": 3,
    "start_time": "2023-11-29T18:50:19.992Z"
   },
   {
    "duration": 2,
    "start_time": "2023-11-29T18:50:28.528Z"
   },
   {
    "duration": 79,
    "start_time": "2023-11-29T18:58:57.332Z"
   },
   {
    "duration": 1127,
    "start_time": "2023-11-30T11:36:32.320Z"
   },
   {
    "duration": 295,
    "start_time": "2023-11-30T11:36:33.449Z"
   },
   {
    "duration": 13,
    "start_time": "2023-11-30T11:36:33.746Z"
   },
   {
    "duration": 18,
    "start_time": "2023-11-30T11:36:33.762Z"
   },
   {
    "duration": 13,
    "start_time": "2023-11-30T11:36:33.782Z"
   },
   {
    "duration": 26,
    "start_time": "2023-11-30T11:36:33.797Z"
   },
   {
    "duration": 62,
    "start_time": "2023-11-30T11:36:33.825Z"
   },
   {
    "duration": 17,
    "start_time": "2023-11-30T11:36:33.889Z"
   },
   {
    "duration": 22,
    "start_time": "2023-11-30T11:36:33.908Z"
   },
   {
    "duration": 15,
    "start_time": "2023-11-30T11:36:33.933Z"
   },
   {
    "duration": 27,
    "start_time": "2023-11-30T11:36:33.950Z"
   },
   {
    "duration": 8,
    "start_time": "2023-11-30T11:36:33.979Z"
   },
   {
    "duration": 10,
    "start_time": "2023-11-30T11:36:33.989Z"
   },
   {
    "duration": 18,
    "start_time": "2023-11-30T11:36:34.000Z"
   },
   {
    "duration": 5,
    "start_time": "2023-11-30T11:36:34.020Z"
   },
   {
    "duration": 8,
    "start_time": "2023-11-30T11:36:34.027Z"
   },
   {
    "duration": 9,
    "start_time": "2023-11-30T11:36:34.037Z"
   },
   {
    "duration": 26,
    "start_time": "2023-11-30T11:36:34.048Z"
   },
   {
    "duration": 7,
    "start_time": "2023-11-30T11:36:34.076Z"
   },
   {
    "duration": 219,
    "start_time": "2023-11-30T11:36:34.086Z"
   },
   {
    "duration": 186,
    "start_time": "2023-11-30T11:36:34.306Z"
   },
   {
    "duration": 180,
    "start_time": "2023-11-30T11:36:34.494Z"
   },
   {
    "duration": 76,
    "start_time": "2023-11-30T11:36:34.676Z"
   },
   {
    "duration": 216,
    "start_time": "2023-11-30T11:36:34.753Z"
   },
   {
    "duration": 112,
    "start_time": "2023-11-30T11:36:34.973Z"
   },
   {
    "duration": 316,
    "start_time": "2023-11-30T11:36:35.086Z"
   },
   {
    "duration": 237,
    "start_time": "2023-11-30T11:36:35.404Z"
   },
   {
    "duration": 204,
    "start_time": "2023-11-30T11:36:35.645Z"
   },
   {
    "duration": 123,
    "start_time": "2023-11-30T11:36:35.851Z"
   },
   {
    "duration": 280,
    "start_time": "2023-11-30T11:36:35.976Z"
   },
   {
    "duration": 330,
    "start_time": "2023-11-30T11:36:36.257Z"
   },
   {
    "duration": 147,
    "start_time": "2023-11-30T11:36:36.589Z"
   },
   {
    "duration": 125,
    "start_time": "2023-11-30T11:36:36.739Z"
   },
   {
    "duration": 35,
    "start_time": "2023-11-30T11:36:36.872Z"
   },
   {
    "duration": 23,
    "start_time": "2023-11-30T11:36:36.909Z"
   },
   {
    "duration": 56,
    "start_time": "2023-11-30T11:36:36.934Z"
   },
   {
    "duration": 337,
    "start_time": "2023-11-30T11:36:36.992Z"
   },
   {
    "duration": 425,
    "start_time": "2023-11-30T11:36:37.331Z"
   },
   {
    "duration": 18,
    "start_time": "2023-11-30T11:36:37.759Z"
   },
   {
    "duration": 36,
    "start_time": "2023-11-30T11:36:37.779Z"
   },
   {
    "duration": 4,
    "start_time": "2023-11-30T11:36:37.817Z"
   },
   {
    "duration": 38,
    "start_time": "2023-11-30T11:36:37.822Z"
   },
   {
    "duration": 17,
    "start_time": "2023-11-30T11:36:37.874Z"
   },
   {
    "duration": 17,
    "start_time": "2023-11-30T11:36:37.893Z"
   },
   {
    "duration": 5,
    "start_time": "2023-11-30T11:36:37.911Z"
   },
   {
    "duration": 8,
    "start_time": "2023-11-30T11:36:37.918Z"
   },
   {
    "duration": 13,
    "start_time": "2023-11-30T11:36:37.928Z"
   },
   {
    "duration": 33,
    "start_time": "2023-11-30T11:36:37.943Z"
   },
   {
    "duration": 24,
    "start_time": "2023-11-30T11:36:37.978Z"
   },
   {
    "duration": 21,
    "start_time": "2023-11-30T11:36:38.003Z"
   },
   {
    "duration": 33,
    "start_time": "2023-11-30T11:36:38.025Z"
   },
   {
    "duration": 47,
    "start_time": "2023-11-30T13:10:06.813Z"
   },
   {
    "duration": 1215,
    "start_time": "2023-11-30T13:10:17.881Z"
   },
   {
    "duration": 179,
    "start_time": "2023-11-30T13:10:19.098Z"
   },
   {
    "duration": 13,
    "start_time": "2023-11-30T13:10:19.279Z"
   },
   {
    "duration": 12,
    "start_time": "2023-11-30T13:10:19.294Z"
   },
   {
    "duration": 9,
    "start_time": "2023-11-30T13:10:19.308Z"
   },
   {
    "duration": 20,
    "start_time": "2023-11-30T13:10:19.318Z"
   },
   {
    "duration": 14,
    "start_time": "2023-11-30T13:10:19.340Z"
   },
   {
    "duration": 10,
    "start_time": "2023-11-30T13:10:19.356Z"
   },
   {
    "duration": 4,
    "start_time": "2023-11-30T13:10:19.369Z"
   },
   {
    "duration": 22,
    "start_time": "2023-11-30T13:10:19.374Z"
   },
   {
    "duration": 11,
    "start_time": "2023-11-30T13:10:19.397Z"
   },
   {
    "duration": 8,
    "start_time": "2023-11-30T13:10:19.409Z"
   },
   {
    "duration": 4,
    "start_time": "2023-11-30T13:10:19.418Z"
   },
   {
    "duration": 28,
    "start_time": "2023-11-30T13:10:19.425Z"
   },
   {
    "duration": 16,
    "start_time": "2023-11-30T13:10:19.455Z"
   },
   {
    "duration": 7,
    "start_time": "2023-11-30T13:10:19.472Z"
   },
   {
    "duration": 6,
    "start_time": "2023-11-30T13:10:19.480Z"
   },
   {
    "duration": 7,
    "start_time": "2023-11-30T13:10:19.487Z"
   },
   {
    "duration": 11,
    "start_time": "2023-11-30T13:10:19.495Z"
   },
   {
    "duration": 157,
    "start_time": "2023-11-30T13:10:19.507Z"
   },
   {
    "duration": 60,
    "start_time": "2023-11-30T13:10:19.669Z"
   },
   {
    "duration": 167,
    "start_time": "2023-11-30T13:10:19.730Z"
   },
   {
    "duration": 84,
    "start_time": "2023-11-30T13:10:19.898Z"
   },
   {
    "duration": 236,
    "start_time": "2023-11-30T13:10:19.983Z"
   },
   {
    "duration": 189,
    "start_time": "2023-11-30T13:10:20.220Z"
   },
   {
    "duration": 110,
    "start_time": "2023-11-30T13:10:20.410Z"
   },
   {
    "duration": 131,
    "start_time": "2023-11-30T13:10:20.521Z"
   },
   {
    "duration": 210,
    "start_time": "2023-11-30T13:10:20.654Z"
   },
   {
    "duration": 241,
    "start_time": "2023-11-30T13:10:20.869Z"
   },
   {
    "duration": 109,
    "start_time": "2023-11-30T13:10:21.111Z"
   },
   {
    "duration": 100,
    "start_time": "2023-11-30T13:10:21.222Z"
   },
   {
    "duration": 29,
    "start_time": "2023-11-30T13:10:21.324Z"
   },
   {
    "duration": 19,
    "start_time": "2023-11-30T13:10:21.370Z"
   },
   {
    "duration": 16,
    "start_time": "2023-11-30T13:10:21.391Z"
   },
   {
    "duration": 269,
    "start_time": "2023-11-30T13:10:21.409Z"
   },
   {
    "duration": 253,
    "start_time": "2023-11-30T13:10:21.680Z"
   },
   {
    "duration": 9,
    "start_time": "2023-11-30T13:10:21.935Z"
   },
   {
    "duration": 102,
    "start_time": "2023-11-30T13:10:21.946Z"
   },
   {
    "duration": 3,
    "start_time": "2023-11-30T13:10:22.050Z"
   },
   {
    "duration": 35,
    "start_time": "2023-11-30T13:10:22.069Z"
   },
   {
    "duration": 34,
    "start_time": "2023-11-30T13:10:22.108Z"
   },
   {
    "duration": 20,
    "start_time": "2023-11-30T13:10:22.143Z"
   },
   {
    "duration": 32,
    "start_time": "2023-11-30T13:10:22.165Z"
   },
   {
    "duration": 12,
    "start_time": "2023-11-30T13:10:22.198Z"
   },
   {
    "duration": 17,
    "start_time": "2023-11-30T13:10:22.212Z"
   },
   {
    "duration": 14,
    "start_time": "2023-11-30T13:10:22.231Z"
   },
   {
    "duration": 19,
    "start_time": "2023-11-30T13:10:22.246Z"
   },
   {
    "duration": 19,
    "start_time": "2023-11-30T13:10:22.266Z"
   },
   {
    "duration": 13,
    "start_time": "2023-11-30T13:10:22.287Z"
   },
   {
    "duration": 194,
    "start_time": "2023-11-30T13:10:54.055Z"
   },
   {
    "duration": 91,
    "start_time": "2023-11-30T13:11:24.844Z"
   },
   {
    "duration": 148,
    "start_time": "2023-11-30T13:11:34.372Z"
   },
   {
    "duration": 94,
    "start_time": "2023-11-30T13:11:42.957Z"
   },
   {
    "duration": 91,
    "start_time": "2023-11-30T13:11:49.307Z"
   },
   {
    "duration": 88,
    "start_time": "2023-11-30T13:13:59.929Z"
   },
   {
    "duration": 84,
    "start_time": "2023-11-30T13:14:05.333Z"
   },
   {
    "duration": 119,
    "start_time": "2023-11-30T13:14:46.666Z"
   },
   {
    "duration": 98,
    "start_time": "2023-11-30T13:15:00.150Z"
   },
   {
    "duration": 112,
    "start_time": "2023-11-30T13:17:15.376Z"
   },
   {
    "duration": 92,
    "start_time": "2023-11-30T13:17:31.899Z"
   },
   {
    "duration": 87,
    "start_time": "2023-11-30T13:17:44.522Z"
   },
   {
    "duration": 108,
    "start_time": "2023-11-30T13:17:48.785Z"
   },
   {
    "duration": 92,
    "start_time": "2023-11-30T13:18:02.921Z"
   },
   {
    "duration": 133,
    "start_time": "2023-11-30T13:18:09.338Z"
   },
   {
    "duration": 90,
    "start_time": "2023-11-30T13:18:57.884Z"
   },
   {
    "duration": 130,
    "start_time": "2023-11-30T13:19:07.633Z"
   },
   {
    "duration": 262,
    "start_time": "2023-11-30T13:19:23.775Z"
   },
   {
    "duration": 3,
    "start_time": "2023-11-30T13:33:00.746Z"
   },
   {
    "duration": 27,
    "start_time": "2023-11-30T13:33:02.467Z"
   },
   {
    "duration": 15,
    "start_time": "2023-11-30T13:33:10.275Z"
   },
   {
    "duration": 14,
    "start_time": "2023-11-30T13:33:12.803Z"
   },
   {
    "duration": 4,
    "start_time": "2023-11-30T13:33:18.764Z"
   },
   {
    "duration": 4,
    "start_time": "2023-11-30T13:33:19.442Z"
   },
   {
    "duration": 6,
    "start_time": "2023-11-30T13:33:20.253Z"
   },
   {
    "duration": 6,
    "start_time": "2023-11-30T13:33:21.929Z"
   },
   {
    "duration": 3,
    "start_time": "2023-11-30T13:33:23.525Z"
   },
   {
    "duration": 5,
    "start_time": "2023-11-30T13:33:24.148Z"
   },
   {
    "duration": 2,
    "start_time": "2023-11-30T13:33:24.570Z"
   },
   {
    "duration": 237,
    "start_time": "2023-11-30T13:35:39.803Z"
   },
   {
    "duration": 239,
    "start_time": "2023-11-30T13:37:25.020Z"
   },
   {
    "duration": 246,
    "start_time": "2023-11-30T13:37:36.177Z"
   },
   {
    "duration": 1009,
    "start_time": "2023-11-30T13:46:00.347Z"
   },
   {
    "duration": 221,
    "start_time": "2023-11-30T13:49:32.424Z"
   },
   {
    "duration": 286,
    "start_time": "2023-11-30T13:50:19.807Z"
   },
   {
    "duration": 215,
    "start_time": "2023-11-30T13:50:51.931Z"
   },
   {
    "duration": 197,
    "start_time": "2023-11-30T13:51:06.323Z"
   },
   {
    "duration": 222,
    "start_time": "2023-11-30T13:51:48.774Z"
   },
   {
    "duration": 218,
    "start_time": "2023-11-30T13:51:52.565Z"
   },
   {
    "duration": 176,
    "start_time": "2023-11-30T13:51:56.934Z"
   },
   {
    "duration": 338,
    "start_time": "2023-11-30T13:52:00.635Z"
   },
   {
    "duration": 219,
    "start_time": "2023-11-30T13:53:23.413Z"
   },
   {
    "duration": 201,
    "start_time": "2023-11-30T13:53:27.491Z"
   },
   {
    "duration": 197,
    "start_time": "2023-11-30T13:53:56.444Z"
   },
   {
    "duration": 8,
    "start_time": "2023-11-30T14:00:38.353Z"
   },
   {
    "duration": 190,
    "start_time": "2023-11-30T14:00:52.888Z"
   },
   {
    "duration": 206,
    "start_time": "2023-11-30T14:00:53.085Z"
   },
   {
    "duration": 208,
    "start_time": "2023-11-30T14:00:53.293Z"
   },
   {
    "duration": 351,
    "start_time": "2023-11-30T14:00:53.503Z"
   },
   {
    "duration": 8,
    "start_time": "2023-11-30T14:00:55.075Z"
   },
   {
    "duration": 262,
    "start_time": "2023-11-30T14:01:29.665Z"
   },
   {
    "duration": 84,
    "start_time": "2023-11-30T14:02:45.523Z"
   },
   {
    "duration": 7,
    "start_time": "2023-11-30T14:02:54.183Z"
   },
   {
    "duration": 7,
    "start_time": "2023-11-30T14:02:56.807Z"
   },
   {
    "duration": 240,
    "start_time": "2023-11-30T14:03:00.514Z"
   },
   {
    "duration": 257,
    "start_time": "2023-11-30T14:04:07.302Z"
   },
   {
    "duration": 288,
    "start_time": "2023-11-30T14:04:16.578Z"
   },
   {
    "duration": 248,
    "start_time": "2023-11-30T14:06:26.885Z"
   },
   {
    "duration": 289,
    "start_time": "2023-11-30T14:06:31.167Z"
   },
   {
    "duration": 87,
    "start_time": "2023-11-30T14:12:13.673Z"
   },
   {
    "duration": 94,
    "start_time": "2023-11-30T14:12:19.213Z"
   },
   {
    "duration": 108,
    "start_time": "2023-11-30T14:12:22.931Z"
   },
   {
    "duration": 7,
    "start_time": "2023-11-30T14:12:26.357Z"
   },
   {
    "duration": 8,
    "start_time": "2023-11-30T14:12:32.389Z"
   },
   {
    "duration": 78,
    "start_time": "2023-11-30T14:12:38.276Z"
   },
   {
    "duration": 89,
    "start_time": "2023-11-30T14:12:40.920Z"
   },
   {
    "duration": 84,
    "start_time": "2023-11-30T14:12:45.635Z"
   },
   {
    "duration": 67,
    "start_time": "2023-11-30T14:13:09.916Z"
   },
   {
    "duration": 67,
    "start_time": "2023-11-30T14:13:17.841Z"
   },
   {
    "duration": 273,
    "start_time": "2023-11-30T14:13:27.759Z"
   },
   {
    "duration": 106,
    "start_time": "2023-11-30T14:15:59.472Z"
   },
   {
    "duration": 171,
    "start_time": "2023-11-30T14:16:17.942Z"
   },
   {
    "duration": 253,
    "start_time": "2023-11-30T14:16:53.358Z"
   },
   {
    "duration": 351,
    "start_time": "2023-11-30T14:17:19.650Z"
   },
   {
    "duration": 7,
    "start_time": "2023-11-30T14:18:41.731Z"
   },
   {
    "duration": 249,
    "start_time": "2023-11-30T14:18:52.168Z"
   },
   {
    "duration": 207,
    "start_time": "2023-11-30T14:20:42.189Z"
   },
   {
    "duration": 239,
    "start_time": "2023-11-30T14:22:17.542Z"
   },
   {
    "duration": 200,
    "start_time": "2023-11-30T14:22:51.722Z"
   },
   {
    "duration": 199,
    "start_time": "2023-11-30T14:23:02.983Z"
   },
   {
    "duration": 341,
    "start_time": "2023-11-30T14:23:34.420Z"
   },
   {
    "duration": 208,
    "start_time": "2023-11-30T14:23:57.875Z"
   },
   {
    "duration": 198,
    "start_time": "2023-11-30T14:24:05.021Z"
   },
   {
    "duration": 252,
    "start_time": "2023-11-30T14:24:18.511Z"
   },
   {
    "duration": 259,
    "start_time": "2023-11-30T14:27:20.905Z"
   },
   {
    "duration": 237,
    "start_time": "2023-11-30T14:34:54.145Z"
   },
   {
    "duration": 110,
    "start_time": "2023-11-30T14:35:09.824Z"
   },
   {
    "duration": 111,
    "start_time": "2023-11-30T14:35:21.913Z"
   },
   {
    "duration": 192,
    "start_time": "2023-11-30T14:35:26.088Z"
   },
   {
    "duration": 119,
    "start_time": "2023-11-30T14:35:26.281Z"
   },
   {
    "duration": 3,
    "start_time": "2023-11-30T14:36:54.278Z"
   },
   {
    "duration": 81,
    "start_time": "2023-11-30T14:36:54.283Z"
   },
   {
    "duration": 6,
    "start_time": "2023-11-30T14:36:54.366Z"
   },
   {
    "duration": 16,
    "start_time": "2023-11-30T14:36:54.374Z"
   },
   {
    "duration": 7,
    "start_time": "2023-11-30T14:36:54.391Z"
   },
   {
    "duration": 10,
    "start_time": "2023-11-30T14:36:54.399Z"
   },
   {
    "duration": 13,
    "start_time": "2023-11-30T14:36:54.410Z"
   },
   {
    "duration": 8,
    "start_time": "2023-11-30T14:36:54.425Z"
   },
   {
    "duration": 6,
    "start_time": "2023-11-30T14:36:54.434Z"
   },
   {
    "duration": 10,
    "start_time": "2023-11-30T14:36:54.441Z"
   },
   {
    "duration": 9,
    "start_time": "2023-11-30T14:36:54.469Z"
   },
   {
    "duration": 8,
    "start_time": "2023-11-30T14:36:54.480Z"
   },
   {
    "duration": 4,
    "start_time": "2023-11-30T14:36:54.489Z"
   },
   {
    "duration": 22,
    "start_time": "2023-11-30T14:36:54.495Z"
   },
   {
    "duration": 21,
    "start_time": "2023-11-30T14:36:54.519Z"
   },
   {
    "duration": 19,
    "start_time": "2023-11-30T14:36:54.541Z"
   },
   {
    "duration": 10,
    "start_time": "2023-11-30T14:36:54.561Z"
   },
   {
    "duration": 10,
    "start_time": "2023-11-30T14:36:54.573Z"
   },
   {
    "duration": 6,
    "start_time": "2023-11-30T14:36:54.585Z"
   },
   {
    "duration": 149,
    "start_time": "2023-11-30T14:36:54.592Z"
   },
   {
    "duration": 71,
    "start_time": "2023-11-30T14:36:54.742Z"
   },
   {
    "duration": 160,
    "start_time": "2023-11-30T14:36:54.814Z"
   },
   {
    "duration": 226,
    "start_time": "2023-11-30T14:36:54.976Z"
   },
   {
    "duration": 236,
    "start_time": "2023-11-30T14:36:55.203Z"
   },
   {
    "duration": 205,
    "start_time": "2023-11-30T14:36:55.441Z"
   },
   {
    "duration": 115,
    "start_time": "2023-11-30T14:36:55.648Z"
   },
   {
    "duration": 99,
    "start_time": "2023-11-30T14:36:55.770Z"
   },
   {
    "duration": 206,
    "start_time": "2023-11-30T14:36:55.871Z"
   },
   {
    "duration": 257,
    "start_time": "2023-11-30T14:36:56.081Z"
   },
   {
    "duration": 112,
    "start_time": "2023-11-30T14:36:56.339Z"
   },
   {
    "duration": 99,
    "start_time": "2023-11-30T14:36:56.453Z"
   },
   {
    "duration": 37,
    "start_time": "2023-11-30T14:36:56.554Z"
   },
   {
    "duration": 17,
    "start_time": "2023-11-30T14:36:56.593Z"
   },
   {
    "duration": 20,
    "start_time": "2023-11-30T14:36:56.611Z"
   },
   {
    "duration": 266,
    "start_time": "2023-11-30T14:36:56.633Z"
   },
   {
    "duration": 249,
    "start_time": "2023-11-30T14:36:56.901Z"
   },
   {
    "duration": 213,
    "start_time": "2023-11-30T14:36:57.152Z"
   },
   {
    "duration": 353,
    "start_time": "2023-11-30T14:36:57.370Z"
   },
   {
    "duration": 219,
    "start_time": "2023-11-30T14:36:57.725Z"
   },
   {
    "duration": 204,
    "start_time": "2023-11-30T14:36:57.946Z"
   },
   {
    "duration": 7,
    "start_time": "2023-11-30T14:36:58.151Z"
   },
   {
    "duration": 62,
    "start_time": "2023-11-30T14:36:58.159Z"
   },
   {
    "duration": 17,
    "start_time": "2023-11-30T14:36:58.222Z"
   },
   {
    "duration": 26,
    "start_time": "2023-11-30T14:36:58.240Z"
   },
   {
    "duration": 13,
    "start_time": "2023-11-30T14:36:58.268Z"
   },
   {
    "duration": 12,
    "start_time": "2023-11-30T14:36:58.282Z"
   },
   {
    "duration": 20,
    "start_time": "2023-11-30T14:36:58.295Z"
   },
   {
    "duration": 17,
    "start_time": "2023-11-30T14:36:58.316Z"
   },
   {
    "duration": 19,
    "start_time": "2023-11-30T14:36:58.334Z"
   },
   {
    "duration": 36,
    "start_time": "2023-11-30T14:36:58.354Z"
   },
   {
    "duration": 21,
    "start_time": "2023-11-30T14:36:58.391Z"
   },
   {
    "duration": 8,
    "start_time": "2023-11-30T14:36:58.413Z"
   },
   {
    "duration": 4,
    "start_time": "2023-11-30T14:36:58.422Z"
   },
   {
    "duration": 3,
    "start_time": "2023-11-30T15:23:46.988Z"
   },
   {
    "duration": 66,
    "start_time": "2023-11-30T15:23:46.994Z"
   },
   {
    "duration": 8,
    "start_time": "2023-11-30T15:23:47.061Z"
   },
   {
    "duration": 22,
    "start_time": "2023-11-30T15:23:47.070Z"
   },
   {
    "duration": 21,
    "start_time": "2023-11-30T15:23:47.094Z"
   },
   {
    "duration": 17,
    "start_time": "2023-11-30T15:23:47.116Z"
   },
   {
    "duration": 23,
    "start_time": "2023-11-30T15:23:47.134Z"
   },
   {
    "duration": 20,
    "start_time": "2023-11-30T15:23:47.158Z"
   },
   {
    "duration": 10,
    "start_time": "2023-11-30T15:23:47.179Z"
   },
   {
    "duration": 16,
    "start_time": "2023-11-30T15:23:47.190Z"
   },
   {
    "duration": 16,
    "start_time": "2023-11-30T15:23:47.208Z"
   },
   {
    "duration": 6,
    "start_time": "2023-11-30T15:23:47.225Z"
   },
   {
    "duration": 26,
    "start_time": "2023-11-30T15:23:47.232Z"
   },
   {
    "duration": 15,
    "start_time": "2023-11-30T15:23:47.259Z"
   },
   {
    "duration": 5,
    "start_time": "2023-11-30T15:23:47.275Z"
   },
   {
    "duration": 15,
    "start_time": "2023-11-30T15:23:47.281Z"
   },
   {
    "duration": 10,
    "start_time": "2023-11-30T15:23:47.297Z"
   },
   {
    "duration": 10,
    "start_time": "2023-11-30T15:23:47.308Z"
   },
   {
    "duration": 9,
    "start_time": "2023-11-30T15:23:47.320Z"
   },
   {
    "duration": 148,
    "start_time": "2023-11-30T15:23:47.330Z"
   },
   {
    "duration": 62,
    "start_time": "2023-11-30T15:23:47.480Z"
   },
   {
    "duration": 197,
    "start_time": "2023-11-30T15:23:47.543Z"
   },
   {
    "duration": 95,
    "start_time": "2023-11-30T15:23:47.742Z"
   },
   {
    "duration": 251,
    "start_time": "2023-11-30T15:23:47.838Z"
   },
   {
    "duration": 206,
    "start_time": "2023-11-30T15:23:48.091Z"
   },
   {
    "duration": 119,
    "start_time": "2023-11-30T15:23:48.298Z"
   },
   {
    "duration": 103,
    "start_time": "2023-11-30T15:23:48.419Z"
   },
   {
    "duration": 207,
    "start_time": "2023-11-30T15:23:48.524Z"
   },
   {
    "duration": 274,
    "start_time": "2023-11-30T15:23:48.734Z"
   },
   {
    "duration": 115,
    "start_time": "2023-11-30T15:23:49.010Z"
   },
   {
    "duration": 104,
    "start_time": "2023-11-30T15:23:49.126Z"
   },
   {
    "duration": 27,
    "start_time": "2023-11-30T15:23:49.231Z"
   },
   {
    "duration": 71,
    "start_time": "2023-11-30T15:23:49.271Z"
   },
   {
    "duration": 36,
    "start_time": "2023-11-30T15:23:49.343Z"
   },
   {
    "duration": 449,
    "start_time": "2023-11-30T15:23:49.381Z"
   },
   {
    "duration": 255,
    "start_time": "2023-11-30T15:23:49.832Z"
   },
   {
    "duration": 207,
    "start_time": "2023-11-30T15:23:50.088Z"
   },
   {
    "duration": 200,
    "start_time": "2023-11-30T15:23:50.296Z"
   },
   {
    "duration": 211,
    "start_time": "2023-11-30T15:23:50.497Z"
   },
   {
    "duration": 202,
    "start_time": "2023-11-30T15:23:50.710Z"
   },
   {
    "duration": 7,
    "start_time": "2023-11-30T15:23:50.914Z"
   },
   {
    "duration": 35,
    "start_time": "2023-11-30T15:23:50.922Z"
   },
   {
    "duration": 3,
    "start_time": "2023-11-30T15:23:50.958Z"
   },
   {
    "duration": 28,
    "start_time": "2023-11-30T15:23:50.970Z"
   },
   {
    "duration": 14,
    "start_time": "2023-11-30T15:23:50.999Z"
   },
   {
    "duration": 25,
    "start_time": "2023-11-30T15:23:51.014Z"
   },
   {
    "duration": 4,
    "start_time": "2023-11-30T15:23:51.040Z"
   },
   {
    "duration": 4,
    "start_time": "2023-11-30T15:23:51.045Z"
   },
   {
    "duration": 8,
    "start_time": "2023-11-30T15:23:51.050Z"
   },
   {
    "duration": 12,
    "start_time": "2023-11-30T15:23:51.059Z"
   },
   {
    "duration": 5,
    "start_time": "2023-11-30T15:23:51.073Z"
   },
   {
    "duration": 5,
    "start_time": "2023-11-30T15:23:51.079Z"
   },
   {
    "duration": 2,
    "start_time": "2023-11-30T15:23:51.085Z"
   },
   {
    "duration": 176,
    "start_time": "2023-11-30T15:30:30.354Z"
   },
   {
    "duration": 169,
    "start_time": "2023-11-30T15:30:54.440Z"
   },
   {
    "duration": 244,
    "start_time": "2023-11-30T15:31:08.419Z"
   },
   {
    "duration": 443,
    "start_time": "2023-11-30T15:31:18.497Z"
   },
   {
    "duration": 244,
    "start_time": "2023-11-30T15:31:29.177Z"
   },
   {
    "duration": 234,
    "start_time": "2023-11-30T15:32:17.229Z"
   },
   {
    "duration": 97,
    "start_time": "2023-11-30T15:32:42.487Z"
   },
   {
    "duration": 94,
    "start_time": "2023-11-30T15:33:00.923Z"
   },
   {
    "duration": 268,
    "start_time": "2023-11-30T15:33:38.392Z"
   },
   {
    "duration": 256,
    "start_time": "2023-11-30T15:34:01.941Z"
   },
   {
    "duration": 75,
    "start_time": "2023-11-30T15:34:13.314Z"
   },
   {
    "duration": 254,
    "start_time": "2023-11-30T15:34:21.040Z"
   },
   {
    "duration": 451,
    "start_time": "2023-11-30T15:34:32.535Z"
   },
   {
    "duration": 248,
    "start_time": "2023-11-30T15:34:56.936Z"
   },
   {
    "duration": 263,
    "start_time": "2023-11-30T15:35:02.503Z"
   },
   {
    "duration": 248,
    "start_time": "2023-11-30T15:35:10.996Z"
   },
   {
    "duration": 8,
    "start_time": "2023-11-30T15:40:20.061Z"
   },
   {
    "duration": 143,
    "start_time": "2023-11-30T15:40:37.779Z"
   },
   {
    "duration": 250,
    "start_time": "2023-11-30T15:40:44.522Z"
   },
   {
    "duration": 250,
    "start_time": "2023-11-30T15:41:19.261Z"
   },
   {
    "duration": 349,
    "start_time": "2023-11-30T15:41:25.708Z"
   },
   {
    "duration": 117,
    "start_time": "2023-11-30T15:41:33.231Z"
   },
   {
    "duration": 116,
    "start_time": "2023-11-30T15:41:35.675Z"
   },
   {
    "duration": 250,
    "start_time": "2023-11-30T15:43:34.378Z"
   },
   {
    "duration": 278,
    "start_time": "2023-11-30T15:43:59.167Z"
   },
   {
    "duration": 273,
    "start_time": "2023-11-30T15:44:41.988Z"
   },
   {
    "duration": 289,
    "start_time": "2023-11-30T15:45:07.432Z"
   },
   {
    "duration": 286,
    "start_time": "2023-11-30T15:46:37.484Z"
   },
   {
    "duration": 263,
    "start_time": "2023-11-30T15:46:57.999Z"
   },
   {
    "duration": 260,
    "start_time": "2023-11-30T15:47:47.927Z"
   },
   {
    "duration": 535,
    "start_time": "2023-11-30T15:48:03.757Z"
   },
   {
    "duration": 261,
    "start_time": "2023-11-30T15:48:12.724Z"
   },
   {
    "duration": 259,
    "start_time": "2023-11-30T15:48:22.823Z"
   },
   {
    "duration": 258,
    "start_time": "2023-11-30T15:48:30.803Z"
   },
   {
    "duration": 273,
    "start_time": "2023-11-30T15:48:57.507Z"
   },
   {
    "duration": 95,
    "start_time": "2023-11-30T15:50:32.292Z"
   },
   {
    "duration": 281,
    "start_time": "2023-11-30T15:51:37.541Z"
   },
   {
    "duration": 268,
    "start_time": "2023-11-30T15:54:41.392Z"
   },
   {
    "duration": 284,
    "start_time": "2023-11-30T15:55:08.036Z"
   },
   {
    "duration": 603,
    "start_time": "2023-11-30T15:56:35.821Z"
   },
   {
    "duration": 93,
    "start_time": "2023-11-30T15:57:16.251Z"
   },
   {
    "duration": 274,
    "start_time": "2023-11-30T15:57:34.120Z"
   },
   {
    "duration": 282,
    "start_time": "2023-11-30T15:58:46.192Z"
   },
   {
    "duration": 9,
    "start_time": "2023-11-30T15:58:58.336Z"
   },
   {
    "duration": 621,
    "start_time": "2023-11-30T15:59:06.055Z"
   },
   {
    "duration": 248,
    "start_time": "2023-11-30T15:59:14.851Z"
   },
   {
    "duration": 282,
    "start_time": "2023-11-30T15:59:34.898Z"
   },
   {
    "duration": 79,
    "start_time": "2023-11-30T15:59:39.735Z"
   },
   {
    "duration": 267,
    "start_time": "2023-11-30T15:59:43.795Z"
   },
   {
    "duration": 270,
    "start_time": "2023-11-30T16:06:06.086Z"
   },
   {
    "duration": 70,
    "start_time": "2023-11-30T16:07:29.548Z"
   },
   {
    "duration": 273,
    "start_time": "2023-11-30T16:07:33.132Z"
   },
   {
    "duration": 73,
    "start_time": "2023-11-30T16:07:41.421Z"
   },
   {
    "duration": 280,
    "start_time": "2023-11-30T16:07:43.961Z"
   },
   {
    "duration": 103,
    "start_time": "2023-11-30T16:08:02.452Z"
   },
   {
    "duration": 281,
    "start_time": "2023-11-30T16:08:07.425Z"
   },
   {
    "duration": 295,
    "start_time": "2023-11-30T16:09:02.167Z"
   },
   {
    "duration": 299,
    "start_time": "2023-11-30T16:09:21.337Z"
   },
   {
    "duration": 275,
    "start_time": "2023-11-30T16:10:08.685Z"
   },
   {
    "duration": 705,
    "start_time": "2023-11-30T16:10:13.753Z"
   },
   {
    "duration": 273,
    "start_time": "2023-11-30T16:10:18.584Z"
   },
   {
    "duration": 276,
    "start_time": "2023-11-30T16:10:24.774Z"
   },
   {
    "duration": 277,
    "start_time": "2023-11-30T16:10:35.942Z"
   },
   {
    "duration": 284,
    "start_time": "2023-11-30T16:10:38.910Z"
   },
   {
    "duration": 266,
    "start_time": "2023-11-30T16:11:55.053Z"
   },
   {
    "duration": 280,
    "start_time": "2023-11-30T16:11:59.244Z"
   },
   {
    "duration": 275,
    "start_time": "2023-11-30T16:12:05.879Z"
   },
   {
    "duration": 269,
    "start_time": "2023-11-30T16:12:10.789Z"
   },
   {
    "duration": 112,
    "start_time": "2023-11-30T16:14:17.246Z"
   },
   {
    "duration": 89,
    "start_time": "2023-11-30T16:14:20.183Z"
   },
   {
    "duration": 106,
    "start_time": "2023-11-30T16:14:22.956Z"
   },
   {
    "duration": 272,
    "start_time": "2023-11-30T16:14:31.520Z"
   },
   {
    "duration": 136,
    "start_time": "2023-11-30T16:15:01.817Z"
   },
   {
    "duration": 119,
    "start_time": "2023-11-30T16:15:05.752Z"
   },
   {
    "duration": 76,
    "start_time": "2023-11-30T16:15:09.921Z"
   },
   {
    "duration": 276,
    "start_time": "2023-11-30T16:15:17.025Z"
   },
   {
    "duration": 276,
    "start_time": "2023-11-30T16:15:35.045Z"
   },
   {
    "duration": 273,
    "start_time": "2023-11-30T16:15:40.186Z"
   },
   {
    "duration": 765,
    "start_time": "2023-11-30T16:15:45.097Z"
   },
   {
    "duration": 269,
    "start_time": "2023-11-30T16:16:04.714Z"
   },
   {
    "duration": 276,
    "start_time": "2023-11-30T16:16:09.002Z"
   },
   {
    "duration": 279,
    "start_time": "2023-11-30T16:16:17.085Z"
   },
   {
    "duration": 282,
    "start_time": "2023-11-30T16:16:30.231Z"
   },
   {
    "duration": 287,
    "start_time": "2023-11-30T16:17:00.106Z"
   },
   {
    "duration": 289,
    "start_time": "2023-11-30T16:17:16.665Z"
   },
   {
    "duration": 282,
    "start_time": "2023-11-30T16:17:35.133Z"
   },
   {
    "duration": 79,
    "start_time": "2023-11-30T16:17:43.669Z"
   },
   {
    "duration": 280,
    "start_time": "2023-11-30T16:17:45.414Z"
   },
   {
    "duration": 276,
    "start_time": "2023-11-30T16:18:06.246Z"
   },
   {
    "duration": 296,
    "start_time": "2023-11-30T16:20:30.996Z"
   },
   {
    "duration": 210,
    "start_time": "2023-11-30T16:20:35.789Z"
   },
   {
    "duration": 273,
    "start_time": "2023-11-30T16:20:39.397Z"
   },
   {
    "duration": 274,
    "start_time": "2023-11-30T16:22:26.475Z"
   },
   {
    "duration": 862,
    "start_time": "2023-11-30T16:24:14.565Z"
   },
   {
    "duration": 289,
    "start_time": "2023-11-30T16:24:27.611Z"
   },
   {
    "duration": 279,
    "start_time": "2023-11-30T16:27:05.762Z"
   },
   {
    "duration": 272,
    "start_time": "2023-11-30T16:27:13.564Z"
   },
   {
    "duration": 265,
    "start_time": "2023-11-30T16:27:16.721Z"
   },
   {
    "duration": 287,
    "start_time": "2023-11-30T16:28:01.722Z"
   },
   {
    "duration": 272,
    "start_time": "2023-11-30T16:28:09.631Z"
   },
   {
    "duration": 268,
    "start_time": "2023-11-30T16:28:28.143Z"
   },
   {
    "duration": 269,
    "start_time": "2023-11-30T16:29:42.544Z"
   },
   {
    "duration": 274,
    "start_time": "2023-11-30T16:29:49.806Z"
   },
   {
    "duration": 282,
    "start_time": "2023-11-30T16:30:16.796Z"
   },
   {
    "duration": 266,
    "start_time": "2023-11-30T16:31:55.820Z"
   },
   {
    "duration": 271,
    "start_time": "2023-11-30T16:31:59.096Z"
   },
   {
    "duration": 270,
    "start_time": "2023-11-30T16:32:06.053Z"
   },
   {
    "duration": 268,
    "start_time": "2023-11-30T16:34:54.250Z"
   },
   {
    "duration": 277,
    "start_time": "2023-11-30T16:39:50.371Z"
   },
   {
    "duration": 276,
    "start_time": "2023-11-30T16:40:00.723Z"
   },
   {
    "duration": 3,
    "start_time": "2023-11-30T16:44:04.970Z"
   },
   {
    "duration": 24,
    "start_time": "2023-11-30T16:44:05.644Z"
   },
   {
    "duration": 15,
    "start_time": "2023-11-30T16:44:06.002Z"
   },
   {
    "duration": 13,
    "start_time": "2023-11-30T16:44:06.229Z"
   },
   {
    "duration": 5,
    "start_time": "2023-11-30T16:44:07.346Z"
   },
   {
    "duration": 3,
    "start_time": "2023-11-30T16:44:10.204Z"
   },
   {
    "duration": 66,
    "start_time": "2023-11-30T16:44:10.208Z"
   },
   {
    "duration": 6,
    "start_time": "2023-11-30T16:44:10.276Z"
   },
   {
    "duration": 10,
    "start_time": "2023-11-30T16:44:10.283Z"
   },
   {
    "duration": 10,
    "start_time": "2023-11-30T16:44:10.294Z"
   },
   {
    "duration": 22,
    "start_time": "2023-11-30T16:44:10.305Z"
   },
   {
    "duration": 6,
    "start_time": "2023-11-30T16:44:10.328Z"
   },
   {
    "duration": 15,
    "start_time": "2023-11-30T16:44:10.335Z"
   },
   {
    "duration": 19,
    "start_time": "2023-11-30T16:44:10.351Z"
   },
   {
    "duration": 9,
    "start_time": "2023-11-30T16:44:10.371Z"
   },
   {
    "duration": 9,
    "start_time": "2023-11-30T16:44:10.381Z"
   },
   {
    "duration": 6,
    "start_time": "2023-11-30T16:44:10.391Z"
   },
   {
    "duration": 4,
    "start_time": "2023-11-30T16:44:10.400Z"
   },
   {
    "duration": 8,
    "start_time": "2023-11-30T16:44:10.405Z"
   },
   {
    "duration": 3,
    "start_time": "2023-11-30T16:44:10.415Z"
   },
   {
    "duration": 8,
    "start_time": "2023-11-30T16:44:10.419Z"
   },
   {
    "duration": 5,
    "start_time": "2023-11-30T16:44:10.428Z"
   },
   {
    "duration": 8,
    "start_time": "2023-11-30T16:44:10.434Z"
   },
   {
    "duration": 6,
    "start_time": "2023-11-30T16:44:10.469Z"
   },
   {
    "duration": 158,
    "start_time": "2023-11-30T16:44:10.476Z"
   },
   {
    "duration": 724,
    "start_time": "2023-11-30T16:44:10.636Z"
   },
   {
    "duration": 167,
    "start_time": "2023-11-30T16:44:11.362Z"
   },
   {
    "duration": 93,
    "start_time": "2023-11-30T16:44:11.531Z"
   },
   {
    "duration": 229,
    "start_time": "2023-11-30T16:44:11.625Z"
   },
   {
    "duration": 207,
    "start_time": "2023-11-30T16:44:11.856Z"
   },
   {
    "duration": 113,
    "start_time": "2023-11-30T16:44:12.069Z"
   },
   {
    "duration": 102,
    "start_time": "2023-11-30T16:44:12.184Z"
   },
   {
    "duration": 210,
    "start_time": "2023-11-30T16:44:12.287Z"
   },
   {
    "duration": 257,
    "start_time": "2023-11-30T16:44:12.498Z"
   },
   {
    "duration": 114,
    "start_time": "2023-11-30T16:44:12.757Z"
   },
   {
    "duration": 100,
    "start_time": "2023-11-30T16:44:12.872Z"
   },
   {
    "duration": 26,
    "start_time": "2023-11-30T16:44:12.974Z"
   },
   {
    "duration": 17,
    "start_time": "2023-11-30T16:44:13.002Z"
   },
   {
    "duration": 15,
    "start_time": "2023-11-30T16:44:13.020Z"
   },
   {
    "duration": 256,
    "start_time": "2023-11-30T16:44:13.036Z"
   },
   {
    "duration": 248,
    "start_time": "2023-11-30T16:44:13.294Z"
   },
   {
    "duration": 201,
    "start_time": "2023-11-30T16:44:13.545Z"
   },
   {
    "duration": 190,
    "start_time": "2023-11-30T16:44:13.748Z"
   },
   {
    "duration": 215,
    "start_time": "2023-11-30T16:44:13.939Z"
   },
   {
    "duration": 195,
    "start_time": "2023-11-30T16:44:14.156Z"
   },
   {
    "duration": 281,
    "start_time": "2023-11-30T16:44:14.352Z"
   },
   {
    "duration": 268,
    "start_time": "2023-11-30T16:44:14.635Z"
   },
   {
    "duration": 7,
    "start_time": "2023-11-30T16:44:14.904Z"
   },
   {
    "duration": 26,
    "start_time": "2023-11-30T16:44:14.913Z"
   },
   {
    "duration": 2,
    "start_time": "2023-11-30T16:44:14.940Z"
   },
   {
    "duration": 41,
    "start_time": "2023-11-30T16:44:14.944Z"
   },
   {
    "duration": 13,
    "start_time": "2023-11-30T16:44:14.986Z"
   },
   {
    "duration": 63,
    "start_time": "2023-11-30T16:44:15.000Z"
   },
   {
    "duration": 59,
    "start_time": "2023-11-30T16:44:15.064Z"
   },
   {
    "duration": 29,
    "start_time": "2023-11-30T16:44:15.124Z"
   },
   {
    "duration": 62,
    "start_time": "2023-11-30T16:44:15.154Z"
   },
   {
    "duration": 50,
    "start_time": "2023-11-30T16:44:15.217Z"
   },
   {
    "duration": 40,
    "start_time": "2023-11-30T16:44:15.268Z"
   },
   {
    "duration": 29,
    "start_time": "2023-11-30T16:44:15.309Z"
   },
   {
    "duration": 23,
    "start_time": "2023-11-30T16:44:15.339Z"
   },
   {
    "duration": 5,
    "start_time": "2023-11-30T16:46:54.334Z"
   },
   {
    "duration": 5,
    "start_time": "2023-11-30T16:57:47.090Z"
   },
   {
    "duration": 5,
    "start_time": "2023-11-30T16:58:44.736Z"
   },
   {
    "duration": 5,
    "start_time": "2023-11-30T16:58:50.863Z"
   },
   {
    "duration": 5,
    "start_time": "2023-11-30T17:04:13.309Z"
   },
   {
    "duration": 5,
    "start_time": "2023-11-30T17:04:19.352Z"
   },
   {
    "duration": 4,
    "start_time": "2023-11-30T17:08:14.277Z"
   },
   {
    "duration": 5,
    "start_time": "2023-11-30T17:20:14.541Z"
   },
   {
    "duration": 67,
    "start_time": "2023-11-30T17:23:13.146Z"
   },
   {
    "duration": 1134,
    "start_time": "2023-11-30T17:55:05.971Z"
   },
   {
    "duration": 71,
    "start_time": "2023-11-30T17:55:07.107Z"
   },
   {
    "duration": 13,
    "start_time": "2023-11-30T17:55:07.180Z"
   },
   {
    "duration": 29,
    "start_time": "2023-11-30T17:55:07.195Z"
   },
   {
    "duration": 34,
    "start_time": "2023-11-30T17:55:07.226Z"
   },
   {
    "duration": 11,
    "start_time": "2023-11-30T17:55:07.262Z"
   },
   {
    "duration": 8,
    "start_time": "2023-11-30T17:55:07.274Z"
   },
   {
    "duration": 13,
    "start_time": "2023-11-30T17:55:07.283Z"
   },
   {
    "duration": 7,
    "start_time": "2023-11-30T17:55:07.297Z"
   },
   {
    "duration": 19,
    "start_time": "2023-11-30T17:55:07.307Z"
   },
   {
    "duration": 41,
    "start_time": "2023-11-30T17:55:07.328Z"
   },
   {
    "duration": 15,
    "start_time": "2023-11-30T17:55:07.371Z"
   },
   {
    "duration": 18,
    "start_time": "2023-11-30T17:55:07.388Z"
   },
   {
    "duration": 19,
    "start_time": "2023-11-30T17:55:07.407Z"
   },
   {
    "duration": 11,
    "start_time": "2023-11-30T17:55:07.428Z"
   },
   {
    "duration": 9,
    "start_time": "2023-11-30T17:55:07.441Z"
   },
   {
    "duration": 15,
    "start_time": "2023-11-30T17:55:07.451Z"
   },
   {
    "duration": 20,
    "start_time": "2023-11-30T17:55:07.467Z"
   },
   {
    "duration": 11,
    "start_time": "2023-11-30T17:55:07.489Z"
   },
   {
    "duration": 183,
    "start_time": "2023-11-30T17:55:07.501Z"
   },
   {
    "duration": 85,
    "start_time": "2023-11-30T17:55:07.686Z"
   },
   {
    "duration": 217,
    "start_time": "2023-11-30T17:55:07.772Z"
   },
   {
    "duration": 122,
    "start_time": "2023-11-30T17:55:07.991Z"
   },
   {
    "duration": 315,
    "start_time": "2023-11-30T17:55:08.115Z"
   },
   {
    "duration": 248,
    "start_time": "2023-11-30T17:55:08.432Z"
   },
   {
    "duration": 152,
    "start_time": "2023-11-30T17:55:08.682Z"
   },
   {
    "duration": 202,
    "start_time": "2023-11-30T17:55:08.836Z"
   },
   {
    "duration": 265,
    "start_time": "2023-11-30T17:55:09.042Z"
   },
   {
    "duration": 338,
    "start_time": "2023-11-30T17:55:09.313Z"
   },
   {
    "duration": 143,
    "start_time": "2023-11-30T17:55:09.653Z"
   },
   {
    "duration": 130,
    "start_time": "2023-11-30T17:55:09.797Z"
   },
   {
    "duration": 34,
    "start_time": "2023-11-30T17:55:09.928Z"
   },
   {
    "duration": 22,
    "start_time": "2023-11-30T17:55:09.963Z"
   },
   {
    "duration": 44,
    "start_time": "2023-11-30T17:55:09.986Z"
   },
   {
    "duration": 324,
    "start_time": "2023-11-30T17:55:10.031Z"
   },
   {
    "duration": 336,
    "start_time": "2023-11-30T17:55:10.356Z"
   },
   {
    "duration": 353,
    "start_time": "2023-11-30T17:55:10.694Z"
   },
   {
    "duration": 262,
    "start_time": "2023-11-30T17:55:11.048Z"
   },
   {
    "duration": 309,
    "start_time": "2023-11-30T17:55:11.312Z"
   },
   {
    "duration": 270,
    "start_time": "2023-11-30T17:55:11.623Z"
   },
   {
    "duration": 386,
    "start_time": "2023-11-30T17:55:11.895Z"
   },
   {
    "duration": 463,
    "start_time": "2023-11-30T17:55:12.282Z"
   },
   {
    "duration": 9,
    "start_time": "2023-11-30T17:55:12.747Z"
   },
   {
    "duration": 39,
    "start_time": "2023-11-30T17:55:12.758Z"
   },
   {
    "duration": 6,
    "start_time": "2023-11-30T17:55:12.814Z"
   },
   {
    "duration": 36,
    "start_time": "2023-11-30T17:55:12.822Z"
   },
   {
    "duration": 17,
    "start_time": "2023-11-30T17:55:12.860Z"
   },
   {
    "duration": 36,
    "start_time": "2023-11-30T17:55:12.879Z"
   },
   {
    "duration": 5,
    "start_time": "2023-11-30T17:55:12.917Z"
   },
   {
    "duration": 13,
    "start_time": "2023-11-30T17:55:12.923Z"
   },
   {
    "duration": 22,
    "start_time": "2023-11-30T17:55:12.938Z"
   },
   {
    "duration": 5,
    "start_time": "2023-11-30T17:55:12.962Z"
   },
   {
    "duration": 22,
    "start_time": "2023-11-30T17:55:12.969Z"
   },
   {
    "duration": 23,
    "start_time": "2023-11-30T17:55:12.993Z"
   },
   {
    "duration": 11,
    "start_time": "2023-11-30T17:55:13.018Z"
   },
   {
    "duration": 91,
    "start_time": "2023-11-30T17:55:33.892Z"
   },
   {
    "duration": 87,
    "start_time": "2023-11-30T17:55:38.225Z"
   },
   {
    "duration": 430,
    "start_time": "2023-11-30T17:59:18.063Z"
   },
   {
    "duration": 18,
    "start_time": "2023-11-30T18:00:21.485Z"
   },
   {
    "duration": 1231,
    "start_time": "2023-11-30T18:00:33.463Z"
   },
   {
    "duration": 71,
    "start_time": "2023-11-30T18:00:34.696Z"
   },
   {
    "duration": 13,
    "start_time": "2023-11-30T18:00:34.773Z"
   },
   {
    "duration": 46,
    "start_time": "2023-11-30T18:00:34.787Z"
   },
   {
    "duration": 24,
    "start_time": "2023-11-30T18:00:34.835Z"
   },
   {
    "duration": 42,
    "start_time": "2023-11-30T18:00:34.861Z"
   },
   {
    "duration": 26,
    "start_time": "2023-11-30T18:00:34.905Z"
   },
   {
    "duration": 41,
    "start_time": "2023-11-30T18:00:34.933Z"
   },
   {
    "duration": 30,
    "start_time": "2023-11-30T18:00:34.976Z"
   },
   {
    "duration": 53,
    "start_time": "2023-11-30T18:00:35.007Z"
   },
   {
    "duration": 47,
    "start_time": "2023-11-30T18:00:35.062Z"
   },
   {
    "duration": 34,
    "start_time": "2023-11-30T18:00:35.111Z"
   },
   {
    "duration": 33,
    "start_time": "2023-11-30T18:00:35.147Z"
   },
   {
    "duration": 31,
    "start_time": "2023-11-30T18:00:35.182Z"
   },
   {
    "duration": 27,
    "start_time": "2023-11-30T18:00:35.214Z"
   },
   {
    "duration": 48,
    "start_time": "2023-11-30T18:00:35.243Z"
   },
   {
    "duration": 37,
    "start_time": "2023-11-30T18:00:35.293Z"
   },
   {
    "duration": 35,
    "start_time": "2023-11-30T18:00:35.331Z"
   },
   {
    "duration": 31,
    "start_time": "2023-11-30T18:00:35.367Z"
   },
   {
    "duration": 212,
    "start_time": "2023-11-30T18:00:35.399Z"
   },
   {
    "duration": 91,
    "start_time": "2023-11-30T18:00:35.613Z"
   },
   {
    "duration": 206,
    "start_time": "2023-11-30T18:00:35.713Z"
   },
   {
    "duration": 118,
    "start_time": "2023-11-30T18:00:35.921Z"
   },
   {
    "duration": 298,
    "start_time": "2023-11-30T18:00:36.040Z"
   },
   {
    "duration": 253,
    "start_time": "2023-11-30T18:00:36.339Z"
   },
   {
    "duration": 151,
    "start_time": "2023-11-30T18:00:36.594Z"
   },
   {
    "duration": 203,
    "start_time": "2023-11-30T18:00:36.750Z"
   },
   {
    "duration": 260,
    "start_time": "2023-11-30T18:00:36.955Z"
   },
   {
    "duration": 340,
    "start_time": "2023-11-30T18:00:37.216Z"
   },
   {
    "duration": 136,
    "start_time": "2023-11-30T18:00:37.557Z"
   },
   {
    "duration": 145,
    "start_time": "2023-11-30T18:00:37.695Z"
   },
   {
    "duration": 33,
    "start_time": "2023-11-30T18:00:37.842Z"
   },
   {
    "duration": 43,
    "start_time": "2023-11-30T18:00:37.877Z"
   },
   {
    "duration": 19,
    "start_time": "2023-11-30T18:00:37.922Z"
   },
   {
    "duration": 327,
    "start_time": "2023-11-30T18:00:37.944Z"
   },
   {
    "duration": 349,
    "start_time": "2023-11-30T18:00:38.273Z"
   },
   {
    "duration": 365,
    "start_time": "2023-11-30T18:00:38.623Z"
   },
   {
    "duration": 259,
    "start_time": "2023-11-30T18:00:38.990Z"
   },
   {
    "duration": 287,
    "start_time": "2023-11-30T18:00:39.251Z"
   },
   {
    "duration": 264,
    "start_time": "2023-11-30T18:00:39.539Z"
   },
   {
    "duration": 369,
    "start_time": "2023-11-30T18:00:39.805Z"
   },
   {
    "duration": 490,
    "start_time": "2023-11-30T18:00:40.176Z"
   },
   {
    "duration": 431,
    "start_time": "2023-11-30T18:00:40.667Z"
   },
   {
    "duration": 19,
    "start_time": "2023-11-30T18:00:41.100Z"
   },
   {
    "duration": 42,
    "start_time": "2023-11-30T18:00:41.121Z"
   },
   {
    "duration": 1291,
    "start_time": "2023-11-30T18:00:41.165Z"
   },
   {
    "duration": 0,
    "start_time": "2023-11-30T18:00:42.458Z"
   },
   {
    "duration": 0,
    "start_time": "2023-11-30T18:00:42.459Z"
   },
   {
    "duration": 0,
    "start_time": "2023-11-30T18:00:42.460Z"
   },
   {
    "duration": 0,
    "start_time": "2023-11-30T18:00:42.461Z"
   },
   {
    "duration": 0,
    "start_time": "2023-11-30T18:00:42.462Z"
   },
   {
    "duration": 0,
    "start_time": "2023-11-30T18:00:42.463Z"
   },
   {
    "duration": 0,
    "start_time": "2023-11-30T18:00:42.464Z"
   },
   {
    "duration": 0,
    "start_time": "2023-11-30T18:00:42.465Z"
   },
   {
    "duration": 0,
    "start_time": "2023-11-30T18:00:42.466Z"
   },
   {
    "duration": 0,
    "start_time": "2023-11-30T18:00:42.467Z"
   },
   {
    "duration": 11,
    "start_time": "2023-11-30T18:00:55.059Z"
   },
   {
    "duration": 1180,
    "start_time": "2023-11-30T18:01:22.126Z"
   },
   {
    "duration": 75,
    "start_time": "2023-11-30T18:01:23.308Z"
   },
   {
    "duration": 13,
    "start_time": "2023-11-30T18:01:23.385Z"
   },
   {
    "duration": 19,
    "start_time": "2023-11-30T18:01:23.400Z"
   },
   {
    "duration": 26,
    "start_time": "2023-11-30T18:01:23.420Z"
   },
   {
    "duration": 13,
    "start_time": "2023-11-30T18:01:23.448Z"
   },
   {
    "duration": 8,
    "start_time": "2023-11-30T18:01:23.462Z"
   },
   {
    "duration": 14,
    "start_time": "2023-11-30T18:01:23.471Z"
   },
   {
    "duration": 12,
    "start_time": "2023-11-30T18:01:23.486Z"
   },
   {
    "duration": 14,
    "start_time": "2023-11-30T18:01:23.501Z"
   },
   {
    "duration": 14,
    "start_time": "2023-11-30T18:01:23.516Z"
   },
   {
    "duration": 9,
    "start_time": "2023-11-30T18:01:23.532Z"
   },
   {
    "duration": 6,
    "start_time": "2023-11-30T18:01:23.543Z"
   },
   {
    "duration": 7,
    "start_time": "2023-11-30T18:01:23.552Z"
   },
   {
    "duration": 8,
    "start_time": "2023-11-30T18:01:23.562Z"
   },
   {
    "duration": 44,
    "start_time": "2023-11-30T18:01:23.572Z"
   },
   {
    "duration": 8,
    "start_time": "2023-11-30T18:01:23.617Z"
   },
   {
    "duration": 8,
    "start_time": "2023-11-30T18:01:23.627Z"
   },
   {
    "duration": 6,
    "start_time": "2023-11-30T18:01:23.637Z"
   },
   {
    "duration": 220,
    "start_time": "2023-11-30T18:01:23.646Z"
   },
   {
    "duration": 96,
    "start_time": "2023-11-30T18:01:23.869Z"
   },
   {
    "duration": 214,
    "start_time": "2023-11-30T18:01:23.967Z"
   },
   {
    "duration": 115,
    "start_time": "2023-11-30T18:01:24.182Z"
   },
   {
    "duration": 328,
    "start_time": "2023-11-30T18:01:24.299Z"
   },
   {
    "duration": 271,
    "start_time": "2023-11-30T18:01:24.629Z"
   },
   {
    "duration": 153,
    "start_time": "2023-11-30T18:01:24.902Z"
   },
   {
    "duration": 200,
    "start_time": "2023-11-30T18:01:25.057Z"
   },
   {
    "duration": 280,
    "start_time": "2023-11-30T18:01:25.261Z"
   },
   {
    "duration": 340,
    "start_time": "2023-11-30T18:01:25.543Z"
   },
   {
    "duration": 142,
    "start_time": "2023-11-30T18:01:25.885Z"
   },
   {
    "duration": 130,
    "start_time": "2023-11-30T18:01:26.029Z"
   },
   {
    "duration": 32,
    "start_time": "2023-11-30T18:01:26.161Z"
   },
   {
    "duration": 37,
    "start_time": "2023-11-30T18:01:26.195Z"
   },
   {
    "duration": 20,
    "start_time": "2023-11-30T18:01:26.233Z"
   },
   {
    "duration": 332,
    "start_time": "2023-11-30T18:01:26.255Z"
   },
   {
    "duration": 326,
    "start_time": "2023-11-30T18:01:26.589Z"
   },
   {
    "duration": 349,
    "start_time": "2023-11-30T18:01:26.917Z"
   },
   {
    "duration": 255,
    "start_time": "2023-11-30T18:01:27.268Z"
   },
   {
    "duration": 289,
    "start_time": "2023-11-30T18:01:27.524Z"
   },
   {
    "duration": 256,
    "start_time": "2023-11-30T18:01:27.816Z"
   },
   {
    "duration": 377,
    "start_time": "2023-11-30T18:01:28.074Z"
   },
   {
    "duration": 460,
    "start_time": "2023-11-30T18:01:28.453Z"
   },
   {
    "duration": 412,
    "start_time": "2023-11-30T18:01:28.915Z"
   },
   {
    "duration": 10,
    "start_time": "2023-11-30T18:01:29.328Z"
   },
   {
    "duration": 3,
    "start_time": "2023-11-30T18:01:29.340Z"
   },
   {
    "duration": 40,
    "start_time": "2023-11-30T18:01:29.345Z"
   },
   {
    "duration": 52,
    "start_time": "2023-11-30T18:01:29.386Z"
   },
   {
    "duration": 18,
    "start_time": "2023-11-30T18:01:29.439Z"
   },
   {
    "duration": 17,
    "start_time": "2023-11-30T18:01:29.459Z"
   },
   {
    "duration": 6,
    "start_time": "2023-11-30T18:01:29.477Z"
   },
   {
    "duration": 33,
    "start_time": "2023-11-30T18:01:29.484Z"
   },
   {
    "duration": 6,
    "start_time": "2023-11-30T18:01:29.519Z"
   },
   {
    "duration": 5,
    "start_time": "2023-11-30T18:01:29.527Z"
   },
   {
    "duration": 25,
    "start_time": "2023-11-30T18:01:29.534Z"
   },
   {
    "duration": 6,
    "start_time": "2023-11-30T18:01:29.561Z"
   },
   {
    "duration": 14,
    "start_time": "2023-11-30T18:01:29.569Z"
   },
   {
    "duration": 6,
    "start_time": "2023-11-30T18:02:13.204Z"
   },
   {
    "duration": 6,
    "start_time": "2023-11-30T18:02:17.284Z"
   },
   {
    "duration": 5,
    "start_time": "2023-11-30T18:02:22.512Z"
   },
   {
    "duration": 6,
    "start_time": "2023-11-30T18:02:34.049Z"
   },
   {
    "duration": 1158,
    "start_time": "2023-11-30T18:02:39.730Z"
   },
   {
    "duration": 70,
    "start_time": "2023-11-30T18:02:40.890Z"
   },
   {
    "duration": 13,
    "start_time": "2023-11-30T18:02:40.961Z"
   },
   {
    "duration": 11,
    "start_time": "2023-11-30T18:02:40.976Z"
   },
   {
    "duration": 11,
    "start_time": "2023-11-30T18:02:40.989Z"
   },
   {
    "duration": 29,
    "start_time": "2023-11-30T18:02:41.001Z"
   },
   {
    "duration": 22,
    "start_time": "2023-11-30T18:02:41.032Z"
   },
   {
    "duration": 46,
    "start_time": "2023-11-30T18:02:41.056Z"
   },
   {
    "duration": 7,
    "start_time": "2023-11-30T18:02:41.104Z"
   },
   {
    "duration": 50,
    "start_time": "2023-11-30T18:02:41.115Z"
   },
   {
    "duration": 43,
    "start_time": "2023-11-30T18:02:41.167Z"
   },
   {
    "duration": 36,
    "start_time": "2023-11-30T18:02:41.212Z"
   },
   {
    "duration": 45,
    "start_time": "2023-11-30T18:02:41.250Z"
   },
   {
    "duration": 63,
    "start_time": "2023-11-30T18:02:41.298Z"
   },
   {
    "duration": 6,
    "start_time": "2023-11-30T18:02:41.363Z"
   },
   {
    "duration": 7,
    "start_time": "2023-11-30T18:02:41.370Z"
   },
   {
    "duration": 7,
    "start_time": "2023-11-30T18:02:41.379Z"
   },
   {
    "duration": 13,
    "start_time": "2023-11-30T18:02:41.387Z"
   },
   {
    "duration": 8,
    "start_time": "2023-11-30T18:02:41.401Z"
   },
   {
    "duration": 177,
    "start_time": "2023-11-30T18:02:41.410Z"
   },
   {
    "duration": 94,
    "start_time": "2023-11-30T18:02:41.589Z"
   },
   {
    "duration": 209,
    "start_time": "2023-11-30T18:02:41.685Z"
   },
   {
    "duration": 125,
    "start_time": "2023-11-30T18:02:41.896Z"
   },
   {
    "duration": 305,
    "start_time": "2023-11-30T18:02:42.023Z"
   },
   {
    "duration": 254,
    "start_time": "2023-11-30T18:02:42.329Z"
   },
   {
    "duration": 149,
    "start_time": "2023-11-30T18:02:42.584Z"
   },
   {
    "duration": 199,
    "start_time": "2023-11-30T18:02:42.735Z"
   },
   {
    "duration": 272,
    "start_time": "2023-11-30T18:02:42.937Z"
   },
   {
    "duration": 361,
    "start_time": "2023-11-30T18:02:43.212Z"
   },
   {
    "duration": 148,
    "start_time": "2023-11-30T18:02:43.574Z"
   },
   {
    "duration": 126,
    "start_time": "2023-11-30T18:02:43.724Z"
   },
   {
    "duration": 34,
    "start_time": "2023-11-30T18:02:43.852Z"
   },
   {
    "duration": 39,
    "start_time": "2023-11-30T18:02:43.887Z"
   },
   {
    "duration": 48,
    "start_time": "2023-11-30T18:02:43.928Z"
   },
   {
    "duration": 337,
    "start_time": "2023-11-30T18:02:43.978Z"
   },
   {
    "duration": 318,
    "start_time": "2023-11-30T18:02:44.317Z"
   },
   {
    "duration": 347,
    "start_time": "2023-11-30T18:02:44.636Z"
   },
   {
    "duration": 256,
    "start_time": "2023-11-30T18:02:44.985Z"
   },
   {
    "duration": 285,
    "start_time": "2023-11-30T18:02:45.243Z"
   },
   {
    "duration": 264,
    "start_time": "2023-11-30T18:02:45.530Z"
   },
   {
    "duration": 387,
    "start_time": "2023-11-30T18:02:45.796Z"
   },
   {
    "duration": 462,
    "start_time": "2023-11-30T18:02:46.185Z"
   },
   {
    "duration": 424,
    "start_time": "2023-11-30T18:02:46.649Z"
   },
   {
    "duration": 8,
    "start_time": "2023-11-30T18:02:47.075Z"
   },
   {
    "duration": 9,
    "start_time": "2023-11-30T18:02:47.085Z"
   },
   {
    "duration": 47,
    "start_time": "2023-11-30T18:02:47.114Z"
   },
   {
    "duration": 50,
    "start_time": "2023-11-30T18:02:47.163Z"
   },
   {
    "duration": 21,
    "start_time": "2023-11-30T18:02:47.225Z"
   },
   {
    "duration": 15,
    "start_time": "2023-11-30T18:02:47.247Z"
   },
   {
    "duration": 5,
    "start_time": "2023-11-30T18:02:47.264Z"
   },
   {
    "duration": 29,
    "start_time": "2023-11-30T18:02:47.271Z"
   },
   {
    "duration": 6,
    "start_time": "2023-11-30T18:02:47.302Z"
   },
   {
    "duration": 15,
    "start_time": "2023-11-30T18:02:47.313Z"
   },
   {
    "duration": 6,
    "start_time": "2023-11-30T18:02:47.330Z"
   },
   {
    "duration": 6,
    "start_time": "2023-11-30T18:02:47.338Z"
   },
   {
    "duration": 3,
    "start_time": "2023-11-30T18:02:47.346Z"
   },
   {
    "duration": 6,
    "start_time": "2023-11-30T18:04:03.973Z"
   },
   {
    "duration": 6,
    "start_time": "2023-11-30T18:28:40.444Z"
   },
   {
    "duration": 6,
    "start_time": "2023-11-30T18:29:32.055Z"
   },
   {
    "duration": 5,
    "start_time": "2023-11-30T18:30:00.821Z"
   },
   {
    "duration": 2,
    "start_time": "2023-11-30T18:30:37.942Z"
   },
   {
    "duration": 72,
    "start_time": "2023-11-30T18:30:37.946Z"
   },
   {
    "duration": 7,
    "start_time": "2023-11-30T18:30:38.020Z"
   },
   {
    "duration": 11,
    "start_time": "2023-11-30T18:30:38.028Z"
   },
   {
    "duration": 11,
    "start_time": "2023-11-30T18:30:38.040Z"
   },
   {
    "duration": 10,
    "start_time": "2023-11-30T18:30:38.052Z"
   },
   {
    "duration": 23,
    "start_time": "2023-11-30T18:30:38.063Z"
   },
   {
    "duration": 16,
    "start_time": "2023-11-30T18:30:38.087Z"
   },
   {
    "duration": 13,
    "start_time": "2023-11-30T18:30:38.105Z"
   },
   {
    "duration": 13,
    "start_time": "2023-11-30T18:30:38.119Z"
   },
   {
    "duration": 9,
    "start_time": "2023-11-30T18:30:38.133Z"
   },
   {
    "duration": 27,
    "start_time": "2023-11-30T18:30:38.143Z"
   },
   {
    "duration": 4,
    "start_time": "2023-11-30T18:30:38.171Z"
   },
   {
    "duration": 10,
    "start_time": "2023-11-30T18:30:38.176Z"
   },
   {
    "duration": 9,
    "start_time": "2023-11-30T18:30:38.187Z"
   },
   {
    "duration": 10,
    "start_time": "2023-11-30T18:30:38.197Z"
   },
   {
    "duration": 6,
    "start_time": "2023-11-30T18:30:38.208Z"
   },
   {
    "duration": 56,
    "start_time": "2023-11-30T18:30:38.215Z"
   },
   {
    "duration": 17,
    "start_time": "2023-11-30T18:30:38.272Z"
   },
   {
    "duration": 144,
    "start_time": "2023-11-30T18:30:38.291Z"
   },
   {
    "duration": 83,
    "start_time": "2023-11-30T18:30:38.436Z"
   },
   {
    "duration": 170,
    "start_time": "2023-11-30T18:30:38.521Z"
   },
   {
    "duration": 96,
    "start_time": "2023-11-30T18:30:38.693Z"
   },
   {
    "duration": 241,
    "start_time": "2023-11-30T18:30:38.793Z"
   },
   {
    "duration": 208,
    "start_time": "2023-11-30T18:30:39.036Z"
   },
   {
    "duration": 125,
    "start_time": "2023-11-30T18:30:39.246Z"
   },
   {
    "duration": 103,
    "start_time": "2023-11-30T18:30:39.373Z"
   },
   {
    "duration": 219,
    "start_time": "2023-11-30T18:30:39.479Z"
   },
   {
    "duration": 261,
    "start_time": "2023-11-30T18:30:39.700Z"
   },
   {
    "duration": 115,
    "start_time": "2023-11-30T18:30:39.969Z"
   },
   {
    "duration": 108,
    "start_time": "2023-11-30T18:30:40.086Z"
   },
   {
    "duration": 28,
    "start_time": "2023-11-30T18:30:40.196Z"
   },
   {
    "duration": 18,
    "start_time": "2023-11-30T18:30:40.226Z"
   },
   {
    "duration": 17,
    "start_time": "2023-11-30T18:30:40.269Z"
   },
   {
    "duration": 263,
    "start_time": "2023-11-30T18:30:40.288Z"
   },
   {
    "duration": 258,
    "start_time": "2023-11-30T18:30:40.553Z"
   },
   {
    "duration": 214,
    "start_time": "2023-11-30T18:30:40.813Z"
   },
   {
    "duration": 203,
    "start_time": "2023-11-30T18:30:41.029Z"
   },
   {
    "duration": 225,
    "start_time": "2023-11-30T18:30:41.234Z"
   },
   {
    "duration": 206,
    "start_time": "2023-11-30T18:30:41.469Z"
   },
   {
    "duration": 295,
    "start_time": "2023-11-30T18:30:41.677Z"
   },
   {
    "duration": 280,
    "start_time": "2023-11-30T18:30:41.974Z"
   },
   {
    "duration": 337,
    "start_time": "2023-11-30T18:30:42.256Z"
   },
   {
    "duration": 8,
    "start_time": "2023-11-30T18:30:42.595Z"
   },
   {
    "duration": 42,
    "start_time": "2023-11-30T18:30:42.604Z"
   },
   {
    "duration": 71,
    "start_time": "2023-11-30T18:30:42.648Z"
   },
   {
    "duration": 27,
    "start_time": "2023-11-30T18:30:42.721Z"
   },
   {
    "duration": 14,
    "start_time": "2023-11-30T18:30:42.749Z"
   },
   {
    "duration": 20,
    "start_time": "2023-11-30T18:30:42.764Z"
   },
   {
    "duration": 3,
    "start_time": "2023-11-30T18:30:42.786Z"
   },
   {
    "duration": 17,
    "start_time": "2023-11-30T18:30:42.790Z"
   },
   {
    "duration": 17,
    "start_time": "2023-11-30T18:30:42.808Z"
   },
   {
    "duration": 4,
    "start_time": "2023-11-30T18:30:42.826Z"
   },
   {
    "duration": 8,
    "start_time": "2023-11-30T18:30:42.832Z"
   },
   {
    "duration": 18,
    "start_time": "2023-11-30T18:30:42.841Z"
   },
   {
    "duration": 6,
    "start_time": "2023-11-30T18:30:42.860Z"
   },
   {
    "duration": 5,
    "start_time": "2023-11-30T18:31:47.620Z"
   },
   {
    "duration": 3,
    "start_time": "2023-11-30T18:31:54.461Z"
   },
   {
    "duration": 70,
    "start_time": "2023-11-30T18:31:54.466Z"
   },
   {
    "duration": 8,
    "start_time": "2023-11-30T18:31:54.537Z"
   },
   {
    "duration": 9,
    "start_time": "2023-11-30T18:31:54.546Z"
   },
   {
    "duration": 9,
    "start_time": "2023-11-30T18:31:54.557Z"
   },
   {
    "duration": 15,
    "start_time": "2023-11-30T18:31:54.567Z"
   },
   {
    "duration": 6,
    "start_time": "2023-11-30T18:31:54.583Z"
   },
   {
    "duration": 9,
    "start_time": "2023-11-30T18:31:54.590Z"
   },
   {
    "duration": 10,
    "start_time": "2023-11-30T18:31:54.601Z"
   },
   {
    "duration": 12,
    "start_time": "2023-11-30T18:31:54.612Z"
   },
   {
    "duration": 14,
    "start_time": "2023-11-30T18:31:54.626Z"
   },
   {
    "duration": 15,
    "start_time": "2023-11-30T18:31:54.641Z"
   },
   {
    "duration": 5,
    "start_time": "2023-11-30T18:31:54.657Z"
   },
   {
    "duration": 19,
    "start_time": "2023-11-30T18:31:54.663Z"
   },
   {
    "duration": 7,
    "start_time": "2023-11-30T18:31:54.683Z"
   },
   {
    "duration": 9,
    "start_time": "2023-11-30T18:31:54.691Z"
   },
   {
    "duration": 6,
    "start_time": "2023-11-30T18:31:54.701Z"
   },
   {
    "duration": 5,
    "start_time": "2023-11-30T18:31:54.709Z"
   },
   {
    "duration": 5,
    "start_time": "2023-11-30T18:31:54.716Z"
   },
   {
    "duration": 155,
    "start_time": "2023-11-30T18:31:54.722Z"
   },
   {
    "duration": 72,
    "start_time": "2023-11-30T18:31:54.879Z"
   },
   {
    "duration": 173,
    "start_time": "2023-11-30T18:31:54.952Z"
   },
   {
    "duration": 881,
    "start_time": "2023-11-30T18:31:55.127Z"
   },
   {
    "duration": 228,
    "start_time": "2023-11-30T18:31:56.010Z"
   },
   {
    "duration": 204,
    "start_time": "2023-11-30T18:31:56.240Z"
   },
   {
    "duration": 117,
    "start_time": "2023-11-30T18:31:56.446Z"
   },
   {
    "duration": 106,
    "start_time": "2023-11-30T18:31:56.565Z"
   },
   {
    "duration": 215,
    "start_time": "2023-11-30T18:31:56.673Z"
   },
   {
    "duration": 260,
    "start_time": "2023-11-30T18:31:56.892Z"
   },
   {
    "duration": 107,
    "start_time": "2023-11-30T18:31:57.154Z"
   },
   {
    "duration": 91,
    "start_time": "2023-11-30T18:31:57.269Z"
   },
   {
    "duration": 26,
    "start_time": "2023-11-30T18:31:57.369Z"
   },
   {
    "duration": 16,
    "start_time": "2023-11-30T18:31:57.396Z"
   },
   {
    "duration": 15,
    "start_time": "2023-11-30T18:31:57.413Z"
   },
   {
    "duration": 271,
    "start_time": "2023-11-30T18:31:57.429Z"
   },
   {
    "duration": 264,
    "start_time": "2023-11-30T18:31:57.701Z"
   },
   {
    "duration": 209,
    "start_time": "2023-11-30T18:31:57.969Z"
   },
   {
    "duration": 197,
    "start_time": "2023-11-30T18:31:58.180Z"
   },
   {
    "duration": 217,
    "start_time": "2023-11-30T18:31:58.379Z"
   },
   {
    "duration": 205,
    "start_time": "2023-11-30T18:31:58.597Z"
   },
   {
    "duration": 287,
    "start_time": "2023-11-30T18:31:58.804Z"
   },
   {
    "duration": 278,
    "start_time": "2023-11-30T18:31:59.092Z"
   },
   {
    "duration": 333,
    "start_time": "2023-11-30T18:31:59.371Z"
   },
   {
    "duration": 7,
    "start_time": "2023-11-30T18:31:59.705Z"
   },
   {
    "duration": 30,
    "start_time": "2023-11-30T18:31:59.713Z"
   },
   {
    "duration": 28,
    "start_time": "2023-11-30T18:31:59.744Z"
   },
   {
    "duration": 23,
    "start_time": "2023-11-30T18:31:59.773Z"
   },
   {
    "duration": 13,
    "start_time": "2023-11-30T18:31:59.798Z"
   },
   {
    "duration": 19,
    "start_time": "2023-11-30T18:31:59.812Z"
   },
   {
    "duration": 5,
    "start_time": "2023-11-30T18:31:59.832Z"
   },
   {
    "duration": 6,
    "start_time": "2023-11-30T18:31:59.838Z"
   },
   {
    "duration": 28,
    "start_time": "2023-11-30T18:31:59.846Z"
   },
   {
    "duration": 10,
    "start_time": "2023-11-30T18:31:59.875Z"
   },
   {
    "duration": 10,
    "start_time": "2023-11-30T18:31:59.886Z"
   },
   {
    "duration": 5,
    "start_time": "2023-11-30T18:31:59.898Z"
   },
   {
    "duration": 3,
    "start_time": "2023-11-30T18:31:59.904Z"
   },
   {
    "duration": 1035,
    "start_time": "2023-12-01T12:46:53.898Z"
   },
   {
    "duration": 68,
    "start_time": "2023-12-01T12:46:54.935Z"
   },
   {
    "duration": 11,
    "start_time": "2023-12-01T12:46:55.004Z"
   },
   {
    "duration": 8,
    "start_time": "2023-12-01T12:46:55.017Z"
   },
   {
    "duration": 8,
    "start_time": "2023-12-01T12:46:55.027Z"
   },
   {
    "duration": 13,
    "start_time": "2023-12-01T12:46:55.036Z"
   },
   {
    "duration": 21,
    "start_time": "2023-12-01T12:46:55.050Z"
   },
   {
    "duration": 8,
    "start_time": "2023-12-01T12:46:55.072Z"
   },
   {
    "duration": 3,
    "start_time": "2023-12-01T12:46:55.082Z"
   },
   {
    "duration": 7,
    "start_time": "2023-12-01T12:46:55.087Z"
   },
   {
    "duration": 8,
    "start_time": "2023-12-01T12:46:55.096Z"
   },
   {
    "duration": 29,
    "start_time": "2023-12-01T12:46:55.105Z"
   },
   {
    "duration": 7,
    "start_time": "2023-12-01T12:46:55.135Z"
   },
   {
    "duration": 15,
    "start_time": "2023-12-01T12:46:55.143Z"
   },
   {
    "duration": 6,
    "start_time": "2023-12-01T12:46:55.160Z"
   },
   {
    "duration": 35,
    "start_time": "2023-12-01T12:46:55.167Z"
   },
   {
    "duration": 16,
    "start_time": "2023-12-01T12:46:55.203Z"
   },
   {
    "duration": 27,
    "start_time": "2023-12-01T12:46:55.220Z"
   },
   {
    "duration": 20,
    "start_time": "2023-12-01T12:46:55.248Z"
   },
   {
    "duration": 165,
    "start_time": "2023-12-01T12:46:55.269Z"
   },
   {
    "duration": 81,
    "start_time": "2023-12-01T12:46:55.436Z"
   },
   {
    "duration": 181,
    "start_time": "2023-12-01T12:46:55.518Z"
   },
   {
    "duration": 103,
    "start_time": "2023-12-01T12:46:55.700Z"
   },
   {
    "duration": 252,
    "start_time": "2023-12-01T12:46:55.804Z"
   },
   {
    "duration": 211,
    "start_time": "2023-12-01T12:46:56.058Z"
   },
   {
    "duration": 127,
    "start_time": "2023-12-01T12:46:56.271Z"
   },
   {
    "duration": 163,
    "start_time": "2023-12-01T12:46:56.399Z"
   },
   {
    "duration": 210,
    "start_time": "2023-12-01T12:46:56.571Z"
   },
   {
    "duration": 264,
    "start_time": "2023-12-01T12:46:56.783Z"
   },
   {
    "duration": 121,
    "start_time": "2023-12-01T12:46:57.049Z"
   },
   {
    "duration": 101,
    "start_time": "2023-12-01T12:46:57.171Z"
   },
   {
    "duration": 26,
    "start_time": "2023-12-01T12:46:57.274Z"
   },
   {
    "duration": 16,
    "start_time": "2023-12-01T12:46:57.301Z"
   },
   {
    "duration": 18,
    "start_time": "2023-12-01T12:46:57.319Z"
   },
   {
    "duration": 262,
    "start_time": "2023-12-01T12:46:57.339Z"
   },
   {
    "duration": 261,
    "start_time": "2023-12-01T12:46:57.602Z"
   },
   {
    "duration": 258,
    "start_time": "2023-12-01T12:46:57.864Z"
   },
   {
    "duration": 210,
    "start_time": "2023-12-01T12:46:58.123Z"
   },
   {
    "duration": 220,
    "start_time": "2023-12-01T12:46:58.335Z"
   },
   {
    "duration": 215,
    "start_time": "2023-12-01T12:46:58.556Z"
   },
   {
    "duration": 291,
    "start_time": "2023-12-01T12:46:58.773Z"
   },
   {
    "duration": 334,
    "start_time": "2023-12-01T12:46:59.066Z"
   },
   {
    "duration": 322,
    "start_time": "2023-12-01T12:46:59.401Z"
   },
   {
    "duration": 7,
    "start_time": "2023-12-01T12:46:59.725Z"
   },
   {
    "duration": 12,
    "start_time": "2023-12-01T12:46:59.734Z"
   },
   {
    "duration": 29,
    "start_time": "2023-12-01T12:46:59.748Z"
   },
   {
    "duration": 22,
    "start_time": "2023-12-01T12:46:59.778Z"
   },
   {
    "duration": 14,
    "start_time": "2023-12-01T12:46:59.801Z"
   },
   {
    "duration": 12,
    "start_time": "2023-12-01T12:46:59.816Z"
   },
   {
    "duration": 40,
    "start_time": "2023-12-01T12:46:59.830Z"
   },
   {
    "duration": 4,
    "start_time": "2023-12-01T12:46:59.871Z"
   },
   {
    "duration": 5,
    "start_time": "2023-12-01T12:46:59.876Z"
   },
   {
    "duration": 14,
    "start_time": "2023-12-01T12:46:59.882Z"
   },
   {
    "duration": 12,
    "start_time": "2023-12-01T12:46:59.897Z"
   },
   {
    "duration": 17,
    "start_time": "2023-12-01T12:46:59.910Z"
   },
   {
    "duration": 43,
    "start_time": "2023-12-01T12:46:59.928Z"
   },
   {
    "duration": 47,
    "start_time": "2023-12-04T08:34:09.882Z"
   }
  ],
  "kernelspec": {
   "display_name": "Python 3 (ipykernel)",
   "language": "python",
   "name": "python3"
  },
  "language_info": {
   "codemirror_mode": {
    "name": "ipython",
    "version": 3
   },
   "file_extension": ".py",
   "mimetype": "text/x-python",
   "name": "python",
   "nbconvert_exporter": "python",
   "pygments_lexer": "ipython3",
   "version": "3.12.3"
  },
  "toc": {
   "base_numbering": 1,
   "nav_menu": {},
   "number_sections": true,
   "sideBar": true,
   "skip_h1_title": true,
   "title_cell": "Table of Contents",
   "title_sidebar": "Contents",
   "toc_cell": false,
   "toc_position": {
    "height": "calc(100% - 180px)",
    "left": "10px",
    "top": "150px",
    "width": "347px"
   },
   "toc_section_display": true,
   "toc_window_display": false
  }
 },
 "nbformat": 4,
 "nbformat_minor": 5
}
