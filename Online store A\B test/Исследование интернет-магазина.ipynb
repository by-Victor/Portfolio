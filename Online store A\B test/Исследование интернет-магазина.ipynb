{
 "cells": [
  {
   "cell_type": "markdown",
   "metadata": {},
   "source": [
    "# Исследование интернет-магазина.\n",
    "\n",
    "Вместе с отделом маркетинга нам надо подготовить список гипотез для увеличения выручки. Приоритизировать гипотезы, запустите A/B-тест и проанализировать результаты. В нашем распоряжение 3 таблицы: гипотезы, заказы и посетители.\n",
    "\n",
    "В первой части анализа нам надо сделать приоритизация гипотез. Мы имеем 9 гипотез по увеличению выручки интернет-магазина с указанными параметрами Reach, Impact, Confidence, Effort.\n",
    "   \n",
    "   Задача\n",
    " - Примените фреймворк ICE для приоритизации гипотез. Отсортируйте их по убыванию приоритета.\n",
    " - Примените фреймворк RICE для приоритизации гипотез. Отсортируйте их по убыванию приоритета.\n",
    " - Укажите, как изменилась приоритизация гипотез при применении RICE вместо ICE. Объясните, почему так произошло.\n",
    " \n",
    "Во второй части нам надо провели A/B-тест.\n",
    "\n",
    " Задача\n",
    " - Проанализируйте A/B-тест:\n",
    " - Постройте график кумулятивной выручки по группам. Сделайте выводы и предположения.\n",
    " - Постройте график кумулятивного среднего чека по группам. Сделайте выводы и предположения.\n",
    " - Постройте график относительного изменения кумулятивного среднего чека группы B к группе A. Сделайте выводы и предположения.\n",
    " - Постройте график кумулятивного среднего количества заказов на посетителя по группам. Сделайте выводы и предположения.\n",
    " - Постройте график относительного изменения кумулятивного среднего количества заказов на посетителя группы B к группе A. Сделайте выводы и предположения.\n",
    " - Постройте точечный график количества заказов по пользователям. Сделайте выводы и предположения.\n",
    " - Посчитайте 95-й и 99-й перцентили количества заказов на пользователя. Выберите границу для определения аномальных пользователей.\n",
    " - Постройте точечный график стоимостей заказов. Сделайте выводы и предположения.\n",
    " - Посчитайте 95-й и 99-й перцентили стоимости заказов. Выберите границу для определения аномальных заказов.\n",
    " - Посчитайте статистическую значимость различий в среднем количестве заказов на посетителя между группами по «сырым» данным. Сделайте выводы и предположения.\n",
    " - Посчитайте статистическую значимость различий в среднем чеке заказа между группами по «сырым» данным. Сделайте выводы и предположения.\n",
    " - Посчитайте статистическую значимость различий в среднем количестве заказов на посетителя между группами по «очищенным» данным. Сделайте выводы и предположения.\n",
    " - Посчитайте статистическую значимость различий в среднем чеке заказа между группами по «очищенным» данным. Сделайте выводы и предположения.\n",
    " - Примите решение по результатам теста и объясните его. Варианты решений:\n",
    "1. Остановить тест, зафиксировать победу одной из групп.\n",
    "2. Остановить тест, зафиксировать отсутствие различий между группами.\n",
    "3. Продолжить тест.\n"
   ]
  },
  {
   "cell_type": "markdown",
   "metadata": {},
   "source": [
    "## Часть 1. Приоритизация гипотез.\n",
    "\n",
    "В файле /datasets/hypothesis.csv 9 гипотез по увеличению выручки интернет-магазина с указанными параметрами Reach, Impact, Confidence, Effort.\n",
    "\n",
    "Задача\n",
    "\n",
    " - Примените фреймворк ICE для приоритизации гипотез. Отсортируйте их по убыванию приоритета.\n",
    " - Примените фреймворк RICE для приоритизации гипотез. Отсортируйте их по убыванию приоритета.\n",
    " - Укажите, как изменилась приоритизация гипотез при применении RICE вместо ICE. Объясните, почему так произошло."
   ]
  },
  {
   "cell_type": "code",
   "execution_count": 1,
   "metadata": {},
   "outputs": [],
   "source": [
    "import pandas as pd\n",
    "import matplotlib.pyplot as plt\n",
    "%matplotlib inline\n",
    "import numpy as np\n",
    "from scipy import stats as st\n",
    "import seaborn as sns\n",
    "import datetime as dt\n",
    "import scipy.stats as stats"
   ]
  },
  {
   "cell_type": "code",
   "execution_count": 2,
   "metadata": {},
   "outputs": [
    {
     "data": {
      "text/html": [
       "<div>\n",
       "<style scoped>\n",
       "    .dataframe tbody tr th:only-of-type {\n",
       "        vertical-align: middle;\n",
       "    }\n",
       "\n",
       "    .dataframe tbody tr th {\n",
       "        vertical-align: top;\n",
       "    }\n",
       "\n",
       "    .dataframe thead th {\n",
       "        text-align: right;\n",
       "    }\n",
       "</style>\n",
       "<table border=\"1\" class=\"dataframe\">\n",
       "  <thead>\n",
       "    <tr style=\"text-align: right;\">\n",
       "      <th></th>\n",
       "      <th>Hypothesis</th>\n",
       "      <th>Reach</th>\n",
       "      <th>Impact</th>\n",
       "      <th>Confidence</th>\n",
       "      <th>Efforts</th>\n",
       "    </tr>\n",
       "  </thead>\n",
       "  <tbody>\n",
       "    <tr>\n",
       "      <th>0</th>\n",
       "      <td>Добавить два новых канала привлечения трафика,...</td>\n",
       "      <td>3</td>\n",
       "      <td>10</td>\n",
       "      <td>8</td>\n",
       "      <td>6</td>\n",
       "    </tr>\n",
       "    <tr>\n",
       "      <th>1</th>\n",
       "      <td>Запустить собственную службу доставки, что сок...</td>\n",
       "      <td>2</td>\n",
       "      <td>5</td>\n",
       "      <td>4</td>\n",
       "      <td>10</td>\n",
       "    </tr>\n",
       "    <tr>\n",
       "      <th>2</th>\n",
       "      <td>Добавить блоки рекомендаций товаров на сайт ин...</td>\n",
       "      <td>8</td>\n",
       "      <td>3</td>\n",
       "      <td>7</td>\n",
       "      <td>3</td>\n",
       "    </tr>\n",
       "    <tr>\n",
       "      <th>3</th>\n",
       "      <td>Изменить структура категорий, что увеличит кон...</td>\n",
       "      <td>8</td>\n",
       "      <td>3</td>\n",
       "      <td>3</td>\n",
       "      <td>8</td>\n",
       "    </tr>\n",
       "    <tr>\n",
       "      <th>4</th>\n",
       "      <td>Изменить цвет фона главной страницы, чтобы уве...</td>\n",
       "      <td>3</td>\n",
       "      <td>1</td>\n",
       "      <td>1</td>\n",
       "      <td>1</td>\n",
       "    </tr>\n",
       "    <tr>\n",
       "      <th>5</th>\n",
       "      <td>Добавить страницу отзывов клиентов о магазине,...</td>\n",
       "      <td>3</td>\n",
       "      <td>2</td>\n",
       "      <td>2</td>\n",
       "      <td>3</td>\n",
       "    </tr>\n",
       "    <tr>\n",
       "      <th>6</th>\n",
       "      <td>Показать на главной странице баннеры с актуаль...</td>\n",
       "      <td>5</td>\n",
       "      <td>3</td>\n",
       "      <td>8</td>\n",
       "      <td>3</td>\n",
       "    </tr>\n",
       "    <tr>\n",
       "      <th>7</th>\n",
       "      <td>Добавить форму подписки на все основные страни...</td>\n",
       "      <td>10</td>\n",
       "      <td>7</td>\n",
       "      <td>8</td>\n",
       "      <td>5</td>\n",
       "    </tr>\n",
       "    <tr>\n",
       "      <th>8</th>\n",
       "      <td>Запустить акцию, дающую скидку на товар в день...</td>\n",
       "      <td>1</td>\n",
       "      <td>9</td>\n",
       "      <td>9</td>\n",
       "      <td>5</td>\n",
       "    </tr>\n",
       "  </tbody>\n",
       "</table>\n",
       "</div>"
      ],
      "text/plain": [
       "                                          Hypothesis  Reach  Impact  \\\n",
       "0  Добавить два новых канала привлечения трафика,...      3      10   \n",
       "1  Запустить собственную службу доставки, что сок...      2       5   \n",
       "2  Добавить блоки рекомендаций товаров на сайт ин...      8       3   \n",
       "3  Изменить структура категорий, что увеличит кон...      8       3   \n",
       "4  Изменить цвет фона главной страницы, чтобы уве...      3       1   \n",
       "5  Добавить страницу отзывов клиентов о магазине,...      3       2   \n",
       "6  Показать на главной странице баннеры с актуаль...      5       3   \n",
       "7  Добавить форму подписки на все основные страни...     10       7   \n",
       "8  Запустить акцию, дающую скидку на товар в день...      1       9   \n",
       "\n",
       "   Confidence  Efforts  \n",
       "0           8        6  \n",
       "1           4       10  \n",
       "2           7        3  \n",
       "3           3        8  \n",
       "4           1        1  \n",
       "5           2        3  \n",
       "6           8        3  \n",
       "7           8        5  \n",
       "8           9        5  "
      ]
     },
     "metadata": {},
     "output_type": "display_data"
    }
   ],
   "source": [
    "hypothesis = pd.read_csv('/datasets/hypothesis.csv')\n",
    "display(hypothesis)\n",
    "pd.options.display.max_colwidth = 400"
   ]
  },
  {
   "cell_type": "code",
   "execution_count": 3,
   "metadata": {},
   "outputs": [
    {
     "data": {
      "text/plain": [
       "Hypothesis    0\n",
       "Reach         0\n",
       "Impact        0\n",
       "Confidence    0\n",
       "Efforts       0\n",
       "dtype: int64"
      ]
     },
     "execution_count": 3,
     "metadata": {},
     "output_type": "execute_result"
    }
   ],
   "source": [
    "hypothesis.isna().sum()"
   ]
  },
  {
   "cell_type": "code",
   "execution_count": 4,
   "metadata": {},
   "outputs": [
    {
     "name": "stdout",
     "output_type": "stream",
     "text": [
      "<class 'pandas.core.frame.DataFrame'>\n",
      "RangeIndex: 9 entries, 0 to 8\n",
      "Data columns (total 5 columns):\n",
      " #   Column      Non-Null Count  Dtype \n",
      "---  ------      --------------  ----- \n",
      " 0   Hypothesis  9 non-null      object\n",
      " 1   Reach       9 non-null      int64 \n",
      " 2   Impact      9 non-null      int64 \n",
      " 3   Confidence  9 non-null      int64 \n",
      " 4   Efforts     9 non-null      int64 \n",
      "dtypes: int64(4), object(1)\n",
      "memory usage: 488.0+ bytes\n"
     ]
    }
   ],
   "source": [
    "hypothesis.info()"
   ]
  },
  {
   "cell_type": "markdown",
   "metadata": {},
   "source": [
    "### Примените фреймворк ICE для приоритизации гипотез. Отсортируйте их по убыванию приоритета."
   ]
  },
  {
   "cell_type": "code",
   "execution_count": 5,
   "metadata": {},
   "outputs": [
    {
     "data": {
      "text/html": [
       "<div>\n",
       "<style scoped>\n",
       "    .dataframe tbody tr th:only-of-type {\n",
       "        vertical-align: middle;\n",
       "    }\n",
       "\n",
       "    .dataframe tbody tr th {\n",
       "        vertical-align: top;\n",
       "    }\n",
       "\n",
       "    .dataframe thead th {\n",
       "        text-align: right;\n",
       "    }\n",
       "</style>\n",
       "<table border=\"1\" class=\"dataframe\">\n",
       "  <thead>\n",
       "    <tr style=\"text-align: right;\">\n",
       "      <th></th>\n",
       "      <th>Hypothesis</th>\n",
       "      <th>ICE</th>\n",
       "    </tr>\n",
       "  </thead>\n",
       "  <tbody>\n",
       "    <tr>\n",
       "      <th>8</th>\n",
       "      <td>Запустить акцию, дающую скидку на товар в день рождения</td>\n",
       "      <td>16.20</td>\n",
       "    </tr>\n",
       "    <tr>\n",
       "      <th>0</th>\n",
       "      <td>Добавить два новых канала привлечения трафика, что позволит привлекать на 30% больше пользователей</td>\n",
       "      <td>13.33</td>\n",
       "    </tr>\n",
       "    <tr>\n",
       "      <th>7</th>\n",
       "      <td>Добавить форму подписки на все основные страницы, чтобы собрать базу клиентов для email-рассылок</td>\n",
       "      <td>11.20</td>\n",
       "    </tr>\n",
       "    <tr>\n",
       "      <th>6</th>\n",
       "      <td>Показать на главной странице баннеры с актуальными акциями и распродажами, чтобы увеличить конверсию</td>\n",
       "      <td>8.00</td>\n",
       "    </tr>\n",
       "    <tr>\n",
       "      <th>2</th>\n",
       "      <td>Добавить блоки рекомендаций товаров на сайт интернет магазина, чтобы повысить конверсию и средний чек заказа</td>\n",
       "      <td>7.00</td>\n",
       "    </tr>\n",
       "    <tr>\n",
       "      <th>1</th>\n",
       "      <td>Запустить собственную службу доставки, что сократит срок доставки заказов</td>\n",
       "      <td>2.00</td>\n",
       "    </tr>\n",
       "    <tr>\n",
       "      <th>5</th>\n",
       "      <td>Добавить страницу отзывов клиентов о магазине, что позволит увеличить количество заказов</td>\n",
       "      <td>1.33</td>\n",
       "    </tr>\n",
       "    <tr>\n",
       "      <th>3</th>\n",
       "      <td>Изменить структура категорий, что увеличит конверсию, т.к. пользователи быстрее найдут нужный товар</td>\n",
       "      <td>1.12</td>\n",
       "    </tr>\n",
       "    <tr>\n",
       "      <th>4</th>\n",
       "      <td>Изменить цвет фона главной страницы, чтобы увеличить вовлеченность пользователей</td>\n",
       "      <td>1.00</td>\n",
       "    </tr>\n",
       "  </tbody>\n",
       "</table>\n",
       "</div>"
      ],
      "text/plain": [
       "                                                                                                     Hypothesis  \\\n",
       "8                                                       Запустить акцию, дающую скидку на товар в день рождения   \n",
       "0            Добавить два новых канала привлечения трафика, что позволит привлекать на 30% больше пользователей   \n",
       "7              Добавить форму подписки на все основные страницы, чтобы собрать базу клиентов для email-рассылок   \n",
       "6          Показать на главной странице баннеры с актуальными акциями и распродажами, чтобы увеличить конверсию   \n",
       "2  Добавить блоки рекомендаций товаров на сайт интернет магазина, чтобы повысить конверсию и средний чек заказа   \n",
       "1                                     Запустить собственную службу доставки, что сократит срок доставки заказов   \n",
       "5                      Добавить страницу отзывов клиентов о магазине, что позволит увеличить количество заказов   \n",
       "3           Изменить структура категорий, что увеличит конверсию, т.к. пользователи быстрее найдут нужный товар   \n",
       "4                              Изменить цвет фона главной страницы, чтобы увеличить вовлеченность пользователей   \n",
       "\n",
       "     ICE  \n",
       "8  16.20  \n",
       "0  13.33  \n",
       "7  11.20  \n",
       "6   8.00  \n",
       "2   7.00  \n",
       "1   2.00  \n",
       "5   1.33  \n",
       "3   1.12  \n",
       "4   1.00  "
      ]
     },
     "metadata": {},
     "output_type": "display_data"
    }
   ],
   "source": [
    "hypothesis['ICE'] = (hypothesis['Impact'] * hypothesis['Confidence']) / hypothesis['Efforts']\n",
    "hypothesis['ICE'] = round(hypothesis['ICE'], 2)\n",
    "display(hypothesis[['Hypothesis', 'ICE']].sort_values(by='ICE', ascending=False))\n",
    "pd.options.display.max_colwidth = 400"
   ]
  },
  {
   "cell_type": "markdown",
   "metadata": {},
   "source": [
    "### Примените фреймворк RICE для приоритизации гипотез. Отсортируйте их по убыванию приоритета."
   ]
  },
  {
   "cell_type": "code",
   "execution_count": 6,
   "metadata": {},
   "outputs": [
    {
     "data": {
      "text/html": [
       "<div>\n",
       "<style scoped>\n",
       "    .dataframe tbody tr th:only-of-type {\n",
       "        vertical-align: middle;\n",
       "    }\n",
       "\n",
       "    .dataframe tbody tr th {\n",
       "        vertical-align: top;\n",
       "    }\n",
       "\n",
       "    .dataframe thead th {\n",
       "        text-align: right;\n",
       "    }\n",
       "</style>\n",
       "<table border=\"1\" class=\"dataframe\">\n",
       "  <thead>\n",
       "    <tr style=\"text-align: right;\">\n",
       "      <th></th>\n",
       "      <th>Hypothesis</th>\n",
       "      <th>RICE</th>\n",
       "    </tr>\n",
       "  </thead>\n",
       "  <tbody>\n",
       "    <tr>\n",
       "      <th>7</th>\n",
       "      <td>Добавить форму подписки на все основные страницы, чтобы собрать базу клиентов для email-рассылок</td>\n",
       "      <td>112.0</td>\n",
       "    </tr>\n",
       "    <tr>\n",
       "      <th>2</th>\n",
       "      <td>Добавить блоки рекомендаций товаров на сайт интернет магазина, чтобы повысить конверсию и средний чек заказа</td>\n",
       "      <td>56.0</td>\n",
       "    </tr>\n",
       "    <tr>\n",
       "      <th>0</th>\n",
       "      <td>Добавить два новых канала привлечения трафика, что позволит привлекать на 30% больше пользователей</td>\n",
       "      <td>40.0</td>\n",
       "    </tr>\n",
       "    <tr>\n",
       "      <th>6</th>\n",
       "      <td>Показать на главной странице баннеры с актуальными акциями и распродажами, чтобы увеличить конверсию</td>\n",
       "      <td>40.0</td>\n",
       "    </tr>\n",
       "    <tr>\n",
       "      <th>8</th>\n",
       "      <td>Запустить акцию, дающую скидку на товар в день рождения</td>\n",
       "      <td>16.2</td>\n",
       "    </tr>\n",
       "    <tr>\n",
       "      <th>3</th>\n",
       "      <td>Изменить структура категорий, что увеличит конверсию, т.к. пользователи быстрее найдут нужный товар</td>\n",
       "      <td>9.0</td>\n",
       "    </tr>\n",
       "    <tr>\n",
       "      <th>1</th>\n",
       "      <td>Запустить собственную службу доставки, что сократит срок доставки заказов</td>\n",
       "      <td>4.0</td>\n",
       "    </tr>\n",
       "    <tr>\n",
       "      <th>5</th>\n",
       "      <td>Добавить страницу отзывов клиентов о магазине, что позволит увеличить количество заказов</td>\n",
       "      <td>4.0</td>\n",
       "    </tr>\n",
       "    <tr>\n",
       "      <th>4</th>\n",
       "      <td>Изменить цвет фона главной страницы, чтобы увеличить вовлеченность пользователей</td>\n",
       "      <td>3.0</td>\n",
       "    </tr>\n",
       "  </tbody>\n",
       "</table>\n",
       "</div>"
      ],
      "text/plain": [
       "                                                                                                     Hypothesis  \\\n",
       "7              Добавить форму подписки на все основные страницы, чтобы собрать базу клиентов для email-рассылок   \n",
       "2  Добавить блоки рекомендаций товаров на сайт интернет магазина, чтобы повысить конверсию и средний чек заказа   \n",
       "0            Добавить два новых канала привлечения трафика, что позволит привлекать на 30% больше пользователей   \n",
       "6          Показать на главной странице баннеры с актуальными акциями и распродажами, чтобы увеличить конверсию   \n",
       "8                                                       Запустить акцию, дающую скидку на товар в день рождения   \n",
       "3           Изменить структура категорий, что увеличит конверсию, т.к. пользователи быстрее найдут нужный товар   \n",
       "1                                     Запустить собственную службу доставки, что сократит срок доставки заказов   \n",
       "5                      Добавить страницу отзывов клиентов о магазине, что позволит увеличить количество заказов   \n",
       "4                              Изменить цвет фона главной страницы, чтобы увеличить вовлеченность пользователей   \n",
       "\n",
       "    RICE  \n",
       "7  112.0  \n",
       "2   56.0  \n",
       "0   40.0  \n",
       "6   40.0  \n",
       "8   16.2  \n",
       "3    9.0  \n",
       "1    4.0  \n",
       "5    4.0  \n",
       "4    3.0  "
      ]
     },
     "metadata": {},
     "output_type": "display_data"
    }
   ],
   "source": [
    "hypothesis['RICE'] = (hypothesis['Reach'] * hypothesis['Impact'] * hypothesis['Confidence']) / hypothesis['Efforts']\n",
    "hypothesis['RICE'] = round(hypothesis['RICE'], 2)\n",
    "display(hypothesis[['Hypothesis', 'RICE']].sort_values(by='RICE', ascending=False))"
   ]
  },
  {
   "cell_type": "markdown",
   "metadata": {},
   "source": [
    "### Укажите, как изменилась приоритизация гипотез при применении RICE вместо ICE. Объясните, почему так произошло."
   ]
  },
  {
   "cell_type": "code",
   "execution_count": 7,
   "metadata": {},
   "outputs": [],
   "source": [
    "rice_data = (hypothesis[['RICE','Hypothesis']].sort_values(by='RICE', ascending=False))\n",
    "ice_data = (hypothesis[['ICE','Hypothesis']].sort_values(by='ICE', ascending=False))"
   ]
  },
  {
   "cell_type": "code",
   "execution_count": 8,
   "metadata": {},
   "outputs": [
    {
     "data": {
      "text/html": [
       "<style  type=\"text/css\" >\n",
       "#T_36a85_row0_col0,#T_36a85_row4_col2{\n",
       "            background-color:  #008000;\n",
       "            color:  #f1f1f1;\n",
       "        }#T_36a85_row0_col2{\n",
       "            background-color:  #4da64d;\n",
       "            color:  #000000;\n",
       "        }#T_36a85_row1_col0{\n",
       "            background-color:  #78bb78;\n",
       "            color:  #000000;\n",
       "        }#T_36a85_row1_col2{\n",
       "            background-color:  #8ec58e;\n",
       "            color:  #000000;\n",
       "        }#T_36a85_row2_col0,#T_36a85_row3_col0{\n",
       "            background-color:  #9bcc9b;\n",
       "            color:  #000000;\n",
       "        }#T_36a85_row2_col2{\n",
       "            background-color:  #2c962c;\n",
       "            color:  #000000;\n",
       "        }#T_36a85_row3_col2{\n",
       "            background-color:  #7fbe7f;\n",
       "            color:  #000000;\n",
       "        }#T_36a85_row4_col0{\n",
       "            background-color:  #cee5ce;\n",
       "            color:  #000000;\n",
       "        }#T_36a85_row5_col0{\n",
       "            background-color:  #deedde;\n",
       "            color:  #000000;\n",
       "        }#T_36a85_row5_col2,#T_36a85_row6_col0,#T_36a85_row7_col0{\n",
       "            background-color:  #e9f2e9;\n",
       "            color:  #000000;\n",
       "        }#T_36a85_row6_col2{\n",
       "            background-color:  #dcecdc;\n",
       "            color:  #000000;\n",
       "        }#T_36a85_row7_col2{\n",
       "            background-color:  #e6f1e6;\n",
       "            color:  #000000;\n",
       "        }#T_36a85_row8_col0,#T_36a85_row8_col2{\n",
       "            background-color:  #ebf3eb;\n",
       "            color:  #000000;\n",
       "        }</style><table id=\"T_36a85_\" ><thead>    <tr>        <th class=\"blank level0\" ></th>        <th class=\"col_heading level0 col0\" >RICE</th>        <th class=\"col_heading level0 col1\" >Hypothesis</th>        <th class=\"col_heading level0 col2\" >ICE</th>    </tr></thead><tbody>\n",
       "                <tr>\n",
       "                        <th id=\"T_36a85_level0_row0\" class=\"row_heading level0 row0\" >0</th>\n",
       "                        <td id=\"T_36a85_row0_col0\" class=\"data row0 col0\" >112.000000</td>\n",
       "                        <td id=\"T_36a85_row0_col1\" class=\"data row0 col1\" >Добавить форму подписки на все основные страницы, чтобы собрать базу клиентов для email-рассылок</td>\n",
       "                        <td id=\"T_36a85_row0_col2\" class=\"data row0 col2\" >11.200000</td>\n",
       "            </tr>\n",
       "            <tr>\n",
       "                        <th id=\"T_36a85_level0_row1\" class=\"row_heading level0 row1\" >1</th>\n",
       "                        <td id=\"T_36a85_row1_col0\" class=\"data row1 col0\" >56.000000</td>\n",
       "                        <td id=\"T_36a85_row1_col1\" class=\"data row1 col1\" >Добавить блоки рекомендаций товаров на сайт интернет магазина, чтобы повысить конверсию и средний чек заказа</td>\n",
       "                        <td id=\"T_36a85_row1_col2\" class=\"data row1 col2\" >7.000000</td>\n",
       "            </tr>\n",
       "            <tr>\n",
       "                        <th id=\"T_36a85_level0_row2\" class=\"row_heading level0 row2\" >2</th>\n",
       "                        <td id=\"T_36a85_row2_col0\" class=\"data row2 col0\" >40.000000</td>\n",
       "                        <td id=\"T_36a85_row2_col1\" class=\"data row2 col1\" >Добавить два новых канала привлечения трафика, что позволит привлекать на 30% больше пользователей</td>\n",
       "                        <td id=\"T_36a85_row2_col2\" class=\"data row2 col2\" >13.330000</td>\n",
       "            </tr>\n",
       "            <tr>\n",
       "                        <th id=\"T_36a85_level0_row3\" class=\"row_heading level0 row3\" >3</th>\n",
       "                        <td id=\"T_36a85_row3_col0\" class=\"data row3 col0\" >40.000000</td>\n",
       "                        <td id=\"T_36a85_row3_col1\" class=\"data row3 col1\" >Показать на главной странице баннеры с актуальными акциями и распродажами, чтобы увеличить конверсию</td>\n",
       "                        <td id=\"T_36a85_row3_col2\" class=\"data row3 col2\" >8.000000</td>\n",
       "            </tr>\n",
       "            <tr>\n",
       "                        <th id=\"T_36a85_level0_row4\" class=\"row_heading level0 row4\" >4</th>\n",
       "                        <td id=\"T_36a85_row4_col0\" class=\"data row4 col0\" >16.200000</td>\n",
       "                        <td id=\"T_36a85_row4_col1\" class=\"data row4 col1\" >Запустить акцию, дающую скидку на товар в день рождения</td>\n",
       "                        <td id=\"T_36a85_row4_col2\" class=\"data row4 col2\" >16.200000</td>\n",
       "            </tr>\n",
       "            <tr>\n",
       "                        <th id=\"T_36a85_level0_row5\" class=\"row_heading level0 row5\" >5</th>\n",
       "                        <td id=\"T_36a85_row5_col0\" class=\"data row5 col0\" >9.000000</td>\n",
       "                        <td id=\"T_36a85_row5_col1\" class=\"data row5 col1\" >Изменить структура категорий, что увеличит конверсию, т.к. пользователи быстрее найдут нужный товар</td>\n",
       "                        <td id=\"T_36a85_row5_col2\" class=\"data row5 col2\" >1.120000</td>\n",
       "            </tr>\n",
       "            <tr>\n",
       "                        <th id=\"T_36a85_level0_row6\" class=\"row_heading level0 row6\" >6</th>\n",
       "                        <td id=\"T_36a85_row6_col0\" class=\"data row6 col0\" >4.000000</td>\n",
       "                        <td id=\"T_36a85_row6_col1\" class=\"data row6 col1\" >Запустить собственную службу доставки, что сократит срок доставки заказов</td>\n",
       "                        <td id=\"T_36a85_row6_col2\" class=\"data row6 col2\" >2.000000</td>\n",
       "            </tr>\n",
       "            <tr>\n",
       "                        <th id=\"T_36a85_level0_row7\" class=\"row_heading level0 row7\" >7</th>\n",
       "                        <td id=\"T_36a85_row7_col0\" class=\"data row7 col0\" >4.000000</td>\n",
       "                        <td id=\"T_36a85_row7_col1\" class=\"data row7 col1\" >Добавить страницу отзывов клиентов о магазине, что позволит увеличить количество заказов</td>\n",
       "                        <td id=\"T_36a85_row7_col2\" class=\"data row7 col2\" >1.330000</td>\n",
       "            </tr>\n",
       "            <tr>\n",
       "                        <th id=\"T_36a85_level0_row8\" class=\"row_heading level0 row8\" >8</th>\n",
       "                        <td id=\"T_36a85_row8_col0\" class=\"data row8 col0\" >3.000000</td>\n",
       "                        <td id=\"T_36a85_row8_col1\" class=\"data row8 col1\" >Изменить цвет фона главной страницы, чтобы увеличить вовлеченность пользователей</td>\n",
       "                        <td id=\"T_36a85_row8_col2\" class=\"data row8 col2\" >1.000000</td>\n",
       "            </tr>\n",
       "    </tbody></table>"
      ],
      "text/plain": [
       "<pandas.io.formats.style.Styler at 0x7f69d21d69a0>"
      ]
     },
     "execution_count": 8,
     "metadata": {},
     "output_type": "execute_result"
    }
   ],
   "source": [
    "tmp = rice_data.merge(ice_data, on = 'Hypothesis')\n",
    "cm = sns.light_palette(\"green\", as_cmap=True)\n",
    "tmp.style.background_gradient(cmap=cm)"
   ]
  },
  {
   "cell_type": "markdown",
   "metadata": {},
   "source": [
    "Различие в выведенных данных связано с тем что в RICE используют отхват пользователей, а в ICE охват не используют."
   ]
  },
  {
   "cell_type": "markdown",
   "metadata": {},
   "source": [
    "## Часть 2. Анализ A/B-теста\n",
    "\n",
    "Вы провели A/B-тест и получили результаты, которые описаны в файлах /datasets/orders.csv и /datasets/visitors.csv.\n",
    "\n",
    "Задача\n",
    "\n",
    "Проанализируйте A/B-тест:\n",
    " - Постройте график кумулятивной выручки по группам. Сделайте выводы и предположения.\n",
    " - Постройте график кумулятивного среднего чека по группам. Сделайте выводы и предположения.\n",
    " - Постройте график относительного изменения кумулятивного среднего чека группы B к группе A. Сделайте выводы и предположения.\n",
    " - Постройте график кумулятивного среднего количества заказов на посетителя по группам. Сделайте выводы и предположения.\n",
    " - Постройте график относительного изменения кумулятивного среднего количества заказов на посетителя группы B к группе A. Сделайте выводы и предположения.\n",
    " - Постройте точечный график количества заказов по пользователям. Сделайте выводы и предположения.\n",
    " - Посчитайте 95-й и 99-й перцентили количества заказов на пользователя. Выберите границу для определения аномальных пользователей.\n",
    " - Постройте точечный график стоимостей заказов. Сделайте выводы и предположения.\n",
    " - Посчитайте 95-й и 99-й перцентили стоимости заказов. Выберите границу для определения аномальных заказов.\n",
    " - Посчитайте статистическую значимость различий в среднем количестве заказов на посетителя между группами по «сырым» данным. Сделайте выводы и предположения.\n",
    " - Посчитайте статистическую значимость различий в среднем чеке заказа между группами по «сырым» данным. Сделайте выводы и предположения.\n",
    " - Посчитайте статистическую значимость различий в среднем количестве заказов на посетителя между группами по «очищенным» данным. Сделайте выводы и предположения.\n",
    " - Посчитайте статистическую значимость различий в среднем чеке заказа между группами по «очищенным» данным. Сделайте выводы и предположения.\n",
    " - Примите решение по результатам теста и объясните его. Варианты решений:\n",
    "   1. Остановить тест, зафиксировать победу одной из групп.\n",
    "   2. Остановить тест, зафиксировать отсутствие различий между группами.\n",
    "   3. Продолжить тест.\n"
   ]
  },
  {
   "cell_type": "code",
   "execution_count": 9,
   "metadata": {},
   "outputs": [
    {
     "data": {
      "text/html": [
       "<div>\n",
       "<style scoped>\n",
       "    .dataframe tbody tr th:only-of-type {\n",
       "        vertical-align: middle;\n",
       "    }\n",
       "\n",
       "    .dataframe tbody tr th {\n",
       "        vertical-align: top;\n",
       "    }\n",
       "\n",
       "    .dataframe thead th {\n",
       "        text-align: right;\n",
       "    }\n",
       "</style>\n",
       "<table border=\"1\" class=\"dataframe\">\n",
       "  <thead>\n",
       "    <tr style=\"text-align: right;\">\n",
       "      <th></th>\n",
       "      <th>transactionId</th>\n",
       "      <th>visitorId</th>\n",
       "      <th>date</th>\n",
       "      <th>revenue</th>\n",
       "      <th>group</th>\n",
       "    </tr>\n",
       "  </thead>\n",
       "  <tbody>\n",
       "    <tr>\n",
       "      <th>0</th>\n",
       "      <td>3667963787</td>\n",
       "      <td>3312258926</td>\n",
       "      <td>2019-08-15</td>\n",
       "      <td>1650</td>\n",
       "      <td>B</td>\n",
       "    </tr>\n",
       "    <tr>\n",
       "      <th>1</th>\n",
       "      <td>2804400009</td>\n",
       "      <td>3642806036</td>\n",
       "      <td>2019-08-15</td>\n",
       "      <td>730</td>\n",
       "      <td>B</td>\n",
       "    </tr>\n",
       "    <tr>\n",
       "      <th>2</th>\n",
       "      <td>2961555356</td>\n",
       "      <td>4069496402</td>\n",
       "      <td>2019-08-15</td>\n",
       "      <td>400</td>\n",
       "      <td>A</td>\n",
       "    </tr>\n",
       "    <tr>\n",
       "      <th>3</th>\n",
       "      <td>3797467345</td>\n",
       "      <td>1196621759</td>\n",
       "      <td>2019-08-15</td>\n",
       "      <td>9759</td>\n",
       "      <td>B</td>\n",
       "    </tr>\n",
       "    <tr>\n",
       "      <th>4</th>\n",
       "      <td>2282983706</td>\n",
       "      <td>2322279887</td>\n",
       "      <td>2019-08-15</td>\n",
       "      <td>2308</td>\n",
       "      <td>B</td>\n",
       "    </tr>\n",
       "    <tr>\n",
       "      <th>5</th>\n",
       "      <td>182168103</td>\n",
       "      <td>935554773</td>\n",
       "      <td>2019-08-15</td>\n",
       "      <td>2210</td>\n",
       "      <td>B</td>\n",
       "    </tr>\n",
       "    <tr>\n",
       "      <th>6</th>\n",
       "      <td>398296753</td>\n",
       "      <td>2900797465</td>\n",
       "      <td>2019-08-15</td>\n",
       "      <td>1860</td>\n",
       "      <td>B</td>\n",
       "    </tr>\n",
       "    <tr>\n",
       "      <th>7</th>\n",
       "      <td>2626614568</td>\n",
       "      <td>78758296</td>\n",
       "      <td>2019-08-15</td>\n",
       "      <td>1044</td>\n",
       "      <td>A</td>\n",
       "    </tr>\n",
       "    <tr>\n",
       "      <th>8</th>\n",
       "      <td>1576988021</td>\n",
       "      <td>295230930</td>\n",
       "      <td>2019-08-15</td>\n",
       "      <td>13710</td>\n",
       "      <td>A</td>\n",
       "    </tr>\n",
       "    <tr>\n",
       "      <th>9</th>\n",
       "      <td>1506739906</td>\n",
       "      <td>1882260405</td>\n",
       "      <td>2019-08-15</td>\n",
       "      <td>1855</td>\n",
       "      <td>B</td>\n",
       "    </tr>\n",
       "  </tbody>\n",
       "</table>\n",
       "</div>"
      ],
      "text/plain": [
       "   transactionId   visitorId        date  revenue group\n",
       "0     3667963787  3312258926  2019-08-15     1650     B\n",
       "1     2804400009  3642806036  2019-08-15      730     B\n",
       "2     2961555356  4069496402  2019-08-15      400     A\n",
       "3     3797467345  1196621759  2019-08-15     9759     B\n",
       "4     2282983706  2322279887  2019-08-15     2308     B\n",
       "5      182168103   935554773  2019-08-15     2210     B\n",
       "6      398296753  2900797465  2019-08-15     1860     B\n",
       "7     2626614568    78758296  2019-08-15     1044     A\n",
       "8     1576988021   295230930  2019-08-15    13710     A\n",
       "9     1506739906  1882260405  2019-08-15     1855     B"
      ]
     },
     "metadata": {},
     "output_type": "display_data"
    }
   ],
   "source": [
    "orders = pd.read_csv('/datasets/orders.csv')\n",
    "display(orders.head(10))"
   ]
  },
  {
   "cell_type": "code",
   "execution_count": 10,
   "metadata": {},
   "outputs": [
    {
     "data": {
      "text/html": [
       "<div>\n",
       "<style scoped>\n",
       "    .dataframe tbody tr th:only-of-type {\n",
       "        vertical-align: middle;\n",
       "    }\n",
       "\n",
       "    .dataframe tbody tr th {\n",
       "        vertical-align: top;\n",
       "    }\n",
       "\n",
       "    .dataframe thead th {\n",
       "        text-align: right;\n",
       "    }\n",
       "</style>\n",
       "<table border=\"1\" class=\"dataframe\">\n",
       "  <thead>\n",
       "    <tr style=\"text-align: right;\">\n",
       "      <th></th>\n",
       "      <th>date</th>\n",
       "      <th>group</th>\n",
       "      <th>visitors</th>\n",
       "    </tr>\n",
       "  </thead>\n",
       "  <tbody>\n",
       "    <tr>\n",
       "      <th>0</th>\n",
       "      <td>2019-08-01</td>\n",
       "      <td>A</td>\n",
       "      <td>719</td>\n",
       "    </tr>\n",
       "    <tr>\n",
       "      <th>1</th>\n",
       "      <td>2019-08-02</td>\n",
       "      <td>A</td>\n",
       "      <td>619</td>\n",
       "    </tr>\n",
       "    <tr>\n",
       "      <th>2</th>\n",
       "      <td>2019-08-03</td>\n",
       "      <td>A</td>\n",
       "      <td>507</td>\n",
       "    </tr>\n",
       "    <tr>\n",
       "      <th>3</th>\n",
       "      <td>2019-08-04</td>\n",
       "      <td>A</td>\n",
       "      <td>717</td>\n",
       "    </tr>\n",
       "    <tr>\n",
       "      <th>4</th>\n",
       "      <td>2019-08-05</td>\n",
       "      <td>A</td>\n",
       "      <td>756</td>\n",
       "    </tr>\n",
       "    <tr>\n",
       "      <th>5</th>\n",
       "      <td>2019-08-06</td>\n",
       "      <td>A</td>\n",
       "      <td>667</td>\n",
       "    </tr>\n",
       "    <tr>\n",
       "      <th>6</th>\n",
       "      <td>2019-08-07</td>\n",
       "      <td>A</td>\n",
       "      <td>644</td>\n",
       "    </tr>\n",
       "    <tr>\n",
       "      <th>7</th>\n",
       "      <td>2019-08-08</td>\n",
       "      <td>A</td>\n",
       "      <td>610</td>\n",
       "    </tr>\n",
       "    <tr>\n",
       "      <th>8</th>\n",
       "      <td>2019-08-09</td>\n",
       "      <td>A</td>\n",
       "      <td>617</td>\n",
       "    </tr>\n",
       "    <tr>\n",
       "      <th>9</th>\n",
       "      <td>2019-08-10</td>\n",
       "      <td>A</td>\n",
       "      <td>406</td>\n",
       "    </tr>\n",
       "  </tbody>\n",
       "</table>\n",
       "</div>"
      ],
      "text/plain": [
       "         date group  visitors\n",
       "0  2019-08-01     A       719\n",
       "1  2019-08-02     A       619\n",
       "2  2019-08-03     A       507\n",
       "3  2019-08-04     A       717\n",
       "4  2019-08-05     A       756\n",
       "5  2019-08-06     A       667\n",
       "6  2019-08-07     A       644\n",
       "7  2019-08-08     A       610\n",
       "8  2019-08-09     A       617\n",
       "9  2019-08-10     A       406"
      ]
     },
     "metadata": {},
     "output_type": "display_data"
    }
   ],
   "source": [
    "visitors = pd.read_csv('/datasets/visitors.csv')\n",
    "display(visitors.head(10))"
   ]
  },
  {
   "cell_type": "code",
   "execution_count": 11,
   "metadata": {},
   "outputs": [
    {
     "data": {
      "text/plain": [
       "transactionId    0\n",
       "visitorId        0\n",
       "date             0\n",
       "revenue          0\n",
       "group            0\n",
       "dtype: int64"
      ]
     },
     "execution_count": 11,
     "metadata": {},
     "output_type": "execute_result"
    }
   ],
   "source": [
    "orders.isna().sum()"
   ]
  },
  {
   "cell_type": "code",
   "execution_count": 12,
   "metadata": {},
   "outputs": [
    {
     "name": "stdout",
     "output_type": "stream",
     "text": [
      "<class 'pandas.core.frame.DataFrame'>\n",
      "RangeIndex: 1197 entries, 0 to 1196\n",
      "Data columns (total 5 columns):\n",
      " #   Column         Non-Null Count  Dtype \n",
      "---  ------         --------------  ----- \n",
      " 0   transactionId  1197 non-null   int64 \n",
      " 1   visitorId      1197 non-null   int64 \n",
      " 2   date           1197 non-null   object\n",
      " 3   revenue        1197 non-null   int64 \n",
      " 4   group          1197 non-null   object\n",
      "dtypes: int64(3), object(2)\n",
      "memory usage: 46.9+ KB\n"
     ]
    }
   ],
   "source": [
    "orders.info()"
   ]
  },
  {
   "cell_type": "code",
   "execution_count": 13,
   "metadata": {},
   "outputs": [
    {
     "data": {
      "text/plain": [
       "date        0\n",
       "group       0\n",
       "visitors    0\n",
       "dtype: int64"
      ]
     },
     "execution_count": 13,
     "metadata": {},
     "output_type": "execute_result"
    }
   ],
   "source": [
    "visitors.isna().sum()"
   ]
  },
  {
   "cell_type": "code",
   "execution_count": 14,
   "metadata": {},
   "outputs": [
    {
     "name": "stdout",
     "output_type": "stream",
     "text": [
      "<class 'pandas.core.frame.DataFrame'>\n",
      "RangeIndex: 62 entries, 0 to 61\n",
      "Data columns (total 3 columns):\n",
      " #   Column    Non-Null Count  Dtype \n",
      "---  ------    --------------  ----- \n",
      " 0   date      62 non-null     object\n",
      " 1   group     62 non-null     object\n",
      " 2   visitors  62 non-null     int64 \n",
      "dtypes: int64(1), object(2)\n",
      "memory usage: 1.6+ KB\n"
     ]
    }
   ],
   "source": [
    "visitors.info()"
   ]
  },
  {
   "cell_type": "code",
   "execution_count": 15,
   "metadata": {},
   "outputs": [],
   "source": [
    "visitors['date'] = visitors['date'].map(lambda x: dt.datetime.strptime(x, '%Y-%m-%d'))\n",
    "orders['date'] = orders['date'].map(lambda x: dt.datetime.strptime(x, '%Y-%m-%d'))\n",
    "#visitors.info()\n",
    "#orders.info()"
   ]
  },
  {
   "cell_type": "code",
   "execution_count": 16,
   "metadata": {},
   "outputs": [
    {
     "data": {
      "text/plain": [
       "group    58\n",
       "dtype: int64"
      ]
     },
     "execution_count": 16,
     "metadata": {},
     "output_type": "execute_result"
    }
   ],
   "source": [
    "orders.groupby('visitorId').agg({'group' : 'nunique'}).query('group > 1').count()"
   ]
  },
  {
   "cell_type": "code",
   "execution_count": 17,
   "metadata": {},
   "outputs": [
    {
     "data": {
      "text/html": [
       "<div>\n",
       "<style scoped>\n",
       "    .dataframe tbody tr th:only-of-type {\n",
       "        vertical-align: middle;\n",
       "    }\n",
       "\n",
       "    .dataframe tbody tr th {\n",
       "        vertical-align: top;\n",
       "    }\n",
       "\n",
       "    .dataframe thead th {\n",
       "        text-align: right;\n",
       "    }\n",
       "</style>\n",
       "<table border=\"1\" class=\"dataframe\">\n",
       "  <thead>\n",
       "    <tr style=\"text-align: right;\">\n",
       "      <th></th>\n",
       "      <th>transactionId</th>\n",
       "      <th>visitorId</th>\n",
       "      <th>date</th>\n",
       "      <th>revenue</th>\n",
       "      <th>group</th>\n",
       "    </tr>\n",
       "  </thead>\n",
       "  <tbody>\n",
       "    <tr>\n",
       "      <th>0</th>\n",
       "      <td>3667963787</td>\n",
       "      <td>3312258926</td>\n",
       "      <td>2019-08-15</td>\n",
       "      <td>1650</td>\n",
       "      <td>B</td>\n",
       "    </tr>\n",
       "    <tr>\n",
       "      <th>1</th>\n",
       "      <td>2804400009</td>\n",
       "      <td>3642806036</td>\n",
       "      <td>2019-08-15</td>\n",
       "      <td>730</td>\n",
       "      <td>B</td>\n",
       "    </tr>\n",
       "    <tr>\n",
       "      <th>3</th>\n",
       "      <td>3797467345</td>\n",
       "      <td>1196621759</td>\n",
       "      <td>2019-08-15</td>\n",
       "      <td>9759</td>\n",
       "      <td>B</td>\n",
       "    </tr>\n",
       "    <tr>\n",
       "      <th>4</th>\n",
       "      <td>2282983706</td>\n",
       "      <td>2322279887</td>\n",
       "      <td>2019-08-15</td>\n",
       "      <td>2308</td>\n",
       "      <td>B</td>\n",
       "    </tr>\n",
       "    <tr>\n",
       "      <th>5</th>\n",
       "      <td>182168103</td>\n",
       "      <td>935554773</td>\n",
       "      <td>2019-08-15</td>\n",
       "      <td>2210</td>\n",
       "      <td>B</td>\n",
       "    </tr>\n",
       "    <tr>\n",
       "      <th>...</th>\n",
       "      <td>...</td>\n",
       "      <td>...</td>\n",
       "      <td>...</td>\n",
       "      <td>...</td>\n",
       "      <td>...</td>\n",
       "    </tr>\n",
       "    <tr>\n",
       "      <th>1191</th>\n",
       "      <td>3592955527</td>\n",
       "      <td>608641596</td>\n",
       "      <td>2019-08-14</td>\n",
       "      <td>16490</td>\n",
       "      <td>B</td>\n",
       "    </tr>\n",
       "    <tr>\n",
       "      <th>1192</th>\n",
       "      <td>2662137336</td>\n",
       "      <td>3733762160</td>\n",
       "      <td>2019-08-14</td>\n",
       "      <td>6490</td>\n",
       "      <td>B</td>\n",
       "    </tr>\n",
       "    <tr>\n",
       "      <th>1193</th>\n",
       "      <td>2203539145</td>\n",
       "      <td>370388673</td>\n",
       "      <td>2019-08-14</td>\n",
       "      <td>3190</td>\n",
       "      <td>A</td>\n",
       "    </tr>\n",
       "    <tr>\n",
       "      <th>1194</th>\n",
       "      <td>1807773912</td>\n",
       "      <td>573423106</td>\n",
       "      <td>2019-08-14</td>\n",
       "      <td>10550</td>\n",
       "      <td>A</td>\n",
       "    </tr>\n",
       "    <tr>\n",
       "      <th>1196</th>\n",
       "      <td>3936777065</td>\n",
       "      <td>2108080724</td>\n",
       "      <td>2019-08-15</td>\n",
       "      <td>202740</td>\n",
       "      <td>B</td>\n",
       "    </tr>\n",
       "  </tbody>\n",
       "</table>\n",
       "<p>1016 rows × 5 columns</p>\n",
       "</div>"
      ],
      "text/plain": [
       "      transactionId   visitorId       date  revenue group\n",
       "0        3667963787  3312258926 2019-08-15     1650     B\n",
       "1        2804400009  3642806036 2019-08-15      730     B\n",
       "3        3797467345  1196621759 2019-08-15     9759     B\n",
       "4        2282983706  2322279887 2019-08-15     2308     B\n",
       "5         182168103   935554773 2019-08-15     2210     B\n",
       "...             ...         ...        ...      ...   ...\n",
       "1191     3592955527   608641596 2019-08-14    16490     B\n",
       "1192     2662137336  3733762160 2019-08-14     6490     B\n",
       "1193     2203539145   370388673 2019-08-14     3190     A\n",
       "1194     1807773912   573423106 2019-08-14    10550     A\n",
       "1196     3936777065  2108080724 2019-08-15   202740     B\n",
       "\n",
       "[1016 rows x 5 columns]"
      ]
     },
     "execution_count": 17,
     "metadata": {},
     "output_type": "execute_result"
    }
   ],
   "source": [
    "double_users = orders.groupby('visitorId').agg({'group' : 'nunique'}).reset_index().query('group > 1')['visitorId'].unique()\n",
    "orders = orders.query('visitorId not in @double_users')\n",
    "orders"
   ]
  },
  {
   "cell_type": "markdown",
   "metadata": {},
   "source": [
    "### Постройте график кумулятивной выручки по группам. Сделайте выводы и предположения."
   ]
  },
  {
   "cell_type": "code",
   "execution_count": 18,
   "metadata": {},
   "outputs": [
    {
     "data": {
      "text/html": [
       "<div>\n",
       "<style scoped>\n",
       "    .dataframe tbody tr th:only-of-type {\n",
       "        vertical-align: middle;\n",
       "    }\n",
       "\n",
       "    .dataframe tbody tr th {\n",
       "        vertical-align: top;\n",
       "    }\n",
       "\n",
       "    .dataframe thead th {\n",
       "        text-align: right;\n",
       "    }\n",
       "</style>\n",
       "<table border=\"1\" class=\"dataframe\">\n",
       "  <thead>\n",
       "    <tr style=\"text-align: right;\">\n",
       "      <th></th>\n",
       "      <th>date</th>\n",
       "      <th>group</th>\n",
       "      <th>orders</th>\n",
       "      <th>buyers</th>\n",
       "      <th>revenue</th>\n",
       "      <th>visitors</th>\n",
       "    </tr>\n",
       "  </thead>\n",
       "  <tbody>\n",
       "    <tr>\n",
       "      <th>0</th>\n",
       "      <td>2019-08-01</td>\n",
       "      <td>A</td>\n",
       "      <td>23</td>\n",
       "      <td>19</td>\n",
       "      <td>142779</td>\n",
       "      <td>719</td>\n",
       "    </tr>\n",
       "    <tr>\n",
       "      <th>1</th>\n",
       "      <td>2019-08-01</td>\n",
       "      <td>B</td>\n",
       "      <td>17</td>\n",
       "      <td>17</td>\n",
       "      <td>59758</td>\n",
       "      <td>713</td>\n",
       "    </tr>\n",
       "    <tr>\n",
       "      <th>2</th>\n",
       "      <td>2019-08-02</td>\n",
       "      <td>A</td>\n",
       "      <td>42</td>\n",
       "      <td>36</td>\n",
       "      <td>234381</td>\n",
       "      <td>1338</td>\n",
       "    </tr>\n",
       "    <tr>\n",
       "      <th>3</th>\n",
       "      <td>2019-08-02</td>\n",
       "      <td>B</td>\n",
       "      <td>40</td>\n",
       "      <td>39</td>\n",
       "      <td>221801</td>\n",
       "      <td>1294</td>\n",
       "    </tr>\n",
       "    <tr>\n",
       "      <th>4</th>\n",
       "      <td>2019-08-03</td>\n",
       "      <td>A</td>\n",
       "      <td>66</td>\n",
       "      <td>60</td>\n",
       "      <td>346854</td>\n",
       "      <td>1845</td>\n",
       "    </tr>\n",
       "    <tr>\n",
       "      <th>5</th>\n",
       "      <td>2019-08-03</td>\n",
       "      <td>B</td>\n",
       "      <td>54</td>\n",
       "      <td>53</td>\n",
       "      <td>288850</td>\n",
       "      <td>1803</td>\n",
       "    </tr>\n",
       "    <tr>\n",
       "      <th>6</th>\n",
       "      <td>2019-08-04</td>\n",
       "      <td>A</td>\n",
       "      <td>77</td>\n",
       "      <td>71</td>\n",
       "      <td>388030</td>\n",
       "      <td>2562</td>\n",
       "    </tr>\n",
       "    <tr>\n",
       "      <th>7</th>\n",
       "      <td>2019-08-04</td>\n",
       "      <td>B</td>\n",
       "      <td>68</td>\n",
       "      <td>66</td>\n",
       "      <td>385740</td>\n",
       "      <td>2573</td>\n",
       "    </tr>\n",
       "    <tr>\n",
       "      <th>8</th>\n",
       "      <td>2019-08-05</td>\n",
       "      <td>A</td>\n",
       "      <td>99</td>\n",
       "      <td>92</td>\n",
       "      <td>474413</td>\n",
       "      <td>3318</td>\n",
       "    </tr>\n",
       "    <tr>\n",
       "      <th>9</th>\n",
       "      <td>2019-08-05</td>\n",
       "      <td>B</td>\n",
       "      <td>89</td>\n",
       "      <td>87</td>\n",
       "      <td>475648</td>\n",
       "      <td>3280</td>\n",
       "    </tr>\n",
       "  </tbody>\n",
       "</table>\n",
       "</div>"
      ],
      "text/plain": [
       "        date group  orders  buyers  revenue  visitors\n",
       "0 2019-08-01     A      23      19   142779       719\n",
       "1 2019-08-01     B      17      17    59758       713\n",
       "2 2019-08-02     A      42      36   234381      1338\n",
       "3 2019-08-02     B      40      39   221801      1294\n",
       "4 2019-08-03     A      66      60   346854      1845\n",
       "5 2019-08-03     B      54      53   288850      1803\n",
       "6 2019-08-04     A      77      71   388030      2562\n",
       "7 2019-08-04     B      68      66   385740      2573\n",
       "8 2019-08-05     A      99      92   474413      3318\n",
       "9 2019-08-05     B      89      87   475648      3280"
      ]
     },
     "metadata": {},
     "output_type": "display_data"
    }
   ],
   "source": [
    "datesGroups = orders[['date', 'group']].drop_duplicates()\n",
    "\n",
    "ordersAggregated = datesGroups.apply(lambda x: orders[np.logical_and(orders['date'] <= x['date'], orders['group'] == x['group'])]\\\n",
    ".agg({'date' : 'max', 'group' : 'max', 'transactionId' : 'nunique', 'visitorId' : 'nunique', 'revenue' : 'sum'}), axis=1).sort_values(by=['date','group'])\n",
    "\n",
    "visitorsAggregated = (\n",
    "    datesGroups.apply(lambda x: visitors[np.logical_and(visitors['date'] <= x['date'], visitors['group'] == x['group'])]\n",
    "                      .agg({'date' : 'max', 'group' : 'max', 'visitors' : 'sum'}), axis=1)\n",
    "    .sort_values(by=['date','group'])\n",
    ")\n",
    "cumulativeData = ordersAggregated.merge(visitorsAggregated, left_on=['date', 'group'], right_on=['date', 'group'])\n",
    "cumulativeData.columns = ['date', 'group', 'orders', 'buyers', 'revenue', 'visitors']\n",
    "\n",
    "display(cumulativeData.head(10)) "
   ]
  },
  {
   "cell_type": "code",
   "execution_count": 19,
   "metadata": {},
   "outputs": [
    {
     "data": {
      "image/png": "[encoded data removed]",
      "text/plain": [
       "<Figure size 864x360 with 1 Axes>"
      ]
     },
     "metadata": {
      "needs_background": "light"
     },
     "output_type": "display_data"
    }
   ],
   "source": [
    "cumulativeDataA = cumulativeData[cumulativeData['group']=='A']\n",
    "cumulativeDataB = cumulativeData[cumulativeData['group']=='B']\n",
    "\n",
    "plt.figure(figsize = (12,5))\n",
    "\n",
    "plt.plot(cumulativeDataA['date'], cumulativeDataA['revenue'], label='A')\n",
    "plt.plot(cumulativeDataB['date'], cumulativeDataB['revenue'], label='B')\n",
    "\n",
    "plt.xlabel('Дата', size= 12)\n",
    "plt.ylabel('Выручка', size= 12)\n",
    "plt.title('График кумулятивной выручки по группам А/В', size= 20)\n",
    "plt.grid()\n",
    "plt.legend()\n",
    "plt.show()"
   ]
  },
  {
   "cell_type": "markdown",
   "metadata": {},
   "source": [
    "Как видно из графика группа В лидирует на всей протяженности времени по отношению к группе А."
   ]
  },
  {
   "cell_type": "markdown",
   "metadata": {},
   "source": [
    "### Постройте график кумулятивного среднего чека по группам. Сделайте выводы и предположения."
   ]
  },
  {
   "cell_type": "code",
   "execution_count": 20,
   "metadata": {},
   "outputs": [
    {
     "data": {
      "image/png": "[encoded data removed]",
      "text/plain": [
       "<Figure size 864x360 with 1 Axes>"
      ]
     },
     "metadata": {
      "needs_background": "light"
     },
     "output_type": "display_data"
    }
   ],
   "source": [
    "plt.figure(figsize = (12,5))\n",
    "\n",
    "plt.plot(cumulativeDataA['date'], cumulativeDataA['revenue']/cumulativeDataA['orders'], label='A')\n",
    "plt.plot(cumulativeDataB['date'], cumulativeDataB['revenue']/cumulativeDataB['orders'], label='B')\n",
    "\n",
    "plt.xlabel('Дата', size= 12)\n",
    "plt.ylabel('Средний чек', size= 12)\n",
    "plt.title('График кумулятивного среднего чека по группам А/В', size= 20)\n",
    "plt.grid()\n",
    "plt.legend()\n",
    "plt.show()"
   ]
  },
  {
   "cell_type": "markdown",
   "metadata": {},
   "source": [
    "С начала месяца и до 13 числа лидером была группа B, но 13 числа лидер изменился и стала группа А. Лидировала она не долго и с 17 числа средний чек резко вырос у гпуппы В до 10000. Скорее всего в этом скачке есть аномалии. В то время как у группы А в среднем с 13 числа средний чек колебался в районе 7000."
   ]
  },
  {
   "cell_type": "markdown",
   "metadata": {},
   "source": [
    "### Постройте график относительного изменения кумулятивного среднего чека группы B к группе A. Сделайте выводы и предположения."
   ]
  },
  {
   "cell_type": "code",
   "execution_count": 21,
   "metadata": {},
   "outputs": [
    {
     "data": {
      "image/png": "[encoded data removed]",
      "text/plain": [
       "<Figure size 864x360 with 1 Axes>"
      ]
     },
     "metadata": {
      "needs_background": "light"
     },
     "output_type": "display_data"
    }
   ],
   "source": [
    "mergedCumulativeRevenue = cumulativeDataA.merge(cumulativeDataB, left_on='date', right_on='date', how='left', suffixes=['A', 'B'])\n",
    "\n",
    "plt.figure(figsize = (12,5))\n",
    "plt.plot(mergedCumulativeRevenue['date'], (\n",
    "    (mergedCumulativeRevenue['revenueB']/mergedCumulativeRevenue['ordersB'])/\n",
    "    (mergedCumulativeRevenue['revenueA']/mergedCumulativeRevenue['ordersA'])-1)\n",
    "        )\n",
    "plt.xlabel('Дата', size= 12)\n",
    "plt.title('График относительного изменения кумулятивного среднего чека группы B к группе A', size= 20)\n",
    "plt.axhline(y=0, color='black', linestyle='--') \n",
    "plt.grid()"
   ]
  },
  {
   "cell_type": "markdown",
   "metadata": {},
   "source": [
    "Мы видим что с 9 по 17 число есть резкие скачки, в этом промежутке есть аномалии которые надо проверить."
   ]
  },
  {
   "cell_type": "markdown",
   "metadata": {},
   "source": [
    "### Постройте график кумулятивного среднего количества заказов на посетителя по группам. Сделайте выводы и предположения."
   ]
  },
  {
   "cell_type": "code",
   "execution_count": 22,
   "metadata": {},
   "outputs": [
    {
     "data": {
      "image/png": "[encoded data removed]",
      "text/plain": [
       "<Figure size 864x360 with 1 Axes>"
      ]
     },
     "metadata": {
      "needs_background": "light"
     },
     "output_type": "display_data"
    }
   ],
   "source": [
    "cumulativeData['conversion'] = cumulativeData['orders']/cumulativeData['visitors']\n",
    "\n",
    "cumulativeDataA = cumulativeData[cumulativeData['group']=='A']\n",
    "cumulativeDataB = cumulativeData[cumulativeData['group']=='B']\n",
    "\n",
    "plt.figure(figsize = (12,5))\n",
    "plt.plot(cumulativeDataA['date'], cumulativeDataA['conversion'], label='A')\n",
    "plt.plot(cumulativeDataB['date'], cumulativeDataB['conversion'], label='B')\n",
    "plt.xlabel('Дата', size= 12)\n",
    "plt.title('График кумулятивного среднего количества заказов на посетителя по группам', size= 20)\n",
    "plt.grid()\n",
    "plt.legend()\n",
    "plt.show()"
   ]
  },
  {
   "cell_type": "markdown",
   "metadata": {},
   "source": [
    "Конверсия группы В выглядит намного лучше конверсси группы А."
   ]
  },
  {
   "cell_type": "markdown",
   "metadata": {},
   "source": [
    "### Постройте график относительного изменения кумулятивного среднего количества заказов на посетителя группы B к группе A. Сделайте выводы и предположения."
   ]
  },
  {
   "cell_type": "code",
   "execution_count": 23,
   "metadata": {},
   "outputs": [
    {
     "data": {
      "image/png": "[encoded data removed]",
      "text/plain": [
       "<Figure size 864x360 with 1 Axes>"
      ]
     },
     "metadata": {
      "needs_background": "light"
     },
     "output_type": "display_data"
    }
   ],
   "source": [
    "mergedCumulativeConversions = cumulativeDataA[['date','conversion']].merge(cumulativeDataB[['date','conversion']], left_on='date', right_on='date', how='left', suffixes=['A', 'B'])\n",
    "\n",
    "plt.figure(figsize = (12,5))\n",
    "plt.plot(mergedCumulativeConversions['date'], mergedCumulativeConversions['conversionB']/mergedCumulativeConversions['conversionA']-1)\n",
    "plt.xlabel('Дата', size= 12)\n",
    "plt.title('График относительного изменения кумулятивного среднего количества заказов на посетителя группы B к группе A', size= 15)\n",
    "plt.axhline(y=0, color='black', linestyle='--')\n",
    "plt.axhline(y=0.1, color='grey', linestyle='--')\n",
    "plt.grid()"
   ]
  },
  {
   "cell_type": "markdown",
   "metadata": {},
   "source": [
    "По прошествию 1 недели группа В стабильно на 10% выше конверсия чем у группы А."
   ]
  },
  {
   "cell_type": "markdown",
   "metadata": {},
   "source": [
    "### Постройте точечный график количества заказов по пользователям. Сделайте выводы и предположения."
   ]
  },
  {
   "cell_type": "code",
   "execution_count": 24,
   "metadata": {},
   "outputs": [
    {
     "data": {
      "image/png": "[encoded data removed]",
      "text/plain": [
       "<Figure size 864x360 with 1 Axes>"
      ]
     },
     "metadata": {
      "needs_background": "light"
     },
     "output_type": "display_data"
    }
   ],
   "source": [
    "ordersByUsers = (\n",
    "    orders.groupby('visitorId', as_index=False)\n",
    "    .agg({'transactionId': 'nunique'})\n",
    ")\n",
    "\n",
    "ordersByUsers.columns = ['visitorId', 'orders']\n",
    " \n",
    "x_values = pd.Series(range(0,len(ordersByUsers)))\n",
    "\n",
    "plt.figure(figsize = (12,5))\n",
    "plt.grid()\n",
    "plt.title('График количества заказов по пользователям.', size= 20)\n",
    "plt.scatter(x_values, ordersByUsers['orders'])\n",
    "plt.show()"
   ]
  },
  {
   "cell_type": "markdown",
   "metadata": {},
   "source": [
    "Больше всего пользователей сделали всего 1 заказ."
   ]
  },
  {
   "cell_type": "markdown",
   "metadata": {},
   "source": [
    "### Посчитайте 95-й и 99-й перцентили количества заказов на пользователя. Выберите границу для определения аномальных пользователей."
   ]
  },
  {
   "cell_type": "code",
   "execution_count": 25,
   "metadata": {},
   "outputs": [
    {
     "name": "stdout",
     "output_type": "stream",
     "text": [
      "[1. 2.]\n"
     ]
    }
   ],
   "source": [
    "print(np.percentile(ordersByUsers['orders'], [95, 99]))"
   ]
  },
  {
   "cell_type": "markdown",
   "metadata": {},
   "source": [
    "Не больше 5% пользователей сделили больше 1 заказов, а 1% пользователей сделали больше 2 заказов."
   ]
  },
  {
   "cell_type": "markdown",
   "metadata": {},
   "source": [
    "### Постройте точечный график стоимостей заказов. Сделайте выводы и предположения."
   ]
  },
  {
   "cell_type": "code",
   "execution_count": 26,
   "metadata": {},
   "outputs": [
    {
     "data": {
      "image/png": "[encoded data removed]",
      "text/plain": [
       "<Figure size 864x360 with 1 Axes>"
      ]
     },
     "metadata": {
      "needs_background": "light"
     },
     "output_type": "display_data"
    }
   ],
   "source": [
    "x_values = pd.Series(range(0, len(orders['revenue'])))\n",
    "plt.figure(figsize = (12,5))\n",
    "plt.grid()\n",
    "plt.title('График стоимости заказов.', size= 20)\n",
    "plt.scatter(x_values, orders['revenue'])\n",
    "plt.show()"
   ]
  },
  {
   "cell_type": "markdown",
   "metadata": {},
   "source": [
    "На графике видно только 2 выброса. Один заказ на сумму свыше 1 миллиона очень сильно выделяется. Как и заказ в районе 200 тысяч. Эти заказы сильно выделяются на фоне всех остальных. Скорее всего это большик компании делали такие огромные заказы."
   ]
  },
  {
   "cell_type": "code",
   "execution_count": 27,
   "metadata": {},
   "outputs": [
    {
     "data": {
      "image/png": "[encoded data removed]",
      "text/plain": [
       "<Figure size 864x360 with 1 Axes>"
      ]
     },
     "metadata": {
      "needs_background": "light"
     },
     "output_type": "display_data"
    }
   ],
   "source": [
    "without_anomalies = orders[orders['revenue'] <= 200000]['revenue']\n",
    "x_values = pd.Series(range(0, len(without_anomalies)))\n",
    "plt.figure(figsize = (12,5))\n",
    "plt.grid()\n",
    "plt.title('График стоимости заказов.', size= 20)\n",
    "plt.scatter(x_values, without_anomalies)\n",
    "plt.show()"
   ]
  },
  {
   "cell_type": "markdown",
   "metadata": {},
   "source": [
    "На данном графике лучше видно распределение стоимости заказов. Без 2х аномалий видно что большая часть заказов расположилась около 20000."
   ]
  },
  {
   "cell_type": "markdown",
   "metadata": {},
   "source": [
    "### Посчитайте 95-й и 99-й перцентили стоимости заказов. Выберите границу для определения аномальных заказов."
   ]
  },
  {
   "cell_type": "code",
   "execution_count": 28,
   "metadata": {},
   "outputs": [
    {
     "name": "stdout",
     "output_type": "stream",
     "text": [
      "[26785. 53904.]\n"
     ]
    }
   ],
   "source": [
    "print(np.percentile(orders['revenue'], [95, 99]))"
   ]
  },
  {
   "cell_type": "markdown",
   "metadata": {},
   "source": [
    "Все что прeвышает 26785 является аномалиями."
   ]
  },
  {
   "cell_type": "markdown",
   "metadata": {},
   "source": [
    "### Посчитайте статистическую значимость различий в среднем количестве заказов на посетителя между группами по «сырым» данным. Сделайте выводы и предположения."
   ]
  },
  {
   "cell_type": "code",
   "execution_count": 29,
   "metadata": {},
   "outputs": [
    {
     "data": {
      "text/html": [
       "<div>\n",
       "<style scoped>\n",
       "    .dataframe tbody tr th:only-of-type {\n",
       "        vertical-align: middle;\n",
       "    }\n",
       "\n",
       "    .dataframe tbody tr th {\n",
       "        vertical-align: top;\n",
       "    }\n",
       "\n",
       "    .dataframe thead th {\n",
       "        text-align: right;\n",
       "    }\n",
       "</style>\n",
       "<table border=\"1\" class=\"dataframe\">\n",
       "  <thead>\n",
       "    <tr style=\"text-align: right;\">\n",
       "      <th></th>\n",
       "      <th>date</th>\n",
       "      <th>ordersPerDateA</th>\n",
       "      <th>revenuePerDateA</th>\n",
       "      <th>ordersPerDateB</th>\n",
       "      <th>revenuePerDateB</th>\n",
       "      <th>ordersCummulativeA</th>\n",
       "      <th>revenueCummulativeA</th>\n",
       "      <th>ordersCummulativeB</th>\n",
       "      <th>revenueCummulativeB</th>\n",
       "      <th>visitorsPerDateA</th>\n",
       "      <th>visitorsPerDateB</th>\n",
       "      <th>visitorsCummulativeA</th>\n",
       "      <th>visitorsCummulativeB</th>\n",
       "    </tr>\n",
       "  </thead>\n",
       "  <tbody>\n",
       "    <tr>\n",
       "      <th>0</th>\n",
       "      <td>2019-08-01</td>\n",
       "      <td>23</td>\n",
       "      <td>142779</td>\n",
       "      <td>17</td>\n",
       "      <td>59758</td>\n",
       "      <td>23</td>\n",
       "      <td>142779</td>\n",
       "      <td>17</td>\n",
       "      <td>59758</td>\n",
       "      <td>719</td>\n",
       "      <td>713</td>\n",
       "      <td>719</td>\n",
       "      <td>713</td>\n",
       "    </tr>\n",
       "    <tr>\n",
       "      <th>1</th>\n",
       "      <td>2019-08-02</td>\n",
       "      <td>19</td>\n",
       "      <td>91602</td>\n",
       "      <td>23</td>\n",
       "      <td>162043</td>\n",
       "      <td>42</td>\n",
       "      <td>234381</td>\n",
       "      <td>40</td>\n",
       "      <td>221801</td>\n",
       "      <td>619</td>\n",
       "      <td>581</td>\n",
       "      <td>1338</td>\n",
       "      <td>1294</td>\n",
       "    </tr>\n",
       "    <tr>\n",
       "      <th>2</th>\n",
       "      <td>2019-08-03</td>\n",
       "      <td>24</td>\n",
       "      <td>112473</td>\n",
       "      <td>14</td>\n",
       "      <td>67049</td>\n",
       "      <td>66</td>\n",
       "      <td>346854</td>\n",
       "      <td>54</td>\n",
       "      <td>288850</td>\n",
       "      <td>507</td>\n",
       "      <td>509</td>\n",
       "      <td>1845</td>\n",
       "      <td>1803</td>\n",
       "    </tr>\n",
       "    <tr>\n",
       "      <th>3</th>\n",
       "      <td>2019-08-04</td>\n",
       "      <td>11</td>\n",
       "      <td>41176</td>\n",
       "      <td>14</td>\n",
       "      <td>96890</td>\n",
       "      <td>77</td>\n",
       "      <td>388030</td>\n",
       "      <td>68</td>\n",
       "      <td>385740</td>\n",
       "      <td>717</td>\n",
       "      <td>770</td>\n",
       "      <td>2562</td>\n",
       "      <td>2573</td>\n",
       "    </tr>\n",
       "    <tr>\n",
       "      <th>4</th>\n",
       "      <td>2019-08-05</td>\n",
       "      <td>22</td>\n",
       "      <td>86383</td>\n",
       "      <td>21</td>\n",
       "      <td>89908</td>\n",
       "      <td>99</td>\n",
       "      <td>474413</td>\n",
       "      <td>89</td>\n",
       "      <td>475648</td>\n",
       "      <td>756</td>\n",
       "      <td>707</td>\n",
       "      <td>3318</td>\n",
       "      <td>3280</td>\n",
       "    </tr>\n",
       "  </tbody>\n",
       "</table>\n",
       "</div>"
      ],
      "text/plain": [
       "        date  ordersPerDateA  revenuePerDateA  ordersPerDateB  \\\n",
       "0 2019-08-01              23           142779              17   \n",
       "1 2019-08-02              19            91602              23   \n",
       "2 2019-08-03              24           112473              14   \n",
       "3 2019-08-04              11            41176              14   \n",
       "4 2019-08-05              22            86383              21   \n",
       "\n",
       "   revenuePerDateB  ordersCummulativeA  revenueCummulativeA  \\\n",
       "0            59758                  23               142779   \n",
       "1           162043                  42               234381   \n",
       "2            67049                  66               346854   \n",
       "3            96890                  77               388030   \n",
       "4            89908                  99               474413   \n",
       "\n",
       "   ordersCummulativeB  revenueCummulativeB  visitorsPerDateA  \\\n",
       "0                  17                59758               719   \n",
       "1                  40               221801               619   \n",
       "2                  54               288850               507   \n",
       "3                  68               385740               717   \n",
       "4                  89               475648               756   \n",
       "\n",
       "   visitorsPerDateB  visitorsCummulativeA  visitorsCummulativeB  \n",
       "0               713                   719                   713  \n",
       "1               581                  1338                  1294  \n",
       "2               509                  1845                  1803  \n",
       "3               770                  2562                  2573  \n",
       "4               707                  3318                  3280  "
      ]
     },
     "metadata": {},
     "output_type": "display_data"
    }
   ],
   "source": [
    "visitorsADaily = visitors[visitors['group'] == 'A'][['date', 'visitors']]\n",
    "visitorsADaily.columns = ['date', 'visitorsPerDateA']\n",
    "\n",
    "visitorsACummulative = visitorsADaily.apply(\n",
    "    lambda x: visitorsADaily[visitorsADaily['date'] <= x['date']].agg(\n",
    "        {'date': 'max', 'visitorsPerDateA': 'sum'}\n",
    "    ),\n",
    "    axis=1,\n",
    ")\n",
    "visitorsACummulative.columns = ['date', 'visitorsCummulativeA']\n",
    "\n",
    "visitorsBDaily = visitors[visitors['group'] == 'B'][['date', 'visitors']]\n",
    "visitorsBDaily.columns = ['date', 'visitorsPerDateB']\n",
    "\n",
    "visitorsBCummulative = visitorsBDaily.apply(\n",
    "    lambda x: visitorsBDaily[visitorsBDaily['date'] <= x['date']].agg(\n",
    "        {'date': 'max', 'visitorsPerDateB': 'sum'}\n",
    "    ),\n",
    "    axis=1,\n",
    ")\n",
    "visitorsBCummulative.columns = ['date', 'visitorsCummulativeB']\n",
    "\n",
    "ordersADaily = (\n",
    "    orders[orders['group'] == 'A'][['date', 'transactionId', 'visitorId', 'revenue']]\n",
    "    .groupby('date', as_index=False)\n",
    "    .agg({'transactionId': pd.Series.nunique, 'revenue': 'sum'})\n",
    ")\n",
    "ordersADaily.columns = ['date', 'ordersPerDateA', 'revenuePerDateA']\n",
    "\n",
    "ordersACummulative = ordersADaily.apply(\n",
    "    lambda x: ordersADaily[ordersADaily['date'] <= x['date']].agg(\n",
    "        {'date': 'max', 'ordersPerDateA': 'sum', 'revenuePerDateA': 'sum'}\n",
    "    ),\n",
    "    axis=1,\n",
    ").sort_values(by=['date'])\n",
    "ordersACummulative.columns = [\n",
    "    'date',\n",
    "    'ordersCummulativeA',\n",
    "    'revenueCummulativeA',\n",
    "]\n",
    "\n",
    "ordersBDaily = (\n",
    "    orders[orders['group'] == 'B'][['date', 'transactionId', 'visitorId', 'revenue']]\n",
    "    .groupby('date', as_index=False)\n",
    "    .agg({'transactionId': pd.Series.nunique, 'revenue': 'sum'})\n",
    ")\n",
    "ordersBDaily.columns = ['date', 'ordersPerDateB', 'revenuePerDateB']\n",
    "\n",
    "ordersBCummulative = ordersBDaily.apply(\n",
    "    lambda x: ordersBDaily[ordersBDaily['date'] <= x['date']].agg(\n",
    "        {'date': 'max', 'ordersPerDateB': 'sum', 'revenuePerDateB': 'sum'}\n",
    "    ),\n",
    "    axis=1,\n",
    ").sort_values(by=['date'])\n",
    "ordersBCummulative.columns = [\n",
    "    'date',\n",
    "    'ordersCummulativeB',\n",
    "    'revenueCummulativeB',\n",
    "]\n",
    "\n",
    "data = (\n",
    "    ordersADaily.merge(\n",
    "        ordersBDaily, left_on='date', right_on='date', how='left'\n",
    "    )\n",
    "    .merge(ordersACummulative, left_on='date', right_on='date', how='left')\n",
    "    .merge(ordersBCummulative, left_on='date', right_on='date', how='left')\n",
    "    .merge(visitorsADaily, left_on='date', right_on='date', how='left')\n",
    "    .merge(visitorsBDaily, left_on='date', right_on='date', how='left')\n",
    "    .merge(visitorsACummulative, left_on='date', right_on='date', how='left')\n",
    "    .merge(visitorsBCummulative, left_on='date', right_on='date', how='left')\n",
    ")\n",
    "\n",
    "display(data.head(5)) "
   ]
  },
  {
   "cell_type": "markdown",
   "metadata": {},
   "source": [
    "H0 - Нет различий в среднем количестве заказов на посетителя между группами.\n",
    "\n",
    "H1 - Есть различие в среднем количестве заказов на посетителя. "
   ]
  },
  {
   "cell_type": "code",
   "execution_count": 30,
   "metadata": {},
   "outputs": [
    {
     "name": "stdout",
     "output_type": "stream",
     "text": [
      "p-value: 0.011\n",
      "Относительный показатель: 0.160\n",
      "Отвергаем нулевую гипотезу: есть различие в среднем количестве заказов на посетителя\n"
     ]
    }
   ],
   "source": [
    "ordersByUsersA = (\n",
    "    orders[orders['group'] == 'A']\n",
    "    .groupby('visitorId', as_index=False)\n",
    "    .agg({'transactionId': pd.Series.nunique})\n",
    ")\n",
    "ordersByUsersA.columns = ['visitorId', 'orders']\n",
    "\n",
    "ordersByUsersB = (\n",
    "    orders[orders['group'] == 'B']\n",
    "    .groupby('visitorId', as_index=False)\n",
    "    .agg({'transactionId': pd.Series.nunique})\n",
    ")\n",
    "ordersByUsersB.columns = ['visitorId', 'orders']\n",
    "\n",
    "sampleA = pd.concat(\n",
    "    [\n",
    "        ordersByUsersA['orders'],\n",
    "        pd.Series(\n",
    "            0,\n",
    "            index=np.arange(\n",
    "                data['visitorsPerDateA'].sum() - len(ordersByUsersA['orders'])\n",
    "            ),\n",
    "            name='orders',\n",
    "        ),\n",
    "    ],\n",
    "    axis=0,\n",
    ")\n",
    "\n",
    "sampleB = pd.concat(\n",
    "    [\n",
    "        ordersByUsersB['orders'],\n",
    "        pd.Series(\n",
    "            0,\n",
    "            index=np.arange(\n",
    "                data['visitorsPerDateB'].sum() - len(ordersByUsersB['orders'])\n",
    "            ),\n",
    "            name='orders',\n",
    "        ),\n",
    "    ],\n",
    "    axis=0,\n",
    ")\n",
    "\n",
    "print(\"p-value: {0:.3f}\".format(stats.mannwhitneyu(sampleA, sampleB)[1]))\n",
    "print(\"Относительный показатель: {0:.3f}\".format(sampleB.mean() / sampleA.mean() - 1))\n",
    "\n",
    "alpha = 0.05\n",
    "\n",
    "results = stats.mannwhitneyu(sampleA, sampleB)\n",
    "\n",
    "if (results.pvalue < alpha):\n",
    "    print(\"Отвергаем нулевую гипотезу: есть различие в среднем количестве заказов на посетителя\")\n",
    "else:\n",
    "    print(\"Не получилось отвергнуть нулевую гипотезу: нет различий в среднем количестве заказов на посетителя между группами\")"
   ]
  },
  {
   "cell_type": "markdown",
   "metadata": {},
   "source": [
    "P-value меньше 0.05, значит нулевую гипотезу мы отвергаем, так как есть различия в среднем количестве заказов на посетителя между группами. Относительный показатель показывает что группа В выигрывает группу А на 16%."
   ]
  },
  {
   "cell_type": "markdown",
   "metadata": {},
   "source": [
    "### Посчитайте статистическую значимость различий в среднем чеке заказа между группами по «сырым» данным. Сделайте выводы и предположения."
   ]
  },
  {
   "cell_type": "markdown",
   "metadata": {},
   "source": [
    "H0 - Нет различий в среднем чеке заказа между группами.\n",
    "\n",
    "H1 - Есть различие в среднем чеке заказа между группами. "
   ]
  },
  {
   "cell_type": "code",
   "execution_count": 31,
   "metadata": {},
   "outputs": [
    {
     "name": "stdout",
     "output_type": "stream",
     "text": [
      "p-value: 0.829\n",
      "Относительный показатель: 0.287\n",
      "Не получилось отвергнуть нулевую гипотезу: нет различий в среднем чеке заказа между группами\n"
     ]
    }
   ],
   "source": [
    "print('p-value: {0:.3f}'.format(stats.mannwhitneyu(orders[orders['group']=='A']['revenue'], orders[orders['group']=='B']['revenue'])[1]))\n",
    "print('Относительный показатель: {0:.3f}'.format(orders[orders['group']=='B']['revenue'].mean()/orders[orders['group']=='A']['revenue'].mean()-1))\n",
    "\n",
    "alpha = 0.05\n",
    "\n",
    "results = stats.mannwhitneyu(orders[orders['group']=='A']['revenue'], orders[orders['group']=='B']['revenue'])\n",
    "\n",
    "if (results.pvalue < alpha):\n",
    "    print(\"Отвергаем нулевую гипотезу: есть различие в среднем чеке заказа между группами\")\n",
    "else:\n",
    "    print(\"Не получилось отвергнуть нулевую гипотезу: нет различий в среднем чеке заказа между группами\")"
   ]
  },
  {
   "cell_type": "markdown",
   "metadata": {},
   "source": [
    "P-value существенно больше 0.05. Исходя из этого, различий в среднем чеке заказа между группами, нет, причин отвергать нулевую гипотезу, тоже нет. Относительный показатель показывает различие среднего чека. Показатель среднего чека группы В равен 28.7% но он не является статистически значимым для изменения гипотезы."
   ]
  },
  {
   "cell_type": "markdown",
   "metadata": {},
   "source": [
    "### Посчитайте статистическую значимость различий в среднем количестве заказов на посетителя между группами по «очищенным» данным. Сделайте выводы и предположения."
   ]
  },
  {
   "cell_type": "code",
   "execution_count": 32,
   "metadata": {},
   "outputs": [
    {
     "name": "stdout",
     "output_type": "stream",
     "text": [
      "1099    148427295\n",
      "928     204675465\n",
      "33      249864742\n",
      "684     358944393\n",
      "648     382846391\n",
      "Name: visitorId, dtype: int64\n",
      "55\n"
     ]
    }
   ],
   "source": [
    "usersWithManyOrders = pd.concat(\n",
    "    [\n",
    "        ordersByUsersA[ordersByUsersA['orders'] > 2]['visitorId'],\n",
    "        ordersByUsersB[ordersByUsersB['orders'] > 2]['visitorId'],\n",
    "    ],\n",
    "    axis=0,\n",
    ")\n",
    "usersWithExpensiveOrders = orders[orders['revenue'] > 28000]['visitorId']\n",
    "abnormalUsers = (\n",
    "    pd.concat([usersWithManyOrders, usersWithExpensiveOrders], axis=0)\n",
    "    .drop_duplicates()\n",
    "    .sort_values()\n",
    ")\n",
    "print(abnormalUsers.head(5))\n",
    "print(abnormalUsers.shape[0])"
   ]
  },
  {
   "cell_type": "code",
   "execution_count": 33,
   "metadata": {},
   "outputs": [
    {
     "data": {
      "text/plain": [
       "26785.0"
      ]
     },
     "execution_count": 33,
     "metadata": {},
     "output_type": "execute_result"
    }
   ],
   "source": [
    "revenue_lim = np.percentile(orders['revenue'], 95)\n",
    "revenue_lim"
   ]
  },
  {
   "cell_type": "markdown",
   "metadata": {},
   "source": [
    "Количество аномалий 55."
   ]
  },
  {
   "cell_type": "markdown",
   "metadata": {},
   "source": [
    "H0 - Нет различий в среднем количестве заказов на посетителя между группами.\n",
    "\n",
    "H1 - Есть различие в среднем количестве заказов на посетителя. "
   ]
  },
  {
   "cell_type": "code",
   "execution_count": 34,
   "metadata": {},
   "outputs": [
    {
     "name": "stdout",
     "output_type": "stream",
     "text": [
      "p-value: 0.009\n",
      "Относительный показатель: 0.189\n",
      "Отвергаем нулевую гипотезу: есть различие в среднем количестве заказов на посетителя\n"
     ]
    }
   ],
   "source": [
    "sampleAFiltered = pd.concat(\n",
    "    [\n",
    "        ordersByUsersA[\n",
    "            np.logical_not(ordersByUsersA['visitorId'].isin(abnormalUsers))\n",
    "        ]['orders'],\n",
    "        pd.Series(\n",
    "            0,\n",
    "            index=np.arange(\n",
    "                data['visitorsPerDateA'].sum() - len(ordersByUsersA['orders'])\n",
    "            ),\n",
    "            name='orders',\n",
    "        ),\n",
    "    ],\n",
    "    axis=0,\n",
    ")\n",
    "\n",
    "sampleBFiltered = pd.concat(\n",
    "    [\n",
    "        ordersByUsersB[\n",
    "            np.logical_not(ordersByUsersB['visitorId'].isin(abnormalUsers))\n",
    "        ]['orders'],\n",
    "        pd.Series(\n",
    "            0,\n",
    "            index=np.arange(\n",
    "                data['visitorsPerDateB'].sum() - len(ordersByUsersB['orders'])\n",
    "            ),\n",
    "            name='orders',\n",
    "        ),\n",
    "    ],\n",
    "    axis=0,\n",
    ")\n",
    "\n",
    "print('p-value: {0:.3f}'.format(stats.mannwhitneyu(sampleAFiltered, sampleBFiltered)[1]))\n",
    "print('Относительный показатель: {0:.3f}'.format(sampleBFiltered.mean()/sampleAFiltered.mean()-1))\n",
    "\n",
    "alpha = 0.05\n",
    "\n",
    "results = stats.mannwhitneyu(sampleAFiltered, sampleBFiltered)\n",
    "\n",
    "if (results.pvalue < alpha):\n",
    "    print(\"Отвергаем нулевую гипотезу: есть различие в среднем количестве заказов на посетителя\")\n",
    "else:\n",
    "    print(\"Не получилось отвергнуть нулевую гипотезу: нет различий в среднем количестве заказов на посетителя между группами\")"
   ]
  },
  {
   "cell_type": "markdown",
   "metadata": {},
   "source": [
    "По 'очищенным' данным можно сказать что они критично не изменились. Мы все так же отвергаем нулевую гипотезу и группа В лучше группы А."
   ]
  },
  {
   "cell_type": "markdown",
   "metadata": {},
   "source": [
    "### Посчитайте статистическую значимость различий в среднем чеке заказа между группами по «очищенным» данным. Сделайте выводы и предположения."
   ]
  },
  {
   "cell_type": "markdown",
   "metadata": {},
   "source": [
    "H0 - Нет различий в среднем чеке заказа между группами.\n",
    "\n",
    "H1 - Есть различие в среднем чеке заказа между группами."
   ]
  },
  {
   "cell_type": "code",
   "execution_count": 35,
   "metadata": {},
   "outputs": [
    {
     "name": "stdout",
     "output_type": "stream",
     "text": [
      "p-value: 0.762\n",
      "Относительный показатель: -0.022\n",
      "Не получилось отвергнуть нулевую гипотезу: нет различий в среднем чеке заказа между группами\n"
     ]
    }
   ],
   "source": [
    "print(\n",
    "    'p-value: {0:.3f}'.format(\n",
    "        stats.mannwhitneyu(\n",
    "            orders[\n",
    "                np.logical_and(\n",
    "                    orders['group'] == 'A',\n",
    "                    np.logical_not(orders['visitorId'].isin(abnormalUsers)),\n",
    "                )\n",
    "            ]['revenue'],\n",
    "            orders[\n",
    "                np.logical_and(\n",
    "                    orders['group'] == 'B',\n",
    "                    np.logical_not(orders['visitorId'].isin(abnormalUsers)),\n",
    "                )\n",
    "            ]['revenue'],\n",
    "        )[1]\n",
    "    )\n",
    ")\n",
    "\n",
    "print(\n",
    "    \"Относительный показатель: {0:.3f}\".format(\n",
    "        orders[\n",
    "            np.logical_and(\n",
    "                orders['group'] == 'B',\n",
    "                np.logical_not(orders['visitorId'].isin(abnormalUsers)),\n",
    "            )\n",
    "        ]['revenue'].mean()\n",
    "        / orders[\n",
    "            np.logical_and(\n",
    "                orders['group'] == 'A',\n",
    "                np.logical_not(orders['visitorId'].isin(abnormalUsers)),\n",
    "            )\n",
    "        ]['revenue'].mean()\n",
    "        - 1\n",
    "    )\n",
    ")\n",
    "\n",
    "alpha = 0.05\n",
    "\n",
    "results = stats.mannwhitneyu(\n",
    "            orders[\n",
    "                np.logical_and(\n",
    "                    orders['group'] == 'A',\n",
    "                    np.logical_not(orders['visitorId'].isin(abnormalUsers)),\n",
    "                )\n",
    "            ]['revenue'],\n",
    "            orders[\n",
    "                np.logical_and(\n",
    "                    orders['group'] == 'B',\n",
    "                    np.logical_not(orders['visitorId'].isin(abnormalUsers)),\n",
    "                )\n",
    "            ]['revenue'])\n",
    "\n",
    "if (results.pvalue < alpha):\n",
    "    print(\"Отвергаем нулевую гипотезу: есть различие в среднем чеке заказа между группами\")\n",
    "else:\n",
    "    print(\"Не получилось отвергнуть нулевую гипотезу: нет различий в среднем чеке заказа между группами\")"
   ]
  },
  {
   "cell_type": "markdown",
   "metadata": {},
   "source": [
    "P-value не изменился. А вот относительный показатель изменился значительно, лидером 'сырых данных' среднего чека была группа В, а сейчас она проигрывает группе А и равна 2%. Скорее всего это связано с тем самым заказом на 1.2 миллиона. Эти 2% группы А не являются стат. значимыми."
   ]
  },
  {
   "cell_type": "markdown",
   "metadata": {},
   "source": [
    "### Примите решение по результатам теста и объясните его. Варианты решений:\n",
    " \n",
    " 1.Остановить тест, зафиксировать победу одной из групп.\n",
    " \n",
    " 2.Остановить тест, зафиксировать отсутствие различий между группами.\n",
    " \n",
    " 3.Продолжить тест."
   ]
  },
  {
   "cell_type": "markdown",
   "metadata": {},
   "source": [
    "По проведенному анализу можно сделать вывод, что группа В является более прибыльной.  Кумулятивные метрики по выручке, среднего чека и количеству заказов значительно лидирует у группы В. В среднем пользователи совершают 1-2 заказа на сумму примерно ~20000.\n",
    "Что можно сказать по «сырым»  и  «очищенным» данным, есть различие в среднем количестве заказов между группами, где лидером выступает группа В с показателем 16% по «сырым» данным, а по «очищенным» данным 18.9%. По «сырым»  и «очищенным» данным между группами А и В в среднем чеке различий нет. А вот по относительному показателю среднего чека по «сырым» данным группа В была лучше на 27.7%, в то время как, по «очищенным» данным средний чек стал ниже на 2% по сравнению с группой А (скорее всего это связано с 1 заказом на 1.2 миллиона). Делаем вывод, что можно остановить тест, зафиксировать победу одно из групп, а именно группу В."
   ]
  }
 ],
 "metadata": {
  "ExecuteTimeLog": [
   {
    "duration": 1398,
    "start_time": "2024-03-19T11:01:44.726Z"
   },
   {
    "duration": 165,
    "start_time": "2024-03-19T11:02:42.277Z"
   },
   {
    "duration": 5,
    "start_time": "2024-03-19T11:02:44.775Z"
   },
   {
    "duration": 32,
    "start_time": "2024-03-19T11:02:44.963Z"
   },
   {
    "duration": 104,
    "start_time": "2024-03-19T11:03:06.963Z"
   },
   {
    "duration": 99,
    "start_time": "2024-03-19T11:03:09.618Z"
   },
   {
    "duration": 104,
    "start_time": "2024-03-19T11:03:22.560Z"
   },
   {
    "duration": 4,
    "start_time": "2024-03-19T11:03:24.284Z"
   },
   {
    "duration": 105,
    "start_time": "2024-03-19T11:03:24.473Z"
   },
   {
    "duration": 35,
    "start_time": "2024-03-19T11:03:43.487Z"
   },
   {
    "duration": 6,
    "start_time": "2024-03-19T11:04:48.004Z"
   },
   {
    "duration": 10,
    "start_time": "2024-03-19T11:04:57.792Z"
   },
   {
    "duration": 33,
    "start_time": "2024-03-19T11:05:07.623Z"
   },
   {
    "duration": 10,
    "start_time": "2024-03-19T11:05:24.177Z"
   },
   {
    "duration": 5,
    "start_time": "2024-03-19T11:08:34.380Z"
   },
   {
    "duration": 31,
    "start_time": "2024-03-19T11:08:34.528Z"
   },
   {
    "duration": 6,
    "start_time": "2024-03-19T11:08:34.684Z"
   },
   {
    "duration": 10,
    "start_time": "2024-03-19T11:08:34.844Z"
   },
   {
    "duration": 33,
    "start_time": "2024-03-19T11:15:05.557Z"
   },
   {
    "duration": 5,
    "start_time": "2024-03-19T11:15:09.193Z"
   },
   {
    "duration": 32,
    "start_time": "2024-03-19T11:15:12.662Z"
   },
   {
    "duration": 6,
    "start_time": "2024-03-19T11:15:12.872Z"
   },
   {
    "duration": 6,
    "start_time": "2024-03-19T11:18:15.296Z"
   },
   {
    "duration": 7,
    "start_time": "2024-03-19T11:18:31.736Z"
   },
   {
    "duration": 10,
    "start_time": "2024-03-19T11:18:36.463Z"
   },
   {
    "duration": 13,
    "start_time": "2024-03-19T11:18:56.942Z"
   },
   {
    "duration": 11,
    "start_time": "2024-03-19T11:19:02.534Z"
   },
   {
    "duration": 15,
    "start_time": "2024-03-19T11:19:08.631Z"
   },
   {
    "duration": 33,
    "start_time": "2024-03-19T11:19:18.991Z"
   },
   {
    "duration": 5,
    "start_time": "2024-03-19T11:19:20.424Z"
   },
   {
    "duration": 11,
    "start_time": "2024-03-19T11:19:20.608Z"
   },
   {
    "duration": 11,
    "start_time": "2024-03-19T11:19:20.808Z"
   },
   {
    "duration": 95,
    "start_time": "2024-03-19T11:20:12.695Z"
   },
   {
    "duration": 5,
    "start_time": "2024-03-19T11:20:35.286Z"
   },
   {
    "duration": 32,
    "start_time": "2024-03-19T11:20:35.494Z"
   },
   {
    "duration": 5,
    "start_time": "2024-03-19T11:20:35.688Z"
   },
   {
    "duration": 10,
    "start_time": "2024-03-19T11:28:02.520Z"
   },
   {
    "duration": 10,
    "start_time": "2024-03-19T11:29:09.827Z"
   },
   {
    "duration": 10,
    "start_time": "2024-03-19T11:29:17.927Z"
   },
   {
    "duration": 11,
    "start_time": "2024-03-19T11:29:22.890Z"
   },
   {
    "duration": 11,
    "start_time": "2024-03-19T11:29:29.348Z"
   },
   {
    "duration": 13,
    "start_time": "2024-03-19T11:32:37.604Z"
   },
   {
    "duration": 13,
    "start_time": "2024-03-19T11:33:01.740Z"
   },
   {
    "duration": 1636,
    "start_time": "2024-03-19T11:34:14.326Z"
   },
   {
    "duration": 1568,
    "start_time": "2024-03-19T11:34:25.665Z"
   },
   {
    "duration": 11,
    "start_time": "2024-03-19T11:34:50.213Z"
   },
   {
    "duration": 11,
    "start_time": "2024-03-19T11:35:33.492Z"
   },
   {
    "duration": 11,
    "start_time": "2024-03-19T11:40:33.684Z"
   },
   {
    "duration": 9,
    "start_time": "2024-03-19T11:41:53.885Z"
   },
   {
    "duration": 10,
    "start_time": "2024-03-19T11:42:04.036Z"
   },
   {
    "duration": 9,
    "start_time": "2024-03-19T11:46:12.524Z"
   },
   {
    "duration": 8,
    "start_time": "2024-03-19T11:46:33.757Z"
   },
   {
    "duration": 12,
    "start_time": "2024-03-19T11:46:49.175Z"
   },
   {
    "duration": 15,
    "start_time": "2024-03-19T11:46:57.531Z"
   },
   {
    "duration": 12,
    "start_time": "2024-03-19T11:47:03.798Z"
   },
   {
    "duration": 92,
    "start_time": "2024-03-19T11:52:55.619Z"
   },
   {
    "duration": 56,
    "start_time": "2024-03-19T11:53:02.887Z"
   },
   {
    "duration": 75,
    "start_time": "2024-03-19T11:53:27.646Z"
   },
   {
    "duration": 6,
    "start_time": "2024-03-19T11:53:44.465Z"
   },
   {
    "duration": 5,
    "start_time": "2024-03-19T11:53:53.791Z"
   },
   {
    "duration": 11,
    "start_time": "2024-03-19T11:54:04.654Z"
   },
   {
    "duration": 10,
    "start_time": "2024-03-19T11:54:11.450Z"
   },
   {
    "duration": 6,
    "start_time": "2024-03-19T11:54:22.039Z"
   },
   {
    "duration": 9,
    "start_time": "2024-03-19T11:57:21.594Z"
   },
   {
    "duration": 5,
    "start_time": "2024-03-19T12:01:03.085Z"
   },
   {
    "duration": 11,
    "start_time": "2024-03-19T12:01:12.726Z"
   },
   {
    "duration": 17,
    "start_time": "2024-03-19T12:01:20.305Z"
   },
   {
    "duration": 2,
    "start_time": "2024-03-19T12:01:27.440Z"
   },
   {
    "duration": 1227,
    "start_time": "2024-03-21T11:33:44.326Z"
   },
   {
    "duration": 68,
    "start_time": "2024-03-21T11:33:45.555Z"
   },
   {
    "duration": 5,
    "start_time": "2024-03-21T11:33:45.624Z"
   },
   {
    "duration": 31,
    "start_time": "2024-03-21T11:33:45.630Z"
   },
   {
    "duration": 28,
    "start_time": "2024-03-21T11:33:45.663Z"
   },
   {
    "duration": 49,
    "start_time": "2024-03-21T11:33:45.693Z"
   },
   {
    "duration": 36,
    "start_time": "2024-03-21T11:33:45.743Z"
   },
   {
    "duration": 114,
    "start_time": "2024-03-21T11:33:45.780Z"
   },
   {
    "duration": 57,
    "start_time": "2024-03-21T11:33:45.896Z"
   },
   {
    "duration": 4,
    "start_time": "2024-03-21T11:33:45.954Z"
   },
   {
    "duration": 17,
    "start_time": "2024-03-21T11:33:45.959Z"
   },
   {
    "duration": 17,
    "start_time": "2024-03-21T11:33:45.977Z"
   },
   {
    "duration": 18,
    "start_time": "2024-03-21T11:33:45.995Z"
   },
   {
    "duration": 7,
    "start_time": "2024-03-21T11:33:46.014Z"
   },
   {
    "duration": 3,
    "start_time": "2024-03-21T11:33:46.022Z"
   },
   {
    "duration": 91,
    "start_time": "2024-03-21T12:54:22.139Z"
   },
   {
    "duration": 7,
    "start_time": "2024-03-21T12:54:22.313Z"
   },
   {
    "duration": 25,
    "start_time": "2024-03-21T13:23:46.865Z"
   },
   {
    "duration": 69,
    "start_time": "2024-03-21T13:38:51.338Z"
   },
   {
    "duration": 11,
    "start_time": "2024-03-21T13:40:05.900Z"
   },
   {
    "duration": 8,
    "start_time": "2024-03-21T13:40:06.515Z"
   },
   {
    "duration": 91,
    "start_time": "2024-03-21T13:40:07.049Z"
   },
   {
    "duration": 287,
    "start_time": "2024-03-21T13:41:26.063Z"
   },
   {
    "duration": 9,
    "start_time": "2024-03-21T13:41:38.787Z"
   },
   {
    "duration": 310,
    "start_time": "2024-03-21T13:41:39.753Z"
   },
   {
    "duration": 5,
    "start_time": "2024-03-21T13:41:51.453Z"
   },
   {
    "duration": 52,
    "start_time": "2024-03-21T13:41:51.460Z"
   },
   {
    "duration": 7,
    "start_time": "2024-03-21T13:41:51.514Z"
   },
   {
    "duration": 10,
    "start_time": "2024-03-21T13:41:51.522Z"
   },
   {
    "duration": 17,
    "start_time": "2024-03-21T13:41:51.534Z"
   },
   {
    "duration": 47,
    "start_time": "2024-03-21T13:41:51.552Z"
   },
   {
    "duration": 28,
    "start_time": "2024-03-21T13:41:51.600Z"
   },
   {
    "duration": 71,
    "start_time": "2024-03-21T13:41:51.629Z"
   },
   {
    "duration": 20,
    "start_time": "2024-03-21T13:41:51.702Z"
   },
   {
    "duration": 5,
    "start_time": "2024-03-21T13:41:51.724Z"
   },
   {
    "duration": 17,
    "start_time": "2024-03-21T13:41:51.730Z"
   },
   {
    "duration": 21,
    "start_time": "2024-03-21T13:41:51.749Z"
   },
   {
    "duration": 19,
    "start_time": "2024-03-21T13:41:51.771Z"
   },
   {
    "duration": 299,
    "start_time": "2024-03-21T13:41:51.792Z"
   },
   {
    "duration": 0,
    "start_time": "2024-03-21T13:41:52.093Z"
   },
   {
    "duration": 0,
    "start_time": "2024-03-21T13:41:52.094Z"
   },
   {
    "duration": 0,
    "start_time": "2024-03-21T13:41:52.095Z"
   },
   {
    "duration": 4,
    "start_time": "2024-03-21T13:43:49.783Z"
   },
   {
    "duration": 41,
    "start_time": "2024-03-21T13:43:49.788Z"
   },
   {
    "duration": 5,
    "start_time": "2024-03-21T13:43:49.830Z"
   },
   {
    "duration": 8,
    "start_time": "2024-03-21T13:43:49.836Z"
   },
   {
    "duration": 9,
    "start_time": "2024-03-21T13:43:49.846Z"
   },
   {
    "duration": 17,
    "start_time": "2024-03-21T13:43:49.856Z"
   },
   {
    "duration": 27,
    "start_time": "2024-03-21T13:43:49.874Z"
   },
   {
    "duration": 42,
    "start_time": "2024-03-21T13:43:49.902Z"
   },
   {
    "duration": 18,
    "start_time": "2024-03-21T13:43:49.946Z"
   },
   {
    "duration": 6,
    "start_time": "2024-03-21T13:43:49.965Z"
   },
   {
    "duration": 13,
    "start_time": "2024-03-21T13:43:49.973Z"
   },
   {
    "duration": 24,
    "start_time": "2024-03-21T13:43:49.988Z"
   },
   {
    "duration": 28,
    "start_time": "2024-03-21T13:43:50.014Z"
   },
   {
    "duration": 13,
    "start_time": "2024-03-21T13:43:50.045Z"
   },
   {
    "duration": 23,
    "start_time": "2024-03-21T13:43:50.060Z"
   },
   {
    "duration": 0,
    "start_time": "2024-03-21T13:43:50.085Z"
   },
   {
    "duration": 0,
    "start_time": "2024-03-21T13:43:50.086Z"
   },
   {
    "duration": 243,
    "start_time": "2024-03-21T13:45:38.890Z"
   },
   {
    "duration": 252,
    "start_time": "2024-03-21T13:47:14.301Z"
   },
   {
    "duration": 245,
    "start_time": "2024-03-21T13:47:18.149Z"
   },
   {
    "duration": 240,
    "start_time": "2024-03-21T13:47:23.799Z"
   },
   {
    "duration": 248,
    "start_time": "2024-03-21T13:47:33.083Z"
   },
   {
    "duration": 7,
    "start_time": "2024-03-21T13:49:24.431Z"
   },
   {
    "duration": 237,
    "start_time": "2024-03-21T13:49:32.746Z"
   },
   {
    "duration": 7,
    "start_time": "2024-03-21T13:49:33.794Z"
   },
   {
    "duration": 8,
    "start_time": "2024-03-21T13:51:29.158Z"
   },
   {
    "duration": 6,
    "start_time": "2024-03-21T13:52:41.653Z"
   },
   {
    "duration": 12,
    "start_time": "2024-03-21T13:53:15.410Z"
   },
   {
    "duration": 241,
    "start_time": "2024-03-21T13:53:27.549Z"
   },
   {
    "duration": 143,
    "start_time": "2024-03-21T13:53:51.417Z"
   },
   {
    "duration": 179,
    "start_time": "2024-03-21T13:57:33.010Z"
   },
   {
    "duration": 206,
    "start_time": "2024-03-21T13:57:36.433Z"
   },
   {
    "duration": 155,
    "start_time": "2024-03-21T13:57:41.386Z"
   },
   {
    "duration": 149,
    "start_time": "2024-03-21T13:57:49.348Z"
   },
   {
    "duration": 166,
    "start_time": "2024-03-21T13:57:53.502Z"
   },
   {
    "duration": 149,
    "start_time": "2024-03-21T13:57:58.863Z"
   },
   {
    "duration": 171,
    "start_time": "2024-03-21T13:58:04.960Z"
   },
   {
    "duration": 158,
    "start_time": "2024-03-21T13:58:21.413Z"
   },
   {
    "duration": 214,
    "start_time": "2024-03-21T14:03:09.053Z"
   },
   {
    "duration": 165,
    "start_time": "2024-03-21T14:03:13.474Z"
   },
   {
    "duration": 75,
    "start_time": "2024-03-21T14:03:35.752Z"
   },
   {
    "duration": 13,
    "start_time": "2024-03-21T14:03:40.787Z"
   },
   {
    "duration": 162,
    "start_time": "2024-03-21T14:03:51.425Z"
   },
   {
    "duration": 171,
    "start_time": "2024-03-21T14:04:02.274Z"
   },
   {
    "duration": 220,
    "start_time": "2024-03-21T14:04:07.045Z"
   },
   {
    "duration": 160,
    "start_time": "2024-03-21T14:04:14.938Z"
   },
   {
    "duration": 4,
    "start_time": "2024-03-21T14:04:39.625Z"
   },
   {
    "duration": 11,
    "start_time": "2024-03-21T14:04:42.474Z"
   },
   {
    "duration": 11,
    "start_time": "2024-03-21T14:04:48.534Z"
   },
   {
    "duration": 10,
    "start_time": "2024-03-21T14:07:55.975Z"
   },
   {
    "duration": 11,
    "start_time": "2024-03-21T14:07:59.589Z"
   },
   {
    "duration": 163,
    "start_time": "2024-03-21T14:08:06.114Z"
   },
   {
    "duration": 140,
    "start_time": "2024-03-21T14:08:08.979Z"
   },
   {
    "duration": 164,
    "start_time": "2024-03-21T14:08:14.966Z"
   },
   {
    "duration": 159,
    "start_time": "2024-03-21T14:08:23.612Z"
   },
   {
    "duration": 188,
    "start_time": "2024-03-21T14:08:30.296Z"
   },
   {
    "duration": 170,
    "start_time": "2024-03-21T14:08:35.833Z"
   },
   {
    "duration": 174,
    "start_time": "2024-03-21T14:08:41.365Z"
   },
   {
    "duration": 157,
    "start_time": "2024-03-21T14:08:46.546Z"
   },
   {
    "duration": 141,
    "start_time": "2024-03-21T14:09:10.808Z"
   },
   {
    "duration": 170,
    "start_time": "2024-03-21T14:09:16.201Z"
   },
   {
    "duration": 162,
    "start_time": "2024-03-21T14:09:21.113Z"
   },
   {
    "duration": 250,
    "start_time": "2024-03-21T14:09:24.788Z"
   },
   {
    "duration": 191,
    "start_time": "2024-03-21T14:11:12.715Z"
   },
   {
    "duration": 171,
    "start_time": "2024-03-21T14:13:43.387Z"
   },
   {
    "duration": 180,
    "start_time": "2024-03-21T14:14:44.147Z"
   },
   {
    "duration": 91,
    "start_time": "2024-03-21T14:23:57.704Z"
   },
   {
    "duration": 176,
    "start_time": "2024-03-21T14:24:04.407Z"
   },
   {
    "duration": 193,
    "start_time": "2024-03-21T14:24:42.806Z"
   },
   {
    "duration": 191,
    "start_time": "2024-03-21T14:25:02.003Z"
   },
   {
    "duration": 314,
    "start_time": "2024-03-21T14:34:24.091Z"
   },
   {
    "duration": 170,
    "start_time": "2024-03-21T14:34:50.945Z"
   },
   {
    "duration": 141,
    "start_time": "2024-03-21T14:35:21.770Z"
   },
   {
    "duration": 221,
    "start_time": "2024-03-21T14:35:35.767Z"
   },
   {
    "duration": 255,
    "start_time": "2024-03-21T14:35:46.787Z"
   },
   {
    "duration": 256,
    "start_time": "2024-03-21T14:35:54.930Z"
   },
   {
    "duration": 248,
    "start_time": "2024-03-21T14:40:29.935Z"
   },
   {
    "duration": 264,
    "start_time": "2024-03-21T14:40:34.669Z"
   },
   {
    "duration": 270,
    "start_time": "2024-03-21T14:40:56.563Z"
   },
   {
    "duration": 377,
    "start_time": "2024-03-21T14:41:15.108Z"
   },
   {
    "duration": 298,
    "start_time": "2024-03-21T14:41:50.036Z"
   },
   {
    "duration": 1311,
    "start_time": "2024-03-22T12:11:15.754Z"
   },
   {
    "duration": 87,
    "start_time": "2024-03-22T12:11:17.067Z"
   },
   {
    "duration": 5,
    "start_time": "2024-03-22T12:11:17.156Z"
   },
   {
    "duration": 48,
    "start_time": "2024-03-22T12:11:17.163Z"
   },
   {
    "duration": 19,
    "start_time": "2024-03-22T12:11:17.212Z"
   },
   {
    "duration": 20,
    "start_time": "2024-03-22T12:11:17.233Z"
   },
   {
    "duration": 26,
    "start_time": "2024-03-22T12:11:17.254Z"
   },
   {
    "duration": 85,
    "start_time": "2024-03-22T12:11:17.281Z"
   },
   {
    "duration": 60,
    "start_time": "2024-03-22T12:11:17.368Z"
   },
   {
    "duration": 7,
    "start_time": "2024-03-22T12:11:17.431Z"
   },
   {
    "duration": 43,
    "start_time": "2024-03-22T12:11:17.439Z"
   },
   {
    "duration": 25,
    "start_time": "2024-03-22T12:11:17.484Z"
   },
   {
    "duration": 27,
    "start_time": "2024-03-22T12:11:17.510Z"
   },
   {
    "duration": 40,
    "start_time": "2024-03-22T12:11:17.539Z"
   },
   {
    "duration": 288,
    "start_time": "2024-03-22T12:11:17.581Z"
   },
   {
    "duration": 284,
    "start_time": "2024-03-22T12:11:17.870Z"
   },
   {
    "duration": 197,
    "start_time": "2024-03-22T12:11:18.156Z"
   },
   {
    "duration": 404,
    "start_time": "2024-03-22T12:11:18.355Z"
   },
   {
    "duration": 278,
    "start_time": "2024-03-22T12:27:58.566Z"
   },
   {
    "duration": 188,
    "start_time": "2024-03-22T12:28:28.516Z"
   },
   {
    "duration": 11,
    "start_time": "2024-03-22T12:31:52.182Z"
   },
   {
    "duration": 12,
    "start_time": "2024-03-22T12:32:00.126Z"
   },
   {
    "duration": 15,
    "start_time": "2024-03-22T12:32:30.502Z"
   },
   {
    "duration": 9,
    "start_time": "2024-03-22T12:32:39.272Z"
   },
   {
    "duration": 10,
    "start_time": "2024-03-22T12:34:37.988Z"
   },
   {
    "duration": 189,
    "start_time": "2024-03-22T12:36:28.573Z"
   },
   {
    "duration": 254,
    "start_time": "2024-03-22T12:40:32.532Z"
   },
   {
    "duration": 191,
    "start_time": "2024-03-22T12:40:42.815Z"
   },
   {
    "duration": 191,
    "start_time": "2024-03-22T12:43:55.318Z"
   },
   {
    "duration": 199,
    "start_time": "2024-03-22T12:44:09.641Z"
   },
   {
    "duration": 227,
    "start_time": "2024-03-22T12:44:24.487Z"
   },
   {
    "duration": 215,
    "start_time": "2024-03-22T12:44:41.942Z"
   },
   {
    "duration": 233,
    "start_time": "2024-03-22T12:44:46.110Z"
   },
   {
    "duration": 221,
    "start_time": "2024-03-22T12:45:57.342Z"
   },
   {
    "duration": 219,
    "start_time": "2024-03-22T12:46:18.063Z"
   },
   {
    "duration": 214,
    "start_time": "2024-03-22T12:47:52.250Z"
   },
   {
    "duration": 5,
    "start_time": "2024-03-22T12:47:55.284Z"
   },
   {
    "duration": 53,
    "start_time": "2024-03-22T12:47:55.290Z"
   },
   {
    "duration": 5,
    "start_time": "2024-03-22T12:47:55.344Z"
   },
   {
    "duration": 12,
    "start_time": "2024-03-22T12:47:55.351Z"
   },
   {
    "duration": 29,
    "start_time": "2024-03-22T12:47:55.364Z"
   },
   {
    "duration": 22,
    "start_time": "2024-03-22T12:47:55.394Z"
   },
   {
    "duration": 24,
    "start_time": "2024-03-22T12:47:55.418Z"
   },
   {
    "duration": 51,
    "start_time": "2024-03-22T12:47:55.444Z"
   },
   {
    "duration": 19,
    "start_time": "2024-03-22T12:47:55.497Z"
   },
   {
    "duration": 7,
    "start_time": "2024-03-22T12:47:55.517Z"
   },
   {
    "duration": 13,
    "start_time": "2024-03-22T12:47:55.526Z"
   },
   {
    "duration": 11,
    "start_time": "2024-03-22T12:47:55.541Z"
   },
   {
    "duration": 25,
    "start_time": "2024-03-22T12:47:55.553Z"
   },
   {
    "duration": 15,
    "start_time": "2024-03-22T12:47:55.581Z"
   },
   {
    "duration": 276,
    "start_time": "2024-03-22T12:47:55.597Z"
   },
   {
    "duration": 203,
    "start_time": "2024-03-22T12:47:55.874Z"
   },
   {
    "duration": 285,
    "start_time": "2024-03-22T12:47:56.079Z"
   },
   {
    "duration": 337,
    "start_time": "2024-03-22T12:47:56.366Z"
   },
   {
    "duration": 1706,
    "start_time": "2024-03-22T12:47:56.704Z"
   },
   {
    "duration": 211,
    "start_time": "2024-03-22T12:49:57.066Z"
   },
   {
    "duration": 332,
    "start_time": "2024-03-22T13:04:17.211Z"
   },
   {
    "duration": 288,
    "start_time": "2024-03-22T13:04:21.136Z"
   },
   {
    "duration": 323,
    "start_time": "2024-03-22T13:04:46.188Z"
   },
   {
    "duration": 324,
    "start_time": "2024-03-22T13:05:13.741Z"
   },
   {
    "duration": 338,
    "start_time": "2024-03-22T13:05:27.220Z"
   },
   {
    "duration": 220,
    "start_time": "2024-03-22T13:05:31.142Z"
   },
   {
    "duration": 330,
    "start_time": "2024-03-22T13:05:54.030Z"
   },
   {
    "duration": 316,
    "start_time": "2024-03-22T13:06:16.757Z"
   },
   {
    "duration": 323,
    "start_time": "2024-03-22T13:06:23.773Z"
   },
   {
    "duration": 100,
    "start_time": "2024-03-22T13:06:51.393Z"
   },
   {
    "duration": 311,
    "start_time": "2024-03-22T13:07:03.820Z"
   },
   {
    "duration": 311,
    "start_time": "2024-03-22T13:08:08.020Z"
   },
   {
    "duration": 435,
    "start_time": "2024-03-22T13:13:18.600Z"
   },
   {
    "duration": 315,
    "start_time": "2024-03-22T13:14:37.586Z"
   },
   {
    "duration": 312,
    "start_time": "2024-03-22T13:14:55.473Z"
   },
   {
    "duration": 264,
    "start_time": "2024-03-22T13:16:46.344Z"
   },
   {
    "duration": 294,
    "start_time": "2024-03-22T13:17:11.118Z"
   },
   {
    "duration": 285,
    "start_time": "2024-03-22T13:17:16.326Z"
   },
   {
    "duration": 336,
    "start_time": "2024-03-22T13:18:05.275Z"
   },
   {
    "duration": 294,
    "start_time": "2024-03-22T13:18:10.818Z"
   },
   {
    "duration": 314,
    "start_time": "2024-03-22T13:18:16.782Z"
   },
   {
    "duration": 326,
    "start_time": "2024-03-22T13:18:28.798Z"
   },
   {
    "duration": 1375,
    "start_time": "2024-03-25T14:33:53.926Z"
   },
   {
    "duration": 79,
    "start_time": "2024-03-25T14:33:55.304Z"
   },
   {
    "duration": 6,
    "start_time": "2024-03-25T14:33:55.385Z"
   },
   {
    "duration": 84,
    "start_time": "2024-03-25T14:33:55.392Z"
   },
   {
    "duration": 16,
    "start_time": "2024-03-25T14:33:55.479Z"
   },
   {
    "duration": 15,
    "start_time": "2024-03-25T14:33:55.496Z"
   },
   {
    "duration": 45,
    "start_time": "2024-03-25T14:33:55.513Z"
   },
   {
    "duration": 110,
    "start_time": "2024-03-25T14:33:55.560Z"
   },
   {
    "duration": 74,
    "start_time": "2024-03-25T14:33:55.672Z"
   },
   {
    "duration": 5,
    "start_time": "2024-03-25T14:33:55.748Z"
   },
   {
    "duration": 31,
    "start_time": "2024-03-25T14:33:55.755Z"
   },
   {
    "duration": 10,
    "start_time": "2024-03-25T14:33:55.788Z"
   },
   {
    "duration": 21,
    "start_time": "2024-03-25T14:33:55.799Z"
   },
   {
    "duration": 18,
    "start_time": "2024-03-25T14:33:55.822Z"
   },
   {
    "duration": 298,
    "start_time": "2024-03-25T14:33:55.841Z"
   },
   {
    "duration": 313,
    "start_time": "2024-03-25T14:33:56.140Z"
   },
   {
    "duration": 215,
    "start_time": "2024-03-25T14:33:56.457Z"
   },
   {
    "duration": 372,
    "start_time": "2024-03-25T14:33:56.673Z"
   },
   {
    "duration": 272,
    "start_time": "2024-03-25T14:33:57.047Z"
   },
   {
    "duration": 352,
    "start_time": "2024-03-25T14:33:57.321Z"
   },
   {
    "duration": 238,
    "start_time": "2024-03-25T14:34:06.960Z"
   },
   {
    "duration": 97,
    "start_time": "2024-03-25T14:42:58.901Z"
   },
   {
    "duration": 200,
    "start_time": "2024-03-25T14:43:11.799Z"
   },
   {
    "duration": 122,
    "start_time": "2024-03-25T14:44:17.245Z"
   },
   {
    "duration": 9,
    "start_time": "2024-03-25T14:45:41.370Z"
   },
   {
    "duration": 14,
    "start_time": "2024-03-25T14:45:48.414Z"
   },
   {
    "duration": 11,
    "start_time": "2024-03-25T14:46:11.498Z"
   },
   {
    "duration": 14,
    "start_time": "2024-03-25T14:46:59.024Z"
   },
   {
    "duration": 13,
    "start_time": "2024-03-25T14:47:01.478Z"
   },
   {
    "duration": 10,
    "start_time": "2024-03-25T14:47:23.746Z"
   },
   {
    "duration": 109,
    "start_time": "2024-03-25T14:47:54.668Z"
   },
   {
    "duration": 111,
    "start_time": "2024-03-25T14:48:04.237Z"
   },
   {
    "duration": 120,
    "start_time": "2024-03-25T14:48:40.646Z"
   },
   {
    "duration": 118,
    "start_time": "2024-03-25T14:48:44.979Z"
   },
   {
    "duration": 172,
    "start_time": "2024-03-25T14:51:21.843Z"
   },
   {
    "duration": 145,
    "start_time": "2024-03-25T14:51:30.418Z"
   },
   {
    "duration": 164,
    "start_time": "2024-03-25T14:53:20.000Z"
   },
   {
    "duration": 143,
    "start_time": "2024-03-25T14:53:41.737Z"
   },
   {
    "duration": 131,
    "start_time": "2024-03-25T14:53:52.574Z"
   },
   {
    "duration": 131,
    "start_time": "2024-03-25T14:54:20.381Z"
   },
   {
    "duration": 138,
    "start_time": "2024-03-25T14:54:32.625Z"
   },
   {
    "duration": 133,
    "start_time": "2024-03-25T14:54:48.771Z"
   },
   {
    "duration": 297,
    "start_time": "2024-03-25T14:54:56.261Z"
   },
   {
    "duration": 312,
    "start_time": "2024-03-25T14:55:03.479Z"
   },
   {
    "duration": 344,
    "start_time": "2024-03-25T14:55:08.172Z"
   },
   {
    "duration": 210,
    "start_time": "2024-03-25T14:55:20.461Z"
   },
   {
    "duration": 215,
    "start_time": "2024-03-25T14:55:27.237Z"
   },
   {
    "duration": 215,
    "start_time": "2024-03-25T14:55:31.363Z"
   },
   {
    "duration": 178,
    "start_time": "2024-03-25T14:55:57.282Z"
   },
   {
    "duration": 193,
    "start_time": "2024-03-25T14:56:09.461Z"
   },
   {
    "duration": 312,
    "start_time": "2024-03-25T14:56:20.288Z"
   },
   {
    "duration": 320,
    "start_time": "2024-03-25T14:56:26.425Z"
   },
   {
    "duration": 218,
    "start_time": "2024-03-25T14:56:34.392Z"
   },
   {
    "duration": 322,
    "start_time": "2024-03-25T14:57:36.922Z"
   },
   {
    "duration": 296,
    "start_time": "2024-03-25T14:57:56.590Z"
   },
   {
    "duration": 298,
    "start_time": "2024-03-25T14:58:06.406Z"
   },
   {
    "duration": 150,
    "start_time": "2024-03-25T14:58:38.802Z"
   },
   {
    "duration": 242,
    "start_time": "2024-03-25T14:58:44.544Z"
   },
   {
    "duration": 5,
    "start_time": "2024-03-25T15:02:51.882Z"
   },
   {
    "duration": 5,
    "start_time": "2024-03-25T15:03:38.127Z"
   },
   {
    "duration": 4,
    "start_time": "2024-03-25T15:17:04.206Z"
   },
   {
    "duration": 4,
    "start_time": "2024-03-25T15:17:09.850Z"
   },
   {
    "duration": 134,
    "start_time": "2024-03-25T15:22:54.326Z"
   },
   {
    "duration": 141,
    "start_time": "2024-03-25T15:23:47.767Z"
   },
   {
    "duration": 152,
    "start_time": "2024-03-25T15:23:58.230Z"
   },
   {
    "duration": 167,
    "start_time": "2024-03-25T15:36:15.561Z"
   },
   {
    "duration": 5,
    "start_time": "2024-03-25T15:50:42.340Z"
   },
   {
    "duration": 19,
    "start_time": "2024-03-25T16:14:35.111Z"
   },
   {
    "duration": 16,
    "start_time": "2024-03-25T16:14:54.164Z"
   },
   {
    "duration": 160,
    "start_time": "2024-03-25T16:15:14.831Z"
   },
   {
    "duration": 171,
    "start_time": "2024-03-25T16:16:07.455Z"
   },
   {
    "duration": 1022,
    "start_time": "2024-03-25T16:16:36.323Z"
   },
   {
    "duration": 294,
    "start_time": "2024-03-25T16:17:52.264Z"
   },
   {
    "duration": 275,
    "start_time": "2024-03-25T16:18:04.300Z"
   },
   {
    "duration": 292,
    "start_time": "2024-03-25T16:18:37.868Z"
   },
   {
    "duration": 48,
    "start_time": "2024-03-26T10:47:43.631Z"
   },
   {
    "duration": 6,
    "start_time": "2024-03-26T10:47:54.986Z"
   },
   {
    "duration": 6,
    "start_time": "2024-03-26T10:48:24.850Z"
   },
   {
    "duration": 1458,
    "start_time": "2024-03-26T10:48:29.893Z"
   },
   {
    "duration": 82,
    "start_time": "2024-03-26T10:48:31.353Z"
   },
   {
    "duration": 69,
    "start_time": "2024-03-26T10:48:31.437Z"
   },
   {
    "duration": 106,
    "start_time": "2024-03-26T10:48:31.508Z"
   },
   {
    "duration": 108,
    "start_time": "2024-03-26T10:48:31.617Z"
   },
   {
    "duration": 54,
    "start_time": "2024-03-26T10:48:31.727Z"
   },
   {
    "duration": 33,
    "start_time": "2024-03-26T10:48:31.782Z"
   },
   {
    "duration": 118,
    "start_time": "2024-03-26T10:48:31.817Z"
   },
   {
    "duration": 75,
    "start_time": "2024-03-26T10:48:31.937Z"
   },
   {
    "duration": 6,
    "start_time": "2024-03-26T10:48:32.014Z"
   },
   {
    "duration": 43,
    "start_time": "2024-03-26T10:48:32.022Z"
   },
   {
    "duration": 26,
    "start_time": "2024-03-26T10:48:32.066Z"
   },
   {
    "duration": 12,
    "start_time": "2024-03-26T10:48:32.094Z"
   },
   {
    "duration": 18,
    "start_time": "2024-03-26T10:48:32.109Z"
   },
   {
    "duration": 300,
    "start_time": "2024-03-26T10:48:32.128Z"
   },
   {
    "duration": 298,
    "start_time": "2024-03-26T10:48:32.430Z"
   },
   {
    "duration": 220,
    "start_time": "2024-03-26T10:48:32.730Z"
   },
   {
    "duration": 377,
    "start_time": "2024-03-26T10:48:32.952Z"
   },
   {
    "duration": 216,
    "start_time": "2024-03-26T10:48:33.331Z"
   },
   {
    "duration": 309,
    "start_time": "2024-03-26T10:48:33.549Z"
   },
   {
    "duration": 153,
    "start_time": "2024-03-26T10:48:33.859Z"
   },
   {
    "duration": 5,
    "start_time": "2024-03-26T10:48:34.013Z"
   },
   {
    "duration": 253,
    "start_time": "2024-03-26T10:48:34.020Z"
   },
   {
    "duration": 61,
    "start_time": "2024-03-26T10:48:34.275Z"
   },
   {
    "duration": 0,
    "start_time": "2024-03-26T10:48:34.338Z"
   },
   {
    "duration": 0,
    "start_time": "2024-03-26T10:48:34.339Z"
   },
   {
    "duration": 42,
    "start_time": "2024-03-26T10:48:44.094Z"
   },
   {
    "duration": 70,
    "start_time": "2024-03-26T10:49:57.527Z"
   },
   {
    "duration": 85,
    "start_time": "2024-03-26T10:50:01.004Z"
   },
   {
    "duration": 4,
    "start_time": "2024-03-26T10:50:11.332Z"
   },
   {
    "duration": 168,
    "start_time": "2024-03-26T10:50:18.021Z"
   },
   {
    "duration": 154,
    "start_time": "2024-03-26T10:50:27.073Z"
   },
   {
    "duration": 192,
    "start_time": "2024-03-26T10:50:58.964Z"
   },
   {
    "duration": 170,
    "start_time": "2024-03-26T10:51:30.516Z"
   },
   {
    "duration": 152,
    "start_time": "2024-03-26T10:51:35.049Z"
   },
   {
    "duration": 156,
    "start_time": "2024-03-26T10:52:12.920Z"
   },
   {
    "duration": 167,
    "start_time": "2024-03-26T10:54:07.793Z"
   },
   {
    "duration": 150,
    "start_time": "2024-03-26T10:54:13.142Z"
   },
   {
    "duration": 146,
    "start_time": "2024-03-26T10:55:27.094Z"
   },
   {
    "duration": 158,
    "start_time": "2024-03-26T10:55:36.333Z"
   },
   {
    "duration": 145,
    "start_time": "2024-03-26T10:55:41.640Z"
   },
   {
    "duration": 91,
    "start_time": "2024-03-26T11:01:27.133Z"
   },
   {
    "duration": 915,
    "start_time": "2024-03-26T11:01:27.684Z"
   },
   {
    "duration": 5,
    "start_time": "2024-03-26T11:01:34.649Z"
   },
   {
    "duration": 40,
    "start_time": "2024-03-26T11:01:34.656Z"
   },
   {
    "duration": 7,
    "start_time": "2024-03-26T11:01:34.697Z"
   },
   {
    "duration": 34,
    "start_time": "2024-03-26T11:01:34.706Z"
   },
   {
    "duration": 27,
    "start_time": "2024-03-26T11:01:34.742Z"
   },
   {
    "duration": 24,
    "start_time": "2024-03-26T11:01:34.770Z"
   },
   {
    "duration": 38,
    "start_time": "2024-03-26T11:01:34.796Z"
   },
   {
    "duration": 48,
    "start_time": "2024-03-26T11:01:34.836Z"
   },
   {
    "duration": 21,
    "start_time": "2024-03-26T11:01:34.885Z"
   },
   {
    "duration": 6,
    "start_time": "2024-03-26T11:01:34.908Z"
   },
   {
    "duration": 14,
    "start_time": "2024-03-26T11:01:34.916Z"
   },
   {
    "duration": 6,
    "start_time": "2024-03-26T11:01:34.932Z"
   },
   {
    "duration": 104,
    "start_time": "2024-03-26T11:01:34.940Z"
   },
   {
    "duration": 21,
    "start_time": "2024-03-26T11:01:35.047Z"
   },
   {
    "duration": 306,
    "start_time": "2024-03-26T11:01:35.070Z"
   },
   {
    "duration": 200,
    "start_time": "2024-03-26T11:01:35.377Z"
   },
   {
    "duration": 216,
    "start_time": "2024-03-26T11:01:35.578Z"
   },
   {
    "duration": 345,
    "start_time": "2024-03-26T11:01:35.795Z"
   },
   {
    "duration": 246,
    "start_time": "2024-03-26T11:01:36.142Z"
   },
   {
    "duration": 346,
    "start_time": "2024-03-26T11:01:36.390Z"
   },
   {
    "duration": 152,
    "start_time": "2024-03-26T11:01:36.738Z"
   },
   {
    "duration": 4,
    "start_time": "2024-03-26T11:01:36.892Z"
   },
   {
    "duration": 171,
    "start_time": "2024-03-26T11:01:36.897Z"
   },
   {
    "duration": 168,
    "start_time": "2024-03-26T11:01:37.069Z"
   },
   {
    "duration": 4,
    "start_time": "2024-03-26T11:01:37.239Z"
   },
   {
    "duration": 134,
    "start_time": "2024-03-26T11:01:37.245Z"
   },
   {
    "duration": 937,
    "start_time": "2024-03-26T11:01:37.380Z"
   },
   {
    "duration": 168,
    "start_time": "2024-03-26T11:34:00.154Z"
   },
   {
    "duration": 153,
    "start_time": "2024-03-26T11:34:01.455Z"
   },
   {
    "duration": 915,
    "start_time": "2024-03-26T11:47:56.313Z"
   },
   {
    "duration": 110,
    "start_time": "2024-03-26T11:53:34.652Z"
   },
   {
    "duration": 881,
    "start_time": "2024-03-26T11:53:34.886Z"
   },
   {
    "duration": 230,
    "start_time": "2024-03-26T11:54:44.195Z"
   },
   {
    "duration": 832,
    "start_time": "2024-03-26T11:54:51.608Z"
   },
   {
    "duration": 238,
    "start_time": "2024-03-26T11:56:31.500Z"
   },
   {
    "duration": 918,
    "start_time": "2024-03-26T11:56:31.740Z"
   },
   {
    "duration": 5,
    "start_time": "2024-03-26T11:56:36.793Z"
   },
   {
    "duration": 43,
    "start_time": "2024-03-26T11:56:36.800Z"
   },
   {
    "duration": 6,
    "start_time": "2024-03-26T11:56:36.845Z"
   },
   {
    "duration": 13,
    "start_time": "2024-03-26T11:56:36.853Z"
   },
   {
    "duration": 16,
    "start_time": "2024-03-26T11:56:36.868Z"
   },
   {
    "duration": 11,
    "start_time": "2024-03-26T11:56:36.886Z"
   },
   {
    "duration": 30,
    "start_time": "2024-03-26T11:56:36.899Z"
   },
   {
    "duration": 50,
    "start_time": "2024-03-26T11:56:36.930Z"
   },
   {
    "duration": 20,
    "start_time": "2024-03-26T11:56:36.982Z"
   },
   {
    "duration": 6,
    "start_time": "2024-03-26T11:56:37.003Z"
   },
   {
    "duration": 12,
    "start_time": "2024-03-26T11:56:37.011Z"
   },
   {
    "duration": 18,
    "start_time": "2024-03-26T11:56:37.025Z"
   },
   {
    "duration": 11,
    "start_time": "2024-03-26T11:56:37.044Z"
   },
   {
    "duration": 17,
    "start_time": "2024-03-26T11:56:37.058Z"
   },
   {
    "duration": 278,
    "start_time": "2024-03-26T11:56:37.076Z"
   },
   {
    "duration": 199,
    "start_time": "2024-03-26T11:56:37.356Z"
   },
   {
    "duration": 193,
    "start_time": "2024-03-26T11:56:37.557Z"
   },
   {
    "duration": 318,
    "start_time": "2024-03-26T11:56:37.751Z"
   },
   {
    "duration": 322,
    "start_time": "2024-03-26T11:56:38.071Z"
   },
   {
    "duration": 337,
    "start_time": "2024-03-26T11:56:38.395Z"
   },
   {
    "duration": 149,
    "start_time": "2024-03-26T11:56:38.734Z"
   },
   {
    "duration": 4,
    "start_time": "2024-03-26T11:56:38.885Z"
   },
   {
    "duration": 168,
    "start_time": "2024-03-26T11:56:38.890Z"
   },
   {
    "duration": 159,
    "start_time": "2024-03-26T11:56:39.060Z"
   },
   {
    "duration": 5,
    "start_time": "2024-03-26T11:56:39.220Z"
   },
   {
    "duration": 216,
    "start_time": "2024-03-26T11:56:39.226Z"
   },
   {
    "duration": 894,
    "start_time": "2024-03-26T11:56:39.443Z"
   },
   {
    "duration": 20,
    "start_time": "2024-03-26T11:56:48.556Z"
   },
   {
    "duration": 144,
    "start_time": "2024-03-26T11:57:19.994Z"
   },
   {
    "duration": 140,
    "start_time": "2024-03-26T11:58:24.662Z"
   },
   {
    "duration": 75,
    "start_time": "2024-03-26T11:58:34.766Z"
   },
   {
    "duration": 174,
    "start_time": "2024-03-26T11:58:38.572Z"
   },
   {
    "duration": 5,
    "start_time": "2024-03-26T11:59:56.724Z"
   },
   {
    "duration": 37,
    "start_time": "2024-03-26T11:59:56.731Z"
   },
   {
    "duration": 6,
    "start_time": "2024-03-26T11:59:56.770Z"
   },
   {
    "duration": 28,
    "start_time": "2024-03-26T11:59:56.778Z"
   },
   {
    "duration": 15,
    "start_time": "2024-03-26T11:59:56.809Z"
   },
   {
    "duration": 15,
    "start_time": "2024-03-26T11:59:56.825Z"
   },
   {
    "duration": 13,
    "start_time": "2024-03-26T11:59:56.842Z"
   },
   {
    "duration": 67,
    "start_time": "2024-03-26T11:59:56.856Z"
   },
   {
    "duration": 19,
    "start_time": "2024-03-26T11:59:56.925Z"
   },
   {
    "duration": 6,
    "start_time": "2024-03-26T11:59:56.946Z"
   },
   {
    "duration": 30,
    "start_time": "2024-03-26T11:59:56.953Z"
   },
   {
    "duration": 11,
    "start_time": "2024-03-26T11:59:56.984Z"
   },
   {
    "duration": 23,
    "start_time": "2024-03-26T11:59:56.997Z"
   },
   {
    "duration": 15,
    "start_time": "2024-03-26T11:59:57.023Z"
   },
   {
    "duration": 296,
    "start_time": "2024-03-26T11:59:57.039Z"
   },
   {
    "duration": 216,
    "start_time": "2024-03-26T11:59:57.336Z"
   },
   {
    "duration": 194,
    "start_time": "2024-03-26T11:59:57.554Z"
   },
   {
    "duration": 315,
    "start_time": "2024-03-26T11:59:57.750Z"
   },
   {
    "duration": 243,
    "start_time": "2024-03-26T11:59:58.067Z"
   },
   {
    "duration": 351,
    "start_time": "2024-03-26T11:59:58.312Z"
   },
   {
    "duration": 152,
    "start_time": "2024-03-26T11:59:58.665Z"
   },
   {
    "duration": 5,
    "start_time": "2024-03-26T11:59:58.818Z"
   },
   {
    "duration": 184,
    "start_time": "2024-03-26T11:59:58.824Z"
   },
   {
    "duration": 157,
    "start_time": "2024-03-26T11:59:59.010Z"
   },
   {
    "duration": 5,
    "start_time": "2024-03-26T11:59:59.169Z"
   },
   {
    "duration": 220,
    "start_time": "2024-03-26T11:59:59.175Z"
   },
   {
    "duration": 160,
    "start_time": "2024-03-26T11:59:59.397Z"
   },
   {
    "duration": 237,
    "start_time": "2024-03-26T12:01:46.972Z"
   },
   {
    "duration": 165,
    "start_time": "2024-03-26T12:40:13.062Z"
   },
   {
    "duration": 188,
    "start_time": "2024-03-26T12:40:24.906Z"
   },
   {
    "duration": 191,
    "start_time": "2024-03-26T12:40:29.714Z"
   },
   {
    "duration": 203,
    "start_time": "2024-03-26T12:40:32.415Z"
   },
   {
    "duration": 163,
    "start_time": "2024-03-26T12:40:43.761Z"
   },
   {
    "duration": 165,
    "start_time": "2024-03-26T12:40:51.151Z"
   },
   {
    "duration": 179,
    "start_time": "2024-03-26T12:40:55.017Z"
   },
   {
    "duration": 14,
    "start_time": "2024-03-26T12:46:26.829Z"
   },
   {
    "duration": 12,
    "start_time": "2024-03-26T12:48:44.410Z"
   },
   {
    "duration": 5,
    "start_time": "2024-03-26T14:21:52.954Z"
   },
   {
    "duration": 71,
    "start_time": "2024-03-26T14:21:52.961Z"
   },
   {
    "duration": 5,
    "start_time": "2024-03-26T14:21:53.034Z"
   },
   {
    "duration": 20,
    "start_time": "2024-03-26T14:21:53.040Z"
   },
   {
    "duration": 11,
    "start_time": "2024-03-26T14:21:53.062Z"
   },
   {
    "duration": 11,
    "start_time": "2024-03-26T14:21:53.074Z"
   },
   {
    "duration": 12,
    "start_time": "2024-03-26T14:21:53.086Z"
   },
   {
    "duration": 43,
    "start_time": "2024-03-26T14:21:53.100Z"
   },
   {
    "duration": 20,
    "start_time": "2024-03-26T14:21:53.145Z"
   },
   {
    "duration": 5,
    "start_time": "2024-03-26T14:21:53.167Z"
   },
   {
    "duration": 10,
    "start_time": "2024-03-26T14:21:53.173Z"
   },
   {
    "duration": 5,
    "start_time": "2024-03-26T14:21:53.184Z"
   },
   {
    "duration": 10,
    "start_time": "2024-03-26T14:21:53.190Z"
   },
   {
    "duration": 25,
    "start_time": "2024-03-26T14:21:53.202Z"
   },
   {
    "duration": 291,
    "start_time": "2024-03-26T14:21:53.229Z"
   },
   {
    "duration": 226,
    "start_time": "2024-03-26T14:21:53.522Z"
   },
   {
    "duration": 327,
    "start_time": "2024-03-26T14:21:53.750Z"
   },
   {
    "duration": 318,
    "start_time": "2024-03-26T14:21:54.078Z"
   },
   {
    "duration": 240,
    "start_time": "2024-03-26T14:21:54.397Z"
   },
   {
    "duration": 349,
    "start_time": "2024-03-26T14:21:54.639Z"
   },
   {
    "duration": 188,
    "start_time": "2024-03-26T14:21:54.990Z"
   },
   {
    "duration": 4,
    "start_time": "2024-03-26T14:21:55.180Z"
   },
   {
    "duration": 214,
    "start_time": "2024-03-26T14:21:55.186Z"
   },
   {
    "duration": 163,
    "start_time": "2024-03-26T14:21:55.401Z"
   },
   {
    "duration": 4,
    "start_time": "2024-03-26T14:21:55.565Z"
   },
   {
    "duration": 263,
    "start_time": "2024-03-26T14:21:55.571Z"
   },
   {
    "duration": 185,
    "start_time": "2024-03-26T14:21:55.836Z"
   },
   {
    "duration": 12,
    "start_time": "2024-03-26T14:21:56.024Z"
   },
   {
    "duration": 853,
    "start_time": "2024-03-26T14:21:56.038Z"
   },
   {
    "duration": 17,
    "start_time": "2024-03-26T14:23:44.320Z"
   },
   {
    "duration": 727,
    "start_time": "2024-03-26T14:29:37.920Z"
   },
   {
    "duration": 729,
    "start_time": "2024-03-26T14:30:41.068Z"
   },
   {
    "duration": 740,
    "start_time": "2024-03-26T14:32:43.435Z"
   },
   {
    "duration": 747,
    "start_time": "2024-03-26T14:32:53.893Z"
   },
   {
    "duration": 20,
    "start_time": "2024-03-26T14:33:08.896Z"
   },
   {
    "duration": 68,
    "start_time": "2024-03-26T14:33:26.104Z"
   },
   {
    "duration": 19,
    "start_time": "2024-03-26T14:33:29.339Z"
   },
   {
    "duration": 790,
    "start_time": "2024-03-26T14:33:44.483Z"
   },
   {
    "duration": 788,
    "start_time": "2024-03-26T14:34:03.975Z"
   },
   {
    "duration": 842,
    "start_time": "2024-03-26T14:35:01.120Z"
   },
   {
    "duration": 886,
    "start_time": "2024-03-26T14:35:05.647Z"
   },
   {
    "duration": 722,
    "start_time": "2024-03-26T14:35:09.245Z"
   },
   {
    "duration": 11,
    "start_time": "2024-03-26T14:36:19.682Z"
   },
   {
    "duration": 72,
    "start_time": "2024-03-26T14:36:46.940Z"
   },
   {
    "duration": 67,
    "start_time": "2024-03-26T14:36:51.429Z"
   },
   {
    "duration": 20,
    "start_time": "2024-03-26T14:36:57.684Z"
   },
   {
    "duration": 748,
    "start_time": "2024-03-26T14:37:52.338Z"
   },
   {
    "duration": 18,
    "start_time": "2024-03-26T14:38:47.386Z"
   },
   {
    "duration": 801,
    "start_time": "2024-03-26T14:39:25.539Z"
   },
   {
    "duration": 6,
    "start_time": "2024-03-26T14:40:07.274Z"
   },
   {
    "duration": 741,
    "start_time": "2024-03-26T14:40:11.638Z"
   },
   {
    "duration": 746,
    "start_time": "2024-03-26T14:40:49.495Z"
   },
   {
    "duration": 8,
    "start_time": "2024-03-26T14:41:12.584Z"
   },
   {
    "duration": 700,
    "start_time": "2024-03-26T14:41:24.179Z"
   },
   {
    "duration": 829,
    "start_time": "2024-03-26T14:44:52.832Z"
   },
   {
    "duration": 240,
    "start_time": "2024-03-26T14:45:05.523Z"
   },
   {
    "duration": 212,
    "start_time": "2024-03-26T14:45:05.765Z"
   },
   {
    "duration": 12,
    "start_time": "2024-03-26T14:45:06.172Z"
   },
   {
    "duration": 9,
    "start_time": "2024-03-26T14:45:06.670Z"
   },
   {
    "duration": 867,
    "start_time": "2024-03-26T14:45:06.829Z"
   },
   {
    "duration": 817,
    "start_time": "2024-03-26T14:47:30.239Z"
   },
   {
    "duration": 14,
    "start_time": "2024-03-26T14:47:55.097Z"
   },
   {
    "duration": 15,
    "start_time": "2024-03-26T14:47:58.452Z"
   },
   {
    "duration": 882,
    "start_time": "2024-03-26T14:48:45.245Z"
   },
   {
    "duration": 5,
    "start_time": "2024-03-26T14:50:52.191Z"
   },
   {
    "duration": 39,
    "start_time": "2024-03-26T14:50:52.198Z"
   },
   {
    "duration": 6,
    "start_time": "2024-03-26T14:50:52.238Z"
   },
   {
    "duration": 11,
    "start_time": "2024-03-26T14:50:52.245Z"
   },
   {
    "duration": 11,
    "start_time": "2024-03-26T14:50:52.258Z"
   },
   {
    "duration": 16,
    "start_time": "2024-03-26T14:50:52.270Z"
   },
   {
    "duration": 17,
    "start_time": "2024-03-26T14:50:52.288Z"
   },
   {
    "duration": 51,
    "start_time": "2024-03-26T14:50:52.306Z"
   },
   {
    "duration": 20,
    "start_time": "2024-03-26T14:50:52.359Z"
   },
   {
    "duration": 5,
    "start_time": "2024-03-26T14:50:52.381Z"
   },
   {
    "duration": 12,
    "start_time": "2024-03-26T14:50:52.387Z"
   },
   {
    "duration": 5,
    "start_time": "2024-03-26T14:50:52.401Z"
   },
   {
    "duration": 17,
    "start_time": "2024-03-26T14:50:52.408Z"
   },
   {
    "duration": 14,
    "start_time": "2024-03-26T14:50:52.429Z"
   },
   {
    "duration": 305,
    "start_time": "2024-03-26T14:50:52.444Z"
   },
   {
    "duration": 222,
    "start_time": "2024-03-26T14:50:52.750Z"
   },
   {
    "duration": 211,
    "start_time": "2024-03-26T14:50:52.974Z"
   },
   {
    "duration": 365,
    "start_time": "2024-03-26T14:50:53.186Z"
   },
   {
    "duration": 230,
    "start_time": "2024-03-26T14:50:53.553Z"
   },
   {
    "duration": 372,
    "start_time": "2024-03-26T14:50:53.785Z"
   },
   {
    "duration": 172,
    "start_time": "2024-03-26T14:50:54.158Z"
   },
   {
    "duration": 5,
    "start_time": "2024-03-26T14:50:54.332Z"
   },
   {
    "duration": 191,
    "start_time": "2024-03-26T14:50:54.338Z"
   },
   {
    "duration": 172,
    "start_time": "2024-03-26T14:50:54.530Z"
   },
   {
    "duration": 4,
    "start_time": "2024-03-26T14:50:54.704Z"
   },
   {
    "duration": 245,
    "start_time": "2024-03-26T14:50:54.715Z"
   },
   {
    "duration": 183,
    "start_time": "2024-03-26T14:50:54.962Z"
   },
   {
    "duration": 11,
    "start_time": "2024-03-26T14:50:55.147Z"
   },
   {
    "duration": 741,
    "start_time": "2024-03-26T14:51:13.006Z"
   },
   {
    "duration": 752,
    "start_time": "2024-03-26T14:51:25.273Z"
   },
   {
    "duration": 718,
    "start_time": "2024-03-26T14:51:30.098Z"
   },
   {
    "duration": 771,
    "start_time": "2024-03-26T14:51:37.352Z"
   },
   {
    "duration": 804,
    "start_time": "2024-03-26T14:52:23.473Z"
   },
   {
    "duration": 8,
    "start_time": "2024-03-26T14:55:14.282Z"
   },
   {
    "duration": 757,
    "start_time": "2024-03-26T14:55:21.070Z"
   },
   {
    "duration": 11,
    "start_time": "2024-03-26T14:55:35.938Z"
   },
   {
    "duration": 696,
    "start_time": "2024-03-26T14:55:39.731Z"
   },
   {
    "duration": 833,
    "start_time": "2024-03-26T15:00:00.267Z"
   },
   {
    "duration": 842,
    "start_time": "2024-03-26T15:00:12.046Z"
   },
   {
    "duration": 12,
    "start_time": "2024-03-26T15:01:55.124Z"
   },
   {
    "duration": 817,
    "start_time": "2024-03-26T15:01:56.489Z"
   },
   {
    "duration": 1376,
    "start_time": "2024-03-26T15:02:50.182Z"
   },
   {
    "duration": 8,
    "start_time": "2024-03-26T15:03:02.978Z"
   },
   {
    "duration": 7,
    "start_time": "2024-03-26T15:03:09.583Z"
   },
   {
    "duration": 800,
    "start_time": "2024-03-26T15:03:17.145Z"
   },
   {
    "duration": 9,
    "start_time": "2024-03-26T15:03:25.175Z"
   },
   {
    "duration": 176,
    "start_time": "2024-03-26T15:03:55.777Z"
   },
   {
    "duration": 11,
    "start_time": "2024-03-26T15:03:58.354Z"
   },
   {
    "duration": 790,
    "start_time": "2024-03-26T15:03:59.925Z"
   },
   {
    "duration": 12,
    "start_time": "2024-03-26T15:04:03.478Z"
   },
   {
    "duration": 10,
    "start_time": "2024-03-26T15:04:28.383Z"
   },
   {
    "duration": 9,
    "start_time": "2024-03-26T15:05:29.535Z"
   },
   {
    "duration": 31,
    "start_time": "2024-03-26T15:05:55.034Z"
   },
   {
    "duration": 9,
    "start_time": "2024-03-26T15:07:02.520Z"
   },
   {
    "duration": 41,
    "start_time": "2024-03-26T15:07:03.420Z"
   },
   {
    "duration": 8,
    "start_time": "2024-03-26T15:07:51.834Z"
   },
   {
    "duration": 30,
    "start_time": "2024-03-26T15:07:53.637Z"
   },
   {
    "duration": 7,
    "start_time": "2024-03-26T15:09:33.513Z"
   },
   {
    "duration": 6,
    "start_time": "2024-03-26T15:10:04.215Z"
   },
   {
    "duration": 31,
    "start_time": "2024-03-26T15:10:08.107Z"
   },
   {
    "duration": 30,
    "start_time": "2024-03-26T15:11:36.698Z"
   },
   {
    "duration": 9,
    "start_time": "2024-03-26T15:12:15.484Z"
   },
   {
    "duration": 8,
    "start_time": "2024-03-26T15:12:21.859Z"
   },
   {
    "duration": 30,
    "start_time": "2024-03-26T15:12:22.535Z"
   },
   {
    "duration": 30,
    "start_time": "2024-03-26T15:12:27.617Z"
   },
   {
    "duration": 765,
    "start_time": "2024-03-26T15:14:12.626Z"
   },
   {
    "duration": 32,
    "start_time": "2024-03-26T15:14:22.267Z"
   },
   {
    "duration": 32,
    "start_time": "2024-03-26T15:14:29.383Z"
   },
   {
    "duration": 29,
    "start_time": "2024-03-26T15:16:17.315Z"
   },
   {
    "duration": 179,
    "start_time": "2024-03-26T15:19:10.768Z"
   },
   {
    "duration": 11,
    "start_time": "2024-03-26T15:19:16.571Z"
   },
   {
    "duration": 9,
    "start_time": "2024-03-26T15:19:17.841Z"
   },
   {
    "duration": 30,
    "start_time": "2024-03-26T15:19:19.329Z"
   },
   {
    "duration": 11,
    "start_time": "2024-03-26T15:24:39.884Z"
   },
   {
    "duration": 810,
    "start_time": "2024-03-26T15:25:01.303Z"
   },
   {
    "duration": 16,
    "start_time": "2024-03-26T15:25:22.994Z"
   },
   {
    "duration": 79,
    "start_time": "2024-03-26T15:27:09.151Z"
   },
   {
    "duration": 16,
    "start_time": "2024-03-26T15:27:28.882Z"
   },
   {
    "duration": 1336,
    "start_time": "2024-03-31T18:49:18.975Z"
   },
   {
    "duration": 101,
    "start_time": "2024-03-31T18:49:20.313Z"
   },
   {
    "duration": 5,
    "start_time": "2024-03-31T18:49:20.416Z"
   },
   {
    "duration": 50,
    "start_time": "2024-03-31T18:49:20.423Z"
   },
   {
    "duration": 14,
    "start_time": "2024-03-31T18:49:20.474Z"
   },
   {
    "duration": 14,
    "start_time": "2024-03-31T18:49:20.489Z"
   },
   {
    "duration": 18,
    "start_time": "2024-03-31T18:49:20.504Z"
   },
   {
    "duration": 92,
    "start_time": "2024-03-31T18:49:20.524Z"
   },
   {
    "duration": 64,
    "start_time": "2024-03-31T18:49:20.619Z"
   },
   {
    "duration": 6,
    "start_time": "2024-03-31T18:49:20.687Z"
   },
   {
    "duration": 17,
    "start_time": "2024-03-31T18:49:20.694Z"
   },
   {
    "duration": 7,
    "start_time": "2024-03-31T18:49:20.712Z"
   },
   {
    "duration": 13,
    "start_time": "2024-03-31T18:49:20.720Z"
   },
   {
    "duration": 26,
    "start_time": "2024-03-31T18:49:20.734Z"
   },
   {
    "duration": 316,
    "start_time": "2024-03-31T18:49:20.762Z"
   },
   {
    "duration": 281,
    "start_time": "2024-03-31T18:49:21.079Z"
   },
   {
    "duration": 193,
    "start_time": "2024-03-31T18:49:21.361Z"
   },
   {
    "duration": 395,
    "start_time": "2024-03-31T18:49:21.556Z"
   },
   {
    "duration": 241,
    "start_time": "2024-03-31T18:49:21.953Z"
   },
   {
    "duration": 313,
    "start_time": "2024-03-31T18:49:22.196Z"
   },
   {
    "duration": 164,
    "start_time": "2024-03-31T18:49:22.511Z"
   },
   {
    "duration": 4,
    "start_time": "2024-03-31T18:49:22.677Z"
   },
   {
    "duration": 243,
    "start_time": "2024-03-31T18:49:22.683Z"
   },
   {
    "duration": 165,
    "start_time": "2024-03-31T18:49:22.928Z"
   },
   {
    "duration": 4,
    "start_time": "2024-03-31T18:49:23.095Z"
   },
   {
    "duration": 242,
    "start_time": "2024-03-31T18:49:23.100Z"
   },
   {
    "duration": 177,
    "start_time": "2024-03-31T18:49:23.343Z"
   },
   {
    "duration": 9,
    "start_time": "2024-03-31T18:49:23.523Z"
   },
   {
    "duration": 10,
    "start_time": "2024-03-31T18:49:23.533Z"
   },
   {
    "duration": 44,
    "start_time": "2024-03-31T18:49:23.545Z"
   },
   {
    "duration": 14,
    "start_time": "2024-03-31T18:49:23.591Z"
   },
   {
    "duration": 213,
    "start_time": "2024-03-31T18:52:27.613Z"
   },
   {
    "duration": 212,
    "start_time": "2024-03-31T18:53:19.466Z"
   },
   {
    "duration": 239,
    "start_time": "2024-03-31T18:55:33.476Z"
   },
   {
    "duration": 315,
    "start_time": "2024-03-31T18:55:43.729Z"
   },
   {
    "duration": 335,
    "start_time": "2024-03-31T19:02:29.680Z"
   },
   {
    "duration": 4,
    "start_time": "2024-03-31T19:08:18.088Z"
   },
   {
    "duration": 39,
    "start_time": "2024-03-31T19:08:18.094Z"
   },
   {
    "duration": 6,
    "start_time": "2024-03-31T19:08:18.135Z"
   },
   {
    "duration": 13,
    "start_time": "2024-03-31T19:08:18.143Z"
   },
   {
    "duration": 11,
    "start_time": "2024-03-31T19:08:18.157Z"
   },
   {
    "duration": 13,
    "start_time": "2024-03-31T19:08:18.170Z"
   },
   {
    "duration": 18,
    "start_time": "2024-03-31T19:08:18.185Z"
   },
   {
    "duration": 42,
    "start_time": "2024-03-31T19:08:18.204Z"
   },
   {
    "duration": 20,
    "start_time": "2024-03-31T19:08:18.248Z"
   },
   {
    "duration": 6,
    "start_time": "2024-03-31T19:08:18.270Z"
   },
   {
    "duration": 14,
    "start_time": "2024-03-31T19:08:18.277Z"
   },
   {
    "duration": 9,
    "start_time": "2024-03-31T19:08:18.292Z"
   },
   {
    "duration": 9,
    "start_time": "2024-03-31T19:08:18.303Z"
   },
   {
    "duration": 16,
    "start_time": "2024-03-31T19:08:18.314Z"
   },
   {
    "duration": 311,
    "start_time": "2024-03-31T19:08:18.331Z"
   },
   {
    "duration": 231,
    "start_time": "2024-03-31T19:08:18.643Z"
   },
   {
    "duration": 227,
    "start_time": "2024-03-31T19:08:18.876Z"
   },
   {
    "duration": 322,
    "start_time": "2024-03-31T19:08:19.105Z"
   },
   {
    "duration": 264,
    "start_time": "2024-03-31T19:08:19.429Z"
   },
   {
    "duration": 413,
    "start_time": "2024-03-31T19:08:19.695Z"
   },
   {
    "duration": 162,
    "start_time": "2024-03-31T19:08:20.109Z"
   },
   {
    "duration": 4,
    "start_time": "2024-03-31T19:08:20.273Z"
   },
   {
    "duration": 179,
    "start_time": "2024-03-31T19:08:20.279Z"
   },
   {
    "duration": 182,
    "start_time": "2024-03-31T19:08:20.460Z"
   },
   {
    "duration": 4,
    "start_time": "2024-03-31T19:08:20.644Z"
   },
   {
    "duration": 241,
    "start_time": "2024-03-31T19:08:20.649Z"
   },
   {
    "duration": 178,
    "start_time": "2024-03-31T19:08:20.892Z"
   },
   {
    "duration": 12,
    "start_time": "2024-03-31T19:08:21.074Z"
   },
   {
    "duration": 13,
    "start_time": "2024-03-31T19:08:21.088Z"
   },
   {
    "duration": 35,
    "start_time": "2024-03-31T19:08:21.103Z"
   },
   {
    "duration": 41,
    "start_time": "2024-03-31T19:08:21.140Z"
   },
   {
    "duration": 1249,
    "start_time": "2024-04-01T10:16:51.809Z"
   },
   {
    "duration": 91,
    "start_time": "2024-04-01T10:16:53.060Z"
   },
   {
    "duration": 6,
    "start_time": "2024-04-01T10:16:53.152Z"
   },
   {
    "duration": 11,
    "start_time": "2024-04-01T10:16:53.160Z"
   },
   {
    "duration": 12,
    "start_time": "2024-04-01T10:16:53.172Z"
   },
   {
    "duration": 13,
    "start_time": "2024-04-01T10:16:53.186Z"
   },
   {
    "duration": 48,
    "start_time": "2024-04-01T10:16:53.200Z"
   },
   {
    "duration": 97,
    "start_time": "2024-04-01T10:16:53.250Z"
   },
   {
    "duration": 74,
    "start_time": "2024-04-01T10:16:53.348Z"
   },
   {
    "duration": 5,
    "start_time": "2024-04-01T10:16:53.424Z"
   },
   {
    "duration": 10,
    "start_time": "2024-04-01T10:16:53.431Z"
   },
   {
    "duration": 6,
    "start_time": "2024-04-01T10:16:53.442Z"
   },
   {
    "duration": 16,
    "start_time": "2024-04-01T10:16:53.449Z"
   },
   {
    "duration": 19,
    "start_time": "2024-04-01T10:16:53.466Z"
   },
   {
    "duration": 274,
    "start_time": "2024-04-01T10:16:53.488Z"
   },
   {
    "duration": 287,
    "start_time": "2024-04-01T10:16:53.764Z"
   },
   {
    "duration": 217,
    "start_time": "2024-04-01T10:16:54.053Z"
   },
   {
    "duration": 346,
    "start_time": "2024-04-01T10:16:54.271Z"
   },
   {
    "duration": 227,
    "start_time": "2024-04-01T10:16:54.619Z"
   },
   {
    "duration": 316,
    "start_time": "2024-04-01T10:16:54.848Z"
   },
   {
    "duration": 148,
    "start_time": "2024-04-01T10:16:55.166Z"
   },
   {
    "duration": 5,
    "start_time": "2024-04-01T10:16:55.316Z"
   },
   {
    "duration": 233,
    "start_time": "2024-04-01T10:16:55.323Z"
   },
   {
    "duration": 160,
    "start_time": "2024-04-01T10:16:55.558Z"
   },
   {
    "duration": 4,
    "start_time": "2024-04-01T10:16:55.720Z"
   },
   {
    "duration": 231,
    "start_time": "2024-04-01T10:16:55.726Z"
   },
   {
    "duration": 199,
    "start_time": "2024-04-01T10:16:55.958Z"
   },
   {
    "duration": 11,
    "start_time": "2024-04-01T10:16:56.161Z"
   },
   {
    "duration": 13,
    "start_time": "2024-04-01T10:16:56.173Z"
   },
   {
    "duration": 62,
    "start_time": "2024-04-01T10:16:56.188Z"
   },
   {
    "duration": 15,
    "start_time": "2024-04-01T10:16:56.252Z"
   },
   {
    "duration": 113,
    "start_time": "2024-04-01T11:30:03.545Z"
   },
   {
    "duration": 73,
    "start_time": "2024-04-01T11:30:14.641Z"
   },
   {
    "duration": 76,
    "start_time": "2024-04-01T11:30:27.059Z"
   },
   {
    "duration": 69,
    "start_time": "2024-04-01T11:30:46.160Z"
   },
   {
    "duration": 0,
    "start_time": "2024-04-01T11:30:46.231Z"
   },
   {
    "duration": 0,
    "start_time": "2024-04-01T11:30:46.232Z"
   },
   {
    "duration": 0,
    "start_time": "2024-04-01T11:30:46.233Z"
   },
   {
    "duration": 0,
    "start_time": "2024-04-01T11:30:46.234Z"
   },
   {
    "duration": 0,
    "start_time": "2024-04-01T11:30:46.235Z"
   },
   {
    "duration": 0,
    "start_time": "2024-04-01T11:30:46.237Z"
   },
   {
    "duration": 0,
    "start_time": "2024-04-01T11:30:46.238Z"
   },
   {
    "duration": 0,
    "start_time": "2024-04-01T11:30:46.239Z"
   },
   {
    "duration": 0,
    "start_time": "2024-04-01T11:30:46.240Z"
   },
   {
    "duration": 0,
    "start_time": "2024-04-01T11:30:46.242Z"
   },
   {
    "duration": 0,
    "start_time": "2024-04-01T11:30:46.243Z"
   },
   {
    "duration": 0,
    "start_time": "2024-04-01T11:30:46.244Z"
   },
   {
    "duration": 0,
    "start_time": "2024-04-01T11:30:46.245Z"
   },
   {
    "duration": 0,
    "start_time": "2024-04-01T11:30:46.246Z"
   },
   {
    "duration": 0,
    "start_time": "2024-04-01T11:30:46.247Z"
   },
   {
    "duration": 0,
    "start_time": "2024-04-01T11:30:46.248Z"
   },
   {
    "duration": 0,
    "start_time": "2024-04-01T11:30:46.249Z"
   },
   {
    "duration": 0,
    "start_time": "2024-04-01T11:30:46.250Z"
   },
   {
    "duration": 0,
    "start_time": "2024-04-01T11:30:46.251Z"
   },
   {
    "duration": 0,
    "start_time": "2024-04-01T11:30:46.252Z"
   },
   {
    "duration": 0,
    "start_time": "2024-04-01T11:30:46.253Z"
   },
   {
    "duration": 0,
    "start_time": "2024-04-01T11:30:46.254Z"
   },
   {
    "duration": 0,
    "start_time": "2024-04-01T11:30:46.255Z"
   },
   {
    "duration": 0,
    "start_time": "2024-04-01T11:30:46.257Z"
   },
   {
    "duration": 0,
    "start_time": "2024-04-01T11:30:46.257Z"
   },
   {
    "duration": 0,
    "start_time": "2024-04-01T11:30:46.258Z"
   },
   {
    "duration": 1,
    "start_time": "2024-04-01T11:30:46.259Z"
   },
   {
    "duration": 0,
    "start_time": "2024-04-01T11:30:46.261Z"
   },
   {
    "duration": 0,
    "start_time": "2024-04-01T11:30:46.261Z"
   },
   {
    "duration": 0,
    "start_time": "2024-04-01T11:30:46.262Z"
   },
   {
    "duration": 0,
    "start_time": "2024-04-01T11:30:46.263Z"
   },
   {
    "duration": 101,
    "start_time": "2024-04-01T11:31:03.086Z"
   },
   {
    "duration": 0,
    "start_time": "2024-04-01T11:31:03.189Z"
   },
   {
    "duration": 0,
    "start_time": "2024-04-01T11:31:03.190Z"
   },
   {
    "duration": 0,
    "start_time": "2024-04-01T11:31:03.191Z"
   },
   {
    "duration": 0,
    "start_time": "2024-04-01T11:31:03.192Z"
   },
   {
    "duration": 0,
    "start_time": "2024-04-01T11:31:03.193Z"
   },
   {
    "duration": 0,
    "start_time": "2024-04-01T11:31:03.194Z"
   },
   {
    "duration": 0,
    "start_time": "2024-04-01T11:31:03.195Z"
   },
   {
    "duration": 0,
    "start_time": "2024-04-01T11:31:03.196Z"
   },
   {
    "duration": 0,
    "start_time": "2024-04-01T11:31:03.196Z"
   },
   {
    "duration": 0,
    "start_time": "2024-04-01T11:31:03.198Z"
   },
   {
    "duration": 0,
    "start_time": "2024-04-01T11:31:03.199Z"
   },
   {
    "duration": 0,
    "start_time": "2024-04-01T11:31:03.199Z"
   },
   {
    "duration": 0,
    "start_time": "2024-04-01T11:31:03.200Z"
   },
   {
    "duration": 0,
    "start_time": "2024-04-01T11:31:03.201Z"
   },
   {
    "duration": 0,
    "start_time": "2024-04-01T11:31:03.203Z"
   },
   {
    "duration": 0,
    "start_time": "2024-04-01T11:31:03.204Z"
   },
   {
    "duration": 0,
    "start_time": "2024-04-01T11:31:03.205Z"
   },
   {
    "duration": 0,
    "start_time": "2024-04-01T11:31:03.206Z"
   },
   {
    "duration": 0,
    "start_time": "2024-04-01T11:31:03.207Z"
   },
   {
    "duration": 0,
    "start_time": "2024-04-01T11:31:03.208Z"
   },
   {
    "duration": 0,
    "start_time": "2024-04-01T11:31:03.209Z"
   },
   {
    "duration": 0,
    "start_time": "2024-04-01T11:31:03.210Z"
   },
   {
    "duration": 0,
    "start_time": "2024-04-01T11:31:03.211Z"
   },
   {
    "duration": 0,
    "start_time": "2024-04-01T11:31:03.212Z"
   },
   {
    "duration": 0,
    "start_time": "2024-04-01T11:31:03.213Z"
   },
   {
    "duration": 0,
    "start_time": "2024-04-01T11:31:03.214Z"
   },
   {
    "duration": 0,
    "start_time": "2024-04-01T11:31:03.215Z"
   },
   {
    "duration": 0,
    "start_time": "2024-04-01T11:31:03.216Z"
   },
   {
    "duration": 0,
    "start_time": "2024-04-01T11:31:03.218Z"
   },
   {
    "duration": 0,
    "start_time": "2024-04-01T11:31:03.219Z"
   },
   {
    "duration": 0,
    "start_time": "2024-04-01T11:31:03.220Z"
   },
   {
    "duration": 5,
    "start_time": "2024-04-01T11:31:31.279Z"
   },
   {
    "duration": 80,
    "start_time": "2024-04-01T11:31:31.286Z"
   },
   {
    "duration": 10,
    "start_time": "2024-04-01T11:31:31.368Z"
   },
   {
    "duration": 36,
    "start_time": "2024-04-01T11:31:31.380Z"
   },
   {
    "duration": 57,
    "start_time": "2024-04-01T11:31:31.418Z"
   },
   {
    "duration": 96,
    "start_time": "2024-04-01T11:31:31.476Z"
   },
   {
    "duration": 37,
    "start_time": "2024-04-01T11:31:31.574Z"
   },
   {
    "duration": 50,
    "start_time": "2024-04-01T11:31:31.612Z"
   },
   {
    "duration": 20,
    "start_time": "2024-04-01T11:31:31.664Z"
   },
   {
    "duration": 6,
    "start_time": "2024-04-01T11:31:31.685Z"
   },
   {
    "duration": 37,
    "start_time": "2024-04-01T11:31:31.693Z"
   },
   {
    "duration": 22,
    "start_time": "2024-04-01T11:31:31.732Z"
   },
   {
    "duration": 33,
    "start_time": "2024-04-01T11:31:31.756Z"
   },
   {
    "duration": 46,
    "start_time": "2024-04-01T11:31:31.791Z"
   },
   {
    "duration": 275,
    "start_time": "2024-04-01T11:31:31.839Z"
   },
   {
    "duration": 223,
    "start_time": "2024-04-01T11:31:32.115Z"
   },
   {
    "duration": 227,
    "start_time": "2024-04-01T11:31:32.339Z"
   },
   {
    "duration": 306,
    "start_time": "2024-04-01T11:31:32.568Z"
   },
   {
    "duration": 236,
    "start_time": "2024-04-01T11:31:32.875Z"
   },
   {
    "duration": 346,
    "start_time": "2024-04-01T11:31:33.113Z"
   },
   {
    "duration": 157,
    "start_time": "2024-04-01T11:31:33.461Z"
   },
   {
    "duration": 4,
    "start_time": "2024-04-01T11:31:33.619Z"
   },
   {
    "duration": 185,
    "start_time": "2024-04-01T11:31:33.625Z"
   },
   {
    "duration": 160,
    "start_time": "2024-04-01T11:31:33.812Z"
   },
   {
    "duration": 5,
    "start_time": "2024-04-01T11:31:33.974Z"
   },
   {
    "duration": 218,
    "start_time": "2024-04-01T11:31:33.980Z"
   },
   {
    "duration": 149,
    "start_time": "2024-04-01T11:31:34.200Z"
   },
   {
    "duration": 10,
    "start_time": "2024-04-01T11:31:34.351Z"
   },
   {
    "duration": 14,
    "start_time": "2024-04-01T11:31:34.363Z"
   },
   {
    "duration": 48,
    "start_time": "2024-04-01T11:31:34.379Z"
   },
   {
    "duration": 19,
    "start_time": "2024-04-01T11:31:34.429Z"
   },
   {
    "duration": 5,
    "start_time": "2024-04-01T11:57:08.870Z"
   },
   {
    "duration": 58,
    "start_time": "2024-04-01T11:57:08.877Z"
   },
   {
    "duration": 5,
    "start_time": "2024-04-01T11:57:08.936Z"
   },
   {
    "duration": 43,
    "start_time": "2024-04-01T11:57:08.943Z"
   },
   {
    "duration": 36,
    "start_time": "2024-04-01T11:57:08.988Z"
   },
   {
    "duration": 14,
    "start_time": "2024-04-01T11:57:09.025Z"
   },
   {
    "duration": 16,
    "start_time": "2024-04-01T11:57:09.041Z"
   },
   {
    "duration": 42,
    "start_time": "2024-04-01T11:57:09.059Z"
   },
   {
    "duration": 20,
    "start_time": "2024-04-01T11:57:09.102Z"
   },
   {
    "duration": 6,
    "start_time": "2024-04-01T11:57:09.123Z"
   },
   {
    "duration": 11,
    "start_time": "2024-04-01T11:57:09.130Z"
   },
   {
    "duration": 7,
    "start_time": "2024-04-01T11:57:09.143Z"
   },
   {
    "duration": 40,
    "start_time": "2024-04-01T11:57:09.151Z"
   },
   {
    "duration": 21,
    "start_time": "2024-04-01T11:57:09.194Z"
   },
   {
    "duration": 256,
    "start_time": "2024-04-01T11:57:09.216Z"
   },
   {
    "duration": 233,
    "start_time": "2024-04-01T11:57:09.474Z"
   },
   {
    "duration": 290,
    "start_time": "2024-04-01T11:57:09.709Z"
   },
   {
    "duration": 297,
    "start_time": "2024-04-01T11:57:10.001Z"
   },
   {
    "duration": 245,
    "start_time": "2024-04-01T11:57:10.300Z"
   },
   {
    "duration": 314,
    "start_time": "2024-04-01T11:57:10.546Z"
   },
   {
    "duration": 142,
    "start_time": "2024-04-01T11:57:10.862Z"
   },
   {
    "duration": 4,
    "start_time": "2024-04-01T11:57:11.006Z"
   },
   {
    "duration": 162,
    "start_time": "2024-04-01T11:57:11.011Z"
   },
   {
    "duration": 151,
    "start_time": "2024-04-01T11:57:11.175Z"
   },
   {
    "duration": 4,
    "start_time": "2024-04-01T11:57:11.327Z"
   },
   {
    "duration": 223,
    "start_time": "2024-04-01T11:57:11.332Z"
   },
   {
    "duration": 151,
    "start_time": "2024-04-01T11:57:11.557Z"
   },
   {
    "duration": 9,
    "start_time": "2024-04-01T11:57:11.709Z"
   },
   {
    "duration": 22,
    "start_time": "2024-04-01T11:57:11.720Z"
   },
   {
    "duration": 59,
    "start_time": "2024-04-01T11:57:11.745Z"
   },
   {
    "duration": 13,
    "start_time": "2024-04-01T11:57:11.807Z"
   },
   {
    "duration": 1361,
    "start_time": "2024-04-01T12:15:19.881Z"
   },
   {
    "duration": 76,
    "start_time": "2024-04-01T12:15:21.244Z"
   },
   {
    "duration": 5,
    "start_time": "2024-04-01T12:15:21.322Z"
   },
   {
    "duration": 13,
    "start_time": "2024-04-01T12:15:21.329Z"
   },
   {
    "duration": 14,
    "start_time": "2024-04-01T12:15:21.344Z"
   },
   {
    "duration": 10,
    "start_time": "2024-04-01T12:15:21.360Z"
   },
   {
    "duration": 25,
    "start_time": "2024-04-01T12:15:21.371Z"
   },
   {
    "duration": 93,
    "start_time": "2024-04-01T12:15:21.397Z"
   },
   {
    "duration": 71,
    "start_time": "2024-04-01T12:15:21.491Z"
   },
   {
    "duration": 5,
    "start_time": "2024-04-01T12:15:21.565Z"
   },
   {
    "duration": 21,
    "start_time": "2024-04-01T12:15:21.572Z"
   },
   {
    "duration": 8,
    "start_time": "2024-04-01T12:15:21.594Z"
   },
   {
    "duration": 11,
    "start_time": "2024-04-01T12:15:21.604Z"
   },
   {
    "duration": 19,
    "start_time": "2024-04-01T12:15:21.617Z"
   },
   {
    "duration": 302,
    "start_time": "2024-04-01T12:15:21.637Z"
   },
   {
    "duration": 307,
    "start_time": "2024-04-01T12:15:21.940Z"
   },
   {
    "duration": 213,
    "start_time": "2024-04-01T12:15:22.248Z"
   },
   {
    "duration": 323,
    "start_time": "2024-04-01T12:15:22.462Z"
   },
   {
    "duration": 231,
    "start_time": "2024-04-01T12:15:22.786Z"
   },
   {
    "duration": 320,
    "start_time": "2024-04-01T12:15:23.019Z"
   },
   {
    "duration": 138,
    "start_time": "2024-04-01T12:15:23.341Z"
   },
   {
    "duration": 4,
    "start_time": "2024-04-01T12:15:23.481Z"
   },
   {
    "duration": 232,
    "start_time": "2024-04-01T12:15:23.486Z"
   },
   {
    "duration": 154,
    "start_time": "2024-04-01T12:15:23.719Z"
   },
   {
    "duration": 5,
    "start_time": "2024-04-01T12:15:23.874Z"
   },
   {
    "duration": 228,
    "start_time": "2024-04-01T12:15:23.880Z"
   },
   {
    "duration": 159,
    "start_time": "2024-04-01T12:15:24.117Z"
   },
   {
    "duration": 11,
    "start_time": "2024-04-01T12:15:24.280Z"
   },
   {
    "duration": 26,
    "start_time": "2024-04-01T12:15:24.292Z"
   },
   {
    "duration": 30,
    "start_time": "2024-04-01T12:15:24.320Z"
   },
   {
    "duration": 15,
    "start_time": "2024-04-01T12:15:24.351Z"
   },
   {
    "duration": 49,
    "start_time": "2024-04-01T14:04:33.888Z"
   },
   {
    "duration": 1266,
    "start_time": "2024-04-01T14:04:39.073Z"
   },
   {
    "duration": 81,
    "start_time": "2024-04-01T14:04:40.341Z"
   },
   {
    "duration": 6,
    "start_time": "2024-04-01T14:04:40.424Z"
   },
   {
    "duration": 10,
    "start_time": "2024-04-01T14:04:40.431Z"
   },
   {
    "duration": 16,
    "start_time": "2024-04-01T14:04:40.443Z"
   },
   {
    "duration": 11,
    "start_time": "2024-04-01T14:04:40.461Z"
   },
   {
    "duration": 13,
    "start_time": "2024-04-01T14:04:40.473Z"
   },
   {
    "duration": 101,
    "start_time": "2024-04-01T14:04:40.515Z"
   },
   {
    "duration": 76,
    "start_time": "2024-04-01T14:04:40.618Z"
   },
   {
    "duration": 5,
    "start_time": "2024-04-01T14:04:40.696Z"
   },
   {
    "duration": 12,
    "start_time": "2024-04-01T14:04:40.703Z"
   },
   {
    "duration": 7,
    "start_time": "2024-04-01T14:04:40.716Z"
   },
   {
    "duration": 10,
    "start_time": "2024-04-01T14:04:40.724Z"
   },
   {
    "duration": 18,
    "start_time": "2024-04-01T14:04:40.736Z"
   },
   {
    "duration": 312,
    "start_time": "2024-04-01T14:04:40.755Z"
   },
   {
    "duration": 314,
    "start_time": "2024-04-01T14:04:41.069Z"
   },
   {
    "duration": 233,
    "start_time": "2024-04-01T14:04:41.385Z"
   },
   {
    "duration": 374,
    "start_time": "2024-04-01T14:04:41.620Z"
   },
   {
    "duration": 254,
    "start_time": "2024-04-01T14:04:41.996Z"
   },
   {
    "duration": 330,
    "start_time": "2024-04-01T14:04:42.252Z"
   },
   {
    "duration": 210,
    "start_time": "2024-04-01T14:04:42.584Z"
   },
   {
    "duration": 4,
    "start_time": "2024-04-01T14:04:42.796Z"
   },
   {
    "duration": 178,
    "start_time": "2024-04-01T14:04:42.802Z"
   },
   {
    "duration": 153,
    "start_time": "2024-04-01T14:04:42.982Z"
   },
   {
    "duration": 4,
    "start_time": "2024-04-01T14:04:43.137Z"
   },
   {
    "duration": 235,
    "start_time": "2024-04-01T14:04:43.142Z"
   },
   {
    "duration": 177,
    "start_time": "2024-04-01T14:04:43.379Z"
   },
   {
    "duration": 12,
    "start_time": "2024-04-01T14:04:43.558Z"
   },
   {
    "duration": 10,
    "start_time": "2024-04-01T14:04:43.572Z"
   },
   {
    "duration": 54,
    "start_time": "2024-04-01T14:04:43.583Z"
   },
   {
    "duration": 14,
    "start_time": "2024-04-01T14:04:43.639Z"
   },
   {
    "duration": 217,
    "start_time": "2024-04-01T14:04:53.459Z"
   },
   {
    "duration": 158,
    "start_time": "2024-04-01T14:05:40.865Z"
   },
   {
    "duration": 81,
    "start_time": "2024-04-01T14:09:02.345Z"
   },
   {
    "duration": 74,
    "start_time": "2024-04-01T14:09:12.790Z"
   },
   {
    "duration": 88,
    "start_time": "2024-04-01T14:09:22.000Z"
   },
   {
    "duration": 97,
    "start_time": "2024-04-01T14:09:29.341Z"
   },
   {
    "duration": 65,
    "start_time": "2024-04-01T14:09:37.352Z"
   },
   {
    "duration": 67,
    "start_time": "2024-04-01T14:09:41.984Z"
   },
   {
    "duration": 78,
    "start_time": "2024-04-01T14:09:50.054Z"
   },
   {
    "duration": 17,
    "start_time": "2024-04-01T14:09:53.859Z"
   },
   {
    "duration": 16,
    "start_time": "2024-04-01T14:10:02.132Z"
   },
   {
    "duration": 17,
    "start_time": "2024-04-01T14:10:05.166Z"
   },
   {
    "duration": 12,
    "start_time": "2024-04-01T14:10:37.080Z"
   },
   {
    "duration": 13,
    "start_time": "2024-04-01T14:10:41.803Z"
   },
   {
    "duration": 17,
    "start_time": "2024-04-01T14:10:53.702Z"
   },
   {
    "duration": 17,
    "start_time": "2024-04-01T14:10:57.415Z"
   },
   {
    "duration": 15,
    "start_time": "2024-04-01T14:10:59.934Z"
   },
   {
    "duration": 11,
    "start_time": "2024-04-01T14:11:49.415Z"
   },
   {
    "duration": 16,
    "start_time": "2024-04-01T14:12:07.772Z"
   },
   {
    "duration": 10,
    "start_time": "2024-04-01T14:12:52.363Z"
   },
   {
    "duration": 12,
    "start_time": "2024-04-01T14:12:56.545Z"
   },
   {
    "duration": 33,
    "start_time": "2024-04-01T14:13:30.804Z"
   },
   {
    "duration": 8,
    "start_time": "2024-04-01T14:42:57.127Z"
   },
   {
    "duration": 27,
    "start_time": "2024-04-01T14:43:07.469Z"
   },
   {
    "duration": 231,
    "start_time": "2024-04-01T14:43:14.131Z"
   },
   {
    "duration": 7,
    "start_time": "2024-04-01T14:43:24.880Z"
   },
   {
    "duration": 34,
    "start_time": "2024-04-01T14:43:24.890Z"
   },
   {
    "duration": 6,
    "start_time": "2024-04-01T14:43:24.925Z"
   },
   {
    "duration": 19,
    "start_time": "2024-04-01T14:43:24.932Z"
   },
   {
    "duration": 12,
    "start_time": "2024-04-01T14:43:24.954Z"
   },
   {
    "duration": 23,
    "start_time": "2024-04-01T14:43:24.968Z"
   },
   {
    "duration": 24,
    "start_time": "2024-04-01T14:43:24.993Z"
   },
   {
    "duration": 47,
    "start_time": "2024-04-01T14:43:25.019Z"
   },
   {
    "duration": 21,
    "start_time": "2024-04-01T14:43:25.067Z"
   },
   {
    "duration": 6,
    "start_time": "2024-04-01T14:43:25.089Z"
   },
   {
    "duration": 12,
    "start_time": "2024-04-01T14:43:25.096Z"
   },
   {
    "duration": 8,
    "start_time": "2024-04-01T14:43:25.110Z"
   },
   {
    "duration": 21,
    "start_time": "2024-04-01T14:43:25.119Z"
   },
   {
    "duration": 26,
    "start_time": "2024-04-01T14:43:25.143Z"
   },
   {
    "duration": 20,
    "start_time": "2024-04-01T14:43:25.171Z"
   },
   {
    "duration": 305,
    "start_time": "2024-04-01T14:43:25.192Z"
   },
   {
    "duration": 243,
    "start_time": "2024-04-01T14:43:25.499Z"
   },
   {
    "duration": 229,
    "start_time": "2024-04-01T14:43:25.744Z"
   },
   {
    "duration": 368,
    "start_time": "2024-04-01T14:43:25.975Z"
   },
   {
    "duration": 259,
    "start_time": "2024-04-01T14:43:26.345Z"
   },
   {
    "duration": 410,
    "start_time": "2024-04-01T14:43:26.606Z"
   },
   {
    "duration": 149,
    "start_time": "2024-04-01T14:43:27.018Z"
   },
   {
    "duration": 4,
    "start_time": "2024-04-01T14:43:27.169Z"
   },
   {
    "duration": 273,
    "start_time": "2024-04-01T14:43:27.175Z"
   },
   {
    "duration": 182,
    "start_time": "2024-04-01T14:43:27.449Z"
   },
   {
    "duration": 5,
    "start_time": "2024-04-01T14:43:27.632Z"
   },
   {
    "duration": 241,
    "start_time": "2024-04-01T14:43:27.639Z"
   },
   {
    "duration": 172,
    "start_time": "2024-04-01T14:43:27.882Z"
   },
   {
    "duration": 10,
    "start_time": "2024-04-01T14:43:28.056Z"
   },
   {
    "duration": 25,
    "start_time": "2024-04-01T14:43:28.067Z"
   },
   {
    "duration": 61,
    "start_time": "2024-04-01T14:43:28.093Z"
   },
   {
    "duration": 20,
    "start_time": "2024-04-01T14:43:28.157Z"
   },
   {
    "duration": 11,
    "start_time": "2024-04-01T14:44:16.911Z"
   },
   {
    "duration": 16,
    "start_time": "2024-04-01T14:44:30.805Z"
   },
   {
    "duration": 215,
    "start_time": "2024-04-01T14:46:19.350Z"
   },
   {
    "duration": 5,
    "start_time": "2024-04-01T14:46:24.415Z"
   },
   {
    "duration": 42,
    "start_time": "2024-04-01T14:46:24.421Z"
   },
   {
    "duration": 5,
    "start_time": "2024-04-01T14:46:24.465Z"
   },
   {
    "duration": 33,
    "start_time": "2024-04-01T14:46:24.471Z"
   },
   {
    "duration": 14,
    "start_time": "2024-04-01T14:46:24.507Z"
   },
   {
    "duration": 12,
    "start_time": "2024-04-01T14:46:24.523Z"
   },
   {
    "duration": 16,
    "start_time": "2024-04-01T14:46:24.537Z"
   },
   {
    "duration": 45,
    "start_time": "2024-04-01T14:46:24.554Z"
   },
   {
    "duration": 20,
    "start_time": "2024-04-01T14:46:24.601Z"
   },
   {
    "duration": 6,
    "start_time": "2024-04-01T14:46:24.622Z"
   },
   {
    "duration": 12,
    "start_time": "2024-04-01T14:46:24.630Z"
   },
   {
    "duration": 8,
    "start_time": "2024-04-01T14:46:24.643Z"
   },
   {
    "duration": 12,
    "start_time": "2024-04-01T14:46:24.652Z"
   },
   {
    "duration": 19,
    "start_time": "2024-04-01T14:46:24.667Z"
   },
   {
    "duration": 303,
    "start_time": "2024-04-01T14:46:24.687Z"
   },
   {
    "duration": 235,
    "start_time": "2024-04-01T14:46:24.992Z"
   },
   {
    "duration": 217,
    "start_time": "2024-04-01T14:46:25.229Z"
   },
   {
    "duration": 311,
    "start_time": "2024-04-01T14:46:25.448Z"
   },
   {
    "duration": 244,
    "start_time": "2024-04-01T14:46:25.761Z"
   },
   {
    "duration": 374,
    "start_time": "2024-04-01T14:46:26.007Z"
   },
   {
    "duration": 149,
    "start_time": "2024-04-01T14:46:26.382Z"
   },
   {
    "duration": 4,
    "start_time": "2024-04-01T14:46:26.533Z"
   },
   {
    "duration": 167,
    "start_time": "2024-04-01T14:46:26.538Z"
   },
   {
    "duration": 159,
    "start_time": "2024-04-01T14:46:26.714Z"
   },
   {
    "duration": 4,
    "start_time": "2024-04-01T14:46:26.875Z"
   },
   {
    "duration": 234,
    "start_time": "2024-04-01T14:46:26.881Z"
   },
   {
    "duration": 175,
    "start_time": "2024-04-01T14:46:27.117Z"
   },
   {
    "duration": 11,
    "start_time": "2024-04-01T14:46:27.293Z"
   },
   {
    "duration": 9,
    "start_time": "2024-04-01T14:46:27.314Z"
   },
   {
    "duration": 30,
    "start_time": "2024-04-01T14:46:27.324Z"
   },
   {
    "duration": 14,
    "start_time": "2024-04-01T14:46:27.355Z"
   },
   {
    "duration": 8,
    "start_time": "2024-04-01T14:51:16.752Z"
   },
   {
    "duration": 234,
    "start_time": "2024-04-01T14:52:32.807Z"
   },
   {
    "duration": 142,
    "start_time": "2024-04-01T14:52:39.629Z"
   },
   {
    "duration": 224,
    "start_time": "2024-04-01T14:52:43.044Z"
   },
   {
    "duration": 212,
    "start_time": "2024-04-01T14:56:52.350Z"
   },
   {
    "duration": 170,
    "start_time": "2024-04-01T14:57:26.767Z"
   },
   {
    "duration": 224,
    "start_time": "2024-04-01T14:57:37.112Z"
   },
   {
    "duration": 212,
    "start_time": "2024-04-01T14:57:39.635Z"
   },
   {
    "duration": 13,
    "start_time": "2024-04-01T14:57:56.611Z"
   },
   {
    "duration": 10,
    "start_time": "2024-04-01T14:58:25.980Z"
   },
   {
    "duration": 8,
    "start_time": "2024-04-01T14:59:41.365Z"
   },
   {
    "duration": 9,
    "start_time": "2024-04-01T14:59:43.220Z"
   },
   {
    "duration": 4,
    "start_time": "2024-04-01T15:15:49.724Z"
   },
   {
    "duration": 4,
    "start_time": "2024-04-01T15:15:54.489Z"
   },
   {
    "duration": 8,
    "start_time": "2024-04-01T15:15:59.989Z"
   },
   {
    "duration": 5,
    "start_time": "2024-04-01T15:16:06.061Z"
   },
   {
    "duration": 8,
    "start_time": "2024-04-01T15:16:20.066Z"
   },
   {
    "duration": 4,
    "start_time": "2024-04-01T15:16:25.048Z"
   },
   {
    "duration": 11,
    "start_time": "2024-04-01T15:25:21.231Z"
   },
   {
    "duration": 15,
    "start_time": "2024-04-01T15:25:59.470Z"
   },
   {
    "duration": 12,
    "start_time": "2024-04-01T15:28:08.961Z"
   },
   {
    "duration": 11,
    "start_time": "2024-04-01T15:28:32.040Z"
   },
   {
    "duration": 12,
    "start_time": "2024-04-01T15:29:49.099Z"
   },
   {
    "duration": 13,
    "start_time": "2024-04-01T15:29:51.686Z"
   },
   {
    "duration": 12,
    "start_time": "2024-04-01T15:29:58.968Z"
   },
   {
    "duration": 12,
    "start_time": "2024-04-01T15:30:04.602Z"
   },
   {
    "duration": 5,
    "start_time": "2024-04-01T15:33:58.123Z"
   },
   {
    "duration": 11,
    "start_time": "2024-04-01T15:34:17.094Z"
   },
   {
    "duration": 10,
    "start_time": "2024-04-01T15:35:10.160Z"
   },
   {
    "duration": 12,
    "start_time": "2024-04-01T15:35:36.938Z"
   },
   {
    "duration": 4,
    "start_time": "2024-04-01T15:36:22.536Z"
   },
   {
    "duration": 11,
    "start_time": "2024-04-01T15:36:33.041Z"
   },
   {
    "duration": 6,
    "start_time": "2024-04-01T15:46:29.840Z"
   },
   {
    "duration": 6,
    "start_time": "2024-04-01T15:53:17.373Z"
   },
   {
    "duration": 14,
    "start_time": "2024-04-01T15:53:23.573Z"
   },
   {
    "duration": 8,
    "start_time": "2024-04-01T15:53:39.377Z"
   },
   {
    "duration": 6,
    "start_time": "2024-04-01T15:53:46.909Z"
   },
   {
    "duration": 20,
    "start_time": "2024-04-01T15:59:51.305Z"
   },
   {
    "duration": 8,
    "start_time": "2024-04-01T16:00:08.240Z"
   },
   {
    "duration": 17,
    "start_time": "2024-04-01T16:00:24.648Z"
   },
   {
    "duration": 15,
    "start_time": "2024-04-01T16:00:38.875Z"
   },
   {
    "duration": 13,
    "start_time": "2024-04-01T16:00:55.042Z"
   },
   {
    "duration": 13,
    "start_time": "2024-04-01T16:01:02.174Z"
   },
   {
    "duration": 8,
    "start_time": "2024-04-01T16:04:31.246Z"
   },
   {
    "duration": 11,
    "start_time": "2024-04-01T16:04:40.081Z"
   },
   {
    "duration": 20,
    "start_time": "2024-04-01T16:05:20.179Z"
   },
   {
    "duration": 12,
    "start_time": "2024-04-01T16:05:30.520Z"
   },
   {
    "duration": 19,
    "start_time": "2024-04-01T16:05:43.427Z"
   },
   {
    "duration": 11,
    "start_time": "2024-04-01T16:06:08.030Z"
   },
   {
    "duration": 132,
    "start_time": "2024-04-01T16:06:15.847Z"
   },
   {
    "duration": 12,
    "start_time": "2024-04-01T16:06:19.843Z"
   },
   {
    "duration": 15,
    "start_time": "2024-04-01T16:06:41.313Z"
   },
   {
    "duration": 23,
    "start_time": "2024-04-01T16:06:47.444Z"
   },
   {
    "duration": 14,
    "start_time": "2024-04-01T16:09:41.566Z"
   },
   {
    "duration": 12,
    "start_time": "2024-04-01T16:09:45.023Z"
   },
   {
    "duration": 20,
    "start_time": "2024-04-01T16:09:52.678Z"
   },
   {
    "duration": 27,
    "start_time": "2024-04-01T16:10:01.842Z"
   },
   {
    "duration": 13,
    "start_time": "2024-04-01T16:10:21.016Z"
   },
   {
    "duration": 24,
    "start_time": "2024-04-01T16:10:29.648Z"
   },
   {
    "duration": 13,
    "start_time": "2024-04-01T16:10:51.324Z"
   },
   {
    "duration": 6,
    "start_time": "2024-04-01T16:12:07.253Z"
   },
   {
    "duration": 16,
    "start_time": "2024-04-01T16:12:12.244Z"
   },
   {
    "duration": 9,
    "start_time": "2024-04-01T16:12:37.622Z"
   },
   {
    "duration": 7,
    "start_time": "2024-04-01T16:14:52.661Z"
   },
   {
    "duration": 27,
    "start_time": "2024-04-01T16:14:54.175Z"
   },
   {
    "duration": 21,
    "start_time": "2024-04-01T16:23:47.229Z"
   },
   {
    "duration": 26,
    "start_time": "2024-04-01T16:23:51.831Z"
   },
   {
    "duration": 21,
    "start_time": "2024-04-01T16:25:35.573Z"
   },
   {
    "duration": 6,
    "start_time": "2024-04-01T16:25:43.307Z"
   },
   {
    "duration": 6,
    "start_time": "2024-04-01T16:25:46.213Z"
   },
   {
    "duration": 6,
    "start_time": "2024-04-01T16:25:51.958Z"
   },
   {
    "duration": 5,
    "start_time": "2024-04-01T16:26:12.613Z"
   },
   {
    "duration": 6,
    "start_time": "2024-04-01T16:26:48.004Z"
   },
   {
    "duration": 41,
    "start_time": "2024-04-01T16:26:48.012Z"
   },
   {
    "duration": 5,
    "start_time": "2024-04-01T16:26:48.054Z"
   },
   {
    "duration": 10,
    "start_time": "2024-04-01T16:26:48.061Z"
   },
   {
    "duration": 24,
    "start_time": "2024-04-01T16:26:48.073Z"
   },
   {
    "duration": 17,
    "start_time": "2024-04-01T16:26:48.099Z"
   },
   {
    "duration": 52,
    "start_time": "2024-04-01T16:26:48.118Z"
   },
   {
    "duration": 47,
    "start_time": "2024-04-01T16:26:48.172Z"
   },
   {
    "duration": 21,
    "start_time": "2024-04-01T16:26:48.221Z"
   },
   {
    "duration": 7,
    "start_time": "2024-04-01T16:26:48.243Z"
   },
   {
    "duration": 24,
    "start_time": "2024-04-01T16:26:48.251Z"
   },
   {
    "duration": 16,
    "start_time": "2024-04-01T16:26:48.277Z"
   },
   {
    "duration": 18,
    "start_time": "2024-04-01T16:26:48.294Z"
   },
   {
    "duration": 21,
    "start_time": "2024-04-01T16:26:48.315Z"
   },
   {
    "duration": 7,
    "start_time": "2024-04-01T16:26:48.338Z"
   },
   {
    "duration": 6,
    "start_time": "2024-04-01T16:26:48.346Z"
   },
   {
    "duration": 299,
    "start_time": "2024-04-01T16:26:48.353Z"
   },
   {
    "duration": 231,
    "start_time": "2024-04-01T16:26:48.654Z"
   },
   {
    "duration": 224,
    "start_time": "2024-04-01T16:26:48.887Z"
   },
   {
    "duration": 337,
    "start_time": "2024-04-01T16:26:49.115Z"
   },
   {
    "duration": 239,
    "start_time": "2024-04-01T16:26:49.453Z"
   },
   {
    "duration": 353,
    "start_time": "2024-04-01T16:26:49.694Z"
   },
   {
    "duration": 136,
    "start_time": "2024-04-01T16:26:50.048Z"
   },
   {
    "duration": 4,
    "start_time": "2024-04-01T16:26:50.185Z"
   },
   {
    "duration": 162,
    "start_time": "2024-04-01T16:26:50.191Z"
   },
   {
    "duration": 252,
    "start_time": "2024-04-01T16:26:50.355Z"
   },
   {
    "duration": 7,
    "start_time": "2024-04-01T16:26:50.608Z"
   },
   {
    "duration": 217,
    "start_time": "2024-04-01T16:26:50.616Z"
   },
   {
    "duration": 184,
    "start_time": "2024-04-01T16:26:50.835Z"
   },
   {
    "duration": 10,
    "start_time": "2024-04-01T16:26:51.021Z"
   },
   {
    "duration": 9,
    "start_time": "2024-04-01T16:26:51.032Z"
   },
   {
    "duration": 29,
    "start_time": "2024-04-01T16:26:51.043Z"
   },
   {
    "duration": 43,
    "start_time": "2024-04-01T16:26:51.074Z"
   },
   {
    "duration": 3,
    "start_time": "2024-04-01T16:37:49.051Z"
   },
   {
    "duration": 9,
    "start_time": "2024-04-01T16:38:10.647Z"
   },
   {
    "duration": 8,
    "start_time": "2024-04-01T16:38:28.398Z"
   },
   {
    "duration": 11,
    "start_time": "2024-04-01T16:53:37.927Z"
   },
   {
    "duration": 5,
    "start_time": "2024-04-01T16:53:56.127Z"
   },
   {
    "duration": 9,
    "start_time": "2024-04-01T16:54:19.578Z"
   },
   {
    "duration": 10,
    "start_time": "2024-04-01T16:54:29.161Z"
   },
   {
    "duration": 9,
    "start_time": "2024-04-01T16:54:39.830Z"
   },
   {
    "duration": 9,
    "start_time": "2024-04-01T16:54:46.243Z"
   },
   {
    "duration": 7,
    "start_time": "2024-04-01T16:54:54.786Z"
   },
   {
    "duration": 13,
    "start_time": "2024-04-01T16:54:59.037Z"
   },
   {
    "duration": 4,
    "start_time": "2024-04-01T16:56:07.553Z"
   },
   {
    "duration": 6,
    "start_time": "2024-04-01T16:56:15.347Z"
   },
   {
    "duration": 11,
    "start_time": "2024-04-01T16:57:33.519Z"
   },
   {
    "duration": 66,
    "start_time": "2024-04-01T16:57:42.877Z"
   },
   {
    "duration": 69,
    "start_time": "2024-04-01T16:57:50.057Z"
   },
   {
    "duration": 11,
    "start_time": "2024-04-01T16:57:57.678Z"
   },
   {
    "duration": 70,
    "start_time": "2024-04-01T16:58:04.695Z"
   },
   {
    "duration": 9,
    "start_time": "2024-04-01T16:58:09.081Z"
   },
   {
    "duration": 10,
    "start_time": "2024-04-01T16:58:30.213Z"
   },
   {
    "duration": 29,
    "start_time": "2024-04-01T16:59:15.558Z"
   },
   {
    "duration": 5,
    "start_time": "2024-04-01T16:59:23.815Z"
   },
   {
    "duration": 14,
    "start_time": "2024-04-01T16:59:29.143Z"
   },
   {
    "duration": 5,
    "start_time": "2024-04-01T16:59:57.978Z"
   },
   {
    "duration": 36,
    "start_time": "2024-04-01T16:59:57.985Z"
   },
   {
    "duration": 5,
    "start_time": "2024-04-01T16:59:58.023Z"
   },
   {
    "duration": 20,
    "start_time": "2024-04-01T16:59:58.030Z"
   },
   {
    "duration": 11,
    "start_time": "2024-04-01T16:59:58.054Z"
   },
   {
    "duration": 13,
    "start_time": "2024-04-01T16:59:58.067Z"
   },
   {
    "duration": 37,
    "start_time": "2024-04-01T16:59:58.082Z"
   },
   {
    "duration": 45,
    "start_time": "2024-04-01T16:59:58.121Z"
   },
   {
    "duration": 21,
    "start_time": "2024-04-01T16:59:58.168Z"
   },
   {
    "duration": 6,
    "start_time": "2024-04-01T16:59:58.191Z"
   },
   {
    "duration": 14,
    "start_time": "2024-04-01T16:59:58.198Z"
   },
   {
    "duration": 6,
    "start_time": "2024-04-01T16:59:58.214Z"
   },
   {
    "duration": 11,
    "start_time": "2024-04-01T16:59:58.222Z"
   },
   {
    "duration": 13,
    "start_time": "2024-04-01T16:59:58.236Z"
   },
   {
    "duration": 12,
    "start_time": "2024-04-01T16:59:58.251Z"
   },
   {
    "duration": 9,
    "start_time": "2024-04-01T16:59:58.265Z"
   },
   {
    "duration": 44,
    "start_time": "2024-04-01T16:59:58.275Z"
   },
   {
    "duration": 303,
    "start_time": "2024-04-01T16:59:58.321Z"
   },
   {
    "duration": 235,
    "start_time": "2024-04-01T16:59:58.626Z"
   },
   {
    "duration": 255,
    "start_time": "2024-04-01T16:59:58.863Z"
   },
   {
    "duration": 335,
    "start_time": "2024-04-01T16:59:59.120Z"
   },
   {
    "duration": 308,
    "start_time": "2024-04-01T16:59:59.457Z"
   },
   {
    "duration": 360,
    "start_time": "2024-04-01T16:59:59.766Z"
   },
   {
    "duration": 185,
    "start_time": "2024-04-01T17:00:00.128Z"
   },
   {
    "duration": 4,
    "start_time": "2024-04-01T17:00:00.316Z"
   },
   {
    "duration": 186,
    "start_time": "2024-04-01T17:00:00.322Z"
   },
   {
    "duration": 169,
    "start_time": "2024-04-01T17:00:00.511Z"
   },
   {
    "duration": 4,
    "start_time": "2024-04-01T17:00:00.681Z"
   },
   {
    "duration": 279,
    "start_time": "2024-04-01T17:00:00.687Z"
   },
   {
    "duration": 177,
    "start_time": "2024-04-01T17:00:00.968Z"
   },
   {
    "duration": 11,
    "start_time": "2024-04-01T17:00:01.146Z"
   },
   {
    "duration": 35,
    "start_time": "2024-04-01T17:00:01.159Z"
   },
   {
    "duration": 55,
    "start_time": "2024-04-01T17:00:01.196Z"
   },
   {
    "duration": 27,
    "start_time": "2024-04-01T17:00:01.253Z"
   },
   {
    "duration": 5,
    "start_time": "2024-04-01T17:03:14.807Z"
   },
   {
    "duration": 3,
    "start_time": "2024-04-01T17:03:19.656Z"
   },
   {
    "duration": 24,
    "start_time": "2024-04-01T17:05:09.003Z"
   },
   {
    "duration": 166,
    "start_time": "2024-04-01T17:11:42.218Z"
   },
   {
    "duration": 172,
    "start_time": "2024-04-01T17:14:25.791Z"
   },
   {
    "duration": 217,
    "start_time": "2024-04-01T17:18:42.007Z"
   },
   {
    "duration": 157,
    "start_time": "2024-04-01T17:22:53.156Z"
   },
   {
    "duration": 176,
    "start_time": "2024-04-01T17:28:59.164Z"
   },
   {
    "duration": 188,
    "start_time": "2024-04-01T17:29:57.786Z"
   },
   {
    "duration": 217,
    "start_time": "2024-04-01T17:31:40.982Z"
   },
   {
    "duration": 204,
    "start_time": "2024-04-01T17:33:06.022Z"
   },
   {
    "duration": 158,
    "start_time": "2024-04-01T17:33:15.239Z"
   },
   {
    "duration": 152,
    "start_time": "2024-04-01T17:33:43.956Z"
   },
   {
    "duration": 167,
    "start_time": "2024-04-01T17:34:06.258Z"
   },
   {
    "duration": 68,
    "start_time": "2024-04-01T17:34:22.100Z"
   },
   {
    "duration": 182,
    "start_time": "2024-04-01T17:34:28.037Z"
   },
   {
    "duration": 160,
    "start_time": "2024-04-01T17:38:00.944Z"
   },
   {
    "duration": 156,
    "start_time": "2024-04-01T17:38:12.039Z"
   },
   {
    "duration": 182,
    "start_time": "2024-04-01T17:38:38.174Z"
   },
   {
    "duration": 162,
    "start_time": "2024-04-01T17:38:51.185Z"
   },
   {
    "duration": 163,
    "start_time": "2024-04-01T17:38:56.704Z"
   },
   {
    "duration": 198,
    "start_time": "2024-04-01T17:39:07.731Z"
   },
   {
    "duration": 186,
    "start_time": "2024-04-01T17:40:39.935Z"
   },
   {
    "duration": 171,
    "start_time": "2024-04-01T17:41:25.504Z"
   },
   {
    "duration": 153,
    "start_time": "2024-04-01T17:41:35.499Z"
   },
   {
    "duration": 182,
    "start_time": "2024-04-01T17:42:55.857Z"
   },
   {
    "duration": 147,
    "start_time": "2024-04-01T17:42:59.572Z"
   },
   {
    "duration": 166,
    "start_time": "2024-04-01T17:46:33.019Z"
   },
   {
    "duration": 227,
    "start_time": "2024-04-01T17:48:25.926Z"
   },
   {
    "duration": 27,
    "start_time": "2024-04-01T17:50:11.671Z"
   },
   {
    "duration": 7,
    "start_time": "2024-04-01T17:50:44.004Z"
   },
   {
    "duration": 22,
    "start_time": "2024-04-01T17:50:53.826Z"
   },
   {
    "duration": 8,
    "start_time": "2024-04-01T17:51:00.748Z"
   },
   {
    "duration": 17,
    "start_time": "2024-04-01T17:51:27.734Z"
   },
   {
    "duration": 192,
    "start_time": "2024-04-01T18:14:41.763Z"
   },
   {
    "duration": 13,
    "start_time": "2024-04-01T18:14:53.032Z"
   },
   {
    "duration": 14,
    "start_time": "2024-04-01T18:16:27.006Z"
   },
   {
    "duration": 171,
    "start_time": "2024-04-01T18:16:35.164Z"
   },
   {
    "duration": 201,
    "start_time": "2024-04-01T18:16:42.568Z"
   },
   {
    "duration": 153,
    "start_time": "2024-04-01T18:22:42.303Z"
   },
   {
    "duration": 71,
    "start_time": "2024-04-01T18:22:48.909Z"
   },
   {
    "duration": 186,
    "start_time": "2024-04-01T18:22:59.583Z"
   },
   {
    "duration": 77,
    "start_time": "2024-04-01T18:23:07.081Z"
   },
   {
    "duration": 73,
    "start_time": "2024-04-01T18:23:15.128Z"
   },
   {
    "duration": 181,
    "start_time": "2024-04-01T18:23:20.160Z"
   },
   {
    "duration": 166,
    "start_time": "2024-04-01T18:23:26.198Z"
   },
   {
    "duration": 204,
    "start_time": "2024-04-01T18:25:09.041Z"
   },
   {
    "duration": 193,
    "start_time": "2024-04-01T18:25:23.716Z"
   },
   {
    "duration": 187,
    "start_time": "2024-04-01T18:25:26.561Z"
   },
   {
    "duration": 34,
    "start_time": "2024-04-01T18:25:42.953Z"
   },
   {
    "duration": 19,
    "start_time": "2024-04-01T18:26:22.984Z"
   },
   {
    "duration": 14,
    "start_time": "2024-04-01T18:26:33.528Z"
   },
   {
    "duration": 20,
    "start_time": "2024-04-01T18:27:03.256Z"
   },
   {
    "duration": 97,
    "start_time": "2024-04-01T18:38:31.933Z"
   },
   {
    "duration": 15,
    "start_time": "2024-04-01T18:38:34.172Z"
   },
   {
    "duration": 182,
    "start_time": "2024-04-01T19:13:26.281Z"
   },
   {
    "duration": 189,
    "start_time": "2024-04-01T19:13:49.527Z"
   },
   {
    "duration": 16,
    "start_time": "2024-04-01T19:14:34.814Z"
   },
   {
    "duration": 53,
    "start_time": "2024-04-01T19:16:18.297Z"
   },
   {
    "duration": 51,
    "start_time": "2024-04-01T19:16:40.332Z"
   },
   {
    "duration": 71,
    "start_time": "2024-04-01T19:18:46.985Z"
   },
   {
    "duration": 84,
    "start_time": "2024-04-01T19:19:38.409Z"
   },
   {
    "duration": 108,
    "start_time": "2024-04-01T19:19:45.157Z"
   },
   {
    "duration": 68,
    "start_time": "2024-04-01T19:19:49.001Z"
   },
   {
    "duration": 25,
    "start_time": "2024-04-01T19:21:18.643Z"
   },
   {
    "duration": 72,
    "start_time": "2024-04-01T19:34:06.704Z"
   },
   {
    "duration": 3,
    "start_time": "2024-04-01T19:34:09.902Z"
   },
   {
    "duration": 5,
    "start_time": "2024-04-01T19:34:15.464Z"
   },
   {
    "duration": 4,
    "start_time": "2024-04-01T19:34:52.689Z"
   },
   {
    "duration": 5,
    "start_time": "2024-04-01T19:34:57.144Z"
   },
   {
    "duration": 4,
    "start_time": "2024-04-01T19:35:04.284Z"
   },
   {
    "duration": 5,
    "start_time": "2024-04-01T19:35:30.626Z"
   },
   {
    "duration": 61,
    "start_time": "2024-04-01T19:35:30.633Z"
   },
   {
    "duration": 5,
    "start_time": "2024-04-01T19:35:30.696Z"
   },
   {
    "duration": 37,
    "start_time": "2024-04-01T19:35:30.703Z"
   },
   {
    "duration": 35,
    "start_time": "2024-04-01T19:35:30.742Z"
   },
   {
    "duration": 36,
    "start_time": "2024-04-01T19:35:30.778Z"
   },
   {
    "duration": 29,
    "start_time": "2024-04-01T19:35:30.817Z"
   },
   {
    "duration": 62,
    "start_time": "2024-04-01T19:35:30.848Z"
   },
   {
    "duration": 25,
    "start_time": "2024-04-01T19:35:30.912Z"
   },
   {
    "duration": 13,
    "start_time": "2024-04-01T19:35:30.938Z"
   },
   {
    "duration": 37,
    "start_time": "2024-04-01T19:35:30.953Z"
   },
   {
    "duration": 32,
    "start_time": "2024-04-01T19:35:30.992Z"
   },
   {
    "duration": 35,
    "start_time": "2024-04-01T19:35:31.026Z"
   },
   {
    "duration": 42,
    "start_time": "2024-04-01T19:35:31.064Z"
   },
   {
    "duration": 43,
    "start_time": "2024-04-01T19:35:31.108Z"
   },
   {
    "duration": 77,
    "start_time": "2024-04-01T19:35:31.152Z"
   },
   {
    "duration": 318,
    "start_time": "2024-04-01T19:35:31.230Z"
   },
   {
    "duration": 222,
    "start_time": "2024-04-01T19:35:31.550Z"
   },
   {
    "duration": 222,
    "start_time": "2024-04-01T19:35:31.774Z"
   },
   {
    "duration": 346,
    "start_time": "2024-04-01T19:35:31.998Z"
   },
   {
    "duration": 342,
    "start_time": "2024-04-01T19:35:32.346Z"
   },
   {
    "duration": 341,
    "start_time": "2024-04-01T19:35:32.690Z"
   },
   {
    "duration": 169,
    "start_time": "2024-04-01T19:35:33.032Z"
   },
   {
    "duration": 11,
    "start_time": "2024-04-01T19:35:33.203Z"
   },
   {
    "duration": 161,
    "start_time": "2024-04-01T19:35:33.216Z"
   },
   {
    "duration": 150,
    "start_time": "2024-04-01T19:35:33.378Z"
   },
   {
    "duration": 5,
    "start_time": "2024-04-01T19:35:33.530Z"
   },
   {
    "duration": 252,
    "start_time": "2024-04-01T19:35:33.537Z"
   },
   {
    "duration": 201,
    "start_time": "2024-04-01T19:35:33.790Z"
   },
   {
    "duration": 26,
    "start_time": "2024-04-01T19:35:33.992Z"
   },
   {
    "duration": 9,
    "start_time": "2024-04-01T19:35:34.020Z"
   },
   {
    "duration": 4,
    "start_time": "2024-04-01T19:35:34.030Z"
   },
   {
    "duration": 50,
    "start_time": "2024-04-01T19:35:34.036Z"
   },
   {
    "duration": 45,
    "start_time": "2024-04-01T19:35:34.088Z"
   },
   {
    "duration": 5,
    "start_time": "2024-04-01T19:38:53.343Z"
   },
   {
    "duration": 81,
    "start_time": "2024-04-01T19:40:26.072Z"
   },
   {
    "duration": 13,
    "start_time": "2024-04-01T19:40:30.995Z"
   },
   {
    "duration": 15,
    "start_time": "2024-04-01T19:40:59.560Z"
   },
   {
    "duration": 26,
    "start_time": "2024-04-01T19:41:03.736Z"
   },
   {
    "duration": 15,
    "start_time": "2024-04-01T19:41:15.205Z"
   },
   {
    "duration": 1223,
    "start_time": "2024-04-02T07:02:40.975Z"
   },
   {
    "duration": 36,
    "start_time": "2024-04-02T07:02:42.200Z"
   },
   {
    "duration": 6,
    "start_time": "2024-04-02T07:02:42.237Z"
   },
   {
    "duration": 30,
    "start_time": "2024-04-02T07:02:42.245Z"
   },
   {
    "duration": 33,
    "start_time": "2024-04-02T07:02:42.277Z"
   },
   {
    "duration": 27,
    "start_time": "2024-04-02T07:02:42.312Z"
   },
   {
    "duration": 30,
    "start_time": "2024-04-02T07:02:42.341Z"
   },
   {
    "duration": 55,
    "start_time": "2024-04-02T07:02:42.372Z"
   },
   {
    "duration": 20,
    "start_time": "2024-04-02T07:02:42.429Z"
   },
   {
    "duration": 5,
    "start_time": "2024-04-02T07:02:42.451Z"
   },
   {
    "duration": 31,
    "start_time": "2024-04-02T07:02:42.457Z"
   },
   {
    "duration": 22,
    "start_time": "2024-04-02T07:02:42.490Z"
   },
   {
    "duration": 24,
    "start_time": "2024-04-02T07:02:42.513Z"
   },
   {
    "duration": 27,
    "start_time": "2024-04-02T07:02:42.538Z"
   },
   {
    "duration": 28,
    "start_time": "2024-04-02T07:02:42.566Z"
   },
   {
    "duration": 42,
    "start_time": "2024-04-02T07:02:42.596Z"
   },
   {
    "duration": 266,
    "start_time": "2024-04-02T07:02:42.640Z"
   },
   {
    "duration": 292,
    "start_time": "2024-04-02T07:02:42.907Z"
   },
   {
    "duration": 221,
    "start_time": "2024-04-02T07:02:43.201Z"
   },
   {
    "duration": 317,
    "start_time": "2024-04-02T07:02:43.424Z"
   },
   {
    "duration": 217,
    "start_time": "2024-04-02T07:02:43.743Z"
   },
   {
    "duration": 327,
    "start_time": "2024-04-02T07:02:43.962Z"
   },
   {
    "duration": 162,
    "start_time": "2024-04-02T07:02:44.290Z"
   },
   {
    "duration": 5,
    "start_time": "2024-04-02T07:02:44.453Z"
   },
   {
    "duration": 221,
    "start_time": "2024-04-02T07:02:44.465Z"
   },
   {
    "duration": 144,
    "start_time": "2024-04-02T07:02:44.688Z"
   },
   {
    "duration": 4,
    "start_time": "2024-04-02T07:02:44.834Z"
   },
   {
    "duration": 239,
    "start_time": "2024-04-02T07:02:44.842Z"
   },
   {
    "duration": 194,
    "start_time": "2024-04-02T07:02:45.083Z"
   },
   {
    "duration": 14,
    "start_time": "2024-04-02T07:02:45.279Z"
   },
   {
    "duration": 17,
    "start_time": "2024-04-02T07:02:45.294Z"
   },
   {
    "duration": 11,
    "start_time": "2024-04-02T07:02:45.313Z"
   },
   {
    "duration": 73,
    "start_time": "2024-04-02T07:02:45.325Z"
   },
   {
    "duration": 18,
    "start_time": "2024-04-02T07:02:45.400Z"
   },
   {
    "duration": 1294,
    "start_time": "2024-04-02T08:52:54.862Z"
   },
   {
    "duration": 84,
    "start_time": "2024-04-02T08:52:56.158Z"
   },
   {
    "duration": 7,
    "start_time": "2024-04-02T08:52:56.243Z"
   },
   {
    "duration": 11,
    "start_time": "2024-04-02T08:52:56.252Z"
   },
   {
    "duration": 16,
    "start_time": "2024-04-02T08:52:56.266Z"
   },
   {
    "duration": 11,
    "start_time": "2024-04-02T08:52:56.284Z"
   },
   {
    "duration": 28,
    "start_time": "2024-04-02T08:52:56.297Z"
   },
   {
    "duration": 100,
    "start_time": "2024-04-02T08:52:56.326Z"
   },
   {
    "duration": 77,
    "start_time": "2024-04-02T08:52:56.428Z"
   },
   {
    "duration": 5,
    "start_time": "2024-04-02T08:52:56.507Z"
   },
   {
    "duration": 10,
    "start_time": "2024-04-02T08:52:56.514Z"
   },
   {
    "duration": 10,
    "start_time": "2024-04-02T08:52:56.525Z"
   },
   {
    "duration": 11,
    "start_time": "2024-04-02T08:52:56.536Z"
   },
   {
    "duration": 17,
    "start_time": "2024-04-02T08:52:56.550Z"
   },
   {
    "duration": 12,
    "start_time": "2024-04-02T08:52:56.568Z"
   },
   {
    "duration": 34,
    "start_time": "2024-04-02T08:52:56.582Z"
   },
   {
    "duration": 305,
    "start_time": "2024-04-02T08:52:56.618Z"
   },
   {
    "duration": 311,
    "start_time": "2024-04-02T08:52:56.924Z"
   },
   {
    "duration": 223,
    "start_time": "2024-04-02T08:52:57.236Z"
   },
   {
    "duration": 331,
    "start_time": "2024-04-02T08:52:57.460Z"
   },
   {
    "duration": 243,
    "start_time": "2024-04-02T08:52:57.793Z"
   },
   {
    "duration": 321,
    "start_time": "2024-04-02T08:52:58.037Z"
   },
   {
    "duration": 168,
    "start_time": "2024-04-02T08:52:58.360Z"
   },
   {
    "duration": 4,
    "start_time": "2024-04-02T08:52:58.530Z"
   },
   {
    "duration": 222,
    "start_time": "2024-04-02T08:52:58.536Z"
   },
   {
    "duration": 171,
    "start_time": "2024-04-02T08:52:58.759Z"
   },
   {
    "duration": 5,
    "start_time": "2024-04-02T08:52:58.931Z"
   },
   {
    "duration": 243,
    "start_time": "2024-04-02T08:52:58.938Z"
   },
   {
    "duration": 216,
    "start_time": "2024-04-02T08:52:59.183Z"
   },
   {
    "duration": 18,
    "start_time": "2024-04-02T08:52:59.401Z"
   },
   {
    "duration": 8,
    "start_time": "2024-04-02T08:52:59.420Z"
   },
   {
    "duration": 5,
    "start_time": "2024-04-02T08:52:59.430Z"
   },
   {
    "duration": 53,
    "start_time": "2024-04-02T08:52:59.436Z"
   },
   {
    "duration": 21,
    "start_time": "2024-04-02T08:52:59.515Z"
   },
   {
    "duration": 76,
    "start_time": "2024-04-02T08:56:33.392Z"
   },
   {
    "duration": 64,
    "start_time": "2024-04-02T08:56:52.778Z"
   },
   {
    "duration": 114,
    "start_time": "2024-04-02T08:57:42.212Z"
   },
   {
    "duration": 12,
    "start_time": "2024-04-02T08:57:48.463Z"
   },
   {
    "duration": 9,
    "start_time": "2024-04-02T08:57:52.494Z"
   },
   {
    "duration": 6,
    "start_time": "2024-04-02T08:58:30.840Z"
   },
   {
    "duration": 15,
    "start_time": "2024-04-02T08:58:31.571Z"
   },
   {
    "duration": 11,
    "start_time": "2024-04-02T08:58:55.487Z"
   },
   {
    "duration": 5,
    "start_time": "2024-04-02T08:59:07.938Z"
   },
   {
    "duration": 10,
    "start_time": "2024-04-02T08:59:37.239Z"
   },
   {
    "duration": 13,
    "start_time": "2024-04-02T09:07:42.086Z"
   },
   {
    "duration": 11,
    "start_time": "2024-04-02T09:07:56.110Z"
   },
   {
    "duration": 65,
    "start_time": "2024-04-02T09:08:08.456Z"
   },
   {
    "duration": 10,
    "start_time": "2024-04-02T09:08:17.805Z"
   },
   {
    "duration": 16,
    "start_time": "2024-04-02T09:08:18.402Z"
   },
   {
    "duration": 14,
    "start_time": "2024-04-02T09:08:21.626Z"
   },
   {
    "duration": 11,
    "start_time": "2024-04-02T09:08:31.306Z"
   },
   {
    "duration": 18,
    "start_time": "2024-04-02T09:08:31.830Z"
   },
   {
    "duration": 6,
    "start_time": "2024-04-02T09:08:35.510Z"
   },
   {
    "duration": 1306,
    "start_time": "2024-04-02T15:46:12.871Z"
   },
   {
    "duration": 76,
    "start_time": "2024-04-02T15:46:14.178Z"
   },
   {
    "duration": 6,
    "start_time": "2024-04-02T15:46:14.256Z"
   },
   {
    "duration": 18,
    "start_time": "2024-04-02T15:46:14.264Z"
   },
   {
    "duration": 16,
    "start_time": "2024-04-02T15:46:14.284Z"
   },
   {
    "duration": 12,
    "start_time": "2024-04-02T15:46:14.302Z"
   },
   {
    "duration": 18,
    "start_time": "2024-04-02T15:46:14.316Z"
   },
   {
    "duration": 87,
    "start_time": "2024-04-02T15:46:14.336Z"
   },
   {
    "duration": 94,
    "start_time": "2024-04-02T15:46:14.424Z"
   },
   {
    "duration": 72,
    "start_time": "2024-04-02T15:46:14.521Z"
   },
   {
    "duration": 6,
    "start_time": "2024-04-02T15:46:14.595Z"
   },
   {
    "duration": 15,
    "start_time": "2024-04-02T15:46:14.602Z"
   },
   {
    "duration": 11,
    "start_time": "2024-04-02T15:46:14.618Z"
   },
   {
    "duration": 10,
    "start_time": "2024-04-02T15:46:14.630Z"
   },
   {
    "duration": 13,
    "start_time": "2024-04-02T15:46:14.642Z"
   },
   {
    "duration": 12,
    "start_time": "2024-04-02T15:46:14.657Z"
   },
   {
    "duration": 17,
    "start_time": "2024-04-02T15:46:14.670Z"
   },
   {
    "duration": 277,
    "start_time": "2024-04-02T15:46:14.689Z"
   },
   {
    "duration": 289,
    "start_time": "2024-04-02T15:46:14.968Z"
   },
   {
    "duration": 213,
    "start_time": "2024-04-02T15:46:15.259Z"
   },
   {
    "duration": 355,
    "start_time": "2024-04-02T15:46:15.474Z"
   },
   {
    "duration": 213,
    "start_time": "2024-04-02T15:46:15.831Z"
   },
   {
    "duration": 310,
    "start_time": "2024-04-02T15:46:16.047Z"
   },
   {
    "duration": 234,
    "start_time": "2024-04-02T15:46:16.359Z"
   },
   {
    "duration": 5,
    "start_time": "2024-04-02T15:46:16.595Z"
   },
   {
    "duration": 152,
    "start_time": "2024-04-02T15:46:16.601Z"
   },
   {
    "duration": 144,
    "start_time": "2024-04-02T15:46:16.754Z"
   },
   {
    "duration": 3,
    "start_time": "2024-04-02T15:46:16.901Z"
   },
   {
    "duration": 225,
    "start_time": "2024-04-02T15:46:16.906Z"
   },
   {
    "duration": 175,
    "start_time": "2024-04-02T15:46:17.132Z"
   },
   {
    "duration": 14,
    "start_time": "2024-04-02T15:46:17.308Z"
   },
   {
    "duration": 25,
    "start_time": "2024-04-02T15:46:17.323Z"
   },
   {
    "duration": 5,
    "start_time": "2024-04-02T15:46:17.350Z"
   },
   {
    "duration": 53,
    "start_time": "2024-04-02T15:46:17.357Z"
   },
   {
    "duration": 18,
    "start_time": "2024-04-02T15:46:17.411Z"
   }
  ],
  "kernelspec": {
   "display_name": "Python 3 (ipykernel)",
   "language": "python",
   "name": "python3"
  },
  "language_info": {
   "codemirror_mode": {
    "name": "ipython",
    "version": 3
   },
   "file_extension": ".py",
   "mimetype": "text/x-python",
   "name": "python",
   "nbconvert_exporter": "python",
   "pygments_lexer": "ipython3",
   "version": "3.12.3"
  },
  "toc": {
   "base_numbering": 1,
   "nav_menu": {},
   "number_sections": true,
   "sideBar": true,
   "skip_h1_title": true,
   "title_cell": "Table of Contents",
   "title_sidebar": "Contents",
   "toc_cell": false,
   "toc_position": {
    "height": "calc(100% - 180px)",
    "left": "10px",
    "top": "150px",
    "width": "356px"
   },
   "toc_section_display": true,
   "toc_window_display": false
  }
 },
 "nbformat": 4,
 "nbformat_minor": 4
}
