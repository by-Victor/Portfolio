{
 "cells": [
  {
   "cell_type": "markdown",
   "id": "386f2ae7",
   "metadata": {
    "deletable": false,
    "editable": false,
    "id": "386f2ae7"
   },
   "source": [
    "# Исследование надежности заемщиков\n"
   ]
  },
  {
   "cell_type": "markdown",
   "id": "ffe86f65",
   "metadata": {
    "deletable": false,
    "editable": false,
    "id": "ffe86f65"
   },
   "source": [
    "Во второй части проекта вы выполните шаги 3 и 4. Их вручную проверит ревьюер.\n",
    "Чтобы вам не пришлось писать код заново для шагов 1 и 2, мы добавили авторские решения в ячейки с кодом. \n",
    "\n"
   ]
  },
  {
   "cell_type": "markdown",
   "id": "26613308",
   "metadata": {
    "deletable": false,
    "editable": false,
    "id": "26613308"
   },
   "source": [
    "## Откройте таблицу и изучите общую информацию о данных"
   ]
  },
  {
   "cell_type": "markdown",
   "id": "3c9f838e",
   "metadata": {
    "deletable": false,
    "editable": false,
    "id": "3c9f838e"
   },
   "source": [
    "**Задание 1. Импортируйте библиотеку pandas. Считайте данные из csv-файла в датафрейм и сохраните в переменную `data`. Путь к файлу:**\n",
    "\n",
    "`/datasets/data.csv`"
   ]
  },
  {
   "cell_type": "code",
   "execution_count": 8,
   "id": "77a68a90",
   "metadata": {
    "deletable": false,
    "id": "77a68a90"
   },
   "outputs": [],
   "source": [
    "import pandas as pd\n",
    "\n",
    "try:\n",
    "    data = pd.read_csv('/Users/Victor/Desktop/Проекты Яндекс/Предобработка данных/Датасет/data.csv')\n",
    "except:\n",
    "    data = pd.read_csv('/datasets/data.csv')"
   ]
  },
  {
   "cell_type": "markdown",
   "id": "45365635",
   "metadata": {
    "deletable": false,
    "editable": false,
    "id": "45365635"
   },
   "source": [
    "**Задание 2. Выведите первые 20 строчек датафрейма `data` на экран.**"
   ]
  },
  {
   "cell_type": "code",
   "execution_count": 9,
   "id": "b0451a9a",
   "metadata": {
    "deletable": false,
    "id": "b0451a9a",
    "outputId": "1a8f3ef2-d323-4ec2-ddf7-89670b5944c4"
   },
   "outputs": [
    {
     "data": {
      "text/html": [
       "<div>\n",
       "<style scoped>\n",
       "    .dataframe tbody tr th:only-of-type {\n",
       "        vertical-align: middle;\n",
       "    }\n",
       "\n",
       "    .dataframe tbody tr th {\n",
       "        vertical-align: top;\n",
       "    }\n",
       "\n",
       "    .dataframe thead th {\n",
       "        text-align: right;\n",
       "    }\n",
       "</style>\n",
       "<table border=\"1\" class=\"dataframe\">\n",
       "  <thead>\n",
       "    <tr style=\"text-align: right;\">\n",
       "      <th></th>\n",
       "      <th>children</th>\n",
       "      <th>days_employed</th>\n",
       "      <th>dob_years</th>\n",
       "      <th>education</th>\n",
       "      <th>education_id</th>\n",
       "      <th>family_status</th>\n",
       "      <th>family_status_id</th>\n",
       "      <th>gender</th>\n",
       "      <th>income_type</th>\n",
       "      <th>debt</th>\n",
       "      <th>total_income</th>\n",
       "      <th>purpose</th>\n",
       "    </tr>\n",
       "  </thead>\n",
       "  <tbody>\n",
       "    <tr>\n",
       "      <th>0</th>\n",
       "      <td>1</td>\n",
       "      <td>-8437.673028</td>\n",
       "      <td>42</td>\n",
       "      <td>высшее</td>\n",
       "      <td>0</td>\n",
       "      <td>женат / замужем</td>\n",
       "      <td>0</td>\n",
       "      <td>F</td>\n",
       "      <td>сотрудник</td>\n",
       "      <td>0</td>\n",
       "      <td>253875.639453</td>\n",
       "      <td>покупка жилья</td>\n",
       "    </tr>\n",
       "    <tr>\n",
       "      <th>1</th>\n",
       "      <td>1</td>\n",
       "      <td>-4024.803754</td>\n",
       "      <td>36</td>\n",
       "      <td>среднее</td>\n",
       "      <td>1</td>\n",
       "      <td>женат / замужем</td>\n",
       "      <td>0</td>\n",
       "      <td>F</td>\n",
       "      <td>сотрудник</td>\n",
       "      <td>0</td>\n",
       "      <td>112080.014102</td>\n",
       "      <td>приобретение автомобиля</td>\n",
       "    </tr>\n",
       "    <tr>\n",
       "      <th>2</th>\n",
       "      <td>0</td>\n",
       "      <td>-5623.422610</td>\n",
       "      <td>33</td>\n",
       "      <td>Среднее</td>\n",
       "      <td>1</td>\n",
       "      <td>женат / замужем</td>\n",
       "      <td>0</td>\n",
       "      <td>M</td>\n",
       "      <td>сотрудник</td>\n",
       "      <td>0</td>\n",
       "      <td>145885.952297</td>\n",
       "      <td>покупка жилья</td>\n",
       "    </tr>\n",
       "    <tr>\n",
       "      <th>3</th>\n",
       "      <td>3</td>\n",
       "      <td>-4124.747207</td>\n",
       "      <td>32</td>\n",
       "      <td>среднее</td>\n",
       "      <td>1</td>\n",
       "      <td>женат / замужем</td>\n",
       "      <td>0</td>\n",
       "      <td>M</td>\n",
       "      <td>сотрудник</td>\n",
       "      <td>0</td>\n",
       "      <td>267628.550329</td>\n",
       "      <td>дополнительное образование</td>\n",
       "    </tr>\n",
       "    <tr>\n",
       "      <th>4</th>\n",
       "      <td>0</td>\n",
       "      <td>340266.072047</td>\n",
       "      <td>53</td>\n",
       "      <td>среднее</td>\n",
       "      <td>1</td>\n",
       "      <td>гражданский брак</td>\n",
       "      <td>1</td>\n",
       "      <td>F</td>\n",
       "      <td>пенсионер</td>\n",
       "      <td>0</td>\n",
       "      <td>158616.077870</td>\n",
       "      <td>сыграть свадьбу</td>\n",
       "    </tr>\n",
       "    <tr>\n",
       "      <th>5</th>\n",
       "      <td>0</td>\n",
       "      <td>-926.185831</td>\n",
       "      <td>27</td>\n",
       "      <td>высшее</td>\n",
       "      <td>0</td>\n",
       "      <td>гражданский брак</td>\n",
       "      <td>1</td>\n",
       "      <td>M</td>\n",
       "      <td>компаньон</td>\n",
       "      <td>0</td>\n",
       "      <td>255763.565419</td>\n",
       "      <td>покупка жилья</td>\n",
       "    </tr>\n",
       "    <tr>\n",
       "      <th>6</th>\n",
       "      <td>0</td>\n",
       "      <td>-2879.202052</td>\n",
       "      <td>43</td>\n",
       "      <td>высшее</td>\n",
       "      <td>0</td>\n",
       "      <td>женат / замужем</td>\n",
       "      <td>0</td>\n",
       "      <td>F</td>\n",
       "      <td>компаньон</td>\n",
       "      <td>0</td>\n",
       "      <td>240525.971920</td>\n",
       "      <td>операции с жильем</td>\n",
       "    </tr>\n",
       "    <tr>\n",
       "      <th>7</th>\n",
       "      <td>0</td>\n",
       "      <td>-152.779569</td>\n",
       "      <td>50</td>\n",
       "      <td>СРЕДНЕЕ</td>\n",
       "      <td>1</td>\n",
       "      <td>женат / замужем</td>\n",
       "      <td>0</td>\n",
       "      <td>M</td>\n",
       "      <td>сотрудник</td>\n",
       "      <td>0</td>\n",
       "      <td>135823.934197</td>\n",
       "      <td>образование</td>\n",
       "    </tr>\n",
       "    <tr>\n",
       "      <th>8</th>\n",
       "      <td>2</td>\n",
       "      <td>-6929.865299</td>\n",
       "      <td>35</td>\n",
       "      <td>ВЫСШЕЕ</td>\n",
       "      <td>0</td>\n",
       "      <td>гражданский брак</td>\n",
       "      <td>1</td>\n",
       "      <td>F</td>\n",
       "      <td>сотрудник</td>\n",
       "      <td>0</td>\n",
       "      <td>95856.832424</td>\n",
       "      <td>на проведение свадьбы</td>\n",
       "    </tr>\n",
       "    <tr>\n",
       "      <th>9</th>\n",
       "      <td>0</td>\n",
       "      <td>-2188.756445</td>\n",
       "      <td>41</td>\n",
       "      <td>среднее</td>\n",
       "      <td>1</td>\n",
       "      <td>женат / замужем</td>\n",
       "      <td>0</td>\n",
       "      <td>M</td>\n",
       "      <td>сотрудник</td>\n",
       "      <td>0</td>\n",
       "      <td>144425.938277</td>\n",
       "      <td>покупка жилья для семьи</td>\n",
       "    </tr>\n",
       "    <tr>\n",
       "      <th>10</th>\n",
       "      <td>2</td>\n",
       "      <td>-4171.483647</td>\n",
       "      <td>36</td>\n",
       "      <td>высшее</td>\n",
       "      <td>0</td>\n",
       "      <td>женат / замужем</td>\n",
       "      <td>0</td>\n",
       "      <td>M</td>\n",
       "      <td>компаньон</td>\n",
       "      <td>0</td>\n",
       "      <td>113943.491460</td>\n",
       "      <td>покупка недвижимости</td>\n",
       "    </tr>\n",
       "    <tr>\n",
       "      <th>11</th>\n",
       "      <td>0</td>\n",
       "      <td>-792.701887</td>\n",
       "      <td>40</td>\n",
       "      <td>среднее</td>\n",
       "      <td>1</td>\n",
       "      <td>женат / замужем</td>\n",
       "      <td>0</td>\n",
       "      <td>F</td>\n",
       "      <td>сотрудник</td>\n",
       "      <td>0</td>\n",
       "      <td>77069.234271</td>\n",
       "      <td>покупка коммерческой недвижимости</td>\n",
       "    </tr>\n",
       "    <tr>\n",
       "      <th>12</th>\n",
       "      <td>0</td>\n",
       "      <td>NaN</td>\n",
       "      <td>65</td>\n",
       "      <td>среднее</td>\n",
       "      <td>1</td>\n",
       "      <td>гражданский брак</td>\n",
       "      <td>1</td>\n",
       "      <td>M</td>\n",
       "      <td>пенсионер</td>\n",
       "      <td>0</td>\n",
       "      <td>NaN</td>\n",
       "      <td>сыграть свадьбу</td>\n",
       "    </tr>\n",
       "    <tr>\n",
       "      <th>13</th>\n",
       "      <td>0</td>\n",
       "      <td>-1846.641941</td>\n",
       "      <td>54</td>\n",
       "      <td>неоконченное высшее</td>\n",
       "      <td>2</td>\n",
       "      <td>женат / замужем</td>\n",
       "      <td>0</td>\n",
       "      <td>F</td>\n",
       "      <td>сотрудник</td>\n",
       "      <td>0</td>\n",
       "      <td>130458.228857</td>\n",
       "      <td>приобретение автомобиля</td>\n",
       "    </tr>\n",
       "    <tr>\n",
       "      <th>14</th>\n",
       "      <td>0</td>\n",
       "      <td>-1844.956182</td>\n",
       "      <td>56</td>\n",
       "      <td>высшее</td>\n",
       "      <td>0</td>\n",
       "      <td>гражданский брак</td>\n",
       "      <td>1</td>\n",
       "      <td>F</td>\n",
       "      <td>компаньон</td>\n",
       "      <td>1</td>\n",
       "      <td>165127.911772</td>\n",
       "      <td>покупка жилой недвижимости</td>\n",
       "    </tr>\n",
       "    <tr>\n",
       "      <th>15</th>\n",
       "      <td>1</td>\n",
       "      <td>-972.364419</td>\n",
       "      <td>26</td>\n",
       "      <td>среднее</td>\n",
       "      <td>1</td>\n",
       "      <td>женат / замужем</td>\n",
       "      <td>0</td>\n",
       "      <td>F</td>\n",
       "      <td>сотрудник</td>\n",
       "      <td>0</td>\n",
       "      <td>116820.904450</td>\n",
       "      <td>строительство собственной недвижимости</td>\n",
       "    </tr>\n",
       "    <tr>\n",
       "      <th>16</th>\n",
       "      <td>0</td>\n",
       "      <td>-1719.934226</td>\n",
       "      <td>35</td>\n",
       "      <td>среднее</td>\n",
       "      <td>1</td>\n",
       "      <td>женат / замужем</td>\n",
       "      <td>0</td>\n",
       "      <td>F</td>\n",
       "      <td>сотрудник</td>\n",
       "      <td>0</td>\n",
       "      <td>289202.704229</td>\n",
       "      <td>недвижимость</td>\n",
       "    </tr>\n",
       "    <tr>\n",
       "      <th>17</th>\n",
       "      <td>0</td>\n",
       "      <td>-2369.999720</td>\n",
       "      <td>33</td>\n",
       "      <td>высшее</td>\n",
       "      <td>0</td>\n",
       "      <td>гражданский брак</td>\n",
       "      <td>1</td>\n",
       "      <td>M</td>\n",
       "      <td>сотрудник</td>\n",
       "      <td>0</td>\n",
       "      <td>90410.586745</td>\n",
       "      <td>строительство недвижимости</td>\n",
       "    </tr>\n",
       "    <tr>\n",
       "      <th>18</th>\n",
       "      <td>0</td>\n",
       "      <td>400281.136913</td>\n",
       "      <td>53</td>\n",
       "      <td>среднее</td>\n",
       "      <td>1</td>\n",
       "      <td>вдовец / вдова</td>\n",
       "      <td>2</td>\n",
       "      <td>F</td>\n",
       "      <td>пенсионер</td>\n",
       "      <td>0</td>\n",
       "      <td>56823.777243</td>\n",
       "      <td>на покупку подержанного автомобиля</td>\n",
       "    </tr>\n",
       "    <tr>\n",
       "      <th>19</th>\n",
       "      <td>0</td>\n",
       "      <td>-10038.818549</td>\n",
       "      <td>48</td>\n",
       "      <td>СРЕДНЕЕ</td>\n",
       "      <td>1</td>\n",
       "      <td>в разводе</td>\n",
       "      <td>3</td>\n",
       "      <td>F</td>\n",
       "      <td>сотрудник</td>\n",
       "      <td>0</td>\n",
       "      <td>242831.107982</td>\n",
       "      <td>на покупку своего автомобиля</td>\n",
       "    </tr>\n",
       "  </tbody>\n",
       "</table>\n",
       "</div>"
      ],
      "text/plain": [
       "    children  days_employed  dob_years            education  education_id  \\\n",
       "0          1   -8437.673028         42               высшее             0   \n",
       "1          1   -4024.803754         36              среднее             1   \n",
       "2          0   -5623.422610         33              Среднее             1   \n",
       "3          3   -4124.747207         32              среднее             1   \n",
       "4          0  340266.072047         53              среднее             1   \n",
       "5          0    -926.185831         27               высшее             0   \n",
       "6          0   -2879.202052         43               высшее             0   \n",
       "7          0    -152.779569         50              СРЕДНЕЕ             1   \n",
       "8          2   -6929.865299         35               ВЫСШЕЕ             0   \n",
       "9          0   -2188.756445         41              среднее             1   \n",
       "10         2   -4171.483647         36               высшее             0   \n",
       "11         0    -792.701887         40              среднее             1   \n",
       "12         0            NaN         65              среднее             1   \n",
       "13         0   -1846.641941         54  неоконченное высшее             2   \n",
       "14         0   -1844.956182         56               высшее             0   \n",
       "15         1    -972.364419         26              среднее             1   \n",
       "16         0   -1719.934226         35              среднее             1   \n",
       "17         0   -2369.999720         33               высшее             0   \n",
       "18         0  400281.136913         53              среднее             1   \n",
       "19         0  -10038.818549         48              СРЕДНЕЕ             1   \n",
       "\n",
       "       family_status  family_status_id gender income_type  debt  \\\n",
       "0    женат / замужем                 0      F   сотрудник     0   \n",
       "1    женат / замужем                 0      F   сотрудник     0   \n",
       "2    женат / замужем                 0      M   сотрудник     0   \n",
       "3    женат / замужем                 0      M   сотрудник     0   \n",
       "4   гражданский брак                 1      F   пенсионер     0   \n",
       "5   гражданский брак                 1      M   компаньон     0   \n",
       "6    женат / замужем                 0      F   компаньон     0   \n",
       "7    женат / замужем                 0      M   сотрудник     0   \n",
       "8   гражданский брак                 1      F   сотрудник     0   \n",
       "9    женат / замужем                 0      M   сотрудник     0   \n",
       "10   женат / замужем                 0      M   компаньон     0   \n",
       "11   женат / замужем                 0      F   сотрудник     0   \n",
       "12  гражданский брак                 1      M   пенсионер     0   \n",
       "13   женат / замужем                 0      F   сотрудник     0   \n",
       "14  гражданский брак                 1      F   компаньон     1   \n",
       "15   женат / замужем                 0      F   сотрудник     0   \n",
       "16   женат / замужем                 0      F   сотрудник     0   \n",
       "17  гражданский брак                 1      M   сотрудник     0   \n",
       "18    вдовец / вдова                 2      F   пенсионер     0   \n",
       "19         в разводе                 3      F   сотрудник     0   \n",
       "\n",
       "     total_income                                 purpose  \n",
       "0   253875.639453                           покупка жилья  \n",
       "1   112080.014102                 приобретение автомобиля  \n",
       "2   145885.952297                           покупка жилья  \n",
       "3   267628.550329              дополнительное образование  \n",
       "4   158616.077870                         сыграть свадьбу  \n",
       "5   255763.565419                           покупка жилья  \n",
       "6   240525.971920                       операции с жильем  \n",
       "7   135823.934197                             образование  \n",
       "8    95856.832424                   на проведение свадьбы  \n",
       "9   144425.938277                 покупка жилья для семьи  \n",
       "10  113943.491460                    покупка недвижимости  \n",
       "11   77069.234271       покупка коммерческой недвижимости  \n",
       "12            NaN                         сыграть свадьбу  \n",
       "13  130458.228857                 приобретение автомобиля  \n",
       "14  165127.911772              покупка жилой недвижимости  \n",
       "15  116820.904450  строительство собственной недвижимости  \n",
       "16  289202.704229                            недвижимость  \n",
       "17   90410.586745              строительство недвижимости  \n",
       "18   56823.777243      на покупку подержанного автомобиля  \n",
       "19  242831.107982            на покупку своего автомобиля  "
      ]
     },
     "execution_count": 9,
     "metadata": {},
     "output_type": "execute_result"
    }
   ],
   "source": [
    "data.head(20)"
   ]
  },
  {
   "cell_type": "markdown",
   "id": "0ed8f27f",
   "metadata": {
    "deletable": false,
    "editable": false,
    "id": "0ed8f27f"
   },
   "source": [
    "**Задание 3. Выведите основную информацию о датафрейме с помощью метода `info()`.**"
   ]
  },
  {
   "cell_type": "code",
   "execution_count": 10,
   "id": "ab3f863b",
   "metadata": {
    "deletable": false,
    "id": "ab3f863b",
    "outputId": "15376089-8dad-46c9-b520-c05248d43158"
   },
   "outputs": [
    {
     "name": "stdout",
     "output_type": "stream",
     "text": [
      "<class 'pandas.core.frame.DataFrame'>\n",
      "RangeIndex: 21525 entries, 0 to 21524\n",
      "Data columns (total 12 columns):\n",
      " #   Column            Non-Null Count  Dtype  \n",
      "---  ------            --------------  -----  \n",
      " 0   children          21525 non-null  int64  \n",
      " 1   days_employed     19351 non-null  float64\n",
      " 2   dob_years         21525 non-null  int64  \n",
      " 3   education         21525 non-null  object \n",
      " 4   education_id      21525 non-null  int64  \n",
      " 5   family_status     21525 non-null  object \n",
      " 6   family_status_id  21525 non-null  int64  \n",
      " 7   gender            21525 non-null  object \n",
      " 8   income_type       21525 non-null  object \n",
      " 9   debt              21525 non-null  int64  \n",
      " 10  total_income      19351 non-null  float64\n",
      " 11  purpose           21525 non-null  object \n",
      "dtypes: float64(2), int64(5), object(5)\n",
      "memory usage: 2.0+ MB\n"
     ]
    }
   ],
   "source": [
    "data.info()"
   ]
  },
  {
   "cell_type": "markdown",
   "id": "60e3e22d",
   "metadata": {
    "deletable": false,
    "editable": false,
    "id": "60e3e22d"
   },
   "source": [
    "## Предобработка данных"
   ]
  },
  {
   "cell_type": "markdown",
   "id": "03dc170c",
   "metadata": {
    "deletable": false,
    "editable": false,
    "id": "03dc170c"
   },
   "source": [
    "### Удаление пропусков"
   ]
  },
  {
   "cell_type": "markdown",
   "id": "a4f54eef",
   "metadata": {
    "deletable": false,
    "editable": false,
    "id": "a4f54eef"
   },
   "source": [
    "**Задание 4. Выведите количество пропущенных значений для каждого столбца. Используйте комбинацию двух методов.**"
   ]
  },
  {
   "cell_type": "code",
   "execution_count": 11,
   "id": "2dc372b2",
   "metadata": {
    "deletable": false,
    "id": "2dc372b2",
    "outputId": "81f4d817-781c-465c-ed15-91ce4446810d"
   },
   "outputs": [
    {
     "data": {
      "text/plain": [
       "children               0\n",
       "days_employed       2174\n",
       "dob_years              0\n",
       "education              0\n",
       "education_id           0\n",
       "family_status          0\n",
       "family_status_id       0\n",
       "gender                 0\n",
       "income_type            0\n",
       "debt                   0\n",
       "total_income        2174\n",
       "purpose                0\n",
       "dtype: int64"
      ]
     },
     "execution_count": 11,
     "metadata": {},
     "output_type": "execute_result"
    }
   ],
   "source": [
    "data.isna().sum()"
   ]
  },
  {
   "cell_type": "markdown",
   "id": "14f011b1",
   "metadata": {
    "deletable": false,
    "editable": false,
    "id": "14f011b1"
   },
   "source": [
    "**Задание 5. В двух столбцах есть пропущенные значения. Один из них — `days_employed`. Пропуски в этом столбце вы обработаете на следующем этапе. Другой столбец с пропущенными значениями — `total_income` — хранит данные о доходах. На сумму дохода сильнее всего влияет тип занятости, поэтому заполнить пропуски в этом столбце нужно медианным значением по каждому типу из столбца `income_type`. Например, у человека с типом занятости `сотрудник` пропуск в столбце `total_income` должен быть заполнен медианным доходом среди всех записей с тем же типом.**"
   ]
  },
  {
   "cell_type": "code",
   "execution_count": 12,
   "id": "bdabfb6e",
   "metadata": {
    "deletable": false,
    "id": "bdabfb6e"
   },
   "outputs": [],
   "source": [
    "for t in data['income_type'].unique():\n",
    "    data.loc[(data['income_type'] == t) & (data['total_income'].isna()), 'total_income'] = \\\n",
    "    data.loc[(data['income_type'] == t), 'total_income'].median()"
   ]
  },
  {
   "cell_type": "markdown",
   "id": "5be34059",
   "metadata": {
    "deletable": false,
    "editable": false,
    "id": "5be34059"
   },
   "source": [
    "### Обработка аномальных значений"
   ]
  },
  {
   "cell_type": "markdown",
   "id": "a87606cb",
   "metadata": {
    "deletable": false,
    "editable": false,
    "id": "a87606cb"
   },
   "source": [
    "**Задание 6. В данных могут встречаться артефакты (аномалии) — значения, которые не отражают действительность и появились по какой-то ошибке. таким артефактом будет отрицательное количество дней трудового стажа в столбце `days_employed`. Для реальных данных это нормально. Обработайте значения в этом столбце: замените все отрицательные значения положительными с помощью метода `abs()`.**"
   ]
  },
  {
   "cell_type": "code",
   "execution_count": 13,
   "id": "020c46cc",
   "metadata": {
    "deletable": false,
    "id": "020c46cc"
   },
   "outputs": [],
   "source": [
    "data['days_employed'] = data['days_employed'].abs()"
   ]
  },
  {
   "cell_type": "markdown",
   "id": "45538a3a",
   "metadata": {
    "deletable": false,
    "editable": false,
    "id": "45538a3a"
   },
   "source": [
    "**Задание 7. Для каждого типа занятости выведите медианное значение трудового стажа `days_employed` в днях.**"
   ]
  },
  {
   "cell_type": "code",
   "execution_count": 14,
   "id": "cd3e6328",
   "metadata": {
    "deletable": false,
    "id": "cd3e6328",
    "outputId": "801ef80e-522b-4668-f34e-565af7432bcf"
   },
   "outputs": [
    {
     "data": {
      "text/plain": [
       "income_type\n",
       "безработный        366413.652744\n",
       "в декрете            3296.759962\n",
       "госслужащий          2689.368353\n",
       "компаньон            1547.382223\n",
       "пенсионер          365213.306266\n",
       "предприниматель       520.848083\n",
       "сотрудник            1574.202821\n",
       "студент               578.751554\n",
       "Name: days_employed, dtype: float64"
      ]
     },
     "execution_count": 14,
     "metadata": {},
     "output_type": "execute_result"
    }
   ],
   "source": [
    "data.groupby('income_type')['days_employed'].agg('median')"
   ]
  },
  {
   "cell_type": "markdown",
   "id": "90c5f058",
   "metadata": {
    "deletable": false,
    "editable": false,
    "id": "90c5f058"
   },
   "source": [
    "У двух типов (безработные и пенсионеры) получатся аномально большие значения. Исправить такие значения сложно, поэтому оставьте их как есть."
   ]
  },
  {
   "cell_type": "markdown",
   "id": "9652e50d",
   "metadata": {
    "deletable": false,
    "editable": false,
    "id": "9652e50d"
   },
   "source": [
    "**Задание 8. Выведите перечень уникальных значений столбца `children`.**"
   ]
  },
  {
   "cell_type": "code",
   "execution_count": 15,
   "id": "dbb37b8e",
   "metadata": {
    "deletable": false,
    "id": "dbb37b8e",
    "outputId": "6975b15c-7f95-4697-d16d-a0c79b657b03"
   },
   "outputs": [
    {
     "data": {
      "text/plain": [
       "array([ 1,  0,  3,  2, -1,  4, 20,  5])"
      ]
     },
     "execution_count": 15,
     "metadata": {},
     "output_type": "execute_result"
    }
   ],
   "source": [
    "data['children'].unique()"
   ]
  },
  {
   "cell_type": "markdown",
   "id": "2b8b0715",
   "metadata": {
    "deletable": false,
    "editable": false,
    "id": "2b8b0715"
   },
   "source": [
    "**Задание 9. В столбце `children` есть два аномальных значения. Удалите строки, в которых встречаются такие аномальные значения из датафрейма `data`.**"
   ]
  },
  {
   "cell_type": "code",
   "execution_count": 10,
   "id": "20009df8",
   "metadata": {
    "deletable": false,
    "id": "20009df8"
   },
   "outputs": [],
   "source": [
    "data = data[(data['children'] != -1) & (data['children'] != 20)]"
   ]
  },
  {
   "cell_type": "markdown",
   "id": "8c6ac9f1",
   "metadata": {
    "deletable": false,
    "editable": false,
    "id": "8c6ac9f1"
   },
   "source": [
    "**Задание 10. Ещё раз выведите перечень уникальных значений столбца `children`, чтобы убедиться, что артефакты удалены.**"
   ]
  },
  {
   "cell_type": "code",
   "execution_count": 11,
   "id": "07337b81",
   "metadata": {
    "deletable": false,
    "id": "07337b81",
    "outputId": "b2097101-d49d-44d9-901b-32a65c9463d1"
   },
   "outputs": [
    {
     "data": {
      "text/plain": [
       "array([1, 0, 3, 2, 4, 5])"
      ]
     },
     "execution_count": 11,
     "metadata": {},
     "output_type": "execute_result"
    }
   ],
   "source": [
    "data['children'].unique()"
   ]
  },
  {
   "cell_type": "markdown",
   "id": "ee3f52d4",
   "metadata": {
    "deletable": false,
    "editable": false,
    "id": "ee3f52d4"
   },
   "source": [
    "### Удаление пропусков (продолжение)"
   ]
  },
  {
   "cell_type": "markdown",
   "id": "a700b0e4",
   "metadata": {
    "deletable": false,
    "editable": false,
    "id": "a700b0e4"
   },
   "source": [
    "**Задание 11. Заполните пропуски в столбце `days_employed` медианными значениями по каждого типа занятости `income_type`.**"
   ]
  },
  {
   "cell_type": "code",
   "execution_count": 12,
   "id": "61946b83",
   "metadata": {
    "deletable": false,
    "id": "61946b83"
   },
   "outputs": [],
   "source": [
    "for t in data['income_type'].unique():\n",
    "    data.loc[(data['income_type'] == t) & (data['days_employed'].isna()), 'days_employed'] = \\\n",
    "    data.loc[(data['income_type'] == t), 'days_employed'].median()"
   ]
  },
  {
   "cell_type": "markdown",
   "id": "550dcd9b",
   "metadata": {
    "deletable": false,
    "editable": false,
    "id": "550dcd9b"
   },
   "source": [
    "**Задание 12. Убедитесь, что все пропуски заполнены. Проверьте себя и ещё раз выведите количество пропущенных значений для каждого столбца с помощью двух методов.**"
   ]
  },
  {
   "cell_type": "code",
   "execution_count": 13,
   "id": "937c7014",
   "metadata": {
    "deletable": false,
    "id": "937c7014",
    "outputId": "8da1e4e1-358e-4e87-98c9-f261bce0a7b2"
   },
   "outputs": [
    {
     "data": {
      "text/plain": [
       "children            0\n",
       "days_employed       0\n",
       "dob_years           0\n",
       "education           0\n",
       "education_id        0\n",
       "family_status       0\n",
       "family_status_id    0\n",
       "gender              0\n",
       "income_type         0\n",
       "debt                0\n",
       "total_income        0\n",
       "purpose             0\n",
       "dtype: int64"
      ]
     },
     "execution_count": 13,
     "metadata": {},
     "output_type": "execute_result"
    }
   ],
   "source": [
    "data.isna().sum()"
   ]
  },
  {
   "cell_type": "markdown",
   "id": "d522e295",
   "metadata": {
    "deletable": false,
    "editable": false,
    "id": "d522e295"
   },
   "source": [
    "### Изменение типов данных"
   ]
  },
  {
   "cell_type": "markdown",
   "id": "c229c581",
   "metadata": {
    "deletable": false,
    "editable": false,
    "id": "c229c581"
   },
   "source": [
    "**Задание 13. Замените вещественный тип данных в столбце `total_income` на целочисленный с помощью метода `astype()`.**"
   ]
  },
  {
   "cell_type": "code",
   "execution_count": 14,
   "id": "31036462",
   "metadata": {
    "deletable": false,
    "id": "31036462"
   },
   "outputs": [],
   "source": [
    "data['total_income'] = data['total_income'].astype(int)"
   ]
  },
  {
   "cell_type": "markdown",
   "id": "b8e3d1d9",
   "metadata": {
    "deletable": false,
    "editable": false,
    "id": "b8e3d1d9"
   },
   "source": [
    "### Обработка дубликатов"
   ]
  },
  {
   "cell_type": "markdown",
   "id": "9be53c49",
   "metadata": {
    "deletable": false,
    "editable": false,
    "id": "9be53c49"
   },
   "source": [
    "**Задание 14. Обработайте неявные дубликаты в столбце `education`. В этом столбце есть одни и те же значения, но записанные по-разному: с использованием заглавных и строчных букв. Приведите их к нижнему регистру.**"
   ]
  },
  {
   "cell_type": "code",
   "execution_count": 15,
   "id": "d89e73e1",
   "metadata": {
    "deletable": false,
    "id": "d89e73e1"
   },
   "outputs": [],
   "source": [
    "data['education'] = data['education'].str.lower()"
   ]
  },
  {
   "cell_type": "markdown",
   "id": "01d4500e",
   "metadata": {
    "deletable": false,
    "editable": false,
    "id": "01d4500e"
   },
   "source": [
    "**Задание 15. Выведите на экран количество строк-дубликатов в данных. Если такие строки присутствуют, удалите их.**"
   ]
  },
  {
   "cell_type": "code",
   "execution_count": 16,
   "id": "e10efb23",
   "metadata": {
    "deletable": false,
    "id": "e10efb23",
    "outputId": "9684deba-1934-42d1-99e1-cda61740f822"
   },
   "outputs": [
    {
     "data": {
      "text/plain": [
       "71"
      ]
     },
     "execution_count": 16,
     "metadata": {},
     "output_type": "execute_result"
    }
   ],
   "source": [
    "data.duplicated().sum()"
   ]
  },
  {
   "cell_type": "code",
   "execution_count": 17,
   "id": "df853f20",
   "metadata": {
    "deletable": false,
    "id": "df853f20"
   },
   "outputs": [],
   "source": [
    "data = data.drop_duplicates()"
   ]
  },
  {
   "cell_type": "markdown",
   "id": "627be38f",
   "metadata": {
    "deletable": false,
    "editable": false,
    "id": "627be38f"
   },
   "source": [
    "### Категоризация данных"
   ]
  },
  {
   "cell_type": "markdown",
   "id": "4684c3e0",
   "metadata": {
    "deletable": false,
    "editable": false,
    "id": "4684c3e0"
   },
   "source": [
    "**Задание 16. На основании диапазонов, указанных ниже, создайте в датафрейме `data` столбец `total_income_category` с категориями:**\n",
    "\n",
    "- 0–30000 — `'E'`;\n",
    "- 30001–50000 — `'D'`;\n",
    "- 50001–200000 — `'C'`;\n",
    "- 200001–1000000 — `'B'`;\n",
    "- 1000001 и выше — `'A'`.\n",
    "\n",
    "\n",
    "**Например, кредитополучателю с доходом 25000 нужно назначить категорию `'E'`, а клиенту, получающему 235000, — `'B'`. Используйте собственную функцию с именем `categorize_income()` и метод `apply()`.**"
   ]
  },
  {
   "cell_type": "code",
   "execution_count": 18,
   "id": "78965238",
   "metadata": {
    "deletable": false,
    "id": "78965238"
   },
   "outputs": [],
   "source": [
    "def categorize_income(income):\n",
    "    try:\n",
    "        if 0 <= income <= 30000:\n",
    "            return 'E'\n",
    "        elif 30001 <= income <= 50000:\n",
    "            return 'D'\n",
    "        elif 50001 <= income <= 200000:\n",
    "            return 'C'\n",
    "        elif 200001 <= income <= 1000000:\n",
    "            return 'B'\n",
    "        elif income >= 1000001:\n",
    "            return 'A'\n",
    "    except:\n",
    "        pass"
   ]
  },
  {
   "cell_type": "code",
   "execution_count": 19,
   "id": "0980ada1",
   "metadata": {
    "deletable": false,
    "id": "0980ada1"
   },
   "outputs": [],
   "source": [
    "data['total_income_category'] = data['total_income'].apply(categorize_income)"
   ]
  },
  {
   "cell_type": "markdown",
   "id": "9917bba0",
   "metadata": {
    "deletable": false,
    "editable": false,
    "id": "9917bba0"
   },
   "source": [
    "**Задание 17. Выведите на экран перечень уникальных целей взятия кредита из столбца `purpose`.**"
   ]
  },
  {
   "cell_type": "code",
   "execution_count": 20,
   "id": "ee07b65e",
   "metadata": {
    "deletable": false,
    "id": "ee07b65e",
    "outputId": "673c12d9-7d7e-4ae0-9812-c622c89dd244"
   },
   "outputs": [
    {
     "data": {
      "text/plain": [
       "array(['покупка жилья', 'приобретение автомобиля',\n",
       "       'дополнительное образование', 'сыграть свадьбу',\n",
       "       'операции с жильем', 'образование', 'на проведение свадьбы',\n",
       "       'покупка жилья для семьи', 'покупка недвижимости',\n",
       "       'покупка коммерческой недвижимости', 'покупка жилой недвижимости',\n",
       "       'строительство собственной недвижимости', 'недвижимость',\n",
       "       'строительство недвижимости', 'на покупку подержанного автомобиля',\n",
       "       'на покупку своего автомобиля',\n",
       "       'операции с коммерческой недвижимостью',\n",
       "       'строительство жилой недвижимости', 'жилье',\n",
       "       'операции со своей недвижимостью', 'автомобили',\n",
       "       'заняться образованием', 'сделка с подержанным автомобилем',\n",
       "       'получение образования', 'автомобиль', 'свадьба',\n",
       "       'получение дополнительного образования', 'покупка своего жилья',\n",
       "       'операции с недвижимостью', 'получение высшего образования',\n",
       "       'свой автомобиль', 'сделка с автомобилем',\n",
       "       'профильное образование', 'высшее образование',\n",
       "       'покупка жилья для сдачи', 'на покупку автомобиля', 'ремонт жилью',\n",
       "       'заняться высшим образованием'], dtype=object)"
      ]
     },
     "execution_count": 20,
     "metadata": {},
     "output_type": "execute_result"
    }
   ],
   "source": [
    "data['purpose'].unique()"
   ]
  },
  {
   "cell_type": "markdown",
   "id": "52b79d56",
   "metadata": {
    "deletable": false,
    "editable": false,
    "id": "52b79d56"
   },
   "source": [
    "**Задание 18. Создайте функцию, которая на основании данных из столбца `purpose` сформирует новый столбец `purpose_category`, в который войдут следующие категории:**\n",
    "\n",
    "- `'операции с автомобилем'`,\n",
    "- `'операции с недвижимостью'`,\n",
    "- `'проведение свадьбы'`,\n",
    "- `'получение образования'`.\n",
    "\n",
    "**Например, если в столбце `purpose` находится подстрока `'на покупку автомобиля'`, то в столбце `purpose_category` должна появиться строка `'операции с автомобилем'`.**\n",
    "\n",
    "**Используйте собственную функцию с именем `categorize_purpose()` и метод `apply()`. Изучите данные в столбце `purpose` и определите, какие подстроки помогут вам правильно определить категорию.**"
   ]
  },
  {
   "cell_type": "code",
   "execution_count": 21,
   "id": "be41da5d",
   "metadata": {
    "deletable": false,
    "id": "be41da5d"
   },
   "outputs": [],
   "source": [
    "def categorize_purpose(row):\n",
    "    try:\n",
    "        if 'автом' in row:\n",
    "            return 'операции с автомобилем'\n",
    "        elif 'жил' in row or 'недвиж' in row:\n",
    "            return 'операции с недвижимостью'\n",
    "        elif 'свад' in row:\n",
    "            return 'проведение свадьбы'\n",
    "        elif 'образов' in row:\n",
    "            return 'получение образования'\n",
    "    except:\n",
    "        return 'нет категории'"
   ]
  },
  {
   "cell_type": "code",
   "execution_count": 22,
   "id": "94c4a19a",
   "metadata": {
    "deletable": false,
    "id": "94c4a19a"
   },
   "outputs": [],
   "source": [
    "data['purpose_category'] = data['purpose'].apply(categorize_purpose)"
   ]
  },
  {
   "cell_type": "markdown",
   "id": "3d596c34",
   "metadata": {
    "deletable": false,
    "editable": false,
    "id": "3d596c34"
   },
   "source": [
    "### Шаг 3. Исследуйте данные и ответьте на вопросы"
   ]
  },
  {
   "cell_type": "markdown",
   "id": "648db036",
   "metadata": {
    "deletable": false,
    "editable": false,
    "id": "648db036"
   },
   "source": [
    "#### 3.1 Есть ли зависимость между количеством детей и возвратом кредита в срок?"
   ]
  },
  {
   "cell_type": "code",
   "execution_count": 23,
   "id": "7fcff25e",
   "metadata": {
    "deletable": false,
    "id": "7fcff25e"
   },
   "outputs": [
    {
     "name": "stdout",
     "output_type": "stream",
     "text": [
      "          children_count  children_sum  result_children_debt\n",
      "children                                                    \n",
      "4                     41             4              0.097561\n",
      "2                   2052           194              0.094542\n",
      "1                   4808           444              0.092346\n",
      "3                    330            27              0.081818\n",
      "0                  14091          1063              0.075438\n",
      "5                      9             0              0.000000\n"
     ]
    }
   ],
   "source": [
    "# Ваш код будет здесь. Вы можете создавать новые ячейки.\n",
    "children_debt = pd.DataFrame()\n",
    "children_debt['children_count'] = data.groupby('children')['debt'].count() #колличество дитей\n",
    "children_debt['children_sum'] = data.groupby('children')['debt'].sum() #сумма задолженностей\n",
    "children_debt['result_children_debt'] = children_debt['children_sum'] / children_debt['children_count']\n",
    "#print(children_debt)\n",
    "print(children_debt.sort_values(by='result_children_debt',ascending = False))"
   ]
  },
  {
   "cell_type": "markdown",
   "id": "2eb9088e",
   "metadata": {
    "deletable": false,
    "id": "2eb9088e"
   },
   "source": [
    "**Вывод:** Как мы видим из таблицы, семьи без детей имеют меньшую задолженность чем семьи с детьми. Семьи с детьми чаще возвращают сумму кредита не в срок, но вот семьи с тремя детьми более пунктуальны в оплате кредита."
   ]
  },
  {
   "cell_type": "markdown",
   "id": "74c9b3a7",
   "metadata": {
    "deletable": false,
    "editable": false,
    "id": "74c9b3a7"
   },
   "source": [
    "#### 3.2 Есть ли зависимость между семейным положением и возвратом кредита в срок?"
   ]
  },
  {
   "cell_type": "code",
   "execution_count": 24,
   "id": "8098ab3b",
   "metadata": {
    "deletable": false,
    "id": "8098ab3b"
   },
   "outputs": [
    {
     "name": "stdout",
     "output_type": "stream",
     "text": [
      "                       family_count  family_sum  result_family_debt\n",
      "family_status                                                      \n",
      "Не женат / не замужем          2796         273            0.097639\n",
      "гражданский брак               4134         385            0.093130\n",
      "женат / замужем               12261         927            0.075606\n",
      "в разводе                      1189          84            0.070648\n",
      "вдовец / вдова                  951          63            0.066246\n"
     ]
    }
   ],
   "source": [
    "# Ваш код будет здесь. Вы можете создавать новые ячейки.\n",
    "family_debt = pd.DataFrame()\n",
    "family_debt['family_count'] = data.groupby('family_status')['debt'].count()\n",
    "family_debt['family_sum'] = data.groupby('family_status')['debt'].sum()\n",
    "family_debt['result_family_debt'] = family_debt['family_sum'] / family_debt['family_count']\n",
    "#print(family_debt['result'])\n",
    "print(family_debt.sort_values(by='result_family_debt',ascending = False))"
   ]
  },
  {
   "cell_type": "markdown",
   "id": "c389ca63",
   "metadata": {
    "deletable": false,
    "id": "c389ca63"
   },
   "source": [
    "**Вывод:** Вдовы и вдовцы чаще выплачивают кредит в срок. Люди, которые не в браке либо в гражданском браке имеют наихудшие показатели по выплате кредитов в срок. А люди в браке и в разводе чаще выплачивают в срок, чем люди, которые не в браке. "
   ]
  },
  {
   "cell_type": "markdown",
   "id": "9529de68",
   "metadata": {
    "deletable": false,
    "editable": false,
    "id": "9529de68"
   },
   "source": [
    "#### 3.3 Есть ли зависимость между уровнем дохода и возвратом кредита в срок?"
   ]
  },
  {
   "cell_type": "code",
   "execution_count": 25,
   "id": "8787f44a",
   "metadata": {
    "deletable": false,
    "id": "8787f44a"
   },
   "outputs": [
    {
     "name": "stdout",
     "output_type": "stream",
     "text": [
      "                       total_income_sum  total_income_count    result\n",
      "total_income_category                                                \n",
      "E                                     2                  22  0.090909\n",
      "C                                  1353               15921  0.084982\n",
      "A                                     2                  25  0.080000\n",
      "B                                   354                5014  0.070602\n",
      "D                                    21                 349  0.060172\n"
     ]
    }
   ],
   "source": [
    "# Ваш код будет здесь. Вы можете создавать новые ячейки.\n",
    "data['total_income_category'] = data['total_income'].apply(categorize_income)\n",
    "data['total_income_category'].value_counts()\n",
    "income_total_debt = pd.DataFrame()\n",
    "income_total_debt['total_income_sum'] = data.groupby('total_income_category')['debt'].sum()\n",
    "income_total_debt['total_income_count'] = data.groupby('total_income_category')['debt'].count()\n",
    "income_total_debt['result'] = income_total_debt['total_income_sum'] / income_total_debt['total_income_count']\n",
    "print(income_total_debt.sort_values(by='result',ascending = False))"
   ]
  },
  {
   "cell_type": "markdown",
   "id": "6dd14b57",
   "metadata": {
    "deletable": false,
    "id": "6dd14b57"
   },
   "source": [
    "**Вывод:** По данным выводам можно отметить, что люди с зароботком от 50 тысяч до 200 тысяч чаще возвращают кредит в срок."
   ]
  },
  {
   "cell_type": "markdown",
   "id": "1dcc9b12",
   "metadata": {
    "deletable": false,
    "editable": false,
    "id": "1dcc9b12"
   },
   "source": [
    "#### 3.4 Как разные цели кредита влияют на его возврат в срок?"
   ]
  },
  {
   "cell_type": "code",
   "execution_count": 52,
   "id": "c602bc8b",
   "metadata": {
    "deletable": false,
    "id": "c602bc8b"
   },
   "outputs": [
    {
     "name": "stdout",
     "output_type": "stream",
     "text": [
      "                          purpose_sum  purpose_count    result\n",
      "purpose_category                                              \n",
      "операции с автомобилем            400           4279  0.093480\n",
      "получение образования             369           3988  0.092528\n",
      "проведение свадьбы                183           2313  0.079118\n",
      "операции с недвижимостью          780          10751  0.072551\n"
     ]
    }
   ],
   "source": [
    "# Ваш код будет здесь. Вы можете создавать новые ячейки.\n",
    "purpose_debt = pd.DataFrame()\n",
    "purpose_debt['purpose_sum'] = data.groupby('purpose_category')['debt'].sum()\n",
    "purpose_debt['purpose_count'] = data.groupby('purpose_category')['debt'].count()\n",
    "purpose_debt['result'] = purpose_debt['purpose_sum'] / purpose_debt['purpose_count']\n",
    "print(purpose_debt.sort_values(by='result',ascending = False))\n"
   ]
  },
  {
   "cell_type": "markdown",
   "id": "cf05ed63",
   "metadata": {
    "deletable": false,
    "id": "cf05ed63"
   },
   "source": [
    "**Вывод:** Кредиты, взятые с целью проведения свадеб и операции с недвижемостью, чаще выплачивают в срок. А по категориям авто и образование люди опаздывают с выплатами."
   ]
  },
  {
   "cell_type": "markdown",
   "id": "46c1f10b",
   "metadata": {
    "deletable": false,
    "editable": false,
    "id": "46c1f10b"
   },
   "source": [
    "#### 3.5 Приведите возможные причины появления пропусков в исходных данных."
   ]
  },
  {
   "cell_type": "markdown",
   "id": "3697d2a9",
   "metadata": {
    "deletable": false,
    "id": "3697d2a9"
   },
   "source": [
    "*Ответ:* В данном датасете имеются пропуски по категориям доход и колличество отработанных дней. Причинами данных пропусков может быть неправильная обработка данных, неверное или неполное заполнение анкеты или некоректная запись данных."
   ]
  },
  {
   "cell_type": "markdown",
   "id": "3137d257",
   "metadata": {
    "deletable": false,
    "editable": false,
    "id": "3137d257"
   },
   "source": [
    "#### 3.6 Объясните, почему заполнить пропуски медианным значением — лучшее решение для количественных переменных."
   ]
  },
  {
   "cell_type": "markdown",
   "id": "cf40012a",
   "metadata": {
    "deletable": false,
    "id": "cf40012a"
   },
   "source": [
    "*Ответ:* Если в таблице есть данные, имеющие большой диапазон, или вбросы с большими значениями, то лучше использовать медианный способ заполнения пропусков."
   ]
  },
  {
   "cell_type": "markdown",
   "id": "57bc304e",
   "metadata": {
    "deletable": false,
    "editable": false,
    "id": "57bc304e"
   },
   "source": [
    "### Шаг 4: общий вывод."
   ]
  },
  {
   "cell_type": "markdown",
   "id": "1ab75d1c",
   "metadata": {
    "deletable": false,
    "id": "1ab75d1c"
   },
   "source": [
    "Напишите ваш общий вывод. По данным анализа можно сделать вывод, что лучшим потенциальным заемщиком будут люди не имеющие детей, вдовы/вдовцы, которые берут кредит на операции с недвижимостью. Нибольший процент задержек выплат кредита в срок имеют семьи с детьми, люди, которые не в браке либо в гражданском браке, берущие кредит на авто либо на образование."
   ]
  },
  {
   "cell_type": "markdown",
   "id": "375cc8b7",
   "metadata": {},
   "source": [
    "<div class=> \n",
    "<b>Общий комментарий ревьюера </b> \n",
    "    \n",
    "Отличный проект, тобою проделана большая работа, ты молодец!\n",
    "\n",
    "Хвалю за наличие хороших промежуточных (и общего) выводов, комментариев и рассуждений. Также очень хорошее оформление проекта - в этом плане сделано все именно так, как требуется. По коду вопросов в целом нет.\n",
    "\n",
    "Что стоит исправить:\n",
    "\n",
    "1. Вывод про зависимость между уровнем дохода и возвратом кредита в срок\n",
    "2. Описание причин пропусков\n",
    "\n",
    "Буду ждать доработок, удачи!"
   ]
  }
 ],
 "metadata": {
  "ExecuteTimeLog": [
   {
    "duration": 47,
    "start_time": "2023-10-18T17:04:28.322Z"
   },
   {
    "duration": 6,
    "start_time": "2023-10-18T17:05:01.726Z"
   },
   {
    "duration": 7,
    "start_time": "2023-10-18T17:05:03.480Z"
   },
   {
    "duration": 436,
    "start_time": "2023-10-18T17:05:08.776Z"
   },
   {
    "duration": 21,
    "start_time": "2023-10-18T17:05:10.465Z"
   },
   {
    "duration": 26,
    "start_time": "2023-10-18T17:05:15.974Z"
   },
   {
    "duration": 130,
    "start_time": "2023-10-18T17:05:52.266Z"
   },
   {
    "duration": 4,
    "start_time": "2023-10-18T17:05:57.649Z"
   },
   {
    "duration": 4,
    "start_time": "2023-10-18T17:06:16.501Z"
   },
   {
    "duration": 4,
    "start_time": "2023-10-18T17:06:23.360Z"
   },
   {
    "duration": 4,
    "start_time": "2023-10-18T17:06:35.695Z"
   },
   {
    "duration": 10,
    "start_time": "2023-10-18T17:07:42.509Z"
   },
   {
    "duration": 4,
    "start_time": "2023-10-18T17:07:55.889Z"
   },
   {
    "duration": 10,
    "start_time": "2023-10-18T17:08:02.092Z"
   },
   {
    "duration": 4,
    "start_time": "2023-10-18T17:08:30.384Z"
   },
   {
    "duration": 5,
    "start_time": "2023-10-18T17:08:32.441Z"
   },
   {
    "duration": 9,
    "start_time": "2023-10-18T17:08:33.681Z"
   },
   {
    "duration": 5,
    "start_time": "2023-10-18T17:08:34.300Z"
   },
   {
    "duration": 17,
    "start_time": "2023-10-18T17:08:46.003Z"
   },
   {
    "duration": 20,
    "start_time": "2023-10-18T17:08:50.545Z"
   },
   {
    "duration": 12,
    "start_time": "2023-10-18T17:08:54.597Z"
   },
   {
    "duration": 48,
    "start_time": "2023-10-18T17:08:56.926Z"
   },
   {
    "duration": 10,
    "start_time": "2023-10-18T17:08:57.394Z"
   },
   {
    "duration": 98,
    "start_time": "2023-10-18T17:09:02.826Z"
   },
   {
    "duration": 17,
    "start_time": "2023-10-18T17:09:03.081Z"
   },
   {
    "duration": 23,
    "start_time": "2023-10-18T17:09:03.333Z"
   },
   {
    "duration": 13,
    "start_time": "2023-10-18T17:09:03.868Z"
   },
   {
    "duration": 42,
    "start_time": "2023-10-18T17:09:04.111Z"
   },
   {
    "duration": 3,
    "start_time": "2023-10-18T17:09:04.519Z"
   },
   {
    "duration": 8,
    "start_time": "2023-10-18T17:09:04.775Z"
   },
   {
    "duration": 4,
    "start_time": "2023-10-18T17:09:05.180Z"
   },
   {
    "duration": 9,
    "start_time": "2023-10-18T17:09:05.467Z"
   },
   {
    "duration": 5,
    "start_time": "2023-10-18T17:09:05.745Z"
   },
   {
    "duration": 35,
    "start_time": "2023-10-18T17:09:06.174Z"
   },
   {
    "duration": 18,
    "start_time": "2023-10-18T17:09:06.458Z"
   },
   {
    "duration": 4,
    "start_time": "2023-10-18T17:09:06.885Z"
   },
   {
    "duration": 11,
    "start_time": "2023-10-18T17:09:07.311Z"
   },
   {
    "duration": 19,
    "start_time": "2023-10-18T17:09:07.596Z"
   },
   {
    "duration": 21,
    "start_time": "2023-10-18T17:09:07.736Z"
   },
   {
    "duration": 4,
    "start_time": "2023-10-18T17:09:08.181Z"
   },
   {
    "duration": 15,
    "start_time": "2023-10-18T17:09:08.738Z"
   },
   {
    "duration": 6,
    "start_time": "2023-10-18T17:09:09.073Z"
   },
   {
    "duration": 3,
    "start_time": "2023-10-18T17:09:09.726Z"
   },
   {
    "duration": 15,
    "start_time": "2023-10-18T17:09:10.053Z"
   },
   {
    "duration": 7,
    "start_time": "2023-10-18T17:09:12.691Z"
   },
   {
    "duration": 45,
    "start_time": "2023-10-19T11:32:02.772Z"
   },
   {
    "duration": 772,
    "start_time": "2023-10-19T11:32:08.486Z"
   },
   {
    "duration": 24,
    "start_time": "2023-10-19T11:32:11.610Z"
   },
   {
    "duration": 23,
    "start_time": "2023-10-19T11:32:13.045Z"
   },
   {
    "duration": 15,
    "start_time": "2023-10-19T11:32:13.710Z"
   },
   {
    "duration": 42,
    "start_time": "2023-10-19T11:32:14.012Z"
   },
   {
    "duration": 7,
    "start_time": "2023-10-19T11:32:14.547Z"
   },
   {
    "duration": 9,
    "start_time": "2023-10-19T11:32:14.900Z"
   },
   {
    "duration": 4,
    "start_time": "2023-10-19T11:32:15.468Z"
   },
   {
    "duration": 11,
    "start_time": "2023-10-19T11:32:15.835Z"
   },
   {
    "duration": 5,
    "start_time": "2023-10-19T11:32:16.216Z"
   },
   {
    "duration": 37,
    "start_time": "2023-10-19T11:32:16.791Z"
   },
   {
    "duration": 12,
    "start_time": "2023-10-19T11:32:17.155Z"
   },
   {
    "duration": 6,
    "start_time": "2023-10-19T11:32:17.702Z"
   },
   {
    "duration": 12,
    "start_time": "2023-10-19T11:32:18.266Z"
   },
   {
    "duration": 19,
    "start_time": "2023-10-19T11:32:18.614Z"
   },
   {
    "duration": 18,
    "start_time": "2023-10-19T11:32:18.788Z"
   },
   {
    "duration": 4,
    "start_time": "2023-10-19T11:32:19.376Z"
   },
   {
    "duration": 9,
    "start_time": "2023-10-19T11:32:20.202Z"
   },
   {
    "duration": 9,
    "start_time": "2023-10-19T11:32:22.050Z"
   },
   {
    "duration": 4,
    "start_time": "2023-10-19T11:32:23.214Z"
   },
   {
    "duration": 9,
    "start_time": "2023-10-19T11:32:23.662Z"
   },
   {
    "duration": 39,
    "start_time": "2023-10-19T11:32:24.933Z"
   },
   {
    "duration": 1715,
    "start_time": "2023-10-19T11:32:33.091Z"
   },
   {
    "duration": 1384,
    "start_time": "2023-10-19T11:32:35.217Z"
   },
   {
    "duration": 1804,
    "start_time": "2023-10-19T11:32:56.454Z"
   },
   {
    "duration": 11,
    "start_time": "2023-10-19T11:33:01.086Z"
   },
   {
    "duration": 7,
    "start_time": "2023-10-19T11:33:44.272Z"
   },
   {
    "duration": 7,
    "start_time": "2023-10-19T11:33:51.594Z"
   },
   {
    "duration": 5,
    "start_time": "2023-10-19T11:33:57.684Z"
   },
   {
    "duration": 1686,
    "start_time": "2023-10-19T11:35:42.533Z"
   },
   {
    "duration": 13,
    "start_time": "2023-10-19T11:35:51.411Z"
   },
   {
    "duration": 11,
    "start_time": "2023-10-19T11:37:02.846Z"
   },
   {
    "duration": 10,
    "start_time": "2023-10-19T11:37:51.772Z"
   },
   {
    "duration": 5,
    "start_time": "2023-10-19T11:46:37.558Z"
   },
   {
    "duration": 8,
    "start_time": "2023-10-19T11:47:05.590Z"
   },
   {
    "duration": 4,
    "start_time": "2023-10-19T11:47:29.319Z"
   },
   {
    "duration": 8,
    "start_time": "2023-10-19T11:47:53.061Z"
   },
   {
    "duration": 12,
    "start_time": "2023-10-19T11:56:13.537Z"
   },
   {
    "duration": 5,
    "start_time": "2023-10-19T11:56:23.980Z"
   },
   {
    "duration": 549,
    "start_time": "2023-10-19T12:33:43.282Z"
   },
   {
    "duration": 35,
    "start_time": "2023-10-19T12:33:43.833Z"
   },
   {
    "duration": 24,
    "start_time": "2023-10-19T12:33:43.966Z"
   },
   {
    "duration": 21,
    "start_time": "2023-10-19T12:33:44.640Z"
   },
   {
    "duration": 39,
    "start_time": "2023-10-19T12:33:44.971Z"
   },
   {
    "duration": 10,
    "start_time": "2023-10-19T12:33:45.439Z"
   },
   {
    "duration": 13,
    "start_time": "2023-10-19T12:33:45.770Z"
   },
   {
    "duration": 6,
    "start_time": "2023-10-19T12:33:46.274Z"
   },
   {
    "duration": 10,
    "start_time": "2023-10-19T12:33:46.610Z"
   },
   {
    "duration": 6,
    "start_time": "2023-10-19T12:33:46.977Z"
   },
   {
    "duration": 42,
    "start_time": "2023-10-19T12:33:47.469Z"
   },
   {
    "duration": 17,
    "start_time": "2023-10-19T12:33:47.800Z"
   },
   {
    "duration": 8,
    "start_time": "2023-10-19T12:33:48.362Z"
   },
   {
    "duration": 13,
    "start_time": "2023-10-19T12:33:48.902Z"
   },
   {
    "duration": 19,
    "start_time": "2023-10-19T12:33:49.280Z"
   },
   {
    "duration": 22,
    "start_time": "2023-10-19T12:33:49.466Z"
   },
   {
    "duration": 5,
    "start_time": "2023-10-19T12:33:51.474Z"
   },
   {
    "duration": 10,
    "start_time": "2023-10-19T12:33:52.025Z"
   },
   {
    "duration": 6,
    "start_time": "2023-10-19T12:33:52.601Z"
   },
   {
    "duration": 4,
    "start_time": "2023-10-19T12:33:53.237Z"
   },
   {
    "duration": 14,
    "start_time": "2023-10-19T12:33:53.470Z"
   },
   {
    "duration": 6,
    "start_time": "2023-10-19T12:33:54.291Z"
   },
   {
    "duration": 92,
    "start_time": "2023-10-19T12:35:29.721Z"
   },
   {
    "duration": 9,
    "start_time": "2023-10-19T12:35:53.108Z"
   },
   {
    "duration": 5,
    "start_time": "2023-10-19T12:36:02.987Z"
   },
   {
    "duration": 10,
    "start_time": "2023-10-19T12:51:49.454Z"
   },
   {
    "duration": 30,
    "start_time": "2023-10-19T13:04:38.956Z"
   },
   {
    "duration": 14,
    "start_time": "2023-10-19T13:04:48.363Z"
   },
   {
    "duration": 8,
    "start_time": "2023-10-19T13:06:02.776Z"
   },
   {
    "duration": 7,
    "start_time": "2023-10-19T13:06:53.525Z"
   },
   {
    "duration": 110,
    "start_time": "2023-10-19T13:06:59.183Z"
   },
   {
    "duration": 6,
    "start_time": "2023-10-19T13:07:12.102Z"
   },
   {
    "duration": 7,
    "start_time": "2023-10-19T13:08:52.233Z"
   },
   {
    "duration": 7,
    "start_time": "2023-10-19T13:10:08.378Z"
   },
   {
    "duration": 8,
    "start_time": "2023-10-19T13:10:21.080Z"
   },
   {
    "duration": 9,
    "start_time": "2023-10-19T13:16:10.734Z"
   },
   {
    "duration": 8,
    "start_time": "2023-10-19T13:16:20.719Z"
   },
   {
    "duration": 11,
    "start_time": "2023-10-19T13:18:56.665Z"
   },
   {
    "duration": 5,
    "start_time": "2023-10-19T13:38:40.087Z"
   },
   {
    "duration": 16,
    "start_time": "2023-10-19T13:42:07.498Z"
   },
   {
    "duration": 16,
    "start_time": "2023-10-19T13:42:14.511Z"
   },
   {
    "duration": 9,
    "start_time": "2023-10-19T13:42:23.028Z"
   },
   {
    "duration": 7,
    "start_time": "2023-10-19T13:45:19.579Z"
   },
   {
    "duration": 17,
    "start_time": "2023-10-19T13:45:34.238Z"
   },
   {
    "duration": 33,
    "start_time": "2023-10-19T13:49:03.237Z"
   },
   {
    "duration": 7,
    "start_time": "2023-10-19T13:49:15.794Z"
   },
   {
    "duration": 8,
    "start_time": "2023-10-19T13:51:28.100Z"
   },
   {
    "duration": 21,
    "start_time": "2023-10-19T13:51:45.039Z"
   },
   {
    "duration": 8,
    "start_time": "2023-10-19T13:52:48.292Z"
   },
   {
    "duration": 14,
    "start_time": "2023-10-19T13:56:37.155Z"
   },
   {
    "duration": 9,
    "start_time": "2023-10-19T13:57:02.686Z"
   },
   {
    "duration": 12,
    "start_time": "2023-10-19T13:57:42.762Z"
   },
   {
    "duration": 14,
    "start_time": "2023-10-19T13:58:24.904Z"
   },
   {
    "duration": 15,
    "start_time": "2023-10-19T13:58:52.525Z"
   },
   {
    "duration": 1505,
    "start_time": "2023-10-19T13:59:36.426Z"
   },
   {
    "duration": 2821,
    "start_time": "2023-10-19T14:00:14.243Z"
   },
   {
    "duration": 7,
    "start_time": "2023-10-19T14:00:38.777Z"
   },
   {
    "duration": 11,
    "start_time": "2023-10-19T14:01:16.111Z"
   },
   {
    "duration": 11,
    "start_time": "2023-10-19T14:01:46.866Z"
   },
   {
    "duration": 10,
    "start_time": "2023-10-19T14:03:10.494Z"
   },
   {
    "duration": 14,
    "start_time": "2023-10-19T14:04:26.720Z"
   },
   {
    "duration": 11,
    "start_time": "2023-10-19T14:04:40.791Z"
   },
   {
    "duration": 5,
    "start_time": "2023-10-19T14:28:06.894Z"
   },
   {
    "duration": 9,
    "start_time": "2023-10-19T14:28:39.635Z"
   },
   {
    "duration": 23,
    "start_time": "2023-10-19T14:28:53.906Z"
   },
   {
    "duration": 7,
    "start_time": "2023-10-19T14:29:20.686Z"
   },
   {
    "duration": 12,
    "start_time": "2023-10-19T14:30:13.956Z"
   },
   {
    "duration": 7,
    "start_time": "2023-10-19T14:30:27.166Z"
   },
   {
    "duration": 16,
    "start_time": "2023-10-19T14:30:47.634Z"
   },
   {
    "duration": 11,
    "start_time": "2023-10-19T14:33:12.308Z"
   },
   {
    "duration": 12,
    "start_time": "2023-10-19T14:34:22.287Z"
   },
   {
    "duration": 21,
    "start_time": "2023-10-19T14:35:10.604Z"
   },
   {
    "duration": 13,
    "start_time": "2023-10-19T14:35:45.284Z"
   },
   {
    "duration": 16,
    "start_time": "2023-10-19T14:40:22.240Z"
   },
   {
    "duration": 9,
    "start_time": "2023-10-19T14:40:37.719Z"
   },
   {
    "duration": 7,
    "start_time": "2023-10-19T14:41:28.009Z"
   },
   {
    "duration": 9,
    "start_time": "2023-10-19T14:41:37.792Z"
   },
   {
    "duration": 18,
    "start_time": "2023-10-19T14:43:14.076Z"
   },
   {
    "duration": 17,
    "start_time": "2023-10-19T14:43:33.980Z"
   },
   {
    "duration": 9,
    "start_time": "2023-10-19T14:43:45.495Z"
   },
   {
    "duration": 23,
    "start_time": "2023-10-19T14:44:39.283Z"
   },
   {
    "duration": 40,
    "start_time": "2023-10-19T15:58:28.404Z"
   },
   {
    "duration": 22,
    "start_time": "2023-10-19T15:58:38.884Z"
   },
   {
    "duration": 14,
    "start_time": "2023-10-19T15:58:52.403Z"
   },
   {
    "duration": 12,
    "start_time": "2023-10-19T15:58:55.274Z"
   },
   {
    "duration": 18,
    "start_time": "2023-10-19T15:59:13.571Z"
   },
   {
    "duration": 20,
    "start_time": "2023-10-19T16:04:32.742Z"
   },
   {
    "duration": 32,
    "start_time": "2023-10-19T16:04:43.616Z"
   },
   {
    "duration": 18,
    "start_time": "2023-10-19T16:05:13.556Z"
   },
   {
    "duration": 17,
    "start_time": "2023-10-19T16:05:22.940Z"
   },
   {
    "duration": 46,
    "start_time": "2023-10-19T16:05:54.910Z"
   },
   {
    "duration": 11,
    "start_time": "2023-10-19T16:06:19.742Z"
   },
   {
    "duration": 6,
    "start_time": "2023-10-19T16:06:28.227Z"
   },
   {
    "duration": 7,
    "start_time": "2023-10-19T16:06:49.936Z"
   },
   {
    "duration": 621,
    "start_time": "2023-10-20T12:08:21.931Z"
   },
   {
    "duration": 25,
    "start_time": "2023-10-20T12:08:22.555Z"
   },
   {
    "duration": 22,
    "start_time": "2023-10-20T12:08:22.884Z"
   },
   {
    "duration": 13,
    "start_time": "2023-10-20T12:08:23.578Z"
   },
   {
    "duration": 42,
    "start_time": "2023-10-20T12:08:23.960Z"
   },
   {
    "duration": 4,
    "start_time": "2023-10-20T12:08:24.498Z"
   },
   {
    "duration": 9,
    "start_time": "2023-10-20T12:08:24.846Z"
   },
   {
    "duration": 5,
    "start_time": "2023-10-20T12:08:25.450Z"
   },
   {
    "duration": 8,
    "start_time": "2023-10-20T12:08:25.798Z"
   },
   {
    "duration": 6,
    "start_time": "2023-10-20T12:08:26.187Z"
   },
   {
    "duration": 39,
    "start_time": "2023-10-20T12:08:26.714Z"
   },
   {
    "duration": 12,
    "start_time": "2023-10-20T12:08:27.069Z"
   },
   {
    "duration": 4,
    "start_time": "2023-10-20T12:08:27.632Z"
   },
   {
    "duration": 15,
    "start_time": "2023-10-20T12:08:28.230Z"
   },
   {
    "duration": 23,
    "start_time": "2023-10-20T12:08:28.584Z"
   },
   {
    "duration": 29,
    "start_time": "2023-10-20T12:08:28.787Z"
   },
   {
    "duration": 5,
    "start_time": "2023-10-20T12:08:29.622Z"
   },
   {
    "duration": 17,
    "start_time": "2023-10-20T12:08:30.287Z"
   },
   {
    "duration": 8,
    "start_time": "2023-10-20T12:08:30.768Z"
   },
   {
    "duration": 4,
    "start_time": "2023-10-20T12:08:31.384Z"
   },
   {
    "duration": 14,
    "start_time": "2023-10-20T12:08:31.608Z"
   },
   {
    "duration": 18,
    "start_time": "2023-10-20T12:08:33.215Z"
   },
   {
    "duration": 21,
    "start_time": "2023-10-20T12:08:35.026Z"
   },
   {
    "duration": 6,
    "start_time": "2023-10-20T12:08:46.804Z"
   },
   {
    "duration": 164,
    "start_time": "2023-10-20T12:42:45.484Z"
   },
   {
    "duration": 132,
    "start_time": "2023-10-20T12:42:59.908Z"
   },
   {
    "duration": 144,
    "start_time": "2023-10-20T12:44:13.494Z"
   },
   {
    "duration": 199,
    "start_time": "2023-10-20T12:44:29.803Z"
   },
   {
    "duration": 9,
    "start_time": "2023-10-20T12:44:52.584Z"
   },
   {
    "duration": 88,
    "start_time": "2023-10-20T12:58:34.509Z"
   },
   {
    "duration": 9,
    "start_time": "2023-10-20T12:59:07.897Z"
   },
   {
    "duration": 9,
    "start_time": "2023-10-20T13:00:54.046Z"
   },
   {
    "duration": 10,
    "start_time": "2023-10-20T13:02:05.835Z"
   },
   {
    "duration": 18,
    "start_time": "2023-10-20T13:02:34.694Z"
   },
   {
    "duration": 28,
    "start_time": "2023-10-20T13:02:50.992Z"
   },
   {
    "duration": 11,
    "start_time": "2023-10-20T13:09:10.584Z"
   },
   {
    "duration": 18,
    "start_time": "2023-10-20T13:09:49.685Z"
   },
   {
    "duration": 19,
    "start_time": "2023-10-20T13:11:01.687Z"
   },
   {
    "duration": 17,
    "start_time": "2023-10-20T13:12:34.030Z"
   },
   {
    "duration": 6,
    "start_time": "2023-10-20T13:15:13.293Z"
   },
   {
    "duration": 19,
    "start_time": "2023-10-20T13:15:20.984Z"
   },
   {
    "duration": 30,
    "start_time": "2023-10-20T13:24:34.672Z"
   },
   {
    "duration": 17,
    "start_time": "2023-10-20T13:24:53.584Z"
   },
   {
    "duration": 2,
    "start_time": "2023-10-20T13:33:42.523Z"
   },
   {
    "duration": 24,
    "start_time": "2023-10-20T13:33:48.063Z"
   },
   {
    "duration": 28,
    "start_time": "2023-10-20T13:34:37.581Z"
   },
   {
    "duration": 39,
    "start_time": "2023-10-20T13:34:48.214Z"
   },
   {
    "duration": 33,
    "start_time": "2023-10-20T13:37:43.382Z"
   },
   {
    "duration": 23,
    "start_time": "2023-10-20T13:46:25.780Z"
   },
   {
    "duration": 44,
    "start_time": "2023-10-20T14:01:05.750Z"
   },
   {
    "duration": 34,
    "start_time": "2023-10-20T14:02:24.610Z"
   },
   {
    "duration": 22,
    "start_time": "2023-10-20T14:03:22.678Z"
   },
   {
    "duration": 73,
    "start_time": "2023-10-28T11:40:09.726Z"
   },
   {
    "duration": 744,
    "start_time": "2023-10-28T11:40:16.001Z"
   },
   {
    "duration": 33,
    "start_time": "2023-10-28T11:40:16.747Z"
   },
   {
    "duration": 19,
    "start_time": "2023-10-28T11:40:16.920Z"
   },
   {
    "duration": 11,
    "start_time": "2023-10-28T11:40:17.600Z"
   },
   {
    "duration": 54,
    "start_time": "2023-10-28T11:40:18.143Z"
   },
   {
    "duration": 6,
    "start_time": "2023-10-28T11:40:18.650Z"
   },
   {
    "duration": 11,
    "start_time": "2023-10-28T11:40:19.006Z"
   },
   {
    "duration": 6,
    "start_time": "2023-10-28T11:40:19.500Z"
   },
   {
    "duration": 10,
    "start_time": "2023-10-28T11:40:19.859Z"
   },
   {
    "duration": 6,
    "start_time": "2023-10-28T11:40:20.201Z"
   },
   {
    "duration": 35,
    "start_time": "2023-10-28T11:40:20.786Z"
   },
   {
    "duration": 18,
    "start_time": "2023-10-28T11:40:21.172Z"
   },
   {
    "duration": 5,
    "start_time": "2023-10-28T11:40:21.859Z"
   },
   {
    "duration": 12,
    "start_time": "2023-10-28T11:40:22.494Z"
   },
   {
    "duration": 20,
    "start_time": "2023-10-28T11:40:22.864Z"
   },
   {
    "duration": 18,
    "start_time": "2023-10-28T11:40:23.046Z"
   },
   {
    "duration": 3,
    "start_time": "2023-10-28T11:40:23.648Z"
   },
   {
    "duration": 14,
    "start_time": "2023-10-28T11:40:27.234Z"
   },
   {
    "duration": 6,
    "start_time": "2023-10-28T11:40:27.573Z"
   },
   {
    "duration": 4,
    "start_time": "2023-10-28T11:40:27.906Z"
   },
   {
    "duration": 9,
    "start_time": "2023-10-28T11:40:28.313Z"
   },
   {
    "duration": 13,
    "start_time": "2023-10-28T11:40:29.590Z"
   },
   {
    "duration": 15,
    "start_time": "2023-10-28T11:40:31.049Z"
   },
   {
    "duration": 33,
    "start_time": "2023-10-28T11:40:33.232Z"
   },
   {
    "duration": 127,
    "start_time": "2023-10-28T12:18:23.519Z"
   },
   {
    "duration": 133,
    "start_time": "2023-10-28T12:23:23.806Z"
   },
   {
    "duration": 57,
    "start_time": "2023-10-31T17:24:39.617Z"
   },
   {
    "duration": 712,
    "start_time": "2023-10-31T17:24:43.983Z"
   },
   {
    "duration": 23,
    "start_time": "2023-10-31T17:24:44.697Z"
   },
   {
    "duration": 15,
    "start_time": "2023-10-31T17:24:45.929Z"
   },
   {
    "duration": 10,
    "start_time": "2023-10-31T17:24:48.316Z"
   },
   {
    "duration": 35,
    "start_time": "2023-10-31T17:24:49.581Z"
   },
   {
    "duration": 4,
    "start_time": "2023-10-31T17:24:51.782Z"
   },
   {
    "duration": 88,
    "start_time": "2023-10-31T17:45:24.757Z"
   },
   {
    "duration": 74,
    "start_time": "2023-10-31T17:47:20.920Z"
   }
  ],
  "colab": {
   "provenance": []
  },
  "kernelspec": {
   "display_name": "Python 3 (ipykernel)",
   "language": "python",
   "name": "python3"
  },
  "language_info": {
   "codemirror_mode": {
    "name": "ipython",
    "version": 3
   },
   "file_extension": ".py",
   "mimetype": "text/x-python",
   "name": "python",
   "nbconvert_exporter": "python",
   "pygments_lexer": "ipython3",
   "version": "3.12.3"
  },
  "toc": {
   "base_numbering": 1,
   "nav_menu": {},
   "number_sections": true,
   "sideBar": true,
   "skip_h1_title": true,
   "title_cell": "Table of Contents",
   "title_sidebar": "Contents",
   "toc_cell": false,
   "toc_position": {},
   "toc_section_display": true,
   "toc_window_display": false
  }
 },
 "nbformat": 4,
 "nbformat_minor": 5
}
