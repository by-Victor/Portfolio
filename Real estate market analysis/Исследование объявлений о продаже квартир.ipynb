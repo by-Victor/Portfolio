{
 "cells": [
  {
   "cell_type": "markdown",
   "metadata": {},
   "source": [
    "# Исследование объявлений о продаже квартир\n",
    "\n",
    "В вашем распоряжении данные сервиса Яндекс.Недвижимость — архив объявлений о продаже квартир в Санкт-Петербурге и соседних населённых пунктов за несколько лет. Нужно научиться определять рыночную стоимость объектов недвижимости. Ваша задача — установить параметры. Это позволит построить автоматизированную систему: она отследит аномалии и мошенническую деятельность. \n",
    "\n",
    "По каждой квартире на продажу доступны два вида данных. Первые вписаны пользователем, вторые — получены автоматически на основе картографических данных. Например, расстояние до центра, аэропорта, ближайшего парка и водоёма. "
   ]
  },
  {
   "cell_type": "markdown",
   "metadata": {},
   "source": [
    "### Откройте файл с данными и изучите общую информацию. "
   ]
  },
  {
   "cell_type": "code",
   "execution_count": 1,
   "metadata": {
    "scrolled": true
   },
   "outputs": [
    {
     "name": "stdout",
     "output_type": "stream",
     "text": [
      "   total_images  last_price  total_area first_day_exposition  rooms  \\\n",
      "0            20  13000000.0      108.00  2019-03-07T00:00:00      3   \n",
      "1             7   3350000.0       40.40  2018-12-04T00:00:00      1   \n",
      "2            10   5196000.0       56.00  2015-08-20T00:00:00      2   \n",
      "3             0  64900000.0      159.00  2015-07-24T00:00:00      3   \n",
      "4             2  10000000.0      100.00  2018-06-19T00:00:00      2   \n",
      "5            10   2890000.0       30.40  2018-09-10T00:00:00      1   \n",
      "6             6   3700000.0       37.30  2017-11-02T00:00:00      1   \n",
      "7             5   7915000.0       71.60  2019-04-18T00:00:00      2   \n",
      "8            20   2900000.0       33.16  2018-05-23T00:00:00      1   \n",
      "9            18   5400000.0       61.00  2017-02-26T00:00:00      3   \n",
      "\n",
      "   ceiling_height  floors_total  living_area  floor is_apartment  ...  \\\n",
      "0            2.70          16.0        51.00      8          NaN  ...   \n",
      "1             NaN          11.0        18.60      1          NaN  ...   \n",
      "2             NaN           5.0        34.30      4          NaN  ...   \n",
      "3             NaN          14.0          NaN      9          NaN  ...   \n",
      "4            3.03          14.0        32.00     13          NaN  ...   \n",
      "5             NaN          12.0        14.40      5          NaN  ...   \n",
      "6             NaN          26.0        10.60      6          NaN  ...   \n",
      "7             NaN          24.0          NaN     22          NaN  ...   \n",
      "8             NaN          27.0        15.43     26          NaN  ...   \n",
      "9            2.50           9.0        43.60      7          NaN  ...   \n",
      "\n",
      "   kitchen_area  balcony              locality_name  airports_nearest  \\\n",
      "0         25.00      NaN            Санкт-Петербург           18863.0   \n",
      "1         11.00      2.0             посёлок Шушары           12817.0   \n",
      "2          8.30      0.0            Санкт-Петербург           21741.0   \n",
      "3           NaN      0.0            Санкт-Петербург           28098.0   \n",
      "4         41.00      NaN            Санкт-Петербург           31856.0   \n",
      "5          9.10      NaN  городской посёлок Янино-1               NaN   \n",
      "6         14.40      1.0          посёлок Парголово           52996.0   \n",
      "7         18.90      2.0            Санкт-Петербург           23982.0   \n",
      "8          8.81      NaN             посёлок Мурино               NaN   \n",
      "9          6.50      2.0            Санкт-Петербург           50898.0   \n",
      "\n",
      "  cityCenters_nearest  parks_around3000  parks_nearest  ponds_around3000  \\\n",
      "0             16028.0               1.0          482.0               2.0   \n",
      "1             18603.0               0.0            NaN               0.0   \n",
      "2             13933.0               1.0           90.0               2.0   \n",
      "3              6800.0               2.0           84.0               3.0   \n",
      "4              8098.0               2.0          112.0               1.0   \n",
      "5                 NaN               NaN            NaN               NaN   \n",
      "6             19143.0               0.0            NaN               0.0   \n",
      "7             11634.0               0.0            NaN               0.0   \n",
      "8                 NaN               NaN            NaN               NaN   \n",
      "9             15008.0               0.0            NaN               0.0   \n",
      "\n",
      "   ponds_nearest  days_exposition  \n",
      "0          755.0              NaN  \n",
      "1            NaN             81.0  \n",
      "2          574.0            558.0  \n",
      "3          234.0            424.0  \n",
      "4           48.0            121.0  \n",
      "5            NaN             55.0  \n",
      "6            NaN            155.0  \n",
      "7            NaN              NaN  \n",
      "8            NaN            189.0  \n",
      "9            NaN            289.0  \n",
      "\n",
      "[10 rows x 22 columns]\n"
     ]
    }
   ],
   "source": [
    "# импортируем библиотеку pandas.\n",
    "# читаем csv-файл и выводим первые 5 строк.\n",
    "import pandas as pd\n",
    "import matplotlib.pyplot as plt \n",
    "data = pd.read_csv('/datasets/real_estate_data.csv', sep='\\t')\n",
    "print(data.head(10))"
   ]
  },
  {
   "cell_type": "code",
   "execution_count": 2,
   "metadata": {},
   "outputs": [
    {
     "name": "stdout",
     "output_type": "stream",
     "text": [
      "<class 'pandas.core.frame.DataFrame'>\n",
      "RangeIndex: 23699 entries, 0 to 23698\n",
      "Data columns (total 22 columns):\n",
      " #   Column                Non-Null Count  Dtype  \n",
      "---  ------                --------------  -----  \n",
      " 0   total_images          23699 non-null  int64  \n",
      " 1   last_price            23699 non-null  float64\n",
      " 2   total_area            23699 non-null  float64\n",
      " 3   first_day_exposition  23699 non-null  object \n",
      " 4   rooms                 23699 non-null  int64  \n",
      " 5   ceiling_height        14504 non-null  float64\n",
      " 6   floors_total          23613 non-null  float64\n",
      " 7   living_area           21796 non-null  float64\n",
      " 8   floor                 23699 non-null  int64  \n",
      " 9   is_apartment          2775 non-null   object \n",
      " 10  studio                23699 non-null  bool   \n",
      " 11  open_plan             23699 non-null  bool   \n",
      " 12  kitchen_area          21421 non-null  float64\n",
      " 13  balcony               12180 non-null  float64\n",
      " 14  locality_name         23650 non-null  object \n",
      " 15  airports_nearest      18157 non-null  float64\n",
      " 16  cityCenters_nearest   18180 non-null  float64\n",
      " 17  parks_around3000      18181 non-null  float64\n",
      " 18  parks_nearest         8079 non-null   float64\n",
      " 19  ponds_around3000      18181 non-null  float64\n",
      " 20  ponds_nearest         9110 non-null   float64\n",
      " 21  days_exposition       20518 non-null  float64\n",
      "dtypes: bool(2), float64(14), int64(3), object(3)\n",
      "memory usage: 3.7+ MB\n",
      "None\n"
     ]
    }
   ],
   "source": [
    "# выводим основную информацию о датафрейме.\n",
    "print(data.info())"
   ]
  },
  {
   "cell_type": "code",
   "execution_count": 3,
   "metadata": {},
   "outputs": [
    {
     "data": {
      "text/plain": [
       "array([[<AxesSubplot:title={'center':'total_images'}>,\n",
       "        <AxesSubplot:title={'center':'last_price'}>,\n",
       "        <AxesSubplot:title={'center':'total_area'}>,\n",
       "        <AxesSubplot:title={'center':'rooms'}>],\n",
       "       [<AxesSubplot:title={'center':'ceiling_height'}>,\n",
       "        <AxesSubplot:title={'center':'floors_total'}>,\n",
       "        <AxesSubplot:title={'center':'living_area'}>,\n",
       "        <AxesSubplot:title={'center':'floor'}>],\n",
       "       [<AxesSubplot:title={'center':'kitchen_area'}>,\n",
       "        <AxesSubplot:title={'center':'balcony'}>,\n",
       "        <AxesSubplot:title={'center':'airports_nearest'}>,\n",
       "        <AxesSubplot:title={'center':'cityCenters_nearest'}>],\n",
       "       [<AxesSubplot:title={'center':'parks_around3000'}>,\n",
       "        <AxesSubplot:title={'center':'parks_nearest'}>,\n",
       "        <AxesSubplot:title={'center':'ponds_around3000'}>,\n",
       "        <AxesSubplot:title={'center':'ponds_nearest'}>],\n",
       "       [<AxesSubplot:title={'center':'days_exposition'}>, <AxesSubplot:>,\n",
       "        <AxesSubplot:>, <AxesSubplot:>]], dtype=object)"
      ]
     },
     "execution_count": 3,
     "metadata": {},
     "output_type": "execute_result"
    },
    {
     "data": {
      "image/png": "[encoded data removed]",
      "text/plain": [
       "<Figure size 1080x1440 with 20 Axes>"
      ]
     },
     "metadata": {
      "needs_background": "light"
     },
     "output_type": "display_data"
    }
   ],
   "source": [
    "data.hist(figsize=(15, 20))"
   ]
  },
  {
   "cell_type": "code",
   "execution_count": 4,
   "metadata": {},
   "outputs": [
    {
     "name": "stdout",
     "output_type": "stream",
     "text": [
      "(23699, 22)\n"
     ]
    }
   ],
   "source": [
    "data_old_shape = data.shape\n",
    "print(data_old_shape)"
   ]
  },
  {
   "cell_type": "markdown",
   "metadata": {},
   "source": [
    "### Предобработка данных"
   ]
  },
  {
   "cell_type": "code",
   "execution_count": 5,
   "metadata": {},
   "outputs": [
    {
     "name": "stdout",
     "output_type": "stream",
     "text": [
      "total_images                0\n",
      "last_price                  0\n",
      "total_area                  0\n",
      "first_day_exposition        0\n",
      "rooms                       0\n",
      "ceiling_height           9195\n",
      "floors_total               86\n",
      "living_area              1903\n",
      "floor                       0\n",
      "is_apartment            20924\n",
      "studio                      0\n",
      "open_plan                   0\n",
      "kitchen_area             2278\n",
      "balcony                 11519\n",
      "locality_name              49\n",
      "airports_nearest         5542\n",
      "cityCenters_nearest      5519\n",
      "parks_around3000         5518\n",
      "parks_nearest           15620\n",
      "ponds_around3000         5518\n",
      "ponds_nearest           14589\n",
      "days_exposition          3181\n",
      "dtype: int64\n"
     ]
    }
   ],
   "source": [
    "# выводим колличество пропущеных значений для каждого столбца.\n",
    "print(data.isna().sum())"
   ]
  },
  {
   "cell_type": "markdown",
   "metadata": {},
   "source": [
    "К причинам, которые могли привести к пропускам в данных, можно отнести: незаполнение ячеек по незнанию информации, нет данной информации в системе, неправильное заполнение данных."
   ]
  },
  {
   "cell_type": "code",
   "execution_count": 6,
   "metadata": {},
   "outputs": [],
   "source": [
    "# заполняем пропущенный значения в коллонке balcony числом 0.\n",
    "# изменяем тип данных на int.\n",
    "data['balcony'] = data['balcony'].fillna(0).astype(int)"
   ]
  },
  {
   "cell_type": "markdown",
   "metadata": {},
   "source": [
    "Количество балконов считается целыми числами. Так визуально удобнее работать с данными."
   ]
  },
  {
   "cell_type": "code",
   "execution_count": 7,
   "metadata": {},
   "outputs": [
    {
     "name": "stdout",
     "output_type": "stream",
     "text": [
      "0       2019-03-07\n",
      "1       2018-12-04\n",
      "2       2015-08-20\n",
      "3       2015-07-24\n",
      "4       2018-06-19\n",
      "           ...    \n",
      "23694   2017-03-21\n",
      "23695   2018-01-15\n",
      "23696   2018-02-11\n",
      "23697   2017-03-28\n",
      "23698   2017-07-21\n",
      "Name: first_day_exposition, Length: 23699, dtype: datetime64[ns]\n"
     ]
    }
   ],
   "source": [
    "data['first_day_exposition'] = pd.to_datetime(data['first_day_exposition'], format='%Y.%m.%d')\n",
    "print(data['first_day_exposition'])"
   ]
  },
  {
   "cell_type": "code",
   "execution_count": 8,
   "metadata": {},
   "outputs": [
    {
     "data": {
      "text/html": [
       "<div>\n",
       "<style scoped>\n",
       "    .dataframe tbody tr th:only-of-type {\n",
       "        vertical-align: middle;\n",
       "    }\n",
       "\n",
       "    .dataframe tbody tr th {\n",
       "        vertical-align: top;\n",
       "    }\n",
       "\n",
       "    .dataframe thead th {\n",
       "        text-align: right;\n",
       "    }\n",
       "</style>\n",
       "<table border=\"1\" class=\"dataframe\">\n",
       "  <thead>\n",
       "    <tr style=\"text-align: right;\">\n",
       "      <th>first_day_year</th>\n",
       "      <th>2014</th>\n",
       "      <th>2015</th>\n",
       "      <th>2016</th>\n",
       "      <th>2017</th>\n",
       "      <th>2018</th>\n",
       "      <th>2019</th>\n",
       "    </tr>\n",
       "  </thead>\n",
       "  <tbody>\n",
       "    <tr>\n",
       "      <th>total_area</th>\n",
       "      <td>18</td>\n",
       "      <td>70</td>\n",
       "      <td>67</td>\n",
       "      <td>271</td>\n",
       "      <td>959</td>\n",
       "      <td>1796</td>\n",
       "    </tr>\n",
       "  </tbody>\n",
       "</table>\n",
       "</div>"
      ],
      "text/plain": [
       "first_day_year  2014  2015  2016  2017  2018  2019\n",
       "total_area        18    70    67   271   959  1796"
      ]
     },
     "execution_count": 8,
     "metadata": {},
     "output_type": "execute_result"
    }
   ],
   "source": [
    "# код ревьюера\n",
    "import datetime as dt\n",
    "\n",
    "data['first_day_exposition'] = pd.to_datetime(data['first_day_exposition'], format='%Y-%m-%dT%H:%M:%S')\n",
    "data['first_day_year'] = data['first_day_exposition'].dt.year\n",
    "data[data['days_exposition'].isnull()].pivot_table(columns = 'first_day_year', values = 'total_area', aggfunc = 'count')"
   ]
  },
  {
   "cell_type": "code",
   "execution_count": 9,
   "metadata": {},
   "outputs": [
    {
     "data": {
      "text/plain": [
       "2.65"
      ]
     },
     "execution_count": 9,
     "metadata": {},
     "output_type": "execute_result"
    }
   ],
   "source": [
    "# посчитал медианным значением высоту потолков.\n",
    "data['ceiling_height'].median()"
   ]
  },
  {
   "cell_type": "code",
   "execution_count": 10,
   "metadata": {},
   "outputs": [],
   "source": [
    "# заполнил пропуск медианным значением.\n",
    "data['ceiling_height'] = data['ceiling_height'].fillna(data['ceiling_height'].median())"
   ]
  },
  {
   "cell_type": "code",
   "execution_count": 11,
   "metadata": {},
   "outputs": [
    {
     "data": {
      "text/plain": [
       "Санкт-Петербург                    15721\n",
       "посёлок Мурино                       522\n",
       "посёлок Шушары                       440\n",
       "Всеволожск                           398\n",
       "Пушкин                               369\n",
       "                                   ...  \n",
       "поселок Гладкое                        1\n",
       "деревня Большая Пустомержа             1\n",
       "посёлок Плоское                        1\n",
       "посёлок Платформа 69-й километр        1\n",
       "посёлок Белоостров                     1\n",
       "Name: locality_name, Length: 364, dtype: int64"
      ]
     },
     "execution_count": 11,
     "metadata": {},
     "output_type": "execute_result"
    }
   ],
   "source": [
    "data['locality_name'].value_counts()"
   ]
  },
  {
   "cell_type": "code",
   "execution_count": 12,
   "metadata": {},
   "outputs": [],
   "source": [
    "data['locality_name'] = (\n",
    "    data['locality_name']\n",
    "    .str.replace('ё', 'е')\n",
    "    .replace(['городской', 'станции', 'городского типа', 'коттеджный', 'поселок', 'село', 'деревня', 'садоводческое некоммерческое товарищество', 'садовое товарищество', 'поселок при железнодорожной станции', 'при железнодорожной', 'имени', ' '], '', regex=True)\n",
    ")"
   ]
  },
  {
   "cell_type": "code",
   "execution_count": 13,
   "metadata": {},
   "outputs": [
    {
     "data": {
      "text/plain": [
       "Санкт-Петербург    15721\n",
       "Мурино               590\n",
       "Кудрово              472\n",
       "Шушары               440\n",
       "Всеволожск           398\n",
       "                   ...  \n",
       "Мыза-Ивановка          1\n",
       "Снегиревка             1\n",
       "НоваяРопша             1\n",
       "Гончарово              1\n",
       "Ропша                  1\n",
       "Name: locality_name, Length: 305, dtype: int64"
      ]
     },
     "execution_count": 13,
     "metadata": {},
     "output_type": "execute_result"
    }
   ],
   "source": [
    "data['locality_name'].value_counts()"
   ]
  },
  {
   "cell_type": "code",
   "execution_count": 14,
   "metadata": {},
   "outputs": [
    {
     "name": "stdout",
     "output_type": "stream",
     "text": [
      "0       2019-03-07\n",
      "1       2018-12-04\n",
      "2       2015-08-20\n",
      "3       2015-07-24\n",
      "4       2018-06-19\n",
      "           ...    \n",
      "23694   2017-03-21\n",
      "23695   2018-01-15\n",
      "23696   2018-02-11\n",
      "23697   2017-03-28\n",
      "23698   2017-07-21\n",
      "Name: first_day_exposition, Length: 23699, dtype: datetime64[ns]\n"
     ]
    }
   ],
   "source": [
    "# Изменяем тип данных на только дату без времени(так как время у всех дат стоит 00-00-00)\n",
    "data['first_day_exposition'] = pd.to_datetime(data['first_day_exposition'], format='%Y.%m.%d')\n",
    "print(data['first_day_exposition'])"
   ]
  },
  {
   "cell_type": "markdown",
   "metadata": {},
   "source": [
    "### Посчитайте и добавьте в таблицу новые столбцы"
   ]
  },
  {
   "cell_type": "code",
   "execution_count": 58,
   "metadata": {},
   "outputs": [
    {
     "name": "stdout",
     "output_type": "stream",
     "text": [
      "0        120370.37\n",
      "1         82920.79\n",
      "2         92785.71\n",
      "3        408176.10\n",
      "4        100000.00\n",
      "           ...    \n",
      "23694     72490.85\n",
      "23695     52542.37\n",
      "23696     44091.71\n",
      "23697    149511.40\n",
      "23698     41795.67\n",
      "Name: price_one_meter, Length: 23699, dtype: float64\n"
     ]
    }
   ],
   "source": [
    "# цена одного квадратного метра (нужно поделить стоимость объекта на его общую площадь, \n",
    "# а затем округлить до двух знаков после запятой);\n",
    "data['price_one_meter'] = (data['last_price'] / data['total_area']).round(2)\n",
    "print(data['price_one_meter'])"
   ]
  },
  {
   "cell_type": "code",
   "execution_count": 16,
   "metadata": {},
   "outputs": [],
   "source": [
    "# день недели публикации объявления (0 — понедельник, 1 — вторник и так далее);\n",
    "data['day_publication'] = data['first_day_exposition'].dt.weekday"
   ]
  },
  {
   "cell_type": "code",
   "execution_count": 17,
   "metadata": {},
   "outputs": [],
   "source": [
    "# месяц публикации объявления\n",
    "data['month_publication'] = (data['first_day_exposition']).dt.month"
   ]
  },
  {
   "cell_type": "code",
   "execution_count": 18,
   "metadata": {},
   "outputs": [],
   "source": [
    "# год публикации объявления;\n",
    "data['year_publication'] = (data['first_day_exposition']).dt.year"
   ]
  },
  {
   "cell_type": "code",
   "execution_count": 19,
   "metadata": {},
   "outputs": [],
   "source": [
    "# тип этажа квартиры (значения — «первый», «последний», «другой»);\n",
    "def floors_category(row):\n",
    "    floors_total = row['floors_total']\n",
    "    floor = row['floor']\n",
    "    if floor == 1:\n",
    "        return 'первый'\n",
    "    elif floor == floors_total:\n",
    "        return 'последний'\n",
    "    elif 1 < floor < floors_total:\n",
    "        return 'другой'\n",
    "data['floors_category'] = data.apply(floors_category, axis = 1)"
   ]
  },
  {
   "cell_type": "code",
   "execution_count": 20,
   "metadata": {},
   "outputs": [
    {
     "name": "stdout",
     "output_type": "stream",
     "text": [
      "   total_images  last_price  total_area first_day_exposition  rooms  \\\n",
      "0            20  13000000.0       108.0           2019-03-07      3   \n",
      "1             7   3350000.0        40.4           2018-12-04      1   \n",
      "2            10   5196000.0        56.0           2015-08-20      2   \n",
      "3             0  64900000.0       159.0           2015-07-24      3   \n",
      "4             2  10000000.0       100.0           2018-06-19      2   \n",
      "\n",
      "   ceiling_height  floors_total  living_area  floor is_apartment  ...  \\\n",
      "0            2.70          16.0         51.0      8          NaN  ...   \n",
      "1            2.65          11.0         18.6      1          NaN  ...   \n",
      "2            2.65           5.0         34.3      4          NaN  ...   \n",
      "3            2.65          14.0          NaN      9          NaN  ...   \n",
      "4            3.03          14.0         32.0     13          NaN  ...   \n",
      "\n",
      "   ponds_around3000  ponds_nearest  days_exposition  first_day_year  \\\n",
      "0               2.0          755.0              NaN            2019   \n",
      "1               0.0            NaN             81.0            2018   \n",
      "2               2.0          574.0            558.0            2015   \n",
      "3               3.0          234.0            424.0            2015   \n",
      "4               1.0           48.0            121.0            2018   \n",
      "\n",
      "  price_one_meter  day_publication  month_publication  year_publication  \\\n",
      "0       120370.37                3                  3              2019   \n",
      "1        82920.79                1                 12              2018   \n",
      "2        92785.71                3                  8              2015   \n",
      "3       408176.10                4                  7              2015   \n",
      "4       100000.00                1                  6              2018   \n",
      "\n",
      "   floors_category  distance_center_kilometrs  \n",
      "0           другой                       16.0  \n",
      "1           первый                       19.0  \n",
      "2           другой                       14.0  \n",
      "3           другой                        7.0  \n",
      "4           другой                        8.0  \n",
      "\n",
      "[5 rows x 29 columns]\n"
     ]
    }
   ],
   "source": [
    "# посчитаем расстояние до центра города в километрах (переведем из м в км и округлим до ближайших целых значений).\n",
    "data['distance_center_kilometrs'] = (data['cityCenters_nearest'] / 1000).round()\n",
    "data['cityCenters_nearest'] = data['cityCenters_nearest'].fillna(0)\n",
    "print(data.head())"
   ]
  },
  {
   "cell_type": "code",
   "execution_count": 21,
   "metadata": {},
   "outputs": [
    {
     "data": {
      "text/html": [
       "<div>\n",
       "<style scoped>\n",
       "    .dataframe tbody tr th:only-of-type {\n",
       "        vertical-align: middle;\n",
       "    }\n",
       "\n",
       "    .dataframe tbody tr th {\n",
       "        vertical-align: top;\n",
       "    }\n",
       "\n",
       "    .dataframe thead th {\n",
       "        text-align: right;\n",
       "    }\n",
       "</style>\n",
       "<table border=\"1\" class=\"dataframe\">\n",
       "  <thead>\n",
       "    <tr style=\"text-align: right;\">\n",
       "      <th></th>\n",
       "      <th>total_images</th>\n",
       "      <th>last_price</th>\n",
       "      <th>total_area</th>\n",
       "      <th>first_day_exposition</th>\n",
       "      <th>rooms</th>\n",
       "      <th>ceiling_height</th>\n",
       "      <th>floors_total</th>\n",
       "      <th>living_area</th>\n",
       "      <th>floor</th>\n",
       "      <th>is_apartment</th>\n",
       "      <th>...</th>\n",
       "      <th>ponds_around3000</th>\n",
       "      <th>ponds_nearest</th>\n",
       "      <th>days_exposition</th>\n",
       "      <th>first_day_year</th>\n",
       "      <th>price_one_meter</th>\n",
       "      <th>day_publication</th>\n",
       "      <th>month_publication</th>\n",
       "      <th>year_publication</th>\n",
       "      <th>floors_category</th>\n",
       "      <th>distance_center_kilometrs</th>\n",
       "    </tr>\n",
       "  </thead>\n",
       "  <tbody>\n",
       "    <tr>\n",
       "      <th>0</th>\n",
       "      <td>20</td>\n",
       "      <td>13000000.0</td>\n",
       "      <td>108.0</td>\n",
       "      <td>2019-03-07</td>\n",
       "      <td>3</td>\n",
       "      <td>2.70</td>\n",
       "      <td>16.0</td>\n",
       "      <td>51.0</td>\n",
       "      <td>8</td>\n",
       "      <td>NaN</td>\n",
       "      <td>...</td>\n",
       "      <td>2.0</td>\n",
       "      <td>755.0</td>\n",
       "      <td>NaN</td>\n",
       "      <td>2019</td>\n",
       "      <td>120370.37</td>\n",
       "      <td>3</td>\n",
       "      <td>3</td>\n",
       "      <td>2019</td>\n",
       "      <td>другой</td>\n",
       "      <td>16.0</td>\n",
       "    </tr>\n",
       "    <tr>\n",
       "      <th>1</th>\n",
       "      <td>7</td>\n",
       "      <td>3350000.0</td>\n",
       "      <td>40.4</td>\n",
       "      <td>2018-12-04</td>\n",
       "      <td>1</td>\n",
       "      <td>2.65</td>\n",
       "      <td>11.0</td>\n",
       "      <td>18.6</td>\n",
       "      <td>1</td>\n",
       "      <td>NaN</td>\n",
       "      <td>...</td>\n",
       "      <td>0.0</td>\n",
       "      <td>NaN</td>\n",
       "      <td>81.0</td>\n",
       "      <td>2018</td>\n",
       "      <td>82920.79</td>\n",
       "      <td>1</td>\n",
       "      <td>12</td>\n",
       "      <td>2018</td>\n",
       "      <td>первый</td>\n",
       "      <td>19.0</td>\n",
       "    </tr>\n",
       "    <tr>\n",
       "      <th>2</th>\n",
       "      <td>10</td>\n",
       "      <td>5196000.0</td>\n",
       "      <td>56.0</td>\n",
       "      <td>2015-08-20</td>\n",
       "      <td>2</td>\n",
       "      <td>2.65</td>\n",
       "      <td>5.0</td>\n",
       "      <td>34.3</td>\n",
       "      <td>4</td>\n",
       "      <td>NaN</td>\n",
       "      <td>...</td>\n",
       "      <td>2.0</td>\n",
       "      <td>574.0</td>\n",
       "      <td>558.0</td>\n",
       "      <td>2015</td>\n",
       "      <td>92785.71</td>\n",
       "      <td>3</td>\n",
       "      <td>8</td>\n",
       "      <td>2015</td>\n",
       "      <td>другой</td>\n",
       "      <td>14.0</td>\n",
       "    </tr>\n",
       "    <tr>\n",
       "      <th>3</th>\n",
       "      <td>0</td>\n",
       "      <td>64900000.0</td>\n",
       "      <td>159.0</td>\n",
       "      <td>2015-07-24</td>\n",
       "      <td>3</td>\n",
       "      <td>2.65</td>\n",
       "      <td>14.0</td>\n",
       "      <td>NaN</td>\n",
       "      <td>9</td>\n",
       "      <td>NaN</td>\n",
       "      <td>...</td>\n",
       "      <td>3.0</td>\n",
       "      <td>234.0</td>\n",
       "      <td>424.0</td>\n",
       "      <td>2015</td>\n",
       "      <td>408176.10</td>\n",
       "      <td>4</td>\n",
       "      <td>7</td>\n",
       "      <td>2015</td>\n",
       "      <td>другой</td>\n",
       "      <td>7.0</td>\n",
       "    </tr>\n",
       "    <tr>\n",
       "      <th>4</th>\n",
       "      <td>2</td>\n",
       "      <td>10000000.0</td>\n",
       "      <td>100.0</td>\n",
       "      <td>2018-06-19</td>\n",
       "      <td>2</td>\n",
       "      <td>3.03</td>\n",
       "      <td>14.0</td>\n",
       "      <td>32.0</td>\n",
       "      <td>13</td>\n",
       "      <td>NaN</td>\n",
       "      <td>...</td>\n",
       "      <td>1.0</td>\n",
       "      <td>48.0</td>\n",
       "      <td>121.0</td>\n",
       "      <td>2018</td>\n",
       "      <td>100000.00</td>\n",
       "      <td>1</td>\n",
       "      <td>6</td>\n",
       "      <td>2018</td>\n",
       "      <td>другой</td>\n",
       "      <td>8.0</td>\n",
       "    </tr>\n",
       "  </tbody>\n",
       "</table>\n",
       "<p>5 rows × 29 columns</p>\n",
       "</div>"
      ],
      "text/plain": [
       "   total_images  last_price  total_area first_day_exposition  rooms  \\\n",
       "0            20  13000000.0       108.0           2019-03-07      3   \n",
       "1             7   3350000.0        40.4           2018-12-04      1   \n",
       "2            10   5196000.0        56.0           2015-08-20      2   \n",
       "3             0  64900000.0       159.0           2015-07-24      3   \n",
       "4             2  10000000.0       100.0           2018-06-19      2   \n",
       "\n",
       "   ceiling_height  floors_total  living_area  floor is_apartment  ...  \\\n",
       "0            2.70          16.0         51.0      8          NaN  ...   \n",
       "1            2.65          11.0         18.6      1          NaN  ...   \n",
       "2            2.65           5.0         34.3      4          NaN  ...   \n",
       "3            2.65          14.0          NaN      9          NaN  ...   \n",
       "4            3.03          14.0         32.0     13          NaN  ...   \n",
       "\n",
       "   ponds_around3000  ponds_nearest  days_exposition  first_day_year  \\\n",
       "0               2.0          755.0              NaN            2019   \n",
       "1               0.0            NaN             81.0            2018   \n",
       "2               2.0          574.0            558.0            2015   \n",
       "3               3.0          234.0            424.0            2015   \n",
       "4               1.0           48.0            121.0            2018   \n",
       "\n",
       "  price_one_meter  day_publication  month_publication  year_publication  \\\n",
       "0       120370.37                3                  3              2019   \n",
       "1        82920.79                1                 12              2018   \n",
       "2        92785.71                3                  8              2015   \n",
       "3       408176.10                4                  7              2015   \n",
       "4       100000.00                1                  6              2018   \n",
       "\n",
       "   floors_category  distance_center_kilometrs  \n",
       "0           другой                       16.0  \n",
       "1           первый                       19.0  \n",
       "2           другой                       14.0  \n",
       "3           другой                        7.0  \n",
       "4           другой                        8.0  \n",
       "\n",
       "[5 rows x 29 columns]"
      ]
     },
     "metadata": {},
     "output_type": "display_data"
    }
   ],
   "source": [
    "# Код ревьюера\n",
    "display(data.head())"
   ]
  },
  {
   "cell_type": "markdown",
   "metadata": {},
   "source": [
    "### Проведите исследовательский анализ данных"
   ]
  },
  {
   "cell_type": "code",
   "execution_count": 22,
   "metadata": {},
   "outputs": [
    {
     "data": {
      "text/plain": [
       "count    23699.000000\n",
       "mean         2.724358\n",
       "std          0.988298\n",
       "min          1.000000\n",
       "25%          2.600000\n",
       "50%          2.650000\n",
       "75%          2.700000\n",
       "max        100.000000\n",
       "Name: ceiling_height, dtype: float64"
      ]
     },
     "execution_count": 22,
     "metadata": {},
     "output_type": "execute_result"
    },
    {
     "data": {
      "image/png": "[encoded data removed]",
      "text/plain": [
       "<Figure size 360x360 with 1 Axes>"
      ]
     },
     "metadata": {
      "needs_background": "light"
     },
     "output_type": "display_data"
    }
   ],
   "source": [
    "data.plot(y = 'ceiling_height', kind = 'hist', bins = 20, range = (2, 5), grid=True, figsize=(5, 5))\n",
    "plt.xlabel('высота потолков (м)')\n",
    "plt.ylabel('количество квартир')\n",
    "data['ceiling_height'].describe()"
   ]
  },
  {
   "cell_type": "markdown",
   "metadata": {},
   "source": [
    "Высота потолков в среднем 2.7 метра."
   ]
  },
  {
   "cell_type": "code",
   "execution_count": 23,
   "metadata": {},
   "outputs": [
    {
     "data": {
      "text/plain": [
       "count    23699.000000\n",
       "mean        60.348651\n",
       "std         35.654083\n",
       "min         12.000000\n",
       "25%         40.000000\n",
       "50%         52.000000\n",
       "75%         69.900000\n",
       "max        900.000000\n",
       "Name: total_area, dtype: float64"
      ]
     },
     "execution_count": 23,
     "metadata": {},
     "output_type": "execute_result"
    },
    {
     "data": {
      "image/png": "[encoded data removed]",
      "text/plain": [
       "<Figure size 360x360 with 1 Axes>"
      ]
     },
     "metadata": {
      "needs_background": "light"
     },
     "output_type": "display_data"
    }
   ],
   "source": [
    "data.plot(y = 'total_area', kind = 'hist', bins = 50, range = (10, 200), grid=True, figsize=(5, 5))\n",
    "plt.xlabel('общая площадь квартиры в квадратных метрах (м²)')\n",
    "plt.ylabel('количество квартир')\n",
    "data['total_area'].describe()"
   ]
  },
  {
   "cell_type": "markdown",
   "metadata": {},
   "source": [
    "В среднем квартиры колебаются от 26 до 65 квадратных метров."
   ]
  },
  {
   "cell_type": "code",
   "execution_count": 24,
   "metadata": {},
   "outputs": [
    {
     "data": {
      "text/plain": [
       "count    21796.000000\n",
       "mean        34.457852\n",
       "std         22.030445\n",
       "min          2.000000\n",
       "25%         18.600000\n",
       "50%         30.000000\n",
       "75%         42.300000\n",
       "max        409.700000\n",
       "Name: living_area, dtype: float64"
      ]
     },
     "execution_count": 24,
     "metadata": {},
     "output_type": "execute_result"
    },
    {
     "data": {
      "image/png": "[encoded data removed]",
      "text/plain": [
       "<Figure size 360x360 with 1 Axes>"
      ]
     },
     "metadata": {
      "needs_background": "light"
     },
     "output_type": "display_data"
    }
   ],
   "source": [
    "data.plot(y = 'living_area', kind = 'hist', bins = 50, range = (2, 100), grid=True, figsize=(5, 5))\n",
    "plt.xlabel('жилая площадь в квадратных метрах (м²)')\n",
    "plt.ylabel('количество квартир')\n",
    "data['living_area'].describe()"
   ]
  },
  {
   "cell_type": "markdown",
   "metadata": {},
   "source": [
    "Чаще вчего встречаются квартиры с жилой площадью от 15 до 20 кв/м и от 23 до 40 кв/м."
   ]
  },
  {
   "cell_type": "code",
   "execution_count": 25,
   "metadata": {},
   "outputs": [
    {
     "data": {
      "text/plain": [
       "count    21421.000000\n",
       "mean        10.569807\n",
       "std          5.905438\n",
       "min          1.300000\n",
       "25%          7.000000\n",
       "50%          9.100000\n",
       "75%         12.000000\n",
       "max        112.000000\n",
       "Name: kitchen_area, dtype: float64"
      ]
     },
     "execution_count": 25,
     "metadata": {},
     "output_type": "execute_result"
    },
    {
     "data": {
      "image/png": "[encoded data removed]",
      "text/plain": [
       "<Figure size 360x360 with 1 Axes>"
      ]
     },
     "metadata": {
      "needs_background": "light"
     },
     "output_type": "display_data"
    }
   ],
   "source": [
    "data.plot(y = 'kitchen_area', kind = 'hist', bins = 50, range = (1, 40), grid=True, figsize=(5, 5))\n",
    "plt.xlabel('площадь кухни в квадратных метрах (м²)')\n",
    "plt.ylabel('количество квартир')\n",
    "data['kitchen_area'].describe()"
   ]
  },
  {
   "cell_type": "markdown",
   "metadata": {},
   "source": [
    "Площадь кухни занимает от 5 до 12 квадрытных метров в квартирах."
   ]
  },
  {
   "cell_type": "code",
   "execution_count": 26,
   "metadata": {},
   "outputs": [
    {
     "data": {
      "text/plain": [
       "count    2.369900e+04\n",
       "mean     6.541549e+06\n",
       "std      1.088701e+07\n",
       "min      1.219000e+04\n",
       "25%      3.400000e+06\n",
       "50%      4.650000e+06\n",
       "75%      6.800000e+06\n",
       "max      7.630000e+08\n",
       "Name: last_price, dtype: float64"
      ]
     },
     "execution_count": 26,
     "metadata": {},
     "output_type": "execute_result"
    },
    {
     "data": {
      "image/png": "[encoded data removed]",
      "text/plain": [
       "<Figure size 360x360 with 1 Axes>"
      ]
     },
     "metadata": {
      "needs_background": "light"
     },
     "output_type": "display_data"
    }
   ],
   "source": [
    "data.plot(y = 'last_price', kind = 'hist', bins = 100, range = (0, 15000000), grid=True, figsize=(5, 5))\n",
    "plt.xlabel('цена на момент снятия с публикации')\n",
    "plt.ylabel('количество квартир')\n",
    "data['last_price'].describe()"
   ]
  },
  {
   "cell_type": "markdown",
   "metadata": {},
   "source": [
    "Средняя цена квартир 6.5 миллионов. Хотя медианное значение 4.5 миллиона."
   ]
  },
  {
   "cell_type": "code",
   "execution_count": 27,
   "metadata": {},
   "outputs": [
    {
     "data": {
      "text/plain": [
       "count    23699.000000\n",
       "mean         2.070636\n",
       "std          1.078405\n",
       "min          0.000000\n",
       "25%          1.000000\n",
       "50%          2.000000\n",
       "75%          3.000000\n",
       "max         19.000000\n",
       "Name: rooms, dtype: float64"
      ]
     },
     "execution_count": 27,
     "metadata": {},
     "output_type": "execute_result"
    },
    {
     "data": {
      "image/png": "[encoded data removed]",
      "text/plain": [
       "<Figure size 360x360 with 1 Axes>"
      ]
     },
     "metadata": {
      "needs_background": "light"
     },
     "output_type": "display_data"
    }
   ],
   "source": [
    "data.plot(y = 'rooms', kind = 'hist', bins = 10, grid=True, figsize=(5, 5))\n",
    "plt.xlabel('число комнат')\n",
    "plt.ylabel('количество квартир')\n",
    "data['rooms'].describe()"
   ]
  },
  {
   "cell_type": "markdown",
   "metadata": {},
   "source": [
    "Среднее и медианное значение одинакивые и составляют 2 комнаты."
   ]
  },
  {
   "cell_type": "code",
   "execution_count": 28,
   "metadata": {},
   "outputs": [
    {
     "data": {
      "text/plain": [
       "count    23613.000000\n",
       "mean        10.673824\n",
       "std          6.597173\n",
       "min          1.000000\n",
       "25%          5.000000\n",
       "50%          9.000000\n",
       "75%         16.000000\n",
       "max         60.000000\n",
       "Name: floors_total, dtype: float64"
      ]
     },
     "execution_count": 28,
     "metadata": {},
     "output_type": "execute_result"
    },
    {
     "data": {
      "image/png": "[encoded data removed]",
      "text/plain": [
       "<Figure size 360x360 with 1 Axes>"
      ]
     },
     "metadata": {
      "needs_background": "light"
     },
     "output_type": "display_data"
    }
   ],
   "source": [
    "data.plot(y = 'floors_total', kind = 'hist', bins = 15, range = (0, 40), grid=True, figsize=(5, 5))\n",
    "plt.xlabel('количество этажей')\n",
    "plt.ylabel('количество квартир')\n",
    "data['floors_total'].describe()"
   ]
  },
  {
   "cell_type": "markdown",
   "metadata": {},
   "source": [
    "Основные здания в данном графике являются 5,10,22 и 25 этажные сооружения."
   ]
  },
  {
   "cell_type": "code",
   "execution_count": 29,
   "metadata": {},
   "outputs": [
    {
     "name": "stdout",
     "output_type": "stream",
     "text": [
      "(23699, 29)\n",
      "(23699, 22)\n"
     ]
    }
   ],
   "source": [
    "print(data.shape)\n",
    "print(data_old_shape)"
   ]
  },
  {
   "cell_type": "code",
   "execution_count": 30,
   "metadata": {},
   "outputs": [
    {
     "data": {
      "text/plain": [
       "Text(0, 0.5, 'количество квартир')"
      ]
     },
     "execution_count": 30,
     "metadata": {},
     "output_type": "execute_result"
    },
    {
     "data": {
      "image/png": "[encoded data removed]",
      "text/plain": [
       "<Figure size 432x288 with 1 Axes>"
      ]
     },
     "metadata": {
      "needs_background": "light"
     },
     "output_type": "display_data"
    }
   ],
   "source": [
    "data['days_exposition'].hist()\n",
    "plt.xlabel('количество дней было размещено объявление')\n",
    "plt.ylabel('количество квартир')"
   ]
  },
  {
   "cell_type": "code",
   "execution_count": 31,
   "metadata": {},
   "outputs": [
    {
     "data": {
      "text/plain": [
       "95.0"
      ]
     },
     "execution_count": 31,
     "metadata": {},
     "output_type": "execute_result"
    }
   ],
   "source": [
    "data['days_exposition'].median()"
   ]
  },
  {
   "cell_type": "code",
   "execution_count": 32,
   "metadata": {},
   "outputs": [
    {
     "data": {
      "text/plain": [
       "180.88863436982163"
      ]
     },
     "execution_count": 32,
     "metadata": {},
     "output_type": "execute_result"
    }
   ],
   "source": [
    "data['days_exposition'].mean()"
   ]
  },
  {
   "cell_type": "code",
   "execution_count": 33,
   "metadata": {},
   "outputs": [
    {
     "data": {
      "text/plain": [
       "count    20518.000000\n",
       "mean       180.888634\n",
       "std        219.727988\n",
       "min          1.000000\n",
       "25%         45.000000\n",
       "50%         95.000000\n",
       "75%        232.000000\n",
       "max       1580.000000\n",
       "Name: days_exposition, dtype: float64"
      ]
     },
     "execution_count": 33,
     "metadata": {},
     "output_type": "execute_result"
    }
   ],
   "source": [
    "data[data['days_exposition'] != 0]\n",
    "data['days_exposition'].describe()"
   ]
  },
  {
   "cell_type": "code",
   "execution_count": 34,
   "metadata": {},
   "outputs": [
    {
     "data": {
      "text/plain": [
       "count    20518.000000\n",
       "mean       180.888634\n",
       "std        219.727988\n",
       "min          1.000000\n",
       "25%         45.000000\n",
       "50%         95.000000\n",
       "75%        232.000000\n",
       "max       1580.000000\n",
       "Name: days_exposition, dtype: float64"
      ]
     },
     "execution_count": 34,
     "metadata": {},
     "output_type": "execute_result"
    },
    {
     "data": {
      "image/png": "[encoded data removed]",
      "text/plain": [
       "<Figure size 432x288 with 1 Axes>"
      ]
     },
     "metadata": {
      "needs_background": "light"
     },
     "output_type": "display_data"
    }
   ],
   "source": [
    "data.plot(y= 'days_exposition', kind= 'hist', bins= 100, grid= True, range= (0,200))\n",
    "plt.xlabel('количество дней было размещено объявление')\n",
    "plt.ylabel('количество квартир')\n",
    "data['days_exposition'].describe()"
   ]
  },
  {
   "cell_type": "markdown",
   "metadata": {},
   "source": [
    "Из выведенных данных мы видим, что среднее значение снятия публикации это 180 дней. Но в данных сильно выделяются дни 7,45,60,90 от таких дней нам надо избавиться."
   ]
  },
  {
   "cell_type": "code",
   "execution_count": 35,
   "metadata": {},
   "outputs": [
    {
     "data": {
      "text/plain": [
       "count    19746.000000\n",
       "mean       186.243037\n",
       "std        222.222566\n",
       "min          1.000000\n",
       "25%         45.000000\n",
       "50%        102.000000\n",
       "75%        241.000000\n",
       "max       1580.000000\n",
       "Name: days_exposition, dtype: float64"
      ]
     },
     "execution_count": 35,
     "metadata": {},
     "output_type": "execute_result"
    },
    {
     "data": {
      "image/png": "[encoded data removed]",
      "text/plain": [
       "<Figure size 432x288 with 1 Axes>"
      ]
     },
     "metadata": {
      "needs_background": "light"
     },
     "output_type": "display_data"
    }
   ],
   "source": [
    "good_data = data.query('days_exposition != 7 and days_exposition != 45 and days_exposition != 60 and days_exposition != 90 and days_exposition != 0')\n",
    "good_data.plot(y= 'days_exposition', kind= 'hist', bins= 50, grid= True, range= (0,200)) \n",
    "plt.xlabel('количество дней было размещено объявление')\n",
    "plt.ylabel('количество квартир')\n",
    "good_data['days_exposition'].describe()"
   ]
  },
  {
   "cell_type": "markdown",
   "metadata": {},
   "source": [
    "Вывод: после удаления вбросов мы видим, что среднее время снятия публикации узменилось всего на 6 дней. Быстрая продажа осуществляется так же в течение 45 дней. Более полугода считается уже долгая продажа квартир."
   ]
  },
  {
   "cell_type": "code",
   "execution_count": 36,
   "metadata": {},
   "outputs": [
    {
     "data": {
      "text/plain": [
       "Text(0, 0.5, 'цена квартиры')"
      ]
     },
     "execution_count": 36,
     "metadata": {},
     "output_type": "execute_result"
    },
    {
     "data": {
      "image/png": "[encoded data removed]",
      "text/plain": [
       "<Figure size 504x360 with 1 Axes>"
      ]
     },
     "metadata": {
      "needs_background": "light"
     },
     "output_type": "display_data"
    }
   ],
   "source": [
    "data.plot(x='total_area', y='last_price', kind='scatter', grid=True, alpha=0.5, figsize=(7,5))\n",
    "plt.xlabel('общая площадь')\n",
    "plt.ylabel('цена квартиры')"
   ]
  },
  {
   "cell_type": "code",
   "execution_count": 37,
   "metadata": {},
   "outputs": [
    {
     "data": {
      "text/plain": [
       "Text(0, 0.5, 'цена за 1кв. метр')"
      ]
     },
     "execution_count": 37,
     "metadata": {},
     "output_type": "execute_result"
    },
    {
     "data": {
      "image/png": "[encoded data removed]",
      "text/plain": [
       "<Figure size 504x360 with 1 Axes>"
      ]
     },
     "metadata": {
      "needs_background": "light"
     },
     "output_type": "display_data"
    }
   ],
   "source": [
    "data.plot(x='total_area', y='price_one_meter', kind='scatter', grid=True, alpha=0.5, figsize=(7,5))\n",
    "plt.xlabel('общая площадь')\n",
    "plt.ylabel('цена за 1кв. метр')"
   ]
  },
  {
   "cell_type": "code",
   "execution_count": 38,
   "metadata": {},
   "outputs": [
    {
     "data": {
      "text/plain": [
       "Text(0, 0.5, 'цена квартиры')"
      ]
     },
     "execution_count": 38,
     "metadata": {},
     "output_type": "execute_result"
    },
    {
     "data": {
      "image/png": "[encoded data removed]",
      "text/plain": [
       "<Figure size 432x288 with 1 Axes>"
      ]
     },
     "metadata": {
      "needs_background": "light"
     },
     "output_type": "display_data"
    }
   ],
   "source": [
    "(\n",
    "    data\n",
    "    .query('floors_category != \"другой\"')\n",
    "    .pivot_table(index='floors_category', values='last_price', aggfunc = ['mean', 'count','median'])\n",
    "    .plot(y='median')\n",
    ")\n",
    "plt.xlabel('категория этажей')\n",
    "plt.ylabel('цена квартиры')"
   ]
  },
  {
   "cell_type": "code",
   "execution_count": 39,
   "metadata": {},
   "outputs": [
    {
     "data": {
      "text/plain": [
       "Text(0, 0.5, 'цена за 1кв. метр')"
      ]
     },
     "execution_count": 39,
     "metadata": {},
     "output_type": "execute_result"
    },
    {
     "data": {
      "image/png": "[encoded data removed]",
      "text/plain": [
       "<Figure size 504x360 with 1 Axes>"
      ]
     },
     "metadata": {
      "needs_background": "light"
     },
     "output_type": "display_data"
    }
   ],
   "source": [
    "data.plot(x='living_area', y='price_one_meter', grid=True, kind='scatter', figsize=(7,5), alpha = 0.5)\n",
    "plt.xlabel('жилая площадь')\n",
    "plt.ylabel('цена за 1кв. метр')"
   ]
  },
  {
   "cell_type": "code",
   "execution_count": 40,
   "metadata": {},
   "outputs": [
    {
     "data": {
      "text/plain": [
       "Text(0, 0.5, 'цена квартиры')"
      ]
     },
     "execution_count": 40,
     "metadata": {},
     "output_type": "execute_result"
    },
    {
     "data": {
      "image/png": "[encoded data removed]",
      "text/plain": [
       "<Figure size 504x360 with 1 Axes>"
      ]
     },
     "metadata": {
      "needs_background": "light"
     },
     "output_type": "display_data"
    }
   ],
   "source": [
    "data.plot(x='living_area', y='last_price', grid=True, kind='scatter', figsize=(7,5), alpha = 0.5)\n",
    "plt.xlabel('жилая площадь')\n",
    "plt.ylabel('цена квартиры')"
   ]
  },
  {
   "cell_type": "code",
   "execution_count": 41,
   "metadata": {},
   "outputs": [
    {
     "data": {
      "text/plain": [
       "Text(0, 0.5, 'цена квартиры')"
      ]
     },
     "execution_count": 41,
     "metadata": {},
     "output_type": "execute_result"
    },
    {
     "data": {
      "image/png": "[encoded data removed]",
      "text/plain": [
       "<Figure size 504x360 with 1 Axes>"
      ]
     },
     "metadata": {
      "needs_background": "light"
     },
     "output_type": "display_data"
    }
   ],
   "source": [
    "data.plot(x='kitchen_area', y='last_price', grid=True, figsize=(7,5), style='o', alpha = 0.5)\n",
    "plt.xlabel('площадь кухни')\n",
    "plt.ylabel('цена квартиры')"
   ]
  },
  {
   "cell_type": "code",
   "execution_count": 42,
   "metadata": {},
   "outputs": [
    {
     "data": {
      "text/plain": [
       "Text(0, 0.5, 'цена за 1кв. метр')"
      ]
     },
     "execution_count": 42,
     "metadata": {},
     "output_type": "execute_result"
    },
    {
     "data": {
      "image/png": "[encoded data removed]",
      "text/plain": [
       "<Figure size 504x360 with 1 Axes>"
      ]
     },
     "metadata": {
      "needs_background": "light"
     },
     "output_type": "display_data"
    }
   ],
   "source": [
    "data.plot(x='kitchen_area', y='price_one_meter', grid=True, figsize=(7,5), style='o', alpha = 0.5)\n",
    "plt.xlabel('площадь кухни')\n",
    "plt.ylabel('цена за 1кв. метр')"
   ]
  },
  {
   "cell_type": "code",
   "execution_count": 43,
   "metadata": {},
   "outputs": [
    {
     "data": {
      "text/plain": [
       "Text(0, 0.5, 'цена квартиры')"
      ]
     },
     "execution_count": 43,
     "metadata": {},
     "output_type": "execute_result"
    },
    {
     "data": {
      "image/png": "[encoded data removed]",
      "text/plain": [
       "<Figure size 432x288 with 1 Axes>"
      ]
     },
     "metadata": {
      "needs_background": "light"
     },
     "output_type": "display_data"
    }
   ],
   "source": [
    "price_rooms = data.pivot_table(index= 'rooms',values= 'last_price', aggfunc = ['mean', 'count','median'])\n",
    "price_rooms.columns = ['mean', 'count','median']\n",
    "price_rooms.query('count > 50').plot(y = 'median')\n",
    "plt.xlabel('количество комнат')\n",
    "plt.ylabel('цена квартиры')"
   ]
  },
  {
   "cell_type": "markdown",
   "metadata": {},
   "source": [
    "Вывод: как видно из графика цена растет вместе с количеством комнат."
   ]
  },
  {
   "cell_type": "code",
   "execution_count": 44,
   "metadata": {},
   "outputs": [
    {
     "data": {
      "text/plain": [
       "Text(0, 0.5, 'цена за 1кв. метр')"
      ]
     },
     "execution_count": 44,
     "metadata": {},
     "output_type": "execute_result"
    },
    {
     "data": {
      "image/png": "[encoded data removed]",
      "text/plain": [
       "<Figure size 432x288 with 1 Axes>"
      ]
     },
     "metadata": {
      "needs_background": "light"
     },
     "output_type": "display_data"
    }
   ],
   "source": [
    "price_rooms = data.pivot_table(index= 'rooms',values= 'price_one_meter', aggfunc = ['mean', 'count','median'])\n",
    "price_rooms.columns = ['mean', 'count','median']\n",
    "price_rooms.query('count > 50').plot(y = 'median')\n",
    "plt.xlabel('количество комнат')\n",
    "plt.ylabel('цена за 1кв. метр')"
   ]
  },
  {
   "cell_type": "markdown",
   "metadata": {},
   "source": [
    "Вывод: 3х комнатные квартиры являются самыми дешовыми за квадратный метр."
   ]
  },
  {
   "cell_type": "code",
   "execution_count": 45,
   "metadata": {},
   "outputs": [
    {
     "data": {
      "text/plain": [
       "Text(0, 0.5, 'цена квартиры')"
      ]
     },
     "execution_count": 45,
     "metadata": {},
     "output_type": "execute_result"
    },
    {
     "data": {
      "image/png": "[encoded data removed]",
      "text/plain": [
       "<Figure size 432x288 with 1 Axes>"
      ]
     },
     "metadata": {
      "needs_background": "light"
     },
     "output_type": "display_data"
    }
   ],
   "source": [
    "(\n",
    "    data\n",
    "    .pivot_table(index='floors_category', values='last_price', aggfunc = ['mean', 'count', 'median'])\n",
    "    .plot(y='median')\n",
    ")\n",
    "plt.xlabel('категория этажей')\n",
    "plt.ylabel('цена квартиры')"
   ]
  },
  {
   "cell_type": "markdown",
   "metadata": {},
   "source": [
    "Вывод: как видно из графика, первый этаж является самым дешовым даже в сравнении с последним."
   ]
  },
  {
   "cell_type": "code",
   "execution_count": 46,
   "metadata": {},
   "outputs": [
    {
     "data": {
      "text/plain": [
       "Text(0, 0.5, 'цена за 1кв. метр')"
      ]
     },
     "execution_count": 46,
     "metadata": {},
     "output_type": "execute_result"
    },
    {
     "data": {
      "image/png": "[encoded data removed]",
      "text/plain": [
       "<Figure size 432x288 with 1 Axes>"
      ]
     },
     "metadata": {
      "needs_background": "light"
     },
     "output_type": "display_data"
    }
   ],
   "source": [
    "(\n",
    "    data\n",
    "    .pivot_table(index='floors_category', values='price_one_meter', aggfunc = ['mean', 'count', 'median'])\n",
    "    .plot(y='median')\n",
    ")\n",
    "plt.xlabel('категория этажей')\n",
    "plt.ylabel('цена за 1кв. метр')"
   ]
  },
  {
   "cell_type": "markdown",
   "metadata": {},
   "source": [
    "Вывод: как видно из графика, первый этаж является самым дешовым даже в сравнении с последним."
   ]
  },
  {
   "cell_type": "code",
   "execution_count": 47,
   "metadata": {},
   "outputs": [
    {
     "data": {
      "text/plain": [
       "Text(0, 0.5, 'цена квартиры')"
      ]
     },
     "execution_count": 47,
     "metadata": {},
     "output_type": "execute_result"
    },
    {
     "data": {
      "image/png": "[encoded data removed]",
      "text/plain": [
       "<Figure size 432x288 with 1 Axes>"
      ]
     },
     "metadata": {
      "needs_background": "light"
     },
     "output_type": "display_data"
    }
   ],
   "source": [
    "(\n",
    "    data\n",
    "    .pivot_table(index='day_publication', values='last_price', aggfunc =['median'])\n",
    "    .plot(y='median')\n",
    ")\n",
    "plt.xlabel('дата размещения(день)')\n",
    "plt.ylabel('цена квартиры')"
   ]
  },
  {
   "cell_type": "markdown",
   "metadata": {},
   "source": [
    "Вывод: размещение квартиры не критично но влияет на цену квартиры. Пик начинается со вторника и с каждый мледующим днем падает, вплоть до конца недели."
   ]
  },
  {
   "cell_type": "code",
   "execution_count": 48,
   "metadata": {},
   "outputs": [
    {
     "data": {
      "text/plain": [
       "Text(0, 0.5, 'цена за 1кв. метр')"
      ]
     },
     "execution_count": 48,
     "metadata": {},
     "output_type": "execute_result"
    },
    {
     "data": {
      "image/png": "[encoded data removed]",
      "text/plain": [
       "<Figure size 432x288 with 1 Axes>"
      ]
     },
     "metadata": {
      "needs_background": "light"
     },
     "output_type": "display_data"
    }
   ],
   "source": [
    "(\n",
    "    data\n",
    "    .pivot_table(index='day_publication', values='price_one_meter', aggfunc =['median'])\n",
    "    .plot(y='median')\n",
    ")\n",
    "plt.xlabel('дата размещения(день)')\n",
    "plt.ylabel('цена за 1кв. метр')"
   ]
  },
  {
   "cell_type": "markdown",
   "metadata": {},
   "source": [
    "Вывод: Размещение влияет на цену но не критично. Во вторник самий высокий ценник и с каждый следующим днем ценник падает. Суббота является самым дешевым днем (цены за 1кв.метр)."
   ]
  },
  {
   "cell_type": "code",
   "execution_count": 49,
   "metadata": {},
   "outputs": [
    {
     "data": {
      "text/plain": [
       "Text(0, 0.5, 'цена квартиры')"
      ]
     },
     "execution_count": 49,
     "metadata": {},
     "output_type": "execute_result"
    },
    {
     "data": {
      "image/png": "[encoded data removed]",
      "text/plain": [
       "<Figure size 432x288 with 1 Axes>"
      ]
     },
     "metadata": {
      "needs_background": "light"
     },
     "output_type": "display_data"
    }
   ],
   "source": [
    "(\n",
    "    data\n",
    "    .pivot_table(index='month_publication', values='last_price', aggfunc =['median'])\n",
    "    .plot(y='median')\n",
    ")\n",
    "plt.xlabel('дата размещения(месяц)')\n",
    "plt.ylabel('цена квартиры')"
   ]
  },
  {
   "cell_type": "markdown",
   "metadata": {},
   "source": [
    "Вывод: июнь является самым плохим месяцем для выставления квартиры на продажу."
   ]
  },
  {
   "cell_type": "code",
   "execution_count": 50,
   "metadata": {},
   "outputs": [
    {
     "data": {
      "text/plain": [
       "Text(0, 0.5, 'цена за 1кв. метр')"
      ]
     },
     "execution_count": 50,
     "metadata": {},
     "output_type": "execute_result"
    },
    {
     "data": {
      "image/png": "[encoded data removed]",
      "text/plain": [
       "<Figure size 432x288 with 1 Axes>"
      ]
     },
     "metadata": {
      "needs_background": "light"
     },
     "output_type": "display_data"
    }
   ],
   "source": [
    "(\n",
    "    data\n",
    "    .pivot_table(index='month_publication', values='price_one_meter', aggfunc =['median'])\n",
    "    .plot(y='median')\n",
    ")\n",
    "plt.xlabel('дата размещения(месяц)')\n",
    "plt.ylabel('цена за 1кв. метр')"
   ]
  },
  {
   "cell_type": "markdown",
   "metadata": {},
   "source": [
    "Вывод: Май и Июнь являются самыми дешевыми месяцами для размещения объявлений на квартиры."
   ]
  },
  {
   "cell_type": "code",
   "execution_count": 51,
   "metadata": {},
   "outputs": [
    {
     "data": {
      "text/plain": [
       "Text(0, 0.5, 'цена квартиры')"
      ]
     },
     "execution_count": 51,
     "metadata": {},
     "output_type": "execute_result"
    },
    {
     "data": {
      "image/png": "[encoded data removed]",
      "text/plain": [
       "<Figure size 432x288 with 1 Axes>"
      ]
     },
     "metadata": {
      "needs_background": "light"
     },
     "output_type": "display_data"
    }
   ],
   "source": [
    "(\n",
    "    data\n",
    "    .pivot_table(index='year_publication', values='last_price', aggfunc = ['mean', 'count', 'median'])\n",
    "    .plot(y='median')\n",
    ")\n",
    "plt.xlabel('дата размещения(год)')\n",
    "plt.ylabel('цена квартиры')"
   ]
  },
  {
   "cell_type": "markdown",
   "metadata": {},
   "source": [
    "Вывод: как мы видим из графика с 2014 года цена сильно упала и только с 2018 виден рост."
   ]
  },
  {
   "cell_type": "code",
   "execution_count": 52,
   "metadata": {},
   "outputs": [
    {
     "data": {
      "text/plain": [
       "Text(0, 0.5, 'цена за 1кв. метр')"
      ]
     },
     "execution_count": 52,
     "metadata": {},
     "output_type": "execute_result"
    },
    {
     "data": {
      "image/png": "[encoded data removed]",
      "text/plain": [
       "<Figure size 432x288 with 1 Axes>"
      ]
     },
     "metadata": {
      "needs_background": "light"
     },
     "output_type": "display_data"
    }
   ],
   "source": [
    "(\n",
    "    data\n",
    "    .pivot_table(index='year_publication', values='price_one_meter', aggfunc = ['mean', 'count', 'median'])\n",
    "    .plot(y='median')\n",
    ")\n",
    "plt.xlabel('дата размещения(год)')\n",
    "plt.ylabel('цена за 1кв. метр')"
   ]
  },
  {
   "cell_type": "markdown",
   "metadata": {},
   "source": [
    "Вывод: с 2014 года наблюдался спад цена за 1кв.метр и только с 2017 цена начала рости."
   ]
  },
  {
   "cell_type": "code",
   "execution_count": 53,
   "metadata": {},
   "outputs": [
    {
     "data": {
      "text/html": [
       "<div>\n",
       "<style scoped>\n",
       "    .dataframe tbody tr th:only-of-type {\n",
       "        vertical-align: middle;\n",
       "    }\n",
       "\n",
       "    .dataframe tbody tr th {\n",
       "        vertical-align: top;\n",
       "    }\n",
       "\n",
       "    .dataframe thead th {\n",
       "        text-align: right;\n",
       "    }\n",
       "</style>\n",
       "<table border=\"1\" class=\"dataframe\">\n",
       "  <thead>\n",
       "    <tr style=\"text-align: right;\">\n",
       "      <th></th>\n",
       "      <th>mean</th>\n",
       "      <th>count</th>\n",
       "    </tr>\n",
       "    <tr>\n",
       "      <th>locality_name</th>\n",
       "      <th></th>\n",
       "      <th></th>\n",
       "    </tr>\n",
       "  </thead>\n",
       "  <tbody>\n",
       "    <tr>\n",
       "      <th>Санкт-Петербург</th>\n",
       "      <td>114849</td>\n",
       "      <td>15721</td>\n",
       "    </tr>\n",
       "    <tr>\n",
       "      <th>Мурино</th>\n",
       "      <td>86087</td>\n",
       "      <td>590</td>\n",
       "    </tr>\n",
       "    <tr>\n",
       "      <th>Кудрово</th>\n",
       "      <td>95324</td>\n",
       "      <td>472</td>\n",
       "    </tr>\n",
       "    <tr>\n",
       "      <th>Шушары</th>\n",
       "      <td>78677</td>\n",
       "      <td>440</td>\n",
       "    </tr>\n",
       "    <tr>\n",
       "      <th>Всеволожск</th>\n",
       "      <td>68654</td>\n",
       "      <td>398</td>\n",
       "    </tr>\n",
       "    <tr>\n",
       "      <th>Пушкин</th>\n",
       "      <td>103125</td>\n",
       "      <td>369</td>\n",
       "    </tr>\n",
       "    <tr>\n",
       "      <th>Колпино</th>\n",
       "      <td>75424</td>\n",
       "      <td>338</td>\n",
       "    </tr>\n",
       "    <tr>\n",
       "      <th>Парголово</th>\n",
       "      <td>90175</td>\n",
       "      <td>327</td>\n",
       "    </tr>\n",
       "    <tr>\n",
       "      <th>Гатчина</th>\n",
       "      <td>68746</td>\n",
       "      <td>307</td>\n",
       "    </tr>\n",
       "    <tr>\n",
       "      <th>Выборг</th>\n",
       "      <td>58141</td>\n",
       "      <td>237</td>\n",
       "    </tr>\n",
       "  </tbody>\n",
       "</table>\n",
       "</div>"
      ],
      "text/plain": [
       "                   mean  count\n",
       "locality_name                 \n",
       "Санкт-Петербург  114849  15721\n",
       "Мурино            86087    590\n",
       "Кудрово           95324    472\n",
       "Шушары            78677    440\n",
       "Всеволожск        68654    398\n",
       "Пушкин           103125    369\n",
       "Колпино           75424    338\n",
       "Парголово         90175    327\n",
       "Гатчина           68746    307\n",
       "Выборг            58141    237"
      ]
     },
     "execution_count": 53,
     "metadata": {},
     "output_type": "execute_result"
    }
   ],
   "source": [
    "top_10_name = data.pivot_table(index= 'locality_name', values= 'price_one_meter',aggfunc = ['mean', 'count'])\n",
    "top_10_name.columns = ['mean', 'count']\n",
    "top_10_name = top_10_name.sort_values('count', ascending = False).head(10).astype(int)\n",
    "top_10_name"
   ]
  },
  {
   "cell_type": "code",
   "execution_count": 54,
   "metadata": {},
   "outputs": [
    {
     "data": {
      "text/plain": [
       "Text(0, 0.5, 'цена за 1 кв. метр')"
      ]
     },
     "execution_count": 54,
     "metadata": {},
     "output_type": "execute_result"
    },
    {
     "data": {
      "image/png": "[encoded data removed]",
      "text/plain": [
       "<Figure size 864x360 with 1 Axes>"
      ]
     },
     "metadata": {
      "needs_background": "light"
     },
     "output_type": "display_data"
    }
   ],
   "source": [
    "(\n",
    "    data\n",
    "    .query('locality_name == \"Санкт-Петербург\"')\n",
    "    .pivot_table(index= 'distance_center_kilometrs', values= 'price_one_meter',aggfunc = 'mean')\n",
    "    .plot(marker='o', grid=True, figsize=(12, 5))\n",
    ")\n",
    "plt.xlabel('растояние от центра Санкт-Петербурга')\n",
    "plt.ylabel('цена за 1 кв. метр')"
   ]
  },
  {
   "cell_type": "markdown",
   "metadata": {},
   "source": [
    "### Общий вывод"
   ]
  },
  {
   "cell_type": "markdown",
   "metadata": {},
   "source": [
    "К основным параметрам, влияющим на цену объектов, можно отнести этажность квартиры, количество комнат, в каком месяце и в какой день было высталенно объявление. По результатам анализа к самым дешевым квартирам можно отнести 3х комнатыне квартиры, на первых этажах, выставленные в летний период. Так же можно заметить, что день недели и месяц выставления объявления о продаже квартиры влияет на цену за 1 кв. метр. Более рентабельными квартирами являются 1 комнатные квартиры не на первых этажах выставленные в осенний или весенний периоды."
   ]
  }
 ],
 "metadata": {
  "ExecuteTimeLog": [
   {
    "duration": 796,
    "start_time": "2023-11-02T12:58:20.211Z"
   },
   {
    "duration": 102,
    "start_time": "2023-11-02T12:58:22.932Z"
   },
   {
    "duration": 104,
    "start_time": "2023-11-02T12:58:44.385Z"
   },
   {
    "duration": 98,
    "start_time": "2023-11-02T13:00:17.000Z"
   },
   {
    "duration": 99,
    "start_time": "2023-11-02T13:01:00.191Z"
   },
   {
    "duration": 99,
    "start_time": "2023-11-02T13:01:23.150Z"
   },
   {
    "duration": 101,
    "start_time": "2023-11-02T13:02:02.400Z"
   },
   {
    "duration": 95,
    "start_time": "2023-11-02T13:02:11.166Z"
   },
   {
    "duration": 94,
    "start_time": "2023-11-02T13:03:39.239Z"
   },
   {
    "duration": 93,
    "start_time": "2023-11-02T13:03:45.892Z"
   },
   {
    "duration": 93,
    "start_time": "2023-11-02T13:03:58.959Z"
   },
   {
    "duration": 98,
    "start_time": "2023-11-02T13:07:33.369Z"
   },
   {
    "duration": 97,
    "start_time": "2023-11-02T13:07:52.899Z"
   },
   {
    "duration": 96,
    "start_time": "2023-11-02T13:07:57.263Z"
   },
   {
    "duration": 102,
    "start_time": "2023-11-02T13:08:01.648Z"
   },
   {
    "duration": 98,
    "start_time": "2023-11-02T13:08:08.061Z"
   },
   {
    "duration": 98,
    "start_time": "2023-11-02T13:08:45.936Z"
   },
   {
    "duration": 96,
    "start_time": "2023-11-02T13:08:50.885Z"
   },
   {
    "duration": 98,
    "start_time": "2023-11-02T13:08:54.165Z"
   },
   {
    "duration": 100,
    "start_time": "2023-11-02T13:08:56.168Z"
   },
   {
    "duration": 207,
    "start_time": "2023-11-02T13:13:58.403Z"
   },
   {
    "duration": 191,
    "start_time": "2023-11-02T13:14:08.562Z"
   },
   {
    "duration": 156,
    "start_time": "2023-11-02T13:14:16.914Z"
   },
   {
    "duration": 189,
    "start_time": "2023-11-02T13:14:20.955Z"
   },
   {
    "duration": 103,
    "start_time": "2023-11-02T13:14:41.978Z"
   },
   {
    "duration": 529,
    "start_time": "2023-11-02T13:19:29.186Z"
   },
   {
    "duration": 125,
    "start_time": "2023-11-02T13:19:32.920Z"
   },
   {
    "duration": 81,
    "start_time": "2023-11-02T13:19:43.939Z"
   },
   {
    "duration": 73,
    "start_time": "2023-11-02T13:19:46.913Z"
   },
   {
    "duration": 99,
    "start_time": "2023-11-02T13:19:53.274Z"
   },
   {
    "duration": 114,
    "start_time": "2023-11-02T13:20:05.628Z"
   },
   {
    "duration": 104,
    "start_time": "2023-11-02T13:20:15.266Z"
   },
   {
    "duration": 115,
    "start_time": "2023-11-02T13:20:17.496Z"
   },
   {
    "duration": 110,
    "start_time": "2023-11-02T13:20:23.045Z"
   },
   {
    "duration": 105,
    "start_time": "2023-11-02T13:20:49.845Z"
   },
   {
    "duration": 102,
    "start_time": "2023-11-02T13:20:53.994Z"
   },
   {
    "duration": 108,
    "start_time": "2023-11-02T13:21:02.491Z"
   },
   {
    "duration": 108,
    "start_time": "2023-11-02T13:21:10.968Z"
   },
   {
    "duration": 122,
    "start_time": "2023-11-02T13:21:23.382Z"
   },
   {
    "duration": 97,
    "start_time": "2023-11-02T13:22:53.659Z"
   },
   {
    "duration": 113,
    "start_time": "2023-11-02T13:23:01.502Z"
   },
   {
    "duration": 104,
    "start_time": "2023-11-02T13:23:06.728Z"
   },
   {
    "duration": 108,
    "start_time": "2023-11-02T13:23:09.254Z"
   },
   {
    "duration": 1710,
    "start_time": "2023-11-02T13:24:04.798Z"
   },
   {
    "duration": 1860,
    "start_time": "2023-11-02T13:24:08.055Z"
   },
   {
    "duration": 2040,
    "start_time": "2023-11-02T13:24:44.381Z"
   },
   {
    "duration": 1329,
    "start_time": "2023-11-02T13:24:51.090Z"
   },
   {
    "duration": 2904,
    "start_time": "2023-11-02T13:25:03.039Z"
   },
   {
    "duration": 2138,
    "start_time": "2023-11-02T13:25:06.025Z"
   },
   {
    "duration": 1792,
    "start_time": "2023-11-02T13:25:12.614Z"
   },
   {
    "duration": 93,
    "start_time": "2023-11-02T13:25:18.876Z"
   },
   {
    "duration": 104,
    "start_time": "2023-11-02T13:25:25.986Z"
   },
   {
    "duration": 1183,
    "start_time": "2023-11-03T10:15:03.611Z"
   },
   {
    "duration": 116,
    "start_time": "2023-11-03T10:15:14.072Z"
   },
   {
    "duration": 113,
    "start_time": "2023-11-03T10:15:21.362Z"
   },
   {
    "duration": 96,
    "start_time": "2023-11-03T10:15:40.719Z"
   },
   {
    "duration": 205,
    "start_time": "2023-11-03T10:15:47.349Z"
   },
   {
    "duration": 122,
    "start_time": "2023-11-03T10:16:21.315Z"
   },
   {
    "duration": 2084,
    "start_time": "2023-11-03T10:18:00.627Z"
   },
   {
    "duration": 1499,
    "start_time": "2023-11-03T10:18:19.819Z"
   },
   {
    "duration": 119,
    "start_time": "2023-11-03T10:18:51.685Z"
   },
   {
    "duration": 110,
    "start_time": "2023-11-03T10:21:00.915Z"
   },
   {
    "duration": 99,
    "start_time": "2023-11-03T10:21:14.888Z"
   },
   {
    "duration": 97,
    "start_time": "2023-11-03T10:21:57.590Z"
   },
   {
    "duration": 11,
    "start_time": "2023-11-03T10:22:30.768Z"
   },
   {
    "duration": 93,
    "start_time": "2023-11-03T10:22:36.684Z"
   },
   {
    "duration": 11,
    "start_time": "2023-11-03T10:23:05.248Z"
   },
   {
    "duration": 37,
    "start_time": "2023-11-03T10:24:36.069Z"
   },
   {
    "duration": 17,
    "start_time": "2023-11-03T10:29:09.145Z"
   },
   {
    "duration": 116,
    "start_time": "2023-11-03T10:29:20.394Z"
   },
   {
    "duration": 12,
    "start_time": "2023-11-03T10:29:22.745Z"
   },
   {
    "duration": 6,
    "start_time": "2023-11-03T10:29:47.688Z"
   },
   {
    "duration": 175,
    "start_time": "2023-11-03T10:29:54.413Z"
   },
   {
    "duration": 3,
    "start_time": "2023-11-03T10:29:56.883Z"
   },
   {
    "duration": 4,
    "start_time": "2023-11-03T10:30:28.267Z"
   },
   {
    "duration": 6,
    "start_time": "2023-11-03T10:30:32.538Z"
   },
   {
    "duration": 3,
    "start_time": "2023-11-03T10:30:33.325Z"
   },
   {
    "duration": 146,
    "start_time": "2023-11-03T10:33:57.434Z"
   },
   {
    "duration": 6,
    "start_time": "2023-11-03T10:34:07.090Z"
   },
   {
    "duration": 17,
    "start_time": "2023-11-03T10:34:12.635Z"
   },
   {
    "duration": 22,
    "start_time": "2023-11-03T10:35:51.236Z"
   },
   {
    "duration": 3,
    "start_time": "2023-11-03T10:35:55.126Z"
   },
   {
    "duration": 14,
    "start_time": "2023-11-03T10:37:34.114Z"
   },
   {
    "duration": 79,
    "start_time": "2023-11-03T10:37:52.623Z"
   },
   {
    "duration": 77,
    "start_time": "2023-11-03T10:37:58.857Z"
   },
   {
    "duration": 213,
    "start_time": "2023-11-03T10:38:04.235Z"
   },
   {
    "duration": 113,
    "start_time": "2023-11-03T10:44:32.425Z"
   },
   {
    "duration": 93,
    "start_time": "2023-11-03T10:45:45.766Z"
   },
   {
    "duration": 98,
    "start_time": "2023-11-03T10:45:52.054Z"
   },
   {
    "duration": 2639,
    "start_time": "2023-11-03T10:45:57.878Z"
   },
   {
    "duration": 1216,
    "start_time": "2023-11-03T10:46:20.154Z"
   },
   {
    "duration": 90,
    "start_time": "2023-11-03T10:46:35.213Z"
   },
   {
    "duration": 1438,
    "start_time": "2023-11-03T10:46:43.693Z"
   },
   {
    "duration": 2090,
    "start_time": "2023-11-03T10:48:42.050Z"
   },
   {
    "duration": 1417,
    "start_time": "2023-11-03T10:49:15.935Z"
   },
   {
    "duration": 1367,
    "start_time": "2023-11-03T10:49:28.913Z"
   },
   {
    "duration": 2652,
    "start_time": "2023-11-03T10:50:05.753Z"
   },
   {
    "duration": 4,
    "start_time": "2023-11-03T10:50:09.362Z"
   },
   {
    "duration": 135,
    "start_time": "2023-11-03T10:55:52.427Z"
   },
   {
    "duration": 14,
    "start_time": "2023-11-03T10:56:01.053Z"
   },
   {
    "duration": 3,
    "start_time": "2023-11-03T11:00:37.943Z"
   },
   {
    "duration": 6,
    "start_time": "2023-11-03T11:00:42.916Z"
   },
   {
    "duration": 62,
    "start_time": "2023-11-03T11:01:09.854Z"
   },
   {
    "duration": 9,
    "start_time": "2023-11-03T11:01:35.367Z"
   },
   {
    "duration": 1883,
    "start_time": "2023-11-03T11:02:03.626Z"
   },
   {
    "duration": 11,
    "start_time": "2023-11-03T11:18:15.712Z"
   },
   {
    "duration": 10,
    "start_time": "2023-11-03T11:18:25.348Z"
   },
   {
    "duration": 11,
    "start_time": "2023-11-03T11:18:37.649Z"
   },
   {
    "duration": 11,
    "start_time": "2023-11-03T11:19:01.306Z"
   },
   {
    "duration": 17,
    "start_time": "2023-11-03T11:19:04.834Z"
   },
   {
    "duration": 1410,
    "start_time": "2023-11-03T11:19:14.002Z"
   },
   {
    "duration": 510,
    "start_time": "2023-11-03T11:23:46.173Z"
   },
   {
    "duration": 14,
    "start_time": "2023-11-03T11:23:46.687Z"
   },
   {
    "duration": 17,
    "start_time": "2023-11-03T11:23:46.703Z"
   },
   {
    "duration": 2258,
    "start_time": "2023-11-03T11:23:51.312Z"
   },
   {
    "duration": 1784,
    "start_time": "2023-11-03T11:23:53.572Z"
   },
   {
    "duration": 149,
    "start_time": "2023-11-03T11:24:50.274Z"
   },
   {
    "duration": 236,
    "start_time": "2023-11-03T11:24:54.631Z"
   },
   {
    "duration": 168,
    "start_time": "2023-11-03T11:25:03.584Z"
   },
   {
    "duration": 129,
    "start_time": "2023-11-03T11:25:11.234Z"
   },
   {
    "duration": 136,
    "start_time": "2023-11-03T11:26:03.034Z"
   },
   {
    "duration": 153,
    "start_time": "2023-11-03T11:27:54.538Z"
   },
   {
    "duration": 90,
    "start_time": "2023-11-03T11:29:25.677Z"
   },
   {
    "duration": 89,
    "start_time": "2023-11-03T11:29:34.800Z"
   },
   {
    "duration": 1813,
    "start_time": "2023-11-03T11:29:52.187Z"
   },
   {
    "duration": 154,
    "start_time": "2023-11-03T11:30:05.633Z"
   },
   {
    "duration": 167,
    "start_time": "2023-11-03T11:30:15.614Z"
   },
   {
    "duration": 94,
    "start_time": "2023-11-03T11:30:21.665Z"
   },
   {
    "duration": 140,
    "start_time": "2023-11-03T11:30:26.828Z"
   },
   {
    "duration": 202,
    "start_time": "2023-11-03T11:30:30.954Z"
   },
   {
    "duration": 124,
    "start_time": "2023-11-03T11:30:37.401Z"
   },
   {
    "duration": 126,
    "start_time": "2023-11-03T11:30:45.939Z"
   },
   {
    "duration": 120,
    "start_time": "2023-11-03T11:30:51.839Z"
   },
   {
    "duration": 120,
    "start_time": "2023-11-03T11:30:55.201Z"
   },
   {
    "duration": 135,
    "start_time": "2023-11-03T11:30:57.397Z"
   },
   {
    "duration": 115,
    "start_time": "2023-11-03T11:30:59.820Z"
   },
   {
    "duration": 144,
    "start_time": "2023-11-03T11:31:02.735Z"
   },
   {
    "duration": 61,
    "start_time": "2023-11-03T11:31:26.788Z"
   },
   {
    "duration": 135,
    "start_time": "2023-11-03T11:32:58.110Z"
   },
   {
    "duration": 2,
    "start_time": "2023-11-03T11:39:58.332Z"
   },
   {
    "duration": 5,
    "start_time": "2023-11-03T11:40:41.652Z"
   },
   {
    "duration": 1226,
    "start_time": "2023-11-03T11:40:57.827Z"
   },
   {
    "duration": 8,
    "start_time": "2023-11-03T11:44:39.503Z"
   },
   {
    "duration": 720,
    "start_time": "2023-11-03T12:55:12.747Z"
   },
   {
    "duration": 20,
    "start_time": "2023-11-03T12:55:14.310Z"
   },
   {
    "duration": 2417,
    "start_time": "2023-11-03T12:55:14.986Z"
   },
   {
    "duration": 7,
    "start_time": "2023-11-03T12:58:16.459Z"
   },
   {
    "duration": 5,
    "start_time": "2023-11-03T12:58:57.790Z"
   },
   {
    "duration": 4,
    "start_time": "2023-11-03T13:00:21.407Z"
   },
   {
    "duration": 4,
    "start_time": "2023-11-03T13:00:23.678Z"
   },
   {
    "duration": 6,
    "start_time": "2023-11-03T13:00:46.070Z"
   },
   {
    "duration": 6,
    "start_time": "2023-11-03T13:00:55.199Z"
   },
   {
    "duration": 6,
    "start_time": "2023-11-03T13:01:20.852Z"
   },
   {
    "duration": 11,
    "start_time": "2023-11-03T13:01:26.597Z"
   },
   {
    "duration": 6,
    "start_time": "2023-11-03T13:03:44.481Z"
   },
   {
    "duration": 5,
    "start_time": "2023-11-03T13:03:48.363Z"
   },
   {
    "duration": 5,
    "start_time": "2023-11-03T13:03:55.207Z"
   },
   {
    "duration": 3,
    "start_time": "2023-11-03T13:04:01.442Z"
   },
   {
    "duration": 8,
    "start_time": "2023-11-03T13:10:25.949Z"
   },
   {
    "duration": 3,
    "start_time": "2023-11-03T13:10:33.879Z"
   },
   {
    "duration": 9,
    "start_time": "2023-11-03T13:10:36.796Z"
   },
   {
    "duration": 4,
    "start_time": "2023-11-03T13:14:50.404Z"
   },
   {
    "duration": 8,
    "start_time": "2023-11-03T13:14:53.327Z"
   },
   {
    "duration": 6,
    "start_time": "2023-11-03T13:16:47.107Z"
   },
   {
    "duration": 6,
    "start_time": "2023-11-03T13:17:09.126Z"
   },
   {
    "duration": 6,
    "start_time": "2023-11-03T13:17:13.232Z"
   },
   {
    "duration": 6,
    "start_time": "2023-11-03T13:17:25.189Z"
   },
   {
    "duration": 9,
    "start_time": "2023-11-03T13:17:30.356Z"
   },
   {
    "duration": 3,
    "start_time": "2023-11-03T13:17:31.563Z"
   },
   {
    "duration": 6,
    "start_time": "2023-11-03T13:17:31.888Z"
   },
   {
    "duration": 8,
    "start_time": "2023-11-03T13:17:35.824Z"
   },
   {
    "duration": 50,
    "start_time": "2023-11-03T13:17:45.213Z"
   },
   {
    "duration": 464,
    "start_time": "2023-11-03T13:17:49.883Z"
   },
   {
    "duration": 8,
    "start_time": "2023-11-03T13:17:56.233Z"
   },
   {
    "duration": 10,
    "start_time": "2023-11-03T13:17:59.273Z"
   },
   {
    "duration": 5,
    "start_time": "2023-11-03T13:18:02.559Z"
   },
   {
    "duration": 5,
    "start_time": "2023-11-03T13:18:13.755Z"
   },
   {
    "duration": 30,
    "start_time": "2023-11-03T13:22:15.858Z"
   },
   {
    "duration": 11,
    "start_time": "2023-11-03T13:22:30.496Z"
   },
   {
    "duration": 9,
    "start_time": "2023-11-03T13:25:29.099Z"
   },
   {
    "duration": 23,
    "start_time": "2023-11-03T13:25:42.516Z"
   },
   {
    "duration": 8,
    "start_time": "2023-11-03T13:26:01.363Z"
   },
   {
    "duration": 22,
    "start_time": "2023-11-03T13:26:08.678Z"
   },
   {
    "duration": 17,
    "start_time": "2023-11-03T13:26:23.841Z"
   },
   {
    "duration": 11,
    "start_time": "2023-11-03T13:26:35.008Z"
   },
   {
    "duration": 9,
    "start_time": "2023-11-03T13:28:03.038Z"
   },
   {
    "duration": 6,
    "start_time": "2023-11-03T13:28:10.690Z"
   },
   {
    "duration": 5,
    "start_time": "2023-11-03T13:28:19.230Z"
   },
   {
    "duration": 6,
    "start_time": "2023-11-03T13:28:33.014Z"
   },
   {
    "duration": 10,
    "start_time": "2023-11-03T13:28:54.370Z"
   },
   {
    "duration": 9,
    "start_time": "2023-11-03T13:29:13.401Z"
   },
   {
    "duration": 6,
    "start_time": "2023-11-03T13:29:20.309Z"
   },
   {
    "duration": 7,
    "start_time": "2023-11-03T13:30:55.154Z"
   },
   {
    "duration": 6,
    "start_time": "2023-11-03T13:33:08.839Z"
   },
   {
    "duration": 8,
    "start_time": "2023-11-03T13:33:27.177Z"
   },
   {
    "duration": 7,
    "start_time": "2023-11-03T13:33:32.052Z"
   },
   {
    "duration": 38,
    "start_time": "2023-11-03T13:34:02.208Z"
   },
   {
    "duration": 17,
    "start_time": "2023-11-03T13:34:18.073Z"
   },
   {
    "duration": 691,
    "start_time": "2023-11-06T09:30:22.074Z"
   },
   {
    "duration": 41,
    "start_time": "2023-11-06T09:31:11.520Z"
   },
   {
    "duration": 4,
    "start_time": "2023-11-06T09:32:00.641Z"
   },
   {
    "duration": 36,
    "start_time": "2023-11-06T09:32:04.406Z"
   },
   {
    "duration": 39,
    "start_time": "2023-11-06T09:34:59.852Z"
   },
   {
    "duration": 7,
    "start_time": "2023-11-06T09:38:46.709Z"
   },
   {
    "duration": 7,
    "start_time": "2023-11-06T09:38:56.323Z"
   },
   {
    "duration": 7,
    "start_time": "2023-11-06T09:39:06.499Z"
   },
   {
    "duration": 7,
    "start_time": "2023-11-06T09:39:17.412Z"
   },
   {
    "duration": 84,
    "start_time": "2023-11-06T09:39:29.590Z"
   },
   {
    "duration": 4,
    "start_time": "2023-11-06T09:39:32.262Z"
   },
   {
    "duration": 5,
    "start_time": "2023-11-06T09:39:36.090Z"
   },
   {
    "duration": 6,
    "start_time": "2023-11-06T09:40:01.574Z"
   },
   {
    "duration": 6,
    "start_time": "2023-11-06T09:40:15.054Z"
   },
   {
    "duration": 65,
    "start_time": "2023-11-06T09:40:31.540Z"
   },
   {
    "duration": 7,
    "start_time": "2023-11-06T09:40:37.984Z"
   },
   {
    "duration": 5,
    "start_time": "2023-11-06T09:43:13.596Z"
   },
   {
    "duration": 5,
    "start_time": "2023-11-06T09:43:18.157Z"
   },
   {
    "duration": 6,
    "start_time": "2023-11-06T09:43:54.207Z"
   },
   {
    "duration": 336,
    "start_time": "2023-11-06T09:55:09.914Z"
   },
   {
    "duration": 6,
    "start_time": "2023-11-06T09:55:14.808Z"
   },
   {
    "duration": 7,
    "start_time": "2023-11-06T09:55:28.451Z"
   },
   {
    "duration": 7,
    "start_time": "2023-11-06T09:56:08.294Z"
   },
   {
    "duration": 59,
    "start_time": "2023-11-06T09:57:01.898Z"
   },
   {
    "duration": 10,
    "start_time": "2023-11-06T09:57:44.743Z"
   },
   {
    "duration": 6,
    "start_time": "2023-11-06T09:57:49.774Z"
   },
   {
    "duration": 4,
    "start_time": "2023-11-06T09:59:42.494Z"
   },
   {
    "duration": 4,
    "start_time": "2023-11-06T10:07:07.195Z"
   },
   {
    "duration": 4,
    "start_time": "2023-11-06T10:07:26.706Z"
   },
   {
    "duration": 10,
    "start_time": "2023-11-06T10:07:37.528Z"
   },
   {
    "duration": 5,
    "start_time": "2023-11-06T10:10:48.660Z"
   },
   {
    "duration": 8,
    "start_time": "2023-11-06T10:11:11.926Z"
   },
   {
    "duration": 3,
    "start_time": "2023-11-06T10:15:15.544Z"
   },
   {
    "duration": 5,
    "start_time": "2023-11-06T10:37:46.761Z"
   },
   {
    "duration": 4,
    "start_time": "2023-11-06T10:37:54.167Z"
   },
   {
    "duration": 5,
    "start_time": "2023-11-06T10:38:06.907Z"
   },
   {
    "duration": 8,
    "start_time": "2023-11-06T10:40:14.020Z"
   },
   {
    "duration": 8,
    "start_time": "2023-11-06T10:40:19.767Z"
   },
   {
    "duration": 6,
    "start_time": "2023-11-06T10:40:30.142Z"
   },
   {
    "duration": 5,
    "start_time": "2023-11-06T10:40:33.902Z"
   },
   {
    "duration": 5,
    "start_time": "2023-11-06T10:40:40.237Z"
   },
   {
    "duration": 5,
    "start_time": "2023-11-06T10:41:18.179Z"
   },
   {
    "duration": 6,
    "start_time": "2023-11-06T10:47:50.546Z"
   },
   {
    "duration": 12,
    "start_time": "2023-11-06T10:48:54.816Z"
   },
   {
    "duration": 6,
    "start_time": "2023-11-06T10:48:58.587Z"
   },
   {
    "duration": 8,
    "start_time": "2023-11-06T10:49:06.440Z"
   },
   {
    "duration": 19,
    "start_time": "2023-11-06T10:49:11.320Z"
   },
   {
    "duration": 10,
    "start_time": "2023-11-06T10:49:22.491Z"
   },
   {
    "duration": 33,
    "start_time": "2023-11-06T10:51:57.198Z"
   },
   {
    "duration": 13,
    "start_time": "2023-11-06T10:52:16.159Z"
   },
   {
    "duration": 6,
    "start_time": "2023-11-06T10:52:32.330Z"
   },
   {
    "duration": 11,
    "start_time": "2023-11-06T10:52:48.257Z"
   },
   {
    "duration": 10,
    "start_time": "2023-11-06T10:52:52.697Z"
   },
   {
    "duration": 79,
    "start_time": "2023-11-06T10:52:57.100Z"
   },
   {
    "duration": 6,
    "start_time": "2023-11-06T10:52:59.236Z"
   },
   {
    "duration": 6,
    "start_time": "2023-11-06T10:53:09.217Z"
   },
   {
    "duration": 35,
    "start_time": "2023-11-06T10:53:12.905Z"
   },
   {
    "duration": 8,
    "start_time": "2023-11-06T10:53:21.579Z"
   },
   {
    "duration": 9,
    "start_time": "2023-11-06T10:53:26.051Z"
   },
   {
    "duration": 9,
    "start_time": "2023-11-06T10:53:36.806Z"
   },
   {
    "duration": 7,
    "start_time": "2023-11-06T10:53:55.549Z"
   },
   {
    "duration": 7,
    "start_time": "2023-11-06T10:54:04.521Z"
   },
   {
    "duration": 31,
    "start_time": "2023-11-06T10:54:45.424Z"
   },
   {
    "duration": 8,
    "start_time": "2023-11-06T10:56:44.686Z"
   },
   {
    "duration": 7,
    "start_time": "2023-11-06T10:56:59.273Z"
   },
   {
    "duration": 5,
    "start_time": "2023-11-06T10:57:05.560Z"
   },
   {
    "duration": 9,
    "start_time": "2023-11-06T10:57:05.829Z"
   },
   {
    "duration": 105,
    "start_time": "2023-11-06T10:57:13.974Z"
   },
   {
    "duration": 16,
    "start_time": "2023-11-06T10:57:14.876Z"
   },
   {
    "duration": 2526,
    "start_time": "2023-11-06T10:57:15.088Z"
   },
   {
    "duration": 9,
    "start_time": "2023-11-06T10:57:17.616Z"
   },
   {
    "duration": 14,
    "start_time": "2023-11-06T10:57:17.627Z"
   },
   {
    "duration": 6,
    "start_time": "2023-11-06T10:57:18.461Z"
   },
   {
    "duration": 6,
    "start_time": "2023-11-06T10:57:19.318Z"
   },
   {
    "duration": 7,
    "start_time": "2023-11-06T10:57:19.827Z"
   },
   {
    "duration": 9,
    "start_time": "2023-11-06T10:57:29.209Z"
   },
   {
    "duration": 33,
    "start_time": "2023-11-06T10:57:39.844Z"
   },
   {
    "duration": 8,
    "start_time": "2023-11-06T10:57:42.734Z"
   },
   {
    "duration": 18,
    "start_time": "2023-11-06T11:34:31.950Z"
   },
   {
    "duration": 7,
    "start_time": "2023-11-06T11:34:36.629Z"
   },
   {
    "duration": 20,
    "start_time": "2023-11-06T11:34:45.500Z"
   },
   {
    "duration": 6,
    "start_time": "2023-11-06T11:34:53.769Z"
   },
   {
    "duration": 9,
    "start_time": "2023-11-06T11:39:13.237Z"
   },
   {
    "duration": 9,
    "start_time": "2023-11-06T11:39:33.473Z"
   },
   {
    "duration": 9,
    "start_time": "2023-11-06T11:39:49.797Z"
   },
   {
    "duration": 8,
    "start_time": "2023-11-06T11:39:54.357Z"
   },
   {
    "duration": 9,
    "start_time": "2023-11-06T11:44:04.519Z"
   },
   {
    "duration": 8,
    "start_time": "2023-11-06T11:44:11.388Z"
   },
   {
    "duration": 50,
    "start_time": "2023-11-06T11:53:56.559Z"
   },
   {
    "duration": 68,
    "start_time": "2023-11-06T11:55:32.553Z"
   },
   {
    "duration": 8,
    "start_time": "2023-11-06T11:55:46.790Z"
   },
   {
    "duration": 9,
    "start_time": "2023-11-06T11:56:01.175Z"
   },
   {
    "duration": 9,
    "start_time": "2023-11-06T11:56:33.631Z"
   },
   {
    "duration": 11,
    "start_time": "2023-11-06T11:58:30.105Z"
   },
   {
    "duration": 6,
    "start_time": "2023-11-06T11:58:33.493Z"
   },
   {
    "duration": 6,
    "start_time": "2023-11-06T11:58:41.275Z"
   },
   {
    "duration": 94,
    "start_time": "2023-11-06T11:59:14.513Z"
   },
   {
    "duration": 89,
    "start_time": "2023-11-06T11:59:17.728Z"
   },
   {
    "duration": 88,
    "start_time": "2023-11-06T11:59:27.459Z"
   },
   {
    "duration": 115,
    "start_time": "2023-11-06T12:04:54.035Z"
   },
   {
    "duration": 6,
    "start_time": "2023-11-06T12:04:59.085Z"
   },
   {
    "duration": 107,
    "start_time": "2023-11-06T12:05:32.793Z"
   },
   {
    "duration": 163,
    "start_time": "2023-11-06T12:05:35.414Z"
   },
   {
    "duration": 7,
    "start_time": "2023-11-06T12:05:37.843Z"
   },
   {
    "duration": 165,
    "start_time": "2023-11-06T12:06:41.943Z"
   },
   {
    "duration": 7,
    "start_time": "2023-11-06T12:06:48.086Z"
   },
   {
    "duration": 108,
    "start_time": "2023-11-06T12:07:18.531Z"
   },
   {
    "duration": 8,
    "start_time": "2023-11-06T12:07:19.045Z"
   },
   {
    "duration": 7,
    "start_time": "2023-11-06T12:07:23.352Z"
   },
   {
    "duration": 126,
    "start_time": "2023-11-06T12:07:28.356Z"
   },
   {
    "duration": 6,
    "start_time": "2023-11-06T12:07:29.598Z"
   },
   {
    "duration": 180,
    "start_time": "2023-11-06T12:07:36.986Z"
   },
   {
    "duration": 118,
    "start_time": "2023-11-06T12:07:43.694Z"
   },
   {
    "duration": 7,
    "start_time": "2023-11-06T12:07:44.143Z"
   },
   {
    "duration": 7,
    "start_time": "2023-11-06T12:07:51.087Z"
   },
   {
    "duration": 119,
    "start_time": "2023-11-06T12:07:58.784Z"
   },
   {
    "duration": 15,
    "start_time": "2023-11-06T12:07:59.546Z"
   },
   {
    "duration": 2158,
    "start_time": "2023-11-06T12:07:59.812Z"
   },
   {
    "duration": 9,
    "start_time": "2023-11-06T12:08:01.972Z"
   },
   {
    "duration": 34,
    "start_time": "2023-11-06T12:08:01.983Z"
   },
   {
    "duration": 35,
    "start_time": "2023-11-06T12:08:02.019Z"
   },
   {
    "duration": 14,
    "start_time": "2023-11-06T12:08:02.057Z"
   },
   {
    "duration": 6,
    "start_time": "2023-11-06T12:08:03.534Z"
   },
   {
    "duration": 117,
    "start_time": "2023-11-06T12:08:04.786Z"
   },
   {
    "duration": 7,
    "start_time": "2023-11-06T12:08:05.360Z"
   },
   {
    "duration": 130,
    "start_time": "2023-11-06T12:13:13.188Z"
   },
   {
    "duration": 7,
    "start_time": "2023-11-06T12:13:20.597Z"
   },
   {
    "duration": 122,
    "start_time": "2023-11-06T12:14:05.282Z"
   },
   {
    "duration": 6,
    "start_time": "2023-11-06T12:14:07.787Z"
   },
   {
    "duration": 142,
    "start_time": "2023-11-06T12:14:29.237Z"
   },
   {
    "duration": 6,
    "start_time": "2023-11-06T12:14:29.791Z"
   },
   {
    "duration": 138,
    "start_time": "2023-11-06T12:15:33.474Z"
   },
   {
    "duration": 7,
    "start_time": "2023-11-06T12:15:35.866Z"
   },
   {
    "duration": 138,
    "start_time": "2023-11-06T12:16:02.395Z"
   },
   {
    "duration": 7,
    "start_time": "2023-11-06T12:16:08.864Z"
   },
   {
    "duration": 141,
    "start_time": "2023-11-06T12:16:12.295Z"
   },
   {
    "duration": 6,
    "start_time": "2023-11-06T12:16:12.529Z"
   },
   {
    "duration": 178,
    "start_time": "2023-11-06T12:16:26.546Z"
   },
   {
    "duration": 6,
    "start_time": "2023-11-06T12:16:29.482Z"
   },
   {
    "duration": 83,
    "start_time": "2023-11-06T12:18:25.856Z"
   },
   {
    "duration": 161,
    "start_time": "2023-11-06T12:18:33.322Z"
   },
   {
    "duration": 16,
    "start_time": "2023-11-06T12:19:34.914Z"
   },
   {
    "duration": 15,
    "start_time": "2023-11-06T12:19:43.079Z"
   },
   {
    "duration": 158,
    "start_time": "2023-11-06T12:19:49.853Z"
   },
   {
    "duration": 7,
    "start_time": "2023-11-06T12:19:51.573Z"
   },
   {
    "duration": 171,
    "start_time": "2023-11-06T12:20:02.635Z"
   },
   {
    "duration": 11,
    "start_time": "2023-11-06T12:20:04.538Z"
   },
   {
    "duration": 161,
    "start_time": "2023-11-06T12:20:45.807Z"
   },
   {
    "duration": 7,
    "start_time": "2023-11-06T12:20:46.048Z"
   },
   {
    "duration": 161,
    "start_time": "2023-11-06T12:20:57.370Z"
   },
   {
    "duration": 6,
    "start_time": "2023-11-06T12:20:58.633Z"
   },
   {
    "duration": 177,
    "start_time": "2023-11-06T12:21:43.360Z"
   },
   {
    "duration": 6,
    "start_time": "2023-11-06T12:21:43.910Z"
   },
   {
    "duration": 184,
    "start_time": "2023-11-06T12:21:56.035Z"
   },
   {
    "duration": 7,
    "start_time": "2023-11-06T12:22:01.871Z"
   },
   {
    "duration": 104,
    "start_time": "2023-11-06T12:22:26.154Z"
   },
   {
    "duration": 15,
    "start_time": "2023-11-06T12:22:26.350Z"
   },
   {
    "duration": 2034,
    "start_time": "2023-11-06T12:22:26.512Z"
   },
   {
    "duration": 9,
    "start_time": "2023-11-06T12:22:28.548Z"
   },
   {
    "duration": 24,
    "start_time": "2023-11-06T12:22:28.558Z"
   },
   {
    "duration": 11,
    "start_time": "2023-11-06T12:22:28.584Z"
   },
   {
    "duration": 20,
    "start_time": "2023-11-06T12:22:28.597Z"
   },
   {
    "duration": 20,
    "start_time": "2023-11-06T12:22:28.619Z"
   },
   {
    "duration": 195,
    "start_time": "2023-11-06T12:22:28.641Z"
   },
   {
    "duration": 6,
    "start_time": "2023-11-06T12:22:28.856Z"
   },
   {
    "duration": 236,
    "start_time": "2023-11-06T12:22:50.875Z"
   },
   {
    "duration": 7,
    "start_time": "2023-11-06T12:22:52.196Z"
   },
   {
    "duration": 222,
    "start_time": "2023-11-06T12:23:10.315Z"
   },
   {
    "duration": 7,
    "start_time": "2023-11-06T12:23:10.710Z"
   },
   {
    "duration": 214,
    "start_time": "2023-11-06T12:23:46.298Z"
   },
   {
    "duration": 6,
    "start_time": "2023-11-06T12:23:46.720Z"
   },
   {
    "duration": 116,
    "start_time": "2023-11-06T12:24:01.515Z"
   },
   {
    "duration": 15,
    "start_time": "2023-11-06T12:24:01.674Z"
   },
   {
    "duration": 1809,
    "start_time": "2023-11-06T12:24:01.831Z"
   },
   {
    "duration": 9,
    "start_time": "2023-11-06T12:24:03.642Z"
   },
   {
    "duration": 11,
    "start_time": "2023-11-06T12:24:03.652Z"
   },
   {
    "duration": 6,
    "start_time": "2023-11-06T12:24:03.665Z"
   },
   {
    "duration": 4,
    "start_time": "2023-11-06T12:24:03.673Z"
   },
   {
    "duration": 7,
    "start_time": "2023-11-06T12:24:03.679Z"
   },
   {
    "duration": 282,
    "start_time": "2023-11-06T12:24:03.688Z"
   },
   {
    "duration": 7,
    "start_time": "2023-11-06T12:24:03.972Z"
   },
   {
    "duration": 254,
    "start_time": "2023-11-06T12:26:27.290Z"
   },
   {
    "duration": 6,
    "start_time": "2023-11-06T12:26:27.681Z"
   },
   {
    "duration": 117,
    "start_time": "2023-11-06T12:26:35.672Z"
   },
   {
    "duration": 26,
    "start_time": "2023-11-06T12:26:35.838Z"
   },
   {
    "duration": 2271,
    "start_time": "2023-11-06T12:26:35.998Z"
   },
   {
    "duration": 9,
    "start_time": "2023-11-06T12:26:38.270Z"
   },
   {
    "duration": 8,
    "start_time": "2023-11-06T12:26:38.281Z"
   },
   {
    "duration": 11,
    "start_time": "2023-11-06T12:26:38.290Z"
   },
   {
    "duration": 28,
    "start_time": "2023-11-06T12:26:38.303Z"
   },
   {
    "duration": 13,
    "start_time": "2023-11-06T12:26:38.334Z"
   },
   {
    "duration": 297,
    "start_time": "2023-11-06T12:26:40.360Z"
   },
   {
    "duration": 7,
    "start_time": "2023-11-06T12:26:40.667Z"
   },
   {
    "duration": 254,
    "start_time": "2023-11-06T12:28:14.147Z"
   },
   {
    "duration": 6,
    "start_time": "2023-11-06T12:28:14.403Z"
   },
   {
    "duration": 264,
    "start_time": "2023-11-06T12:28:46.199Z"
   },
   {
    "duration": 6,
    "start_time": "2023-11-06T12:28:46.465Z"
   },
   {
    "duration": 276,
    "start_time": "2023-11-06T12:28:58.383Z"
   },
   {
    "duration": 6,
    "start_time": "2023-11-06T12:28:58.661Z"
   },
   {
    "duration": 111,
    "start_time": "2023-11-06T12:29:08.299Z"
   },
   {
    "duration": 14,
    "start_time": "2023-11-06T12:29:08.471Z"
   },
   {
    "duration": 2334,
    "start_time": "2023-11-06T12:29:08.650Z"
   },
   {
    "duration": 10,
    "start_time": "2023-11-06T12:29:10.985Z"
   },
   {
    "duration": 59,
    "start_time": "2023-11-06T12:29:10.997Z"
   },
   {
    "duration": 7,
    "start_time": "2023-11-06T12:29:11.058Z"
   },
   {
    "duration": 31,
    "start_time": "2023-11-06T12:29:11.067Z"
   },
   {
    "duration": 25,
    "start_time": "2023-11-06T12:29:11.100Z"
   },
   {
    "duration": 291,
    "start_time": "2023-11-06T12:29:11.137Z"
   },
   {
    "duration": 12,
    "start_time": "2023-11-06T12:29:11.439Z"
   },
   {
    "duration": 80,
    "start_time": "2023-11-06T12:46:49.906Z"
   },
   {
    "duration": 8,
    "start_time": "2023-11-06T12:46:53.967Z"
   },
   {
    "duration": 521,
    "start_time": "2023-11-06T13:16:20.085Z"
   },
   {
    "duration": 25,
    "start_time": "2023-11-06T13:16:20.607Z"
   },
   {
    "duration": 2313,
    "start_time": "2023-11-06T13:16:20.889Z"
   },
   {
    "duration": 9,
    "start_time": "2023-11-06T13:16:28.502Z"
   },
   {
    "duration": 5,
    "start_time": "2023-11-06T13:16:29.045Z"
   },
   {
    "duration": 16,
    "start_time": "2023-11-06T13:16:29.052Z"
   },
   {
    "duration": 5,
    "start_time": "2023-11-06T13:16:29.089Z"
   },
   {
    "duration": 7,
    "start_time": "2023-11-06T13:16:29.344Z"
   },
   {
    "duration": 272,
    "start_time": "2023-11-06T13:16:29.537Z"
   },
   {
    "duration": 7,
    "start_time": "2023-11-06T13:16:29.811Z"
   },
   {
    "duration": 71,
    "start_time": "2023-11-06T13:16:30.039Z"
   },
   {
    "duration": 14,
    "start_time": "2023-11-06T13:17:23.718Z"
   },
   {
    "duration": 14,
    "start_time": "2023-11-06T13:24:45.137Z"
   },
   {
    "duration": 20,
    "start_time": "2023-11-06T13:25:13.455Z"
   },
   {
    "duration": 16,
    "start_time": "2023-11-06T13:25:46.543Z"
   },
   {
    "duration": 5,
    "start_time": "2023-11-06T13:26:44.264Z"
   },
   {
    "duration": 87,
    "start_time": "2023-11-06T13:27:19.828Z"
   },
   {
    "duration": 16,
    "start_time": "2023-11-06T13:28:02.260Z"
   },
   {
    "duration": 15,
    "start_time": "2023-11-06T13:28:33.412Z"
   },
   {
    "duration": 18,
    "start_time": "2023-11-06T13:28:40.004Z"
   },
   {
    "duration": 5,
    "start_time": "2023-11-06T13:28:40.975Z"
   },
   {
    "duration": 15,
    "start_time": "2023-11-06T13:28:53.160Z"
   },
   {
    "duration": 1337,
    "start_time": "2023-11-06T13:33:26.669Z"
   },
   {
    "duration": 6,
    "start_time": "2023-11-06T13:33:32.590Z"
   },
   {
    "duration": 5,
    "start_time": "2023-11-06T13:33:58.937Z"
   },
   {
    "duration": 13,
    "start_time": "2023-11-06T13:34:16.954Z"
   },
   {
    "duration": 144,
    "start_time": "2023-11-06T13:35:33.115Z"
   },
   {
    "duration": 14,
    "start_time": "2023-11-06T13:35:44.689Z"
   },
   {
    "duration": 17,
    "start_time": "2023-11-06T13:35:56.909Z"
   },
   {
    "duration": 7,
    "start_time": "2023-11-06T13:41:22.958Z"
   },
   {
    "duration": 8,
    "start_time": "2023-11-06T13:41:30.613Z"
   },
   {
    "duration": 11,
    "start_time": "2023-11-06T13:42:21.290Z"
   },
   {
    "duration": 7,
    "start_time": "2023-11-06T13:42:29.196Z"
   },
   {
    "duration": 13,
    "start_time": "2023-11-06T13:48:21.731Z"
   },
   {
    "duration": 18,
    "start_time": "2023-11-06T13:48:27.122Z"
   },
   {
    "duration": 7,
    "start_time": "2023-11-06T13:48:39.726Z"
   },
   {
    "duration": 10,
    "start_time": "2023-11-06T13:48:42.989Z"
   },
   {
    "duration": 11,
    "start_time": "2023-11-06T13:50:02.901Z"
   },
   {
    "duration": 12,
    "start_time": "2023-11-06T13:50:13.080Z"
   },
   {
    "duration": 155,
    "start_time": "2023-11-06T13:50:21.406Z"
   },
   {
    "duration": 14,
    "start_time": "2023-11-06T13:50:29.634Z"
   },
   {
    "duration": 90,
    "start_time": "2023-11-06T13:50:32.728Z"
   },
   {
    "duration": 11,
    "start_time": "2023-11-06T13:50:38.504Z"
   },
   {
    "duration": 9,
    "start_time": "2023-11-06T13:52:06.621Z"
   },
   {
    "duration": 8,
    "start_time": "2023-11-06T13:52:09.284Z"
   },
   {
    "duration": 6,
    "start_time": "2023-11-06T13:52:16.546Z"
   },
   {
    "duration": 7,
    "start_time": "2023-11-06T13:52:19.886Z"
   },
   {
    "duration": 7,
    "start_time": "2023-11-06T13:53:34.488Z"
   },
   {
    "duration": 8,
    "start_time": "2023-11-06T13:53:37.745Z"
   },
   {
    "duration": 9,
    "start_time": "2023-11-06T13:53:40.411Z"
   },
   {
    "duration": 6,
    "start_time": "2023-11-06T13:53:43.199Z"
   },
   {
    "duration": 12,
    "start_time": "2023-11-06T13:54:57.744Z"
   },
   {
    "duration": 10,
    "start_time": "2023-11-06T13:55:17.762Z"
   },
   {
    "duration": 16,
    "start_time": "2023-11-06T13:55:23.301Z"
   },
   {
    "duration": 96,
    "start_time": "2023-11-06T13:59:33.760Z"
   },
   {
    "duration": 82,
    "start_time": "2023-11-06T13:59:43.987Z"
   },
   {
    "duration": 11,
    "start_time": "2023-11-06T13:59:59.247Z"
   },
   {
    "duration": 7,
    "start_time": "2023-11-06T14:01:19.844Z"
   },
   {
    "duration": 6,
    "start_time": "2023-11-06T14:02:05.050Z"
   },
   {
    "duration": 15,
    "start_time": "2023-11-06T14:03:11.354Z"
   },
   {
    "duration": 8,
    "start_time": "2023-11-06T14:07:10.823Z"
   },
   {
    "duration": 22,
    "start_time": "2023-11-06T14:13:56.118Z"
   },
   {
    "duration": 12,
    "start_time": "2023-11-06T14:14:00.629Z"
   },
   {
    "duration": 11,
    "start_time": "2023-11-06T14:14:08.517Z"
   },
   {
    "duration": 10,
    "start_time": "2023-11-06T14:15:00.471Z"
   },
   {
    "duration": 7,
    "start_time": "2023-11-06T14:17:57.289Z"
   },
   {
    "duration": 12,
    "start_time": "2023-11-06T14:18:00.120Z"
   },
   {
    "duration": 6,
    "start_time": "2023-11-06T14:18:14.674Z"
   },
   {
    "duration": 16,
    "start_time": "2023-11-06T14:18:39.125Z"
   },
   {
    "duration": 10,
    "start_time": "2023-11-06T14:18:42.854Z"
   },
   {
    "duration": 7,
    "start_time": "2023-11-06T14:20:52.011Z"
   },
   {
    "duration": 18,
    "start_time": "2023-11-06T14:20:58.417Z"
   },
   {
    "duration": 10,
    "start_time": "2023-11-06T14:21:04.004Z"
   },
   {
    "duration": 8,
    "start_time": "2023-11-06T14:21:22.963Z"
   },
   {
    "duration": 9,
    "start_time": "2023-11-06T14:21:33.156Z"
   },
   {
    "duration": 9,
    "start_time": "2023-11-06T14:21:41.102Z"
   },
   {
    "duration": 83,
    "start_time": "2023-11-06T14:22:36.583Z"
   },
   {
    "duration": 11,
    "start_time": "2023-11-06T14:22:49.941Z"
   },
   {
    "duration": 121,
    "start_time": "2023-11-06T14:23:02.842Z"
   },
   {
    "duration": 14,
    "start_time": "2023-11-06T14:23:05.352Z"
   },
   {
    "duration": 8,
    "start_time": "2023-11-06T14:23:10.898Z"
   },
   {
    "duration": 9,
    "start_time": "2023-11-06T14:23:21.653Z"
   },
   {
    "duration": 3,
    "start_time": "2023-11-06T14:23:31.467Z"
   },
   {
    "duration": 9,
    "start_time": "2023-11-06T14:23:50.853Z"
   },
   {
    "duration": 9,
    "start_time": "2023-11-06T14:24:11.759Z"
   },
   {
    "duration": 4,
    "start_time": "2023-11-06T14:24:54.153Z"
   },
   {
    "duration": 4,
    "start_time": "2023-11-06T14:25:01.170Z"
   },
   {
    "duration": 10,
    "start_time": "2023-11-06T14:27:11.375Z"
   },
   {
    "duration": 16,
    "start_time": "2023-11-06T14:27:14.641Z"
   },
   {
    "duration": 7,
    "start_time": "2023-11-06T14:27:23.307Z"
   },
   {
    "duration": 7,
    "start_time": "2023-11-06T14:32:36.773Z"
   },
   {
    "duration": 9,
    "start_time": "2023-11-06T14:32:49.416Z"
   },
   {
    "duration": 10,
    "start_time": "2023-11-06T14:32:55.490Z"
   },
   {
    "duration": 8,
    "start_time": "2023-11-06T14:34:36.275Z"
   },
   {
    "duration": 12,
    "start_time": "2023-11-06T14:34:59.750Z"
   },
   {
    "duration": 7,
    "start_time": "2023-11-06T14:35:11.354Z"
   },
   {
    "duration": 10,
    "start_time": "2023-11-06T14:35:19.851Z"
   },
   {
    "duration": 7,
    "start_time": "2023-11-06T14:36:10.869Z"
   },
   {
    "duration": 6,
    "start_time": "2023-11-06T14:36:21.683Z"
   },
   {
    "duration": 5,
    "start_time": "2023-11-06T14:36:42.102Z"
   },
   {
    "duration": 7,
    "start_time": "2023-11-06T14:36:46.366Z"
   },
   {
    "duration": 6,
    "start_time": "2023-11-06T14:36:53.162Z"
   },
   {
    "duration": 7,
    "start_time": "2023-11-06T14:38:25.049Z"
   },
   {
    "duration": 7,
    "start_time": "2023-11-06T14:38:30.153Z"
   },
   {
    "duration": 7,
    "start_time": "2023-11-06T14:44:45.870Z"
   },
   {
    "duration": 6,
    "start_time": "2023-11-06T14:44:49.689Z"
   },
   {
    "duration": 5,
    "start_time": "2023-11-06T14:44:52.585Z"
   },
   {
    "duration": 5,
    "start_time": "2023-11-06T14:47:59.317Z"
   },
   {
    "duration": 122,
    "start_time": "2023-11-06T15:00:04.248Z"
   },
   {
    "duration": 153,
    "start_time": "2023-11-06T15:00:15.290Z"
   },
   {
    "duration": 2129,
    "start_time": "2023-11-06T15:00:26.388Z"
   },
   {
    "duration": 1983,
    "start_time": "2023-11-06T15:01:27.996Z"
   },
   {
    "duration": 1975,
    "start_time": "2023-11-06T15:01:54.245Z"
   },
   {
    "duration": 3016,
    "start_time": "2023-11-06T15:02:07.982Z"
   },
   {
    "duration": 16,
    "start_time": "2023-11-06T15:04:33.446Z"
   },
   {
    "duration": 428,
    "start_time": "2023-11-06T15:04:39.065Z"
   },
   {
    "duration": 419,
    "start_time": "2023-11-06T15:05:14.669Z"
   },
   {
    "duration": 399,
    "start_time": "2023-11-06T15:05:22.781Z"
   },
   {
    "duration": 387,
    "start_time": "2023-11-06T15:05:27.148Z"
   },
   {
    "duration": 413,
    "start_time": "2023-11-06T15:05:41.895Z"
   },
   {
    "duration": 397,
    "start_time": "2023-11-06T15:06:19.983Z"
   },
   {
    "duration": 412,
    "start_time": "2023-11-06T15:07:05.455Z"
   },
   {
    "duration": 441,
    "start_time": "2023-11-06T15:07:42.158Z"
   },
   {
    "duration": 431,
    "start_time": "2023-11-06T15:07:58.474Z"
   },
   {
    "duration": 1632,
    "start_time": "2023-11-06T15:08:19.178Z"
   },
   {
    "duration": 11,
    "start_time": "2023-11-06T15:09:30.688Z"
   },
   {
    "duration": 12,
    "start_time": "2023-11-06T15:09:38.617Z"
   },
   {
    "duration": 8,
    "start_time": "2023-11-06T15:09:41.185Z"
   },
   {
    "duration": 454,
    "start_time": "2023-11-06T15:09:48.619Z"
   },
   {
    "duration": 335,
    "start_time": "2023-11-06T15:10:51.881Z"
   },
   {
    "duration": 333,
    "start_time": "2023-11-06T15:11:11.278Z"
   },
   {
    "duration": 19,
    "start_time": "2023-11-06T15:13:20.732Z"
   },
   {
    "duration": 8,
    "start_time": "2023-11-06T15:14:48.705Z"
   },
   {
    "duration": 7,
    "start_time": "2023-11-06T15:16:38.449Z"
   },
   {
    "duration": 6,
    "start_time": "2023-11-06T15:16:41.262Z"
   },
   {
    "duration": 6,
    "start_time": "2023-11-06T15:16:49.592Z"
   },
   {
    "duration": 16,
    "start_time": "2023-11-06T15:17:01.735Z"
   },
   {
    "duration": 111,
    "start_time": "2023-11-06T15:17:13.539Z"
   },
   {
    "duration": 77,
    "start_time": "2023-11-06T15:17:15.834Z"
   },
   {
    "duration": 26,
    "start_time": "2023-11-06T15:17:18.012Z"
   },
   {
    "duration": 4,
    "start_time": "2023-11-06T15:18:23.877Z"
   },
   {
    "duration": 428,
    "start_time": "2023-11-06T15:20:00.489Z"
   },
   {
    "duration": 8,
    "start_time": "2023-11-06T15:21:17.775Z"
   },
   {
    "duration": 3,
    "start_time": "2023-11-06T15:23:04.362Z"
   },
   {
    "duration": 19,
    "start_time": "2023-11-06T15:23:16.538Z"
   },
   {
    "duration": 12,
    "start_time": "2023-11-06T15:23:36.191Z"
   },
   {
    "duration": 10,
    "start_time": "2023-11-06T15:23:41.184Z"
   },
   {
    "duration": 8,
    "start_time": "2023-11-06T15:23:55.311Z"
   },
   {
    "duration": 271,
    "start_time": "2023-11-06T15:24:04.664Z"
   },
   {
    "duration": 9,
    "start_time": "2023-11-06T15:24:05.063Z"
   },
   {
    "duration": 118,
    "start_time": "2023-11-06T15:24:13.181Z"
   },
   {
    "duration": 17,
    "start_time": "2023-11-06T15:24:13.866Z"
   },
   {
    "duration": 2116,
    "start_time": "2023-11-06T15:24:14.055Z"
   },
   {
    "duration": 11,
    "start_time": "2023-11-06T15:24:16.175Z"
   },
   {
    "duration": 8,
    "start_time": "2023-11-06T15:24:16.188Z"
   },
   {
    "duration": 34,
    "start_time": "2023-11-06T15:24:16.198Z"
   },
   {
    "duration": 6,
    "start_time": "2023-11-06T15:24:16.234Z"
   },
   {
    "duration": 13,
    "start_time": "2023-11-06T15:24:16.243Z"
   },
   {
    "duration": 301,
    "start_time": "2023-11-06T15:24:16.258Z"
   },
   {
    "duration": 10,
    "start_time": "2023-11-06T15:24:16.560Z"
   },
   {
    "duration": 16,
    "start_time": "2023-11-06T15:24:16.572Z"
   },
   {
    "duration": 8,
    "start_time": "2023-11-06T15:24:16.590Z"
   },
   {
    "duration": 39,
    "start_time": "2023-11-06T15:24:16.599Z"
   },
   {
    "duration": 5,
    "start_time": "2023-11-06T15:24:16.641Z"
   },
   {
    "duration": 5,
    "start_time": "2023-11-06T15:24:16.649Z"
   },
   {
    "duration": 4,
    "start_time": "2023-11-06T15:24:16.787Z"
   },
   {
    "duration": 400,
    "start_time": "2023-11-06T15:24:16.974Z"
   },
   {
    "duration": 6,
    "start_time": "2023-11-06T15:26:06.256Z"
   },
   {
    "duration": 12,
    "start_time": "2023-11-06T15:26:22.681Z"
   },
   {
    "duration": 20,
    "start_time": "2023-11-06T15:26:26.610Z"
   },
   {
    "duration": 5,
    "start_time": "2023-11-06T15:27:41.249Z"
   },
   {
    "duration": 4,
    "start_time": "2023-11-06T15:27:41.668Z"
   },
   {
    "duration": 18,
    "start_time": "2023-11-06T15:27:42.437Z"
   },
   {
    "duration": 364,
    "start_time": "2023-11-06T15:43:09.156Z"
   },
   {
    "duration": 137,
    "start_time": "2023-11-06T15:47:14.566Z"
   },
   {
    "duration": 165,
    "start_time": "2023-11-06T15:47:22.322Z"
   },
   {
    "duration": 161,
    "start_time": "2023-11-06T15:47:25.824Z"
   },
   {
    "duration": 130,
    "start_time": "2023-11-06T15:47:38.366Z"
   },
   {
    "duration": 21,
    "start_time": "2023-11-06T15:47:38.548Z"
   },
   {
    "duration": 2312,
    "start_time": "2023-11-06T15:47:38.692Z"
   },
   {
    "duration": 20,
    "start_time": "2023-11-06T15:47:41.006Z"
   },
   {
    "duration": 15,
    "start_time": "2023-11-06T15:47:41.028Z"
   },
   {
    "duration": 7,
    "start_time": "2023-11-06T15:47:41.050Z"
   },
   {
    "duration": 152,
    "start_time": "2023-11-06T15:47:41.059Z"
   },
   {
    "duration": 6,
    "start_time": "2023-11-06T15:47:43.457Z"
   },
   {
    "duration": 4,
    "start_time": "2023-11-06T15:47:43.616Z"
   },
   {
    "duration": 8,
    "start_time": "2023-11-06T15:47:43.772Z"
   },
   {
    "duration": 153,
    "start_time": "2023-11-06T15:47:46.107Z"
   },
   {
    "duration": 127,
    "start_time": "2023-11-06T15:47:49.352Z"
   },
   {
    "duration": 355,
    "start_time": "2023-11-06T15:47:59.875Z"
   },
   {
    "duration": 128,
    "start_time": "2023-11-06T15:48:02.578Z"
   },
   {
    "duration": 151,
    "start_time": "2023-11-06T15:48:08.313Z"
   },
   {
    "duration": 240,
    "start_time": "2023-11-06T15:48:11.048Z"
   },
   {
    "duration": 241,
    "start_time": "2023-11-06T15:48:13.961Z"
   },
   {
    "duration": 96,
    "start_time": "2023-11-06T15:49:56.157Z"
   },
   {
    "duration": 177,
    "start_time": "2023-11-06T15:50:15.706Z"
   },
   {
    "duration": 107,
    "start_time": "2023-11-06T15:50:29.543Z"
   },
   {
    "duration": 112,
    "start_time": "2023-11-06T15:50:35.932Z"
   },
   {
    "duration": 83,
    "start_time": "2023-11-06T15:50:50.564Z"
   },
   {
    "duration": 180,
    "start_time": "2023-11-06T15:50:52.898Z"
   },
   {
    "duration": 272,
    "start_time": "2023-11-06T15:51:13.090Z"
   },
   {
    "duration": 148,
    "start_time": "2023-11-06T15:51:24.654Z"
   },
   {
    "duration": 182,
    "start_time": "2023-11-06T15:52:28.299Z"
   },
   {
    "duration": 5,
    "start_time": "2023-11-06T15:53:09.673Z"
   },
   {
    "duration": 4,
    "start_time": "2023-11-06T15:53:09.850Z"
   },
   {
    "duration": 9,
    "start_time": "2023-11-06T15:53:10.007Z"
   },
   {
    "duration": 332,
    "start_time": "2023-11-06T15:53:10.164Z"
   },
   {
    "duration": 9,
    "start_time": "2023-11-06T15:53:10.498Z"
   },
   {
    "duration": 28,
    "start_time": "2023-11-06T15:53:10.509Z"
   },
   {
    "duration": 7,
    "start_time": "2023-11-06T15:53:10.807Z"
   },
   {
    "duration": 8,
    "start_time": "2023-11-06T15:53:11.249Z"
   },
   {
    "duration": 5,
    "start_time": "2023-11-06T16:05:17.176Z"
   },
   {
    "duration": 6,
    "start_time": "2023-11-06T16:05:27.604Z"
   },
   {
    "duration": 9,
    "start_time": "2023-11-06T16:05:41.609Z"
   },
   {
    "duration": 11,
    "start_time": "2023-11-06T16:08:13.949Z"
   },
   {
    "duration": 6,
    "start_time": "2023-11-06T16:08:23.854Z"
   },
   {
    "duration": 5,
    "start_time": "2023-11-06T16:09:03.093Z"
   },
   {
    "duration": 2034,
    "start_time": "2023-11-06T16:12:48.820Z"
   },
   {
    "duration": 2806,
    "start_time": "2023-11-06T16:12:58.963Z"
   },
   {
    "duration": 1335,
    "start_time": "2023-11-06T16:14:32.565Z"
   },
   {
    "duration": 16,
    "start_time": "2023-11-06T16:14:54.553Z"
   },
   {
    "duration": 163,
    "start_time": "2023-11-06T16:33:11.910Z"
   },
   {
    "duration": 129,
    "start_time": "2023-11-06T16:33:22.608Z"
   },
   {
    "duration": 130,
    "start_time": "2023-11-06T16:33:39.189Z"
   },
   {
    "duration": 143,
    "start_time": "2023-11-06T16:33:45.108Z"
   },
   {
    "duration": 9,
    "start_time": "2023-11-06T16:41:30.375Z"
   },
   {
    "duration": 184,
    "start_time": "2023-11-06T16:41:35.739Z"
   },
   {
    "duration": 123,
    "start_time": "2023-11-06T16:42:53.488Z"
   },
   {
    "duration": 158,
    "start_time": "2023-11-06T16:43:06.212Z"
   },
   {
    "duration": 139,
    "start_time": "2023-11-06T16:43:12.176Z"
   },
   {
    "duration": 7,
    "start_time": "2023-11-06T16:54:33.637Z"
   },
   {
    "duration": 4,
    "start_time": "2023-11-06T16:56:07.769Z"
   },
   {
    "duration": 6,
    "start_time": "2023-11-06T16:56:17.217Z"
   },
   {
    "duration": 10,
    "start_time": "2023-11-06T16:56:37.833Z"
   },
   {
    "duration": 11,
    "start_time": "2023-11-06T16:56:46.849Z"
   },
   {
    "duration": 9,
    "start_time": "2023-11-06T16:56:50.010Z"
   },
   {
    "duration": 6,
    "start_time": "2023-11-06T16:57:00.008Z"
   },
   {
    "duration": 8,
    "start_time": "2023-11-06T16:57:18.630Z"
   },
   {
    "duration": 10,
    "start_time": "2023-11-06T16:57:28.727Z"
   },
   {
    "duration": 122,
    "start_time": "2023-11-06T16:58:22.690Z"
   },
   {
    "duration": 855,
    "start_time": "2023-11-07T11:06:43.772Z"
   },
   {
    "duration": 23,
    "start_time": "2023-11-07T11:06:45.501Z"
   },
   {
    "duration": 2710,
    "start_time": "2023-11-07T11:06:45.868Z"
   },
   {
    "duration": 11,
    "start_time": "2023-11-07T11:06:48.581Z"
   },
   {
    "duration": 12,
    "start_time": "2023-11-07T11:06:48.594Z"
   },
   {
    "duration": 33,
    "start_time": "2023-11-07T11:06:48.609Z"
   },
   {
    "duration": 7,
    "start_time": "2023-11-07T11:06:48.644Z"
   },
   {
    "duration": 13,
    "start_time": "2023-11-07T11:06:48.654Z"
   },
   {
    "duration": 25,
    "start_time": "2023-11-07T11:06:48.669Z"
   },
   {
    "duration": 275,
    "start_time": "2023-11-07T11:06:48.697Z"
   },
   {
    "duration": 10,
    "start_time": "2023-11-07T11:06:48.974Z"
   },
   {
    "duration": 11,
    "start_time": "2023-11-07T11:06:49.001Z"
   },
   {
    "duration": 44,
    "start_time": "2023-11-07T11:06:49.014Z"
   },
   {
    "duration": 19,
    "start_time": "2023-11-07T11:06:49.060Z"
   },
   {
    "duration": 25,
    "start_time": "2023-11-07T11:06:49.082Z"
   },
   {
    "duration": 5,
    "start_time": "2023-11-07T11:06:49.627Z"
   },
   {
    "duration": 312,
    "start_time": "2023-11-07T11:06:50.389Z"
   },
   {
    "duration": 5,
    "start_time": "2023-11-07T11:06:58.207Z"
   },
   {
    "duration": 129,
    "start_time": "2023-11-07T11:06:59.281Z"
   },
   {
    "duration": 6,
    "start_time": "2023-11-07T11:07:09.144Z"
   },
   {
    "duration": 159,
    "start_time": "2023-11-07T11:07:09.689Z"
   },
   {
    "duration": 6,
    "start_time": "2023-11-07T11:08:53.363Z"
   },
   {
    "duration": 10,
    "start_time": "2023-11-07T11:09:46.367Z"
   },
   {
    "duration": 2810,
    "start_time": "2023-11-07T11:35:28.892Z"
   },
   {
    "duration": 169,
    "start_time": "2023-11-07T11:35:40.609Z"
   },
   {
    "duration": 8,
    "start_time": "2023-11-07T11:35:48.593Z"
   },
   {
    "duration": 7,
    "start_time": "2023-11-07T11:35:55.679Z"
   },
   {
    "duration": 9,
    "start_time": "2023-11-07T11:37:22.053Z"
   },
   {
    "duration": 8,
    "start_time": "2023-11-07T11:37:27.665Z"
   },
   {
    "duration": 8,
    "start_time": "2023-11-07T11:37:44.027Z"
   },
   {
    "duration": 9,
    "start_time": "2023-11-07T11:37:58.433Z"
   },
   {
    "duration": 8,
    "start_time": "2023-11-07T11:38:09.070Z"
   },
   {
    "duration": 8,
    "start_time": "2023-11-07T11:38:46.327Z"
   },
   {
    "duration": 10,
    "start_time": "2023-11-07T11:39:04.532Z"
   },
   {
    "duration": 9,
    "start_time": "2023-11-07T11:39:46.051Z"
   },
   {
    "duration": 14,
    "start_time": "2023-11-07T11:40:10.471Z"
   },
   {
    "duration": 10,
    "start_time": "2023-11-07T11:40:17.799Z"
   },
   {
    "duration": 11,
    "start_time": "2023-11-07T11:40:46.001Z"
   },
   {
    "duration": 11,
    "start_time": "2023-11-07T11:41:33.382Z"
   },
   {
    "duration": 10,
    "start_time": "2023-11-07T11:42:21.820Z"
   },
   {
    "duration": 10,
    "start_time": "2023-11-07T11:42:25.806Z"
   },
   {
    "duration": 10,
    "start_time": "2023-11-07T11:42:47.806Z"
   },
   {
    "duration": 10,
    "start_time": "2023-11-07T11:42:57.409Z"
   },
   {
    "duration": 122,
    "start_time": "2023-11-07T11:43:02.185Z"
   },
   {
    "duration": 15,
    "start_time": "2023-11-07T11:43:03.424Z"
   },
   {
    "duration": 2029,
    "start_time": "2023-11-07T11:43:03.621Z"
   },
   {
    "duration": 10,
    "start_time": "2023-11-07T11:43:05.652Z"
   },
   {
    "duration": 6,
    "start_time": "2023-11-07T11:43:05.663Z"
   },
   {
    "duration": 5,
    "start_time": "2023-11-07T11:43:06.321Z"
   },
   {
    "duration": 5,
    "start_time": "2023-11-07T11:43:06.417Z"
   },
   {
    "duration": 4,
    "start_time": "2023-11-07T11:43:06.596Z"
   },
   {
    "duration": 8,
    "start_time": "2023-11-07T11:43:06.777Z"
   },
   {
    "duration": 273,
    "start_time": "2023-11-07T11:43:06.953Z"
   },
   {
    "duration": 10,
    "start_time": "2023-11-07T11:43:07.228Z"
   },
   {
    "duration": 10,
    "start_time": "2023-11-07T11:43:07.358Z"
   },
   {
    "duration": 6,
    "start_time": "2023-11-07T11:43:08.083Z"
   },
   {
    "duration": 6,
    "start_time": "2023-11-07T11:43:08.417Z"
   },
   {
    "duration": 5,
    "start_time": "2023-11-07T11:43:08.704Z"
   },
   {
    "duration": 6,
    "start_time": "2023-11-07T11:43:09.008Z"
   },
   {
    "duration": 385,
    "start_time": "2023-11-07T11:43:09.289Z"
   },
   {
    "duration": 5,
    "start_time": "2023-11-07T11:43:09.676Z"
   },
   {
    "duration": 222,
    "start_time": "2023-11-07T11:43:11.555Z"
   },
   {
    "duration": 5,
    "start_time": "2023-11-07T11:43:21.039Z"
   },
   {
    "duration": 141,
    "start_time": "2023-11-07T11:43:21.539Z"
   },
   {
    "duration": 8,
    "start_time": "2023-11-07T11:43:22.583Z"
   },
   {
    "duration": 181,
    "start_time": "2023-11-07T11:43:23.128Z"
   },
   {
    "duration": 206,
    "start_time": "2023-11-07T11:53:55.302Z"
   },
   {
    "duration": 208,
    "start_time": "2023-11-07T11:54:16.290Z"
   },
   {
    "duration": 190,
    "start_time": "2023-11-07T11:54:43.650Z"
   },
   {
    "duration": 181,
    "start_time": "2023-11-07T11:55:33.415Z"
   },
   {
    "duration": 208,
    "start_time": "2023-11-07T11:55:52.020Z"
   },
   {
    "duration": 205,
    "start_time": "2023-11-07T11:56:01.205Z"
   },
   {
    "duration": 209,
    "start_time": "2023-11-07T11:56:08.044Z"
   },
   {
    "duration": 340,
    "start_time": "2023-11-07T11:56:18.488Z"
   },
   {
    "duration": 192,
    "start_time": "2023-11-07T11:56:31.199Z"
   },
   {
    "duration": 203,
    "start_time": "2023-11-07T11:56:37.906Z"
   },
   {
    "duration": 92,
    "start_time": "2023-11-07T11:57:14.425Z"
   },
   {
    "duration": 197,
    "start_time": "2023-11-07T11:57:19.490Z"
   },
   {
    "duration": 224,
    "start_time": "2023-11-07T11:57:28.662Z"
   },
   {
    "duration": 190,
    "start_time": "2023-11-07T11:57:33.758Z"
   },
   {
    "duration": 211,
    "start_time": "2023-11-07T11:57:43.404Z"
   },
   {
    "duration": 193,
    "start_time": "2023-11-07T11:57:51.462Z"
   },
   {
    "duration": 199,
    "start_time": "2023-11-07T11:57:57.834Z"
   },
   {
    "duration": 195,
    "start_time": "2023-11-07T11:58:01.895Z"
   },
   {
    "duration": 175,
    "start_time": "2023-11-07T11:58:04.966Z"
   },
   {
    "duration": 209,
    "start_time": "2023-11-07T11:58:08.497Z"
   },
   {
    "duration": 368,
    "start_time": "2023-11-07T12:01:22.455Z"
   },
   {
    "duration": 217,
    "start_time": "2023-11-07T12:01:43.464Z"
   },
   {
    "duration": 227,
    "start_time": "2023-11-07T12:01:55.720Z"
   },
   {
    "duration": 211,
    "start_time": "2023-11-07T12:02:01.326Z"
   },
   {
    "duration": 212,
    "start_time": "2023-11-07T12:02:40.267Z"
   },
   {
    "duration": 237,
    "start_time": "2023-11-07T12:02:44.436Z"
   },
   {
    "duration": 205,
    "start_time": "2023-11-07T12:02:50.047Z"
   },
   {
    "duration": 202,
    "start_time": "2023-11-07T12:03:04.307Z"
   },
   {
    "duration": 213,
    "start_time": "2023-11-07T12:03:09.529Z"
   },
   {
    "duration": 187,
    "start_time": "2023-11-07T12:03:15.463Z"
   },
   {
    "duration": 195,
    "start_time": "2023-11-07T12:04:15.869Z"
   },
   {
    "duration": 181,
    "start_time": "2023-11-07T12:04:25.360Z"
   },
   {
    "duration": 376,
    "start_time": "2023-11-07T12:04:29.646Z"
   },
   {
    "duration": 203,
    "start_time": "2023-11-07T12:04:35.450Z"
   },
   {
    "duration": 223,
    "start_time": "2023-11-07T12:05:44.358Z"
   },
   {
    "duration": 191,
    "start_time": "2023-11-07T12:06:02.929Z"
   },
   {
    "duration": 204,
    "start_time": "2023-11-07T12:06:22.785Z"
   },
   {
    "duration": 199,
    "start_time": "2023-11-07T12:06:33.181Z"
   },
   {
    "duration": 193,
    "start_time": "2023-11-07T12:06:55.479Z"
   },
   {
    "duration": 239,
    "start_time": "2023-11-07T12:07:04.593Z"
   },
   {
    "duration": 192,
    "start_time": "2023-11-07T12:07:11.811Z"
   },
   {
    "duration": 206,
    "start_time": "2023-11-07T12:07:17.010Z"
   },
   {
    "duration": 219,
    "start_time": "2023-11-07T12:07:29.507Z"
   },
   {
    "duration": 215,
    "start_time": "2023-11-07T12:07:36.501Z"
   },
   {
    "duration": 388,
    "start_time": "2023-11-07T12:07:42.278Z"
   },
   {
    "duration": 194,
    "start_time": "2023-11-07T12:07:48.845Z"
   },
   {
    "duration": 211,
    "start_time": "2023-11-07T12:08:00.383Z"
   },
   {
    "duration": 204,
    "start_time": "2023-11-07T12:08:08.024Z"
   },
   {
    "duration": 203,
    "start_time": "2023-11-07T12:08:11.510Z"
   },
   {
    "duration": 196,
    "start_time": "2023-11-07T12:08:27.449Z"
   },
   {
    "duration": 202,
    "start_time": "2023-11-07T12:08:47.769Z"
   },
   {
    "duration": 203,
    "start_time": "2023-11-07T12:08:55.000Z"
   },
   {
    "duration": 308,
    "start_time": "2023-11-07T12:09:08.594Z"
   },
   {
    "duration": 298,
    "start_time": "2023-11-07T12:09:39.350Z"
   },
   {
    "duration": 481,
    "start_time": "2023-11-07T12:09:58.206Z"
   },
   {
    "duration": 216,
    "start_time": "2023-11-07T12:10:10.356Z"
   },
   {
    "duration": 242,
    "start_time": "2023-11-07T12:10:14.776Z"
   },
   {
    "duration": 258,
    "start_time": "2023-11-07T12:10:28.450Z"
   },
   {
    "duration": 228,
    "start_time": "2023-11-07T12:10:37.718Z"
   },
   {
    "duration": 185,
    "start_time": "2023-11-07T12:10:51.377Z"
   },
   {
    "duration": 222,
    "start_time": "2023-11-07T12:10:57.092Z"
   },
   {
    "duration": 208,
    "start_time": "2023-11-07T12:11:00.379Z"
   },
   {
    "duration": 201,
    "start_time": "2023-11-07T12:11:09.694Z"
   },
   {
    "duration": 507,
    "start_time": "2023-11-07T12:13:16.933Z"
   },
   {
    "duration": 321,
    "start_time": "2023-11-07T12:13:30.175Z"
   },
   {
    "duration": 174,
    "start_time": "2023-11-07T12:13:34.415Z"
   },
   {
    "duration": 155,
    "start_time": "2023-11-07T12:13:41.974Z"
   },
   {
    "duration": 167,
    "start_time": "2023-11-07T12:13:48.045Z"
   },
   {
    "duration": 172,
    "start_time": "2023-11-07T12:14:02.598Z"
   },
   {
    "duration": 178,
    "start_time": "2023-11-07T12:14:09.998Z"
   },
   {
    "duration": 16,
    "start_time": "2023-11-07T12:16:05.891Z"
   },
   {
    "duration": 185,
    "start_time": "2023-11-07T12:16:17.503Z"
   },
   {
    "duration": 178,
    "start_time": "2023-11-07T12:17:05.819Z"
   },
   {
    "duration": 178,
    "start_time": "2023-11-07T12:17:16.189Z"
   },
   {
    "duration": 160,
    "start_time": "2023-11-07T12:17:28.485Z"
   },
   {
    "duration": 169,
    "start_time": "2023-11-07T12:17:36.778Z"
   },
   {
    "duration": 92,
    "start_time": "2023-11-07T12:18:19.509Z"
   },
   {
    "duration": 91,
    "start_time": "2023-11-07T12:18:30.412Z"
   },
   {
    "duration": 174,
    "start_time": "2023-11-07T12:18:33.994Z"
   },
   {
    "duration": 16,
    "start_time": "2023-11-07T12:19:05.636Z"
   },
   {
    "duration": 435,
    "start_time": "2023-11-07T12:21:35.914Z"
   },
   {
    "duration": 288,
    "start_time": "2023-11-07T12:21:48.291Z"
   },
   {
    "duration": 274,
    "start_time": "2023-11-07T12:22:10.967Z"
   },
   {
    "duration": 16,
    "start_time": "2023-11-07T12:23:10.797Z"
   },
   {
    "duration": 754,
    "start_time": "2023-11-07T12:24:31.976Z"
   },
   {
    "duration": 379,
    "start_time": "2023-11-07T12:27:17.192Z"
   },
   {
    "duration": 5,
    "start_time": "2023-11-07T12:27:17.956Z"
   },
   {
    "duration": 182,
    "start_time": "2023-11-07T12:27:19.043Z"
   },
   {
    "duration": 225,
    "start_time": "2023-11-07T12:27:21.265Z"
   },
   {
    "duration": 227,
    "start_time": "2023-11-07T12:27:22.089Z"
   },
   {
    "duration": 239,
    "start_time": "2023-11-07T12:27:22.735Z"
   },
   {
    "duration": 326,
    "start_time": "2023-11-07T12:27:23.778Z"
   },
   {
    "duration": 177,
    "start_time": "2023-11-07T12:27:29.343Z"
   },
   {
    "duration": 159,
    "start_time": "2023-11-07T12:30:23.258Z"
   },
   {
    "duration": 212,
    "start_time": "2023-11-07T12:30:36.170Z"
   },
   {
    "duration": 168,
    "start_time": "2023-11-07T12:30:46.021Z"
   },
   {
    "duration": 147,
    "start_time": "2023-11-07T12:32:13.228Z"
   },
   {
    "duration": 344,
    "start_time": "2023-11-07T12:32:30.782Z"
   },
   {
    "duration": 246,
    "start_time": "2023-11-07T12:33:42.951Z"
   },
   {
    "duration": 739,
    "start_time": "2023-11-07T16:55:41.873Z"
   },
   {
    "duration": 17,
    "start_time": "2023-11-07T16:55:43.364Z"
   },
   {
    "duration": 2599,
    "start_time": "2023-11-07T16:55:43.611Z"
   },
   {
    "duration": 11,
    "start_time": "2023-11-07T16:55:46.212Z"
   },
   {
    "duration": 9,
    "start_time": "2023-11-07T16:55:46.225Z"
   },
   {
    "duration": 8,
    "start_time": "2023-11-07T16:55:46.236Z"
   },
   {
    "duration": 7,
    "start_time": "2023-11-07T16:55:46.246Z"
   },
   {
    "duration": 5,
    "start_time": "2023-11-07T16:55:46.255Z"
   },
   {
    "duration": 12,
    "start_time": "2023-11-07T16:55:46.262Z"
   },
   {
    "duration": 357,
    "start_time": "2023-11-07T16:55:46.278Z"
   },
   {
    "duration": 8,
    "start_time": "2023-11-07T16:55:46.684Z"
   },
   {
    "duration": 208,
    "start_time": "2023-11-07T16:58:45.669Z"
   },
   {
    "duration": 154,
    "start_time": "2023-11-07T16:59:07.341Z"
   },
   {
    "duration": 215,
    "start_time": "2023-11-07T16:59:14.718Z"
   },
   {
    "duration": 211,
    "start_time": "2023-11-07T17:00:04.869Z"
   },
   {
    "duration": 198,
    "start_time": "2023-11-07T17:00:19.490Z"
   },
   {
    "duration": 334,
    "start_time": "2023-11-07T17:00:53.606Z"
   },
   {
    "duration": 209,
    "start_time": "2023-11-07T17:00:57.652Z"
   },
   {
    "duration": 209,
    "start_time": "2023-11-07T17:01:01.896Z"
   },
   {
    "duration": 192,
    "start_time": "2023-11-07T17:01:13.269Z"
   },
   {
    "duration": 196,
    "start_time": "2023-11-07T17:01:20.753Z"
   },
   {
    "duration": 159,
    "start_time": "2023-11-07T17:01:25.437Z"
   },
   {
    "duration": 182,
    "start_time": "2023-11-07T17:01:29.951Z"
   },
   {
    "duration": 310,
    "start_time": "2023-11-07T17:01:35.834Z"
   },
   {
    "duration": 201,
    "start_time": "2023-11-07T17:01:41.978Z"
   },
   {
    "duration": 240,
    "start_time": "2023-11-07T17:02:02.369Z"
   },
   {
    "duration": 288,
    "start_time": "2023-11-07T17:02:15.777Z"
   },
   {
    "duration": 186,
    "start_time": "2023-11-07T17:02:21.747Z"
   },
   {
    "duration": 15,
    "start_time": "2023-11-07T17:26:49.771Z"
   },
   {
    "duration": 8,
    "start_time": "2023-11-07T17:28:43.916Z"
   },
   {
    "duration": 10,
    "start_time": "2023-11-07T17:28:54.029Z"
   },
   {
    "duration": 8,
    "start_time": "2023-11-07T17:29:23.031Z"
   },
   {
    "duration": 8,
    "start_time": "2023-11-07T17:30:01.688Z"
   },
   {
    "duration": 11,
    "start_time": "2023-11-07T17:31:53.293Z"
   },
   {
    "duration": 8,
    "start_time": "2023-11-07T17:31:58.589Z"
   },
   {
    "duration": 12,
    "start_time": "2023-11-07T17:32:15.532Z"
   },
   {
    "duration": 15,
    "start_time": "2023-11-07T17:32:27.892Z"
   },
   {
    "duration": 16,
    "start_time": "2023-11-07T17:32:39.874Z"
   },
   {
    "duration": 15,
    "start_time": "2023-11-07T17:33:03.065Z"
   },
   {
    "duration": 10,
    "start_time": "2023-11-07T17:35:01.034Z"
   },
   {
    "duration": 9,
    "start_time": "2023-11-07T17:35:04.014Z"
   },
   {
    "duration": 9,
    "start_time": "2023-11-07T17:35:10.862Z"
   },
   {
    "duration": 10,
    "start_time": "2023-11-07T17:37:25.786Z"
   },
   {
    "duration": 31,
    "start_time": "2023-11-07T17:37:31.188Z"
   },
   {
    "duration": 28,
    "start_time": "2023-11-07T17:37:43.307Z"
   },
   {
    "duration": 5,
    "start_time": "2023-11-07T17:39:06.619Z"
   },
   {
    "duration": 108,
    "start_time": "2023-11-07T17:41:07.293Z"
   },
   {
    "duration": 71,
    "start_time": "2023-11-07T17:41:56.137Z"
   },
   {
    "duration": 7,
    "start_time": "2023-11-07T17:42:11.930Z"
   },
   {
    "duration": 4,
    "start_time": "2023-11-07T17:42:32.482Z"
   },
   {
    "duration": 5,
    "start_time": "2023-11-07T17:43:16.749Z"
   },
   {
    "duration": 737,
    "start_time": "2023-11-08T11:14:22.970Z"
   },
   {
    "duration": 15,
    "start_time": "2023-11-08T11:14:24.254Z"
   },
   {
    "duration": 2644,
    "start_time": "2023-11-08T11:14:24.474Z"
   },
   {
    "duration": 17,
    "start_time": "2023-11-08T11:14:27.119Z"
   },
   {
    "duration": 22,
    "start_time": "2023-11-08T11:14:27.137Z"
   },
   {
    "duration": 32,
    "start_time": "2023-11-08T11:14:27.161Z"
   },
   {
    "duration": 13,
    "start_time": "2023-11-08T11:14:27.195Z"
   },
   {
    "duration": 10,
    "start_time": "2023-11-08T11:14:27.210Z"
   },
   {
    "duration": 22,
    "start_time": "2023-11-08T11:14:27.221Z"
   },
   {
    "duration": 254,
    "start_time": "2023-11-08T11:14:27.245Z"
   },
   {
    "duration": 8,
    "start_time": "2023-11-08T11:14:27.501Z"
   },
   {
    "duration": 20,
    "start_time": "2023-11-08T11:14:27.524Z"
   },
   {
    "duration": 20,
    "start_time": "2023-11-08T11:14:27.546Z"
   },
   {
    "duration": 10,
    "start_time": "2023-11-08T11:14:27.568Z"
   },
   {
    "duration": 19,
    "start_time": "2023-11-08T11:14:27.580Z"
   },
   {
    "duration": 7,
    "start_time": "2023-11-08T11:14:27.600Z"
   },
   {
    "duration": 293,
    "start_time": "2023-11-08T11:14:27.608Z"
   },
   {
    "duration": 5,
    "start_time": "2023-11-08T11:14:27.902Z"
   },
   {
    "duration": 28,
    "start_time": "2023-11-08T11:14:27.908Z"
   },
   {
    "duration": 5,
    "start_time": "2023-11-08T11:14:28.029Z"
   },
   {
    "duration": 4,
    "start_time": "2023-11-08T11:14:28.238Z"
   },
   {
    "duration": 209,
    "start_time": "2023-11-08T11:14:29.234Z"
   },
   {
    "duration": 221,
    "start_time": "2023-11-08T11:14:29.477Z"
   },
   {
    "duration": 316,
    "start_time": "2023-11-08T11:14:30.534Z"
   },
   {
    "duration": 244,
    "start_time": "2023-11-08T11:14:31.543Z"
   },
   {
    "duration": 326,
    "start_time": "2023-11-08T11:14:32.043Z"
   },
   {
    "duration": 171,
    "start_time": "2023-11-08T11:14:32.696Z"
   },
   {
    "duration": 195,
    "start_time": "2023-11-08T11:14:34.077Z"
   },
   {
    "duration": 4,
    "start_time": "2023-11-08T11:30:07.852Z"
   },
   {
    "duration": 5,
    "start_time": "2023-11-08T11:30:36.349Z"
   },
   {
    "duration": 3,
    "start_time": "2023-11-08T11:33:39.789Z"
   },
   {
    "duration": 162,
    "start_time": "2023-11-08T11:36:44.786Z"
   },
   {
    "duration": 244,
    "start_time": "2023-11-08T11:37:09.670Z"
   },
   {
    "duration": 177,
    "start_time": "2023-11-08T11:37:13.770Z"
   },
   {
    "duration": 174,
    "start_time": "2023-11-08T11:37:29.658Z"
   },
   {
    "duration": 275,
    "start_time": "2023-11-08T11:37:45.500Z"
   },
   {
    "duration": 6,
    "start_time": "2023-11-08T11:37:54.400Z"
   },
   {
    "duration": 5,
    "start_time": "2023-11-08T11:38:26.276Z"
   },
   {
    "duration": 197,
    "start_time": "2023-11-08T11:44:53.990Z"
   },
   {
    "duration": 217,
    "start_time": "2023-11-08T11:45:04.550Z"
   },
   {
    "duration": 205,
    "start_time": "2023-11-08T11:45:22.379Z"
   },
   {
    "duration": 229,
    "start_time": "2023-11-08T11:45:29.145Z"
   },
   {
    "duration": 260,
    "start_time": "2023-11-08T11:46:08.714Z"
   },
   {
    "duration": 0,
    "start_time": "2023-11-08T11:48:20.117Z"
   },
   {
    "duration": 1754,
    "start_time": "2023-11-08T11:48:25.816Z"
   },
   {
    "duration": 2158,
    "start_time": "2023-11-08T11:48:27.950Z"
   },
   {
    "duration": 3,
    "start_time": "2023-11-08T11:48:43.168Z"
   },
   {
    "duration": 6,
    "start_time": "2023-11-08T11:48:49.571Z"
   },
   {
    "duration": 5,
    "start_time": "2023-11-08T11:49:07.706Z"
   },
   {
    "duration": 7,
    "start_time": "2023-11-08T11:49:13.808Z"
   },
   {
    "duration": 881,
    "start_time": "2023-11-08T11:49:23.487Z"
   },
   {
    "duration": 1727,
    "start_time": "2023-11-08T11:49:44.142Z"
   },
   {
    "duration": 13,
    "start_time": "2023-11-08T11:51:17.853Z"
   },
   {
    "duration": 7,
    "start_time": "2023-11-08T11:51:48.054Z"
   },
   {
    "duration": 38,
    "start_time": "2023-11-08T11:52:34.022Z"
   },
   {
    "duration": 254,
    "start_time": "2023-11-08T11:53:30.119Z"
   },
   {
    "duration": 201,
    "start_time": "2023-11-08T11:55:17.502Z"
   },
   {
    "duration": 196,
    "start_time": "2023-11-08T11:56:12.753Z"
   },
   {
    "duration": 187,
    "start_time": "2023-11-08T11:57:39.496Z"
   },
   {
    "duration": 216,
    "start_time": "2023-11-08T11:57:53.204Z"
   },
   {
    "duration": 223,
    "start_time": "2023-11-08T11:58:06.563Z"
   },
   {
    "duration": 319,
    "start_time": "2023-11-08T11:58:22.821Z"
   },
   {
    "duration": 219,
    "start_time": "2023-11-08T11:58:53.282Z"
   },
   {
    "duration": 332,
    "start_time": "2023-11-08T11:59:07.191Z"
   },
   {
    "duration": 124,
    "start_time": "2023-11-08T12:02:59.646Z"
   },
   {
    "duration": 590,
    "start_time": "2023-11-08T12:03:56.517Z"
   },
   {
    "duration": 354,
    "start_time": "2023-11-08T12:04:07.257Z"
   },
   {
    "duration": 503,
    "start_time": "2023-11-08T12:04:10.988Z"
   },
   {
    "duration": 345,
    "start_time": "2023-11-08T12:04:23.328Z"
   },
   {
    "duration": 193,
    "start_time": "2023-11-08T12:05:31.691Z"
   },
   {
    "duration": 272,
    "start_time": "2023-11-08T12:05:55.720Z"
   },
   {
    "duration": 219,
    "start_time": "2023-11-08T12:06:12.596Z"
   },
   {
    "duration": 204,
    "start_time": "2023-11-08T12:07:02.771Z"
   },
   {
    "duration": 353,
    "start_time": "2023-11-08T12:07:08.283Z"
   },
   {
    "duration": 262,
    "start_time": "2023-11-08T12:07:27.349Z"
   },
   {
    "duration": 127,
    "start_time": "2023-11-08T12:07:37.969Z"
   },
   {
    "duration": 347,
    "start_time": "2023-11-08T12:07:43.459Z"
   },
   {
    "duration": 486,
    "start_time": "2023-11-08T12:08:12.802Z"
   },
   {
    "duration": 401,
    "start_time": "2023-11-08T12:08:30.152Z"
   },
   {
    "duration": 340,
    "start_time": "2023-11-08T12:08:34.466Z"
   },
   {
    "duration": 363,
    "start_time": "2023-11-08T12:08:42.092Z"
   },
   {
    "duration": 356,
    "start_time": "2023-11-08T12:10:10.310Z"
   },
   {
    "duration": 4,
    "start_time": "2023-11-08T12:10:16.359Z"
   },
   {
    "duration": 523,
    "start_time": "2023-11-08T12:10:16.652Z"
   },
   {
    "duration": 343,
    "start_time": "2023-11-08T12:10:53.750Z"
   },
   {
    "duration": 373,
    "start_time": "2023-11-08T12:12:02.595Z"
   },
   {
    "duration": 367,
    "start_time": "2023-11-08T12:12:37.450Z"
   },
   {
    "duration": 186,
    "start_time": "2023-11-08T12:13:04.997Z"
   },
   {
    "duration": 182,
    "start_time": "2023-11-08T12:16:53.252Z"
   },
   {
    "duration": 154,
    "start_time": "2023-11-08T12:17:11.651Z"
   },
   {
    "duration": 12,
    "start_time": "2023-11-08T12:17:22.068Z"
   },
   {
    "duration": 12,
    "start_time": "2023-11-08T12:18:14.190Z"
   },
   {
    "duration": 7,
    "start_time": "2023-11-08T12:24:47.544Z"
   },
   {
    "duration": 5,
    "start_time": "2023-11-08T12:24:55.398Z"
   },
   {
    "duration": 4,
    "start_time": "2023-11-08T12:24:57.599Z"
   },
   {
    "duration": 339,
    "start_time": "2023-11-08T12:26:57.145Z"
   },
   {
    "duration": 374,
    "start_time": "2023-11-08T12:27:00.711Z"
   },
   {
    "duration": 551,
    "start_time": "2023-11-08T12:27:04.011Z"
   },
   {
    "duration": 382,
    "start_time": "2023-11-08T12:27:08.223Z"
   },
   {
    "duration": 357,
    "start_time": "2023-11-08T12:27:11.979Z"
   },
   {
    "duration": 48,
    "start_time": "2023-11-08T12:27:48.053Z"
   },
   {
    "duration": 2489,
    "start_time": "2023-11-08T12:27:57.790Z"
   },
   {
    "duration": 11,
    "start_time": "2023-11-08T12:29:41.063Z"
   },
   {
    "duration": 11,
    "start_time": "2023-11-08T12:32:27.940Z"
   },
   {
    "duration": 1965,
    "start_time": "2023-11-08T12:33:03.443Z"
   },
   {
    "duration": 1234,
    "start_time": "2023-11-08T12:35:43.760Z"
   },
   {
    "duration": 359,
    "start_time": "2023-11-08T12:37:10.497Z"
   },
   {
    "duration": 322,
    "start_time": "2023-11-08T12:38:26.063Z"
   },
   {
    "duration": 537,
    "start_time": "2023-11-08T12:38:33.009Z"
   },
   {
    "duration": 335,
    "start_time": "2023-11-08T12:38:43.053Z"
   },
   {
    "duration": 280,
    "start_time": "2023-11-08T12:38:54.514Z"
   },
   {
    "duration": 307,
    "start_time": "2023-11-08T12:39:07.514Z"
   },
   {
    "duration": 337,
    "start_time": "2023-11-08T12:39:11.281Z"
   },
   {
    "duration": 10,
    "start_time": "2023-11-08T12:41:04.505Z"
   },
   {
    "duration": 9,
    "start_time": "2023-11-08T12:41:17.162Z"
   },
   {
    "duration": 359,
    "start_time": "2023-11-08T12:42:25.174Z"
   },
   {
    "duration": 427,
    "start_time": "2023-11-08T12:42:30.440Z"
   },
   {
    "duration": 335,
    "start_time": "2023-11-08T12:42:58.175Z"
   },
   {
    "duration": 339,
    "start_time": "2023-11-08T12:48:48.302Z"
   },
   {
    "duration": 359,
    "start_time": "2023-11-08T12:49:40.816Z"
   },
   {
    "duration": 635,
    "start_time": "2023-11-08T12:53:09.837Z"
   },
   {
    "duration": 369,
    "start_time": "2023-11-08T12:53:25.017Z"
   },
   {
    "duration": 385,
    "start_time": "2023-11-08T12:55:16.523Z"
   },
   {
    "duration": 331,
    "start_time": "2023-11-08T12:55:21.550Z"
   },
   {
    "duration": 332,
    "start_time": "2023-11-08T12:55:26.484Z"
   },
   {
    "duration": 396,
    "start_time": "2023-11-08T12:55:39.704Z"
   },
   {
    "duration": 13,
    "start_time": "2023-11-08T13:03:03.896Z"
   },
   {
    "duration": 14,
    "start_time": "2023-11-08T13:03:06.243Z"
   },
   {
    "duration": 13,
    "start_time": "2023-11-08T13:03:28.354Z"
   },
   {
    "duration": 4,
    "start_time": "2023-11-08T13:13:49.083Z"
   },
   {
    "duration": 6018,
    "start_time": "2023-11-08T13:14:58.935Z"
   },
   {
    "duration": 188,
    "start_time": "2023-11-08T13:15:27.460Z"
   },
   {
    "duration": 26,
    "start_time": "2023-11-08T13:24:07.189Z"
   },
   {
    "duration": 22,
    "start_time": "2023-11-08T13:24:45.983Z"
   },
   {
    "duration": 9,
    "start_time": "2023-11-08T13:25:00.145Z"
   },
   {
    "duration": 6,
    "start_time": "2023-11-08T13:30:07.443Z"
   },
   {
    "duration": 7,
    "start_time": "2023-11-08T13:30:19.410Z"
   },
   {
    "duration": 25,
    "start_time": "2023-11-08T13:34:58.788Z"
   },
   {
    "duration": 27,
    "start_time": "2023-11-08T13:39:41.844Z"
   },
   {
    "duration": 2249,
    "start_time": "2023-11-08T13:39:54.117Z"
   },
   {
    "duration": 174,
    "start_time": "2023-11-08T13:40:14.092Z"
   },
   {
    "duration": 170,
    "start_time": "2023-11-08T13:40:50.084Z"
   },
   {
    "duration": 164,
    "start_time": "2023-11-08T13:41:10.639Z"
   },
   {
    "duration": 163,
    "start_time": "2023-11-08T13:41:22.249Z"
   },
   {
    "duration": 186,
    "start_time": "2023-11-08T13:43:25.181Z"
   },
   {
    "duration": 6,
    "start_time": "2023-11-08T13:46:04.958Z"
   },
   {
    "duration": 140,
    "start_time": "2023-11-08T13:46:48.255Z"
   },
   {
    "duration": 32,
    "start_time": "2023-11-08T13:46:50.418Z"
   },
   {
    "duration": 2625,
    "start_time": "2023-11-08T13:46:50.944Z"
   },
   {
    "duration": 10,
    "start_time": "2023-11-08T13:46:53.571Z"
   },
   {
    "duration": 31,
    "start_time": "2023-11-08T13:46:53.582Z"
   },
   {
    "duration": 35,
    "start_time": "2023-11-08T13:46:53.615Z"
   },
   {
    "duration": 48,
    "start_time": "2023-11-08T13:46:53.654Z"
   },
   {
    "duration": 43,
    "start_time": "2023-11-08T13:46:53.704Z"
   },
   {
    "duration": 35,
    "start_time": "2023-11-08T13:46:53.749Z"
   },
   {
    "duration": 372,
    "start_time": "2023-11-08T13:46:53.786Z"
   },
   {
    "duration": 9,
    "start_time": "2023-11-08T13:46:54.161Z"
   },
   {
    "duration": 15,
    "start_time": "2023-11-08T13:46:54.173Z"
   },
   {
    "duration": 22,
    "start_time": "2023-11-08T13:46:54.190Z"
   },
   {
    "duration": 30,
    "start_time": "2023-11-08T13:46:54.214Z"
   },
   {
    "duration": 17,
    "start_time": "2023-11-08T13:46:54.246Z"
   },
   {
    "duration": 34,
    "start_time": "2023-11-08T13:46:54.265Z"
   },
   {
    "duration": 4,
    "start_time": "2023-11-08T13:46:54.357Z"
   },
   {
    "duration": 7,
    "start_time": "2023-11-08T13:46:55.274Z"
   },
   {
    "duration": 8,
    "start_time": "2023-11-08T13:46:55.785Z"
   },
   {
    "duration": 7,
    "start_time": "2023-11-08T13:46:56.014Z"
   },
   {
    "duration": 11,
    "start_time": "2023-11-08T13:46:56.222Z"
   },
   {
    "duration": 376,
    "start_time": "2023-11-08T13:46:56.413Z"
   },
   {
    "duration": 6,
    "start_time": "2023-11-08T13:46:56.791Z"
   },
   {
    "duration": 229,
    "start_time": "2023-11-08T13:46:57.649Z"
   },
   {
    "duration": 291,
    "start_time": "2023-11-08T13:46:57.881Z"
   },
   {
    "duration": 278,
    "start_time": "2023-11-08T13:46:58.174Z"
   },
   {
    "duration": 251,
    "start_time": "2023-11-08T13:46:58.454Z"
   },
   {
    "duration": 378,
    "start_time": "2023-11-08T13:46:58.707Z"
   },
   {
    "duration": 251,
    "start_time": "2023-11-08T13:46:59.087Z"
   },
   {
    "duration": 295,
    "start_time": "2023-11-08T13:46:59.340Z"
   },
   {
    "duration": 201,
    "start_time": "2023-11-08T13:47:00.303Z"
   },
   {
    "duration": 9,
    "start_time": "2023-11-08T13:47:01.123Z"
   },
   {
    "duration": 5,
    "start_time": "2023-11-08T13:47:01.713Z"
   },
   {
    "duration": 15,
    "start_time": "2023-11-08T13:47:02.176Z"
   },
   {
    "duration": 359,
    "start_time": "2023-11-08T13:47:02.401Z"
   },
   {
    "duration": 382,
    "start_time": "2023-11-08T13:47:02.905Z"
   },
   {
    "duration": 239,
    "start_time": "2023-11-08T13:47:03.892Z"
   },
   {
    "duration": 10,
    "start_time": "2023-11-08T13:47:04.155Z"
   },
   {
    "duration": 125,
    "start_time": "2023-11-08T13:47:04.367Z"
   },
   {
    "duration": 253,
    "start_time": "2023-11-08T13:47:04.597Z"
   },
   {
    "duration": 209,
    "start_time": "2023-11-08T13:47:04.853Z"
   },
   {
    "duration": 184,
    "start_time": "2023-11-08T13:47:05.095Z"
   },
   {
    "duration": 5,
    "start_time": "2023-11-08T13:47:05.351Z"
   },
   {
    "duration": 6,
    "start_time": "2023-11-08T13:47:05.581Z"
   },
   {
    "duration": 188,
    "start_time": "2023-11-08T13:47:14.489Z"
   },
   {
    "duration": 184,
    "start_time": "2023-11-08T13:47:27.487Z"
   },
   {
    "duration": 183,
    "start_time": "2023-11-08T13:47:38.668Z"
   },
   {
    "duration": 193,
    "start_time": "2023-11-08T13:48:18.178Z"
   },
   {
    "duration": 200,
    "start_time": "2023-11-08T13:49:04.467Z"
   },
   {
    "duration": 745,
    "start_time": "2023-11-09T11:23:32.780Z"
   },
   {
    "duration": 16,
    "start_time": "2023-11-09T11:23:34.344Z"
   },
   {
    "duration": 2477,
    "start_time": "2023-11-09T11:23:34.581Z"
   },
   {
    "duration": 9,
    "start_time": "2023-11-09T11:23:37.060Z"
   },
   {
    "duration": 20,
    "start_time": "2023-11-09T11:23:37.071Z"
   },
   {
    "duration": 12,
    "start_time": "2023-11-09T11:23:37.093Z"
   },
   {
    "duration": 14,
    "start_time": "2023-11-09T11:23:37.106Z"
   },
   {
    "duration": 16,
    "start_time": "2023-11-09T11:23:37.122Z"
   },
   {
    "duration": 26,
    "start_time": "2023-11-09T11:23:37.140Z"
   },
   {
    "duration": 291,
    "start_time": "2023-11-09T11:23:37.168Z"
   },
   {
    "duration": 8,
    "start_time": "2023-11-09T11:23:37.461Z"
   },
   {
    "duration": 11,
    "start_time": "2023-11-09T11:23:37.472Z"
   },
   {
    "duration": 17,
    "start_time": "2023-11-09T11:23:37.485Z"
   },
   {
    "duration": 5,
    "start_time": "2023-11-09T11:23:37.506Z"
   },
   {
    "duration": 4,
    "start_time": "2023-11-09T11:23:37.513Z"
   },
   {
    "duration": 9,
    "start_time": "2023-11-09T11:23:37.518Z"
   },
   {
    "duration": 3,
    "start_time": "2023-11-09T11:23:37.808Z"
   },
   {
    "duration": 77,
    "start_time": "2023-11-09T11:36:30.545Z"
   },
   {
    "duration": 12,
    "start_time": "2023-11-09T11:37:03.844Z"
   },
   {
    "duration": 111,
    "start_time": "2023-11-09T11:37:11.600Z"
   },
   {
    "duration": 16,
    "start_time": "2023-11-09T11:37:12.404Z"
   },
   {
    "duration": 1880,
    "start_time": "2023-11-09T11:37:12.819Z"
   },
   {
    "duration": 8,
    "start_time": "2023-11-09T11:37:14.707Z"
   },
   {
    "duration": 11,
    "start_time": "2023-11-09T11:37:14.716Z"
   },
   {
    "duration": 33,
    "start_time": "2023-11-09T11:37:14.729Z"
   },
   {
    "duration": 19,
    "start_time": "2023-11-09T11:37:14.763Z"
   },
   {
    "duration": 6,
    "start_time": "2023-11-09T11:37:14.785Z"
   },
   {
    "duration": 23,
    "start_time": "2023-11-09T11:37:14.793Z"
   },
   {
    "duration": 264,
    "start_time": "2023-11-09T11:37:14.818Z"
   },
   {
    "duration": 8,
    "start_time": "2023-11-09T11:37:15.084Z"
   },
   {
    "duration": 48,
    "start_time": "2023-11-09T11:37:15.094Z"
   },
   {
    "duration": 39,
    "start_time": "2023-11-09T11:37:15.144Z"
   },
   {
    "duration": 5,
    "start_time": "2023-11-09T11:37:15.303Z"
   },
   {
    "duration": 4,
    "start_time": "2023-11-09T11:37:15.502Z"
   },
   {
    "duration": 4,
    "start_time": "2023-11-09T11:37:15.903Z"
   },
   {
    "duration": 4,
    "start_time": "2023-11-09T11:37:16.314Z"
   },
   {
    "duration": 9,
    "start_time": "2023-11-09T11:37:17.133Z"
   },
   {
    "duration": 6,
    "start_time": "2023-11-09T11:37:17.335Z"
   },
   {
    "duration": 6,
    "start_time": "2023-11-09T11:37:17.539Z"
   },
   {
    "duration": 5,
    "start_time": "2023-11-09T11:37:17.750Z"
   },
   {
    "duration": 273,
    "start_time": "2023-11-09T11:37:17.965Z"
   },
   {
    "duration": 5,
    "start_time": "2023-11-09T11:37:18.240Z"
   },
   {
    "duration": 183,
    "start_time": "2023-11-09T11:37:19.381Z"
   },
   {
    "duration": 225,
    "start_time": "2023-11-09T11:37:19.674Z"
   },
   {
    "duration": 197,
    "start_time": "2023-11-09T11:37:19.936Z"
   },
   {
    "duration": 216,
    "start_time": "2023-11-09T11:37:20.176Z"
   },
   {
    "duration": 388,
    "start_time": "2023-11-09T11:37:20.452Z"
   },
   {
    "duration": 166,
    "start_time": "2023-11-09T11:37:21.603Z"
   },
   {
    "duration": 231,
    "start_time": "2023-11-09T11:37:22.484Z"
   },
   {
    "duration": 150,
    "start_time": "2023-11-09T11:37:23.490Z"
   },
   {
    "duration": 6,
    "start_time": "2023-11-09T11:37:23.686Z"
   },
   {
    "duration": 6,
    "start_time": "2023-11-09T11:37:23.981Z"
   },
   {
    "duration": 13,
    "start_time": "2023-11-09T11:37:24.183Z"
   },
   {
    "duration": 281,
    "start_time": "2023-11-09T11:37:24.390Z"
   },
   {
    "duration": 293,
    "start_time": "2023-11-09T11:37:24.836Z"
   },
   {
    "duration": 152,
    "start_time": "2023-11-09T11:37:25.284Z"
   },
   {
    "duration": 173,
    "start_time": "2023-11-09T11:37:26.405Z"
   },
   {
    "duration": 271,
    "start_time": "2023-11-09T11:41:03.568Z"
   },
   {
    "duration": 167,
    "start_time": "2023-11-09T11:41:10.488Z"
   },
   {
    "duration": 163,
    "start_time": "2023-11-09T11:41:14.223Z"
   },
   {
    "duration": 157,
    "start_time": "2023-11-09T11:41:18.994Z"
   },
   {
    "duration": 184,
    "start_time": "2023-11-09T11:41:48.462Z"
   },
   {
    "duration": 187,
    "start_time": "2023-11-09T11:42:14.547Z"
   },
   {
    "duration": 165,
    "start_time": "2023-11-09T11:42:59.168Z"
   },
   {
    "duration": 146,
    "start_time": "2023-11-09T11:43:09.876Z"
   },
   {
    "duration": 156,
    "start_time": "2023-11-09T11:44:10.111Z"
   },
   {
    "duration": 141,
    "start_time": "2023-11-09T11:44:18.260Z"
   },
   {
    "duration": 169,
    "start_time": "2023-11-09T11:44:30.900Z"
   },
   {
    "duration": 3,
    "start_time": "2023-11-09T11:45:36.930Z"
   },
   {
    "duration": 156,
    "start_time": "2023-11-09T11:45:44.709Z"
   },
   {
    "duration": 151,
    "start_time": "2023-11-09T11:45:49.000Z"
   },
   {
    "duration": 109,
    "start_time": "2023-11-09T11:45:56.203Z"
   },
   {
    "duration": 14,
    "start_time": "2023-11-09T11:45:56.905Z"
   },
   {
    "duration": 1907,
    "start_time": "2023-11-09T11:45:57.074Z"
   },
   {
    "duration": 7,
    "start_time": "2023-11-09T11:45:58.983Z"
   },
   {
    "duration": 20,
    "start_time": "2023-11-09T11:45:58.992Z"
   },
   {
    "duration": 13,
    "start_time": "2023-11-09T11:45:59.014Z"
   },
   {
    "duration": 7,
    "start_time": "2023-11-09T11:45:59.029Z"
   },
   {
    "duration": 7,
    "start_time": "2023-11-09T11:45:59.038Z"
   },
   {
    "duration": 9,
    "start_time": "2023-11-09T11:45:59.046Z"
   },
   {
    "duration": 255,
    "start_time": "2023-11-09T11:45:59.057Z"
   },
   {
    "duration": 8,
    "start_time": "2023-11-09T11:45:59.313Z"
   },
   {
    "duration": 32,
    "start_time": "2023-11-09T11:45:59.323Z"
   },
   {
    "duration": 22,
    "start_time": "2023-11-09T11:45:59.357Z"
   },
   {
    "duration": 5,
    "start_time": "2023-11-09T11:45:59.605Z"
   },
   {
    "duration": 4,
    "start_time": "2023-11-09T11:45:59.760Z"
   },
   {
    "duration": 5,
    "start_time": "2023-11-09T11:46:00.468Z"
   },
   {
    "duration": 4,
    "start_time": "2023-11-09T11:46:00.843Z"
   },
   {
    "duration": 3,
    "start_time": "2023-11-09T11:46:01.204Z"
   },
   {
    "duration": 7,
    "start_time": "2023-11-09T11:46:01.560Z"
   },
   {
    "duration": 6,
    "start_time": "2023-11-09T11:46:01.749Z"
   },
   {
    "duration": 6,
    "start_time": "2023-11-09T11:46:01.932Z"
   },
   {
    "duration": 6,
    "start_time": "2023-11-09T11:46:02.130Z"
   },
   {
    "duration": 269,
    "start_time": "2023-11-09T11:46:02.298Z"
   },
   {
    "duration": 6,
    "start_time": "2023-11-09T11:46:02.569Z"
   },
   {
    "duration": 174,
    "start_time": "2023-11-09T11:46:03.416Z"
   },
   {
    "duration": 217,
    "start_time": "2023-11-09T11:46:03.592Z"
   },
   {
    "duration": 325,
    "start_time": "2023-11-09T11:46:03.811Z"
   },
   {
    "duration": 217,
    "start_time": "2023-11-09T11:46:04.138Z"
   },
   {
    "duration": 305,
    "start_time": "2023-11-09T11:46:04.357Z"
   },
   {
    "duration": 174,
    "start_time": "2023-11-09T11:46:04.664Z"
   },
   {
    "duration": 193,
    "start_time": "2023-11-09T11:46:04.841Z"
   },
   {
    "duration": 158,
    "start_time": "2023-11-09T11:46:05.036Z"
   },
   {
    "duration": 14,
    "start_time": "2023-11-09T11:46:05.197Z"
   },
   {
    "duration": 5,
    "start_time": "2023-11-09T11:46:05.272Z"
   },
   {
    "duration": 12,
    "start_time": "2023-11-09T11:46:05.462Z"
   },
   {
    "duration": 292,
    "start_time": "2023-11-09T11:46:05.658Z"
   },
   {
    "duration": 344,
    "start_time": "2023-11-09T11:46:06.012Z"
   },
   {
    "duration": 146,
    "start_time": "2023-11-09T11:46:06.401Z"
   },
   {
    "duration": 167,
    "start_time": "2023-11-09T11:46:06.581Z"
   },
   {
    "duration": 7,
    "start_time": "2023-11-09T11:46:58.329Z"
   },
   {
    "duration": 155,
    "start_time": "2023-11-09T11:47:19.213Z"
   },
   {
    "duration": 1726,
    "start_time": "2023-11-09T11:47:34.585Z"
   },
   {
    "duration": 312,
    "start_time": "2023-11-09T11:47:46.742Z"
   },
   {
    "duration": 7,
    "start_time": "2023-11-09T11:54:21.156Z"
   },
   {
    "duration": 147,
    "start_time": "2023-11-09T11:55:52.172Z"
   },
   {
    "duration": 177,
    "start_time": "2023-11-09T11:56:12.533Z"
   },
   {
    "duration": 157,
    "start_time": "2023-11-09T11:57:30.997Z"
   },
   {
    "duration": 157,
    "start_time": "2023-11-09T11:57:55.498Z"
   },
   {
    "duration": 724,
    "start_time": "2023-11-09T12:00:15.311Z"
   },
   {
    "duration": 157,
    "start_time": "2023-11-09T12:01:24.276Z"
   },
   {
    "duration": 161,
    "start_time": "2023-11-09T12:01:42.941Z"
   },
   {
    "duration": 165,
    "start_time": "2023-11-09T12:01:47.368Z"
   },
   {
    "duration": 168,
    "start_time": "2023-11-09T12:01:54.183Z"
   },
   {
    "duration": 152,
    "start_time": "2023-11-09T12:01:58.452Z"
   },
   {
    "duration": 165,
    "start_time": "2023-11-09T12:02:10.140Z"
   },
   {
    "duration": 148,
    "start_time": "2023-11-09T12:03:50.537Z"
   },
   {
    "duration": 142,
    "start_time": "2023-11-09T12:08:29.990Z"
   },
   {
    "duration": 141,
    "start_time": "2023-11-09T12:08:33.927Z"
   },
   {
    "duration": 171,
    "start_time": "2023-11-09T12:08:39.600Z"
   },
   {
    "duration": 24,
    "start_time": "2023-11-09T12:09:29.181Z"
   },
   {
    "duration": 6,
    "start_time": "2023-11-09T12:10:46.733Z"
   },
   {
    "duration": 5,
    "start_time": "2023-11-09T12:10:50.852Z"
   },
   {
    "duration": 5,
    "start_time": "2023-11-09T12:10:51.037Z"
   },
   {
    "duration": 5,
    "start_time": "2023-11-09T12:10:51.214Z"
   },
   {
    "duration": 272,
    "start_time": "2023-11-09T12:10:51.392Z"
   },
   {
    "duration": 4,
    "start_time": "2023-11-09T12:10:51.666Z"
   },
   {
    "duration": 221,
    "start_time": "2023-11-09T12:10:52.403Z"
   },
   {
    "duration": 237,
    "start_time": "2023-11-09T12:10:52.626Z"
   },
   {
    "duration": 208,
    "start_time": "2023-11-09T12:10:52.865Z"
   },
   {
    "duration": 383,
    "start_time": "2023-11-09T12:10:53.075Z"
   },
   {
    "duration": 297,
    "start_time": "2023-11-09T12:10:53.677Z"
   },
   {
    "duration": 167,
    "start_time": "2023-11-09T12:10:53.976Z"
   },
   {
    "duration": 177,
    "start_time": "2023-11-09T12:10:54.146Z"
   },
   {
    "duration": 150,
    "start_time": "2023-11-09T12:10:54.488Z"
   },
   {
    "duration": 5,
    "start_time": "2023-11-09T12:10:54.689Z"
   },
   {
    "duration": 4,
    "start_time": "2023-11-09T12:10:54.902Z"
   },
   {
    "duration": 11,
    "start_time": "2023-11-09T12:10:55.096Z"
   },
   {
    "duration": 287,
    "start_time": "2023-11-09T12:10:55.297Z"
   },
   {
    "duration": 291,
    "start_time": "2023-11-09T12:10:56.412Z"
   },
   {
    "duration": 146,
    "start_time": "2023-11-09T12:10:57.848Z"
   },
   {
    "duration": 167,
    "start_time": "2023-11-09T12:11:10.378Z"
   },
   {
    "duration": 143,
    "start_time": "2023-11-09T12:11:14.548Z"
   },
   {
    "duration": 19,
    "start_time": "2023-11-09T12:11:23.100Z"
   },
   {
    "duration": 21,
    "start_time": "2023-11-09T12:11:32.197Z"
   },
   {
    "duration": 39,
    "start_time": "2023-11-09T12:17:16.147Z"
   },
   {
    "duration": 28,
    "start_time": "2023-11-09T12:17:38.255Z"
   },
   {
    "duration": 24,
    "start_time": "2023-11-09T12:18:39.993Z"
   },
   {
    "duration": 161,
    "start_time": "2023-11-09T12:19:15.249Z"
   },
   {
    "duration": 172,
    "start_time": "2023-11-09T12:19:20.107Z"
   },
   {
    "duration": 8,
    "start_time": "2023-11-09T12:24:58.402Z"
   },
   {
    "duration": 10,
    "start_time": "2023-11-09T12:25:04.467Z"
   },
   {
    "duration": 10,
    "start_time": "2023-11-09T12:25:12.283Z"
   },
   {
    "duration": 135,
    "start_time": "2023-11-09T12:25:20.960Z"
   },
   {
    "duration": 116,
    "start_time": "2023-11-09T12:27:13.662Z"
   },
   {
    "duration": 119,
    "start_time": "2023-11-09T12:27:19.990Z"
   },
   {
    "duration": 312,
    "start_time": "2023-11-09T12:27:22.457Z"
   },
   {
    "duration": 121,
    "start_time": "2023-11-09T12:27:30.555Z"
   },
   {
    "duration": 27,
    "start_time": "2023-11-09T12:28:26.382Z"
   },
   {
    "duration": 25,
    "start_time": "2023-11-09T12:29:00.781Z"
   },
   {
    "duration": 25,
    "start_time": "2023-11-09T12:29:27.295Z"
   },
   {
    "duration": 24,
    "start_time": "2023-11-09T12:30:52.925Z"
   },
   {
    "duration": 138,
    "start_time": "2023-11-09T12:31:04.085Z"
   },
   {
    "duration": 25,
    "start_time": "2023-11-09T12:31:06.906Z"
   },
   {
    "duration": 20,
    "start_time": "2023-11-09T12:34:17.874Z"
   },
   {
    "duration": 18,
    "start_time": "2023-11-09T12:34:39.127Z"
   },
   {
    "duration": 22,
    "start_time": "2023-11-09T12:38:01.967Z"
   },
   {
    "duration": 26,
    "start_time": "2023-11-09T12:38:13.164Z"
   },
   {
    "duration": 31,
    "start_time": "2023-11-09T12:38:32.628Z"
   },
   {
    "duration": 21,
    "start_time": "2023-11-09T12:38:36.834Z"
   },
   {
    "duration": 154,
    "start_time": "2023-11-09T12:38:44.963Z"
   },
   {
    "duration": 27,
    "start_time": "2023-11-09T12:39:10.173Z"
   },
   {
    "duration": 149,
    "start_time": "2023-11-09T12:39:28.849Z"
   },
   {
    "duration": 21,
    "start_time": "2023-11-09T12:44:03.954Z"
   },
   {
    "duration": 25,
    "start_time": "2023-11-09T12:44:17.738Z"
   },
   {
    "duration": 25,
    "start_time": "2023-11-09T12:44:29.506Z"
   },
   {
    "duration": 156,
    "start_time": "2023-11-09T12:49:18.130Z"
   },
   {
    "duration": 25,
    "start_time": "2023-11-09T12:49:32.903Z"
   },
   {
    "duration": 1428,
    "start_time": "2023-11-09T12:49:51.705Z"
   },
   {
    "duration": 24,
    "start_time": "2023-11-09T12:49:57.065Z"
   },
   {
    "duration": 107,
    "start_time": "2023-11-09T12:50:41.672Z"
   },
   {
    "duration": 157,
    "start_time": "2023-11-09T12:50:45.029Z"
   },
   {
    "duration": 220,
    "start_time": "2023-11-09T13:00:30.683Z"
   },
   {
    "duration": 12,
    "start_time": "2023-11-09T13:00:47.983Z"
   },
   {
    "duration": 26,
    "start_time": "2023-11-09T13:02:12.121Z"
   },
   {
    "duration": 22,
    "start_time": "2023-11-09T13:02:43.404Z"
   },
   {
    "duration": 19,
    "start_time": "2023-11-09T13:02:58.716Z"
   },
   {
    "duration": 27,
    "start_time": "2023-11-09T13:03:52.449Z"
   },
   {
    "duration": 25,
    "start_time": "2023-11-09T13:04:03.280Z"
   },
   {
    "duration": 25,
    "start_time": "2023-11-09T13:04:10.879Z"
   },
   {
    "duration": 18,
    "start_time": "2023-11-09T13:04:21.169Z"
   },
   {
    "duration": 239,
    "start_time": "2023-11-09T13:05:12.953Z"
   },
   {
    "duration": 222,
    "start_time": "2023-11-09T13:05:22.932Z"
   },
   {
    "duration": 77,
    "start_time": "2023-11-09T13:05:29.890Z"
   },
   {
    "duration": 88,
    "start_time": "2023-11-09T13:05:33.567Z"
   },
   {
    "duration": 79,
    "start_time": "2023-11-09T13:05:36.066Z"
   },
   {
    "duration": 337,
    "start_time": "2023-11-09T13:06:00.003Z"
   },
   {
    "duration": 94,
    "start_time": "2023-11-09T13:06:12.669Z"
   },
   {
    "duration": 79,
    "start_time": "2023-11-09T13:06:23.523Z"
   },
   {
    "duration": 110,
    "start_time": "2023-11-09T13:10:00.979Z"
   },
   {
    "duration": 20,
    "start_time": "2023-11-09T13:10:02.135Z"
   },
   {
    "duration": 1816,
    "start_time": "2023-11-09T13:10:02.745Z"
   },
   {
    "duration": 10,
    "start_time": "2023-11-09T13:10:04.563Z"
   },
   {
    "duration": 5,
    "start_time": "2023-11-09T13:10:05.787Z"
   },
   {
    "duration": 6,
    "start_time": "2023-11-09T13:10:06.017Z"
   },
   {
    "duration": 5,
    "start_time": "2023-11-09T13:10:06.230Z"
   },
   {
    "duration": 3,
    "start_time": "2023-11-09T13:10:06.418Z"
   },
   {
    "duration": 8,
    "start_time": "2023-11-09T13:10:06.608Z"
   },
   {
    "duration": 252,
    "start_time": "2023-11-09T13:10:06.796Z"
   },
   {
    "duration": 8,
    "start_time": "2023-11-09T13:10:07.050Z"
   },
   {
    "duration": 11,
    "start_time": "2023-11-09T13:10:07.164Z"
   },
   {
    "duration": 4,
    "start_time": "2023-11-09T13:10:07.347Z"
   },
   {
    "duration": 4,
    "start_time": "2023-11-09T13:10:07.527Z"
   },
   {
    "duration": 3,
    "start_time": "2023-11-09T13:10:07.705Z"
   },
   {
    "duration": 4,
    "start_time": "2023-11-09T13:10:08.084Z"
   },
   {
    "duration": 4,
    "start_time": "2023-11-09T13:10:08.432Z"
   },
   {
    "duration": 6,
    "start_time": "2023-11-09T13:10:09.184Z"
   },
   {
    "duration": 6,
    "start_time": "2023-11-09T13:10:09.357Z"
   },
   {
    "duration": 6,
    "start_time": "2023-11-09T13:10:09.533Z"
   },
   {
    "duration": 5,
    "start_time": "2023-11-09T13:10:09.717Z"
   },
   {
    "duration": 474,
    "start_time": "2023-11-09T13:10:09.905Z"
   },
   {
    "duration": 5,
    "start_time": "2023-11-09T13:10:10.382Z"
   },
   {
    "duration": 198,
    "start_time": "2023-11-09T13:10:11.001Z"
   },
   {
    "duration": 230,
    "start_time": "2023-11-09T13:10:11.200Z"
   },
   {
    "duration": 241,
    "start_time": "2023-11-09T13:10:11.432Z"
   },
   {
    "duration": 228,
    "start_time": "2023-11-09T13:10:11.674Z"
   },
   {
    "duration": 339,
    "start_time": "2023-11-09T13:10:11.907Z"
   },
   {
    "duration": 171,
    "start_time": "2023-11-09T13:10:12.247Z"
   },
   {
    "duration": 206,
    "start_time": "2023-11-09T13:10:12.420Z"
   },
   {
    "duration": 169,
    "start_time": "2023-11-09T13:10:12.628Z"
   },
   {
    "duration": 8,
    "start_time": "2023-11-09T13:10:12.799Z"
   },
   {
    "duration": 4,
    "start_time": "2023-11-09T13:10:12.849Z"
   },
   {
    "duration": 12,
    "start_time": "2023-11-09T13:10:13.039Z"
   },
   {
    "duration": 307,
    "start_time": "2023-11-09T13:10:13.230Z"
   },
   {
    "duration": 20,
    "start_time": "2023-11-09T13:10:13.539Z"
   },
   {
    "duration": 332,
    "start_time": "2023-11-09T13:10:13.982Z"
   },
   {
    "duration": 151,
    "start_time": "2023-11-09T13:10:14.409Z"
   },
   {
    "duration": 178,
    "start_time": "2023-11-09T13:10:14.630Z"
   },
   {
    "duration": 145,
    "start_time": "2023-11-09T13:10:14.936Z"
   },
   {
    "duration": 172,
    "start_time": "2023-11-09T13:10:16.254Z"
   },
   {
    "duration": 19,
    "start_time": "2023-11-09T13:10:16.854Z"
   },
   {
    "duration": 28,
    "start_time": "2023-11-09T13:15:49.337Z"
   },
   {
    "duration": 314,
    "start_time": "2023-11-09T13:16:45.929Z"
   },
   {
    "duration": 27,
    "start_time": "2023-11-09T13:17:50.181Z"
   },
   {
    "duration": 184,
    "start_time": "2023-11-09T13:18:17.404Z"
   },
   {
    "duration": 167,
    "start_time": "2023-11-09T13:18:30.776Z"
   },
   {
    "duration": 130,
    "start_time": "2023-11-09T13:18:38.372Z"
   },
   {
    "duration": 25,
    "start_time": "2023-11-09T13:18:45.341Z"
   },
   {
    "duration": 152,
    "start_time": "2023-11-09T13:18:53.760Z"
   },
   {
    "duration": 23,
    "start_time": "2023-11-09T13:19:56.166Z"
   },
   {
    "duration": 26,
    "start_time": "2023-11-09T13:20:04.216Z"
   },
   {
    "duration": 34,
    "start_time": "2023-11-09T13:21:41.615Z"
   },
   {
    "duration": 583,
    "start_time": "2023-11-09T13:22:04.601Z"
   },
   {
    "duration": 1985,
    "start_time": "2023-11-09T13:22:20.886Z"
   },
   {
    "duration": 762,
    "start_time": "2023-11-09T13:22:25.745Z"
   },
   {
    "duration": 1453,
    "start_time": "2023-11-09T13:22:35.650Z"
   },
   {
    "duration": 1806,
    "start_time": "2023-11-09T13:22:52.694Z"
   },
   {
    "duration": 172,
    "start_time": "2023-11-09T13:23:37.483Z"
   },
   {
    "duration": 153,
    "start_time": "2023-11-09T13:24:28.296Z"
   },
   {
    "duration": 31,
    "start_time": "2023-11-09T13:28:48.559Z"
   },
   {
    "duration": 38,
    "start_time": "2023-11-09T13:29:08.039Z"
   },
   {
    "duration": 31,
    "start_time": "2023-11-09T13:29:12.174Z"
   },
   {
    "duration": 28,
    "start_time": "2023-11-09T13:29:20.468Z"
   },
   {
    "duration": 26,
    "start_time": "2023-11-09T13:29:35.508Z"
   },
   {
    "duration": 27,
    "start_time": "2023-11-09T13:29:59.055Z"
   },
   {
    "duration": 27,
    "start_time": "2023-11-09T13:30:00.779Z"
   },
   {
    "duration": 41,
    "start_time": "2023-11-09T13:30:06.029Z"
   },
   {
    "duration": 145,
    "start_time": "2023-11-09T13:30:40.874Z"
   },
   {
    "duration": 149,
    "start_time": "2023-11-09T13:31:10.264Z"
   },
   {
    "duration": 128,
    "start_time": "2023-11-09T13:31:38.214Z"
   },
   {
    "duration": 144,
    "start_time": "2023-11-09T13:32:37.034Z"
   },
   {
    "duration": 136,
    "start_time": "2023-11-09T13:32:48.263Z"
   },
   {
    "duration": 142,
    "start_time": "2023-11-09T13:33:24.571Z"
   },
   {
    "duration": 148,
    "start_time": "2023-11-09T13:33:49.923Z"
   },
   {
    "duration": 143,
    "start_time": "2023-11-09T13:33:58.652Z"
   },
   {
    "duration": 144,
    "start_time": "2023-11-09T13:36:10.313Z"
   },
   {
    "duration": 174,
    "start_time": "2023-11-09T13:36:45.366Z"
   },
   {
    "duration": 157,
    "start_time": "2023-11-09T13:44:33.633Z"
   },
   {
    "duration": 147,
    "start_time": "2023-11-09T13:50:00.298Z"
   },
   {
    "duration": 198,
    "start_time": "2023-11-09T13:50:32.546Z"
   },
   {
    "duration": 170,
    "start_time": "2023-11-09T13:51:55.242Z"
   },
   {
    "duration": 174,
    "start_time": "2023-11-09T13:52:38.250Z"
   },
   {
    "duration": 161,
    "start_time": "2023-11-09T13:53:27.819Z"
   },
   {
    "duration": 156,
    "start_time": "2023-11-09T13:53:43.051Z"
   },
   {
    "duration": 162,
    "start_time": "2023-11-09T13:53:58.995Z"
   },
   {
    "duration": 165,
    "start_time": "2023-11-09T13:54:16.390Z"
   },
   {
    "duration": 85,
    "start_time": "2023-11-09T13:54:25.930Z"
   },
   {
    "duration": 72,
    "start_time": "2023-11-09T13:56:49.450Z"
   },
   {
    "duration": 72,
    "start_time": "2023-11-09T13:57:14.895Z"
   },
   {
    "duration": 158,
    "start_time": "2023-11-09T13:57:35.272Z"
   },
   {
    "duration": 1704,
    "start_time": "2023-11-09T13:57:59.852Z"
   },
   {
    "duration": 136,
    "start_time": "2023-11-09T13:58:21.014Z"
   },
   {
    "duration": 151,
    "start_time": "2023-11-09T13:59:32.864Z"
   },
   {
    "duration": 60,
    "start_time": "2023-11-09T14:00:02.623Z"
   },
   {
    "duration": 33,
    "start_time": "2023-11-09T14:00:31.453Z"
   },
   {
    "duration": 44,
    "start_time": "2023-11-09T14:00:35.164Z"
   },
   {
    "duration": 40,
    "start_time": "2023-11-09T14:00:57.033Z"
   },
   {
    "duration": 26,
    "start_time": "2023-11-09T14:01:17.835Z"
   },
   {
    "duration": 23,
    "start_time": "2023-11-09T14:02:48.067Z"
   },
   {
    "duration": 149,
    "start_time": "2023-11-09T14:02:49.072Z"
   },
   {
    "duration": 145,
    "start_time": "2023-11-09T14:02:52.985Z"
   },
   {
    "duration": 24,
    "start_time": "2023-11-09T14:02:55.711Z"
   },
   {
    "duration": 166,
    "start_time": "2023-11-09T14:03:22.871Z"
   },
   {
    "duration": 165,
    "start_time": "2023-11-09T14:03:42.204Z"
   },
   {
    "duration": 165,
    "start_time": "2023-11-09T14:03:54.730Z"
   },
   {
    "duration": 161,
    "start_time": "2023-11-09T14:04:15.542Z"
   },
   {
    "duration": 173,
    "start_time": "2023-11-09T14:04:26.532Z"
   },
   {
    "duration": 147,
    "start_time": "2023-11-09T14:05:33.046Z"
   },
   {
    "duration": 186,
    "start_time": "2023-11-09T14:05:58.373Z"
   },
   {
    "duration": 2411,
    "start_time": "2023-11-09T14:12:45.269Z"
   },
   {
    "duration": 228,
    "start_time": "2023-11-09T14:13:08.331Z"
   },
   {
    "duration": 491,
    "start_time": "2023-11-09T14:13:17.995Z"
   },
   {
    "duration": 219,
    "start_time": "2023-11-09T14:13:33.635Z"
   },
   {
    "duration": 219,
    "start_time": "2023-11-09T14:13:43.823Z"
   },
   {
    "duration": 246,
    "start_time": "2023-11-09T14:14:36.412Z"
   },
   {
    "duration": 238,
    "start_time": "2023-11-09T14:15:07.429Z"
   },
   {
    "duration": 191,
    "start_time": "2023-11-09T14:15:27.733Z"
   },
   {
    "duration": 231,
    "start_time": "2023-11-09T14:15:34.859Z"
   },
   {
    "duration": 259,
    "start_time": "2023-11-09T14:15:45.266Z"
   },
   {
    "duration": 217,
    "start_time": "2023-11-09T14:15:50.633Z"
   },
   {
    "duration": 103,
    "start_time": "2023-11-09T14:18:15.489Z"
   },
   {
    "duration": 324,
    "start_time": "2023-11-09T14:19:21.290Z"
   },
   {
    "duration": 244,
    "start_time": "2023-11-09T14:19:55.744Z"
   },
   {
    "duration": 236,
    "start_time": "2023-11-09T14:22:15.614Z"
   },
   {
    "duration": 244,
    "start_time": "2023-11-09T14:23:09.335Z"
   },
   {
    "duration": 265,
    "start_time": "2023-11-09T14:25:36.713Z"
   },
   {
    "duration": 230,
    "start_time": "2023-11-09T14:26:52.029Z"
   },
   {
    "duration": 2240,
    "start_time": "2023-11-09T14:28:56.883Z"
   },
   {
    "duration": 2738,
    "start_time": "2023-11-09T14:29:36.113Z"
   },
   {
    "duration": 137,
    "start_time": "2023-11-09T14:29:41.470Z"
   },
   {
    "duration": 221,
    "start_time": "2023-11-09T14:29:47.415Z"
   },
   {
    "duration": 225,
    "start_time": "2023-11-09T14:30:56.608Z"
   },
   {
    "duration": 267,
    "start_time": "2023-11-09T14:32:12.617Z"
   },
   {
    "duration": 241,
    "start_time": "2023-11-09T14:33:05.423Z"
   },
   {
    "duration": 2401,
    "start_time": "2023-11-09T14:33:39.323Z"
   },
   {
    "duration": 222,
    "start_time": "2023-11-09T14:35:24.679Z"
   },
   {
    "duration": 222,
    "start_time": "2023-11-09T14:35:51.840Z"
   },
   {
    "duration": 244,
    "start_time": "2023-11-09T14:36:09.962Z"
   },
   {
    "duration": 1100,
    "start_time": "2023-11-09T14:36:25.203Z"
   },
   {
    "duration": 191,
    "start_time": "2023-11-09T14:36:40.694Z"
   },
   {
    "duration": 192,
    "start_time": "2023-11-09T14:37:22.303Z"
   },
   {
    "duration": 189,
    "start_time": "2023-11-09T14:37:34.204Z"
   },
   {
    "duration": 201,
    "start_time": "2023-11-09T14:37:38.632Z"
   },
   {
    "duration": 199,
    "start_time": "2023-11-09T14:37:53.064Z"
   },
   {
    "duration": 171,
    "start_time": "2023-11-09T14:38:14.325Z"
   },
   {
    "duration": 185,
    "start_time": "2023-11-09T14:38:24.754Z"
   },
   {
    "duration": 208,
    "start_time": "2023-11-09T14:39:04.261Z"
   },
   {
    "duration": 143,
    "start_time": "2023-11-09T14:47:29.653Z"
   },
   {
    "duration": 20,
    "start_time": "2023-11-09T14:58:32.024Z"
   },
   {
    "duration": 8,
    "start_time": "2023-11-09T14:59:47.506Z"
   },
   {
    "duration": 8,
    "start_time": "2023-11-09T14:59:57.026Z"
   },
   {
    "duration": 9,
    "start_time": "2023-11-09T15:00:11.249Z"
   },
   {
    "duration": 20,
    "start_time": "2023-11-09T15:00:28.905Z"
   },
   {
    "duration": 7,
    "start_time": "2023-11-09T15:00:53.037Z"
   },
   {
    "duration": 8,
    "start_time": "2023-11-09T15:01:07.804Z"
   },
   {
    "duration": 7,
    "start_time": "2023-11-09T15:01:15.144Z"
   },
   {
    "duration": 6,
    "start_time": "2023-11-09T15:02:04.350Z"
   },
   {
    "duration": 9,
    "start_time": "2023-11-09T15:02:13.728Z"
   },
   {
    "duration": 10,
    "start_time": "2023-11-09T15:04:21.143Z"
   },
   {
    "duration": 9,
    "start_time": "2023-11-09T15:04:24.920Z"
   },
   {
    "duration": 10,
    "start_time": "2023-11-09T15:04:40.372Z"
   },
   {
    "duration": 9,
    "start_time": "2023-11-09T15:04:48.996Z"
   },
   {
    "duration": 9,
    "start_time": "2023-11-09T15:05:00.461Z"
   },
   {
    "duration": 9,
    "start_time": "2023-11-09T15:05:08.345Z"
   },
   {
    "duration": 9,
    "start_time": "2023-11-09T15:05:18.398Z"
   },
   {
    "duration": 10,
    "start_time": "2023-11-09T15:06:06.166Z"
   },
   {
    "duration": 4,
    "start_time": "2023-11-09T15:08:52.930Z"
   },
   {
    "duration": 13,
    "start_time": "2023-11-09T15:09:07.905Z"
   },
   {
    "duration": 10,
    "start_time": "2023-11-09T15:09:49.546Z"
   },
   {
    "duration": 9,
    "start_time": "2023-11-09T15:09:52.844Z"
   },
   {
    "duration": 9,
    "start_time": "2023-11-09T15:09:57.340Z"
   },
   {
    "duration": 11,
    "start_time": "2023-11-09T15:11:18.439Z"
   },
   {
    "duration": 6,
    "start_time": "2023-11-09T15:11:34.302Z"
   },
   {
    "duration": 12,
    "start_time": "2023-11-09T15:11:40.999Z"
   },
   {
    "duration": 4,
    "start_time": "2023-11-09T15:12:14.982Z"
   },
   {
    "duration": 5,
    "start_time": "2023-11-09T15:12:18.901Z"
   },
   {
    "duration": 46,
    "start_time": "2023-11-09T15:12:23.600Z"
   },
   {
    "duration": 20,
    "start_time": "2023-11-09T15:12:40.494Z"
   },
   {
    "duration": 423,
    "start_time": "2023-11-09T15:12:59.125Z"
   },
   {
    "duration": 636,
    "start_time": "2023-11-09T15:13:15.522Z"
   },
   {
    "duration": 10,
    "start_time": "2023-11-09T15:14:29.247Z"
   },
   {
    "duration": 11,
    "start_time": "2023-11-09T15:14:35.918Z"
   },
   {
    "duration": 8,
    "start_time": "2023-11-09T15:14:40.471Z"
   },
   {
    "duration": 5,
    "start_time": "2023-11-09T15:14:51.683Z"
   },
   {
    "duration": 111,
    "start_time": "2023-11-09T15:49:46.910Z"
   },
   {
    "duration": 16,
    "start_time": "2023-11-09T15:49:47.065Z"
   },
   {
    "duration": 2175,
    "start_time": "2023-11-09T15:49:47.233Z"
   },
   {
    "duration": 12,
    "start_time": "2023-11-09T15:49:49.410Z"
   },
   {
    "duration": 6,
    "start_time": "2023-11-09T15:49:49.424Z"
   },
   {
    "duration": 32,
    "start_time": "2023-11-09T15:49:49.432Z"
   },
   {
    "duration": 13,
    "start_time": "2023-11-09T15:49:49.466Z"
   },
   {
    "duration": 8,
    "start_time": "2023-11-09T15:49:49.481Z"
   },
   {
    "duration": 79,
    "start_time": "2023-11-09T15:49:49.491Z"
   },
   {
    "duration": 263,
    "start_time": "2023-11-09T15:49:49.572Z"
   },
   {
    "duration": 8,
    "start_time": "2023-11-09T15:49:49.837Z"
   },
   {
    "duration": 49,
    "start_time": "2023-11-09T15:49:49.847Z"
   },
   {
    "duration": 22,
    "start_time": "2023-11-09T15:49:49.898Z"
   },
   {
    "duration": 50,
    "start_time": "2023-11-09T15:49:49.922Z"
   },
   {
    "duration": 28,
    "start_time": "2023-11-09T15:49:49.974Z"
   },
   {
    "duration": 43,
    "start_time": "2023-11-09T15:49:50.004Z"
   },
   {
    "duration": 20,
    "start_time": "2023-11-09T15:49:50.049Z"
   },
   {
    "duration": 7,
    "start_time": "2023-11-09T15:49:50.668Z"
   },
   {
    "duration": 6,
    "start_time": "2023-11-09T15:49:50.830Z"
   },
   {
    "duration": 5,
    "start_time": "2023-11-09T15:49:51.004Z"
   },
   {
    "duration": 5,
    "start_time": "2023-11-09T15:49:51.180Z"
   },
   {
    "duration": 302,
    "start_time": "2023-11-09T15:49:51.352Z"
   },
   {
    "duration": 5,
    "start_time": "2023-11-09T15:49:51.657Z"
   },
   {
    "duration": 184,
    "start_time": "2023-11-09T15:49:52.362Z"
   },
   {
    "duration": 264,
    "start_time": "2023-11-09T15:49:52.548Z"
   },
   {
    "duration": 221,
    "start_time": "2023-11-09T15:49:52.814Z"
   },
   {
    "duration": 237,
    "start_time": "2023-11-09T15:49:53.037Z"
   },
   {
    "duration": 310,
    "start_time": "2023-11-09T15:49:53.276Z"
   },
   {
    "duration": 184,
    "start_time": "2023-11-09T15:49:53.588Z"
   },
   {
    "duration": 181,
    "start_time": "2023-11-09T15:49:53.774Z"
   },
   {
    "duration": 152,
    "start_time": "2023-11-09T15:49:53.956Z"
   },
   {
    "duration": 9,
    "start_time": "2023-11-09T15:50:11.338Z"
   },
   {
    "duration": 9,
    "start_time": "2023-11-09T15:50:15.039Z"
   },
   {
    "duration": 9,
    "start_time": "2023-11-09T15:50:21.754Z"
   },
   {
    "duration": 12,
    "start_time": "2023-11-09T15:50:26.290Z"
   },
   {
    "duration": 8,
    "start_time": "2023-11-09T15:50:29.795Z"
   },
   {
    "duration": 89,
    "start_time": "2023-11-09T15:51:23.601Z"
   },
   {
    "duration": 27,
    "start_time": "2023-11-09T15:51:27.431Z"
   },
   {
    "duration": 322,
    "start_time": "2023-11-09T15:51:33.022Z"
   },
   {
    "duration": 20,
    "start_time": "2023-11-09T15:51:36.234Z"
   },
   {
    "duration": 12,
    "start_time": "2023-11-09T15:53:20.257Z"
   },
   {
    "duration": 12,
    "start_time": "2023-11-09T15:53:31.355Z"
   },
   {
    "duration": 9,
    "start_time": "2023-11-09T15:54:08.239Z"
   },
   {
    "duration": 11,
    "start_time": "2023-11-09T15:54:12.801Z"
   },
   {
    "duration": 11,
    "start_time": "2023-11-09T15:54:21.239Z"
   },
   {
    "duration": 16,
    "start_time": "2023-11-09T16:00:29.029Z"
   },
   {
    "duration": 31,
    "start_time": "2023-11-09T16:00:40.114Z"
   },
   {
    "duration": 26,
    "start_time": "2023-11-09T16:01:44.737Z"
   },
   {
    "duration": 18,
    "start_time": "2023-11-09T16:01:59.691Z"
   },
   {
    "duration": 258,
    "start_time": "2023-11-09T16:02:40.053Z"
   },
   {
    "duration": 22,
    "start_time": "2023-11-09T16:03:01.868Z"
   },
   {
    "duration": 21,
    "start_time": "2023-11-09T16:03:21.910Z"
   },
   {
    "duration": 26,
    "start_time": "2023-11-09T16:03:26.561Z"
   },
   {
    "duration": 1318,
    "start_time": "2023-11-09T16:04:12.447Z"
   },
   {
    "duration": 191,
    "start_time": "2023-11-09T16:04:27.267Z"
   },
   {
    "duration": 70,
    "start_time": "2023-11-09T16:07:25.728Z"
   },
   {
    "duration": 1297,
    "start_time": "2023-11-09T16:07:39.044Z"
   },
   {
    "duration": 1479,
    "start_time": "2023-11-09T16:07:58.841Z"
   },
   {
    "duration": 1431,
    "start_time": "2023-11-09T16:09:04.195Z"
   },
   {
    "duration": 1233,
    "start_time": "2023-11-09T16:09:14.047Z"
   },
   {
    "duration": 1594,
    "start_time": "2023-11-09T16:09:32.607Z"
   },
   {
    "duration": 153,
    "start_time": "2023-11-09T16:10:12.756Z"
   },
   {
    "duration": 2294,
    "start_time": "2023-11-09T16:10:14.171Z"
   },
   {
    "duration": 1390,
    "start_time": "2023-11-09T16:10:49.107Z"
   },
   {
    "duration": 147,
    "start_time": "2023-11-09T16:11:31.415Z"
   },
   {
    "duration": 13,
    "start_time": "2023-11-09T16:16:06.672Z"
   },
   {
    "duration": 152,
    "start_time": "2023-11-09T16:16:14.338Z"
   },
   {
    "duration": 27,
    "start_time": "2023-11-09T16:17:11.866Z"
   },
   {
    "duration": 32,
    "start_time": "2023-11-09T16:17:21.966Z"
   },
   {
    "duration": 8,
    "start_time": "2023-11-09T16:17:32.828Z"
   },
   {
    "duration": 20,
    "start_time": "2023-11-09T17:28:37.006Z"
   },
   {
    "duration": 12,
    "start_time": "2023-11-09T17:28:45.012Z"
   },
   {
    "duration": 22,
    "start_time": "2023-11-09T17:28:50.917Z"
   },
   {
    "duration": 162,
    "start_time": "2023-11-09T17:28:58.315Z"
   },
   {
    "duration": 165,
    "start_time": "2023-11-09T17:29:11.158Z"
   },
   {
    "duration": 189,
    "start_time": "2023-11-09T17:29:32.653Z"
   },
   {
    "duration": 118,
    "start_time": "2023-11-09T17:30:37.799Z"
   },
   {
    "duration": 20,
    "start_time": "2023-11-09T17:30:41.538Z"
   },
   {
    "duration": 176,
    "start_time": "2023-11-09T17:30:51.936Z"
   },
   {
    "duration": 118,
    "start_time": "2023-11-09T17:30:59.241Z"
   },
   {
    "duration": 182,
    "start_time": "2023-11-09T17:31:19.019Z"
   },
   {
    "duration": 252,
    "start_time": "2023-11-09T17:31:23.620Z"
   },
   {
    "duration": 225,
    "start_time": "2023-11-09T17:31:37.312Z"
   },
   {
    "duration": 4,
    "start_time": "2023-11-09T17:31:58.174Z"
   },
   {
    "duration": 147,
    "start_time": "2023-11-09T17:32:09.201Z"
   },
   {
    "duration": 8,
    "start_time": "2023-11-09T17:32:28.021Z"
   },
   {
    "duration": 253,
    "start_time": "2023-11-09T17:33:27.356Z"
   },
   {
    "duration": 611,
    "start_time": "2023-11-09T17:33:37.606Z"
   },
   {
    "duration": 235,
    "start_time": "2023-11-09T17:34:38.188Z"
   },
   {
    "duration": 160,
    "start_time": "2023-11-09T17:34:53.954Z"
   },
   {
    "duration": 198,
    "start_time": "2023-11-09T17:35:03.023Z"
   },
   {
    "duration": 20,
    "start_time": "2023-11-09T17:35:51.185Z"
   },
   {
    "duration": 16,
    "start_time": "2023-11-09T17:35:55.169Z"
   },
   {
    "duration": 152,
    "start_time": "2023-11-09T17:36:22.358Z"
   },
   {
    "duration": 1300,
    "start_time": "2023-11-09T17:39:22.814Z"
   },
   {
    "duration": 1562,
    "start_time": "2023-11-09T17:39:41.143Z"
   },
   {
    "duration": 8,
    "start_time": "2023-11-09T17:39:54.162Z"
   },
   {
    "duration": 10,
    "start_time": "2023-11-09T17:40:01.987Z"
   },
   {
    "duration": 8,
    "start_time": "2023-11-09T17:40:23.500Z"
   },
   {
    "duration": 8,
    "start_time": "2023-11-09T17:40:30.131Z"
   },
   {
    "duration": 11,
    "start_time": "2023-11-09T17:40:36.367Z"
   },
   {
    "duration": 23,
    "start_time": "2023-11-09T17:41:46.226Z"
   },
   {
    "duration": 140,
    "start_time": "2023-11-09T17:41:58.658Z"
   },
   {
    "duration": 6,
    "start_time": "2023-11-09T17:42:03.282Z"
   },
   {
    "duration": 10,
    "start_time": "2023-11-09T17:42:13.426Z"
   },
   {
    "duration": 15,
    "start_time": "2023-11-09T17:42:29.034Z"
   },
   {
    "duration": 16,
    "start_time": "2023-11-09T17:42:55.964Z"
   },
   {
    "duration": 11,
    "start_time": "2023-11-09T17:43:55.250Z"
   },
   {
    "duration": 116,
    "start_time": "2023-11-09T17:44:26.814Z"
   },
   {
    "duration": 14,
    "start_time": "2023-11-09T17:44:30.333Z"
   },
   {
    "duration": 18,
    "start_time": "2023-11-09T17:44:46.435Z"
   },
   {
    "duration": 163,
    "start_time": "2023-11-09T17:45:09.202Z"
   },
   {
    "duration": 213,
    "start_time": "2023-11-09T17:45:21.585Z"
   },
   {
    "duration": 230,
    "start_time": "2023-11-09T17:45:37.697Z"
   },
   {
    "duration": 15,
    "start_time": "2023-11-09T17:46:49.827Z"
   },
   {
    "duration": 14,
    "start_time": "2023-11-09T17:47:05.636Z"
   },
   {
    "duration": 13,
    "start_time": "2023-11-09T17:47:09.790Z"
   },
   {
    "duration": 17,
    "start_time": "2023-11-09T17:47:22.562Z"
   },
   {
    "duration": 23,
    "start_time": "2023-11-09T17:47:40.547Z"
   },
   {
    "duration": 14,
    "start_time": "2023-11-09T17:48:06.668Z"
   },
   {
    "duration": 17,
    "start_time": "2023-11-09T17:48:14.281Z"
   },
   {
    "duration": 15,
    "start_time": "2023-11-09T17:48:38.117Z"
   },
   {
    "duration": 11,
    "start_time": "2023-11-09T17:48:41.252Z"
   },
   {
    "duration": 14,
    "start_time": "2023-11-09T17:50:51.953Z"
   },
   {
    "duration": 13,
    "start_time": "2023-11-09T17:53:02.924Z"
   },
   {
    "duration": 13,
    "start_time": "2023-11-09T17:53:07.669Z"
   },
   {
    "duration": 12,
    "start_time": "2023-11-09T17:53:10.251Z"
   },
   {
    "duration": 14,
    "start_time": "2023-11-09T17:53:16.044Z"
   },
   {
    "duration": 10,
    "start_time": "2023-11-09T17:53:24.924Z"
   },
   {
    "duration": 12,
    "start_time": "2023-11-09T17:53:27.673Z"
   },
   {
    "duration": 13,
    "start_time": "2023-11-09T17:53:52.930Z"
   },
   {
    "duration": 10,
    "start_time": "2023-11-09T17:53:58.439Z"
   },
   {
    "duration": 9,
    "start_time": "2023-11-09T17:54:10.638Z"
   },
   {
    "duration": 25,
    "start_time": "2023-11-09T17:54:30.630Z"
   },
   {
    "duration": 17,
    "start_time": "2023-11-09T17:54:36.798Z"
   },
   {
    "duration": 8,
    "start_time": "2023-11-09T17:54:41.725Z"
   },
   {
    "duration": 8,
    "start_time": "2023-11-09T17:54:58.450Z"
   },
   {
    "duration": 19,
    "start_time": "2023-11-09T17:55:07.638Z"
   },
   {
    "duration": 18,
    "start_time": "2023-11-09T17:55:18.248Z"
   },
   {
    "duration": 17,
    "start_time": "2023-11-09T17:55:24.999Z"
   },
   {
    "duration": 13,
    "start_time": "2023-11-09T17:55:39.226Z"
   },
   {
    "duration": 18,
    "start_time": "2023-11-09T17:55:42.111Z"
   },
   {
    "duration": 17,
    "start_time": "2023-11-09T17:55:45.149Z"
   },
   {
    "duration": 17,
    "start_time": "2023-11-09T17:57:00.873Z"
   },
   {
    "duration": 15,
    "start_time": "2023-11-09T17:57:03.763Z"
   },
   {
    "duration": 12,
    "start_time": "2023-11-09T17:57:28.245Z"
   },
   {
    "duration": 7,
    "start_time": "2023-11-09T17:57:53.297Z"
   },
   {
    "duration": 8,
    "start_time": "2023-11-09T17:58:02.043Z"
   },
   {
    "duration": 13,
    "start_time": "2023-11-09T17:58:35.495Z"
   },
   {
    "duration": 17,
    "start_time": "2023-11-09T17:58:50.420Z"
   },
   {
    "duration": 14,
    "start_time": "2023-11-09T17:58:58.398Z"
   },
   {
    "duration": 1202,
    "start_time": "2023-11-10T10:42:46.696Z"
   },
   {
    "duration": 22,
    "start_time": "2023-11-10T10:42:47.900Z"
   },
   {
    "duration": 2162,
    "start_time": "2023-11-10T10:42:47.924Z"
   },
   {
    "duration": 9,
    "start_time": "2023-11-10T10:42:50.089Z"
   },
   {
    "duration": 30,
    "start_time": "2023-11-10T10:42:50.100Z"
   },
   {
    "duration": 22,
    "start_time": "2023-11-10T10:42:50.132Z"
   },
   {
    "duration": 11,
    "start_time": "2023-11-10T10:42:50.155Z"
   },
   {
    "duration": 28,
    "start_time": "2023-11-10T10:42:50.168Z"
   },
   {
    "duration": 36,
    "start_time": "2023-11-10T10:42:50.198Z"
   },
   {
    "duration": 364,
    "start_time": "2023-11-10T10:42:50.237Z"
   },
   {
    "duration": 9,
    "start_time": "2023-11-10T10:42:50.603Z"
   },
   {
    "duration": 81,
    "start_time": "2023-11-10T10:42:50.614Z"
   },
   {
    "duration": 34,
    "start_time": "2023-11-10T10:42:50.697Z"
   },
   {
    "duration": 19,
    "start_time": "2023-11-10T10:42:50.733Z"
   },
   {
    "duration": 21,
    "start_time": "2023-11-10T10:42:50.754Z"
   },
   {
    "duration": 22,
    "start_time": "2023-11-10T10:42:50.777Z"
   },
   {
    "duration": 20,
    "start_time": "2023-11-10T10:42:50.801Z"
   },
   {
    "duration": 8,
    "start_time": "2023-11-10T10:42:51.334Z"
   },
   {
    "duration": 7,
    "start_time": "2023-11-10T10:42:51.527Z"
   },
   {
    "duration": 6,
    "start_time": "2023-11-10T10:42:51.730Z"
   },
   {
    "duration": 6,
    "start_time": "2023-11-10T10:42:51.935Z"
   },
   {
    "duration": 291,
    "start_time": "2023-11-10T10:42:52.135Z"
   },
   {
    "duration": 5,
    "start_time": "2023-11-10T10:42:52.428Z"
   },
   {
    "duration": 198,
    "start_time": "2023-11-10T10:42:53.366Z"
   },
   {
    "duration": 252,
    "start_time": "2023-11-10T10:42:53.570Z"
   },
   {
    "duration": 222,
    "start_time": "2023-11-10T10:42:54.095Z"
   },
   {
    "duration": 333,
    "start_time": "2023-11-10T10:42:54.319Z"
   },
   {
    "duration": 421,
    "start_time": "2023-11-10T10:42:54.655Z"
   },
   {
    "duration": 200,
    "start_time": "2023-11-10T10:42:55.079Z"
   },
   {
    "duration": 237,
    "start_time": "2023-11-10T10:42:55.281Z"
   },
   {
    "duration": 180,
    "start_time": "2023-11-10T10:42:55.520Z"
   },
   {
    "duration": 9,
    "start_time": "2023-11-10T10:42:55.703Z"
   },
   {
    "duration": 10,
    "start_time": "2023-11-10T10:42:55.715Z"
   },
   {
    "duration": 14,
    "start_time": "2023-11-10T10:42:55.883Z"
   },
   {
    "duration": 382,
    "start_time": "2023-11-10T10:42:56.093Z"
   },
   {
    "duration": 352,
    "start_time": "2023-11-10T10:42:56.500Z"
   },
   {
    "duration": 248,
    "start_time": "2023-11-10T10:42:56.889Z"
   },
   {
    "duration": 408,
    "start_time": "2023-11-10T10:42:57.747Z"
   },
   {
    "duration": 271,
    "start_time": "2023-11-10T10:42:58.157Z"
   },
   {
    "duration": 209,
    "start_time": "2023-11-10T10:42:58.451Z"
   },
   {
    "duration": 187,
    "start_time": "2023-11-10T10:42:59.599Z"
   },
   {
    "duration": 155,
    "start_time": "2023-11-10T10:43:00.620Z"
   },
   {
    "duration": 155,
    "start_time": "2023-11-10T10:43:01.788Z"
   },
   {
    "duration": 10,
    "start_time": "2023-11-10T10:43:48.559Z"
   },
   {
    "duration": 8,
    "start_time": "2023-11-10T10:44:21.624Z"
   },
   {
    "duration": 25,
    "start_time": "2023-11-10T10:47:26.483Z"
   },
   {
    "duration": 31,
    "start_time": "2023-11-10T10:47:34.228Z"
   },
   {
    "duration": 29,
    "start_time": "2023-11-10T10:47:43.775Z"
   },
   {
    "duration": 91,
    "start_time": "2023-11-10T10:48:12.347Z"
   },
   {
    "duration": 37,
    "start_time": "2023-11-10T10:48:14.732Z"
   },
   {
    "duration": 31,
    "start_time": "2023-11-10T10:48:30.625Z"
   },
   {
    "duration": 34,
    "start_time": "2023-11-10T10:48:37.502Z"
   },
   {
    "duration": 32,
    "start_time": "2023-11-10T10:48:46.070Z"
   },
   {
    "duration": 35,
    "start_time": "2023-11-10T10:48:50.170Z"
   },
   {
    "duration": 34,
    "start_time": "2023-11-10T10:48:56.241Z"
   },
   {
    "duration": 27,
    "start_time": "2023-11-10T10:49:10.669Z"
   },
   {
    "duration": 33,
    "start_time": "2023-11-10T10:49:17.659Z"
   },
   {
    "duration": 39,
    "start_time": "2023-11-10T10:49:57.482Z"
   },
   {
    "duration": 260,
    "start_time": "2023-11-10T10:51:42.893Z"
   },
   {
    "duration": 256,
    "start_time": "2023-11-10T10:52:45.045Z"
   },
   {
    "duration": 264,
    "start_time": "2023-11-10T10:52:56.947Z"
   },
   {
    "duration": 257,
    "start_time": "2023-11-10T10:53:07.230Z"
   },
   {
    "duration": 208,
    "start_time": "2023-11-10T10:53:26.093Z"
   },
   {
    "duration": 193,
    "start_time": "2023-11-10T10:53:35.156Z"
   },
   {
    "duration": 225,
    "start_time": "2023-11-10T10:53:37.724Z"
   },
   {
    "duration": 213,
    "start_time": "2023-11-10T10:53:55.238Z"
   },
   {
    "duration": 337,
    "start_time": "2023-11-10T10:54:09.848Z"
   },
   {
    "duration": 226,
    "start_time": "2023-11-10T10:55:38.019Z"
   },
   {
    "duration": 248,
    "start_time": "2023-11-10T10:55:56.111Z"
   },
   {
    "duration": 177,
    "start_time": "2023-11-10T10:56:10.019Z"
   },
   {
    "duration": 233,
    "start_time": "2023-11-10T10:56:12.839Z"
   },
   {
    "duration": 245,
    "start_time": "2023-11-10T10:58:59.707Z"
   },
   {
    "duration": 210,
    "start_time": "2023-11-10T10:59:08.641Z"
   },
   {
    "duration": 183,
    "start_time": "2023-11-10T11:00:02.343Z"
   },
   {
    "duration": 177,
    "start_time": "2023-11-10T11:00:15.627Z"
   },
   {
    "duration": 159,
    "start_time": "2023-11-10T11:00:25.532Z"
   },
   {
    "duration": 181,
    "start_time": "2023-11-10T11:00:29.807Z"
   },
   {
    "duration": 207,
    "start_time": "2023-11-10T11:00:40.856Z"
   },
   {
    "duration": 335,
    "start_time": "2023-11-10T11:01:07.700Z"
   },
   {
    "duration": 35,
    "start_time": "2023-11-10T11:02:41.784Z"
   },
   {
    "duration": 39,
    "start_time": "2023-11-10T11:02:50.939Z"
   },
   {
    "duration": 32,
    "start_time": "2023-11-10T11:03:02.044Z"
   },
   {
    "duration": 20,
    "start_time": "2023-11-10T11:04:50.567Z"
   },
   {
    "duration": 15,
    "start_time": "2023-11-10T11:04:57.793Z"
   },
   {
    "duration": 14,
    "start_time": "2023-11-10T11:05:09.092Z"
   },
   {
    "duration": 7,
    "start_time": "2023-11-10T11:05:17.141Z"
   },
   {
    "duration": 5,
    "start_time": "2023-11-10T11:05:20.571Z"
   },
   {
    "duration": 8,
    "start_time": "2023-11-10T11:07:42.715Z"
   },
   {
    "duration": 8,
    "start_time": "2023-11-10T11:07:53.543Z"
   },
   {
    "duration": 9,
    "start_time": "2023-11-10T11:07:57.276Z"
   },
   {
    "duration": 241,
    "start_time": "2023-11-10T11:09:30.423Z"
   },
   {
    "duration": 14,
    "start_time": "2023-11-10T11:09:38.848Z"
   },
   {
    "duration": 338,
    "start_time": "2023-11-10T11:09:47.079Z"
   },
   {
    "duration": 29,
    "start_time": "2023-11-10T11:09:59.427Z"
   },
   {
    "duration": 26,
    "start_time": "2023-11-10T11:14:03.878Z"
   },
   {
    "duration": 27,
    "start_time": "2023-11-10T11:14:06.967Z"
   },
   {
    "duration": 27,
    "start_time": "2023-11-10T11:14:10.135Z"
   },
   {
    "duration": 37,
    "start_time": "2023-11-10T11:15:23.049Z"
   },
   {
    "duration": 230,
    "start_time": "2023-11-10T11:15:27.771Z"
   },
   {
    "duration": 218,
    "start_time": "2023-11-10T11:15:38.409Z"
   },
   {
    "duration": 156,
    "start_time": "2023-11-10T11:15:48.465Z"
   },
   {
    "duration": 90,
    "start_time": "2023-11-10T11:15:52.973Z"
   },
   {
    "duration": 170,
    "start_time": "2023-11-10T11:15:57.951Z"
   },
   {
    "duration": 14,
    "start_time": "2023-11-10T11:18:48.468Z"
   },
   {
    "duration": 6,
    "start_time": "2023-11-10T11:19:15.884Z"
   },
   {
    "duration": 8,
    "start_time": "2023-11-10T11:19:24.842Z"
   },
   {
    "duration": 9,
    "start_time": "2023-11-10T11:19:28.353Z"
   },
   {
    "duration": 5,
    "start_time": "2023-11-10T11:20:06.853Z"
   },
   {
    "duration": 8,
    "start_time": "2023-11-10T11:20:15.213Z"
   },
   {
    "duration": 29,
    "start_time": "2023-11-10T11:20:18.178Z"
   },
   {
    "duration": 10,
    "start_time": "2023-11-10T11:20:23.362Z"
   },
   {
    "duration": 10,
    "start_time": "2023-11-10T11:21:03.273Z"
   },
   {
    "duration": 8,
    "start_time": "2023-11-10T11:21:15.053Z"
   },
   {
    "duration": 10,
    "start_time": "2023-11-10T11:26:59.497Z"
   },
   {
    "duration": 7,
    "start_time": "2023-11-10T11:27:05.753Z"
   },
   {
    "duration": 8,
    "start_time": "2023-11-10T11:27:15.811Z"
   },
   {
    "duration": 12,
    "start_time": "2023-11-10T11:27:35.189Z"
   },
   {
    "duration": 7,
    "start_time": "2023-11-10T11:40:51.009Z"
   },
   {
    "duration": 13,
    "start_time": "2023-11-10T11:41:44.883Z"
   },
   {
    "duration": 7,
    "start_time": "2023-11-10T11:41:53.255Z"
   },
   {
    "duration": 19,
    "start_time": "2023-11-10T11:45:13.181Z"
   },
   {
    "duration": 10,
    "start_time": "2023-11-10T11:45:29.022Z"
   },
   {
    "duration": 7,
    "start_time": "2023-11-10T11:47:22.963Z"
   },
   {
    "duration": 8,
    "start_time": "2023-11-10T11:47:29.731Z"
   },
   {
    "duration": 11,
    "start_time": "2023-11-10T11:48:55.774Z"
   },
   {
    "duration": 180,
    "start_time": "2023-11-10T11:49:10.994Z"
   },
   {
    "duration": 212,
    "start_time": "2023-11-10T11:49:15.298Z"
   },
   {
    "duration": 18,
    "start_time": "2023-11-10T11:49:18.883Z"
   },
   {
    "duration": 9,
    "start_time": "2023-11-10T11:49:28.827Z"
   },
   {
    "duration": 11,
    "start_time": "2023-11-10T11:50:54.209Z"
   },
   {
    "duration": 14,
    "start_time": "2023-11-10T11:51:12.994Z"
   },
   {
    "duration": 27,
    "start_time": "2023-11-10T11:51:30.245Z"
   },
   {
    "duration": 24,
    "start_time": "2023-11-10T11:51:39.820Z"
   },
   {
    "duration": 25,
    "start_time": "2023-11-10T11:51:44.882Z"
   },
   {
    "duration": 26,
    "start_time": "2023-11-10T11:51:49.527Z"
   },
   {
    "duration": 48,
    "start_time": "2023-11-10T11:52:32.437Z"
   },
   {
    "duration": 31,
    "start_time": "2023-11-10T11:52:46.938Z"
   },
   {
    "duration": 31,
    "start_time": "2023-11-10T11:53:02.091Z"
   },
   {
    "duration": 22,
    "start_time": "2023-11-10T11:53:11.022Z"
   },
   {
    "duration": 32,
    "start_time": "2023-11-10T11:53:32.342Z"
   },
   {
    "duration": 29,
    "start_time": "2023-11-10T11:53:43.298Z"
   },
   {
    "duration": 29,
    "start_time": "2023-11-10T11:53:51.790Z"
   },
   {
    "duration": 36,
    "start_time": "2023-11-10T11:54:16.029Z"
   },
   {
    "duration": 26,
    "start_time": "2023-11-10T11:54:23.936Z"
   },
   {
    "duration": 26,
    "start_time": "2023-11-10T11:54:29.768Z"
   },
   {
    "duration": 25,
    "start_time": "2023-11-10T11:54:37.485Z"
   },
   {
    "duration": 180,
    "start_time": "2023-11-10T11:54:40.549Z"
   },
   {
    "duration": 35,
    "start_time": "2023-11-10T11:55:14.775Z"
   },
   {
    "duration": 27,
    "start_time": "2023-11-10T11:55:18.736Z"
   },
   {
    "duration": 32,
    "start_time": "2023-11-10T11:55:44.663Z"
   },
   {
    "duration": 25,
    "start_time": "2023-11-10T11:55:49.442Z"
   },
   {
    "duration": 136,
    "start_time": "2023-11-10T11:55:58.628Z"
   },
   {
    "duration": 31,
    "start_time": "2023-11-10T11:56:04.739Z"
   },
   {
    "duration": 26,
    "start_time": "2023-11-10T11:56:08.670Z"
   },
   {
    "duration": 25,
    "start_time": "2023-11-10T11:56:16.665Z"
   },
   {
    "duration": 27,
    "start_time": "2023-11-10T11:57:16.345Z"
   },
   {
    "duration": 25,
    "start_time": "2023-11-10T11:57:27.170Z"
   },
   {
    "duration": 9,
    "start_time": "2023-11-10T12:01:00.323Z"
   },
   {
    "duration": 10,
    "start_time": "2023-11-10T12:01:37.267Z"
   },
   {
    "duration": 33,
    "start_time": "2023-11-10T12:01:46.558Z"
   },
   {
    "duration": 30,
    "start_time": "2023-11-10T12:02:25.986Z"
   },
   {
    "duration": 45,
    "start_time": "2023-11-10T12:03:09.640Z"
   },
   {
    "duration": 2119,
    "start_time": "2023-11-10T12:04:31.042Z"
   },
   {
    "duration": 2202,
    "start_time": "2023-11-10T12:04:53.970Z"
   },
   {
    "duration": 62,
    "start_time": "2023-11-10T12:05:01.680Z"
   },
   {
    "duration": 122,
    "start_time": "2023-11-10T12:05:11.950Z"
   },
   {
    "duration": 2295,
    "start_time": "2023-11-10T12:06:52.364Z"
   },
   {
    "duration": 1086,
    "start_time": "2023-11-10T12:07:20.885Z"
   },
   {
    "duration": 1287,
    "start_time": "2023-11-10T12:07:29.092Z"
   },
   {
    "duration": 1123,
    "start_time": "2023-11-10T12:08:20.787Z"
   },
   {
    "duration": 1423,
    "start_time": "2023-11-10T12:08:45.568Z"
   },
   {
    "duration": 159,
    "start_time": "2023-11-10T12:09:12.949Z"
   },
   {
    "duration": 152,
    "start_time": "2023-11-10T12:09:25.313Z"
   },
   {
    "duration": 174,
    "start_time": "2023-11-10T12:10:31.556Z"
   },
   {
    "duration": 167,
    "start_time": "2023-11-10T12:11:18.520Z"
   },
   {
    "duration": 134,
    "start_time": "2023-11-10T12:11:49.644Z"
   },
   {
    "duration": 148,
    "start_time": "2023-11-10T12:11:56.052Z"
   },
   {
    "duration": 144,
    "start_time": "2023-11-10T12:11:59.643Z"
   },
   {
    "duration": 6,
    "start_time": "2023-11-10T12:12:53.513Z"
   },
   {
    "duration": 10,
    "start_time": "2023-11-10T12:13:16.786Z"
   },
   {
    "duration": 46,
    "start_time": "2023-11-10T12:13:25.791Z"
   },
   {
    "duration": 86,
    "start_time": "2023-11-10T12:14:04.029Z"
   },
   {
    "duration": 84,
    "start_time": "2023-11-10T12:14:52.628Z"
   },
   {
    "duration": 154,
    "start_time": "2023-11-10T12:15:03.667Z"
   },
   {
    "duration": 197,
    "start_time": "2023-11-10T12:15:53.096Z"
   },
   {
    "duration": 187,
    "start_time": "2023-11-10T12:16:18.014Z"
   },
   {
    "duration": 116,
    "start_time": "2023-11-10T12:18:11.488Z"
   },
   {
    "duration": 134,
    "start_time": "2023-11-10T12:18:14.631Z"
   },
   {
    "duration": 17,
    "start_time": "2023-11-10T12:20:13.391Z"
   },
   {
    "duration": 16,
    "start_time": "2023-11-10T12:20:31.793Z"
   },
   {
    "duration": 21,
    "start_time": "2023-11-10T12:20:49.000Z"
   },
   {
    "duration": 12,
    "start_time": "2023-11-10T12:21:19.462Z"
   },
   {
    "duration": 115,
    "start_time": "2023-11-10T12:21:24.412Z"
   },
   {
    "duration": 17,
    "start_time": "2023-11-10T12:21:25.275Z"
   },
   {
    "duration": 2079,
    "start_time": "2023-11-10T12:21:25.481Z"
   },
   {
    "duration": 9,
    "start_time": "2023-11-10T12:21:27.563Z"
   },
   {
    "duration": 9,
    "start_time": "2023-11-10T12:21:27.573Z"
   },
   {
    "duration": 18,
    "start_time": "2023-11-10T12:21:27.584Z"
   },
   {
    "duration": 5,
    "start_time": "2023-11-10T12:21:27.604Z"
   },
   {
    "duration": 7,
    "start_time": "2023-11-10T12:21:27.611Z"
   },
   {
    "duration": 12,
    "start_time": "2023-11-10T12:21:27.620Z"
   },
   {
    "duration": 300,
    "start_time": "2023-11-10T12:21:27.634Z"
   },
   {
    "duration": 10,
    "start_time": "2023-11-10T12:21:27.936Z"
   },
   {
    "duration": 14,
    "start_time": "2023-11-10T12:21:27.948Z"
   },
   {
    "duration": 37,
    "start_time": "2023-11-10T12:21:27.964Z"
   },
   {
    "duration": 8,
    "start_time": "2023-11-10T12:21:28.003Z"
   },
   {
    "duration": 16,
    "start_time": "2023-11-10T12:21:28.013Z"
   },
   {
    "duration": 5,
    "start_time": "2023-11-10T12:21:28.115Z"
   },
   {
    "duration": 4,
    "start_time": "2023-11-10T12:21:28.462Z"
   },
   {
    "duration": 9,
    "start_time": "2023-11-10T12:21:29.533Z"
   },
   {
    "duration": 6,
    "start_time": "2023-11-10T12:21:29.714Z"
   },
   {
    "duration": 6,
    "start_time": "2023-11-10T12:21:29.898Z"
   },
   {
    "duration": 6,
    "start_time": "2023-11-10T12:21:30.075Z"
   },
   {
    "duration": 521,
    "start_time": "2023-11-10T12:21:30.261Z"
   },
   {
    "duration": 4,
    "start_time": "2023-11-10T12:21:30.784Z"
   },
   {
    "duration": 198,
    "start_time": "2023-11-10T12:21:31.280Z"
   },
   {
    "duration": 238,
    "start_time": "2023-11-10T12:21:31.481Z"
   },
   {
    "duration": 244,
    "start_time": "2023-11-10T12:21:31.722Z"
   },
   {
    "duration": 244,
    "start_time": "2023-11-10T12:21:31.968Z"
   },
   {
    "duration": 341,
    "start_time": "2023-11-10T12:21:32.214Z"
   },
   {
    "duration": 213,
    "start_time": "2023-11-10T12:21:32.557Z"
   },
   {
    "duration": 210,
    "start_time": "2023-11-10T12:21:32.771Z"
   },
   {
    "duration": 187,
    "start_time": "2023-11-10T12:21:32.983Z"
   },
   {
    "duration": 5,
    "start_time": "2023-11-10T12:21:33.171Z"
   },
   {
    "duration": 5,
    "start_time": "2023-11-10T12:21:33.178Z"
   },
   {
    "duration": 28,
    "start_time": "2023-11-10T12:21:33.185Z"
   },
   {
    "duration": 314,
    "start_time": "2023-11-10T12:21:33.220Z"
   },
   {
    "duration": 105,
    "start_time": "2023-11-10T12:21:38.065Z"
   },
   {
    "duration": 30,
    "start_time": "2023-11-10T12:21:38.172Z"
   },
   {
    "duration": 2270,
    "start_time": "2023-11-10T12:21:38.203Z"
   },
   {
    "duration": 9,
    "start_time": "2023-11-10T12:21:40.475Z"
   },
   {
    "duration": 18,
    "start_time": "2023-11-10T12:21:40.486Z"
   },
   {
    "duration": 5,
    "start_time": "2023-11-10T12:21:40.506Z"
   },
   {
    "duration": 39,
    "start_time": "2023-11-10T12:21:40.513Z"
   },
   {
    "duration": 30,
    "start_time": "2023-11-10T12:21:40.554Z"
   },
   {
    "duration": 16,
    "start_time": "2023-11-10T12:21:40.586Z"
   },
   {
    "duration": 292,
    "start_time": "2023-11-10T12:21:40.604Z"
   },
   {
    "duration": 10,
    "start_time": "2023-11-10T12:21:40.898Z"
   },
   {
    "duration": 20,
    "start_time": "2023-11-10T12:21:40.910Z"
   },
   {
    "duration": 8,
    "start_time": "2023-11-10T12:21:40.932Z"
   },
   {
    "duration": 4,
    "start_time": "2023-11-10T12:21:40.944Z"
   },
   {
    "duration": 8,
    "start_time": "2023-11-10T12:21:40.950Z"
   },
   {
    "duration": 15,
    "start_time": "2023-11-10T12:21:40.961Z"
   },
   {
    "duration": 5,
    "start_time": "2023-11-10T12:21:40.977Z"
   },
   {
    "duration": 24,
    "start_time": "2023-11-10T12:21:40.983Z"
   },
   {
    "duration": 7,
    "start_time": "2023-11-10T12:21:41.009Z"
   },
   {
    "duration": 6,
    "start_time": "2023-11-10T12:21:41.018Z"
   },
   {
    "duration": 11,
    "start_time": "2023-11-10T12:21:41.025Z"
   },
   {
    "duration": 304,
    "start_time": "2023-11-10T12:21:41.037Z"
   },
   {
    "duration": 6,
    "start_time": "2023-11-10T12:21:41.343Z"
   },
   {
    "duration": 209,
    "start_time": "2023-11-10T12:21:41.350Z"
   },
   {
    "duration": 243,
    "start_time": "2023-11-10T12:21:41.561Z"
   },
   {
    "duration": 237,
    "start_time": "2023-11-10T12:21:41.806Z"
   },
   {
    "duration": 251,
    "start_time": "2023-11-10T12:21:42.045Z"
   },
   {
    "duration": 343,
    "start_time": "2023-11-10T12:21:42.301Z"
   },
   {
    "duration": 187,
    "start_time": "2023-11-10T12:21:42.646Z"
   },
   {
    "duration": 233,
    "start_time": "2023-11-10T12:21:42.835Z"
   },
   {
    "duration": 171,
    "start_time": "2023-11-10T12:21:43.070Z"
   },
   {
    "duration": 6,
    "start_time": "2023-11-10T12:21:43.242Z"
   },
   {
    "duration": 23,
    "start_time": "2023-11-10T12:21:43.250Z"
   },
   {
    "duration": 19,
    "start_time": "2023-11-10T12:21:43.274Z"
   },
   {
    "duration": 320,
    "start_time": "2023-11-10T12:21:43.295Z"
   },
   {
    "duration": 547,
    "start_time": "2023-11-10T12:21:43.617Z"
   },
   {
    "duration": 238,
    "start_time": "2023-11-10T12:21:44.166Z"
   },
   {
    "duration": 291,
    "start_time": "2023-11-10T12:21:44.406Z"
   },
   {
    "duration": 251,
    "start_time": "2023-11-10T12:21:44.699Z"
   },
   {
    "duration": 197,
    "start_time": "2023-11-10T12:21:44.952Z"
   },
   {
    "duration": 174,
    "start_time": "2023-11-10T12:21:45.153Z"
   },
   {
    "duration": 174,
    "start_time": "2023-11-10T12:21:45.329Z"
   },
   {
    "duration": 173,
    "start_time": "2023-11-10T12:21:45.505Z"
   },
   {
    "duration": 181,
    "start_time": "2023-11-10T12:21:45.680Z"
   },
   {
    "duration": 23,
    "start_time": "2023-11-10T12:21:45.863Z"
   },
   {
    "duration": 186,
    "start_time": "2023-11-10T12:21:46.078Z"
   },
   {
    "duration": 200,
    "start_time": "2023-11-10T12:22:17.694Z"
   },
   {
    "duration": 203,
    "start_time": "2023-11-10T12:22:34.707Z"
   },
   {
    "duration": 4,
    "start_time": "2023-11-10T12:23:06.960Z"
   },
   {
    "duration": 188,
    "start_time": "2023-11-10T12:23:09.829Z"
   },
   {
    "duration": 195,
    "start_time": "2023-11-10T12:34:46.806Z"
   },
   {
    "duration": 195,
    "start_time": "2023-11-10T12:35:05.644Z"
   },
   {
    "duration": 247,
    "start_time": "2023-11-10T12:35:49.370Z"
   },
   {
    "duration": 219,
    "start_time": "2023-11-10T12:36:14.746Z"
   },
   {
    "duration": 236,
    "start_time": "2023-11-10T12:40:34.120Z"
   },
   {
    "duration": 212,
    "start_time": "2023-11-10T12:40:48.525Z"
   },
   {
    "duration": 274,
    "start_time": "2023-11-10T12:41:28.078Z"
   },
   {
    "duration": 241,
    "start_time": "2023-11-10T12:41:32.267Z"
   },
   {
    "duration": 304,
    "start_time": "2023-11-10T12:41:54.530Z"
   },
   {
    "duration": 238,
    "start_time": "2023-11-10T12:42:50.935Z"
   },
   {
    "duration": 234,
    "start_time": "2023-11-10T12:42:51.823Z"
   },
   {
    "duration": 621,
    "start_time": "2023-11-10T12:43:32.097Z"
   },
   {
    "duration": 191,
    "start_time": "2023-11-10T12:45:18.762Z"
   },
   {
    "duration": 207,
    "start_time": "2023-11-10T12:47:32.761Z"
   },
   {
    "duration": 245,
    "start_time": "2023-11-10T12:47:36.261Z"
   },
   {
    "duration": 45,
    "start_time": "2023-11-12T14:26:05.047Z"
   },
   {
    "duration": 1038,
    "start_time": "2023-11-12T14:26:11.680Z"
   },
   {
    "duration": 14,
    "start_time": "2023-11-12T14:26:13.262Z"
   },
   {
    "duration": 1770,
    "start_time": "2023-11-12T14:26:13.438Z"
   },
   {
    "duration": 9,
    "start_time": "2023-11-12T14:26:15.210Z"
   },
   {
    "duration": 22,
    "start_time": "2023-11-12T14:26:15.221Z"
   },
   {
    "duration": 5,
    "start_time": "2023-11-12T14:26:15.244Z"
   },
   {
    "duration": 6,
    "start_time": "2023-11-12T14:26:15.250Z"
   },
   {
    "duration": 4,
    "start_time": "2023-11-12T14:26:15.258Z"
   },
   {
    "duration": 9,
    "start_time": "2023-11-12T14:26:15.401Z"
   },
   {
    "duration": 255,
    "start_time": "2023-11-12T14:26:15.412Z"
   },
   {
    "duration": 8,
    "start_time": "2023-11-12T14:26:15.753Z"
   },
   {
    "duration": 28,
    "start_time": "2023-11-12T14:26:15.762Z"
   },
   {
    "duration": 5,
    "start_time": "2023-11-12T14:26:15.803Z"
   },
   {
    "duration": 4,
    "start_time": "2023-11-12T14:26:15.960Z"
   },
   {
    "duration": 3,
    "start_time": "2023-11-12T14:26:16.142Z"
   },
   {
    "duration": 4,
    "start_time": "2023-11-12T14:26:16.910Z"
   },
   {
    "duration": 6,
    "start_time": "2023-11-12T14:26:16.915Z"
   },
   {
    "duration": 6,
    "start_time": "2023-11-12T14:26:17.413Z"
   },
   {
    "duration": 5,
    "start_time": "2023-11-12T14:26:17.577Z"
   },
   {
    "duration": 5,
    "start_time": "2023-11-12T14:26:17.801Z"
   },
   {
    "duration": 5,
    "start_time": "2023-11-12T14:26:18.020Z"
   },
   {
    "duration": 277,
    "start_time": "2023-11-12T14:26:18.214Z"
   },
   {
    "duration": 4,
    "start_time": "2023-11-12T14:26:18.493Z"
   },
   {
    "duration": 160,
    "start_time": "2023-11-12T14:26:18.798Z"
   },
   {
    "duration": 200,
    "start_time": "2023-11-12T14:26:19.431Z"
   },
   {
    "duration": 204,
    "start_time": "2023-11-12T14:26:19.802Z"
   },
   {
    "duration": 263,
    "start_time": "2023-11-12T14:26:20.174Z"
   },
   {
    "duration": 296,
    "start_time": "2023-11-12T14:26:20.669Z"
   },
   {
    "duration": 157,
    "start_time": "2023-11-12T14:26:21.205Z"
   },
   {
    "duration": 183,
    "start_time": "2023-11-12T14:26:22.901Z"
   },
   {
    "duration": 176,
    "start_time": "2023-11-12T14:26:27.239Z"
   },
   {
    "duration": 155,
    "start_time": "2023-11-12T14:28:02.789Z"
   },
   {
    "duration": 290,
    "start_time": "2023-11-12T14:31:09.518Z"
   },
   {
    "duration": 309,
    "start_time": "2023-11-12T14:32:05.635Z"
   },
   {
    "duration": 391,
    "start_time": "2023-11-12T14:32:20.318Z"
   },
   {
    "duration": 314,
    "start_time": "2023-11-12T14:32:36.366Z"
   },
   {
    "duration": 314,
    "start_time": "2023-11-12T14:41:03.969Z"
   },
   {
    "duration": 301,
    "start_time": "2023-11-12T14:41:35.775Z"
   },
   {
    "duration": 181,
    "start_time": "2023-11-12T14:42:17.089Z"
   },
   {
    "duration": 181,
    "start_time": "2023-11-12T14:42:47.234Z"
   },
   {
    "duration": 178,
    "start_time": "2023-11-12T14:43:10.746Z"
   },
   {
    "duration": 286,
    "start_time": "2023-11-12T14:49:07.917Z"
   },
   {
    "duration": 172,
    "start_time": "2023-11-12T14:49:29.337Z"
   },
   {
    "duration": 208,
    "start_time": "2023-11-12T14:49:47.756Z"
   },
   {
    "duration": 1123,
    "start_time": "2023-11-12T14:58:47.255Z"
   },
   {
    "duration": 8,
    "start_time": "2023-11-12T15:44:45.981Z"
   },
   {
    "duration": 15,
    "start_time": "2023-11-12T15:44:55.035Z"
   },
   {
    "duration": 204,
    "start_time": "2023-11-12T15:48:38.022Z"
   },
   {
    "duration": 198,
    "start_time": "2023-11-12T15:49:03.674Z"
   },
   {
    "duration": 1463,
    "start_time": "2023-11-12T15:49:50.384Z"
   },
   {
    "duration": 0,
    "start_time": "2023-11-12T15:52:12.503Z"
   },
   {
    "duration": 7,
    "start_time": "2023-11-12T16:01:16.665Z"
   },
   {
    "duration": 103,
    "start_time": "2023-11-12T16:01:30.534Z"
   },
   {
    "duration": 60,
    "start_time": "2023-11-12T16:01:32.589Z"
   },
   {
    "duration": 1842,
    "start_time": "2023-11-12T16:01:32.725Z"
   },
   {
    "duration": 8,
    "start_time": "2023-11-12T16:01:34.569Z"
   },
   {
    "duration": 4,
    "start_time": "2023-11-12T16:01:34.579Z"
   },
   {
    "duration": 10,
    "start_time": "2023-11-12T16:01:34.584Z"
   },
   {
    "duration": 4,
    "start_time": "2023-11-12T16:01:34.596Z"
   },
   {
    "duration": 5,
    "start_time": "2023-11-12T16:01:35.648Z"
   },
   {
    "duration": 4,
    "start_time": "2023-11-12T16:01:56.036Z"
   },
   {
    "duration": 15,
    "start_time": "2023-11-12T16:02:37.688Z"
   },
   {
    "duration": 12,
    "start_time": "2023-11-12T16:02:42.915Z"
   },
   {
    "duration": 12,
    "start_time": "2023-11-12T16:03:07.603Z"
   },
   {
    "duration": 11,
    "start_time": "2023-11-12T16:11:16.447Z"
   },
   {
    "duration": 6,
    "start_time": "2023-11-12T16:11:31.460Z"
   },
   {
    "duration": 3,
    "start_time": "2023-11-12T16:12:57.089Z"
   },
   {
    "duration": 4,
    "start_time": "2023-11-12T16:14:46.441Z"
   },
   {
    "duration": 2003,
    "start_time": "2023-11-12T16:15:54.083Z"
   },
   {
    "duration": 1842,
    "start_time": "2023-11-12T16:16:11.884Z"
   },
   {
    "duration": 2,
    "start_time": "2023-11-12T16:16:38.272Z"
   },
   {
    "duration": 3,
    "start_time": "2023-11-12T16:16:47.663Z"
   },
   {
    "duration": 13,
    "start_time": "2023-11-12T16:16:52.666Z"
   },
   {
    "duration": 3,
    "start_time": "2023-11-12T16:16:53.027Z"
   },
   {
    "duration": 3,
    "start_time": "2023-11-12T16:16:53.394Z"
   },
   {
    "duration": 6,
    "start_time": "2023-11-12T16:16:53.961Z"
   },
   {
    "duration": 4,
    "start_time": "2023-11-12T16:16:54.540Z"
   },
   {
    "duration": 8,
    "start_time": "2023-11-12T16:16:55.476Z"
   },
   {
    "duration": 291,
    "start_time": "2023-11-12T16:16:55.910Z"
   },
   {
    "duration": 9,
    "start_time": "2023-11-12T16:16:56.445Z"
   },
   {
    "duration": 10,
    "start_time": "2023-11-12T16:16:57.515Z"
   },
   {
    "duration": 5,
    "start_time": "2023-11-12T16:16:59.187Z"
   },
   {
    "duration": 5,
    "start_time": "2023-11-12T16:16:59.410Z"
   },
   {
    "duration": 6,
    "start_time": "2023-11-12T16:16:59.635Z"
   },
   {
    "duration": 6,
    "start_time": "2023-11-12T16:16:59.820Z"
   },
   {
    "duration": 282,
    "start_time": "2023-11-12T16:17:00.021Z"
   },
   {
    "duration": 7,
    "start_time": "2023-11-12T16:17:00.304Z"
   },
   {
    "duration": 279,
    "start_time": "2023-11-12T16:17:01.113Z"
   },
   {
    "duration": 216,
    "start_time": "2023-11-12T16:17:02.349Z"
   },
   {
    "duration": 230,
    "start_time": "2023-11-12T16:17:02.907Z"
   },
   {
    "duration": 222,
    "start_time": "2023-11-12T16:17:03.239Z"
   },
   {
    "duration": 315,
    "start_time": "2023-11-12T16:17:04.111Z"
   },
   {
    "duration": 164,
    "start_time": "2023-11-12T16:17:05.558Z"
   },
   {
    "duration": 188,
    "start_time": "2023-11-12T16:17:06.688Z"
   },
   {
    "duration": 155,
    "start_time": "2023-11-12T16:17:08.918Z"
   },
   {
    "duration": 5,
    "start_time": "2023-11-12T16:17:09.890Z"
   },
   {
    "duration": 4,
    "start_time": "2023-11-12T16:17:10.417Z"
   },
   {
    "duration": 11,
    "start_time": "2023-11-12T16:17:10.902Z"
   },
   {
    "duration": 404,
    "start_time": "2023-11-12T16:17:11.441Z"
   },
   {
    "duration": 336,
    "start_time": "2023-11-12T16:17:12.392Z"
   },
   {
    "duration": 189,
    "start_time": "2023-11-12T16:17:14.400Z"
   },
   {
    "duration": 222,
    "start_time": "2023-11-12T16:17:15.754Z"
   },
   {
    "duration": 151,
    "start_time": "2023-11-12T16:18:33.952Z"
   },
   {
    "duration": 197,
    "start_time": "2023-11-12T16:19:38.855Z"
   },
   {
    "duration": 187,
    "start_time": "2023-11-12T16:19:51.499Z"
   },
   {
    "duration": 12,
    "start_time": "2023-11-12T16:20:46.096Z"
   },
   {
    "duration": 126,
    "start_time": "2023-11-12T16:22:50.480Z"
   },
   {
    "duration": 17,
    "start_time": "2023-11-12T16:23:12.851Z"
   },
   {
    "duration": 14,
    "start_time": "2023-11-12T16:23:23.663Z"
   },
   {
    "duration": 151,
    "start_time": "2023-11-12T16:23:35.123Z"
   },
   {
    "duration": 7,
    "start_time": "2023-11-12T16:24:12.238Z"
   },
   {
    "duration": 8,
    "start_time": "2023-11-12T16:24:26.122Z"
   },
   {
    "duration": 122,
    "start_time": "2023-11-12T16:26:28.818Z"
   },
   {
    "duration": 139,
    "start_time": "2023-11-12T16:26:44.453Z"
   },
   {
    "duration": 127,
    "start_time": "2023-11-12T16:27:00.972Z"
   },
   {
    "duration": 1161,
    "start_time": "2023-11-12T16:32:43.430Z"
   },
   {
    "duration": 14,
    "start_time": "2023-11-12T16:32:46.912Z"
   },
   {
    "duration": 1935,
    "start_time": "2023-11-12T16:32:47.059Z"
   },
   {
    "duration": 3,
    "start_time": "2023-11-12T16:32:48.995Z"
   },
   {
    "duration": 11,
    "start_time": "2023-11-12T16:32:48.999Z"
   },
   {
    "duration": 5,
    "start_time": "2023-11-12T16:32:49.011Z"
   },
   {
    "duration": 6,
    "start_time": "2023-11-12T16:32:49.017Z"
   },
   {
    "duration": 5,
    "start_time": "2023-11-12T16:32:49.024Z"
   },
   {
    "duration": 5,
    "start_time": "2023-11-12T16:32:49.070Z"
   },
   {
    "duration": 1386,
    "start_time": "2023-11-12T16:33:32.151Z"
   },
   {
    "duration": 1477,
    "start_time": "2023-11-12T16:34:00.079Z"
   },
   {
    "duration": 1529,
    "start_time": "2023-11-12T16:34:10.378Z"
   },
   {
    "duration": 1287,
    "start_time": "2023-11-12T16:34:35.045Z"
   },
   {
    "duration": 11,
    "start_time": "2023-11-12T16:34:37.245Z"
   },
   {
    "duration": 104,
    "start_time": "2023-11-12T16:34:45.854Z"
   },
   {
    "duration": 104,
    "start_time": "2023-11-12T16:34:49.772Z"
   },
   {
    "duration": 13,
    "start_time": "2023-11-12T16:34:49.878Z"
   },
   {
    "duration": 1884,
    "start_time": "2023-11-12T16:34:49.892Z"
   },
   {
    "duration": 3,
    "start_time": "2023-11-12T16:34:51.778Z"
   },
   {
    "duration": 18,
    "start_time": "2023-11-12T16:34:51.782Z"
   },
   {
    "duration": 4,
    "start_time": "2023-11-12T16:34:51.801Z"
   },
   {
    "duration": 20,
    "start_time": "2023-11-12T16:34:51.806Z"
   },
   {
    "duration": 5,
    "start_time": "2023-11-12T16:34:51.828Z"
   },
   {
    "duration": 15,
    "start_time": "2023-11-12T16:34:51.835Z"
   },
   {
    "duration": 10,
    "start_time": "2023-11-12T16:34:51.851Z"
   },
   {
    "duration": 279,
    "start_time": "2023-11-12T16:34:51.863Z"
   },
   {
    "duration": 15,
    "start_time": "2023-11-12T16:34:52.143Z"
   },
   {
    "duration": 17,
    "start_time": "2023-11-12T16:34:52.160Z"
   },
   {
    "duration": 8,
    "start_time": "2023-11-12T16:34:52.180Z"
   },
   {
    "duration": 5,
    "start_time": "2023-11-12T16:34:52.189Z"
   },
   {
    "duration": 4,
    "start_time": "2023-11-12T16:34:52.195Z"
   },
   {
    "duration": 22,
    "start_time": "2023-11-12T16:34:52.201Z"
   },
   {
    "duration": 302,
    "start_time": "2023-11-12T16:34:52.225Z"
   },
   {
    "duration": 6,
    "start_time": "2023-11-12T16:34:52.529Z"
   },
   {
    "duration": 299,
    "start_time": "2023-11-12T16:34:52.536Z"
   },
   {
    "duration": 245,
    "start_time": "2023-11-12T16:34:52.837Z"
   },
   {
    "duration": 232,
    "start_time": "2023-11-12T16:34:53.084Z"
   },
   {
    "duration": 234,
    "start_time": "2023-11-12T16:34:53.318Z"
   },
   {
    "duration": 338,
    "start_time": "2023-11-12T16:34:53.554Z"
   },
   {
    "duration": 175,
    "start_time": "2023-11-12T16:34:53.893Z"
   },
   {
    "duration": 190,
    "start_time": "2023-11-12T16:34:54.070Z"
   },
   {
    "duration": 169,
    "start_time": "2023-11-12T16:34:54.262Z"
   },
   {
    "duration": 4,
    "start_time": "2023-11-12T16:34:54.433Z"
   },
   {
    "duration": 18,
    "start_time": "2023-11-12T16:34:54.438Z"
   },
   {
    "duration": 18,
    "start_time": "2023-11-12T16:34:54.458Z"
   },
   {
    "duration": 419,
    "start_time": "2023-11-12T16:34:54.477Z"
   },
   {
    "duration": 339,
    "start_time": "2023-11-12T16:34:54.897Z"
   },
   {
    "duration": 187,
    "start_time": "2023-11-12T16:34:55.237Z"
   },
   {
    "duration": 195,
    "start_time": "2023-11-12T16:34:55.425Z"
   },
   {
    "duration": 205,
    "start_time": "2023-11-12T16:34:55.621Z"
   },
   {
    "duration": 157,
    "start_time": "2023-11-12T16:34:55.828Z"
   },
   {
    "duration": 214,
    "start_time": "2023-11-12T16:34:55.987Z"
   },
   {
    "duration": 215,
    "start_time": "2023-11-12T16:34:56.203Z"
   },
   {
    "duration": 171,
    "start_time": "2023-11-12T16:34:56.420Z"
   },
   {
    "duration": 163,
    "start_time": "2023-11-12T16:34:56.593Z"
   },
   {
    "duration": 144,
    "start_time": "2023-11-12T16:34:56.761Z"
   },
   {
    "duration": 169,
    "start_time": "2023-11-12T16:34:56.906Z"
   },
   {
    "duration": 172,
    "start_time": "2023-11-12T16:34:57.077Z"
   },
   {
    "duration": 27,
    "start_time": "2023-11-12T16:34:57.251Z"
   },
   {
    "duration": 208,
    "start_time": "2023-11-12T16:34:57.279Z"
   },
   {
    "duration": 195,
    "start_time": "2023-11-12T16:36:41.701Z"
   },
   {
    "duration": 13,
    "start_time": "2023-11-12T16:37:42.608Z"
   },
   {
    "duration": 76,
    "start_time": "2023-11-12T16:38:12.263Z"
   },
   {
    "duration": 88,
    "start_time": "2023-11-12T16:38:16.585Z"
   },
   {
    "duration": 76,
    "start_time": "2023-11-12T16:38:20.618Z"
   },
   {
    "duration": 238,
    "start_time": "2023-11-12T16:38:25.463Z"
   },
   {
    "duration": 7,
    "start_time": "2023-11-12T16:45:00.160Z"
   },
   {
    "duration": 193,
    "start_time": "2023-11-12T16:45:03.055Z"
   },
   {
    "duration": 213,
    "start_time": "2023-11-12T16:45:03.744Z"
   },
   {
    "duration": 208,
    "start_time": "2023-11-12T16:45:04.131Z"
   },
   {
    "duration": 214,
    "start_time": "2023-11-12T16:45:04.516Z"
   },
   {
    "duration": 341,
    "start_time": "2023-11-12T16:45:04.949Z"
   },
   {
    "duration": 167,
    "start_time": "2023-11-12T16:45:05.388Z"
   },
   {
    "duration": 174,
    "start_time": "2023-11-12T16:45:05.799Z"
   },
   {
    "duration": 170,
    "start_time": "2023-11-12T16:45:07.346Z"
   },
   {
    "duration": 4,
    "start_time": "2023-11-12T16:45:07.564Z"
   },
   {
    "duration": 3,
    "start_time": "2023-11-12T16:45:07.815Z"
   },
   {
    "duration": 10,
    "start_time": "2023-11-12T16:45:08.018Z"
   },
   {
    "duration": 311,
    "start_time": "2023-11-12T16:45:08.228Z"
   },
   {
    "duration": 463,
    "start_time": "2023-11-12T16:45:08.653Z"
   },
   {
    "duration": 187,
    "start_time": "2023-11-12T16:45:09.399Z"
   },
   {
    "duration": 174,
    "start_time": "2023-11-12T16:45:09.613Z"
   },
   {
    "duration": 127,
    "start_time": "2023-11-12T16:45:10.375Z"
   },
   {
    "duration": 130,
    "start_time": "2023-11-12T16:45:11.171Z"
   },
   {
    "duration": 1136,
    "start_time": "2023-11-13T10:26:19.885Z"
   },
   {
    "duration": 105,
    "start_time": "2023-11-13T10:28:28.350Z"
   },
   {
    "duration": 15,
    "start_time": "2023-11-13T10:28:29.093Z"
   },
   {
    "duration": 2015,
    "start_time": "2023-11-13T10:28:29.559Z"
   },
   {
    "duration": 114,
    "start_time": "2023-11-13T10:28:32.454Z"
   },
   {
    "duration": 13,
    "start_time": "2023-11-13T10:28:32.570Z"
   },
   {
    "duration": 1984,
    "start_time": "2023-11-13T10:28:32.585Z"
   },
   {
    "duration": 3,
    "start_time": "2023-11-13T10:28:34.571Z"
   },
   {
    "duration": 18,
    "start_time": "2023-11-13T10:28:34.576Z"
   },
   {
    "duration": 30,
    "start_time": "2023-11-13T10:28:34.595Z"
   },
   {
    "duration": 33,
    "start_time": "2023-11-13T10:28:34.626Z"
   },
   {
    "duration": 11,
    "start_time": "2023-11-13T10:28:34.660Z"
   },
   {
    "duration": 23,
    "start_time": "2023-11-13T10:28:34.673Z"
   },
   {
    "duration": 17,
    "start_time": "2023-11-13T10:28:34.697Z"
   },
   {
    "duration": 293,
    "start_time": "2023-11-13T10:28:34.716Z"
   },
   {
    "duration": 8,
    "start_time": "2023-11-13T10:28:35.010Z"
   },
   {
    "duration": 34,
    "start_time": "2023-11-13T10:28:35.020Z"
   },
   {
    "duration": 25,
    "start_time": "2023-11-13T10:28:35.057Z"
   },
   {
    "duration": 13,
    "start_time": "2023-11-13T10:28:35.084Z"
   },
   {
    "duration": 30,
    "start_time": "2023-11-13T10:28:35.098Z"
   },
   {
    "duration": 15,
    "start_time": "2023-11-13T10:28:35.130Z"
   },
   {
    "duration": 296,
    "start_time": "2023-11-13T10:28:35.147Z"
   },
   {
    "duration": 7,
    "start_time": "2023-11-13T10:28:35.444Z"
   },
   {
    "duration": 208,
    "start_time": "2023-11-13T10:28:35.452Z"
   },
   {
    "duration": 229,
    "start_time": "2023-11-13T10:28:35.662Z"
   },
   {
    "duration": 227,
    "start_time": "2023-11-13T10:28:35.893Z"
   },
   {
    "duration": 247,
    "start_time": "2023-11-13T10:28:36.121Z"
   },
   {
    "duration": 420,
    "start_time": "2023-11-13T10:28:36.369Z"
   },
   {
    "duration": 186,
    "start_time": "2023-11-13T10:28:36.791Z"
   },
   {
    "duration": 194,
    "start_time": "2023-11-13T10:28:36.979Z"
   },
   {
    "duration": 170,
    "start_time": "2023-11-13T10:28:37.174Z"
   },
   {
    "duration": 5,
    "start_time": "2023-11-13T10:28:37.345Z"
   },
   {
    "duration": 45,
    "start_time": "2023-11-13T10:28:37.351Z"
   },
   {
    "duration": 51,
    "start_time": "2023-11-13T10:28:37.397Z"
   },
   {
    "duration": 328,
    "start_time": "2023-11-13T10:28:37.449Z"
   },
   {
    "duration": 329,
    "start_time": "2023-11-13T10:28:37.779Z"
   },
   {
    "duration": 205,
    "start_time": "2023-11-13T10:28:38.110Z"
   },
   {
    "duration": 217,
    "start_time": "2023-11-13T10:28:38.317Z"
   },
   {
    "duration": 223,
    "start_time": "2023-11-13T10:28:38.536Z"
   },
   {
    "duration": 0,
    "start_time": "2023-11-13T10:28:38.761Z"
   },
   {
    "duration": 0,
    "start_time": "2023-11-13T10:28:38.762Z"
   },
   {
    "duration": 0,
    "start_time": "2023-11-13T10:28:38.764Z"
   },
   {
    "duration": 0,
    "start_time": "2023-11-13T10:28:38.764Z"
   },
   {
    "duration": 0,
    "start_time": "2023-11-13T10:28:38.766Z"
   },
   {
    "duration": 0,
    "start_time": "2023-11-13T10:28:38.766Z"
   },
   {
    "duration": 0,
    "start_time": "2023-11-13T10:28:38.768Z"
   },
   {
    "duration": 0,
    "start_time": "2023-11-13T10:28:38.768Z"
   },
   {
    "duration": 0,
    "start_time": "2023-11-13T10:28:38.769Z"
   },
   {
    "duration": 0,
    "start_time": "2023-11-13T10:28:38.771Z"
   },
   {
    "duration": 142,
    "start_time": "2023-11-13T10:32:02.299Z"
   },
   {
    "duration": 216,
    "start_time": "2023-11-13T10:32:03.705Z"
   },
   {
    "duration": 306,
    "start_time": "2023-11-13T10:32:03.923Z"
   },
   {
    "duration": 182,
    "start_time": "2023-11-13T10:32:04.231Z"
   },
   {
    "duration": 162,
    "start_time": "2023-11-13T10:32:04.554Z"
   },
   {
    "duration": 153,
    "start_time": "2023-11-13T10:32:04.965Z"
   },
   {
    "duration": 150,
    "start_time": "2023-11-13T10:32:05.363Z"
   },
   {
    "duration": 161,
    "start_time": "2023-11-13T10:32:05.777Z"
   },
   {
    "duration": 22,
    "start_time": "2023-11-13T10:32:06.606Z"
   },
   {
    "duration": 176,
    "start_time": "2023-11-13T10:32:07.049Z"
   },
   {
    "duration": 132,
    "start_time": "2023-11-13T10:32:44.673Z"
   },
   {
    "duration": 204,
    "start_time": "2023-11-13T10:36:57.730Z"
   },
   {
    "duration": 77,
    "start_time": "2023-11-13T10:37:00.974Z"
   },
   {
    "duration": 121,
    "start_time": "2023-11-13T10:37:05.683Z"
   },
   {
    "duration": 179,
    "start_time": "2023-11-13T10:37:59.944Z"
   },
   {
    "duration": 139,
    "start_time": "2023-11-13T10:40:06.375Z"
   },
   {
    "duration": 199,
    "start_time": "2023-11-13T10:40:13.605Z"
   },
   {
    "duration": 14,
    "start_time": "2023-11-13T10:42:57.195Z"
   },
   {
    "duration": 13,
    "start_time": "2023-11-13T10:43:15.982Z"
   },
   {
    "duration": 114,
    "start_time": "2023-11-13T10:43:24.302Z"
   },
   {
    "duration": 130,
    "start_time": "2023-11-13T10:45:37.657Z"
   },
   {
    "duration": 160,
    "start_time": "2023-11-13T10:45:41.670Z"
   },
   {
    "duration": 116,
    "start_time": "2023-11-13T10:45:45.186Z"
   },
   {
    "duration": 4,
    "start_time": "2023-11-13T10:47:20.126Z"
   },
   {
    "duration": 3,
    "start_time": "2023-11-13T10:48:44.241Z"
   },
   {
    "duration": 7,
    "start_time": "2023-11-13T10:49:01.336Z"
   },
   {
    "duration": 4,
    "start_time": "2023-11-13T10:49:59.538Z"
   },
   {
    "duration": 4,
    "start_time": "2023-11-13T10:50:07.047Z"
   },
   {
    "duration": 3,
    "start_time": "2023-11-13T10:50:44.075Z"
   },
   {
    "duration": 140,
    "start_time": "2023-11-13T10:50:59.132Z"
   },
   {
    "duration": 26,
    "start_time": "2023-11-13T10:51:00.120Z"
   },
   {
    "duration": 2140,
    "start_time": "2023-11-13T10:51:00.430Z"
   },
   {
    "duration": 3,
    "start_time": "2023-11-13T10:51:02.572Z"
   },
   {
    "duration": 4,
    "start_time": "2023-11-13T10:51:39.120Z"
   },
   {
    "duration": 112,
    "start_time": "2023-11-13T10:51:48.123Z"
   },
   {
    "duration": 21,
    "start_time": "2023-11-13T10:51:48.786Z"
   },
   {
    "duration": 2012,
    "start_time": "2023-11-13T10:51:49.036Z"
   },
   {
    "duration": 3,
    "start_time": "2023-11-13T10:51:51.050Z"
   },
   {
    "duration": 9,
    "start_time": "2023-11-13T10:51:51.497Z"
   },
   {
    "duration": 5,
    "start_time": "2023-11-13T10:51:51.902Z"
   },
   {
    "duration": 5,
    "start_time": "2023-11-13T10:51:52.254Z"
   },
   {
    "duration": 5,
    "start_time": "2023-11-13T10:51:52.802Z"
   },
   {
    "duration": 5,
    "start_time": "2023-11-13T10:51:52.977Z"
   },
   {
    "duration": 8,
    "start_time": "2023-11-13T10:51:53.342Z"
   },
   {
    "duration": 277,
    "start_time": "2023-11-13T10:51:53.544Z"
   },
   {
    "duration": 8,
    "start_time": "2023-11-13T10:51:53.823Z"
   },
   {
    "duration": 14,
    "start_time": "2023-11-13T10:51:54.280Z"
   },
   {
    "duration": 7,
    "start_time": "2023-11-13T10:51:55.291Z"
   },
   {
    "duration": 8,
    "start_time": "2023-11-13T10:51:56.701Z"
   },
   {
    "duration": 7,
    "start_time": "2023-11-13T10:51:56.891Z"
   },
   {
    "duration": 8,
    "start_time": "2023-11-13T10:51:57.102Z"
   },
   {
    "duration": 370,
    "start_time": "2023-11-13T10:51:57.290Z"
   },
   {
    "duration": 8,
    "start_time": "2023-11-13T10:51:57.664Z"
   },
   {
    "duration": 197,
    "start_time": "2023-11-13T10:51:58.039Z"
   },
   {
    "duration": 248,
    "start_time": "2023-11-13T10:51:58.446Z"
   },
   {
    "duration": 227,
    "start_time": "2023-11-13T10:51:58.854Z"
   },
   {
    "duration": 231,
    "start_time": "2023-11-13T10:51:59.446Z"
   },
   {
    "duration": 337,
    "start_time": "2023-11-13T10:52:00.247Z"
   },
   {
    "duration": 187,
    "start_time": "2023-11-13T10:52:01.315Z"
   },
   {
    "duration": 377,
    "start_time": "2023-11-13T10:52:03.404Z"
   },
   {
    "duration": 4,
    "start_time": "2023-11-13T10:52:05.001Z"
   },
   {
    "duration": 9,
    "start_time": "2023-11-13T10:59:53.576Z"
   },
   {
    "duration": 17,
    "start_time": "2023-11-13T11:00:24.425Z"
   },
   {
    "duration": 15,
    "start_time": "2023-11-13T11:00:44.485Z"
   },
   {
    "duration": 19,
    "start_time": "2023-11-13T11:00:53.326Z"
   },
   {
    "duration": 9,
    "start_time": "2023-11-13T11:01:06.715Z"
   },
   {
    "duration": 12,
    "start_time": "2023-11-13T11:01:14.212Z"
   },
   {
    "duration": 11,
    "start_time": "2023-11-13T11:01:45.030Z"
   },
   {
    "duration": 9,
    "start_time": "2023-11-13T11:01:57.158Z"
   },
   {
    "duration": 10,
    "start_time": "2023-11-13T11:02:05.374Z"
   },
   {
    "duration": 9,
    "start_time": "2023-11-13T11:02:10.124Z"
   },
   {
    "duration": 12,
    "start_time": "2023-11-13T11:02:33.329Z"
   },
   {
    "duration": 9,
    "start_time": "2023-11-13T11:02:37.886Z"
   },
   {
    "duration": 14,
    "start_time": "2023-11-13T11:02:48.172Z"
   },
   {
    "duration": 6,
    "start_time": "2023-11-13T11:03:18.707Z"
   },
   {
    "duration": 8,
    "start_time": "2023-11-13T11:04:22.034Z"
   },
   {
    "duration": 10,
    "start_time": "2023-11-13T11:04:28.425Z"
   },
   {
    "duration": 6,
    "start_time": "2023-11-13T11:07:03.575Z"
   },
   {
    "duration": 8,
    "start_time": "2023-11-13T11:07:38.184Z"
   },
   {
    "duration": 4,
    "start_time": "2023-11-13T11:07:41.516Z"
   },
   {
    "duration": 6,
    "start_time": "2023-11-13T11:07:53.447Z"
   },
   {
    "duration": 7,
    "start_time": "2023-11-13T11:09:25.963Z"
   },
   {
    "duration": 5,
    "start_time": "2023-11-13T11:09:37.170Z"
   },
   {
    "duration": 4,
    "start_time": "2023-11-13T11:09:40.803Z"
   },
   {
    "duration": 2,
    "start_time": "2023-11-13T11:10:08.221Z"
   },
   {
    "duration": 9,
    "start_time": "2023-11-13T11:10:08.874Z"
   },
   {
    "duration": 4,
    "start_time": "2023-11-13T11:10:11.944Z"
   },
   {
    "duration": 5,
    "start_time": "2023-11-13T11:10:12.534Z"
   },
   {
    "duration": 99,
    "start_time": "2023-11-13T11:10:18.231Z"
   },
   {
    "duration": 14,
    "start_time": "2023-11-13T11:10:18.955Z"
   },
   {
    "duration": 1832,
    "start_time": "2023-11-13T11:10:19.332Z"
   },
   {
    "duration": 3,
    "start_time": "2023-11-13T11:10:21.166Z"
   },
   {
    "duration": 21,
    "start_time": "2023-11-13T11:10:21.170Z"
   },
   {
    "duration": 6,
    "start_time": "2023-11-13T11:10:21.192Z"
   },
   {
    "duration": 3,
    "start_time": "2023-11-13T11:10:22.239Z"
   },
   {
    "duration": 11,
    "start_time": "2023-11-13T11:10:23.048Z"
   },
   {
    "duration": 4,
    "start_time": "2023-11-13T11:10:23.932Z"
   },
   {
    "duration": 4,
    "start_time": "2023-11-13T11:10:24.402Z"
   },
   {
    "duration": 1313,
    "start_time": "2023-11-13T11:10:32.978Z"
   },
   {
    "duration": 1296,
    "start_time": "2023-11-13T11:10:39.143Z"
   },
   {
    "duration": 5,
    "start_time": "2023-11-13T11:10:47.446Z"
   },
   {
    "duration": 9,
    "start_time": "2023-11-13T11:10:54.167Z"
   },
   {
    "duration": 9,
    "start_time": "2023-11-13T11:11:05.357Z"
   },
   {
    "duration": 10,
    "start_time": "2023-11-13T11:11:08.603Z"
   },
   {
    "duration": 12,
    "start_time": "2023-11-13T11:11:11.159Z"
   },
   {
    "duration": 9,
    "start_time": "2023-11-13T11:11:15.204Z"
   },
   {
    "duration": 17,
    "start_time": "2023-11-13T11:11:17.727Z"
   },
   {
    "duration": 13,
    "start_time": "2023-11-13T11:11:22.887Z"
   },
   {
    "duration": 9,
    "start_time": "2023-11-13T11:11:27.061Z"
   },
   {
    "duration": 8,
    "start_time": "2023-11-13T11:11:38.222Z"
   },
   {
    "duration": 7,
    "start_time": "2023-11-13T11:13:15.182Z"
   },
   {
    "duration": 8,
    "start_time": "2023-11-13T11:13:23.778Z"
   },
   {
    "duration": 6,
    "start_time": "2023-11-13T11:13:40.749Z"
   },
   {
    "duration": 7,
    "start_time": "2023-11-13T11:13:51.894Z"
   },
   {
    "duration": 8,
    "start_time": "2023-11-13T11:13:55.212Z"
   },
   {
    "duration": 7,
    "start_time": "2023-11-13T11:14:06.915Z"
   },
   {
    "duration": 8,
    "start_time": "2023-11-13T11:14:10.983Z"
   },
   {
    "duration": 8,
    "start_time": "2023-11-13T11:14:21.651Z"
   },
   {
    "duration": 6,
    "start_time": "2023-11-13T11:14:28.343Z"
   },
   {
    "duration": 7,
    "start_time": "2023-11-13T11:14:32.505Z"
   },
   {
    "duration": 5,
    "start_time": "2023-11-13T11:15:43.525Z"
   },
   {
    "duration": 7,
    "start_time": "2023-11-13T11:15:53.294Z"
   },
   {
    "duration": 4,
    "start_time": "2023-11-13T11:16:01.467Z"
   },
   {
    "duration": 7,
    "start_time": "2023-11-13T11:16:06.606Z"
   },
   {
    "duration": 7,
    "start_time": "2023-11-13T11:16:11.008Z"
   },
   {
    "duration": 7,
    "start_time": "2023-11-13T11:16:51.408Z"
   },
   {
    "duration": 7,
    "start_time": "2023-11-13T11:16:55.356Z"
   },
   {
    "duration": 8,
    "start_time": "2023-11-13T11:17:03.351Z"
   },
   {
    "duration": 7,
    "start_time": "2023-11-13T11:17:22.054Z"
   },
   {
    "duration": 6,
    "start_time": "2023-11-13T11:17:31.345Z"
   },
   {
    "duration": 7,
    "start_time": "2023-11-13T11:17:36.464Z"
   },
   {
    "duration": 8,
    "start_time": "2023-11-13T11:17:44.005Z"
   },
   {
    "duration": 7,
    "start_time": "2023-11-13T11:17:48.703Z"
   },
   {
    "duration": 7,
    "start_time": "2023-11-13T11:17:54.308Z"
   },
   {
    "duration": 6,
    "start_time": "2023-11-13T11:18:00.739Z"
   },
   {
    "duration": 7,
    "start_time": "2023-11-13T11:18:03.544Z"
   },
   {
    "duration": 10,
    "start_time": "2023-11-13T11:18:20.257Z"
   },
   {
    "duration": 12,
    "start_time": "2023-11-13T11:18:26.182Z"
   },
   {
    "duration": 15,
    "start_time": "2023-11-13T11:18:30.061Z"
   },
   {
    "duration": 6,
    "start_time": "2023-11-13T11:20:20.435Z"
   },
   {
    "duration": 6,
    "start_time": "2023-11-13T11:31:01.777Z"
   },
   {
    "duration": 5,
    "start_time": "2023-11-13T11:31:11.402Z"
   },
   {
    "duration": 6,
    "start_time": "2023-11-13T11:31:21.712Z"
   },
   {
    "duration": 25,
    "start_time": "2023-11-13T11:32:07.302Z"
   },
   {
    "duration": 16,
    "start_time": "2023-11-13T11:32:53.698Z"
   },
   {
    "duration": 12,
    "start_time": "2023-11-13T11:33:01.590Z"
   },
   {
    "duration": 12,
    "start_time": "2023-11-13T11:33:06.653Z"
   },
   {
    "duration": 10,
    "start_time": "2023-11-13T11:33:21.935Z"
   },
   {
    "duration": 11,
    "start_time": "2023-11-13T11:33:27.186Z"
   },
   {
    "duration": 11,
    "start_time": "2023-11-13T11:33:29.920Z"
   },
   {
    "duration": 11,
    "start_time": "2023-11-13T11:33:32.598Z"
   },
   {
    "duration": 7,
    "start_time": "2023-11-13T11:33:59.517Z"
   },
   {
    "duration": 4,
    "start_time": "2023-11-13T11:34:18.264Z"
   },
   {
    "duration": 10,
    "start_time": "2023-11-13T11:34:31.346Z"
   },
   {
    "duration": 4,
    "start_time": "2023-11-13T11:34:35.724Z"
   },
   {
    "duration": 10,
    "start_time": "2023-11-13T11:34:56.235Z"
   },
   {
    "duration": 9,
    "start_time": "2023-11-13T11:35:03.212Z"
   },
   {
    "duration": 5,
    "start_time": "2023-11-13T11:35:07.323Z"
   },
   {
    "duration": 216,
    "start_time": "2023-11-13T11:37:43.621Z"
   },
   {
    "duration": 16,
    "start_time": "2023-11-13T11:42:17.701Z"
   },
   {
    "duration": 677,
    "start_time": "2023-11-13T11:43:14.359Z"
   },
   {
    "duration": 695,
    "start_time": "2023-11-13T11:43:16.940Z"
   },
   {
    "duration": 10,
    "start_time": "2023-11-13T11:43:39.909Z"
   },
   {
    "duration": 954,
    "start_time": "2023-11-13T11:43:54.799Z"
   },
   {
    "duration": 754,
    "start_time": "2023-11-13T11:45:32.369Z"
   },
   {
    "duration": 832,
    "start_time": "2023-11-13T11:45:40.313Z"
   },
   {
    "duration": 10,
    "start_time": "2023-11-13T11:45:52.468Z"
   },
   {
    "duration": 101,
    "start_time": "2023-11-13T11:50:32.403Z"
   },
   {
    "duration": 14,
    "start_time": "2023-11-13T11:50:33.128Z"
   },
   {
    "duration": 1990,
    "start_time": "2023-11-13T11:50:33.367Z"
   },
   {
    "duration": 4,
    "start_time": "2023-11-13T11:50:35.358Z"
   },
   {
    "duration": 10,
    "start_time": "2023-11-13T11:50:35.363Z"
   },
   {
    "duration": 5,
    "start_time": "2023-11-13T11:50:35.374Z"
   },
   {
    "duration": 6,
    "start_time": "2023-11-13T11:50:35.381Z"
   },
   {
    "duration": 9,
    "start_time": "2023-11-13T11:50:35.448Z"
   },
   {
    "duration": 10,
    "start_time": "2023-11-13T11:51:34.011Z"
   },
   {
    "duration": 8,
    "start_time": "2023-11-13T11:51:54.277Z"
   },
   {
    "duration": 8,
    "start_time": "2023-11-13T11:52:04.779Z"
   },
   {
    "duration": 6,
    "start_time": "2023-11-13T11:52:08.704Z"
   },
   {
    "duration": 9,
    "start_time": "2023-11-13T11:52:12.157Z"
   },
   {
    "duration": 8,
    "start_time": "2023-11-13T11:52:24.276Z"
   },
   {
    "duration": 8,
    "start_time": "2023-11-13T11:52:41.592Z"
   },
   {
    "duration": 6,
    "start_time": "2023-11-13T11:52:51.638Z"
   },
   {
    "duration": 7,
    "start_time": "2023-11-13T11:52:55.107Z"
   },
   {
    "duration": 8,
    "start_time": "2023-11-13T11:52:58.780Z"
   },
   {
    "duration": 11,
    "start_time": "2023-11-13T11:53:34.538Z"
   },
   {
    "duration": 8,
    "start_time": "2023-11-13T11:53:38.195Z"
   },
   {
    "duration": 9,
    "start_time": "2023-11-13T11:57:59.796Z"
   },
   {
    "duration": 9,
    "start_time": "2023-11-13T11:58:09.045Z"
   },
   {
    "duration": 8,
    "start_time": "2023-11-13T11:58:26.673Z"
   },
   {
    "duration": 10,
    "start_time": "2023-11-13T11:58:56.626Z"
   },
   {
    "duration": 10,
    "start_time": "2023-11-13T11:59:06.040Z"
   },
   {
    "duration": 7,
    "start_time": "2023-11-13T11:59:07.082Z"
   },
   {
    "duration": 9,
    "start_time": "2023-11-13T11:59:12.771Z"
   },
   {
    "duration": 40,
    "start_time": "2023-11-13T12:01:40.351Z"
   },
   {
    "duration": 52,
    "start_time": "2023-11-13T12:01:53.152Z"
   },
   {
    "duration": 8,
    "start_time": "2023-11-13T12:03:27.208Z"
   },
   {
    "duration": 7,
    "start_time": "2023-11-13T12:03:39.670Z"
   },
   {
    "duration": 8,
    "start_time": "2023-11-13T12:03:46.471Z"
   },
   {
    "duration": 8,
    "start_time": "2023-11-13T12:03:52.202Z"
   },
   {
    "duration": 8,
    "start_time": "2023-11-13T12:04:06.976Z"
   },
   {
    "duration": 8,
    "start_time": "2023-11-13T12:04:10.613Z"
   },
   {
    "duration": 7,
    "start_time": "2023-11-13T12:04:14.838Z"
   },
   {
    "duration": 8,
    "start_time": "2023-11-13T12:05:50.515Z"
   },
   {
    "duration": 8,
    "start_time": "2023-11-13T12:06:25.473Z"
   },
   {
    "duration": 8,
    "start_time": "2023-11-13T12:06:30.851Z"
   },
   {
    "duration": 8,
    "start_time": "2023-11-13T12:06:35.724Z"
   },
   {
    "duration": 7,
    "start_time": "2023-11-13T12:06:38.896Z"
   },
   {
    "duration": 7,
    "start_time": "2023-11-13T12:06:54.471Z"
   },
   {
    "duration": 18,
    "start_time": "2023-11-13T12:07:12.950Z"
   },
   {
    "duration": 17,
    "start_time": "2023-11-13T12:10:56.113Z"
   },
   {
    "duration": 15,
    "start_time": "2023-11-13T12:11:07.762Z"
   },
   {
    "duration": 79,
    "start_time": "2023-11-13T12:11:23.986Z"
   },
   {
    "duration": 9,
    "start_time": "2023-11-13T12:11:27.963Z"
   },
   {
    "duration": 15,
    "start_time": "2023-11-13T12:11:32.552Z"
   },
   {
    "duration": 20,
    "start_time": "2023-11-13T12:11:46.855Z"
   },
   {
    "duration": 16,
    "start_time": "2023-11-13T12:11:57.132Z"
   },
   {
    "duration": 1201,
    "start_time": "2023-11-13T12:16:28.237Z"
   },
   {
    "duration": 15,
    "start_time": "2023-11-13T12:16:30.060Z"
   },
   {
    "duration": 1994,
    "start_time": "2023-11-13T12:16:30.265Z"
   },
   {
    "duration": 3,
    "start_time": "2023-11-13T12:16:32.260Z"
   },
   {
    "duration": 48,
    "start_time": "2023-11-13T12:16:32.265Z"
   },
   {
    "duration": 27,
    "start_time": "2023-11-13T12:16:32.315Z"
   },
   {
    "duration": 15,
    "start_time": "2023-11-13T12:16:32.343Z"
   },
   {
    "duration": 1536,
    "start_time": "2023-11-13T12:16:32.360Z"
   },
   {
    "duration": 0,
    "start_time": "2023-11-13T12:16:33.897Z"
   },
   {
    "duration": 12,
    "start_time": "2023-11-13T12:17:17.406Z"
   },
   {
    "duration": 9,
    "start_time": "2023-11-13T12:17:49.447Z"
   },
   {
    "duration": 12,
    "start_time": "2023-11-13T12:18:37.194Z"
   },
   {
    "duration": 6,
    "start_time": "2023-11-13T12:18:43.958Z"
   },
   {
    "duration": 4,
    "start_time": "2023-11-13T12:18:44.556Z"
   },
   {
    "duration": 8,
    "start_time": "2023-11-13T12:18:45.096Z"
   },
   {
    "duration": 244,
    "start_time": "2023-11-13T12:18:45.324Z"
   },
   {
    "duration": 9,
    "start_time": "2023-11-13T12:18:45.570Z"
   },
   {
    "duration": 9,
    "start_time": "2023-11-13T12:18:46.002Z"
   },
   {
    "duration": 13,
    "start_time": "2023-11-13T12:19:06.897Z"
   },
   {
    "duration": 7,
    "start_time": "2023-11-13T12:19:09.997Z"
   },
   {
    "duration": 19,
    "start_time": "2023-11-13T12:19:29.998Z"
   },
   {
    "duration": 6,
    "start_time": "2023-11-13T12:19:33.009Z"
   },
   {
    "duration": 17,
    "start_time": "2023-11-13T12:19:57.634Z"
   },
   {
    "duration": 2,
    "start_time": "2023-11-13T12:20:09.682Z"
   },
   {
    "duration": 9,
    "start_time": "2023-11-13T12:20:10.069Z"
   },
   {
    "duration": 5,
    "start_time": "2023-11-13T12:20:11.471Z"
   },
   {
    "duration": 3,
    "start_time": "2023-11-13T12:20:18.969Z"
   },
   {
    "duration": 2,
    "start_time": "2023-11-13T12:20:19.650Z"
   },
   {
    "duration": 2,
    "start_time": "2023-11-13T12:20:19.897Z"
   },
   {
    "duration": 7,
    "start_time": "2023-11-13T12:20:20.199Z"
   },
   {
    "duration": 7,
    "start_time": "2023-11-13T12:20:32.769Z"
   },
   {
    "duration": 11,
    "start_time": "2023-11-13T12:20:40.640Z"
   },
   {
    "duration": 7,
    "start_time": "2023-11-13T12:21:43.771Z"
   },
   {
    "duration": 9,
    "start_time": "2023-11-13T12:21:51.162Z"
   },
   {
    "duration": 3,
    "start_time": "2023-11-13T12:22:05.188Z"
   },
   {
    "duration": 11,
    "start_time": "2023-11-13T12:22:07.534Z"
   },
   {
    "duration": 9,
    "start_time": "2023-11-13T12:22:13.036Z"
   },
   {
    "duration": 3,
    "start_time": "2023-11-13T12:22:34.062Z"
   },
   {
    "duration": 4,
    "start_time": "2023-11-13T12:22:36.560Z"
   },
   {
    "duration": 7,
    "start_time": "2023-11-13T12:22:56.984Z"
   },
   {
    "duration": 7,
    "start_time": "2023-11-13T12:23:02.866Z"
   },
   {
    "duration": 7,
    "start_time": "2023-11-13T12:23:12.350Z"
   },
   {
    "duration": 5,
    "start_time": "2023-11-13T12:23:17.799Z"
   },
   {
    "duration": 5,
    "start_time": "2023-11-13T12:23:24.257Z"
   },
   {
    "duration": 5,
    "start_time": "2023-11-13T12:23:35.506Z"
   },
   {
    "duration": 21,
    "start_time": "2023-11-13T12:25:33.984Z"
   },
   {
    "duration": 6,
    "start_time": "2023-11-13T12:28:06.092Z"
   },
   {
    "duration": 8,
    "start_time": "2023-11-13T12:28:17.435Z"
   },
   {
    "duration": 10,
    "start_time": "2023-11-13T12:28:39.150Z"
   },
   {
    "duration": 11,
    "start_time": "2023-11-13T12:29:00.063Z"
   },
   {
    "duration": 9,
    "start_time": "2023-11-13T12:29:30.804Z"
   },
   {
    "duration": 8,
    "start_time": "2023-11-13T12:29:45.628Z"
   },
   {
    "duration": 9,
    "start_time": "2023-11-13T12:29:55.307Z"
   },
   {
    "duration": 9,
    "start_time": "2023-11-13T12:30:02.056Z"
   },
   {
    "duration": 12,
    "start_time": "2023-11-13T12:30:16.061Z"
   },
   {
    "duration": 8,
    "start_time": "2023-11-13T12:30:20.301Z"
   },
   {
    "duration": 10,
    "start_time": "2023-11-13T12:31:11.980Z"
   },
   {
    "duration": 10,
    "start_time": "2023-11-13T12:31:45.609Z"
   },
   {
    "duration": 11,
    "start_time": "2023-11-13T12:32:34.083Z"
   },
   {
    "duration": 10,
    "start_time": "2023-11-13T12:36:29.298Z"
   },
   {
    "duration": 9,
    "start_time": "2023-11-13T12:36:55.845Z"
   },
   {
    "duration": 3,
    "start_time": "2023-11-13T12:36:57.134Z"
   },
   {
    "duration": 2,
    "start_time": "2023-11-13T12:36:57.778Z"
   },
   {
    "duration": 2,
    "start_time": "2023-11-13T12:36:57.985Z"
   },
   {
    "duration": 10,
    "start_time": "2023-11-13T12:36:58.201Z"
   },
   {
    "duration": 5,
    "start_time": "2023-11-13T12:37:00.231Z"
   },
   {
    "duration": 5,
    "start_time": "2023-11-13T12:37:00.567Z"
   },
   {
    "duration": 8,
    "start_time": "2023-11-13T12:37:00.991Z"
   },
   {
    "duration": 242,
    "start_time": "2023-11-13T12:37:01.494Z"
   },
   {
    "duration": 11,
    "start_time": "2023-11-13T12:38:00.774Z"
   },
   {
    "duration": 10,
    "start_time": "2023-11-13T12:38:05.218Z"
   },
   {
    "duration": 10,
    "start_time": "2023-11-13T12:38:15.015Z"
   },
   {
    "duration": 13,
    "start_time": "2023-11-13T12:39:07.206Z"
   },
   {
    "duration": 14,
    "start_time": "2023-11-13T12:39:13.367Z"
   },
   {
    "duration": 10,
    "start_time": "2023-11-13T12:39:22.922Z"
   },
   {
    "duration": 11,
    "start_time": "2023-11-13T12:39:26.516Z"
   },
   {
    "duration": 107,
    "start_time": "2023-11-13T12:39:33.539Z"
   },
   {
    "duration": 14,
    "start_time": "2023-11-13T12:39:34.527Z"
   },
   {
    "duration": 1968,
    "start_time": "2023-11-13T12:39:34.776Z"
   },
   {
    "duration": 3,
    "start_time": "2023-11-13T12:39:36.745Z"
   },
   {
    "duration": 18,
    "start_time": "2023-11-13T12:39:36.750Z"
   },
   {
    "duration": 5,
    "start_time": "2023-11-13T12:39:36.770Z"
   },
   {
    "duration": 2,
    "start_time": "2023-11-13T12:39:36.995Z"
   },
   {
    "duration": 2,
    "start_time": "2023-11-13T12:39:39.673Z"
   },
   {
    "duration": 10,
    "start_time": "2023-11-13T12:39:40.283Z"
   },
   {
    "duration": 9,
    "start_time": "2023-11-13T12:40:35.496Z"
   },
   {
    "duration": 9,
    "start_time": "2023-11-13T12:41:24.503Z"
   },
   {
    "duration": 8,
    "start_time": "2023-11-13T12:41:25.985Z"
   },
   {
    "duration": 5,
    "start_time": "2023-11-13T12:41:26.907Z"
   },
   {
    "duration": 19,
    "start_time": "2023-11-13T12:42:15.115Z"
   },
   {
    "duration": 15,
    "start_time": "2023-11-13T12:42:35.448Z"
   },
   {
    "duration": 14,
    "start_time": "2023-11-13T12:42:50.860Z"
   },
   {
    "duration": 21,
    "start_time": "2023-11-13T12:43:37.022Z"
   },
   {
    "duration": 21,
    "start_time": "2023-11-13T12:43:44.883Z"
   },
   {
    "duration": 17,
    "start_time": "2023-11-13T12:43:59.274Z"
   },
   {
    "duration": 16,
    "start_time": "2023-11-13T12:44:02.416Z"
   },
   {
    "duration": 14,
    "start_time": "2023-11-13T12:44:06.120Z"
   },
   {
    "duration": 18,
    "start_time": "2023-11-13T12:44:08.395Z"
   },
   {
    "duration": 15,
    "start_time": "2023-11-13T12:44:15.860Z"
   },
   {
    "duration": 7,
    "start_time": "2023-11-13T12:44:30.435Z"
   },
   {
    "duration": 9,
    "start_time": "2023-11-13T12:44:41.879Z"
   },
   {
    "duration": 9,
    "start_time": "2023-11-13T12:46:15.575Z"
   },
   {
    "duration": 9,
    "start_time": "2023-11-13T12:46:36.174Z"
   },
   {
    "duration": 193,
    "start_time": "2023-11-13T12:46:42.760Z"
   },
   {
    "duration": 275,
    "start_time": "2023-11-13T12:46:43.106Z"
   },
   {
    "duration": 246,
    "start_time": "2023-11-13T12:46:43.441Z"
   },
   {
    "duration": 231,
    "start_time": "2023-11-13T12:46:43.779Z"
   },
   {
    "duration": 472,
    "start_time": "2023-11-13T12:46:44.125Z"
   },
   {
    "duration": 204,
    "start_time": "2023-11-13T12:46:44.600Z"
   },
   {
    "duration": 189,
    "start_time": "2023-11-13T12:46:44.840Z"
   },
   {
    "duration": 4,
    "start_time": "2023-11-13T12:46:45.193Z"
   },
   {
    "duration": 187,
    "start_time": "2023-11-13T12:46:55.230Z"
   },
   {
    "duration": 7,
    "start_time": "2023-11-13T12:46:55.422Z"
   },
   {
    "duration": 7,
    "start_time": "2023-11-13T12:46:55.857Z"
   },
   {
    "duration": 21,
    "start_time": "2023-11-13T12:46:56.072Z"
   },
   {
    "duration": 410,
    "start_time": "2023-11-13T12:46:56.281Z"
   },
   {
    "duration": 341,
    "start_time": "2023-11-13T12:46:56.694Z"
   },
   {
    "duration": 187,
    "start_time": "2023-11-13T12:46:57.249Z"
   },
   {
    "duration": 1611,
    "start_time": "2023-11-13T12:46:57.442Z"
   },
   {
    "duration": 0,
    "start_time": "2023-11-13T12:46:59.055Z"
   },
   {
    "duration": 0,
    "start_time": "2023-11-13T12:46:59.057Z"
   },
   {
    "duration": 0,
    "start_time": "2023-11-13T12:46:59.066Z"
   },
   {
    "duration": 0,
    "start_time": "2023-11-13T12:46:59.067Z"
   },
   {
    "duration": 0,
    "start_time": "2023-11-13T12:46:59.069Z"
   },
   {
    "duration": 11,
    "start_time": "2023-11-13T12:46:59.394Z"
   },
   {
    "duration": 11,
    "start_time": "2023-11-13T12:46:59.791Z"
   },
   {
    "duration": 12,
    "start_time": "2023-11-13T12:47:00.211Z"
   },
   {
    "duration": 16,
    "start_time": "2023-11-13T12:47:01.625Z"
   },
   {
    "duration": 145,
    "start_time": "2023-11-13T12:47:08.776Z"
   },
   {
    "duration": 20,
    "start_time": "2023-11-13T12:47:09.888Z"
   },
   {
    "duration": 2063,
    "start_time": "2023-11-13T12:47:10.407Z"
   },
   {
    "duration": 4,
    "start_time": "2023-11-13T12:47:12.472Z"
   },
   {
    "duration": 12,
    "start_time": "2023-11-13T12:47:12.721Z"
   },
   {
    "duration": 6,
    "start_time": "2023-11-13T12:47:14.112Z"
   },
   {
    "duration": 9,
    "start_time": "2023-11-13T12:47:14.539Z"
   },
   {
    "duration": 7,
    "start_time": "2023-11-13T12:47:14.710Z"
   },
   {
    "duration": 7,
    "start_time": "2023-11-13T12:47:14.911Z"
   },
   {
    "duration": 7,
    "start_time": "2023-11-13T12:47:23.424Z"
   },
   {
    "duration": 5,
    "start_time": "2023-11-13T12:47:24.446Z"
   },
   {
    "duration": 13,
    "start_time": "2023-11-13T12:47:24.838Z"
   },
   {
    "duration": 273,
    "start_time": "2023-11-13T12:47:25.039Z"
   },
   {
    "duration": 8,
    "start_time": "2023-11-13T12:47:25.315Z"
   },
   {
    "duration": 26,
    "start_time": "2023-11-13T12:47:25.580Z"
   },
   {
    "duration": 6,
    "start_time": "2023-11-13T12:47:26.757Z"
   },
   {
    "duration": 6,
    "start_time": "2023-11-13T12:47:26.952Z"
   },
   {
    "duration": 7,
    "start_time": "2023-11-13T12:47:27.152Z"
   },
   {
    "duration": 7,
    "start_time": "2023-11-13T12:47:27.516Z"
   },
   {
    "duration": 447,
    "start_time": "2023-11-13T12:47:27.757Z"
   },
   {
    "duration": 8,
    "start_time": "2023-11-13T12:47:28.205Z"
   },
   {
    "duration": 218,
    "start_time": "2023-11-13T12:47:29.118Z"
   },
   {
    "duration": 227,
    "start_time": "2023-11-13T12:47:30.009Z"
   },
   {
    "duration": 231,
    "start_time": "2023-11-13T12:47:30.764Z"
   },
   {
    "duration": 231,
    "start_time": "2023-11-13T12:47:31.638Z"
   },
   {
    "duration": 340,
    "start_time": "2023-11-13T12:47:32.555Z"
   },
   {
    "duration": 178,
    "start_time": "2023-11-13T12:47:33.649Z"
   },
   {
    "duration": 195,
    "start_time": "2023-11-13T12:47:34.632Z"
   },
   {
    "duration": 3,
    "start_time": "2023-11-13T12:47:35.631Z"
   },
   {
    "duration": 161,
    "start_time": "2023-11-13T12:47:36.864Z"
   },
   {
    "duration": 4,
    "start_time": "2023-11-13T12:47:37.496Z"
   },
   {
    "duration": 5,
    "start_time": "2023-11-13T12:47:37.845Z"
   },
   {
    "duration": 14,
    "start_time": "2023-11-13T12:47:40.852Z"
   },
   {
    "duration": 305,
    "start_time": "2023-11-13T12:47:41.661Z"
   },
   {
    "duration": 470,
    "start_time": "2023-11-13T12:47:42.868Z"
   },
   {
    "duration": 214,
    "start_time": "2023-11-13T12:47:44.639Z"
   },
   {
    "duration": 191,
    "start_time": "2023-11-13T12:47:45.354Z"
   },
   {
    "duration": 113,
    "start_time": "2023-11-13T12:47:46.435Z"
   },
   {
    "duration": 203,
    "start_time": "2023-11-13T12:47:46.912Z"
   },
   {
    "duration": 204,
    "start_time": "2023-11-13T12:47:47.171Z"
   },
   {
    "duration": 169,
    "start_time": "2023-11-13T12:47:47.403Z"
   },
   {
    "duration": 171,
    "start_time": "2023-11-13T12:47:47.927Z"
   },
   {
    "duration": 139,
    "start_time": "2023-11-13T12:47:48.406Z"
   },
   {
    "duration": 150,
    "start_time": "2023-11-13T12:47:49.277Z"
   },
   {
    "duration": 177,
    "start_time": "2023-11-13T12:47:50.292Z"
   },
   {
    "duration": 25,
    "start_time": "2023-11-13T12:47:50.746Z"
   },
   {
    "duration": 179,
    "start_time": "2023-11-13T12:47:51.191Z"
   },
   {
    "duration": 7,
    "start_time": "2023-11-13T12:49:34.053Z"
   },
   {
    "duration": 4,
    "start_time": "2023-11-13T12:50:25.835Z"
   },
   {
    "duration": 5,
    "start_time": "2023-11-13T12:50:32.376Z"
   },
   {
    "duration": 6,
    "start_time": "2023-11-13T12:50:51.876Z"
   },
   {
    "duration": 631,
    "start_time": "2023-11-13T12:51:39.242Z"
   },
   {
    "duration": 637,
    "start_time": "2023-11-13T12:51:49.721Z"
   },
   {
    "duration": 9,
    "start_time": "2023-11-13T12:52:06.334Z"
   },
   {
    "duration": 9,
    "start_time": "2023-11-13T12:52:27.199Z"
   },
   {
    "duration": 6,
    "start_time": "2023-11-13T12:52:52.788Z"
   },
   {
    "duration": 7,
    "start_time": "2023-11-13T12:53:01.523Z"
   },
   {
    "duration": 9,
    "start_time": "2023-11-13T12:54:29.192Z"
   },
   {
    "duration": 9,
    "start_time": "2023-11-13T12:54:35.407Z"
   },
   {
    "duration": 11,
    "start_time": "2023-11-13T12:54:48.588Z"
   },
   {
    "duration": 31,
    "start_time": "2023-11-13T12:56:48.545Z"
   },
   {
    "duration": 32,
    "start_time": "2023-11-13T12:57:00.615Z"
   },
   {
    "duration": 6,
    "start_time": "2023-11-13T12:57:14.856Z"
   },
   {
    "duration": 7,
    "start_time": "2023-11-13T12:57:19.723Z"
   },
   {
    "duration": 48,
    "start_time": "2023-11-13T12:57:31.842Z"
   },
   {
    "duration": 36,
    "start_time": "2023-11-13T12:57:43.273Z"
   },
   {
    "duration": 15,
    "start_time": "2023-11-13T12:57:57.734Z"
   },
   {
    "duration": 15,
    "start_time": "2023-11-13T12:58:20.508Z"
   },
   {
    "duration": 11,
    "start_time": "2023-11-13T12:59:02.245Z"
   },
   {
    "duration": 15,
    "start_time": "2023-11-13T12:59:10.874Z"
   },
   {
    "duration": 254,
    "start_time": "2023-11-13T13:00:07.422Z"
   },
   {
    "duration": 14,
    "start_time": "2023-11-13T13:00:16.346Z"
   },
   {
    "duration": 15,
    "start_time": "2023-11-13T13:00:21.721Z"
   },
   {
    "duration": 13,
    "start_time": "2023-11-13T13:00:48.755Z"
   },
   {
    "duration": 14,
    "start_time": "2023-11-13T13:00:53.521Z"
   },
   {
    "duration": 12,
    "start_time": "2023-11-13T13:01:00.085Z"
   },
   {
    "duration": 11,
    "start_time": "2023-11-13T13:01:02.913Z"
   },
   {
    "duration": 11,
    "start_time": "2023-11-13T13:01:35.745Z"
   },
   {
    "duration": 9,
    "start_time": "2023-11-13T13:01:39.116Z"
   },
   {
    "duration": 11,
    "start_time": "2023-11-13T13:01:43.630Z"
   },
   {
    "duration": 10,
    "start_time": "2023-11-13T13:01:46.366Z"
   },
   {
    "duration": 10,
    "start_time": "2023-11-13T13:01:48.819Z"
   },
   {
    "duration": 13,
    "start_time": "2023-11-13T13:01:56.093Z"
   },
   {
    "duration": 10,
    "start_time": "2023-11-13T13:02:05.659Z"
   },
   {
    "duration": 10,
    "start_time": "2023-11-13T13:02:17.216Z"
   },
   {
    "duration": 7,
    "start_time": "2023-11-13T13:03:16.312Z"
   },
   {
    "duration": 11,
    "start_time": "2023-11-13T13:04:32.314Z"
   },
   {
    "duration": 11,
    "start_time": "2023-11-13T13:05:55.387Z"
   },
   {
    "duration": 32,
    "start_time": "2023-11-13T13:06:32.766Z"
   },
   {
    "duration": 105,
    "start_time": "2023-11-13T13:06:40.791Z"
   },
   {
    "duration": 16,
    "start_time": "2023-11-13T13:06:41.438Z"
   },
   {
    "duration": 2145,
    "start_time": "2023-11-13T13:06:41.644Z"
   },
   {
    "duration": 4,
    "start_time": "2023-11-13T13:06:43.790Z"
   },
   {
    "duration": 24,
    "start_time": "2023-11-13T13:06:43.795Z"
   },
   {
    "duration": 26,
    "start_time": "2023-11-13T13:06:43.821Z"
   },
   {
    "duration": 23,
    "start_time": "2023-11-13T13:06:43.849Z"
   },
   {
    "duration": 61,
    "start_time": "2023-11-13T13:06:43.873Z"
   },
   {
    "duration": 10,
    "start_time": "2023-11-13T13:06:45.149Z"
   },
   {
    "duration": 7,
    "start_time": "2023-11-13T13:06:45.731Z"
   },
   {
    "duration": 7,
    "start_time": "2023-11-13T13:06:52.262Z"
   },
   {
    "duration": 6,
    "start_time": "2023-11-13T13:06:55.247Z"
   },
   {
    "duration": 29,
    "start_time": "2023-11-13T13:07:11.872Z"
   },
   {
    "duration": 29,
    "start_time": "2023-11-13T13:07:35.437Z"
   },
   {
    "duration": 21,
    "start_time": "2023-11-13T13:07:40.204Z"
   },
   {
    "duration": 5,
    "start_time": "2023-11-13T13:09:57.008Z"
   },
   {
    "duration": 5,
    "start_time": "2023-11-13T13:10:16.165Z"
   },
   {
    "duration": 5,
    "start_time": "2023-11-13T13:10:24.219Z"
   },
   {
    "duration": 11,
    "start_time": "2023-11-13T13:10:33.685Z"
   },
   {
    "duration": 5,
    "start_time": "2023-11-13T13:10:37.823Z"
   },
   {
    "duration": 15,
    "start_time": "2023-11-13T13:11:26.645Z"
   },
   {
    "duration": 45,
    "start_time": "2023-11-13T13:11:32.679Z"
   },
   {
    "duration": 17,
    "start_time": "2023-11-13T13:12:35.969Z"
   },
   {
    "duration": 42,
    "start_time": "2023-11-13T13:12:57.190Z"
   },
   {
    "duration": 12,
    "start_time": "2023-11-13T13:13:10.462Z"
   },
   {
    "duration": 14,
    "start_time": "2023-11-13T13:14:31.383Z"
   },
   {
    "duration": 19,
    "start_time": "2023-11-13T13:15:17.672Z"
   },
   {
    "duration": 11,
    "start_time": "2023-11-13T13:15:21.352Z"
   },
   {
    "duration": 17,
    "start_time": "2023-11-13T13:15:25.525Z"
   },
   {
    "duration": 11,
    "start_time": "2023-11-13T13:15:29.072Z"
   },
   {
    "duration": 21,
    "start_time": "2023-11-13T13:15:33.295Z"
   },
   {
    "duration": 14,
    "start_time": "2023-11-13T13:15:33.855Z"
   },
   {
    "duration": 12,
    "start_time": "2023-11-13T13:15:34.554Z"
   },
   {
    "duration": 16,
    "start_time": "2023-11-13T13:15:35.049Z"
   },
   {
    "duration": 11,
    "start_time": "2023-11-13T13:16:02.750Z"
   },
   {
    "duration": 46,
    "start_time": "2023-11-13T13:16:08.195Z"
   },
   {
    "duration": 14,
    "start_time": "2023-11-13T13:16:29.139Z"
   },
   {
    "duration": 21,
    "start_time": "2023-11-13T13:16:32.503Z"
   },
   {
    "duration": 17,
    "start_time": "2023-11-13T13:18:07.462Z"
   },
   {
    "duration": 8,
    "start_time": "2023-11-13T13:18:35.115Z"
   },
   {
    "duration": 131,
    "start_time": "2023-11-13T13:18:42.979Z"
   },
   {
    "duration": 17,
    "start_time": "2023-11-13T13:18:43.799Z"
   },
   {
    "duration": 2033,
    "start_time": "2023-11-13T13:18:43.974Z"
   },
   {
    "duration": 4,
    "start_time": "2023-11-13T13:18:46.008Z"
   },
   {
    "duration": 60,
    "start_time": "2023-11-13T13:18:46.013Z"
   },
   {
    "duration": 27,
    "start_time": "2023-11-13T13:18:46.076Z"
   },
   {
    "duration": 38,
    "start_time": "2023-11-13T13:18:46.105Z"
   },
   {
    "duration": 41,
    "start_time": "2023-11-13T13:18:46.145Z"
   },
   {
    "duration": 21,
    "start_time": "2023-11-13T13:18:46.188Z"
   },
   {
    "duration": 42,
    "start_time": "2023-11-13T13:18:46.211Z"
   },
   {
    "duration": 15,
    "start_time": "2023-11-13T13:18:46.255Z"
   },
   {
    "duration": 21,
    "start_time": "2023-11-13T13:19:06.252Z"
   },
   {
    "duration": 11,
    "start_time": "2023-11-13T13:19:07.103Z"
   },
   {
    "duration": 10,
    "start_time": "2023-11-13T13:19:11.647Z"
   },
   {
    "duration": 8,
    "start_time": "2023-11-13T13:19:14.404Z"
   },
   {
    "duration": 9,
    "start_time": "2023-11-13T13:19:45.161Z"
   },
   {
    "duration": 6,
    "start_time": "2023-11-13T13:19:51.040Z"
   },
   {
    "duration": 11,
    "start_time": "2023-11-13T13:19:56.084Z"
   },
   {
    "duration": 958,
    "start_time": "2023-11-14T10:56:28.307Z"
   },
   {
    "duration": 17,
    "start_time": "2023-11-14T10:56:30.276Z"
   },
   {
    "duration": 1902,
    "start_time": "2023-11-14T10:56:30.534Z"
   },
   {
    "duration": 4,
    "start_time": "2023-11-14T10:56:32.438Z"
   },
   {
    "duration": 44,
    "start_time": "2023-11-14T10:56:32.443Z"
   },
   {
    "duration": 6,
    "start_time": "2023-11-14T10:56:32.803Z"
   },
   {
    "duration": 68,
    "start_time": "2023-11-14T11:00:52.155Z"
   },
   {
    "duration": 106,
    "start_time": "2023-11-14T11:00:59.163Z"
   },
   {
    "duration": 14,
    "start_time": "2023-11-14T11:00:59.938Z"
   },
   {
    "duration": 1802,
    "start_time": "2023-11-14T11:01:00.354Z"
   },
   {
    "duration": 3,
    "start_time": "2023-11-14T11:01:02.157Z"
   },
   {
    "duration": 92,
    "start_time": "2023-11-14T11:01:02.161Z"
   },
   {
    "duration": 4,
    "start_time": "2023-11-14T11:01:03.194Z"
   },
   {
    "duration": 9,
    "start_time": "2023-11-14T11:01:04.005Z"
   },
   {
    "duration": 22,
    "start_time": "2023-11-14T11:01:04.830Z"
   },
   {
    "duration": 13,
    "start_time": "2023-11-14T11:01:05.556Z"
   },
   {
    "duration": 7,
    "start_time": "2023-11-14T11:01:06.272Z"
   },
   {
    "duration": 5,
    "start_time": "2023-11-14T11:01:07.899Z"
   },
   {
    "duration": 4,
    "start_time": "2023-11-14T11:01:08.093Z"
   },
   {
    "duration": 7,
    "start_time": "2023-11-14T11:01:08.483Z"
   },
   {
    "duration": 98,
    "start_time": "2023-11-14T11:01:11.277Z"
   },
   {
    "duration": 14,
    "start_time": "2023-11-14T11:01:11.376Z"
   },
   {
    "duration": 1758,
    "start_time": "2023-11-14T11:01:11.391Z"
   },
   {
    "duration": 6,
    "start_time": "2023-11-14T11:01:13.150Z"
   },
   {
    "duration": 75,
    "start_time": "2023-11-14T11:01:13.158Z"
   },
   {
    "duration": 125,
    "start_time": "2023-11-14T11:01:13.235Z"
   },
   {
    "duration": 34,
    "start_time": "2023-11-14T11:01:13.362Z"
   },
   {
    "duration": 68,
    "start_time": "2023-11-14T11:01:13.397Z"
   },
   {
    "duration": 33,
    "start_time": "2023-11-14T11:01:13.466Z"
   },
   {
    "duration": 55,
    "start_time": "2023-11-14T11:01:13.500Z"
   },
   {
    "duration": 109,
    "start_time": "2023-11-14T11:01:13.556Z"
   },
   {
    "duration": 34,
    "start_time": "2023-11-14T11:01:13.666Z"
   },
   {
    "duration": 49,
    "start_time": "2023-11-14T11:01:13.701Z"
   },
   {
    "duration": 254,
    "start_time": "2023-11-14T11:01:13.753Z"
   },
   {
    "duration": 7,
    "start_time": "2023-11-14T11:01:14.008Z"
   },
   {
    "duration": 17,
    "start_time": "2023-11-14T11:01:14.017Z"
   },
   {
    "duration": 9,
    "start_time": "2023-11-14T11:01:14.036Z"
   },
   {
    "duration": 12,
    "start_time": "2023-11-14T11:01:14.046Z"
   },
   {
    "duration": 5,
    "start_time": "2023-11-14T11:01:14.059Z"
   },
   {
    "duration": 9,
    "start_time": "2023-11-14T11:01:14.065Z"
   },
   {
    "duration": 277,
    "start_time": "2023-11-14T11:01:14.075Z"
   },
   {
    "duration": 7,
    "start_time": "2023-11-14T11:01:14.353Z"
   },
   {
    "duration": 184,
    "start_time": "2023-11-14T11:01:14.362Z"
   },
   {
    "duration": 209,
    "start_time": "2023-11-14T11:01:14.548Z"
   },
   {
    "duration": 198,
    "start_time": "2023-11-14T11:01:14.759Z"
   },
   {
    "duration": 207,
    "start_time": "2023-11-14T11:01:14.959Z"
   },
   {
    "duration": 288,
    "start_time": "2023-11-14T11:01:15.167Z"
   },
   {
    "duration": 287,
    "start_time": "2023-11-14T11:01:15.457Z"
   },
   {
    "duration": 181,
    "start_time": "2023-11-14T11:01:15.745Z"
   },
   {
    "duration": 4,
    "start_time": "2023-11-14T11:01:15.928Z"
   },
   {
    "duration": 183,
    "start_time": "2023-11-14T11:01:15.933Z"
   },
   {
    "duration": 5,
    "start_time": "2023-11-14T11:01:16.117Z"
   },
   {
    "duration": 60,
    "start_time": "2023-11-14T11:01:16.123Z"
   },
   {
    "duration": 44,
    "start_time": "2023-11-14T11:01:16.185Z"
   },
   {
    "duration": 316,
    "start_time": "2023-11-14T11:01:16.230Z"
   },
   {
    "duration": 301,
    "start_time": "2023-11-14T11:01:16.548Z"
   },
   {
    "duration": 192,
    "start_time": "2023-11-14T11:01:16.850Z"
   },
   {
    "duration": 186,
    "start_time": "2023-11-14T11:01:17.043Z"
   },
   {
    "duration": 105,
    "start_time": "2023-11-14T11:01:17.231Z"
   },
   {
    "duration": 204,
    "start_time": "2023-11-14T11:01:17.337Z"
   },
   {
    "duration": 205,
    "start_time": "2023-11-14T11:01:17.545Z"
   },
   {
    "duration": 163,
    "start_time": "2023-11-14T11:01:17.755Z"
   },
   {
    "duration": 144,
    "start_time": "2023-11-14T11:01:17.919Z"
   },
   {
    "duration": 136,
    "start_time": "2023-11-14T11:01:18.064Z"
   },
   {
    "duration": 143,
    "start_time": "2023-11-14T11:01:18.201Z"
   },
   {
    "duration": 155,
    "start_time": "2023-11-14T11:01:18.346Z"
   },
   {
    "duration": 21,
    "start_time": "2023-11-14T11:01:18.503Z"
   },
   {
    "duration": 208,
    "start_time": "2023-11-14T11:01:18.525Z"
   },
   {
    "duration": 12,
    "start_time": "2023-11-14T11:22:18.183Z"
   },
   {
    "duration": 15,
    "start_time": "2023-11-14T11:22:24.939Z"
   },
   {
    "duration": 5,
    "start_time": "2023-11-14T11:24:03.422Z"
   },
   {
    "duration": 10,
    "start_time": "2023-11-14T11:24:21.529Z"
   },
   {
    "duration": 7,
    "start_time": "2023-11-14T11:24:23.732Z"
   },
   {
    "duration": 7,
    "start_time": "2023-11-14T11:24:39.293Z"
   },
   {
    "duration": 126,
    "start_time": "2023-11-14T11:24:41.813Z"
   },
   {
    "duration": 11,
    "start_time": "2023-11-14T11:24:44.060Z"
   },
   {
    "duration": 8,
    "start_time": "2023-11-14T11:24:53.425Z"
   },
   {
    "duration": 5,
    "start_time": "2023-11-14T11:24:59.524Z"
   },
   {
    "duration": 5,
    "start_time": "2023-11-14T11:25:10.702Z"
   },
   {
    "duration": 5,
    "start_time": "2023-11-14T11:25:15.028Z"
   },
   {
    "duration": 7,
    "start_time": "2023-11-14T11:25:39.011Z"
   },
   {
    "duration": 8,
    "start_time": "2023-11-14T11:27:53.458Z"
   },
   {
    "duration": 25,
    "start_time": "2023-11-14T11:27:59.759Z"
   },
   {
    "duration": 16,
    "start_time": "2023-11-14T11:28:08.254Z"
   },
   {
    "duration": 139,
    "start_time": "2023-11-14T11:28:23.731Z"
   },
   {
    "duration": 12,
    "start_time": "2023-11-14T11:28:56.040Z"
   },
   {
    "duration": 12,
    "start_time": "2023-11-14T11:28:56.748Z"
   },
   {
    "duration": 13,
    "start_time": "2023-11-14T11:29:04.248Z"
   },
   {
    "duration": 14,
    "start_time": "2023-11-14T11:29:15.392Z"
   },
   {
    "duration": 102,
    "start_time": "2023-11-14T11:29:20.961Z"
   },
   {
    "duration": 14,
    "start_time": "2023-11-14T11:29:22.078Z"
   },
   {
    "duration": 1694,
    "start_time": "2023-11-14T11:29:22.601Z"
   },
   {
    "duration": 3,
    "start_time": "2023-11-14T11:29:24.990Z"
   },
   {
    "duration": 10,
    "start_time": "2023-11-14T11:29:26.367Z"
   },
   {
    "duration": 5,
    "start_time": "2023-11-14T11:29:27.832Z"
   },
   {
    "duration": 9,
    "start_time": "2023-11-14T11:29:28.609Z"
   },
   {
    "duration": 20,
    "start_time": "2023-11-14T11:29:29.184Z"
   },
   {
    "duration": 12,
    "start_time": "2023-11-14T11:29:29.819Z"
   },
   {
    "duration": 11,
    "start_time": "2023-11-14T11:29:30.281Z"
   },
   {
    "duration": 12,
    "start_time": "2023-11-14T11:30:05.853Z"
   },
   {
    "duration": 11,
    "start_time": "2023-11-14T11:31:00.307Z"
   },
   {
    "duration": 10,
    "start_time": "2023-11-14T11:31:30.458Z"
   },
   {
    "duration": 19,
    "start_time": "2023-11-14T11:31:45.945Z"
   },
   {
    "duration": 22,
    "start_time": "2023-11-14T11:32:46.615Z"
   },
   {
    "duration": 10,
    "start_time": "2023-11-14T11:33:32.620Z"
   },
   {
    "duration": 20,
    "start_time": "2023-11-14T11:33:43.656Z"
   },
   {
    "duration": 112,
    "start_time": "2023-11-14T11:36:01.248Z"
   },
   {
    "duration": 16,
    "start_time": "2023-11-14T11:36:21.199Z"
   },
   {
    "duration": 962,
    "start_time": "2023-11-14T11:36:25.572Z"
   },
   {
    "duration": 7,
    "start_time": "2023-11-14T11:36:35.299Z"
   },
   {
    "duration": 7,
    "start_time": "2023-11-14T11:36:50.810Z"
   },
   {
    "duration": 7,
    "start_time": "2023-11-14T11:37:17.821Z"
   },
   {
    "duration": 4,
    "start_time": "2023-11-14T11:37:32.253Z"
   },
   {
    "duration": 130,
    "start_time": "2023-11-14T11:37:35.388Z"
   },
   {
    "duration": 115,
    "start_time": "2023-11-14T11:37:42.383Z"
   },
   {
    "duration": 112,
    "start_time": "2023-11-14T11:37:48.148Z"
   },
   {
    "duration": 108,
    "start_time": "2023-11-14T11:37:52.593Z"
   },
   {
    "duration": 96,
    "start_time": "2023-11-14T11:37:57.156Z"
   },
   {
    "duration": 111,
    "start_time": "2023-11-14T11:38:02.151Z"
   },
   {
    "duration": 32,
    "start_time": "2023-11-14T11:38:40.204Z"
   },
   {
    "duration": 10,
    "start_time": "2023-11-14T11:39:13.075Z"
   },
   {
    "duration": 13,
    "start_time": "2023-11-14T11:39:24.616Z"
   },
   {
    "duration": 7,
    "start_time": "2023-11-14T11:39:27.220Z"
   },
   {
    "duration": 13,
    "start_time": "2023-11-14T11:39:27.717Z"
   },
   {
    "duration": 16,
    "start_time": "2023-11-14T11:39:41.298Z"
   },
   {
    "duration": 15,
    "start_time": "2023-11-14T11:40:27.446Z"
   },
   {
    "duration": 15,
    "start_time": "2023-11-14T11:40:34.676Z"
   },
   {
    "duration": 13,
    "start_time": "2023-11-14T11:40:40.174Z"
   },
   {
    "duration": 3,
    "start_time": "2023-11-14T11:41:02.683Z"
   },
   {
    "duration": 8,
    "start_time": "2023-11-14T11:41:04.778Z"
   },
   {
    "duration": 14,
    "start_time": "2023-11-14T11:41:11.257Z"
   },
   {
    "duration": 8,
    "start_time": "2023-11-14T11:41:17.669Z"
   },
   {
    "duration": 9,
    "start_time": "2023-11-14T11:41:26.416Z"
   },
   {
    "duration": 7,
    "start_time": "2023-11-14T11:41:30.108Z"
   },
   {
    "duration": 107,
    "start_time": "2023-11-14T11:41:36.108Z"
   },
   {
    "duration": 21,
    "start_time": "2023-11-14T11:41:36.954Z"
   },
   {
    "duration": 2031,
    "start_time": "2023-11-14T11:41:37.457Z"
   },
   {
    "duration": 4,
    "start_time": "2023-11-14T11:41:39.489Z"
   },
   {
    "duration": 16,
    "start_time": "2023-11-14T11:41:39.756Z"
   },
   {
    "duration": 5,
    "start_time": "2023-11-14T11:41:46.178Z"
   },
   {
    "duration": 10,
    "start_time": "2023-11-14T11:41:47.828Z"
   },
   {
    "duration": 6,
    "start_time": "2023-11-14T11:41:48.902Z"
   },
   {
    "duration": 7,
    "start_time": "2023-11-14T11:41:49.814Z"
   },
   {
    "duration": 13,
    "start_time": "2023-11-14T11:41:58.258Z"
   },
   {
    "duration": 7,
    "start_time": "2023-11-14T11:42:02.375Z"
   },
   {
    "duration": 7,
    "start_time": "2023-11-14T11:42:06.904Z"
   },
   {
    "duration": 8,
    "start_time": "2023-11-14T11:42:09.540Z"
   },
   {
    "duration": 8,
    "start_time": "2023-11-14T11:42:13.446Z"
   },
   {
    "duration": 7,
    "start_time": "2023-11-14T11:42:16.987Z"
   },
   {
    "duration": 20,
    "start_time": "2023-11-14T11:42:42.415Z"
   },
   {
    "duration": 19,
    "start_time": "2023-11-14T11:43:03.332Z"
   },
   {
    "duration": 19,
    "start_time": "2023-11-14T11:44:32.534Z"
   },
   {
    "duration": 28,
    "start_time": "2023-11-14T11:44:48.744Z"
   },
   {
    "duration": 23,
    "start_time": "2023-11-14T11:45:17.503Z"
   },
   {
    "duration": 21,
    "start_time": "2023-11-14T11:46:04.867Z"
   },
   {
    "duration": 20,
    "start_time": "2023-11-14T11:46:37.807Z"
   },
   {
    "duration": 22,
    "start_time": "2023-11-14T11:46:48.704Z"
   },
   {
    "duration": 7,
    "start_time": "2023-11-14T11:47:06.714Z"
   },
   {
    "duration": 15,
    "start_time": "2023-11-14T11:47:32.370Z"
   },
   {
    "duration": 4,
    "start_time": "2023-11-14T11:49:00.101Z"
   },
   {
    "duration": 19,
    "start_time": "2023-11-14T11:49:08.777Z"
   },
   {
    "duration": 6,
    "start_time": "2023-11-14T11:49:24.923Z"
   },
   {
    "duration": 6,
    "start_time": "2023-11-14T11:49:31.312Z"
   },
   {
    "duration": 38,
    "start_time": "2023-11-14T11:50:55.362Z"
   },
   {
    "duration": 16,
    "start_time": "2023-11-14T11:51:10.852Z"
   },
   {
    "duration": 27,
    "start_time": "2023-11-14T11:51:32.728Z"
   },
   {
    "duration": 24,
    "start_time": "2023-11-14T11:54:08.319Z"
   },
   {
    "duration": 23,
    "start_time": "2023-11-14T11:54:17.634Z"
   },
   {
    "duration": 26,
    "start_time": "2023-11-14T11:54:27.204Z"
   },
   {
    "duration": 13,
    "start_time": "2023-11-14T11:54:37.836Z"
   },
   {
    "duration": 15,
    "start_time": "2023-11-14T11:54:53.941Z"
   },
   {
    "duration": 104,
    "start_time": "2023-11-14T11:56:58.785Z"
   },
   {
    "duration": 101,
    "start_time": "2023-11-14T11:57:10.448Z"
   },
   {
    "duration": 18,
    "start_time": "2023-11-14T11:57:12.590Z"
   },
   {
    "duration": 23,
    "start_time": "2023-11-14T11:57:21.705Z"
   },
   {
    "duration": 41,
    "start_time": "2023-11-14T11:57:25.609Z"
   },
   {
    "duration": 18,
    "start_time": "2023-11-14T11:57:37.749Z"
   },
   {
    "duration": 24,
    "start_time": "2023-11-14T11:57:51.450Z"
   },
   {
    "duration": 17,
    "start_time": "2023-11-14T11:58:02.680Z"
   },
   {
    "duration": 24,
    "start_time": "2023-11-14T11:58:16.645Z"
   },
   {
    "duration": 871,
    "start_time": "2023-11-14T11:58:19.375Z"
   },
   {
    "duration": 16,
    "start_time": "2023-11-14T11:58:22.611Z"
   },
   {
    "duration": 25,
    "start_time": "2023-11-14T11:58:28.330Z"
   },
   {
    "duration": 20,
    "start_time": "2023-11-14T11:58:47.188Z"
   },
   {
    "duration": 115,
    "start_time": "2023-11-14T12:02:36.786Z"
   },
   {
    "duration": 17,
    "start_time": "2023-11-14T12:03:01.311Z"
   },
   {
    "duration": 1122,
    "start_time": "2023-11-14T12:03:46.997Z"
   },
   {
    "duration": 1003,
    "start_time": "2023-11-14T12:04:01.446Z"
   },
   {
    "duration": 112,
    "start_time": "2023-11-14T12:04:25.333Z"
   },
   {
    "duration": 111,
    "start_time": "2023-11-14T12:04:43.302Z"
   },
   {
    "duration": 106,
    "start_time": "2023-11-14T12:04:59.672Z"
   },
   {
    "duration": 1210,
    "start_time": "2023-11-14T12:05:54.145Z"
   },
   {
    "duration": 1001,
    "start_time": "2023-11-14T12:07:03.851Z"
   },
   {
    "duration": 1082,
    "start_time": "2023-11-14T12:07:19.348Z"
   },
   {
    "duration": 29,
    "start_time": "2023-11-14T12:07:52.268Z"
   },
   {
    "duration": 11,
    "start_time": "2023-11-14T12:07:56.381Z"
   },
   {
    "duration": 4,
    "start_time": "2023-11-14T12:07:57.064Z"
   },
   {
    "duration": 13,
    "start_time": "2023-11-14T12:07:57.762Z"
   },
   {
    "duration": 6,
    "start_time": "2023-11-14T12:07:58.085Z"
   },
   {
    "duration": 1008,
    "start_time": "2023-11-14T12:07:58.638Z"
   },
   {
    "duration": 1144,
    "start_time": "2023-11-14T12:10:23.241Z"
   },
   {
    "duration": 1497,
    "start_time": "2023-11-14T12:10:38.744Z"
   },
   {
    "duration": 97,
    "start_time": "2023-11-14T12:10:48.015Z"
   },
   {
    "duration": 25,
    "start_time": "2023-11-14T12:10:48.853Z"
   },
   {
    "duration": 1855,
    "start_time": "2023-11-14T12:10:49.251Z"
   },
   {
    "duration": 3,
    "start_time": "2023-11-14T12:10:51.109Z"
   },
   {
    "duration": 10,
    "start_time": "2023-11-14T12:10:51.114Z"
   },
   {
    "duration": 4,
    "start_time": "2023-11-14T12:10:51.307Z"
   },
   {
    "duration": 9,
    "start_time": "2023-11-14T12:10:52.043Z"
   },
   {
    "duration": 6,
    "start_time": "2023-11-14T12:10:52.559Z"
   },
   {
    "duration": 1420,
    "start_time": "2023-11-14T12:10:53.131Z"
   },
   {
    "duration": 1000,
    "start_time": "2023-11-14T12:19:40.659Z"
   },
   {
    "duration": 106,
    "start_time": "2023-11-14T12:20:00.362Z"
   },
   {
    "duration": 13,
    "start_time": "2023-11-14T12:20:01.160Z"
   },
   {
    "duration": 1683,
    "start_time": "2023-11-14T12:20:01.432Z"
   },
   {
    "duration": 3,
    "start_time": "2023-11-14T12:20:03.118Z"
   },
   {
    "duration": 132,
    "start_time": "2023-11-14T12:20:03.123Z"
   },
   {
    "duration": 173,
    "start_time": "2023-11-14T12:20:03.257Z"
   },
   {
    "duration": 13,
    "start_time": "2023-11-14T12:20:03.650Z"
   },
   {
    "duration": 39,
    "start_time": "2023-11-14T12:20:03.953Z"
   },
   {
    "duration": 1155,
    "start_time": "2023-11-14T12:20:04.500Z"
   },
   {
    "duration": 1022,
    "start_time": "2023-11-14T12:20:10.632Z"
   },
   {
    "duration": 12,
    "start_time": "2023-11-14T12:20:59.971Z"
   },
   {
    "duration": 10,
    "start_time": "2023-11-14T12:21:25.556Z"
   },
   {
    "duration": 11,
    "start_time": "2023-11-14T12:21:30.546Z"
   },
   {
    "duration": 12,
    "start_time": "2023-11-14T12:21:34.362Z"
   },
   {
    "duration": 46,
    "start_time": "2023-11-14T12:21:52.191Z"
   },
   {
    "duration": 12,
    "start_time": "2023-11-14T12:22:08.749Z"
   },
   {
    "duration": 5,
    "start_time": "2023-11-14T12:23:44.627Z"
   },
   {
    "duration": 27,
    "start_time": "2023-11-14T12:23:51.457Z"
   },
   {
    "duration": 77,
    "start_time": "2023-11-14T12:24:01.586Z"
   },
   {
    "duration": 1037,
    "start_time": "2023-11-14T12:24:32.318Z"
   },
   {
    "duration": 1250,
    "start_time": "2023-11-14T12:25:00.758Z"
   },
   {
    "duration": 1161,
    "start_time": "2023-11-14T12:25:14.640Z"
   },
   {
    "duration": 1228,
    "start_time": "2023-11-14T12:25:22.972Z"
   },
   {
    "duration": 1318,
    "start_time": "2023-11-14T12:25:36.681Z"
   },
   {
    "duration": 1655,
    "start_time": "2023-11-14T12:25:44.747Z"
   },
   {
    "duration": 6,
    "start_time": "2023-11-14T12:26:20.062Z"
   },
   {
    "duration": 6,
    "start_time": "2023-11-14T12:26:37.031Z"
   },
   {
    "duration": 5,
    "start_time": "2023-11-14T12:26:48.735Z"
   },
   {
    "duration": 6,
    "start_time": "2023-11-14T12:26:53.399Z"
   },
   {
    "duration": 6,
    "start_time": "2023-11-14T12:27:08.714Z"
   },
   {
    "duration": 7,
    "start_time": "2023-11-14T12:27:20.500Z"
   },
   {
    "duration": 6,
    "start_time": "2023-11-14T12:27:36.438Z"
   },
   {
    "duration": 6,
    "start_time": "2023-11-14T12:27:49.319Z"
   },
   {
    "duration": 1038,
    "start_time": "2023-11-14T13:04:45.281Z"
   },
   {
    "duration": 98,
    "start_time": "2023-11-14T13:04:52.322Z"
   },
   {
    "duration": 14,
    "start_time": "2023-11-14T13:04:54.004Z"
   },
   {
    "duration": 2135,
    "start_time": "2023-11-14T13:04:54.177Z"
   },
   {
    "duration": 3,
    "start_time": "2023-11-14T13:04:56.314Z"
   },
   {
    "duration": 24,
    "start_time": "2023-11-14T13:04:56.319Z"
   },
   {
    "duration": 26,
    "start_time": "2023-11-14T13:04:56.346Z"
   },
   {
    "duration": 24,
    "start_time": "2023-11-14T13:04:56.373Z"
   },
   {
    "duration": 33,
    "start_time": "2023-11-14T13:04:56.399Z"
   },
   {
    "duration": 27,
    "start_time": "2023-11-14T13:04:56.434Z"
   },
   {
    "duration": 39,
    "start_time": "2023-11-14T13:04:56.463Z"
   },
   {
    "duration": 8,
    "start_time": "2023-11-14T13:04:56.653Z"
   },
   {
    "duration": 11,
    "start_time": "2023-11-14T13:04:57.238Z"
   },
   {
    "duration": 9,
    "start_time": "2023-11-14T13:04:57.446Z"
   },
   {
    "duration": 7,
    "start_time": "2023-11-14T13:04:57.637Z"
   },
   {
    "duration": 900,
    "start_time": "2023-11-14T13:04:58.357Z"
   },
   {
    "duration": 4,
    "start_time": "2023-11-14T13:05:06.176Z"
   },
   {
    "duration": 9,
    "start_time": "2023-11-14T13:05:25.099Z"
   },
   {
    "duration": 7,
    "start_time": "2023-11-14T13:05:34.746Z"
   },
   {
    "duration": 5,
    "start_time": "2023-11-14T13:06:08.564Z"
   },
   {
    "duration": 7,
    "start_time": "2023-11-14T13:06:09.634Z"
   },
   {
    "duration": 4,
    "start_time": "2023-11-14T13:06:13.834Z"
   },
   {
    "duration": 7,
    "start_time": "2023-11-14T13:06:14.356Z"
   },
   {
    "duration": 6,
    "start_time": "2023-11-14T13:06:18.943Z"
   },
   {
    "duration": 93,
    "start_time": "2023-11-14T13:06:24.453Z"
   },
   {
    "duration": 14,
    "start_time": "2023-11-14T13:06:25.193Z"
   },
   {
    "duration": 1746,
    "start_time": "2023-11-14T13:06:25.402Z"
   },
   {
    "duration": 6,
    "start_time": "2023-11-14T13:06:27.150Z"
   },
   {
    "duration": 21,
    "start_time": "2023-11-14T13:06:27.158Z"
   },
   {
    "duration": 16,
    "start_time": "2023-11-14T13:06:27.181Z"
   },
   {
    "duration": 9,
    "start_time": "2023-11-14T13:06:27.199Z"
   },
   {
    "duration": 10,
    "start_time": "2023-11-14T13:06:27.209Z"
   },
   {
    "duration": 6,
    "start_time": "2023-11-14T13:06:27.351Z"
   },
   {
    "duration": 6,
    "start_time": "2023-11-14T13:06:27.535Z"
   },
   {
    "duration": 7,
    "start_time": "2023-11-14T13:06:27.726Z"
   },
   {
    "duration": 7,
    "start_time": "2023-11-14T13:06:27.930Z"
   },
   {
    "duration": 8,
    "start_time": "2023-11-14T13:06:28.276Z"
   },
   {
    "duration": 7,
    "start_time": "2023-11-14T13:06:28.589Z"
   },
   {
    "duration": 5,
    "start_time": "2023-11-14T13:06:29.051Z"
   },
   {
    "duration": 6,
    "start_time": "2023-11-14T13:06:30.128Z"
   },
   {
    "duration": 4,
    "start_time": "2023-11-14T13:07:01.100Z"
   },
   {
    "duration": 7,
    "start_time": "2023-11-14T13:07:02.589Z"
   },
   {
    "duration": 97,
    "start_time": "2023-11-14T13:07:07.825Z"
   },
   {
    "duration": 14,
    "start_time": "2023-11-14T13:07:08.036Z"
   },
   {
    "duration": 1992,
    "start_time": "2023-11-14T13:07:08.208Z"
   },
   {
    "duration": 6,
    "start_time": "2023-11-14T13:07:10.203Z"
   },
   {
    "duration": 38,
    "start_time": "2023-11-14T13:07:10.211Z"
   },
   {
    "duration": 60,
    "start_time": "2023-11-14T13:07:10.251Z"
   },
   {
    "duration": 47,
    "start_time": "2023-11-14T13:07:10.312Z"
   },
   {
    "duration": 15,
    "start_time": "2023-11-14T13:07:10.360Z"
   },
   {
    "duration": 6,
    "start_time": "2023-11-14T13:07:10.433Z"
   },
   {
    "duration": 6,
    "start_time": "2023-11-14T13:07:10.637Z"
   },
   {
    "duration": 6,
    "start_time": "2023-11-14T13:07:10.867Z"
   },
   {
    "duration": 7,
    "start_time": "2023-11-14T13:07:11.283Z"
   },
   {
    "duration": 7,
    "start_time": "2023-11-14T13:07:11.561Z"
   },
   {
    "duration": 6,
    "start_time": "2023-11-14T13:07:11.852Z"
   },
   {
    "duration": 5,
    "start_time": "2023-11-14T13:07:12.210Z"
   },
   {
    "duration": 7,
    "start_time": "2023-11-14T13:07:12.845Z"
   },
   {
    "duration": 911,
    "start_time": "2023-11-15T17:28:53.859Z"
   },
   {
    "duration": 15,
    "start_time": "2023-11-15T17:28:54.772Z"
   },
   {
    "duration": 1806,
    "start_time": "2023-11-15T17:28:54.846Z"
   },
   {
    "duration": 3,
    "start_time": "2023-11-15T17:28:56.654Z"
   },
   {
    "duration": 14,
    "start_time": "2023-11-15T17:28:56.658Z"
   },
   {
    "duration": 6,
    "start_time": "2023-11-15T17:28:56.673Z"
   },
   {
    "duration": 12,
    "start_time": "2023-11-15T17:28:56.680Z"
   },
   {
    "duration": 7,
    "start_time": "2023-11-15T17:28:56.693Z"
   },
   {
    "duration": 9,
    "start_time": "2023-11-15T17:28:56.795Z"
   },
   {
    "duration": 7,
    "start_time": "2023-11-15T17:28:56.961Z"
   },
   {
    "duration": 6,
    "start_time": "2023-11-15T17:28:57.137Z"
   },
   {
    "duration": 7,
    "start_time": "2023-11-15T17:28:57.311Z"
   },
   {
    "duration": 7,
    "start_time": "2023-11-15T17:28:57.488Z"
   },
   {
    "duration": 7,
    "start_time": "2023-11-15T17:28:57.684Z"
   },
   {
    "duration": 5,
    "start_time": "2023-11-15T17:28:58.129Z"
   },
   {
    "duration": 7,
    "start_time": "2023-11-15T17:28:58.650Z"
   },
   {
    "duration": 72,
    "start_time": "2023-11-15T17:31:54.889Z"
   },
   {
    "duration": 145,
    "start_time": "2023-11-15T17:32:00.505Z"
   },
   {
    "duration": 17,
    "start_time": "2023-11-15T17:32:00.653Z"
   },
   {
    "duration": 2112,
    "start_time": "2023-11-15T17:32:00.672Z"
   },
   {
    "duration": 3,
    "start_time": "2023-11-15T17:32:02.786Z"
   },
   {
    "duration": 40,
    "start_time": "2023-11-15T17:32:02.792Z"
   },
   {
    "duration": 12,
    "start_time": "2023-11-15T17:32:02.834Z"
   },
   {
    "duration": 15,
    "start_time": "2023-11-15T17:32:02.848Z"
   },
   {
    "duration": 9,
    "start_time": "2023-11-15T17:32:02.865Z"
   },
   {
    "duration": 16,
    "start_time": "2023-11-15T17:32:02.876Z"
   },
   {
    "duration": 8,
    "start_time": "2023-11-15T17:32:02.894Z"
   },
   {
    "duration": 10,
    "start_time": "2023-11-15T17:32:02.904Z"
   },
   {
    "duration": 8,
    "start_time": "2023-11-15T17:32:02.931Z"
   },
   {
    "duration": 8,
    "start_time": "2023-11-15T17:32:02.940Z"
   },
   {
    "duration": 6,
    "start_time": "2023-11-15T17:32:02.952Z"
   },
   {
    "duration": 5,
    "start_time": "2023-11-15T17:32:02.959Z"
   },
   {
    "duration": 10,
    "start_time": "2023-11-15T17:32:02.966Z"
   },
   {
    "duration": 6,
    "start_time": "2023-11-15T17:32:02.978Z"
   },
   {
    "duration": 45,
    "start_time": "2023-11-15T17:32:02.986Z"
   },
   {
    "duration": 9,
    "start_time": "2023-11-15T17:32:03.033Z"
   },
   {
    "duration": 269,
    "start_time": "2023-11-15T17:32:03.044Z"
   },
   {
    "duration": 16,
    "start_time": "2023-11-15T17:32:03.315Z"
   },
   {
    "duration": 14,
    "start_time": "2023-11-15T17:32:03.333Z"
   },
   {
    "duration": 12,
    "start_time": "2023-11-15T17:32:03.349Z"
   },
   {
    "duration": 5,
    "start_time": "2023-11-15T17:32:03.363Z"
   },
   {
    "duration": 5,
    "start_time": "2023-11-15T17:32:03.370Z"
   },
   {
    "duration": 8,
    "start_time": "2023-11-15T17:32:03.377Z"
   },
   {
    "duration": 296,
    "start_time": "2023-11-15T17:32:03.387Z"
   },
   {
    "duration": 10,
    "start_time": "2023-11-15T17:32:03.685Z"
   },
   {
    "duration": 259,
    "start_time": "2023-11-15T17:32:03.697Z"
   },
   {
    "duration": 281,
    "start_time": "2023-11-15T17:32:03.958Z"
   },
   {
    "duration": 257,
    "start_time": "2023-11-15T17:32:04.241Z"
   },
   {
    "duration": 255,
    "start_time": "2023-11-15T17:32:04.500Z"
   },
   {
    "duration": 441,
    "start_time": "2023-11-15T17:32:04.757Z"
   },
   {
    "duration": 188,
    "start_time": "2023-11-15T17:32:05.201Z"
   },
   {
    "duration": 220,
    "start_time": "2023-11-15T17:32:05.391Z"
   },
   {
    "duration": 3,
    "start_time": "2023-11-15T17:32:05.613Z"
   },
   {
    "duration": 179,
    "start_time": "2023-11-15T17:32:05.619Z"
   },
   {
    "duration": 6,
    "start_time": "2023-11-15T17:32:05.801Z"
   },
   {
    "duration": 25,
    "start_time": "2023-11-15T17:32:05.809Z"
   },
   {
    "duration": 24,
    "start_time": "2023-11-15T17:32:05.836Z"
   },
   {
    "duration": 326,
    "start_time": "2023-11-15T17:32:05.865Z"
   },
   {
    "duration": 339,
    "start_time": "2023-11-15T17:32:06.193Z"
   },
   {
    "duration": 211,
    "start_time": "2023-11-15T17:32:06.535Z"
   },
   {
    "duration": 214,
    "start_time": "2023-11-15T17:32:06.748Z"
   },
   {
    "duration": 241,
    "start_time": "2023-11-15T17:32:06.964Z"
   },
   {
    "duration": 237,
    "start_time": "2023-11-15T17:32:07.207Z"
   },
   {
    "duration": 205,
    "start_time": "2023-11-15T17:32:07.446Z"
   },
   {
    "duration": 197,
    "start_time": "2023-11-15T17:32:07.652Z"
   },
   {
    "duration": 166,
    "start_time": "2023-11-15T17:32:07.850Z"
   },
   {
    "duration": 151,
    "start_time": "2023-11-15T17:32:08.175Z"
   },
   {
    "duration": 162,
    "start_time": "2023-11-15T17:32:08.330Z"
   },
   {
    "duration": 23,
    "start_time": "2023-11-15T17:32:08.493Z"
   },
   {
    "duration": 181,
    "start_time": "2023-11-15T17:32:08.518Z"
   },
   {
    "duration": 135,
    "start_time": "2023-11-15T17:32:08.700Z"
   },
   {
    "duration": 102,
    "start_time": "2023-11-15T17:32:10.633Z"
   },
   {
    "duration": 14,
    "start_time": "2023-11-15T17:32:10.786Z"
   },
   {
    "duration": 1863,
    "start_time": "2023-11-15T17:32:10.927Z"
   },
   {
    "duration": 4,
    "start_time": "2023-11-15T17:32:12.791Z"
   },
   {
    "duration": 22,
    "start_time": "2023-11-15T17:32:12.796Z"
   },
   {
    "duration": 13,
    "start_time": "2023-11-15T17:32:12.820Z"
   },
   {
    "duration": 15,
    "start_time": "2023-11-15T17:32:12.835Z"
   },
   {
    "duration": 8,
    "start_time": "2023-11-15T17:32:12.852Z"
   },
   {
    "duration": 7,
    "start_time": "2023-11-15T17:32:12.862Z"
   },
   {
    "duration": 7,
    "start_time": "2023-11-15T17:32:12.871Z"
   },
   {
    "duration": 11,
    "start_time": "2023-11-15T17:32:12.879Z"
   },
   {
    "duration": 41,
    "start_time": "2023-11-15T17:32:12.893Z"
   },
   {
    "duration": 8,
    "start_time": "2023-11-15T17:32:12.936Z"
   },
   {
    "duration": 7,
    "start_time": "2023-11-15T17:32:12.993Z"
   },
   {
    "duration": 5,
    "start_time": "2023-11-15T17:32:13.135Z"
   },
   {
    "duration": 7,
    "start_time": "2023-11-15T17:32:13.271Z"
   },
   {
    "duration": 5,
    "start_time": "2023-11-15T17:32:13.699Z"
   },
   {
    "duration": 5,
    "start_time": "2023-11-15T17:32:13.846Z"
   },
   {
    "duration": 9,
    "start_time": "2023-11-15T17:32:14.153Z"
   },
   {
    "duration": 258,
    "start_time": "2023-11-15T17:32:14.286Z"
   },
   {
    "duration": 8,
    "start_time": "2023-11-15T17:32:14.546Z"
   },
   {
    "duration": 13,
    "start_time": "2023-11-15T17:32:14.741Z"
   },
   {
    "duration": 7,
    "start_time": "2023-11-15T17:32:15.344Z"
   },
   {
    "duration": 7,
    "start_time": "2023-11-15T17:32:15.487Z"
   },
   {
    "duration": 7,
    "start_time": "2023-11-15T17:32:15.642Z"
   },
   {
    "duration": 6,
    "start_time": "2023-11-15T17:32:15.795Z"
   },
   {
    "duration": 270,
    "start_time": "2023-11-15T17:32:15.934Z"
   },
   {
    "duration": 7,
    "start_time": "2023-11-15T17:32:16.206Z"
   },
   {
    "duration": 185,
    "start_time": "2023-11-15T17:32:16.525Z"
   },
   {
    "duration": 214,
    "start_time": "2023-11-15T17:32:16.831Z"
   },
   {
    "duration": 354,
    "start_time": "2023-11-15T17:32:17.138Z"
   },
   {
    "duration": 268,
    "start_time": "2023-11-15T17:32:17.494Z"
   },
   {
    "duration": 319,
    "start_time": "2023-11-15T17:32:17.764Z"
   },
   {
    "duration": 172,
    "start_time": "2023-11-15T17:32:18.084Z"
   },
   {
    "duration": 174,
    "start_time": "2023-11-15T17:32:18.398Z"
   },
   {
    "duration": 4,
    "start_time": "2023-11-15T17:32:18.743Z"
   },
   {
    "duration": 142,
    "start_time": "2023-11-15T17:32:19.260Z"
   },
   {
    "duration": 5,
    "start_time": "2023-11-15T17:32:19.430Z"
   },
   {
    "duration": 5,
    "start_time": "2023-11-15T17:32:19.610Z"
   },
   {
    "duration": 14,
    "start_time": "2023-11-15T17:32:19.790Z"
   },
   {
    "duration": 301,
    "start_time": "2023-11-15T17:32:19.967Z"
   },
   {
    "duration": 296,
    "start_time": "2023-11-15T17:32:20.311Z"
   },
   {
    "duration": 186,
    "start_time": "2023-11-15T17:32:20.859Z"
   },
   {
    "duration": 203,
    "start_time": "2023-11-15T17:32:21.047Z"
   },
   {
    "duration": 107,
    "start_time": "2023-11-15T17:32:21.346Z"
   },
   {
    "duration": 202,
    "start_time": "2023-11-15T17:32:21.656Z"
   },
   {
    "duration": 214,
    "start_time": "2023-11-15T17:32:21.860Z"
   },
   {
    "duration": 175,
    "start_time": "2023-11-15T17:32:22.076Z"
   },
   {
    "duration": 338,
    "start_time": "2023-11-15T17:32:22.273Z"
   },
   {
    "duration": 156,
    "start_time": "2023-11-15T17:32:22.614Z"
   },
   {
    "duration": 140,
    "start_time": "2023-11-15T17:32:23.244Z"
   },
   {
    "duration": 159,
    "start_time": "2023-11-15T17:32:24.040Z"
   },
   {
    "duration": 6,
    "start_time": "2023-11-15T17:35:00.539Z"
   },
   {
    "duration": 8,
    "start_time": "2023-11-15T17:35:01.212Z"
   },
   {
    "duration": 7,
    "start_time": "2023-11-15T17:35:06.064Z"
   },
   {
    "duration": 5,
    "start_time": "2023-11-15T17:35:06.681Z"
   },
   {
    "duration": 8,
    "start_time": "2023-11-15T17:35:07.042Z"
   },
   {
    "duration": 100,
    "start_time": "2023-11-15T17:35:12.712Z"
   },
   {
    "duration": 14,
    "start_time": "2023-11-15T17:35:13.365Z"
   },
   {
    "duration": 1702,
    "start_time": "2023-11-15T17:35:13.533Z"
   },
   {
    "duration": 3,
    "start_time": "2023-11-15T17:35:15.237Z"
   },
   {
    "duration": 12,
    "start_time": "2023-11-15T17:35:15.242Z"
   },
   {
    "duration": 5,
    "start_time": "2023-11-15T17:35:15.255Z"
   },
   {
    "duration": 10,
    "start_time": "2023-11-15T17:35:15.261Z"
   },
   {
    "duration": 17,
    "start_time": "2023-11-15T17:35:15.272Z"
   },
   {
    "duration": 18,
    "start_time": "2023-11-15T17:35:15.290Z"
   },
   {
    "duration": 7,
    "start_time": "2023-11-15T17:35:15.392Z"
   },
   {
    "duration": 7,
    "start_time": "2023-11-15T17:35:15.568Z"
   },
   {
    "duration": 7,
    "start_time": "2023-11-15T17:35:15.748Z"
   },
   {
    "duration": 6,
    "start_time": "2023-11-15T17:35:15.933Z"
   },
   {
    "duration": 7,
    "start_time": "2023-11-15T17:35:16.131Z"
   },
   {
    "duration": 4,
    "start_time": "2023-11-15T17:35:16.317Z"
   },
   {
    "duration": 6,
    "start_time": "2023-11-15T17:35:16.497Z"
   },
   {
    "duration": 49,
    "start_time": "2023-11-16T13:19:58.071Z"
   },
   {
    "duration": 1045,
    "start_time": "2023-11-16T13:20:02.888Z"
   },
   {
    "duration": 18,
    "start_time": "2023-11-16T13:20:03.936Z"
   },
   {
    "duration": 1937,
    "start_time": "2023-11-16T13:20:03.956Z"
   },
   {
    "duration": 3,
    "start_time": "2023-11-16T13:20:05.895Z"
   },
   {
    "duration": 22,
    "start_time": "2023-11-16T13:20:05.900Z"
   },
   {
    "duration": 29,
    "start_time": "2023-11-16T13:20:05.923Z"
   },
   {
    "duration": 16,
    "start_time": "2023-11-16T13:20:05.954Z"
   },
   {
    "duration": 44,
    "start_time": "2023-11-16T13:20:05.971Z"
   },
   {
    "duration": 8,
    "start_time": "2023-11-16T13:20:06.039Z"
   },
   {
    "duration": 6,
    "start_time": "2023-11-16T13:20:06.369Z"
   },
   {
    "duration": 6,
    "start_time": "2023-11-16T13:20:06.710Z"
   },
   {
    "duration": 7,
    "start_time": "2023-11-16T13:20:06.914Z"
   },
   {
    "duration": 7,
    "start_time": "2023-11-16T13:20:07.154Z"
   },
   {
    "duration": 7,
    "start_time": "2023-11-16T13:20:07.410Z"
   },
   {
    "duration": 6,
    "start_time": "2023-11-16T13:20:07.852Z"
   },
   {
    "duration": 7,
    "start_time": "2023-11-16T13:20:08.342Z"
   },
   {
    "duration": 27,
    "start_time": "2023-11-16T13:20:09.731Z"
   },
   {
    "duration": 117,
    "start_time": "2023-11-16T13:20:25.837Z"
   },
   {
    "duration": 15,
    "start_time": "2023-11-16T13:20:26.034Z"
   },
   {
    "duration": 1986,
    "start_time": "2023-11-16T13:20:26.216Z"
   },
   {
    "duration": 3,
    "start_time": "2023-11-16T13:20:28.204Z"
   },
   {
    "duration": 29,
    "start_time": "2023-11-16T13:20:28.208Z"
   },
   {
    "duration": 6,
    "start_time": "2023-11-16T13:20:28.239Z"
   },
   {
    "duration": 10,
    "start_time": "2023-11-16T13:20:29.309Z"
   },
   {
    "duration": 28,
    "start_time": "2023-11-16T13:20:29.321Z"
   },
   {
    "duration": 48,
    "start_time": "2023-11-16T14:36:18.352Z"
   },
   {
    "duration": 982,
    "start_time": "2023-11-16T14:36:25.056Z"
   },
   {
    "duration": 18,
    "start_time": "2023-11-16T14:36:26.547Z"
   },
   {
    "duration": 1935,
    "start_time": "2023-11-16T14:36:26.958Z"
   },
   {
    "duration": 3,
    "start_time": "2023-11-16T14:36:28.896Z"
   },
   {
    "duration": 19,
    "start_time": "2023-11-16T14:36:28.901Z"
   },
   {
    "duration": 7,
    "start_time": "2023-11-16T14:36:29.073Z"
   },
   {
    "duration": 11,
    "start_time": "2023-11-16T14:36:29.754Z"
   },
   {
    "duration": 31,
    "start_time": "2023-11-16T14:36:30.002Z"
   },
   {
    "duration": 7,
    "start_time": "2023-11-16T14:36:30.453Z"
   },
   {
    "duration": 6,
    "start_time": "2023-11-16T14:36:30.677Z"
   },
   {
    "duration": 7,
    "start_time": "2023-11-16T14:36:30.906Z"
   },
   {
    "duration": 6,
    "start_time": "2023-11-16T14:36:31.131Z"
   },
   {
    "duration": 7,
    "start_time": "2023-11-16T14:36:31.354Z"
   },
   {
    "duration": 7,
    "start_time": "2023-11-16T14:36:31.563Z"
   },
   {
    "duration": 8,
    "start_time": "2023-11-16T14:36:31.782Z"
   },
   {
    "duration": 6,
    "start_time": "2023-11-16T14:36:31.991Z"
   },
   {
    "duration": 7,
    "start_time": "2023-11-16T14:36:32.214Z"
   },
   {
    "duration": 5,
    "start_time": "2023-11-16T14:36:32.953Z"
   },
   {
    "duration": 4,
    "start_time": "2023-11-16T14:36:33.136Z"
   },
   {
    "duration": 11,
    "start_time": "2023-11-16T14:36:33.763Z"
   },
   {
    "duration": 305,
    "start_time": "2023-11-16T14:36:33.966Z"
   },
   {
    "duration": 8,
    "start_time": "2023-11-16T14:36:34.273Z"
   },
   {
    "duration": 13,
    "start_time": "2023-11-16T14:36:34.564Z"
   },
   {
    "duration": 7,
    "start_time": "2023-11-16T14:36:35.372Z"
   },
   {
    "duration": 5,
    "start_time": "2023-11-16T14:36:35.572Z"
   },
   {
    "duration": 6,
    "start_time": "2023-11-16T14:36:35.770Z"
   },
   {
    "duration": 6,
    "start_time": "2023-11-16T14:36:35.974Z"
   },
   {
    "duration": 317,
    "start_time": "2023-11-16T14:36:36.182Z"
   },
   {
    "duration": 15,
    "start_time": "2023-11-16T14:36:36.500Z"
   },
   {
    "duration": 112,
    "start_time": "2023-11-16T14:41:09.989Z"
   },
   {
    "duration": 107,
    "start_time": "2023-11-16T14:44:26.842Z"
   },
   {
    "duration": 15,
    "start_time": "2023-11-16T14:44:26.951Z"
   },
   {
    "duration": 2016,
    "start_time": "2023-11-16T14:44:26.968Z"
   },
   {
    "duration": 3,
    "start_time": "2023-11-16T14:44:28.986Z"
   },
   {
    "duration": 23,
    "start_time": "2023-11-16T14:44:29.000Z"
   },
   {
    "duration": 8,
    "start_time": "2023-11-16T14:44:29.025Z"
   },
   {
    "duration": 21,
    "start_time": "2023-11-16T14:44:29.035Z"
   },
   {
    "duration": 41,
    "start_time": "2023-11-16T14:44:29.058Z"
   },
   {
    "duration": 5,
    "start_time": "2023-11-16T14:44:29.101Z"
   },
   {
    "duration": 18,
    "start_time": "2023-11-16T14:44:29.109Z"
   },
   {
    "duration": 23,
    "start_time": "2023-11-16T14:44:29.129Z"
   },
   {
    "duration": 290,
    "start_time": "2023-11-16T14:44:29.154Z"
   },
   {
    "duration": 8,
    "start_time": "2023-11-16T14:44:29.446Z"
   },
   {
    "duration": 110,
    "start_time": "2023-11-16T14:44:29.456Z"
   },
   {
    "duration": 7,
    "start_time": "2023-11-16T14:44:29.569Z"
   },
   {
    "duration": 22,
    "start_time": "2023-11-16T14:44:29.577Z"
   },
   {
    "duration": 6,
    "start_time": "2023-11-16T14:44:29.600Z"
   },
   {
    "duration": 11,
    "start_time": "2023-11-16T14:44:29.608Z"
   },
   {
    "duration": 337,
    "start_time": "2023-11-16T14:44:29.621Z"
   },
   {
    "duration": 23,
    "start_time": "2023-11-16T14:44:29.960Z"
   },
   {
    "duration": 229,
    "start_time": "2023-11-16T14:44:29.985Z"
   },
   {
    "duration": 238,
    "start_time": "2023-11-16T14:44:30.216Z"
   },
   {
    "duration": 239,
    "start_time": "2023-11-16T14:44:30.456Z"
   },
   {
    "duration": 254,
    "start_time": "2023-11-16T14:44:30.699Z"
   },
   {
    "duration": 349,
    "start_time": "2023-11-16T14:44:30.954Z"
   },
   {
    "duration": 177,
    "start_time": "2023-11-16T14:44:31.305Z"
   },
   {
    "duration": 306,
    "start_time": "2023-11-16T14:44:31.484Z"
   },
   {
    "duration": 8,
    "start_time": "2023-11-16T14:44:31.793Z"
   },
   {
    "duration": 197,
    "start_time": "2023-11-16T14:44:31.802Z"
   },
   {
    "duration": 6,
    "start_time": "2023-11-16T14:44:32.000Z"
   },
   {
    "duration": 31,
    "start_time": "2023-11-16T14:44:32.007Z"
   },
   {
    "duration": 36,
    "start_time": "2023-11-16T14:44:32.040Z"
   },
   {
    "duration": 432,
    "start_time": "2023-11-16T14:44:32.078Z"
   },
   {
    "duration": 325,
    "start_time": "2023-11-16T14:44:32.511Z"
   },
   {
    "duration": 231,
    "start_time": "2023-11-16T14:44:32.838Z"
   },
   {
    "duration": 246,
    "start_time": "2023-11-16T14:44:33.071Z"
   },
   {
    "duration": 139,
    "start_time": "2023-11-16T14:44:33.319Z"
   },
   {
    "duration": 264,
    "start_time": "2023-11-16T14:44:33.460Z"
   },
   {
    "duration": 223,
    "start_time": "2023-11-16T14:44:33.726Z"
   },
   {
    "duration": 183,
    "start_time": "2023-11-16T14:44:33.951Z"
   },
   {
    "duration": 219,
    "start_time": "2023-11-16T14:44:34.136Z"
   },
   {
    "duration": 303,
    "start_time": "2023-11-16T14:44:34.357Z"
   },
   {
    "duration": 170,
    "start_time": "2023-11-16T14:44:34.663Z"
   },
   {
    "duration": 186,
    "start_time": "2023-11-16T14:44:34.836Z"
   },
   {
    "duration": 24,
    "start_time": "2023-11-16T14:44:35.023Z"
   },
   {
    "duration": 200,
    "start_time": "2023-11-16T14:44:35.048Z"
   },
   {
    "duration": 9,
    "start_time": "2023-11-16T14:44:35.251Z"
   },
   {
    "duration": 14,
    "start_time": "2023-11-16T14:44:37.041Z"
   },
   {
    "duration": 11,
    "start_time": "2023-11-16T14:44:37.697Z"
   },
   {
    "duration": 5,
    "start_time": "2023-11-16T14:44:37.872Z"
   },
   {
    "duration": 6,
    "start_time": "2023-11-16T14:44:38.045Z"
   },
   {
    "duration": 5,
    "start_time": "2023-11-16T14:44:38.243Z"
   },
   {
    "duration": 336,
    "start_time": "2023-11-16T14:44:38.691Z"
   },
   {
    "duration": 25,
    "start_time": "2023-11-16T14:44:39.295Z"
   },
   {
    "duration": 223,
    "start_time": "2023-11-16T14:44:41.009Z"
   },
   {
    "duration": 281,
    "start_time": "2023-11-16T14:44:42.204Z"
   },
   {
    "duration": 264,
    "start_time": "2023-11-16T14:44:43.250Z"
   },
   {
    "duration": 252,
    "start_time": "2023-11-16T14:44:43.722Z"
   },
   {
    "duration": 511,
    "start_time": "2023-11-16T14:44:44.174Z"
   },
   {
    "duration": 221,
    "start_time": "2023-11-16T14:44:44.688Z"
   },
   {
    "duration": 222,
    "start_time": "2023-11-16T14:44:45.118Z"
   },
   {
    "duration": 4,
    "start_time": "2023-11-16T14:44:45.918Z"
   },
   {
    "duration": 179,
    "start_time": "2023-11-16T14:44:46.844Z"
   },
   {
    "duration": 6,
    "start_time": "2023-11-16T14:44:47.067Z"
   },
   {
    "duration": 6,
    "start_time": "2023-11-16T14:44:47.310Z"
   },
   {
    "duration": 13,
    "start_time": "2023-11-16T14:44:47.526Z"
   },
   {
    "duration": 365,
    "start_time": "2023-11-16T14:44:47.745Z"
   },
   {
    "duration": 349,
    "start_time": "2023-11-16T14:44:48.214Z"
   },
   {
    "duration": 215,
    "start_time": "2023-11-16T14:44:49.715Z"
   },
   {
    "duration": 234,
    "start_time": "2023-11-16T14:44:49.932Z"
   },
   {
    "duration": 134,
    "start_time": "2023-11-16T14:44:50.691Z"
   },
   {
    "duration": 234,
    "start_time": "2023-11-16T14:44:51.215Z"
   },
   {
    "duration": 229,
    "start_time": "2023-11-16T14:44:51.451Z"
   },
   {
    "duration": 190,
    "start_time": "2023-11-16T14:44:51.682Z"
   },
   {
    "duration": 313,
    "start_time": "2023-11-16T14:44:51.975Z"
   },
   {
    "duration": 154,
    "start_time": "2023-11-16T14:44:52.571Z"
   },
   {
    "duration": 169,
    "start_time": "2023-11-16T14:44:52.968Z"
   },
   {
    "duration": 213,
    "start_time": "2023-11-16T14:44:53.356Z"
   },
   {
    "duration": 26,
    "start_time": "2023-11-16T14:44:53.732Z"
   },
   {
    "duration": 191,
    "start_time": "2023-11-16T14:44:54.151Z"
   },
   {
    "duration": 307,
    "start_time": "2023-11-16T14:48:49.826Z"
   },
   {
    "duration": 307,
    "start_time": "2023-11-16T14:48:59.392Z"
   },
   {
    "duration": 313,
    "start_time": "2023-11-16T14:49:04.588Z"
   },
   {
    "duration": 322,
    "start_time": "2023-11-16T14:49:07.640Z"
   },
   {
    "duration": 310,
    "start_time": "2023-11-16T14:49:10.560Z"
   },
   {
    "duration": 472,
    "start_time": "2023-11-16T14:49:16.579Z"
   },
   {
    "duration": 292,
    "start_time": "2023-11-16T14:49:20.214Z"
   },
   {
    "duration": 303,
    "start_time": "2023-11-16T14:49:23.467Z"
   },
   {
    "duration": 308,
    "start_time": "2023-11-16T14:49:28.942Z"
   },
   {
    "duration": 305,
    "start_time": "2023-11-16T14:49:32.788Z"
   },
   {
    "duration": 299,
    "start_time": "2023-11-16T14:49:36.011Z"
   },
   {
    "duration": 453,
    "start_time": "2023-11-16T14:49:39.118Z"
   },
   {
    "duration": 299,
    "start_time": "2023-11-16T14:49:42.689Z"
   },
   {
    "duration": 310,
    "start_time": "2023-11-16T14:49:45.714Z"
   },
   {
    "duration": 317,
    "start_time": "2023-11-16T14:50:14.157Z"
   },
   {
    "duration": 294,
    "start_time": "2023-11-16T14:50:18.525Z"
   },
   {
    "duration": 307,
    "start_time": "2023-11-16T14:50:20.785Z"
   },
   {
    "duration": 299,
    "start_time": "2023-11-16T14:50:24.787Z"
   },
   {
    "duration": 477,
    "start_time": "2023-11-16T14:50:27.614Z"
   },
   {
    "duration": 321,
    "start_time": "2023-11-16T14:50:31.213Z"
   },
   {
    "duration": 433,
    "start_time": "2023-11-16T14:50:39.314Z"
   },
   {
    "duration": 226,
    "start_time": "2023-11-16T14:50:47.530Z"
   },
   {
    "duration": 279,
    "start_time": "2023-11-16T14:50:55.451Z"
   },
   {
    "duration": 244,
    "start_time": "2023-11-16T14:50:58.947Z"
   },
   {
    "duration": 262,
    "start_time": "2023-11-16T14:51:01.858Z"
   },
   {
    "duration": 430,
    "start_time": "2023-11-16T14:51:04.901Z"
   },
   {
    "duration": 240,
    "start_time": "2023-11-16T14:51:08.188Z"
   },
   {
    "duration": 265,
    "start_time": "2023-11-16T14:51:11.819Z"
   },
   {
    "duration": 264,
    "start_time": "2023-11-16T14:51:15.279Z"
   },
   {
    "duration": 238,
    "start_time": "2023-11-16T14:51:18.061Z"
   },
   {
    "duration": 229,
    "start_time": "2023-11-16T14:51:20.153Z"
   },
   {
    "duration": 218,
    "start_time": "2023-11-16T14:51:28.451Z"
   },
   {
    "duration": 232,
    "start_time": "2023-11-16T14:51:47.512Z"
   },
   {
    "duration": 242,
    "start_time": "2023-11-16T14:52:14.825Z"
   },
   {
    "duration": 248,
    "start_time": "2023-11-16T14:52:52.105Z"
   },
   {
    "duration": 419,
    "start_time": "2023-11-16T14:53:12.121Z"
   },
   {
    "duration": 213,
    "start_time": "2023-11-16T14:53:19.259Z"
   },
   {
    "duration": 216,
    "start_time": "2023-11-16T14:53:26.502Z"
   },
   {
    "duration": 243,
    "start_time": "2023-11-16T14:53:34.989Z"
   },
   {
    "duration": 237,
    "start_time": "2023-11-16T14:53:38.816Z"
   },
   {
    "duration": 243,
    "start_time": "2023-11-16T14:53:44.164Z"
   },
   {
    "duration": 240,
    "start_time": "2023-11-16T14:53:46.759Z"
   },
   {
    "duration": 236,
    "start_time": "2023-11-16T14:53:49.406Z"
   },
   {
    "duration": 231,
    "start_time": "2023-11-16T14:53:54.870Z"
   },
   {
    "duration": 236,
    "start_time": "2023-11-16T14:55:11.134Z"
   },
   {
    "duration": 449,
    "start_time": "2023-11-16T14:55:24.755Z"
   },
   {
    "duration": 259,
    "start_time": "2023-11-16T14:55:29.707Z"
   },
   {
    "duration": 239,
    "start_time": "2023-11-16T14:55:35.895Z"
   },
   {
    "duration": 242,
    "start_time": "2023-11-16T14:55:44.508Z"
   },
   {
    "duration": 255,
    "start_time": "2023-11-16T14:55:47.999Z"
   },
   {
    "duration": 233,
    "start_time": "2023-11-16T14:55:51.317Z"
   },
   {
    "duration": 238,
    "start_time": "2023-11-16T14:55:55.590Z"
   },
   {
    "duration": 233,
    "start_time": "2023-11-16T14:56:06.441Z"
   },
   {
    "duration": 229,
    "start_time": "2023-11-16T14:56:26.759Z"
   },
   {
    "duration": 261,
    "start_time": "2023-11-16T14:56:34.983Z"
   },
   {
    "duration": 405,
    "start_time": "2023-11-16T14:56:46.153Z"
   },
   {
    "duration": 304,
    "start_time": "2023-11-16T14:56:48.743Z"
   },
   {
    "duration": 237,
    "start_time": "2023-11-16T14:56:51.750Z"
   },
   {
    "duration": 229,
    "start_time": "2023-11-16T14:57:59.232Z"
   },
   {
    "duration": 249,
    "start_time": "2023-11-16T14:58:04.061Z"
   },
   {
    "duration": 246,
    "start_time": "2023-11-16T14:58:12.627Z"
   },
   {
    "duration": 252,
    "start_time": "2023-11-16T14:58:17.596Z"
   },
   {
    "duration": 237,
    "start_time": "2023-11-16T14:58:22.250Z"
   },
   {
    "duration": 253,
    "start_time": "2023-11-16T14:58:25.360Z"
   },
   {
    "duration": 403,
    "start_time": "2023-11-16T14:58:27.929Z"
   },
   {
    "duration": 235,
    "start_time": "2023-11-16T14:58:36.812Z"
   },
   {
    "duration": 276,
    "start_time": "2023-11-16T14:58:52.654Z"
   },
   {
    "duration": 255,
    "start_time": "2023-11-16T14:58:56.369Z"
   },
   {
    "duration": 246,
    "start_time": "2023-11-16T14:59:12.993Z"
   },
   {
    "duration": 216,
    "start_time": "2023-11-16T14:59:24.712Z"
   },
   {
    "duration": 243,
    "start_time": "2023-11-16T14:59:32.749Z"
   },
   {
    "duration": 246,
    "start_time": "2023-11-16T15:00:11.854Z"
   },
   {
    "duration": 307,
    "start_time": "2023-11-16T15:01:01.143Z"
   },
   {
    "duration": 198,
    "start_time": "2023-11-16T15:05:26.317Z"
   },
   {
    "duration": 381,
    "start_time": "2023-11-16T15:07:53.545Z"
   },
   {
    "duration": 154,
    "start_time": "2023-11-16T15:09:31.103Z"
   },
   {
    "duration": 143,
    "start_time": "2023-11-16T15:11:27.484Z"
   },
   {
    "duration": 109,
    "start_time": "2023-11-16T15:12:14.330Z"
   },
   {
    "duration": 175,
    "start_time": "2023-11-16T15:12:47.652Z"
   },
   {
    "duration": 150,
    "start_time": "2023-11-16T15:16:46.123Z"
   },
   {
    "duration": 155,
    "start_time": "2023-11-16T15:20:12.887Z"
   },
   {
    "duration": 162,
    "start_time": "2023-11-16T15:20:25.480Z"
   },
   {
    "duration": 126,
    "start_time": "2023-11-16T15:26:33.355Z"
   },
   {
    "duration": 175,
    "start_time": "2023-11-16T15:35:01.962Z"
   },
   {
    "duration": 147,
    "start_time": "2023-11-16T15:38:09.971Z"
   },
   {
    "duration": 433,
    "start_time": "2023-11-16T15:40:03.170Z"
   },
   {
    "duration": 30,
    "start_time": "2023-11-16T15:46:27.231Z"
   },
   {
    "duration": 28,
    "start_time": "2023-11-16T15:47:30.529Z"
   },
   {
    "duration": 27,
    "start_time": "2023-11-16T15:47:34.505Z"
   },
   {
    "duration": 192,
    "start_time": "2023-11-16T15:47:42.818Z"
   },
   {
    "duration": 28,
    "start_time": "2023-11-16T15:47:46.249Z"
   },
   {
    "duration": 18,
    "start_time": "2023-11-16T15:47:59.397Z"
   },
   {
    "duration": 12,
    "start_time": "2023-11-16T15:49:03.745Z"
   },
   {
    "duration": 115,
    "start_time": "2023-11-16T15:49:18.087Z"
   },
   {
    "duration": 117,
    "start_time": "2023-11-16T15:49:43.961Z"
   },
   {
    "duration": 220,
    "start_time": "2023-11-16T15:51:35.189Z"
   },
   {
    "duration": 105,
    "start_time": "2023-11-16T15:51:50.565Z"
   },
   {
    "duration": 122,
    "start_time": "2023-11-16T15:51:54.989Z"
   },
   {
    "duration": 184,
    "start_time": "2023-11-16T15:51:59.223Z"
   },
   {
    "duration": 189,
    "start_time": "2023-11-16T15:53:07.125Z"
   },
   {
    "duration": 8,
    "start_time": "2023-11-16T15:54:59.364Z"
   },
   {
    "duration": 208,
    "start_time": "2023-11-16T15:55:06.136Z"
   },
   {
    "duration": 238,
    "start_time": "2023-11-16T15:55:30.546Z"
   },
   {
    "duration": 278,
    "start_time": "2023-11-16T15:55:47.469Z"
   },
   {
    "duration": 267,
    "start_time": "2023-11-16T15:57:25.481Z"
   },
   {
    "duration": 44,
    "start_time": "2023-11-16T15:58:10.103Z"
   },
   {
    "duration": 45,
    "start_time": "2023-11-16T15:58:41.806Z"
   },
   {
    "duration": 43,
    "start_time": "2023-11-16T15:59:53.238Z"
   },
   {
    "duration": 45,
    "start_time": "2023-11-16T16:00:58.949Z"
   },
   {
    "duration": 43,
    "start_time": "2023-11-16T16:01:08.871Z"
   },
   {
    "duration": 187,
    "start_time": "2023-11-16T16:01:11.758Z"
   },
   {
    "duration": 46,
    "start_time": "2023-11-16T16:01:13.471Z"
   },
   {
    "duration": 44,
    "start_time": "2023-11-16T16:01:36.841Z"
   },
   {
    "duration": 147,
    "start_time": "2023-11-16T16:02:28.209Z"
   },
   {
    "duration": 147,
    "start_time": "2023-11-16T16:02:39.120Z"
   },
   {
    "duration": 938,
    "start_time": "2023-11-16T16:05:58.373Z"
   },
   {
    "duration": 1076,
    "start_time": "2023-11-16T16:07:34.405Z"
   },
   {
    "duration": 161,
    "start_time": "2023-11-16T16:10:45.893Z"
   },
   {
    "duration": 29,
    "start_time": "2023-11-16T16:11:11.099Z"
   },
   {
    "duration": 15,
    "start_time": "2023-11-16T16:11:20.074Z"
   },
   {
    "duration": 22,
    "start_time": "2023-11-16T16:11:35.298Z"
   },
   {
    "duration": 144,
    "start_time": "2023-11-16T16:11:46.773Z"
   },
   {
    "duration": 445,
    "start_time": "2023-11-16T16:14:52.624Z"
   },
   {
    "duration": 210,
    "start_time": "2023-11-16T16:14:55.531Z"
   },
   {
    "duration": 198,
    "start_time": "2023-11-16T16:14:55.769Z"
   },
   {
    "duration": 161,
    "start_time": "2023-11-16T16:14:57.601Z"
   },
   {
    "duration": 152,
    "start_time": "2023-11-16T16:15:06.509Z"
   },
   {
    "duration": 149,
    "start_time": "2023-11-16T16:15:29.216Z"
   },
   {
    "duration": 27,
    "start_time": "2023-11-16T19:34:36.734Z"
   },
   {
    "duration": 975,
    "start_time": "2023-12-04T17:24:52.591Z"
   },
   {
    "duration": 18,
    "start_time": "2023-12-04T17:24:53.568Z"
   },
   {
    "duration": 2085,
    "start_time": "2023-12-04T17:24:53.587Z"
   },
   {
    "duration": 4,
    "start_time": "2023-12-04T17:24:55.674Z"
   },
   {
    "duration": 9,
    "start_time": "2023-12-04T17:24:55.681Z"
   },
   {
    "duration": 6,
    "start_time": "2023-12-04T17:24:55.692Z"
   },
   {
    "duration": 16,
    "start_time": "2023-12-04T17:24:55.700Z"
   },
   {
    "duration": 55,
    "start_time": "2023-12-04T17:24:55.717Z"
   },
   {
    "duration": 5,
    "start_time": "2023-12-04T17:24:55.774Z"
   },
   {
    "duration": 14,
    "start_time": "2023-12-04T17:24:55.780Z"
   },
   {
    "duration": 12,
    "start_time": "2023-12-04T17:24:55.795Z"
   },
   {
    "duration": 285,
    "start_time": "2023-12-04T17:24:55.808Z"
   },
   {
    "duration": 8,
    "start_time": "2023-12-04T17:24:56.095Z"
   },
   {
    "duration": 26,
    "start_time": "2023-12-04T17:24:56.105Z"
   },
   {
    "duration": 25,
    "start_time": "2023-12-04T17:24:56.133Z"
   },
   {
    "duration": 26,
    "start_time": "2023-12-04T17:24:56.171Z"
   },
   {
    "duration": 14,
    "start_time": "2023-12-04T17:24:56.199Z"
   },
   {
    "duration": 25,
    "start_time": "2023-12-04T17:24:56.215Z"
   },
   {
    "duration": 348,
    "start_time": "2023-12-04T17:24:56.241Z"
   },
   {
    "duration": 15,
    "start_time": "2023-12-04T17:24:56.591Z"
   },
   {
    "duration": 24,
    "start_time": "2023-12-04T17:24:56.608Z"
   },
   {
    "duration": 287,
    "start_time": "2023-12-04T17:24:56.633Z"
   },
   {
    "duration": 259,
    "start_time": "2023-12-04T17:24:56.922Z"
   },
   {
    "duration": 234,
    "start_time": "2023-12-04T17:24:57.182Z"
   },
   {
    "duration": 255,
    "start_time": "2023-12-04T17:24:57.417Z"
   },
   {
    "duration": 336,
    "start_time": "2023-12-04T17:24:57.674Z"
   },
   {
    "duration": 186,
    "start_time": "2023-12-04T17:24:58.012Z"
   },
   {
    "duration": 208,
    "start_time": "2023-12-04T17:24:58.200Z"
   },
   {
    "duration": 11,
    "start_time": "2023-12-04T17:24:58.410Z"
   },
   {
    "duration": 188,
    "start_time": "2023-12-04T17:24:58.423Z"
   },
   {
    "duration": 5,
    "start_time": "2023-12-04T17:24:58.613Z"
   },
   {
    "duration": 4,
    "start_time": "2023-12-04T17:24:58.619Z"
   },
   {
    "duration": 14,
    "start_time": "2023-12-04T17:24:58.625Z"
   },
   {
    "duration": 430,
    "start_time": "2023-12-04T17:24:58.641Z"
   },
   {
    "duration": 248,
    "start_time": "2023-12-04T17:24:59.073Z"
   },
   {
    "duration": 228,
    "start_time": "2023-12-04T17:24:59.323Z"
   },
   {
    "duration": 224,
    "start_time": "2023-12-04T17:24:59.553Z"
   },
   {
    "duration": 170,
    "start_time": "2023-12-04T17:24:59.778Z"
   },
   {
    "duration": 241,
    "start_time": "2023-12-04T17:24:59.949Z"
   },
   {
    "duration": 228,
    "start_time": "2023-12-04T17:25:00.192Z"
   },
   {
    "duration": 215,
    "start_time": "2023-12-04T17:25:00.424Z"
   },
   {
    "duration": 225,
    "start_time": "2023-12-04T17:25:00.641Z"
   },
   {
    "duration": 248,
    "start_time": "2023-12-04T17:25:00.868Z"
   },
   {
    "duration": 197,
    "start_time": "2023-12-04T17:25:01.117Z"
   },
   {
    "duration": 174,
    "start_time": "2023-12-04T17:25:01.315Z"
   },
   {
    "duration": 198,
    "start_time": "2023-12-04T17:25:01.492Z"
   },
   {
    "duration": 181,
    "start_time": "2023-12-04T17:25:01.692Z"
   },
   {
    "duration": 156,
    "start_time": "2023-12-04T17:25:01.875Z"
   },
   {
    "duration": 166,
    "start_time": "2023-12-04T17:25:02.033Z"
   },
   {
    "duration": 171,
    "start_time": "2023-12-04T17:25:02.201Z"
   },
   {
    "duration": 166,
    "start_time": "2023-12-04T17:25:02.374Z"
   },
   {
    "duration": 174,
    "start_time": "2023-12-04T17:25:02.541Z"
   },
   {
    "duration": 23,
    "start_time": "2023-12-04T17:25:02.717Z"
   },
   {
    "duration": 205,
    "start_time": "2023-12-04T17:25:02.741Z"
   },
   {
    "duration": 7,
    "start_time": "2023-12-04T17:25:10.375Z"
   },
   {
    "duration": 7,
    "start_time": "2023-12-04T17:25:15.318Z"
   },
   {
    "duration": 100,
    "start_time": "2023-12-04T17:25:23.024Z"
   },
   {
    "duration": 7,
    "start_time": "2023-12-04T17:25:27.967Z"
   }
  ],
  "kernelspec": {
   "display_name": "Python 3 (ipykernel)",
   "language": "python",
   "name": "python3"
  },
  "language_info": {
   "codemirror_mode": {
    "name": "ipython",
    "version": 3
   },
   "file_extension": ".py",
   "mimetype": "text/x-python",
   "name": "python",
   "nbconvert_exporter": "python",
   "pygments_lexer": "ipython3",
   "version": "3.12.3"
  },
  "toc": {
   "base_numbering": 1,
   "nav_menu": {},
   "number_sections": true,
   "sideBar": true,
   "skip_h1_title": true,
   "title_cell": "Table of Contents",
   "title_sidebar": "Contents",
   "toc_cell": false,
   "toc_position": {},
   "toc_section_display": true,
   "toc_window_display": false
  }
 },
 "nbformat": 4,
 "nbformat_minor": 4
}
